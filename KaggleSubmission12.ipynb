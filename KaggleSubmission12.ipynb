{
 "metadata": {
  "name": "",
  "signature": "sha256:2ffa1bc35f0a0aa102ffc7fe810561c7e99660d5cb53df2d55fad4e4494f028b"
 },
 "nbformat": 3,
 "nbformat_minor": 0,
 "worksheets": [
  {
   "cells": [
    {
     "cell_type": "code",
     "collapsed": false,
     "input": [
      "import numpy as np\n",
      "import pandas as pd\n",
      "from ggplot import *\n",
      "import os\n",
      "from Trip import Trip\n",
      "import seaborn as sns\n",
      "import itertools\n",
      "from scipy import linalg\n",
      "import matplotlib.pyplot as plt\n",
      "import matplotlib as mpl\n",
      "from sklearn.mixture import GMM\n",
      "from sklearn.cluster import KMeans\n",
      "from scipy.stats import multivariate_normal"
     ],
     "language": "python",
     "metadata": {},
     "outputs": [],
     "prompt_number": 2
    },
    {
     "cell_type": "code",
     "collapsed": false,
     "input": [
      "driversFiles = map(int,os.listdir('/home/user1/Desktop/SharedFolder/Kaggle/DriversOriginal/'))\n",
      "randomDrivers = map(int,os.listdir('/home/user1/Desktop/SharedFolder/Kaggle/DriversOriginal/'))\n",
      "driversFiles.sort(reverse=False)"
     ],
     "language": "python",
     "metadata": {},
     "outputs": [],
     "prompt_number": 3
    },
    {
     "cell_type": "code",
     "collapsed": false,
     "input": [
      "tripFiles = range(1,201)\n",
      "selectedCols = ['v','acc','acc2']"
     ],
     "language": "python",
     "metadata": {},
     "outputs": [],
     "prompt_number": 4
    },
    {
     "cell_type": "code",
     "collapsed": false,
     "input": [
      "def GetGmm(xN):\n",
      "    n_components = [24]#range(20,25)\n",
      "    gmms = [GMM(n_components=n, covariance_type='full').fit(xN) for n in n_components]\n",
      "    BICs = [gmm.bic(xN) for gmm in gmms]\n",
      "    i_min = np.argmin(BICs)\n",
      "    clf=gmms[i_min]\n",
      "    #print '%s components - BIC %s' %(n_components[i_min],BICs[i_min])\n",
      "    #tol = np.percentile(np.exp(clf.score(xN)),10)\n",
      "    return clf"
     ],
     "language": "python",
     "metadata": {},
     "outputs": [],
     "prompt_number": 5
    },
    {
     "cell_type": "code",
     "collapsed": false,
     "input": [
      "def SaveGmm(clf):\n",
      "    cos = pd.DataFrame(np.zeros((clf.n_components,6)))\n",
      "    for i in range(clf.n_components):\n",
      "        cos.ix[i,:1] = clf.means_[i]\n",
      "        cos.ix[i,2:] = array(clf.covars_[i]).flatten()\n",
      "    return cos"
     ],
     "language": "python",
     "metadata": {},
     "outputs": [],
     "prompt_number": 6
    },
    {
     "cell_type": "code",
     "collapsed": false,
     "input": [
      "vlim=[0.01,40]\n",
      "clim=[-20,20]\n",
      "def GetFeatures(driverID,j):\n",
      "    driverDir = '/home/user1/Desktop/SharedFolder/Kaggle/DriversCleaned/'+str(driverID)\n",
      "\n",
      "    tripFiles = range(1,201)\n",
      "   \n",
      "    \n",
      "    X = pd.DataFrame(columns=selectedCols)\n",
      "    for index,tripID in enumerate(tripFiles):       \n",
      "        #print index,tripID\n",
      "        trip = Trip(driverID,tripID,pd.read_csv(driverDir+'_' + str(tripID) + '.csv'))\n",
      "        trip.getSpeed()\n",
      "        trip.getAcc()\n",
      "        #trip.getRadius()\n",
      "        #trip.getCacc()\n",
      "        trip.getFeatures()\n",
      "        \n",
      "        '''z=array(list(set(np.asarray([range(x-5,x+5) for x in (trip.features.v<vlim[0]).nonzero()[0]]).flatten())))\n",
      "        z=z[z<trip.features.shape[0]]\n",
      "        z=z[z>=0]\n",
      "        #z=array(list(set(range(trip.features.shape[0]))-set(z)))\n",
      "    \n",
      "        Xz=trip.features.loc[z]\n",
      "        Xz=Xz.reset_index(drop=True)\n",
      "\n",
      "        Xz=Xz.loc[Xz.v!=0]\n",
      "        Xz=Xz.reset_index(drop=True)\n",
      "\n",
      "        X = X.append(Xz)'''\n",
      "        X = X.append(trip.features)\n",
      "        \n",
      "    X=X.reset_index(drop=True) \n",
      "    \n",
      "    X=X[(X.v<vlim[1]) & (X.v>vlim[0])]\n",
      "    X=X[(X.acc<clim[1]) & (X.acc>clim[0])]\n",
      "    X=X.reset_index(drop=True) \n",
      "    \n",
      "    clf=GetGmm(np.asanyarray(X[['v','acc']]))\n",
      "    cos = SaveGmm(clf)\n",
      "    \n",
      "    cos.to_csv('/home/user1/Desktop/SharedFolder/Kaggle/FeaturesCleaned/GMM/All/' + str(driverID) + '.csv', index=False)\n",
      "    #del cos\n",
      "\n",
      "    return 0"
     ],
     "language": "python",
     "metadata": {},
     "outputs": [],
     "prompt_number": 7
    },
    {
     "cell_type": "code",
     "collapsed": false,
     "input": [
      "i=i+1\n",
      "r=range(num_cores*i,num_cores*i+num_cores)"
     ],
     "language": "python",
     "metadata": {},
     "outputs": [],
     "prompt_number": 66
    },
    {
     "cell_type": "code",
     "collapsed": false,
     "input": [
      "i"
     ],
     "language": "python",
     "metadata": {},
     "outputs": [
      {
       "metadata": {},
       "output_type": "pyout",
       "prompt_number": 69,
       "text": [
        "470"
       ]
      }
     ],
     "prompt_number": 69
    },
    {
     "cell_type": "code",
     "collapsed": false,
     "input": [
      "[GetFeatures(driversFiles[j],j)  for j in r]"
     ],
     "language": "python",
     "metadata": {},
     "outputs": [
      {
       "metadata": {},
       "output_type": "pyout",
       "prompt_number": 63,
       "text": [
        "[0, 0, 0, 0]"
       ]
      }
     ],
     "prompt_number": 63
    },
    {
     "cell_type": "code",
     "collapsed": false,
     "input": [
      "Parallel(n_jobs=num_cores)(delayed(MakePrediction)(driversFiles[j],j % num_cores) for j in r) "
     ],
     "language": "python",
     "metadata": {},
     "outputs": [
      {
       "metadata": {},
       "output_type": "pyout",
       "prompt_number": 68,
       "text": [
        "[0, 0, 0, 0]"
       ]
      }
     ],
     "prompt_number": 68
    },
    {
     "cell_type": "code",
     "collapsed": false,
     "input": [
      "import time\n",
      "from joblib import Parallel, delayed  \n",
      "import multiprocessing\n",
      "num_cores=multiprocessing.cpu_count()\n",
      "\n",
      "'''for driverID in driversFiles:\n",
      "    print driverID\n",
      "    MakePrediction(driverID,1)\n",
      "'''\n",
      "num_cores=4\n",
      "inputs = range(470,len(driversFiles)/num_cores)\n",
      "for i in inputs:\n",
      "    start = time.time()\n",
      "    r=range(num_cores*i,num_cores*i+num_cores)\n",
      "    Parallel(n_jobs=num_cores)(delayed(MakePrediction)(driversFiles[j],j % num_cores) for j in r) \n",
      "    #print time.time()-start "
     ],
     "language": "python",
     "metadata": {},
     "outputs": [],
     "prompt_number": 70
    },
    {
     "cell_type": "code",
     "collapsed": false,
     "input": [
      "def GetProba(drive,driverID,tripInd):\n",
      "    driverDir = '/home/user1/Desktop/SharedFolder/Kaggle/DriversCleaned/'+str(driverID)\n",
      "    df = pd.read_csv(driverDir+'_' + str(tripInd)+'.csv')\n",
      "    trip = Trip(driverID,tripInd,df)\n",
      "    trip.getSpeed()\n",
      "    trip.getAcc()\n",
      "    #trip.getRadius()\n",
      "    #trip.getCacc()\n",
      "    trip.getFeatures()\n",
      "    X=trip.features[['v','acc']]\n",
      "    \n",
      "    probas = np.zeros((X.shape[0],drive.shape[0]))\n",
      "    for i in range(drive.shape[0]):\n",
      "        probas[:,i]=multivariate_normal.pdf(X, mean=array(drive.ix[i,:2]), cov=[array(drive.ix[i,2:4]),array(drive.ix[i,4:])])\n",
      "\n",
      "    probas=np.max(probas,axis=1)\n",
      "    return probas.mean()"
     ],
     "language": "python",
     "metadata": {},
     "outputs": [],
     "prompt_number": 18
    },
    {
     "cell_type": "code",
     "collapsed": false,
     "input": [
      "from sklearn.linear_model import LogisticRegression as LR\n",
      "from sklearn.ensemble import GradientBoostingClassifier as GBC\n",
      "from sklearn.ensemble import RandomForestClassifier as RF\n",
      "from sklearn.neighbors import KNeighborsClassifier as KNN\n",
      "import EnsembleClassifier as eclf\n",
      "reload(eclf)\n",
      "\n",
      "randTrips = range(1,200)\n",
      "drivers_sampleSize=5\n",
      "trips_sampleSize=170\n",
      "\n",
      "def MakePrediction(cur_driver,tk):\n",
      "    #print cur_driver\n",
      "    drive=pd.read_csv('/home/user1/Desktop/SharedFolder/Kaggle/FeaturesCleaned/GMM/All/' + str(cur_driver) + '.csv')\n",
      "    Xpred = pd.DataFrame(np.zeros((200,1)),columns=['val'])\n",
      "    for i in range(1,201):\n",
      "        Xpred.loc[i-1]=GetProba(drive,cur_driver,i)\n",
      "    \n",
      "    if len(pd.isnull(Xpred).any(1).nonzero()[0])>0:\n",
      "        print 'error'\n",
      "    \n",
      "    cur_driver_df = pd.DataFrame(np.zeros((Xpred.shape[0],3)),columns=['driver','trip','prob'])\n",
      "    cur_driver_df.driver = cur_driver\n",
      "    cur_driver_df.trip = range(1,201)\n",
      "    \n",
      "    np.random.shuffle(randTrips)  \n",
      "    Xtrain = Xpred.loc[randTrips[:trips_sampleSize]]\n",
      "        \n",
      "    ytrain = pd.DataFrame(np.ones((trips_sampleSize,1)))\n",
      "    ytrain.ix[:] = int(1)\n",
      "    \n",
      "    np.random.shuffle(randomDrivers)           \n",
      "    for rand_driver in randomDrivers[:drivers_sampleSize]:\n",
      "        if rand_driver==cur_driver:\n",
      "            continue\n",
      "        drive=pd.read_csv('/home/user1/Desktop/SharedFolder/Kaggle/FeaturesCleaned/GMM/All/' + str(rand_driver) + '.csv')\n",
      "        D = pd.DataFrame(np.zeros((trips_sampleSize/drivers_sampleSize,1)),columns=['val'])\n",
      "        \n",
      "        np.random.shuffle(randTrips)\n",
      "        for i in range(trips_sampleSize/drivers_sampleSize):\n",
      "            D.loc[i]=GetProba(drive,rand_driver,randTrips[i])\n",
      "            \n",
      "        Xtrain=Xtrain.append(D)\n",
      "              \n",
      "        tmp = pd.DataFrame(np.zeros((trips_sampleSize/drivers_sampleSize,1)))\n",
      "        tmp.ix[:] = int(0)\n",
      "        ytrain = ytrain.append(tmp)  \n",
      "        \n",
      "        if len(pd.isnull(D).any(1).nonzero()[0])>0:\n",
      "            print 'error'\n",
      "        \n",
      "    Xtrain=Xtrain.reset_index(drop=True)\n",
      "    ytrain=ytrain.reset_index(drop=True)\n",
      "        \n",
      "    #preprocessing\n",
      "    #pca.fit(Xtrain)\n",
      "    \n",
      "    \n",
      "    #fit model  \n",
      "    #===============================================================================\n",
      "    clf = \\\n",
      "    eclf.EnsembleClassifier(\n",
      "    clfs=[\n",
      "    LR(class_weight='auto',C=0.5)\n",
      "    ,RF()\n",
      "    ,GBC()\n",
      "    ])\n",
      "    \n",
      "    tmpInd = pd.isnull(Xtrain).any(1).nonzero()[0]\n",
      "    if (len(tmpInd)>0):\n",
      "        print Xtrain.loc[tmpInd]\n",
      "    clf.fit(Xtrain,np.asarray(ytrain[0]))\n",
      "    #===============================================================================\n",
      "    cur_driver_df.prob=clf.predict_proba(Xpred)[:,1]\n",
      "    \n",
      "    cur_driver_df.to_csv('/home/user1/Desktop/SharedFolder/Kaggle/results/' + str(cur_driver) + '.csv', index=False)  \n",
      "    \n",
      "    return 0"
     ],
     "language": "python",
     "metadata": {},
     "outputs": [],
     "prompt_number": 59
    },
    {
     "cell_type": "code",
     "collapsed": false,
     "input": [
      "MakePrediction(1,1)"
     ],
     "language": "python",
     "metadata": {},
     "outputs": [
      {
       "metadata": {},
       "output_type": "pyout",
       "prompt_number": 60,
       "text": [
        "0"
       ]
      }
     ],
     "prompt_number": 60
    },
    {
     "cell_type": "code",
     "collapsed": false,
     "input": [
      "f = lambda x:  '%s_%s' % (int(x[0]),int(x[1]))\n",
      "main_df = pd.DataFrame(columns=['driver','trip','prob'])\n",
      "for iter, cur_driver in enumerate(driversFiles):\n",
      "    cur_driver_df = pd.read_csv('/home/user1/Desktop/SharedFolder/Kaggle/results/' + str(cur_driver) + '.csv')\n",
      "\n",
      "    if (cur_driver in set(main_df.driver)):\n",
      "        print 'Error'\n",
      "        break\n",
      "        \n",
      "    main_df=main_df.append(cur_driver_df)\n",
      "        \n",
      "main_df.index = range(main_df.shape[0])\n",
      "main_df['driver_trip'] = main_df.apply(f,axis=1)\n",
      "main_df[['driver_trip','prob']].to_csv('/home/user1/Desktop/SharedFolder/Kaggle/gmm.csv',  index=False)"
     ],
     "language": "python",
     "metadata": {},
     "outputs": [],
     "prompt_number": 71
    },
    {
     "cell_type": "code",
     "collapsed": false,
     "input": [
      "main_df.head()"
     ],
     "language": "python",
     "metadata": {},
     "outputs": [
      {
       "html": [
        "<div style=\"max-height:1000px;max-width:1500px;overflow:auto;\">\n",
        "<table border=\"1\" class=\"dataframe\">\n",
        "  <thead>\n",
        "    <tr style=\"text-align: right;\">\n",
        "      <th></th>\n",
        "      <th>driver</th>\n",
        "      <th>trip</th>\n",
        "      <th>prob</th>\n",
        "      <th>driver_trip</th>\n",
        "    </tr>\n",
        "  </thead>\n",
        "  <tbody>\n",
        "    <tr>\n",
        "      <th>0</th>\n",
        "      <td> 1</td>\n",
        "      <td> 1</td>\n",
        "      <td> 0.659375</td>\n",
        "      <td> 1_1</td>\n",
        "    </tr>\n",
        "    <tr>\n",
        "      <th>1</th>\n",
        "      <td> 1</td>\n",
        "      <td> 2</td>\n",
        "      <td> 0.557037</td>\n",
        "      <td> 1_2</td>\n",
        "    </tr>\n",
        "    <tr>\n",
        "      <th>2</th>\n",
        "      <td> 1</td>\n",
        "      <td> 3</td>\n",
        "      <td> 0.215594</td>\n",
        "      <td> 1_3</td>\n",
        "    </tr>\n",
        "    <tr>\n",
        "      <th>3</th>\n",
        "      <td> 1</td>\n",
        "      <td> 4</td>\n",
        "      <td> 0.630929</td>\n",
        "      <td> 1_4</td>\n",
        "    </tr>\n",
        "    <tr>\n",
        "      <th>4</th>\n",
        "      <td> 1</td>\n",
        "      <td> 5</td>\n",
        "      <td> 0.741492</td>\n",
        "      <td> 1_5</td>\n",
        "    </tr>\n",
        "  </tbody>\n",
        "</table>\n",
        "</div>"
       ],
       "metadata": {},
       "output_type": "pyout",
       "prompt_number": 72,
       "text": [
        "   driver  trip      prob driver_trip\n",
        "0       1     1  0.659375         1_1\n",
        "1       1     2  0.557037         1_2\n",
        "2       1     3  0.215594         1_3\n",
        "3       1     4  0.630929         1_4\n",
        "4       1     5  0.741492         1_5"
       ]
      }
     ],
     "prompt_number": 72
    },
    {
     "cell_type": "code",
     "collapsed": false,
     "input": [],
     "language": "python",
     "metadata": {},
     "outputs": []
    }
   ],
   "metadata": {}
  }
 ]
}