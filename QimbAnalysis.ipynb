{
 "metadata": {
  "name": "",
  "signature": "sha256:b7a583d22d0dd5eb758c2971002dd12fa86359fb67f1403b649e480a20436b9a"
 },
 "nbformat": 3,
 "nbformat_minor": 0,
 "worksheets": [
  {
   "cells": [
    {
     "cell_type": "code",
     "collapsed": false,
     "input": [
      "import qimbs \n",
      "import mmll\n",
      "import EnsembleClassifier as ec\n",
      "import mio\n",
      "\n",
      "import numpy as np\n",
      "import pandas as pd\n",
      "from ggplot import *\n",
      "\n",
      "from sklearn.svm import SVC\n",
      "from sklearn.linear_model import LogisticRegression as LR\n",
      "from sklearn.ensemble import GradientBoostingClassifier as GBC\n",
      "from sklearn.ensemble import GradientBoostingRegressor as GBR\n",
      "from sklearn.ensemble import RandomForestClassifier as RF\n",
      "\n",
      "from sklearn.base import clone"
     ],
     "language": "python",
     "metadata": {},
     "outputs": [
      {
       "output_type": "stream",
       "stream": "stderr",
       "text": [
        "/usr/local/lib/python2.7/dist-packages/scipy/spatial/__init__.py:91: RuntimeWarning: numpy.dtype size changed, may indicate binary incompatibility\n",
        "  from .qhull import *\n",
        "/usr/local/lib/python2.7/dist-packages/scipy/spatial/__init__.py:91: RuntimeWarning: numpy.ufunc size changed, may indicate binary incompatibility\n",
        "  from .qhull import *\n"
       ]
      }
     ],
     "prompt_number": 1
    },
    {
     "cell_type": "code",
     "collapsed": false,
     "input": [
      "reload(qimbs)\n",
      "reload(mmll)"
     ],
     "language": "python",
     "metadata": {},
     "outputs": [
      {
       "metadata": {},
       "output_type": "pyout",
       "prompt_number": 2,
       "text": [
        "<module 'mmll' from 'mmll.pyc'>"
       ]
      }
     ],
     "prompt_number": 2
    },
    {
     "cell_type": "code",
     "collapsed": false,
     "input": [
      "#Procees c++ created features\n",
      "f = '/home/user1/Desktop/Share2Windows/Qimb/rollBackFeatures.csv' \n",
      "                   \n",
      "data = pd.read_csv(f, low_memory=False)\n",
      "\n",
      "#imbalanceMsg = imbalanceMsg[imbalanceMsg.ImbInd!=0]\n",
      "#imbalanceMsg.index = range(imbalanceMsg.shape[0])\n",
      "\n",
      "print data.shape\n",
      "\n",
      "data.head()"
     ],
     "language": "python",
     "metadata": {},
     "outputs": [
      {
       "output_type": "stream",
       "stream": "stdout",
       "text": [
        "(307336, 75)\n"
       ]
      },
      {
       "html": [
        "<div style=\"max-height:1000px;max-width:1500px;overflow:auto;\">\n",
        "<table border=\"1\" class=\"dataframe\">\n",
        "  <thead>\n",
        "    <tr style=\"text-align: right;\">\n",
        "      <th></th>\n",
        "      <th>Date</th>\n",
        "      <th>Symbol</th>\n",
        "      <th>PrevCLC_P</th>\n",
        "      <th>PrevCLC_S</th>\n",
        "      <th>LastImbSharesTraded</th>\n",
        "      <th>AllSharesTraded</th>\n",
        "      <th>LastImbAvgTradePrice</th>\n",
        "      <th>AvgTradePrice</th>\n",
        "      <th>LastPairesS</th>\n",
        "      <th>LastImbS</th>\n",
        "      <th>...</th>\n",
        "      <th>Near16</th>\n",
        "      <th>Near17</th>\n",
        "      <th>Near18</th>\n",
        "      <th>Near19</th>\n",
        "      <th>Near20</th>\n",
        "      <th>Near21</th>\n",
        "      <th>Near22</th>\n",
        "      <th>Near23</th>\n",
        "      <th>Near24</th>\n",
        "      <th>Unnamed: 74</th>\n",
        "    </tr>\n",
        "  </thead>\n",
        "  <tbody>\n",
        "    <tr>\n",
        "      <th>0</th>\n",
        "      <td> 2014-02-13</td>\n",
        "      <td>  AAIT</td>\n",
        "      <td> 31.94</td>\n",
        "      <td>      30</td>\n",
        "      <td>   0</td>\n",
        "      <td>    0</td>\n",
        "      <td>  0.000</td>\n",
        "      <td>  0.0000</td>\n",
        "      <td>   211</td>\n",
        "      <td> 0</td>\n",
        "      <td>...</td>\n",
        "      <td> 31.53</td>\n",
        "      <td> 31.53</td>\n",
        "      <td> 31.53</td>\n",
        "      <td> 31.53</td>\n",
        "      <td> 31.53</td>\n",
        "      <td> 31.53</td>\n",
        "      <td> 31.53</td>\n",
        "      <td> 31.53</td>\n",
        "      <td> 31.53</td>\n",
        "      <td>NaN</td>\n",
        "    </tr>\n",
        "    <tr>\n",
        "      <th>1</th>\n",
        "      <td> 2014-02-13</td>\n",
        "      <td>   AAL</td>\n",
        "      <td> 34.69</td>\n",
        "      <td> 3326720</td>\n",
        "      <td> 914</td>\n",
        "      <td> 5822</td>\n",
        "      <td> 34.176</td>\n",
        "      <td> 34.1605</td>\n",
        "      <td> 63296</td>\n",
        "      <td> 0</td>\n",
        "      <td>...</td>\n",
        "      <td> 34.16</td>\n",
        "      <td> 34.16</td>\n",
        "      <td> 34.16</td>\n",
        "      <td> 34.12</td>\n",
        "      <td> 34.12</td>\n",
        "      <td> 34.12</td>\n",
        "      <td> 34.07</td>\n",
        "      <td> 34.07</td>\n",
        "      <td> 34.07</td>\n",
        "      <td>NaN</td>\n",
        "    </tr>\n",
        "    <tr>\n",
        "      <th>2</th>\n",
        "      <td> 2014-02-13</td>\n",
        "      <td> AALCP</td>\n",
        "      <td> 27.15</td>\n",
        "      <td>   17770</td>\n",
        "      <td>   0</td>\n",
        "      <td>    0</td>\n",
        "      <td>  0.000</td>\n",
        "      <td>  0.0000</td>\n",
        "      <td>   322</td>\n",
        "      <td> 0</td>\n",
        "      <td>...</td>\n",
        "      <td> 27.16</td>\n",
        "      <td> 27.16</td>\n",
        "      <td> 27.16</td>\n",
        "      <td> 27.16</td>\n",
        "      <td> 27.16</td>\n",
        "      <td> 27.16</td>\n",
        "      <td> 27.16</td>\n",
        "      <td> 27.16</td>\n",
        "      <td> 27.16</td>\n",
        "      <td>NaN</td>\n",
        "    </tr>\n",
        "    <tr>\n",
        "      <th>3</th>\n",
        "      <td> 2014-02-13</td>\n",
        "      <td>  AAOI</td>\n",
        "      <td> 12.52</td>\n",
        "      <td>   14240</td>\n",
        "      <td> 100</td>\n",
        "      <td>  100</td>\n",
        "      <td>  0.000</td>\n",
        "      <td> 12.0200</td>\n",
        "      <td>  4550</td>\n",
        "      <td> 0</td>\n",
        "      <td>...</td>\n",
        "      <td> 12.00</td>\n",
        "      <td> 12.00</td>\n",
        "      <td> 12.00</td>\n",
        "      <td> 12.00</td>\n",
        "      <td> 12.00</td>\n",
        "      <td> 12.00</td>\n",
        "      <td> 12.00</td>\n",
        "      <td> 12.00</td>\n",
        "      <td> 12.00</td>\n",
        "      <td>NaN</td>\n",
        "    </tr>\n",
        "    <tr>\n",
        "      <th>4</th>\n",
        "      <td> 2014-02-13</td>\n",
        "      <td>  AAON</td>\n",
        "      <td> 28.18</td>\n",
        "      <td>   23808</td>\n",
        "      <td>   0</td>\n",
        "      <td>    0</td>\n",
        "      <td>  0.000</td>\n",
        "      <td>  0.0000</td>\n",
        "      <td>   853</td>\n",
        "      <td> 0</td>\n",
        "      <td>...</td>\n",
        "      <td> 27.84</td>\n",
        "      <td> 27.84</td>\n",
        "      <td> 27.84</td>\n",
        "      <td> 27.84</td>\n",
        "      <td> 27.84</td>\n",
        "      <td> 27.84</td>\n",
        "      <td> 27.84</td>\n",
        "      <td> 27.84</td>\n",
        "      <td> 27.84</td>\n",
        "      <td>NaN</td>\n",
        "    </tr>\n",
        "  </tbody>\n",
        "</table>\n",
        "<p>5 rows \u00d7 75 columns</p>\n",
        "</div>"
       ],
       "metadata": {},
       "output_type": "pyout",
       "prompt_number": 3,
       "text": [
        "         Date Symbol  PrevCLC_P  PrevCLC_S  LastImbSharesTraded  \\\n",
        "0  2014-02-13   AAIT      31.94         30                    0   \n",
        "1  2014-02-13    AAL      34.69    3326720                  914   \n",
        "2  2014-02-13  AALCP      27.15      17770                    0   \n",
        "3  2014-02-13   AAOI      12.52      14240                  100   \n",
        "4  2014-02-13   AAON      28.18      23808                    0   \n",
        "\n",
        "   AllSharesTraded  LastImbAvgTradePrice  AvgTradePrice  LastPairesS  \\\n",
        "0                0                 0.000         0.0000          211   \n",
        "1             5822                34.176        34.1605        63296   \n",
        "2                0                 0.000         0.0000          322   \n",
        "3              100                 0.000        12.0200         4550   \n",
        "4                0                 0.000         0.0000          853   \n",
        "\n",
        "   LastImbS    ...     Near16  Near17  Near18  Near19  Near20  Near21  Near22  \\\n",
        "0         0    ...      31.53   31.53   31.53   31.53   31.53   31.53   31.53   \n",
        "1         0    ...      34.16   34.16   34.16   34.12   34.12   34.12   34.07   \n",
        "2         0    ...      27.16   27.16   27.16   27.16   27.16   27.16   27.16   \n",
        "3         0    ...      12.00   12.00   12.00   12.00   12.00   12.00   12.00   \n",
        "4         0    ...      27.84   27.84   27.84   27.84   27.84   27.84   27.84   \n",
        "\n",
        "   Near23  Near24  Unnamed: 74  \n",
        "0   31.53   31.53          NaN  \n",
        "1   34.07   34.07          NaN  \n",
        "2   27.16   27.16          NaN  \n",
        "3   12.00   12.00          NaN  \n",
        "4   27.84   27.84          NaN  \n",
        "\n",
        "[5 rows x 75 columns]"
       ]
      }
     ],
     "prompt_number": 3
    },
    {
     "cell_type": "code",
     "collapsed": false,
     "input": [
      "list(data.columns)"
     ],
     "language": "python",
     "metadata": {},
     "outputs": [
      {
       "metadata": {},
       "output_type": "pyout",
       "prompt_number": 25,
       "text": [
        "['Date',\n",
        " 'Symbol',\n",
        " 'PrevCLC_P',\n",
        " 'PrevCLC_S',\n",
        " 'LastImbSharesTraded',\n",
        " 'AllSharesTraded',\n",
        " 'LastImbAvgTradePrice',\n",
        " 'AvgTradePrice',\n",
        " 'LastPairesS',\n",
        " 'LastImbS',\n",
        " 'MaxImbS',\n",
        " 'MaxPairedS',\n",
        " 'OPC_P',\n",
        " 'OPC_S',\n",
        " 'OPC_Ask_P',\n",
        " 'OPC_Bid_P',\n",
        " 'OPC_Ask_S',\n",
        " 'OPC_Bid_S',\n",
        " 'LastAsk_P',\n",
        " 'LastBid_P',\n",
        " 'LastAsk_S',\n",
        " 'LastBid_S',\n",
        " 'Ask_Max',\n",
        " 'Bid_Max',\n",
        " 'Ask_Min',\n",
        " 'Bid_Min',\n",
        " 'Ref1',\n",
        " 'Ref2',\n",
        " 'Ref3',\n",
        " 'Ref4',\n",
        " 'Ref5',\n",
        " 'Ref6',\n",
        " 'Ref7',\n",
        " 'Ref8',\n",
        " 'Ref9',\n",
        " 'Ref10',\n",
        " 'Ref11',\n",
        " 'Ref12',\n",
        " 'Ref13',\n",
        " 'Ref14',\n",
        " 'Ref15',\n",
        " 'Ref16',\n",
        " 'Ref17',\n",
        " 'Ref18',\n",
        " 'Ref19',\n",
        " 'Ref20',\n",
        " 'Ref21',\n",
        " 'Ref22',\n",
        " 'Ref23',\n",
        " 'Ref24',\n",
        " 'Near1',\n",
        " 'Near2',\n",
        " 'Near3',\n",
        " 'Near4',\n",
        " 'Near5',\n",
        " 'Near6',\n",
        " 'Near7',\n",
        " 'Near8',\n",
        " 'Near9',\n",
        " 'Near10',\n",
        " 'Near11',\n",
        " 'Near12',\n",
        " 'Near13',\n",
        " 'Near14',\n",
        " 'Near15',\n",
        " 'Near16',\n",
        " 'Near17',\n",
        " 'Near18',\n",
        " 'Near19',\n",
        " 'Near20',\n",
        " 'Near21',\n",
        " 'Near22',\n",
        " 'Near23',\n",
        " 'Near24',\n",
        " 'Unnamed: 74']"
       ]
      }
     ],
     "prompt_number": 25
    },
    {
     "cell_type": "code",
     "collapsed": false,
     "input": [
      "#Creating features\n",
      "reload(qimbs)\n",
      "fdf = qimbs.create_features44(data)\n",
      "fdf.head()"
     ],
     "language": "python",
     "metadata": {},
     "outputs": [
      {
       "html": [
        "<div style=\"max-height:1000px;max-width:1500px;overflow:auto;\">\n",
        "<table border=\"1\" class=\"dataframe\">\n",
        "  <thead>\n",
        "    <tr style=\"text-align: right;\">\n",
        "      <th></th>\n",
        "      <th>Symbol</th>\n",
        "      <th>Date</th>\n",
        "      <th>OPC_P</th>\n",
        "      <th>LastRef_P</th>\n",
        "      <th>LastNear_P</th>\n",
        "      <th>OPC_Ask_P</th>\n",
        "      <th>OPC_Bid_P</th>\n",
        "      <th>Ask_Max</th>\n",
        "      <th>Bid_Max</th>\n",
        "      <th>Ask_Min</th>\n",
        "      <th>...</th>\n",
        "      <th>PrevCLC_S</th>\n",
        "      <th>LastImbSharesTraded</th>\n",
        "      <th>AllSharesTraded</th>\n",
        "      <th>MaxPairedS</th>\n",
        "      <th>v1</th>\n",
        "      <th>v2</th>\n",
        "      <th>v3</th>\n",
        "      <th>v4</th>\n",
        "      <th>v5</th>\n",
        "      <th>v6</th>\n",
        "    </tr>\n",
        "  </thead>\n",
        "  <tbody>\n",
        "    <tr>\n",
        "      <th>0</th>\n",
        "      <td>  AAIT</td>\n",
        "      <td> 2014-02-13</td>\n",
        "      <td> 31.52</td>\n",
        "      <td> 31.53</td>\n",
        "      <td> 31.53</td>\n",
        "      <td> 32.09</td>\n",
        "      <td> 30.63</td>\n",
        "      <td> 32.38</td>\n",
        "      <td> 30.63</td>\n",
        "      <td> 31.75</td>\n",
        "      <td>...</td>\n",
        "      <td>      30</td>\n",
        "      <td>   0</td>\n",
        "      <td>    0</td>\n",
        "      <td>   211</td>\n",
        "      <td> 6.806452</td>\n",
        "      <td> 0.000000</td>\n",
        "      <td> 0.000000</td>\n",
        "      <td> 0.000000</td>\n",
        "      <td> 0.000000</td>\n",
        "      <td> 0.000000</td>\n",
        "    </tr>\n",
        "    <tr>\n",
        "      <th>1</th>\n",
        "      <td>   AAL</td>\n",
        "      <td> 2014-02-13</td>\n",
        "      <td> 34.07</td>\n",
        "      <td> 34.07</td>\n",
        "      <td> 34.07</td>\n",
        "      <td> 34.08</td>\n",
        "      <td> 34.06</td>\n",
        "      <td> 34.30</td>\n",
        "      <td> 34.24</td>\n",
        "      <td> 34.08</td>\n",
        "      <td>...</td>\n",
        "      <td> 3326720</td>\n",
        "      <td> 914</td>\n",
        "      <td> 5822</td>\n",
        "      <td> 63528</td>\n",
        "      <td> 0.019027</td>\n",
        "      <td> 0.091979</td>\n",
        "      <td> 0.014440</td>\n",
        "      <td> 0.156964</td>\n",
        "      <td> 0.091643</td>\n",
        "      <td> 0.014387</td>\n",
        "    </tr>\n",
        "    <tr>\n",
        "      <th>2</th>\n",
        "      <td> AALCP</td>\n",
        "      <td> 2014-02-13</td>\n",
        "      <td> 27.15</td>\n",
        "      <td> 27.16</td>\n",
        "      <td> 27.16</td>\n",
        "      <td> 27.49</td>\n",
        "      <td> 25.01</td>\n",
        "      <td> 27.49</td>\n",
        "      <td> 27.05</td>\n",
        "      <td> 27.49</td>\n",
        "      <td>...</td>\n",
        "      <td>   17770</td>\n",
        "      <td>   0</td>\n",
        "      <td>    0</td>\n",
        "      <td>   322</td>\n",
        "      <td> 0.018119</td>\n",
        "      <td> 0.000000</td>\n",
        "      <td> 0.000000</td>\n",
        "      <td> 0.000000</td>\n",
        "      <td> 0.000000</td>\n",
        "      <td> 0.000000</td>\n",
        "    </tr>\n",
        "    <tr>\n",
        "      <th>3</th>\n",
        "      <td>  AAOI</td>\n",
        "      <td> 2014-02-13</td>\n",
        "      <td> 12.00</td>\n",
        "      <td> 12.00</td>\n",
        "      <td> 12.00</td>\n",
        "      <td> 14.78</td>\n",
        "      <td> 10.28</td>\n",
        "      <td> 14.78</td>\n",
        "      <td> 11.98</td>\n",
        "      <td> 12.00</td>\n",
        "      <td>...</td>\n",
        "      <td>   14240</td>\n",
        "      <td> 100</td>\n",
        "      <td>  100</td>\n",
        "      <td>  4550</td>\n",
        "      <td> 0.436416</td>\n",
        "      <td> 0.016088</td>\n",
        "      <td> 0.016088</td>\n",
        "      <td> 0.990099</td>\n",
        "      <td> 0.021973</td>\n",
        "      <td> 0.021973</td>\n",
        "    </tr>\n",
        "    <tr>\n",
        "      <th>4</th>\n",
        "      <td>  AAON</td>\n",
        "      <td> 2014-02-13</td>\n",
        "      <td> 27.79</td>\n",
        "      <td> 27.84</td>\n",
        "      <td> 27.84</td>\n",
        "      <td> 28.80</td>\n",
        "      <td> 26.29</td>\n",
        "      <td> 28.80</td>\n",
        "      <td> 27.49</td>\n",
        "      <td> 28.39</td>\n",
        "      <td>...</td>\n",
        "      <td>   23808</td>\n",
        "      <td>   0</td>\n",
        "      <td>    0</td>\n",
        "      <td>   853</td>\n",
        "      <td> 0.069344</td>\n",
        "      <td> 0.000000</td>\n",
        "      <td> 0.000000</td>\n",
        "      <td> 0.000000</td>\n",
        "      <td> 0.000000</td>\n",
        "      <td> 0.000000</td>\n",
        "    </tr>\n",
        "  </tbody>\n",
        "</table>\n",
        "<p>5 rows \u00d7 40 columns</p>\n",
        "</div>"
       ],
       "metadata": {},
       "output_type": "pyout",
       "prompt_number": 92,
       "text": [
        "  Symbol        Date  OPC_P  LastRef_P  LastNear_P  OPC_Ask_P  OPC_Bid_P  \\\n",
        "0   AAIT  2014-02-13  31.52      31.53       31.53      32.09      30.63   \n",
        "1    AAL  2014-02-13  34.07      34.07       34.07      34.08      34.06   \n",
        "2  AALCP  2014-02-13  27.15      27.16       27.16      27.49      25.01   \n",
        "3   AAOI  2014-02-13  12.00      12.00       12.00      14.78      10.28   \n",
        "4   AAON  2014-02-13  27.79      27.84       27.84      28.80      26.29   \n",
        "\n",
        "   Ask_Max  Bid_Max  Ask_Min   ...     PrevCLC_S  LastImbSharesTraded  \\\n",
        "0    32.38    30.63    31.75   ...            30                    0   \n",
        "1    34.30    34.24    34.08   ...       3326720                  914   \n",
        "2    27.49    27.05    27.49   ...         17770                    0   \n",
        "3    14.78    11.98    12.00   ...         14240                  100   \n",
        "4    28.80    27.49    28.39   ...         23808                    0   \n",
        "\n",
        "   AllSharesTraded  MaxPairedS        v1        v2        v3        v4  \\\n",
        "0                0         211  6.806452  0.000000  0.000000  0.000000   \n",
        "1             5822       63528  0.019027  0.091979  0.014440  0.156964   \n",
        "2                0         322  0.018119  0.000000  0.000000  0.000000   \n",
        "3              100        4550  0.436416  0.016088  0.016088  0.990099   \n",
        "4                0         853  0.069344  0.000000  0.000000  0.000000   \n",
        "\n",
        "         v5        v6  \n",
        "0  0.000000  0.000000  \n",
        "1  0.091643  0.014387  \n",
        "2  0.000000  0.000000  \n",
        "3  0.021973  0.021973  \n",
        "4  0.000000  0.000000  \n",
        "\n",
        "[5 rows x 40 columns]"
       ]
      }
     ],
     "prompt_number": 92
    },
    {
     "cell_type": "code",
     "collapsed": false,
     "input": [
      "list(fdf.columns)"
     ],
     "language": "python",
     "metadata": {},
     "outputs": [
      {
       "metadata": {},
       "output_type": "pyout",
       "prompt_number": 93,
       "text": [
        "['Symbol',\n",
        " 'Date',\n",
        " 'OPC_P',\n",
        " 'LastRef_P',\n",
        " 'LastNear_P',\n",
        " 'OPC_Ask_P',\n",
        " 'OPC_Bid_P',\n",
        " 'Ask_Max',\n",
        " 'Bid_Max',\n",
        " 'Ask_Min',\n",
        " 'Bid_Min',\n",
        " 'p1',\n",
        " 'p2',\n",
        " 'p3',\n",
        " 'p4',\n",
        " 'p5',\n",
        " 'p6',\n",
        " 'p7',\n",
        " 'p8',\n",
        " 'p9',\n",
        " 'p10',\n",
        " 'p11',\n",
        " 'p12',\n",
        " 'p13',\n",
        " 'p14',\n",
        " 'p15',\n",
        " 'p16',\n",
        " 'p17',\n",
        " 'p18',\n",
        " 'OPC_S',\n",
        " 'PrevCLC_S',\n",
        " 'LastImbSharesTraded',\n",
        " 'AllSharesTraded',\n",
        " 'MaxPairedS',\n",
        " 'v1',\n",
        " 'v2',\n",
        " 'v3',\n",
        " 'v4',\n",
        " 'v5',\n",
        " 'v6']"
       ]
      }
     ],
     "prompt_number": 93
    },
    {
     "cell_type": "code",
     "collapsed": false,
     "input": [
      "X=fdf[[\n",
      "'OPC_P',\n",
      "'LastRef_P',\n",
      "'LastNear_P',\n",
      "'p1',\n",
      " 'p2',\n",
      " 'p3',\n",
      " 'p4',\n",
      " 'p5',\n",
      " 'p6',\n",
      "'p7',\n",
      " 'p8',\n",
      " 'p9',\n",
      " 'p10',\n",
      "    'p11',\n",
      " 'p12',\n",
      " 'p13',\n",
      " 'p14',\n",
      " 'p15',\n",
      " 'p16',\n",
      " 'p17',\n",
      " 'p18',\n",
      "'OPC_S', 'PrevCLC_S', 'LastImbSharesTraded', 'AllSharesTraded','MaxPairedS','v1',\n",
      " 'v2',\n",
      " 'v3',\n",
      " 'v4',\n",
      " 'v5',\n",
      " 'v6']]"
     ],
     "language": "python",
     "metadata": {},
     "outputs": [],
     "prompt_number": 108
    },
    {
     "cell_type": "code",
     "collapsed": false,
     "input": [
      "X.describe()"
     ],
     "language": "python",
     "metadata": {},
     "outputs": [
      {
       "html": [
        "<div style=\"max-height:1000px;max-width:1500px;overflow:auto;\">\n",
        "<table border=\"1\" class=\"dataframe\">\n",
        "  <thead>\n",
        "    <tr style=\"text-align: right;\">\n",
        "      <th></th>\n",
        "      <th>OPC_P</th>\n",
        "      <th>LastRef_P</th>\n",
        "      <th>LastNear_P</th>\n",
        "      <th>p1</th>\n",
        "      <th>p2</th>\n",
        "      <th>p3</th>\n",
        "      <th>p4</th>\n",
        "      <th>p5</th>\n",
        "      <th>p6</th>\n",
        "      <th>p7</th>\n",
        "      <th>...</th>\n",
        "      <th>PrevCLC_S</th>\n",
        "      <th>LastImbSharesTraded</th>\n",
        "      <th>AllSharesTraded</th>\n",
        "      <th>MaxPairedS</th>\n",
        "      <th>v1</th>\n",
        "      <th>v2</th>\n",
        "      <th>v3</th>\n",
        "      <th>v4</th>\n",
        "      <th>v5</th>\n",
        "      <th>v6</th>\n",
        "    </tr>\n",
        "  </thead>\n",
        "  <tbody>\n",
        "    <tr>\n",
        "      <th>count</th>\n",
        "      <td> 307336.000000</td>\n",
        "      <td> 307336.000000</td>\n",
        "      <td> 307336.000000</td>\n",
        "      <td> 307336.000000</td>\n",
        "      <td> 307336.000000</td>\n",
        "      <td> 307336.000000</td>\n",
        "      <td> 307336.000000</td>\n",
        "      <td> 307336.000000</td>\n",
        "      <td> 307336.000000</td>\n",
        "      <td> 307336.000000</td>\n",
        "      <td>...</td>\n",
        "      <td> 3.073360e+05</td>\n",
        "      <td> 307336.000000</td>\n",
        "      <td>  307336.000000</td>\n",
        "      <td>   307336.000000</td>\n",
        "      <td>  307336.000000</td>\n",
        "      <td> 307336.000000</td>\n",
        "      <td> 307336.000000</td>\n",
        "      <td> 307336.000000</td>\n",
        "      <td> 307336.000000</td>\n",
        "      <td> 307336.000000</td>\n",
        "    </tr>\n",
        "    <tr>\n",
        "      <th>mean</th>\n",
        "      <td>     30.433719</td>\n",
        "      <td>     31.230601</td>\n",
        "      <td>     31.230616</td>\n",
        "      <td>     -0.796882</td>\n",
        "      <td>     -0.796897</td>\n",
        "      <td>     -0.000015</td>\n",
        "      <td>     -0.999976</td>\n",
        "      <td>     -0.999969</td>\n",
        "      <td>     -0.999993</td>\n",
        "      <td>  -1452.992965</td>\n",
        "      <td>...</td>\n",
        "      <td> 8.283795e+05</td>\n",
        "      <td>    128.264603</td>\n",
        "      <td>     575.468595</td>\n",
        "      <td>    10183.179842</td>\n",
        "      <td>       7.511459</td>\n",
        "      <td>      0.031005</td>\n",
        "      <td>      0.015055</td>\n",
        "      <td>      0.069512</td>\n",
        "      <td>      0.059086</td>\n",
        "      <td>      0.038066</td>\n",
        "    </tr>\n",
        "    <tr>\n",
        "      <th>std</th>\n",
        "      <td>    417.969915</td>\n",
        "      <td>    626.561149</td>\n",
        "      <td>    626.561163</td>\n",
        "      <td>    317.757419</td>\n",
        "      <td>    317.757418</td>\n",
        "      <td>      0.013968</td>\n",
        "      <td>      0.005737</td>\n",
        "      <td>      0.005707</td>\n",
        "      <td>      0.000669</td>\n",
        "      <td>  16374.093277</td>\n",
        "      <td>...</td>\n",
        "      <td> 3.515615e+06</td>\n",
        "      <td>   2847.754940</td>\n",
        "      <td>    9915.161573</td>\n",
        "      <td>    94075.660126</td>\n",
        "      <td>    2648.816427</td>\n",
        "      <td>      1.025932</td>\n",
        "      <td>      0.922630</td>\n",
        "      <td>      0.239329</td>\n",
        "      <td>      4.361697</td>\n",
        "      <td>      3.541297</td>\n",
        "    </tr>\n",
        "    <tr>\n",
        "      <th>min</th>\n",
        "      <td>      0.080000</td>\n",
        "      <td>      0.080000</td>\n",
        "      <td>      0.080000</td>\n",
        "      <td>-145025.300000</td>\n",
        "      <td>-145025.300000</td>\n",
        "      <td>     -2.140000</td>\n",
        "      <td>     -3.638037</td>\n",
        "      <td>     -3.638037</td>\n",
        "      <td>     -1.066434</td>\n",
        "      <td>-199998.450000</td>\n",
        "      <td>...</td>\n",
        "      <td> 0.000000e+00</td>\n",
        "      <td>      0.000000</td>\n",
        "      <td>       0.000000</td>\n",
        "      <td>        0.000000</td>\n",
        "      <td>       0.000000</td>\n",
        "      <td>      0.000000</td>\n",
        "      <td>      0.000000</td>\n",
        "      <td>      0.000000</td>\n",
        "      <td>      0.000000</td>\n",
        "      <td>      0.000000</td>\n",
        "    </tr>\n",
        "    <tr>\n",
        "      <th>25%</th>\n",
        "      <td>      8.760000</td>\n",
        "      <td>      8.750000</td>\n",
        "      <td>      8.750000</td>\n",
        "      <td>      0.000000</td>\n",
        "      <td>      0.000000</td>\n",
        "      <td>      0.000000</td>\n",
        "      <td>     -1.000000</td>\n",
        "      <td>     -1.000000</td>\n",
        "      <td>     -1.000000</td>\n",
        "      <td>     -2.330000</td>\n",
        "      <td>...</td>\n",
        "      <td> 3.997575e+04</td>\n",
        "      <td>      0.000000</td>\n",
        "      <td>       0.000000</td>\n",
        "      <td>      401.000000</td>\n",
        "      <td>       0.004767</td>\n",
        "      <td>      0.000000</td>\n",
        "      <td>      0.000000</td>\n",
        "      <td>      0.000000</td>\n",
        "      <td>      0.000000</td>\n",
        "      <td>      0.000000</td>\n",
        "    </tr>\n",
        "    <tr>\n",
        "      <th>50%</th>\n",
        "      <td>     18.130000</td>\n",
        "      <td>     18.130000</td>\n",
        "      <td>     18.130000</td>\n",
        "      <td>      0.000000</td>\n",
        "      <td>      0.000000</td>\n",
        "      <td>      0.000000</td>\n",
        "      <td>     -1.000000</td>\n",
        "      <td>     -1.000000</td>\n",
        "      <td>     -1.000000</td>\n",
        "      <td>     -0.620000</td>\n",
        "      <td>...</td>\n",
        "      <td> 1.533030e+05</td>\n",
        "      <td>      0.000000</td>\n",
        "      <td>       0.000000</td>\n",
        "      <td>     1528.000000</td>\n",
        "      <td>       0.009850</td>\n",
        "      <td>      0.000000</td>\n",
        "      <td>      0.000000</td>\n",
        "      <td>      0.000000</td>\n",
        "      <td>      0.000000</td>\n",
        "      <td>      0.000000</td>\n",
        "    </tr>\n",
        "    <tr>\n",
        "      <th>75%</th>\n",
        "      <td>     35.190000</td>\n",
        "      <td>     35.190000</td>\n",
        "      <td>     35.192500</td>\n",
        "      <td>      0.000000</td>\n",
        "      <td>      0.000000</td>\n",
        "      <td>      0.000000</td>\n",
        "      <td>     -1.000000</td>\n",
        "      <td>     -1.000000</td>\n",
        "      <td>     -1.000000</td>\n",
        "      <td>     -0.140000</td>\n",
        "      <td>...</td>\n",
        "      <td> 5.175962e+05</td>\n",
        "      <td>      0.000000</td>\n",
        "      <td>       0.000000</td>\n",
        "      <td>     5400.000000</td>\n",
        "      <td>       0.021979</td>\n",
        "      <td>      0.000000</td>\n",
        "      <td>      0.000000</td>\n",
        "      <td>      0.000000</td>\n",
        "      <td>      0.000000</td>\n",
        "      <td>      0.000000</td>\n",
        "    </tr>\n",
        "    <tr>\n",
        "      <th>max</th>\n",
        "      <td> 200000.000000</td>\n",
        "      <td> 200000.000000</td>\n",
        "      <td> 200000.000000</td>\n",
        "      <td>     11.460000</td>\n",
        "      <td>     11.460000</td>\n",
        "      <td>      1.450000</td>\n",
        "      <td>     -0.272381</td>\n",
        "      <td>     -0.272381</td>\n",
        "      <td>     -0.930000</td>\n",
        "      <td>      3.200000</td>\n",
        "      <td>...</td>\n",
        "      <td> 2.999610e+08</td>\n",
        "      <td> 726371.000000</td>\n",
        "      <td> 1498020.000000</td>\n",
        "      <td> 16102800.000000</td>\n",
        "      <td> 1440200.000000</td>\n",
        "      <td>    250.000000</td>\n",
        "      <td>    250.000000</td>\n",
        "      <td>      0.999990</td>\n",
        "      <td>   1374.000000</td>\n",
        "      <td>   1200.000000</td>\n",
        "    </tr>\n",
        "  </tbody>\n",
        "</table>\n",
        "<p>8 rows \u00d7 32 columns</p>\n",
        "</div>"
       ],
       "metadata": {},
       "output_type": "pyout",
       "prompt_number": 109,
       "text": [
        "               OPC_P      LastRef_P     LastNear_P             p1  \\\n",
        "count  307336.000000  307336.000000  307336.000000  307336.000000   \n",
        "mean       30.433719      31.230601      31.230616      -0.796882   \n",
        "std       417.969915     626.561149     626.561163     317.757419   \n",
        "min         0.080000       0.080000       0.080000 -145025.300000   \n",
        "25%         8.760000       8.750000       8.750000       0.000000   \n",
        "50%        18.130000      18.130000      18.130000       0.000000   \n",
        "75%        35.190000      35.190000      35.192500       0.000000   \n",
        "max    200000.000000  200000.000000  200000.000000      11.460000   \n",
        "\n",
        "                  p2             p3             p4             p5  \\\n",
        "count  307336.000000  307336.000000  307336.000000  307336.000000   \n",
        "mean       -0.796897      -0.000015      -0.999976      -0.999969   \n",
        "std       317.757418       0.013968       0.005737       0.005707   \n",
        "min   -145025.300000      -2.140000      -3.638037      -3.638037   \n",
        "25%         0.000000       0.000000      -1.000000      -1.000000   \n",
        "50%         0.000000       0.000000      -1.000000      -1.000000   \n",
        "75%         0.000000       0.000000      -1.000000      -1.000000   \n",
        "max        11.460000       1.450000      -0.272381      -0.272381   \n",
        "\n",
        "                  p6             p7      ...           PrevCLC_S  \\\n",
        "count  307336.000000  307336.000000      ...        3.073360e+05   \n",
        "mean       -0.999993   -1452.992965      ...        8.283795e+05   \n",
        "std         0.000669   16374.093277      ...        3.515615e+06   \n",
        "min        -1.066434 -199998.450000      ...        0.000000e+00   \n",
        "25%        -1.000000      -2.330000      ...        3.997575e+04   \n",
        "50%        -1.000000      -0.620000      ...        1.533030e+05   \n",
        "75%        -1.000000      -0.140000      ...        5.175962e+05   \n",
        "max        -0.930000       3.200000      ...        2.999610e+08   \n",
        "\n",
        "       LastImbSharesTraded  AllSharesTraded       MaxPairedS              v1  \\\n",
        "count        307336.000000    307336.000000    307336.000000   307336.000000   \n",
        "mean            128.264603       575.468595     10183.179842        7.511459   \n",
        "std            2847.754940      9915.161573     94075.660126     2648.816427   \n",
        "min               0.000000         0.000000         0.000000        0.000000   \n",
        "25%               0.000000         0.000000       401.000000        0.004767   \n",
        "50%               0.000000         0.000000      1528.000000        0.009850   \n",
        "75%               0.000000         0.000000      5400.000000        0.021979   \n",
        "max          726371.000000   1498020.000000  16102800.000000  1440200.000000   \n",
        "\n",
        "                  v2             v3             v4             v5  \\\n",
        "count  307336.000000  307336.000000  307336.000000  307336.000000   \n",
        "mean        0.031005       0.015055       0.069512       0.059086   \n",
        "std         1.025932       0.922630       0.239329       4.361697   \n",
        "min         0.000000       0.000000       0.000000       0.000000   \n",
        "25%         0.000000       0.000000       0.000000       0.000000   \n",
        "50%         0.000000       0.000000       0.000000       0.000000   \n",
        "75%         0.000000       0.000000       0.000000       0.000000   \n",
        "max       250.000000     250.000000       0.999990    1374.000000   \n",
        "\n",
        "                  v6  \n",
        "count  307336.000000  \n",
        "mean        0.038066  \n",
        "std         3.541297  \n",
        "min         0.000000  \n",
        "25%         0.000000  \n",
        "50%         0.000000  \n",
        "75%         0.000000  \n",
        "max      1200.000000  \n",
        "\n",
        "[8 rows x 32 columns]"
       ]
      }
     ],
     "prompt_number": 109
    },
    {
     "cell_type": "code",
     "collapsed": false,
     "input": [
      "ret = 0.1\n",
      "bidUp=pd.DataFrame(np.asarray(fdf.OPC_S),columns=['val']).astype(int)\n",
      "bidUp.val = int(0) \n",
      "bidUp.val[fdf.Bid_Max-fdf.OPC_Bid_P>ret] =  int(1) \n",
      "\n",
      "bidDown=pd.DataFrame(np.asarray(fdf.OPC_S),columns=['val']).astype(int)\n",
      "bidDown.val =  int(0) \n",
      "bidDown.val[fdf.OPC_Bid_P-fdf.Bid_Min>ret] =  int(1) \n",
      "\n",
      "askUp=pd.DataFrame(np.asarray(fdf.OPC_S),columns=['val']).astype(int)\n",
      "askUp.val = int(0) \n",
      "askUp.val[fdf.Ask_Max-fdf.OPC_Ask_P>ret] =  int(1) \n",
      "\n",
      "askDown=pd.DataFrame(np.asarray(fdf.OPC_S),columns=['val']).astype(int)\n",
      "askDown.val =  int(0) \n",
      "askDown.val[fdf.OPC_Ask_P-fdf.Ask_Min>ret] =  int(1) "
     ],
     "language": "python",
     "metadata": {},
     "outputs": [],
     "prompt_number": 131
    },
    {
     "cell_type": "code",
     "collapsed": false,
     "input": [
      "ggplot(bidDown, aes('val')) + geom_histogram(binwidth=0.1,alpha=0.5, fill = 'green')+\\\n",
      "geom_histogram(askDown, aes('val'),binwidth=0.1,alpha=0.5, fill = 'red') "
     ],
     "language": "python",
     "metadata": {},
     "outputs": [
      {
       "metadata": {},
       "output_type": "display_data",
       "png": "[encoded data removed]",
       "text": [
        "<matplotlib.figure.Figure at 0x17f77c90>"
       ]
      },
      {
       "metadata": {},
       "output_type": "pyout",
       "prompt_number": 132,
       "text": [
        "<ggplot: (8993777)>"
       ]
      }
     ],
     "prompt_number": 132
    },
    {
     "cell_type": "code",
     "collapsed": false,
     "input": [
      "eclfUp = ec.EnsembleClassifier(\n",
      "clfs=[\n",
      "RF(min_samples_split = int(len(bidUp)*0.03),criterion='entropy',n_jobs=4)\\\n",
      "#,GBC(min_samples_split = len(bidUp)*0.03,init='zero')\n",
      "#,LR(class_weight='auto',C=0.1)\n",
      "])\n",
      "\n",
      "eclfDown =ec.EnsembleClassifier(\n",
      "clfs=[\n",
      "RF(min_samples_split = int(len(bidDown)*0.03),criterion='entropy',n_jobs=4)\\\n",
      "#,GBC(min_samples_split = len(bidDown)*0.03,init='zero')\n",
      "#,LR(class_weight='auto',C=0.1)\n",
      "])"
     ],
     "language": "python",
     "metadata": {},
     "outputs": [],
     "prompt_number": 133
    },
    {
     "cell_type": "code",
     "collapsed": false,
     "input": [
      "reload(qimbs)\n",
      "reload(mmll)\n",
      "reload(ec)"
     ],
     "language": "python",
     "metadata": {},
     "outputs": [
      {
       "metadata": {},
       "output_type": "pyout",
       "prompt_number": 134,
       "text": [
        "<module 'EnsembleClassifier' from 'EnsembleClassifier.pyc'>"
       ]
      }
     ],
     "prompt_number": 134
    },
    {
     "cell_type": "code",
     "collapsed": false,
     "input": [
      "cm,clf = mmll.clf_cross_validation(eclfUp,X,bidUp.val,test_size=5,n_folds=10,train_test_labels = fdf.Date,verbose = True)"
     ],
     "language": "python",
     "metadata": {},
     "outputs": [
      {
       "output_type": "stream",
       "stream": "stdout",
       "text": [
        "47.2 sec: Precision - 0.86, Recall - 0.91, F_Score - 0.88, max F_Score - 0.90\n"
       ]
      },
      {
       "metadata": {},
       "output_type": "display_data",
       "png": "[encoded data removed]",
       "text": [
        "<matplotlib.figure.Figure at 0x141204d0>"
       ]
      }
     ],
     "prompt_number": 135
    },
    {
     "cell_type": "code",
     "collapsed": false,
     "input": [
      "fi = pd.DataFrame()\n",
      "fi['Feature'] = list(X.columns)\n",
      "fi['Impotrance'] = clf.clfs[0].feature_importances_\n",
      "fi=fi.sort(columns=['Impotrance'],ascending=False)\n",
      "fi['Index'] = range(X.shape[1])\n",
      "fi.index = fi['Index']\n",
      "   \n",
      "ggplot(fi,aes('Index','Impotrance',label='Feature')) +\\\n",
      "geom_point() + geom_text(vjust=0.005)"
     ],
     "language": "python",
     "metadata": {},
     "outputs": [
      {
       "metadata": {},
       "output_type": "display_data",
       "png": "[encoded data removed]",
       "text": [
        "<matplotlib.figure.Figure at 0x7fe934bbf090>"
       ]
      },
      {
       "metadata": {},
       "output_type": "pyout",
       "prompt_number": 136,
       "text": [
        "<ggplot: (8789966401957)>"
       ]
      }
     ],
     "prompt_number": 136
    },
    {
     "cell_type": "code",
     "collapsed": false,
     "input": [
      "cm,clf = mmll.clf_cross_validation(eclfDown,X,bidDown.val,test_size=5,n_folds=10,train_test_labels = fdf.Date,verbose = True)"
     ],
     "language": "python",
     "metadata": {},
     "outputs": [
      {
       "output_type": "stream",
       "stream": "stdout",
       "text": [
        "49.4 sec: Precision - nan, Recall - nan, F_Score - nan, max F_Score - nan\n"
       ]
      },
      {
       "metadata": {},
       "output_type": "display_data",
       "png": "[encoded data removed]",
       "text": [
        "<matplotlib.figure.Figure at 0x7fe9682d7e50>"
       ]
      }
     ],
     "prompt_number": 102
    },
    {
     "cell_type": "code",
     "collapsed": false,
     "input": [
      "cm,clf = mmll.clf_cross_validation(eclfUp,X,askUp.val,test_size=5,n_folds=10,train_test_labels = fdf.Date,verbose = True)"
     ],
     "language": "python",
     "metadata": {},
     "outputs": [
      {
       "output_type": "stream",
       "stream": "stdout",
       "text": [
        "49.8 sec: Precision - nan, Recall - nan, F_Score - nan, max F_Score - nan\n"
       ]
      },
      {
       "metadata": {},
       "output_type": "display_data",
       "png": "[encoded data removed]",
       "text": [
        "<matplotlib.figure.Figure at 0x89178d0>"
       ]
      }
     ],
     "prompt_number": 103
    },
    {
     "cell_type": "code",
     "collapsed": false,
     "input": [
      "cm,clf = mmll.clf_cross_validation(eclfDown,X,askDown.val,test_size=5,n_folds=10,train_test_labels = fdf.Date,verbose = True)"
     ],
     "language": "python",
     "metadata": {},
     "outputs": [
      {
       "output_type": "stream",
       "stream": "stdout",
       "text": [
        "48.2 sec: Precision - 0.85, Recall - 0.93, F_Score - 0.89, max F_Score - 0.90\n"
       ]
      },
      {
       "metadata": {},
       "output_type": "display_data",
       "png": "[encoded data removed]",
       "text": [
        "<matplotlib.figure.Figure at 0x8933750>"
       ]
      }
     ],
     "prompt_number": 104
    },
    {
     "cell_type": "code",
     "collapsed": false,
     "input": [
      "fi = pd.DataFrame()\n",
      "fi['Feature'] = list(X.columns)\n",
      "fi['Impotrance'] = clf.feature_importances_\n",
      "fi=fi.sort(columns=['Impotrance'],ascending=False)\n",
      "fi['Index'] = range(X.shape[1])\n",
      "fi.index = fi['Index']\n",
      "   \n",
      "ggplot(fi,aes('Index','Impotrance',label='Feature')) +\\\n",
      "geom_point() + geom_text(vjust=0.005)\n",
      "\n",
      "\n"
     ],
     "language": "python",
     "metadata": {},
     "outputs": [
      {
       "metadata": {},
       "output_type": "display_data",
       "png": "[encoded data removed]",
       "text": [
        "<matplotlib.figure.Figure at 0x7fe9682ba6d0>"
       ]
      },
      {
       "metadata": {},
       "output_type": "pyout",
       "prompt_number": 105,
       "text": [
        "<ggplot: (8790028237385)>"
       ]
      }
     ],
     "prompt_number": 105
    },
    {
     "cell_type": "code",
     "collapsed": false,
     "input": [
      "\n",
      "\n",
      "\n",
      "\n",
      "\n",
      "#Save configuration for C++"
     ],
     "language": "python",
     "metadata": {},
     "outputs": [],
     "prompt_number": 106
    },
    {
     "cell_type": "code",
     "collapsed": false,
     "input": [
      "def Forest2SqlClfPerc(eclf_pos,eclf_neg,advantage,db,df):  \n",
      "    X_p = df[df.a14>0].copy()\n",
      "    X_p.index = range(X_p.shape[0])\n",
      "    X_p=X_p[['Ask','AskD','Near','Far','Spread',\n",
      "     'D5', 'D555', 'D66', 'V1','V1n', 'V11', 'V11n',\n",
      "     'V8','V8n','V8nn', 'a1','a4','a5']]\n",
      "\n",
      "    X_n = df[df.a14<0].copy()\n",
      "    X_n.index = range(X_n.shape[0])\n",
      "    X_n=X_n[['Bid','BidD','Near','Far','Spread',\n",
      "     'D4',  'D444', 'D66', 'V1','V1n', 'V11',  'V11n',\n",
      "     'V8','V8n','V8nn', 'a1','a4','a5']]\n",
      "\n",
      "    y_p = df.imbInd.copy()\n",
      "    y_p[:] = 0\n",
      "    if advantage>0:\n",
      "        y_p[df.OPC_P/df.Ask_P-1.0>advantage/10000]=1\n",
      "    else:\n",
      "        y_p[df.OPC_P/df.Ask_P-1.0<advantage/10000]=1\n",
      "    #y_p[df.OPC_P/df.Ref_P-1.0>advantage/10000]=1\n",
      "    y_p = y_p[df.a14>0]\n",
      "    y_p.index = range(y_p.shape[0])\n",
      "\n",
      "    y_n = df.imbInd.copy()\n",
      "    y_n[:] = 0\n",
      "    if advantage>0:\n",
      "        y_n[df.OPC_P/df.Bid_P-1<-advantage/10000]=1\n",
      "    else:\n",
      "        y_n[df.OPC_P/df.Bid_P-1>-advantage/10000]=1\n",
      "    #y_n[df.OPC_P/df.Ref_P-1<-advantage/10000]=1\n",
      "    y_n = y_n[df.a14<0]\n",
      "    y_n.index = range(y_n.shape[0])\n",
      "    \n",
      "    ttlabesl_pos = df[df.a14>0].Date.copy();ttlabesl_pos.index = range(ttlabesl_pos.shape[0])\n",
      "    ttlabesl_neg = df[df.a14<0].Date.copy();ttlabesl_neg.index = range(ttlabesl_neg.shape[0])\n",
      "    \n",
      "    cm,clf = mmll.clf_cross_validation\\\n",
      "    (eclf_pos,X_p,y_p,test_size=20,n_folds=20,train_test_labels = ttlabesl_pos,verbose = False)\n",
      "    fscore1 = clf.fscore\n",
      "    mio.Forest2Sql(clf, X_p,0,1,advantage,fscore1,db)\n",
      "    \n",
      "    cm,clf = mmll.clf_cross_validation\\\n",
      "    (eclf_neg,X_n,y_n,test_size=20,n_folds=20,train_test_labels = ttlabesl_neg,verbose = False)\n",
      "    fscore2 = clf.fscore\n",
      "    mio.Forest2Sql(clf,X_n,0,-1,advantage,fscore2,db)\n",
      "    \n",
      "    print \"advantage-\", advantage,\" f1-\", fscore1, \" f2-\",fscore2"
     ],
     "language": "python",
     "metadata": {},
     "outputs": [],
     "prompt_number": 47
    },
    {
     "cell_type": "code",
     "collapsed": false,
     "input": [
      "def Forest2SqlClf(eclf_pos,eclf_neg,advantage,db,df):  \n",
      "    X_p = df[df.a14>0].copy()\n",
      "    X_p.index = range(X_p.shape[0])\n",
      "    X_p=X_p[['Ask','AskD','Near','Far','Spread',\n",
      "     'D5', 'D555', 'D66', 'V1','V1n', 'V11', 'V11n',\n",
      "     'V8','V8n','V8nn', 'a1','a4','a5']]\n",
      "\n",
      "    X_n = df[df.a14<0].copy()\n",
      "    X_n.index = range(X_n.shape[0])\n",
      "    X_n=X_n[['Bid','BidD','Near','Far','Spread',\n",
      "     'D4',  'D444', 'D66', 'V1','V1n', 'V11',  'V11n',\n",
      "     'V8','V8n','V8nn', 'a1','a4','a5']]\n",
      "    \n",
      "    y_p = df.imbInd.copy()\n",
      "    y_p[:] = 0\n",
      "    y_p[df.OPC_P-df.Ask_P>advantage/100]=1#y_p[df.OPC_P-df.Ref_P>advantage/100]=1#\n",
      "    y_p = y_p[df.a14>0]\n",
      "    y_p.index = range(y_p.shape[0])\n",
      "\n",
      "    y_n = df.imbInd.copy()\n",
      "    y_n[:] = 0\n",
      "    y_n[df.OPC_P-df.Bid_P<-advantage/100]=1#y_n[df.OPC_P-df.Ref_P<-advantage/100]=1#\n",
      "    y_n = y_n[df.a14<0]\n",
      "    y_n.index = range(y_n.shape[0])\n",
      "    \n",
      "    ttlabesl_pos = df[df.a14>0].Date.copy();ttlabesl_pos.index = range(ttlabesl_pos.shape[0])\n",
      "    ttlabesl_neg = df[df.a14<0].Date.copy();ttlabesl_neg.index = range(ttlabesl_neg.shape[0])\n",
      "    \n",
      "    cm,clf = mmll.clf_cross_validation\\\n",
      "    (eclf_pos,X_p,y_p,test_size=20,n_folds=20,train_test_labels = ttlabesl_pos,verbose = False)\n",
      "    fscore1 = clf.fscore\n",
      "    mio.Forest2Sql(clf, X_p,0,1,advantage,fscore1,db)\n",
      "    \n",
      "    cm,clf = mmll.clf_cross_validation\\\n",
      "    (eclf_neg,X_n,y_n,test_size=20,n_folds=20,train_test_labels = ttlabesl_neg,verbose = False)\n",
      "    fscore2 = clf.fscore\n",
      "    mio.Forest2Sql(clf,X_n,0,-1,advantage,fscore2,db)\n",
      "    \n",
      "    print \"advantage-\", advantage,\" f1-\", fscore1, \" f2-\",fscore2"
     ],
     "language": "python",
     "metadata": {},
     "outputs": [],
     "prompt_number": 86
    },
    {
     "cell_type": "code",
     "collapsed": false,
     "input": [
      "db = '/home/user1/Desktop/Share2Windows/RandomForestDatabasePAPosNeg.sql'\n",
      "reload(mio)\n",
      "mio.DropDB(db)"
     ],
     "language": "python",
     "metadata": {},
     "outputs": [
      {
       "output_type": "stream",
       "stream": "stdout",
       "text": [
        "SQLite version: 3.7.13\n"
       ]
      }
     ],
     "prompt_number": 56
    },
    {
     "cell_type": "code",
     "collapsed": false,
     "input": [
      "reload(mio)\n",
      "for advantage in reversed([30+x*5.0 for x in xrange(15)]):\n",
      "    Forest2SqlClfPerc(eclf_pos,eclf_neg,-float(advantage),db,fdf)\n",
      "for advantage in reversed([10+x*2.0 for x in xrange(10)]):\n",
      "    Forest2SqlClfPerc(eclf_pos,eclf_neg,-float(advantage),db,fdf)\n",
      "for advantage in reversed(range(10)):\n",
      "    Forest2SqlClfPerc(eclf_pos,eclf_neg,-float(advantage),db,fdf)"
     ],
     "language": "python",
     "metadata": {},
     "outputs": [
      {
       "output_type": "stream",
       "stream": "stdout",
       "text": [
        "7.8 sec: Precision - 0.95, Recall - 0.91, F_Score - 0.93, max F_Score - 0.96\n",
        "SQLite version: 3.7.13\n",
        "7.6 sec: Precision - 0.93, Recall - 0.95, F_Score - 0.94, max F_Score - 0.97"
       ]
      },
      {
       "output_type": "stream",
       "stream": "stdout",
       "text": [
        "\n",
        "SQLite version: 3.7.13\n",
        "advantage-"
       ]
      },
      {
       "output_type": "stream",
       "stream": "stdout",
       "text": [
        " -100.0  f1- 0.960863697706  f2- 0.966101694915\n",
        "7.9 sec: Precision - 0.95, Recall - 0.90, F_Score - 0.92, max F_Score - 0.95"
       ]
      },
      {
       "output_type": "stream",
       "stream": "stdout",
       "text": [
        "\n",
        "SQLite version: 3.7.13\n",
        "7.5 sec: Precision - 0.94, Recall - 0.94, F_Score - 0.94, max F_Score - 0.97"
       ]
      },
      {
       "output_type": "stream",
       "stream": "stdout",
       "text": [
        "\n",
        "SQLite version: 3.7.13\n",
        "advantage-"
       ]
      },
      {
       "output_type": "stream",
       "stream": "stdout",
       "text": [
        " -95.0  f1- 0.954436450839  f2- 0.965417867435\n",
        "7.6 sec: Precision - 0.94, Recall - 0.90, F_Score - 0.92, max F_Score - 0.95"
       ]
      },
      {
       "output_type": "stream",
       "stream": "stdout",
       "text": [
        "\n",
        "SQLite version: 3.7.13\n",
        "7.8 sec: Precision - 0.93, Recall - 0.93, F_Score - 0.93, max F_Score - 0.96"
       ]
      },
      {
       "output_type": "stream",
       "stream": "stdout",
       "text": [
        "\n",
        "SQLite version: 3.7.13\n",
        "advantage-"
       ]
      },
      {
       "output_type": "stream",
       "stream": "stdout",
       "text": [
        " -90.0  f1- 0.94750656168  f2- 0.957309184994\n",
        "7.7 sec: Precision - 0.95, Recall - 0.89, F_Score - 0.91, max F_Score - 0.95"
       ]
      },
      {
       "output_type": "stream",
       "stream": "stdout",
       "text": [
        "\n",
        "SQLite version: 3.7.13\n",
        "7.8 sec: Precision - 0.95, Recall - 0.92, F_Score - 0.94, max F_Score - 0.96"
       ]
      },
      {
       "output_type": "stream",
       "stream": "stdout",
       "text": [
        "\n",
        "SQLite version: 3.7.13\n",
        "advantage-"
       ]
      },
      {
       "output_type": "stream",
       "stream": "stdout",
       "text": [
        " -85.0  f1- 0.952  f2- 0.964285714286\n",
        "7.8 sec: Precision - 0.95, Recall - 0.88, F_Score - 0.92, max F_Score - 0.95"
       ]
      },
      {
       "output_type": "stream",
       "stream": "stdout",
       "text": [
        "\n",
        "SQLite version: 3.7.13\n",
        "7.6 sec: Precision - 0.93, Recall - 0.93, F_Score - 0.93, max F_Score - 0.96"
       ]
      },
      {
       "output_type": "stream",
       "stream": "stdout",
       "text": [
        "\n",
        "SQLite version: 3.7.13\n",
        "advantage-"
       ]
      },
      {
       "output_type": "stream",
       "stream": "stdout",
       "text": [
        " -80.0  f1- 0.946047678795  f2- 0.958512160229\n",
        "7.7 sec: Precision - 0.94, Recall - 0.88, F_Score - 0.91, max F_Score - 0.94"
       ]
      },
      {
       "output_type": "stream",
       "stream": "stdout",
       "text": [
        "\n",
        "SQLite version: 3.7.13\n",
        "7.5 sec: Precision - 0.94, Recall - 0.92, F_Score - 0.93, max F_Score - 0.95"
       ]
      },
      {
       "output_type": "stream",
       "stream": "stdout",
       "text": [
        "\n",
        "SQLite version: 3.7.13\n",
        "advantage-"
       ]
      },
      {
       "output_type": "stream",
       "stream": "stdout",
       "text": [
        " -75.0  f1- 0.939473684211  f2- 0.953987730061\n",
        "7.8 sec: Precision - 0.94, Recall - 0.87, F_Score - 0.91, max F_Score - 0.95"
       ]
      },
      {
       "output_type": "stream",
       "stream": "stdout",
       "text": [
        "\n",
        "SQLite version: 3.7.13\n",
        "7.8 sec: Precision - 0.92, Recall - 0.92, F_Score - 0.92, max F_Score - 0.95"
       ]
      },
      {
       "output_type": "stream",
       "stream": "stdout",
       "text": [
        "\n",
        "SQLite version: 3.7.13\n",
        "advantage-"
       ]
      },
      {
       "output_type": "stream",
       "stream": "stdout",
       "text": [
        " -70.0  f1- 0.948402948403  f2- 0.950495049505\n",
        "7.6 sec: Precision - 0.94, Recall - 0.86, F_Score - 0.90, max F_Score - 0.93"
       ]
      },
      {
       "output_type": "stream",
       "stream": "stdout",
       "text": [
        "\n",
        "SQLite version: 3.7.13\n",
        "7.7 sec: Precision - 0.95, Recall - 0.92, F_Score - 0.93, max F_Score - 0.96"
       ]
      },
      {
       "output_type": "stream",
       "stream": "stdout",
       "text": [
        "\n",
        "SQLite version: 3.7.13\n",
        "advantage-"
       ]
      },
      {
       "output_type": "stream",
       "stream": "stdout",
       "text": [
        " -65.0  f1- 0.928487690504  f2- 0.957637997433\n",
        "7.8 sec: Precision - 0.94, Recall - 0.87, F_Score - 0.90, max F_Score - 0.94"
       ]
      },
      {
       "output_type": "stream",
       "stream": "stdout",
       "text": [
        "\n",
        "SQLite version: 3.7.13\n",
        "7.7 sec: Precision - 0.94, Recall - 0.91, F_Score - 0.93, max F_Score - 0.95"
       ]
      },
      {
       "output_type": "stream",
       "stream": "stdout",
       "text": [
        "\n",
        "SQLite version: 3.7.13\n",
        "advantage-"
       ]
      },
      {
       "output_type": "stream",
       "stream": "stdout",
       "text": [
        " -60.0  f1- 0.937576499388  f2- 0.954285714286\n",
        "7.5 sec: Precision - 0.94, Recall - 0.85, F_Score - 0.89, max F_Score - 0.93"
       ]
      },
      {
       "output_type": "stream",
       "stream": "stdout",
       "text": [
        "\n",
        "SQLite version: 3.7.13\n",
        "7.7 sec: Precision - 0.95, Recall - 0.91, F_Score - 0.93, max F_Score - 0.95"
       ]
      },
      {
       "output_type": "stream",
       "stream": "stdout",
       "text": [
        "\n",
        "SQLite version: 3.7.13\n",
        "advantage-"
       ]
      },
      {
       "output_type": "stream",
       "stream": "stdout",
       "text": [
        " -55.0  f1- 0.933901918977  f2- 0.948586118252\n",
        "7.8 sec: Precision - 0.94, Recall - 0.84, F_Score - 0.89, max F_Score - 0.91"
       ]
      },
      {
       "output_type": "stream",
       "stream": "stdout",
       "text": [
        "\n",
        "SQLite version: 3.7.13\n",
        "7.6 sec: Precision - 0.93, Recall - 0.92, F_Score - 0.92, max F_Score - 0.96"
       ]
      },
      {
       "output_type": "stream",
       "stream": "stdout",
       "text": [
        "\n",
        "SQLite version: 3.7.13\n",
        "advantage-"
       ]
      },
      {
       "output_type": "stream",
       "stream": "stdout",
       "text": [
        " -50.0  f1- 0.912912912913  f2- 0.955223880597\n",
        "7.8 sec: Precision - 0.93, Recall - 0.84, F_Score - 0.88, max F_Score - 0.92"
       ]
      },
      {
       "output_type": "stream",
       "stream": "stdout",
       "text": [
        "\n",
        "SQLite version: 3.7.13\n",
        "7.8 sec: Precision - 0.92, Recall - 0.91, F_Score - 0.92, max F_Score - 0.96"
       ]
      },
      {
       "output_type": "stream",
       "stream": "stdout",
       "text": [
        "\n",
        "SQLite version: 3.7.13\n",
        "advantage-"
       ]
      },
      {
       "output_type": "stream",
       "stream": "stdout",
       "text": [
        " -45.0  f1- 0.921322690992  f2- 0.955631399317\n",
        "7.6 sec: Precision - 0.93, Recall - 0.84, F_Score - 0.88, max F_Score - 0.93"
       ]
      },
      {
       "output_type": "stream",
       "stream": "stdout",
       "text": [
        "\n",
        "SQLite version: 3.7.13\n",
        "7.7 sec: Precision - 0.88, Recall - 0.91, F_Score - 0.89, max F_Score - 0.94"
       ]
      },
      {
       "output_type": "stream",
       "stream": "stdout",
       "text": [
        "\n",
        "SQLite version: 3.7.13\n",
        "advantage-"
       ]
      },
      {
       "output_type": "stream",
       "stream": "stdout",
       "text": [
        " -40.0  f1- 0.925586136595  f2- 0.937081659973\n",
        "7.8 sec: Precision - 0.93, Recall - 0.82, F_Score - 0.87, max F_Score - 0.90"
       ]
      },
      {
       "output_type": "stream",
       "stream": "stdout",
       "text": [
        "\n",
        "SQLite version: 3.7.13\n",
        "7.5 sec: Precision - 0.92, Recall - 0.89, F_Score - 0.91, max F_Score - 0.94"
       ]
      },
      {
       "output_type": "stream",
       "stream": "stdout",
       "text": [
        "\n",
        "SQLite version: 3.7.13\n",
        "advantage-"
       ]
      },
      {
       "output_type": "stream",
       "stream": "stdout",
       "text": [
        " -35.0  f1- 0.897175141243  f2- 0.942791762014\n",
        "8.0 sec: Precision - 0.94, Recall - 0.79, F_Score - 0.86, max F_Score - 0.91"
       ]
      },
      {
       "output_type": "stream",
       "stream": "stdout",
       "text": [
        "\n",
        "SQLite version: 3.7.13\n",
        "7.9 sec: Precision - 0.91, Recall - 0.89, F_Score - 0.90, max F_Score - 0.93"
       ]
      },
      {
       "output_type": "stream",
       "stream": "stdout",
       "text": [
        "\n",
        "SQLite version: 3.7.13\n",
        "advantage-"
       ]
      },
      {
       "output_type": "stream",
       "stream": "stdout",
       "text": [
        " -30.0  f1- 0.905405405405  f2- 0.934240362812\n",
        "7.8 sec: Precision - 0.94, Recall - 0.78, F_Score - 0.85, max F_Score - 0.90"
       ]
      },
      {
       "output_type": "stream",
       "stream": "stdout",
       "text": [
        "\n",
        "SQLite version: 3.7.13\n",
        "7.6 sec: Precision - 0.90, Recall - 0.88, F_Score - 0.89, max F_Score - 0.93"
       ]
      },
      {
       "output_type": "stream",
       "stream": "stdout",
       "text": [
        "\n",
        "SQLite version: 3.7.13\n",
        "advantage-"
       ]
      },
      {
       "output_type": "stream",
       "stream": "stdout",
       "text": [
        " -28.0  f1- 0.896882494005  f2- 0.930962343096\n",
        "7.6 sec: Precision - 0.94, Recall - 0.78, F_Score - 0.85, max F_Score - 0.89"
       ]
      },
      {
       "output_type": "stream",
       "stream": "stdout",
       "text": [
        "\n",
        "SQLite version: 3.7.13\n",
        "7.6 sec: Precision - 0.91, Recall - 0.88, F_Score - 0.89, max F_Score - 0.92"
       ]
      },
      {
       "output_type": "stream",
       "stream": "stdout",
       "text": [
        "\n",
        "SQLite version: 3.7.13\n",
        "advantage-"
       ]
      },
      {
       "output_type": "stream",
       "stream": "stdout",
       "text": [
        " -26.0  f1- 0.892335766423  f2- 0.921290322581\n",
        "7.6 sec: Precision - 0.94, Recall - 0.76, F_Score - 0.84, max F_Score - 0.88"
       ]
      },
      {
       "output_type": "stream",
       "stream": "stdout",
       "text": [
        "\n",
        "SQLite version: 3.7.13\n",
        "7.6 sec: Precision - 0.90, Recall - 0.87, F_Score - 0.88, max F_Score - 0.92"
       ]
      },
      {
       "output_type": "stream",
       "stream": "stdout",
       "text": [
        "\n",
        "SQLite version: 3.7.13\n",
        "advantage-"
       ]
      },
      {
       "output_type": "stream",
       "stream": "stdout",
       "text": [
        " -24.0  f1- 0.875  f2- 0.924651162791\n",
        "8.0 sec: Precision - 0.93, Recall - 0.76, F_Score - 0.84, max F_Score - 0.88"
       ]
      },
      {
       "output_type": "stream",
       "stream": "stdout",
       "text": [
        "\n",
        "SQLite version: 3.7.13\n",
        "7.8 sec: Precision - 0.91, Recall - 0.86, F_Score - 0.88, max F_Score - 0.92"
       ]
      },
      {
       "output_type": "stream",
       "stream": "stdout",
       "text": [
        "\n",
        "SQLite version: 3.7.13\n",
        "advantage-"
       ]
      },
      {
       "output_type": "stream",
       "stream": "stdout",
       "text": [
        " -22.0  f1- 0.878093492209  f2- 0.91601343785\n",
        "7.8 sec: Precision - 0.94, Recall - 0.74, F_Score - 0.83, max F_Score - 0.87"
       ]
      },
      {
       "output_type": "stream",
       "stream": "stdout",
       "text": [
        "\n",
        "SQLite version: 3.7.13\n",
        "7.6 sec: Precision - 0.91, Recall - 0.85, F_Score - 0.88, max F_Score - 0.92"
       ]
      },
      {
       "output_type": "stream",
       "stream": "stdout",
       "text": [
        "\n",
        "SQLite version: 3.7.13\n",
        "advantage-"
       ]
      },
      {
       "output_type": "stream",
       "stream": "stdout",
       "text": [
        " -20.0  f1- 0.870264064294  f2- 0.918714555766\n",
        "7.8 sec: Precision - 0.93, Recall - 0.72, F_Score - 0.81, max F_Score - 0.86"
       ]
      },
      {
       "output_type": "stream",
       "stream": "stdout",
       "text": [
        "\n",
        "SQLite version: 3.7.13\n",
        "7.7 sec: Precision - 0.89, Recall - 0.87, F_Score - 0.88, max F_Score - 0.92"
       ]
      },
      {
       "output_type": "stream",
       "stream": "stdout",
       "text": [
        "\n",
        "SQLite version: 3.7.13\n",
        "advantage-"
       ]
      },
      {
       "output_type": "stream",
       "stream": "stdout",
       "text": [
        " -18.0  f1- 0.856627592426  f2- 0.916666666667\n",
        "7.7 sec: Precision - 0.93, Recall - 0.71, F_Score - 0.81, max F_Score - 0.84"
       ]
      },
      {
       "output_type": "stream",
       "stream": "stdout",
       "text": [
        "\n",
        "SQLite version: 3.7.13\n",
        "7.3 sec: Precision - 0.91, Recall - 0.84, F_Score - 0.87, max F_Score - 0.90"
       ]
      },
      {
       "output_type": "stream",
       "stream": "stdout",
       "text": [
        "\n",
        "SQLite version: 3.7.13\n",
        "advantage-"
       ]
      },
      {
       "output_type": "stream",
       "stream": "stdout",
       "text": [
        " -16.0  f1- 0.840787119857  f2- 0.899543378995\n",
        "7.7 sec: Precision - 0.92, Recall - 0.72, F_Score - 0.80, max F_Score - 0.84"
       ]
      },
      {
       "output_type": "stream",
       "stream": "stdout",
       "text": [
        "\n",
        "SQLite version: 3.7.13\n",
        "7.4 sec: Precision - 0.90, Recall - 0.85, F_Score - 0.87, max F_Score - 0.90"
       ]
      },
      {
       "output_type": "stream",
       "stream": "stdout",
       "text": [
        "\n",
        "SQLite version: 3.7.13\n",
        "advantage-"
       ]
      },
      {
       "output_type": "stream",
       "stream": "stdout",
       "text": [
        " -14.0  f1- 0.836801752464  f2- 0.898756660746\n",
        "7.7 sec: Precision - 0.91, Recall - 0.70, F_Score - 0.79, max F_Score - 0.84"
       ]
      },
      {
       "output_type": "stream",
       "stream": "stdout",
       "text": [
        "\n",
        "SQLite version: 3.7.13\n",
        "7.5 sec: Precision - 0.91, Recall - 0.80, F_Score - 0.85, max F_Score - 0.89"
       ]
      },
      {
       "output_type": "stream",
       "stream": "stdout",
       "text": [
        "\n",
        "SQLite version: 3.7.13\n",
        "advantage-"
       ]
      },
      {
       "output_type": "stream",
       "stream": "stdout",
       "text": [
        " -12.0  f1- 0.839931153184  f2- 0.889140271493\n",
        "7.5 sec: Precision - 0.90, Recall - 0.69, F_Score - 0.78, max F_Score - 0.82"
       ]
      },
      {
       "output_type": "stream",
       "stream": "stdout",
       "text": [
        "\n",
        "SQLite version: 3.7.13\n",
        "7.5 sec: Precision - 0.91, Recall - 0.80, F_Score - 0.85, max F_Score - 0.89"
       ]
      },
      {
       "output_type": "stream",
       "stream": "stdout",
       "text": [
        "\n",
        "SQLite version: 3.7.13\n",
        "advantage-"
       ]
      },
      {
       "output_type": "stream",
       "stream": "stdout",
       "text": [
        " -10.0  f1- 0.817469204927  f2- 0.888038277512\n",
        "7.7 sec: Precision - 0.90, Recall - 0.70, F_Score - 0.79, max F_Score - 0.81"
       ]
      },
      {
       "output_type": "stream",
       "stream": "stdout",
       "text": [
        "\n",
        "SQLite version: 3.7.13\n",
        "7.5 sec: Precision - 0.91, Recall - 0.79, F_Score - 0.85, max F_Score - 0.88"
       ]
      },
      {
       "output_type": "stream",
       "stream": "stdout",
       "text": [
        "\n",
        "SQLite version: 3.7.13\n",
        "advantage-"
       ]
      },
      {
       "output_type": "stream",
       "stream": "stdout",
       "text": [
        " -9.0  f1- 0.809482001756  f2- 0.88458781362\n",
        "7.6 sec: Precision - 0.90, Recall - 0.67, F_Score - 0.77, max F_Score - 0.79"
       ]
      },
      {
       "output_type": "stream",
       "stream": "stdout",
       "text": [
        "\n",
        "SQLite version: 3.7.13\n",
        "7.8 sec: Precision - 0.91, Recall - 0.76, F_Score - 0.83, max F_Score - 0.88"
       ]
      },
      {
       "output_type": "stream",
       "stream": "stdout",
       "text": [
        "\n",
        "SQLite version: 3.7.13\n",
        "advantage-"
       ]
      },
      {
       "output_type": "stream",
       "stream": "stdout",
       "text": [
        " -8.0  f1- 0.794957983193  f2- 0.877034358047\n",
        "7.7 sec: Precision - 0.91, Recall - 0.67, F_Score - 0.77, max F_Score - 0.82"
       ]
      },
      {
       "output_type": "stream",
       "stream": "stdout",
       "text": [
        "\n",
        "SQLite version: 3.7.13\n",
        "7.5 sec: Precision - 0.90, Recall - 0.76, F_Score - 0.83, max F_Score - 0.87"
       ]
      },
      {
       "output_type": "stream",
       "stream": "stdout",
       "text": [
        "\n",
        "SQLite version: 3.7.13\n",
        "advantage-"
       ]
      },
      {
       "output_type": "stream",
       "stream": "stdout",
       "text": [
        " -7.0  f1- 0.823770491803  f2- 0.874074074074\n",
        "7.7 sec: Precision - 0.90, Recall - 0.65, F_Score - 0.76, max F_Score - 0.80"
       ]
      },
      {
       "output_type": "stream",
       "stream": "stdout",
       "text": [
        "\n",
        "SQLite version: 3.7.13\n",
        "7.5 sec: Precision - 0.91, Recall - 0.74, F_Score - 0.81, max F_Score - 0.87"
       ]
      },
      {
       "output_type": "stream",
       "stream": "stdout",
       "text": [
        "\n",
        "SQLite version: 3.7.13\n",
        "advantage-"
       ]
      },
      {
       "output_type": "stream",
       "stream": "stdout",
       "text": [
        " -6.0  f1- 0.80206185567  f2- 0.866707242848\n",
        "7.8 sec: Precision - 0.89, Recall - 0.64, F_Score - 0.75, max F_Score - 0.79"
       ]
      },
      {
       "output_type": "stream",
       "stream": "stdout",
       "text": [
        "\n",
        "SQLite version: 3.7.13\n",
        "7.7 sec: Precision - 0.91, Recall - 0.74, F_Score - 0.82, max F_Score - 0.87"
       ]
      },
      {
       "output_type": "stream",
       "stream": "stdout",
       "text": [
        "\n",
        "SQLite version: 3.7.13\n",
        "advantage-"
       ]
      },
      {
       "output_type": "stream",
       "stream": "stdout",
       "text": [
        " -5.0  f1- 0.786666666667  f2- 0.87089381207\n",
        "7.7 sec: Precision - 0.88, Recall - 0.63, F_Score - 0.73, max F_Score - 0.78"
       ]
      },
      {
       "output_type": "stream",
       "stream": "stdout",
       "text": [
        "\n",
        "SQLite version: 3.7.13\n",
        "7.7 sec: Precision - 0.89, Recall - 0.73, F_Score - 0.80, max F_Score - 0.85"
       ]
      },
      {
       "output_type": "stream",
       "stream": "stdout",
       "text": [
        "\n",
        "SQLite version: 3.7.13\n",
        "advantage-"
       ]
      },
      {
       "output_type": "stream",
       "stream": "stdout",
       "text": [
        " -4.0  f1- 0.778720123362  f2- 0.852134146341\n",
        "7.8 sec: Precision - 0.87, Recall - 0.64, F_Score - 0.74, max F_Score - 0.79"
       ]
      },
      {
       "output_type": "stream",
       "stream": "stdout",
       "text": [
        "\n",
        "SQLite version: 3.7.13\n",
        "7.6 sec: Precision - 0.88, Recall - 0.72, F_Score - 0.79, max F_Score - 0.84"
       ]
      },
      {
       "output_type": "stream",
       "stream": "stdout",
       "text": [
        "\n",
        "SQLite version: 3.7.13\n",
        "advantage-"
       ]
      },
      {
       "output_type": "stream",
       "stream": "stdout",
       "text": [
        " -3.0  f1- 0.792313377679  f2- 0.840138408304\n",
        "7.7 sec: Precision - 0.87, Recall - 0.64, F_Score - 0.74, max F_Score - 0.77"
       ]
      },
      {
       "output_type": "stream",
       "stream": "stdout",
       "text": [
        "\n",
        "SQLite version: 3.7.13\n",
        "7.8 sec: Precision - 0.87, Recall - 0.73, F_Score - 0.79, max F_Score - 0.85"
       ]
      },
      {
       "output_type": "stream",
       "stream": "stdout",
       "text": [
        "\n",
        "SQLite version: 3.7.13\n",
        "advantage-"
       ]
      },
      {
       "output_type": "stream",
       "stream": "stdout",
       "text": [
        " -2.0  f1- 0.770428015564  f2- 0.848904267589\n",
        "7.8 sec: Precision - 0.86, Recall - 0.66, F_Score - 0.75, max F_Score - 0.77"
       ]
      },
      {
       "output_type": "stream",
       "stream": "stdout",
       "text": [
        "\n",
        "SQLite version: 3.7.13\n",
        "7.5 sec: Precision - 0.88, Recall - 0.72, F_Score - 0.79, max F_Score - 0.84"
       ]
      },
      {
       "output_type": "stream",
       "stream": "stdout",
       "text": [
        "\n",
        "SQLite version: 3.7.13\n",
        "advantage-"
       ]
      },
      {
       "output_type": "stream",
       "stream": "stdout",
       "text": [
        " -1.0  f1- 0.772997032641  f2- 0.840455840456\n",
        "7.3 sec: Precision - 0.86, Recall - 0.66, F_Score - 0.74, max F_Score - 0.77"
       ]
      },
      {
       "output_type": "stream",
       "stream": "stdout",
       "text": [
        "\n",
        "SQLite version: 3.7.13\n",
        "7.5 sec: Precision - 0.89, Recall - 0.72, F_Score - 0.80, max F_Score - 0.85"
       ]
      },
      {
       "output_type": "stream",
       "stream": "stdout",
       "text": [
        "\n",
        "SQLite version: 3.7.13\n",
        "advantage-"
       ]
      },
      {
       "output_type": "stream",
       "stream": "stdout",
       "text": [
        " -0.0  f1- 0.766414141414  f2- 0.852531997774\n"
       ]
      }
     ],
     "prompt_number": 62
    },
    {
     "cell_type": "code",
     "collapsed": false,
     "input": [
      "reload(mio)\n",
      "for advantage in range(10):\n",
      "    Forest2SqlClfPerc(eclf_pos,eclf_neg,float(advantage),db,fdf)\n",
      "for advantage in [10+x*2.0 for x in xrange(10)]:\n",
      "    Forest2SqlClfPerc(eclf_pos,eclf_neg,float(advantage),db,fdf)\n",
      "for advantage in [30+x*5.0 for x in xrange(15)]:\n",
      "    Forest2SqlClfPerc(eclf_pos,eclf_neg,float(advantage),db,fdf)"
     ],
     "language": "python",
     "metadata": {},
     "outputs": [
      {
       "output_type": "stream",
       "stream": "stdout",
       "text": [
        "7.6 sec: Precision - 0.86, Recall - 0.67, F_Score - 0.76, max F_Score - 0.80\n",
        "SQLite version: 3.7.13\n",
        "7.5 sec: Precision - 0.88, Recall - 0.72, F_Score - 0.79, max F_Score - 0.84"
       ]
      },
      {
       "output_type": "stream",
       "stream": "stdout",
       "text": [
        "\n",
        "SQLite version: 3.7.13\n",
        "advantage-"
       ]
      },
      {
       "output_type": "stream",
       "stream": "stdout",
       "text": [
        " 0.0  f1- 0.80063542494  f2- 0.839803171132\n",
        "7.7 sec: Precision - 0.79, Recall - 0.84, F_Score - 0.81, max F_Score - 0.83"
       ]
      },
      {
       "output_type": "stream",
       "stream": "stdout",
       "text": [
        "\n",
        "SQLite version: 3.7.13\n",
        "7.7 sec: Precision - 0.85, Recall - 0.89, F_Score - 0.87, max F_Score - 0.89"
       ]
      },
      {
       "output_type": "stream",
       "stream": "stdout",
       "text": [
        "\n",
        "SQLite version: 3.7.13\n",
        "advantage-"
       ]
      },
      {
       "output_type": "stream",
       "stream": "stdout",
       "text": [
        " 1.0  f1- 0.830142063002  f2- 0.888111888112\n",
        "7.8 sec: Precision - 0.80, Recall - 0.82, F_Score - 0.81, max F_Score - 0.83"
       ]
      },
      {
       "output_type": "stream",
       "stream": "stdout",
       "text": [
        "\n",
        "SQLite version: 3.7.13\n",
        "7.8 sec: Precision - 0.85, Recall - 0.89, F_Score - 0.87, max F_Score - 0.89"
       ]
      },
      {
       "output_type": "stream",
       "stream": "stdout",
       "text": [
        "\n",
        "SQLite version: 3.7.13\n",
        "advantage-"
       ]
      },
      {
       "output_type": "stream",
       "stream": "stdout",
       "text": [
        " 2.0  f1- 0.826900584795  f2- 0.892978208232\n",
        "7.9 sec: Precision - 0.80, Recall - 0.81, F_Score - 0.81, max F_Score - 0.82"
       ]
      },
      {
       "output_type": "stream",
       "stream": "stdout",
       "text": [
        "\n",
        "SQLite version: 3.7.13\n",
        "7.6 sec: Precision - 0.84, Recall - 0.88, F_Score - 0.86, max F_Score - 0.87"
       ]
      },
      {
       "output_type": "stream",
       "stream": "stdout",
       "text": [
        "\n",
        "SQLite version: 3.7.13\n",
        "advantage-"
       ]
      },
      {
       "output_type": "stream",
       "stream": "stdout",
       "text": [
        " 3.0  f1- 0.824468085106  f2- 0.872643678161\n",
        "7.5 sec: Precision - 0.80, Recall - 0.81, F_Score - 0.80, max F_Score - 0.82"
       ]
      },
      {
       "output_type": "stream",
       "stream": "stdout",
       "text": [
        "\n",
        "SQLite version: 3.7.13\n",
        "7.7 sec: Precision - 0.84, Recall - 0.87, F_Score - 0.86, max F_Score - 0.87"
       ]
      },
      {
       "output_type": "stream",
       "stream": "stdout",
       "text": [
        "\n",
        "SQLite version: 3.7.13\n",
        "advantage-"
       ]
      },
      {
       "output_type": "stream",
       "stream": "stdout",
       "text": [
        " 4.0  f1- 0.820970440602  f2- 0.87380699894\n",
        "7.5 sec: Precision - 0.79, Recall - 0.80, F_Score - 0.79, max F_Score - 0.84"
       ]
      },
      {
       "output_type": "stream",
       "stream": "stdout",
       "text": [
        "\n",
        "SQLite version: 3.7.13\n",
        "7.8 sec: Precision - 0.84, Recall - 0.86, F_Score - 0.85, max F_Score - 0.88"
       ]
      },
      {
       "output_type": "stream",
       "stream": "stdout",
       "text": [
        "\n",
        "SQLite version: 3.7.13\n",
        "advantage-"
       ]
      },
      {
       "output_type": "stream",
       "stream": "stdout",
       "text": [
        " 5.0  f1- 0.837150127226  f2- 0.882087305569\n",
        "7.8 sec: Precision - 0.78, Recall - 0.78, F_Score - 0.78, max F_Score - 0.81"
       ]
      },
      {
       "output_type": "stream",
       "stream": "stdout",
       "text": [
        "\n",
        "SQLite version: 3.7.13\n",
        "7.9 sec: Precision - 0.84, Recall - 0.85, F_Score - 0.84, max F_Score - 0.87"
       ]
      },
      {
       "output_type": "stream",
       "stream": "stdout",
       "text": [
        "\n",
        "SQLite version: 3.7.13\n",
        "advantage-"
       ]
      },
      {
       "output_type": "stream",
       "stream": "stdout",
       "text": [
        " 6.0  f1- 0.805793285056  f2- 0.87323943662\n",
        "7.7 sec: Precision - 0.79, Recall - 0.78, F_Score - 0.78, max F_Score - 0.80"
       ]
      },
      {
       "output_type": "stream",
       "stream": "stdout",
       "text": [
        "\n",
        "SQLite version: 3.7.13\n",
        "7.8 sec: Precision - 0.84, Recall - 0.84, F_Score - 0.84, max F_Score - 0.87"
       ]
      },
      {
       "output_type": "stream",
       "stream": "stdout",
       "text": [
        "\n",
        "SQLite version: 3.7.13\n",
        "advantage-"
       ]
      },
      {
       "output_type": "stream",
       "stream": "stdout",
       "text": [
        " 7.0  f1- 0.803801765105  f2- 0.872469635628\n",
        "7.7 sec: Precision - 0.78, Recall - 0.76, F_Score - 0.77, max F_Score - 0.80"
       ]
      },
      {
       "output_type": "stream",
       "stream": "stdout",
       "text": [
        "\n",
        "SQLite version: 3.7.13\n",
        "7.7 sec: Precision - 0.83, Recall - 0.83, F_Score - 0.83, max F_Score - 0.85"
       ]
      },
      {
       "output_type": "stream",
       "stream": "stdout",
       "text": [
        "\n",
        "SQLite version: 3.7.13\n",
        "advantage-"
       ]
      },
      {
       "output_type": "stream",
       "stream": "stdout",
       "text": [
        " 8.0  f1- 0.803162055336  f2- 0.84903640257\n",
        "7.7 sec: Precision - 0.78, Recall - 0.75, F_Score - 0.76, max F_Score - 0.79"
       ]
      },
      {
       "output_type": "stream",
       "stream": "stdout",
       "text": [
        "\n",
        "SQLite version: 3.7.13\n",
        "7.7 sec: Precision - 0.84, Recall - 0.82, F_Score - 0.83, max F_Score - 0.86"
       ]
      },
      {
       "output_type": "stream",
       "stream": "stdout",
       "text": [
        "\n",
        "SQLite version: 3.7.13\n",
        "advantage-"
       ]
      },
      {
       "output_type": "stream",
       "stream": "stdout",
       "text": [
        " 9.0  f1- 0.7910906298  f2- 0.857811585723\n",
        "7.5 sec: Precision - 0.77, Recall - 0.75, F_Score - 0.76, max F_Score - 0.80"
       ]
      },
      {
       "output_type": "stream",
       "stream": "stdout",
       "text": [
        "\n",
        "SQLite version: 3.7.13\n",
        "7.6 sec: Precision - 0.84, Recall - 0.83, F_Score - 0.83, max F_Score - 0.86"
       ]
      },
      {
       "output_type": "stream",
       "stream": "stdout",
       "text": [
        "\n",
        "SQLite version: 3.7.13\n",
        "advantage-"
       ]
      },
      {
       "output_type": "stream",
       "stream": "stdout",
       "text": [
        " 10.0  f1- 0.799733865602  f2- 0.861111111111\n",
        "7.8 sec: Precision - 0.78, Recall - 0.76, F_Score - 0.77, max F_Score - 0.80"
       ]
      },
      {
       "output_type": "stream",
       "stream": "stdout",
       "text": [
        "\n",
        "SQLite version: 3.7.13\n",
        "7.9 sec: Precision - 0.83, Recall - 0.82, F_Score - 0.82, max F_Score - 0.84"
       ]
      },
      {
       "output_type": "stream",
       "stream": "stdout",
       "text": [
        "\n",
        "SQLite version: 3.7.13\n",
        "advantage-"
       ]
      },
      {
       "output_type": "stream",
       "stream": "stdout",
       "text": [
        " 12.0  f1- 0.795020746888  f2- 0.839285714286\n",
        "7.8 sec: Precision - 0.77, Recall - 0.76, F_Score - 0.76, max F_Score - 0.80"
       ]
      },
      {
       "output_type": "stream",
       "stream": "stdout",
       "text": [
        "\n",
        "SQLite version: 3.7.13\n",
        "7.8 sec: Precision - 0.83, Recall - 0.82, F_Score - 0.83, max F_Score - 0.85"
       ]
      },
      {
       "output_type": "stream",
       "stream": "stdout",
       "text": [
        "\n",
        "SQLite version: 3.7.13\n",
        "advantage-"
       ]
      },
      {
       "output_type": "stream",
       "stream": "stdout",
       "text": [
        " 14.0  f1- 0.797397769517  f2- 0.848284960422\n",
        "7.8 sec: Precision - 0.76, Recall - 0.76, F_Score - 0.76, max F_Score - 0.79"
       ]
      },
      {
       "output_type": "stream",
       "stream": "stdout",
       "text": [
        "\n",
        "SQLite version: 3.7.13\n",
        "7.8 sec: Precision - 0.83, Recall - 0.81, F_Score - 0.82, max F_Score - 0.84"
       ]
      },
      {
       "output_type": "stream",
       "stream": "stdout",
       "text": [
        "\n",
        "SQLite version: 3.7.13\n",
        "advantage-"
       ]
      },
      {
       "output_type": "stream",
       "stream": "stdout",
       "text": [
        " 16.0  f1- 0.78763866878  f2- 0.843728100911\n",
        "7.6 sec: Precision - 0.75, Recall - 0.77, F_Score - 0.76, max F_Score - 0.79"
       ]
      },
      {
       "output_type": "stream",
       "stream": "stdout",
       "text": [
        "\n",
        "SQLite version: 3.7.13\n",
        "7.9 sec: Precision - 0.82, Recall - 0.81, F_Score - 0.82, max F_Score - 0.83"
       ]
      },
      {
       "output_type": "stream",
       "stream": "stdout",
       "text": [
        "\n",
        "SQLite version: 3.7.13\n",
        "advantage-"
       ]
      },
      {
       "output_type": "stream",
       "stream": "stdout",
       "text": [
        " 18.0  f1- 0.790072388831  f2- 0.832977967306\n",
        "7.8 sec: Precision - 0.75, Recall - 0.77, F_Score - 0.76, max F_Score - 0.80"
       ]
      },
      {
       "output_type": "stream",
       "stream": "stdout",
       "text": [
        "\n",
        "SQLite version: 3.7.13\n",
        "7.9 sec: Precision - 0.83, Recall - 0.81, F_Score - 0.82, max F_Score - 0.85"
       ]
      },
      {
       "output_type": "stream",
       "stream": "stdout",
       "text": [
        "\n",
        "SQLite version: 3.7.13\n",
        "advantage-"
       ]
      },
      {
       "output_type": "stream",
       "stream": "stdout",
       "text": [
        " 20.0  f1- 0.795107033639  f2- 0.847372810676\n",
        "7.8 sec: Precision - 0.75, Recall - 0.77, F_Score - 0.76, max F_Score - 0.79"
       ]
      },
      {
       "output_type": "stream",
       "stream": "stdout",
       "text": [
        "\n",
        "SQLite version: 3.7.13\n",
        "7.9 sec: Precision - 0.82, Recall - 0.81, F_Score - 0.82, max F_Score - 0.84"
       ]
      },
      {
       "output_type": "stream",
       "stream": "stdout",
       "text": [
        "\n",
        "SQLite version: 3.7.13\n",
        "advantage-"
       ]
      },
      {
       "output_type": "stream",
       "stream": "stdout",
       "text": [
        " 22.0  f1- 0.793103448276  f2- 0.835322195704\n",
        "7.7 sec: Precision - 0.75, Recall - 0.75, F_Score - 0.75, max F_Score - 0.77"
       ]
      },
      {
       "output_type": "stream",
       "stream": "stdout",
       "text": [
        "\n",
        "SQLite version: 3.7.13\n",
        "7.5 sec: Precision - 0.82, Recall - 0.81, F_Score - 0.81, max F_Score - 0.84"
       ]
      },
      {
       "output_type": "stream",
       "stream": "stdout",
       "text": [
        "\n",
        "SQLite version: 3.7.13\n",
        "advantage-"
       ]
      },
      {
       "output_type": "stream",
       "stream": "stdout",
       "text": [
        " 24.0  f1- 0.774972557629  f2- 0.841452612932\n",
        "7.3 sec: Precision - 0.76, Recall - 0.73, F_Score - 0.75, max F_Score - 0.78"
       ]
      },
      {
       "output_type": "stream",
       "stream": "stdout",
       "text": [
        "\n",
        "SQLite version: 3.7.13\n",
        "7.8 sec: Precision - 0.82, Recall - 0.80, F_Score - 0.81, max F_Score - 0.83"
       ]
      },
      {
       "output_type": "stream",
       "stream": "stdout",
       "text": [
        "\n",
        "SQLite version: 3.7.13\n",
        "advantage-"
       ]
      },
      {
       "output_type": "stream",
       "stream": "stdout",
       "text": [
        " 26.0  f1- 0.780126849894  f2- 0.832350463353\n",
        "7.9 sec: Precision - 0.74, Recall - 0.73, F_Score - 0.73, max F_Score - 0.76"
       ]
      },
      {
       "output_type": "stream",
       "stream": "stdout",
       "text": [
        "\n",
        "SQLite version: 3.7.13\n",
        "7.8 sec: Precision - 0.81, Recall - 0.80, F_Score - 0.80, max F_Score - 0.83"
       ]
      },
      {
       "output_type": "stream",
       "stream": "stdout",
       "text": [
        "\n",
        "SQLite version: 3.7.13\n",
        "advantage-"
       ]
      },
      {
       "output_type": "stream",
       "stream": "stdout",
       "text": [
        " 28.0  f1- 0.757921419518  f2- 0.826210826211\n",
        "7.9 sec: Precision - 0.74, Recall - 0.71, F_Score - 0.72, max F_Score - 0.76"
       ]
      },
      {
       "output_type": "stream",
       "stream": "stdout",
       "text": [
        "\n",
        "SQLite version: 3.7.13\n",
        "7.8 sec: Precision - 0.81, Recall - 0.80, F_Score - 0.80, max F_Score - 0.84"
       ]
      },
      {
       "output_type": "stream",
       "stream": "stdout",
       "text": [
        "\n",
        "SQLite version: 3.7.13\n",
        "advantage-"
       ]
      },
      {
       "output_type": "stream",
       "stream": "stdout",
       "text": [
        " 30.0  f1- 0.759493670886  f2- 0.836638338055\n",
        "7.9 sec: Precision - 0.73, Recall - 0.68, F_Score - 0.71, max F_Score - 0.74"
       ]
      },
      {
       "output_type": "stream",
       "stream": "stdout",
       "text": [
        "\n",
        "SQLite version: 3.7.13\n",
        "7.6 sec: Precision - 0.80, Recall - 0.78, F_Score - 0.79, max F_Score - 0.82"
       ]
      },
      {
       "output_type": "stream",
       "stream": "stdout",
       "text": [
        "\n",
        "SQLite version: 3.7.13\n",
        "advantage-"
       ]
      },
      {
       "output_type": "stream",
       "stream": "stdout",
       "text": [
        " 35.0  f1- 0.74375  f2- 0.821392532795\n",
        "8.0 sec: Precision - 0.72, Recall - 0.66, F_Score - 0.69, max F_Score - 0.72"
       ]
      },
      {
       "output_type": "stream",
       "stream": "stdout",
       "text": [
        "\n",
        "SQLite version: 3.7.13\n",
        "7.8 sec: Precision - 0.79, Recall - 0.76, F_Score - 0.77, max F_Score - 0.80"
       ]
      },
      {
       "output_type": "stream",
       "stream": "stdout",
       "text": [
        "\n",
        "SQLite version: 3.7.13\n",
        "advantage-"
       ]
      },
      {
       "output_type": "stream",
       "stream": "stdout",
       "text": [
        " 40.0  f1- 0.72  f2- 0.802005012531\n",
        "7.8 sec: Precision - 0.70, Recall - 0.65, F_Score - 0.68, max F_Score - 0.73"
       ]
      },
      {
       "output_type": "stream",
       "stream": "stdout",
       "text": [
        "\n",
        "SQLite version: 3.7.13\n",
        "7.7 sec: Precision - 0.79, Recall - 0.75, F_Score - 0.77, max F_Score - 0.80"
       ]
      },
      {
       "output_type": "stream",
       "stream": "stdout",
       "text": [
        "\n",
        "SQLite version: 3.7.13\n",
        "advantage-"
       ]
      },
      {
       "output_type": "stream",
       "stream": "stdout",
       "text": [
        " 45.0  f1- 0.727954971857  f2- 0.80058224163\n",
        "7.7 sec: Precision - 0.72, Recall - 0.65, F_Score - 0.69, max F_Score - 0.72"
       ]
      },
      {
       "output_type": "stream",
       "stream": "stdout",
       "text": [
        "\n",
        "SQLite version: 3.7.13\n",
        "7.6 sec: Precision - 0.79, Recall - 0.75, F_Score - 0.77, max F_Score - 0.80"
       ]
      },
      {
       "output_type": "stream",
       "stream": "stdout",
       "text": [
        "\n",
        "SQLite version: 3.7.13\n",
        "advantage-"
       ]
      },
      {
       "output_type": "stream",
       "stream": "stdout",
       "text": [
        " 50.0  f1- 0.722610722611  f2- 0.796486090776\n",
        "7.9 sec: Precision - 0.71, Recall - 0.63, F_Score - 0.67, max F_Score - 0.72"
       ]
      },
      {
       "output_type": "stream",
       "stream": "stdout",
       "text": [
        "\n",
        "SQLite version: 3.7.13\n",
        "7.8 sec: Precision - 0.78, Recall - 0.74, F_Score - 0.76, max F_Score - 0.80"
       ]
      },
      {
       "output_type": "stream",
       "stream": "stdout",
       "text": [
        "\n",
        "SQLite version: 3.7.13\n",
        "advantage-"
       ]
      },
      {
       "output_type": "stream",
       "stream": "stdout",
       "text": [
        " 55.0  f1- 0.723514211886  f2- 0.804911323329\n",
        "7.8 sec: Precision - 0.71, Recall - 0.62, F_Score - 0.66, max F_Score - 0.71"
       ]
      },
      {
       "output_type": "stream",
       "stream": "stdout",
       "text": [
        "\n",
        "SQLite version: 3.7.13\n",
        "7.7 sec: Precision - 0.76, Recall - 0.71, F_Score - 0.74, max F_Score - 0.77"
       ]
      },
      {
       "output_type": "stream",
       "stream": "stdout",
       "text": [
        "\n",
        "SQLite version: 3.7.13\n",
        "advantage-"
       ]
      },
      {
       "output_type": "stream",
       "stream": "stdout",
       "text": [
        " 60.0  f1- 0.709141274238  f2- 0.774774774775\n",
        "7.8 sec: Precision - 0.69, Recall - 0.60, F_Score - 0.64, max F_Score - 0.68"
       ]
      },
      {
       "output_type": "stream",
       "stream": "stdout",
       "text": [
        "\n",
        "SQLite version: 3.7.13\n",
        "7.7 sec: Precision - 0.76, Recall - 0.71, F_Score - 0.74, max F_Score - 0.77"
       ]
      },
      {
       "output_type": "stream",
       "stream": "stdout",
       "text": [
        "\n",
        "SQLite version: 3.7.13\n",
        "advantage-"
       ]
      },
      {
       "output_type": "stream",
       "stream": "stdout",
       "text": [
        " 65.0  f1- 0.681690140845  f2- 0.770318021201\n",
        "7.9 sec: Precision - 0.70, Recall - 0.59, F_Score - 0.64, max F_Score - 0.71"
       ]
      },
      {
       "output_type": "stream",
       "stream": "stdout",
       "text": [
        "\n",
        "SQLite version: 3.7.13\n",
        "7.8 sec: Precision - 0.75, Recall - 0.71, F_Score - 0.73, max F_Score - 0.77"
       ]
      },
      {
       "output_type": "stream",
       "stream": "stdout",
       "text": [
        "\n",
        "SQLite version: 3.7.13\n",
        "advantage-"
       ]
      },
      {
       "output_type": "stream",
       "stream": "stdout",
       "text": [
        " 70.0  f1- 0.709030100334  f2- 0.768595041322\n",
        "7.9 sec: Precision - 0.70, Recall - 0.58, F_Score - 0.64, max F_Score - 0.70"
       ]
      },
      {
       "output_type": "stream",
       "stream": "stdout",
       "text": [
        "\n",
        "SQLite version: 3.7.13\n",
        "7.9 sec: Precision - 0.76, Recall - 0.69, F_Score - 0.72, max F_Score - 0.77"
       ]
      },
      {
       "output_type": "stream",
       "stream": "stdout",
       "text": [
        "\n",
        "SQLite version: 3.7.13\n",
        "advantage-"
       ]
      },
      {
       "output_type": "stream",
       "stream": "stdout",
       "text": [
        " 75.0  f1- 0.699669966997  f2- 0.765072765073\n",
        "7.9 sec: Precision - 0.71, Recall - 0.55, F_Score - 0.62, max F_Score - 0.69"
       ]
      },
      {
       "output_type": "stream",
       "stream": "stdout",
       "text": [
        "\n",
        "SQLite version: 3.7.13\n",
        "7.9 sec: Precision - 0.75, Recall - 0.68, F_Score - 0.71, max F_Score - 0.76"
       ]
      },
      {
       "output_type": "stream",
       "stream": "stdout",
       "text": [
        "\n",
        "SQLite version: 3.7.13\n",
        "advantage-"
       ]
      },
      {
       "output_type": "stream",
       "stream": "stdout",
       "text": [
        " 80.0  f1- 0.692607003891  f2- 0.764845605701\n",
        "7.9 sec: Precision - 0.71, Recall - 0.56, F_Score - 0.63, max F_Score - 0.67"
       ]
      },
      {
       "output_type": "stream",
       "stream": "stdout",
       "text": [
        "\n",
        "SQLite version: 3.7.13\n",
        "7.8 sec: Precision - 0.75, Recall - 0.68, F_Score - 0.71, max F_Score - 0.77"
       ]
      },
      {
       "output_type": "stream",
       "stream": "stdout",
       "text": [
        "\n",
        "SQLite version: 3.7.13\n",
        "advantage-"
       ]
      },
      {
       "output_type": "stream",
       "stream": "stdout",
       "text": [
        " 85.0  f1- 0.666666666667  f2- 0.769230769231\n",
        "8.0 sec: Precision - 0.69, Recall - 0.53, F_Score - 0.60, max F_Score - 0.67"
       ]
      },
      {
       "output_type": "stream",
       "stream": "stdout",
       "text": [
        "\n",
        "SQLite version: 3.7.13\n",
        "7.8 sec: Precision - 0.74, Recall - 0.66, F_Score - 0.70, max F_Score - 0.75"
       ]
      },
      {
       "output_type": "stream",
       "stream": "stdout",
       "text": [
        "\n",
        "SQLite version: 3.7.13\n",
        "advantage-"
       ]
      },
      {
       "output_type": "stream",
       "stream": "stdout",
       "text": [
        " 90.0  f1- 0.666666666667  f2- 0.747126436782\n",
        "7.9 sec: Precision - 0.71, Recall - 0.50, F_Score - 0.58, max F_Score - 0.69"
       ]
      },
      {
       "output_type": "stream",
       "stream": "stdout",
       "text": [
        "\n",
        "SQLite version: 3.7.13\n",
        "7.8 sec: Precision - 0.75, Recall - 0.67, F_Score - 0.71, max F_Score - 0.75"
       ]
      },
      {
       "output_type": "stream",
       "stream": "stdout",
       "text": [
        "\n",
        "SQLite version: 3.7.13\n",
        "advantage-"
       ]
      },
      {
       "output_type": "stream",
       "stream": "stdout",
       "text": [
        " 95.0  f1- 0.69298245614  f2- 0.748691099476\n",
        "7.9 sec: Precision - 0.69, Recall - 0.48, F_Score - 0.56, max F_Score - 0.64"
       ]
      },
      {
       "output_type": "stream",
       "stream": "stdout",
       "text": [
        "\n",
        "SQLite version: 3.7.13\n",
        "7.9 sec: Precision - 0.74, Recall - 0.65, F_Score - 0.69, max F_Score - 0.74"
       ]
      },
      {
       "output_type": "stream",
       "stream": "stdout",
       "text": [
        "\n",
        "SQLite version: 3.7.13\n",
        "advantage-"
       ]
      },
      {
       "output_type": "stream",
       "stream": "stdout",
       "text": [
        " 100.0  f1- 0.639175257732  f2- 0.743169398907\n"
       ]
      }
     ],
     "prompt_number": 63
    },
    {
     "cell_type": "code",
     "collapsed": false,
     "input": [
      "reload(mio)\n",
      "mio.TestData2Sql(1, X_pos,ypln_pos,db)\n",
      "mio.TestData2Sql(-1, X_neg,ypln_neg,db)"
     ],
     "language": "python",
     "metadata": {},
     "outputs": [
      {
       "output_type": "stream",
       "stream": "stdout",
       "text": [
        "SQLite version: 3.7.13\n",
        "SQLite version: 3.7.13"
       ]
      },
      {
       "output_type": "stream",
       "stream": "stdout",
       "text": [
        "\n"
       ]
      }
     ],
     "prompt_number": 64
    },
    {
     "cell_type": "code",
     "collapsed": false,
     "input": [],
     "language": "python",
     "metadata": {},
     "outputs": []
    }
   ],
   "metadata": {}
  }
 ]
}