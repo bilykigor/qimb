{
 "metadata": {
  "name": "",
  "signature": "sha256:f5ad02119616bf3636d8150a1c7dd081acabe9b0a213f40a9a24cea7f125749e"
 },
 "nbformat": 3,
 "nbformat_minor": 0,
 "worksheets": [
  {
   "cells": [
    {
     "cell_type": "code",
     "collapsed": false,
     "input": [
      "import numpy as np\n",
      "import pandas as pd\n",
      "from ggplot import *\n",
      "import os\n",
      "from Trip import Trip\n",
      "import seaborn as sns\n",
      "import itertools\n",
      "from scipy import linalg\n",
      "import matplotlib.pyplot as plt\n",
      "import matplotlib as mpl\n",
      "from sklearn.mixture import GMM\n",
      "from sklearn.neighbors import KernelDensity as kde\n",
      "from scipy.stats import multivariate_normal\n",
      "from scipy.spatial.distance import mahalanobis\n"
     ],
     "language": "python",
     "metadata": {},
     "outputs": [],
     "prompt_number": 1
    },
    {
     "cell_type": "code",
     "collapsed": false,
     "input": [
      "driverID = 1\n",
      "driverDir = '/home/user1/Desktop/SharedFolder/Kaggle/DriversCleaned/'+str(driverID)\n",
      "tripInd = 1\n",
      "df = pd.read_csv(driverDir+'_' + str(tripInd)+'.csv')\n",
      "trip = Trip(driverID,tripInd,df)\n",
      "trip.getSpeed()\n",
      "trip.getAcc()\n",
      "#trip.getRadius()\n",
      "#trip.getCacc()\n",
      "trip.getFeatures()\n",
      "X=trip.features[['v','acc']]"
     ],
     "language": "python",
     "metadata": {},
     "outputs": [],
     "prompt_number": 19
    },
    {
     "cell_type": "code",
     "collapsed": false,
     "input": [
      "def GetProba(drive,driverID,tripInd):\n",
      "    driverDir = '/home/user1/Desktop/SharedFolder/Kaggle/DriversCleaned/'+str(driverID)\n",
      "    df = pd.read_csv(driverDir+'_' + str(tripInd)+'.csv')\n",
      "    trip = Trip(driverID,tripInd,df)\n",
      "    trip.getSpeed()\n",
      "    trip.getAcc()\n",
      "    #trip.getRadius()\n",
      "    #trip.getCacc()\n",
      "    trip.getFeatures()\n",
      "    X=trip.features[['v','acc']]\n",
      "    \n",
      "    probas = np.zeros((X.shape[0],drive.shape[0]))\n",
      "    for i in range(drive.shape[0]):\n",
      "        probas[:,i]=multivariate_normal.pdf(X, mean=array(drive.ix[i,:2]), cov=[array(drive.ix[i,2:4]),array(drive.ix[i,4:])])\n",
      "\n",
      "    probas=np.max(probas,axis=1)\n",
      "    return probas.mean()"
     ],
     "language": "python",
     "metadata": {},
     "outputs": [],
     "prompt_number": 21
    },
    {
     "cell_type": "code",
     "collapsed": false,
     "input": [
      "driverID=10\n",
      "drive=pd.read_csv('/home/user1/Desktop/SharedFolder/Kaggle/FeaturesCleaned/GMM/All/' + str(driverID) + '.csv')\n",
      "\n",
      "d = pd.DataFrame(np.zeros((200,2)),columns=['val1','val2'])\n",
      "for i in range(1,201):\n",
      "    d.loc[i-1]=[GetProba(drive,driverID,i),GetProba(drive,2,i)]"
     ],
     "language": "python",
     "metadata": {},
     "outputs": [],
     "prompt_number": 27
    },
    {
     "cell_type": "code",
     "collapsed": false,
     "input": [
      "ggplot(d,aes(x='val1')) + geom_histogram(fill='green',alpha=0.4)+\\\n",
      "geom_histogram(d,aes(x='val2'),fill='red',alpha=0.4)"
     ],
     "language": "python",
     "metadata": {},
     "outputs": [
      {
       "metadata": {},
       "output_type": "display_data",
       "png": "[encoded data removed]",
       "text": [
        "<matplotlib.figure.Figure at 0x7f17a0771950>"
       ]
      },
      {
       "metadata": {},
       "output_type": "pyout",
       "prompt_number": 28,
       "text": [
        "<ggplot: (8733715819705)>"
       ]
      }
     ],
     "prompt_number": 28
    },
    {
     "cell_type": "code",
     "collapsed": false,
     "input": [
      "z=array(list(set(np.asarray([range(x-10,x+10) for x in (X.v<vlim[0]).nonzero()[0]]).flatten())))\n",
      "z=z[z<X.shape[0]]\n",
      "z=z[z>=0]\n",
      "#z=array(list(set(range(X.shape[0]))-set(z)))"
     ],
     "language": "python",
     "metadata": {},
     "outputs": [],
     "prompt_number": 142
    },
    {
     "cell_type": "code",
     "collapsed": false,
     "input": [
      "Xz=X.loc[z]\n",
      "Xz=Xz.reset_index(drop=True)"
     ],
     "language": "python",
     "metadata": {},
     "outputs": [],
     "prompt_number": 77
    },
    {
     "cell_type": "code",
     "collapsed": false,
     "input": [
      "tripFiles = range(1,201)\n",
      "vlim=[0.01,15]\n",
      "clim=[-10,10]\n",
      "selectedCols = ['acc','cacc','v']"
     ],
     "language": "python",
     "metadata": {},
     "outputs": [],
     "prompt_number": 7
    },
    {
     "cell_type": "code",
     "collapsed": false,
     "input": [
      "selectedCols = ['v','acc']"
     ],
     "language": "python",
     "metadata": {},
     "outputs": [],
     "prompt_number": 6
    },
    {
     "cell_type": "code",
     "collapsed": false,
     "input": [
      "X = pd.DataFrame(columns=selectedCols)\n",
      "for tripID in range(1,201):                       \n",
      "    trip = Trip(driverID,tripID,pd.read_csv(driverDir+'_' + str(tripID) + '.csv'))\n",
      "    trip.getSpeed()\n",
      "    trip.getAcc()\n",
      "    #trip.getRadius()\n",
      "    #trip.getCacc()\n",
      "    trip.getFeatures()\n",
      "    '''z=array(list(set(np.asarray([range(x-5,x+5) for x in (trip.features.v<vlim[0]).nonzero()[0]]).flatten())))\n",
      "    z=z[z<trip.features.shape[0]]\n",
      "    z=z[z>=0]\n",
      "    z=array(list(set(range(trip.features.shape[0]))-set(z)))\n",
      "    \n",
      "    Xz=trip.features.loc[z]\n",
      "    Xz=Xz.reset_index(drop=True)\n",
      "    \n",
      "    Xz=Xz.loc[Xz.v!=0]\n",
      "    Xz=Xz.reset_index(drop=True)'''\n",
      "\n",
      "    X = X.append(trip.features)\n",
      "X=X.reset_index(drop=True)"
     ],
     "language": "python",
     "metadata": {},
     "outputs": [],
     "prompt_number": 42
    },
    {
     "cell_type": "code",
     "collapsed": false,
     "input": [
      "vlim=[0.01,40]\n",
      "clim=[-20,20]\n",
      "X=X[(X.v<vlim[1]) & (X.v>vlim[0])]\n",
      "X=X[(X.acc<clim[1]) & (X.acc>clim[0])]\n",
      "X=X[(X.acc2<clim[1]) & (X.acc2>clim[0])]\n",
      "X.index = range(X.shape[0])\n",
      "X=X[selectedCols]"
     ],
     "language": "python",
     "metadata": {},
     "outputs": [],
     "prompt_number": 43
    },
    {
     "cell_type": "code",
     "collapsed": false,
     "input": [
      "from sklearn.grid_search import GridSearchCV\n",
      "from sklearn.neighbors import KernelDensity\n",
      "\n",
      "'''grid = GridSearchCV(KernelDensity(),{'bandwidth': np.linspace(0.1, 1.0, 5)},cv=10,n_jobs=2)\n",
      "grid.fit(np.asanyarray(X[['v','acc']]))\n",
      "print grid.best_params_'''\n",
      "clf = KernelDensity()\n",
      "clf.fit(X[['v','acc']])"
     ],
     "language": "python",
     "metadata": {},
     "outputs": [
      {
       "metadata": {},
       "output_type": "pyout",
       "prompt_number": 44,
       "text": [
        "KernelDensity(algorithm='auto', atol=0, bandwidth=1.0, breadth_first=True,\n",
        "       kernel='gaussian', leaf_size=40, metric='euclidean',\n",
        "       metric_params=None, rtol=0)"
       ]
      }
     ],
     "prompt_number": 44
    },
    {
     "cell_type": "code",
     "collapsed": false,
     "input": [
      "def GetProba(clf,driverID,tripID):\n",
      "    #print driverID,tripID\n",
      "    driverDir = '/home/user1/Desktop/SharedFolder/Kaggle/DriversCleaned/'+str(driverID)\n",
      "    df = pd.read_csv(driverDir+'_' + str(tripInd)+'.csv')\n",
      "    trip = Trip(driverID,tripInd,df)\n",
      "    trip.getSpeed()\n",
      "    trip.getAcc()\n",
      "    #trip.getRadius()\n",
      "    #trip.getCacc()\n",
      "    trip.getFeatures()\n",
      "    X=trip.features[['v','acc']]\n",
      "    \n",
      "    probas = np.zeros(X.shape[0])\n",
      "    \n",
      "    for i in range(X.shape[0]):\n",
      "        probas[i]=clf.score(X.loc[i])\n",
      "    print probas.mean()\n",
      "    return probas.mean()"
     ],
     "language": "python",
     "metadata": {},
     "outputs": [],
     "prompt_number": 59
    },
    {
     "cell_type": "code",
     "collapsed": false,
     "input": [
      "driverID=1\n",
      "d = pd.DataFrame(np.zeros((200,2)),columns=['val1','val2'])\n",
      "for i in range(1,200):\n",
      "    d.loc[i-1]=[GetProba(clf,driverID,i),GetProba(clf,3,i)]\n",
      "    print d.loc[i-1]"
     ],
     "language": "python",
     "metadata": {},
     "outputs": [
      {
       "output_type": "stream",
       "stream": "stdout",
       "text": [
        "-4.81877572561\n",
        "-4.41326198938"
       ]
      },
      {
       "output_type": "stream",
       "stream": "stdout",
       "text": [
        "\n",
        "val1   -4.818776\n",
        "val2   -4.413262\n",
        "Name: 0, dtype: float64\n",
        "-4.81877572561"
       ]
      },
      {
       "output_type": "stream",
       "stream": "stdout",
       "text": [
        "\n",
        "-4.41326198938"
       ]
      },
      {
       "output_type": "stream",
       "stream": "stdout",
       "text": [
        "\n",
        "val1   -4.818776\n",
        "val2   -4.413262\n",
        "Name: 1, dtype: float64\n"
       ]
      },
      {
       "ename": "KeyboardInterrupt",
       "evalue": "",
       "output_type": "pyerr",
       "traceback": [
        "\u001b[1;31m---------------------------------------------------------------------------\u001b[0m\n\u001b[1;31mKeyboardInterrupt\u001b[0m                         Traceback (most recent call last)",
        "\u001b[1;32m<ipython-input-60-8060dddfe806>\u001b[0m in \u001b[0;36m<module>\u001b[1;34m()\u001b[0m\n\u001b[0;32m      2\u001b[0m \u001b[0md\u001b[0m \u001b[1;33m=\u001b[0m \u001b[0mpd\u001b[0m\u001b[1;33m.\u001b[0m\u001b[0mDataFrame\u001b[0m\u001b[1;33m(\u001b[0m\u001b[0mnp\u001b[0m\u001b[1;33m.\u001b[0m\u001b[0mzeros\u001b[0m\u001b[1;33m(\u001b[0m\u001b[1;33m(\u001b[0m\u001b[1;36m200\u001b[0m\u001b[1;33m,\u001b[0m\u001b[1;36m2\u001b[0m\u001b[1;33m)\u001b[0m\u001b[1;33m)\u001b[0m\u001b[1;33m,\u001b[0m\u001b[0mcolumns\u001b[0m\u001b[1;33m=\u001b[0m\u001b[1;33m[\u001b[0m\u001b[1;34m'val1'\u001b[0m\u001b[1;33m,\u001b[0m\u001b[1;34m'val2'\u001b[0m\u001b[1;33m]\u001b[0m\u001b[1;33m)\u001b[0m\u001b[1;33m\u001b[0m\u001b[0m\n\u001b[0;32m      3\u001b[0m \u001b[1;32mfor\u001b[0m \u001b[0mi\u001b[0m \u001b[1;32min\u001b[0m \u001b[0mrange\u001b[0m\u001b[1;33m(\u001b[0m\u001b[1;36m1\u001b[0m\u001b[1;33m,\u001b[0m\u001b[1;36m200\u001b[0m\u001b[1;33m)\u001b[0m\u001b[1;33m:\u001b[0m\u001b[1;33m\u001b[0m\u001b[0m\n\u001b[1;32m----> 4\u001b[1;33m     \u001b[0md\u001b[0m\u001b[1;33m.\u001b[0m\u001b[0mloc\u001b[0m\u001b[1;33m[\u001b[0m\u001b[0mi\u001b[0m\u001b[1;33m-\u001b[0m\u001b[1;36m1\u001b[0m\u001b[1;33m]\u001b[0m\u001b[1;33m=\u001b[0m\u001b[1;33m[\u001b[0m\u001b[0mGetProba\u001b[0m\u001b[1;33m(\u001b[0m\u001b[0mclf\u001b[0m\u001b[1;33m,\u001b[0m\u001b[0mdriverID\u001b[0m\u001b[1;33m,\u001b[0m\u001b[0mi\u001b[0m\u001b[1;33m)\u001b[0m\u001b[1;33m,\u001b[0m\u001b[0mGetProba\u001b[0m\u001b[1;33m(\u001b[0m\u001b[0mclf\u001b[0m\u001b[1;33m,\u001b[0m\u001b[1;36m3\u001b[0m\u001b[1;33m,\u001b[0m\u001b[0mi\u001b[0m\u001b[1;33m)\u001b[0m\u001b[1;33m]\u001b[0m\u001b[1;33m\u001b[0m\u001b[0m\n\u001b[0m\u001b[0;32m      5\u001b[0m     \u001b[1;32mprint\u001b[0m \u001b[0md\u001b[0m\u001b[1;33m.\u001b[0m\u001b[0mloc\u001b[0m\u001b[1;33m[\u001b[0m\u001b[0mi\u001b[0m\u001b[1;33m-\u001b[0m\u001b[1;36m1\u001b[0m\u001b[1;33m]\u001b[0m\u001b[1;33m\u001b[0m\u001b[0m\n",
        "\u001b[1;32m<ipython-input-59-ca0124d6824c>\u001b[0m in \u001b[0;36mGetProba\u001b[1;34m(clf, driverID, tripID)\u001b[0m\n\u001b[0;32m     14\u001b[0m \u001b[1;33m\u001b[0m\u001b[0m\n\u001b[0;32m     15\u001b[0m     \u001b[1;32mfor\u001b[0m \u001b[0mi\u001b[0m \u001b[1;32min\u001b[0m \u001b[0mrange\u001b[0m\u001b[1;33m(\u001b[0m\u001b[0mX\u001b[0m\u001b[1;33m.\u001b[0m\u001b[0mshape\u001b[0m\u001b[1;33m[\u001b[0m\u001b[1;36m0\u001b[0m\u001b[1;33m]\u001b[0m\u001b[1;33m)\u001b[0m\u001b[1;33m:\u001b[0m\u001b[1;33m\u001b[0m\u001b[0m\n\u001b[1;32m---> 16\u001b[1;33m         \u001b[0mprobas\u001b[0m\u001b[1;33m[\u001b[0m\u001b[0mi\u001b[0m\u001b[1;33m]\u001b[0m\u001b[1;33m=\u001b[0m\u001b[0mclf\u001b[0m\u001b[1;33m.\u001b[0m\u001b[0mscore\u001b[0m\u001b[1;33m(\u001b[0m\u001b[0mX\u001b[0m\u001b[1;33m.\u001b[0m\u001b[0mloc\u001b[0m\u001b[1;33m[\u001b[0m\u001b[0mi\u001b[0m\u001b[1;33m]\u001b[0m\u001b[1;33m)\u001b[0m\u001b[1;33m\u001b[0m\u001b[0m\n\u001b[0m\u001b[0;32m     17\u001b[0m     \u001b[1;32mprint\u001b[0m \u001b[0mprobas\u001b[0m\u001b[1;33m.\u001b[0m\u001b[0mmean\u001b[0m\u001b[1;33m(\u001b[0m\u001b[1;33m)\u001b[0m\u001b[1;33m\u001b[0m\u001b[0m\n\u001b[0;32m     18\u001b[0m     \u001b[1;32mreturn\u001b[0m \u001b[0mprobas\u001b[0m\u001b[1;33m.\u001b[0m\u001b[0mmean\u001b[0m\u001b[1;33m(\u001b[0m\u001b[1;33m)\u001b[0m\u001b[1;33m\u001b[0m\u001b[0m\n",
        "\u001b[1;32m/home/user1/anaconda/lib/python2.7/site-packages/sklearn/neighbors/kde.pyc\u001b[0m in \u001b[0;36mscore\u001b[1;34m(self, X)\u001b[0m\n\u001b[0;32m    171\u001b[0m             \u001b[0mLog\u001b[0m \u001b[0mprobabilities\u001b[0m \u001b[0mof\u001b[0m \u001b[0meach\u001b[0m \u001b[0mdata\u001b[0m \u001b[0mpoint\u001b[0m \u001b[1;32min\u001b[0m \u001b[0mX\u001b[0m\u001b[1;33m.\u001b[0m\u001b[1;33m\u001b[0m\u001b[0m\n\u001b[0;32m    172\u001b[0m         \"\"\"\n\u001b[1;32m--> 173\u001b[1;33m         \u001b[1;32mreturn\u001b[0m \u001b[0mnp\u001b[0m\u001b[1;33m.\u001b[0m\u001b[0msum\u001b[0m\u001b[1;33m(\u001b[0m\u001b[0mself\u001b[0m\u001b[1;33m.\u001b[0m\u001b[0mscore_samples\u001b[0m\u001b[1;33m(\u001b[0m\u001b[0mX\u001b[0m\u001b[1;33m)\u001b[0m\u001b[1;33m)\u001b[0m\u001b[1;33m\u001b[0m\u001b[0m\n\u001b[0m\u001b[0;32m    174\u001b[0m \u001b[1;33m\u001b[0m\u001b[0m\n\u001b[0;32m    175\u001b[0m     \u001b[1;32mdef\u001b[0m \u001b[0msample\u001b[0m\u001b[1;33m(\u001b[0m\u001b[0mself\u001b[0m\u001b[1;33m,\u001b[0m \u001b[0mn_samples\u001b[0m\u001b[1;33m=\u001b[0m\u001b[1;36m1\u001b[0m\u001b[1;33m,\u001b[0m \u001b[0mrandom_state\u001b[0m\u001b[1;33m=\u001b[0m\u001b[0mNone\u001b[0m\u001b[1;33m)\u001b[0m\u001b[1;33m:\u001b[0m\u001b[1;33m\u001b[0m\u001b[0m\n",
        "\u001b[1;32m/home/user1/anaconda/lib/python2.7/site-packages/sklearn/neighbors/kde.pyc\u001b[0m in \u001b[0;36mscore_samples\u001b[1;34m(self, X)\u001b[0m\n\u001b[0;32m    153\u001b[0m         log_density = self.tree_.kernel_density(\n\u001b[0;32m    154\u001b[0m             \u001b[0mX\u001b[0m\u001b[1;33m,\u001b[0m \u001b[0mh\u001b[0m\u001b[1;33m=\u001b[0m\u001b[0mself\u001b[0m\u001b[1;33m.\u001b[0m\u001b[0mbandwidth\u001b[0m\u001b[1;33m,\u001b[0m \u001b[0mkernel\u001b[0m\u001b[1;33m=\u001b[0m\u001b[0mself\u001b[0m\u001b[1;33m.\u001b[0m\u001b[0mkernel\u001b[0m\u001b[1;33m,\u001b[0m \u001b[0matol\u001b[0m\u001b[1;33m=\u001b[0m\u001b[0matol_N\u001b[0m\u001b[1;33m,\u001b[0m\u001b[1;33m\u001b[0m\u001b[0m\n\u001b[1;32m--> 155\u001b[1;33m             rtol=self.rtol, breadth_first=self.breadth_first, return_log=True)\n\u001b[0m\u001b[0;32m    156\u001b[0m         \u001b[0mlog_density\u001b[0m \u001b[1;33m-=\u001b[0m \u001b[0mnp\u001b[0m\u001b[1;33m.\u001b[0m\u001b[0mlog\u001b[0m\u001b[1;33m(\u001b[0m\u001b[0mN\u001b[0m\u001b[1;33m)\u001b[0m\u001b[1;33m\u001b[0m\u001b[0m\n\u001b[0;32m    157\u001b[0m         \u001b[1;32mreturn\u001b[0m \u001b[0mlog_density\u001b[0m\u001b[1;33m\u001b[0m\u001b[0m\n",
        "\u001b[1;31mKeyboardInterrupt\u001b[0m: "
       ]
      }
     ],
     "prompt_number": 60
    },
    {
     "cell_type": "code",
     "collapsed": false,
     "input": [
      "driverID=2\n",
      "tripInd=2\n",
      "driverDir = '/home/user1/Desktop/SharedFolder/Kaggle/DriversCleaned/'+str(driverID)\n",
      "df = pd.read_csv(driverDir+'_' + str(tripInd)+'.csv')\n",
      "trip = Trip(driverID,tripInd,df)\n",
      "trip.getSpeed()\n",
      "trip.getAcc()\n",
      "    #trip.getRadius()\n",
      "    #trip.getCacc()\n",
      "trip.getFeatures()\n",
      "X=trip.features[['v','acc']]\n",
      "    \n",
      "probas = np.zeros(X.shape[0])\n",
      "    \n",
      "for i in range(X.shape[0]):\n",
      "    probas[i]=clf.score(X.loc[i])"
     ],
     "language": "python",
     "metadata": {},
     "outputs": [],
     "prompt_number": 53
    },
    {
     "cell_type": "code",
     "collapsed": false,
     "input": [
      "probas.mean()"
     ],
     "language": "python",
     "metadata": {},
     "outputs": [
      {
       "metadata": {},
       "output_type": "pyout",
       "prompt_number": 54,
       "text": [
        "-4.7934610341501607"
       ]
      }
     ],
     "prompt_number": 54
    },
    {
     "cell_type": "code",
     "collapsed": false,
     "input": [
      "sns.jointplot(X.v,X.acc,kind = \"scatter\",size=6,ratio=5,marginal_kws={'bins':30})\n",
      "#sns.kdeplot(X[['cacc','acc']])"
     ],
     "language": "python",
     "metadata": {},
     "outputs": [
      {
       "metadata": {},
       "output_type": "pyout",
       "prompt_number": 11,
       "text": [
        "<seaborn.axisgrid.JointGrid at 0x7f5d4bf366d0>"
       ]
      },
      {
       "metadata": {},
       "output_type": "display_data",
       "png": "[encoded data removed]",
       "text": [
        "<matplotlib.figure.Figure at 0x7f5d4bf36710>"
       ]
      }
     ],
     "prompt_number": 11
    },
    {
     "cell_type": "code",
     "collapsed": false,
     "input": [
      "xN = np.asanyarray(X[['cacc','acc']])"
     ],
     "language": "python",
     "metadata": {},
     "outputs": [],
     "prompt_number": 13
    },
    {
     "cell_type": "code",
     "collapsed": false,
     "input": [
      "n_components = range(1,25)\n",
      "gmms = [GMM(n_components=n, covariance_type='full').fit(xN) for n in n_components]\n",
      "BICs = [gmm.bic(xN) for gmm in gmms]\n",
      "i_min = np.argmin(BICs)\n",
      "clf=gmms[i_min]\n",
      "print '%s components - BIC %s' %(n_components[i_min],BICs[i_min])\n",
      "tol = np.percentile(np.exp(clf.score(xN)),10)"
     ],
     "language": "python",
     "metadata": {},
     "outputs": [
      {
       "output_type": "stream",
       "stream": "stdout",
       "text": [
        "23 components - BIC 271856.635648\n"
       ]
      }
     ],
     "prompt_number": 16
    },
    {
     "cell_type": "code",
     "collapsed": false,
     "input": [
      "fig1 = plt.figure(figsize=(10, 10))\n",
      "color_iter = itertools.cycle(['r', 'g', 'b', 'c', 'm','wheat','violet','sienna',\n",
      "                              'yellow','springgreen','sandybrown','tomato','tan','teal'])\n",
      "\n",
      "Y_ = clf.predict(xN)\n",
      "for i, (mean, covar, color) in enumerate(zip(clf.means_, clf._get_covars(), color_iter)):\n",
      "    v, w = linalg.eigh(covar)\n",
      "    u = w[0] / linalg.norm(w[0])\n",
      "\n",
      "    if not np.any(Y_ == i):\n",
      "        continue\n",
      "    plt.scatter(xN[Y_ == i, 0], xN[Y_ == i, 1], .8, color=color)\n",
      "\n",
      "'''X_, Y_ = np.meshgrid(np.linspace(vlim[0], vlim[1]),np.linspace(clim[0], clim[1]))\n",
      "XX = np.array([X_.ravel(), Y_.ravel()]).T\n",
      "Z = np.exp(clf.score(XX))\n",
      "Z = Z.reshape(X_.shape)\n",
      "CS = plt.contour(X_, Y_, Z)'''\n",
      "\n",
      "plt.show()"
     ],
     "language": "python",
     "metadata": {},
     "outputs": [
      {
       "metadata": {},
       "output_type": "display_data",
       "png": "[encoded data removed]",
       "text": [
        "<matplotlib.figure.Figure at 0x7fdd38786b10>"
       ]
      }
     ],
     "prompt_number": 17
    },
    {
     "cell_type": "code",
     "collapsed": false,
     "input": [],
     "language": "python",
     "metadata": {},
     "outputs": [],
     "prompt_number": 14
    },
    {
     "cell_type": "code",
     "collapsed": false,
     "input": [
      "featuresDir = '/home/user1/Desktop/Share2Windows/Kaggle/features/'\n",
      "drivers = map(int,os.listdir('../Kaggle/drivers/'))\n",
      "drivers.sort(reverse=False)\n",
      "vlim=[5,50]\n",
      "clim=[-4,4]\n",
      "\n",
      "X = pd.DataFrame(columns=['acc','v'])\n",
      "for tripID in xrange(1,201):    \n",
      "    X = X.append(pd.read_csv(featuresDir + str(driverID) +'_'+str(tripID) + '.csv'))\n",
      "    \n",
      "X.index = range(X.shape[0])\n",
      "X=X[(X.v<vlim[1]) & (X.v>vlim[0])]\n",
      "X=X[(X.acc<clim[1]) & (X.acc>clim[0])]\n",
      "X.index = range(X.shape[0])"
     ],
     "language": "python",
     "metadata": {},
     "outputs": []
    },
    {
     "cell_type": "code",
     "collapsed": false,
     "input": [
      "import numpy as np\n",
      "from matplotlib import pyplot as plt\n",
      "from scipy import stats\n",
      "from sklearn.mixture import GMM\n",
      "from sklearn.neighbors import KernelDensity\n",
      "np.random.seed(0)\n",
      "x = np.asanyarray(X[X.v>5].acc)\n",
      "#------------------------------------------------------------\n",
      "# plot the results\n",
      "fig = plt.figure(figsize=(5, 5))\n",
      "fig.subplots_adjust(bottom=0.08, top=0.95, right=0.95, hspace=0.1)\n",
      "N_values = (10000,20000)\n",
      "subplots = (211, 212)\n",
      "np.random.shuffle(x)\n",
      "\n",
      "for N, subplot in zip(N_values,  subplots):\n",
      "    ax = fig.add_subplot(subplot)\n",
      "    xN = x[:N]\n",
      "   \n",
      "    # Compute density via Gaussian Mixtures\n",
      "    # we'll try several numbers of clusters\n",
      "    n_components = np.arange(2, 10)\n",
      "    gmms = [GMM(n_components=n, covariance_type='full').fit(xN) for n in n_components]\n",
      "    BICs = [gmm.bic(xN) for gmm in gmms]\n",
      "    i_min = np.argmin(BICs)\n",
      "    t = np.linspace(-10, 30, 1000)\n",
      "    logprob, responsibilities = gmms[i_min].eval(t)\n",
      "    \n",
      "    # plot the results\n",
      "    ax.plot(t, np.exp(logprob), '-', color='gray',\n",
      "    label=\"Mixture Model\\n(%i components)\" % n_components[i_min])\n",
      "    \n",
      "    # label the plot\n",
      "    ax.text(0.02, 0.95, \"%i points\" % N, ha='left', va='top',\n",
      "    transform=ax.transAxes)\n",
      "    ax.set_ylabel('$p(x)$')\n",
      "    ax.legend(loc='upper right')\n",
      "    if subplot == 212:\n",
      "        ax.set_xlabel('$x$')\n",
      "plt.show()"
     ],
     "language": "python",
     "metadata": {},
     "outputs": []
    },
    {
     "cell_type": "code",
     "collapsed": false,
     "input": [
      "clf.covars_[0]"
     ],
     "language": "python",
     "metadata": {},
     "outputs": [
      {
       "metadata": {},
       "output_type": "pyout",
       "prompt_number": 34,
       "text": [
        "array([[ 28.64796319,  -1.11622618],\n",
        "       [ -1.11622618,  14.17709725]])"
       ]
      }
     ],
     "prompt_number": 34
    },
    {
     "cell_type": "code",
     "collapsed": false,
     "input": [
      "clf.covars_[0].flatten()"
     ],
     "language": "python",
     "metadata": {},
     "outputs": [
      {
       "metadata": {},
       "output_type": "pyout",
       "prompt_number": 37,
       "text": [
        "array([ 28.64796319,  -1.11622618,  -1.11622618,  14.17709725])"
       ]
      }
     ],
     "prompt_number": 37
    },
    {
     "cell_type": "code",
     "collapsed": false,
     "input": [
      "start = 0\n",
      "end = 5\n"
     ],
     "language": "python",
     "metadata": {},
     "outputs": [],
     "prompt_number": 3
    },
    {
     "cell_type": "code",
     "collapsed": false,
     "input": [
      "ggplot(Xz,aes(x='v',y='acc')) + geom_point(size=10)"
     ],
     "language": "python",
     "metadata": {},
     "outputs": [
      {
       "metadata": {},
       "output_type": "display_data",
       "png": "[encoded data removed]",
       "text": [
        "<matplotlib.figure.Figure at 0x7f6b818ded90>"
       ]
      },
      {
       "metadata": {},
       "output_type": "pyout",
       "prompt_number": 80,
       "text": [
        "<ggplot: (8756231431013)>"
       ]
      }
     ],
     "prompt_number": 80
    },
    {
     "cell_type": "code",
     "collapsed": false,
     "input": [
      "df=trip.coordinates.ix[start:end,:].copy()"
     ],
     "language": "python",
     "metadata": {},
     "outputs": [],
     "prompt_number": 20
    },
    {
     "cell_type": "code",
     "collapsed": false,
     "input": [
      "i=2\n",
      "df.x[i]=df.x[i]-df.x[i-1]\n",
      "df.y[i]=df.y[i]-df.y[i-1]"
     ],
     "language": "python",
     "metadata": {},
     "outputs": [],
     "prompt_number": 27
    },
    {
     "cell_type": "code",
     "collapsed": false,
     "input": [
      "df"
     ],
     "language": "python",
     "metadata": {},
     "outputs": [
      {
       "html": [
        "<div style=\"max-height:1000px;max-width:1500px;overflow:auto;\">\n",
        "<table border=\"1\" class=\"dataframe\">\n",
        "  <thead>\n",
        "    <tr style=\"text-align: right;\">\n",
        "      <th></th>\n",
        "      <th>x</th>\n",
        "      <th>y</th>\n",
        "    </tr>\n",
        "  </thead>\n",
        "  <tbody>\n",
        "    <tr>\n",
        "      <th>0</th>\n",
        "      <td>  0.0000</td>\n",
        "      <td>  0.0000</td>\n",
        "    </tr>\n",
        "    <tr>\n",
        "      <th>1</th>\n",
        "      <td> 18.4283</td>\n",
        "      <td>-10.9975</td>\n",
        "    </tr>\n",
        "    <tr>\n",
        "      <th>2</th>\n",
        "      <td> 17.6717</td>\n",
        "      <td>-10.9025</td>\n",
        "    </tr>\n",
        "    <tr>\n",
        "      <th>3</th>\n",
        "      <td> 17.4291</td>\n",
        "      <td>-10.5961</td>\n",
        "    </tr>\n",
        "    <tr>\n",
        "      <th>4</th>\n",
        "      <td> 16.5709</td>\n",
        "      <td>-10.3039</td>\n",
        "    </tr>\n",
        "    <tr>\n",
        "      <th>5</th>\n",
        "      <td> 16.3142</td>\n",
        "      <td> -9.7487</td>\n",
        "    </tr>\n",
        "  </tbody>\n",
        "</table>\n",
        "</div>"
       ],
       "metadata": {},
       "output_type": "pyout",
       "prompt_number": 28,
       "text": [
        "         x        y\n",
        "0   0.0000   0.0000\n",
        "1  18.4283 -10.9975\n",
        "2  17.6717 -10.9025\n",
        "3  17.4291 -10.5961\n",
        "4  16.5709 -10.3039\n",
        "5  16.3142  -9.7487"
       ]
      }
     ],
     "prompt_number": 28
    },
    {
     "cell_type": "code",
     "collapsed": false,
     "input": [
      "ggplot(df,aes(x='x',y='y')) + geom_point(size=5)"
     ],
     "language": "python",
     "metadata": {},
     "outputs": [
      {
       "metadata": {},
       "output_type": "display_data",
       "png": "[encoded data removed]",
       "text": [
        "<matplotlib.figure.Figure at 0x64a3910>"
       ]
      },
      {
       "metadata": {},
       "output_type": "pyout",
       "prompt_number": 29,
       "text": [
        "<ggplot: (6595437)>"
       ]
      }
     ],
     "prompt_number": 29
    },
    {
     "cell_type": "code",
     "collapsed": false,
     "input": [
      "df = trip.cacc.copy()\n",
      "df['ind'] = range(df.shape[0])\n",
      "ggplot(df.ix[start:end,:],aes(x='ind',y='val')) + geom_point(size=10)"
     ],
     "language": "python",
     "metadata": {},
     "outputs": [
      {
       "metadata": {},
       "output_type": "display_data",
       "png": "[encoded data removed]",
       "text": [
        "<matplotlib.figure.Figure at 0x5cc7350>"
       ]
      },
      {
       "metadata": {},
       "output_type": "pyout",
       "prompt_number": 9,
       "text": [
        "<ggplot: (6143197)>"
       ]
      }
     ],
     "prompt_number": 9
    },
    {
     "cell_type": "code",
     "collapsed": false,
     "input": [
      "df = tripc.features.copy()\n",
      "df['ind'] = range(df.shape[0])\n",
      "ggplot(df.ix[start:end,:],aes(x='ind',y='acc')) + geom_point(color='green',size=10)#+\\\n",
      "#geom_point(df.ix[start:end,:],aes(x='ind',y='cacc'),color='red',size=10)"
     ],
     "language": "python",
     "metadata": {},
     "outputs": [
      {
       "metadata": {},
       "output_type": "display_data",
       "png": "[encoded data removed]",
       "text": [
        "<matplotlib.figure.Figure at 0x7f50bcc7ead0>"
       ]
      },
      {
       "metadata": {},
       "output_type": "pyout",
       "prompt_number": 13,
       "text": [
        "<ggplot: (8749046334381)>"
       ]
      }
     ],
     "prompt_number": 13
    },
    {
     "cell_type": "code",
     "collapsed": false,
     "input": [],
     "language": "python",
     "metadata": {},
     "outputs": []
    }
   ],
   "metadata": {}
  }
 ]
}