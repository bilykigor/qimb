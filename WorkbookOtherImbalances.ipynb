{
 "metadata": {
  "name": "",
  "signature": "sha256:0e2ae1d0ec3b466fd81c148c50da81d9f1786ea59c4845c1ef62bd334b195027"
 },
 "nbformat": 3,
 "nbformat_minor": 0,
 "worksheets": [
  {
   "cells": [
    {
     "cell_type": "code",
     "collapsed": false,
     "input": [
      "import qimbs \n",
      "import numpy as np\n",
      "import pandas as pd\n",
      "from ggplot import *"
     ],
     "language": "python",
     "metadata": {},
     "outputs": [],
     "prompt_number": 1
    },
    {
     "cell_type": "code",
     "collapsed": false,
     "input": [
      "reload(qimbs)"
     ],
     "language": "python",
     "metadata": {},
     "outputs": [
      {
       "metadata": {},
       "output_type": "pyout",
       "prompt_number": 83,
       "text": [
        "<module 'qimbs' from 'qimbs.py'>"
       ]
      }
     ],
     "prompt_number": 83
    },
    {
     "cell_type": "code",
     "collapsed": false,
     "input": [
      "#!Importing data\n",
      "df = pd.DataFrame()\n",
      "for i in range(5,7):\n",
      "    df = df.append(qimbs.import_month(i))\n",
      "    print i\n",
      "print df.shape\n",
      "df.index = range(df.shape[0])\n",
      "\n",
      "#Adding Timestamp column\n",
      "#df = qimbs.create_timestamp(df)"
     ],
     "language": "python",
     "metadata": {},
     "outputs": [
      {
       "output_type": "stream",
       "stream": "stdout",
       "text": [
        "5\n",
        "6"
       ]
      },
      {
       "output_type": "stream",
       "stream": "stdout",
       "text": [
        "\n",
        "(2774572, 17)\n"
       ]
      }
     ],
     "prompt_number": 3
    },
    {
     "cell_type": "code",
     "collapsed": false,
     "input": [
      "#Getting imbalance info\n",
      "imbalanceMsg = qimbs.get_imbelanceMSGCumulative(df,2)\n",
      "imbalanceMsg.shape"
     ],
     "language": "python",
     "metadata": {},
     "outputs": [
      {
       "metadata": {},
       "output_type": "pyout",
       "prompt_number": 84,
       "text": [
        "(180510, 16)"
       ]
      }
     ],
     "prompt_number": 84
    },
    {
     "cell_type": "code",
     "collapsed": false,
     "input": [
      "imbalanceMsg_=imbalanceMsg.copy()"
     ],
     "language": "python",
     "metadata": {},
     "outputs": [],
     "prompt_number": 127
    },
    {
     "cell_type": "code",
     "collapsed": false,
     "input": [
      "imbalanceMsg_=imbalanceMsg_.append(imbalanceMsg)\n",
      "imbalanceMsg=imbalanceMsg_\n",
      "imbalanceMsg.index = range(imbalanceMsg.shape[0])\n",
      "imbalanceMsg.shape"
     ],
     "language": "python",
     "metadata": {},
     "outputs": [
      {
       "metadata": {},
       "output_type": "pyout",
       "prompt_number": 7,
       "text": [
        "(5361, 16)"
       ]
      }
     ],
     "prompt_number": 7
    },
    {
     "cell_type": "code",
     "collapsed": false,
     "input": [
      "    (startTime1,endTime1) = qimbs.getImbTime(0)\n",
      "    (startTime2,endTime2) = qimbs.getImbTime(2)\n",
      "    startTime,endTime=startTime1,endTime2\n",
      "    \n",
      "    imbalanceMsg = df[df.Reason == 'Imbalance']\n",
      "    imbalanceMsg = imbalanceMsg[\n",
      "    (imbalanceMsg.ImbRef>0) & \n",
      "    (imbalanceMsg.ImbCBC>0) &\n",
      "    (imbalanceMsg.ImbFar>0) &\n",
      "    (imbalanceMsg.Ask_P>0) &\n",
      "    (imbalanceMsg.Bid_P>0) &\n",
      "    (imbalanceMsg.Ask_P - imbalanceMsg.Bid_P < \n",
      "     1.0 * (imbalanceMsg.Ask_P + imbalanceMsg.Bid_P)*0.5) &\n",
      "    (imbalanceMsg.ImbShares!=0)]\n",
      "    \n",
      "    imbalanceMsg.index = range(imbalanceMsg.shape[0])\n",
      "    \n",
      "    Timestamp = []\n",
      "    for i in range(imbalanceMsg.shape[0]):\n",
      "        Timestamp.append(datetime.datetime.strptime(imbalanceMsg.Time[i],'%H:%M:%S'))\n",
      "        \n",
      "    imbalanceMsg['Timestamp'] = Timestamp\n",
      "    del Timestamp\n",
      "    imbalanceMsg = imbalanceMsg.set_index(['Timestamp'])\n",
      "    imbalanceMsg = imbalanceMsg.between_time(startTime,endTime)    "
     ],
     "language": "python",
     "metadata": {},
     "outputs": [],
     "prompt_number": 78
    },
    {
     "cell_type": "code",
     "collapsed": false,
     "input": [
      "imbalanceMsg[(imbalanceMsg.Symbol=='SIRI') & (imbalanceMsg.Date=='2014-05-01')].head()"
     ],
     "language": "python",
     "metadata": {},
     "outputs": [
      {
       "html": [
        "<div style=\"max-height:1000px;max-width:1500px;overflow:auto;\">\n",
        "<table border=\"1\" class=\"dataframe\">\n",
        "  <thead>\n",
        "    <tr style=\"text-align: right;\">\n",
        "      <th></th>\n",
        "      <th>Date</th>\n",
        "      <th>Symbol</th>\n",
        "      <th>Bid_P</th>\n",
        "      <th>Bid_S</th>\n",
        "      <th>Ask_P</th>\n",
        "      <th>Ask_S</th>\n",
        "      <th>ImbRef</th>\n",
        "      <th>ImbCBC</th>\n",
        "      <th>ImbFar</th>\n",
        "      <th>ImbShares</th>\n",
        "      <th>ImbPaired</th>\n",
        "      <th>Timestamp</th>\n",
        "      <th>OPC_P</th>\n",
        "      <th>PrevCLC_P</th>\n",
        "      <th>PrevCLC_S</th>\n",
        "      <th>Move</th>\n",
        "    </tr>\n",
        "  </thead>\n",
        "  <tbody>\n",
        "    <tr>\n",
        "      <th>82</th>\n",
        "      <td> 2014-05-01</td>\n",
        "      <td> SIRI</td>\n",
        "      <td> 3.18</td>\n",
        "      <td> 41950</td>\n",
        "      <td> 3.19</td>\n",
        "      <td> 81833</td>\n",
        "      <td> 3.18</td>\n",
        "      <td> 3.17</td>\n",
        "      <td> 3.17</td>\n",
        "      <td>-251827</td>\n",
        "      <td> 177389</td>\n",
        "      <td>1900-01-01 09:27:59</td>\n",
        "      <td> 3.17</td>\n",
        "      <td> 3.19</td>\n",
        "      <td> 58855616</td>\n",
        "      <td>-1</td>\n",
        "    </tr>\n",
        "    <tr>\n",
        "      <th>83</th>\n",
        "      <td> 2014-05-01</td>\n",
        "      <td> SIRI</td>\n",
        "      <td> 3.18</td>\n",
        "      <td> 34150</td>\n",
        "      <td> 3.19</td>\n",
        "      <td> 66728</td>\n",
        "      <td> 3.18</td>\n",
        "      <td> 3.17</td>\n",
        "      <td> 3.17</td>\n",
        "      <td>-220327</td>\n",
        "      <td> 208889</td>\n",
        "      <td>1900-01-01 09:28:05</td>\n",
        "      <td> 3.17</td>\n",
        "      <td> 3.19</td>\n",
        "      <td> 58855616</td>\n",
        "      <td>-1</td>\n",
        "    </tr>\n",
        "  </tbody>\n",
        "</table>\n",
        "</div>"
       ],
       "metadata": {},
       "output_type": "pyout",
       "prompt_number": 85,
       "text": [
        "          Date Symbol  Bid_P  Bid_S  Ask_P  Ask_S  ImbRef  ImbCBC  ImbFar  \\\n",
        "82  2014-05-01   SIRI   3.18  41950   3.19  81833    3.18    3.17    3.17   \n",
        "83  2014-05-01   SIRI   3.18  34150   3.19  66728    3.18    3.17    3.17   \n",
        "\n",
        "    ImbShares  ImbPaired           Timestamp  OPC_P  PrevCLC_P  PrevCLC_S  \\\n",
        "82    -251827     177389 1900-01-01 09:27:59   3.17       3.19   58855616   \n",
        "83    -220327     208889 1900-01-01 09:28:05   3.17       3.19   58855616   \n",
        "\n",
        "    Move  \n",
        "82    -1  \n",
        "83    -1  "
       ]
      }
     ],
     "prompt_number": 85
    },
    {
     "cell_type": "code",
     "collapsed": false,
     "input": [
      "df.head()"
     ],
     "language": "python",
     "metadata": {},
     "outputs": [
      {
       "html": [
        "<div style=\"max-height:1000px;max-width:1500px;overflow:auto;\">\n",
        "<table border=\"1\" class=\"dataframe\">\n",
        "  <thead>\n",
        "    <tr style=\"text-align: right;\">\n",
        "      <th></th>\n",
        "      <th>Date</th>\n",
        "      <th>Time</th>\n",
        "      <th>Fracs</th>\n",
        "      <th>Symbol</th>\n",
        "      <th>Reason</th>\n",
        "      <th>tSide</th>\n",
        "      <th>tPrice</th>\n",
        "      <th>tShares</th>\n",
        "      <th>Bid_P</th>\n",
        "      <th>Bid_S</th>\n",
        "      <th>Ask_P</th>\n",
        "      <th>Ask_S</th>\n",
        "      <th>ImbRef</th>\n",
        "      <th>ImbCBC</th>\n",
        "      <th>ImbFar</th>\n",
        "      <th>ImbShares</th>\n",
        "      <th>ImbPaired</th>\n",
        "    </tr>\n",
        "  </thead>\n",
        "  <tbody>\n",
        "    <tr>\n",
        "      <th>0</th>\n",
        "      <td> 2014-05-01</td>\n",
        "      <td> 14:31:01</td>\n",
        "      <td> 037:922:357</td>\n",
        "      <td> ZUMZ</td>\n",
        "      <td> Stock</td>\n",
        "      <td> YDAY</td>\n",
        "      <td> 24.45</td>\n",
        "      <td>   316800</td>\n",
        "      <td>  0.00</td>\n",
        "      <td>     0</td>\n",
        "      <td>  0.00</td>\n",
        "      <td>     0</td>\n",
        "      <td>NaN</td>\n",
        "      <td>NaN</td>\n",
        "      <td>NaN</td>\n",
        "      <td>NaN</td>\n",
        "      <td>NaN</td>\n",
        "    </tr>\n",
        "    <tr>\n",
        "      <th>1</th>\n",
        "      <td> 2014-05-01</td>\n",
        "      <td> 09:00:00</td>\n",
        "      <td> 000:238:062</td>\n",
        "      <td>  XIV</td>\n",
        "      <td> Stock</td>\n",
        "      <td> YDAY</td>\n",
        "      <td> 32.76</td>\n",
        "      <td>  8470340</td>\n",
        "      <td> 32.65</td>\n",
        "      <td>   100</td>\n",
        "      <td> 32.68</td>\n",
        "      <td>  4700</td>\n",
        "      <td>NaN</td>\n",
        "      <td>NaN</td>\n",
        "      <td>NaN</td>\n",
        "      <td>NaN</td>\n",
        "      <td>NaN</td>\n",
        "    </tr>\n",
        "    <tr>\n",
        "      <th>2</th>\n",
        "      <td> 2014-05-01</td>\n",
        "      <td> 09:00:00</td>\n",
        "      <td> 035:536:820</td>\n",
        "      <td>  QQQ</td>\n",
        "      <td> Stock</td>\n",
        "      <td> YDAY</td>\n",
        "      <td> 87.39</td>\n",
        "      <td> 38690408</td>\n",
        "      <td> 87.50</td>\n",
        "      <td>  6500</td>\n",
        "      <td> 87.51</td>\n",
        "      <td> 50100</td>\n",
        "      <td>NaN</td>\n",
        "      <td>NaN</td>\n",
        "      <td>NaN</td>\n",
        "      <td>NaN</td>\n",
        "      <td>NaN</td>\n",
        "    </tr>\n",
        "    <tr>\n",
        "      <th>3</th>\n",
        "      <td> 2014-05-01</td>\n",
        "      <td> 09:00:00</td>\n",
        "      <td> 061:149:981</td>\n",
        "      <td> GLUU</td>\n",
        "      <td> Stock</td>\n",
        "      <td> YDAY</td>\n",
        "      <td>  4.00</td>\n",
        "      <td>  4838791</td>\n",
        "      <td>  4.19</td>\n",
        "      <td> 12800</td>\n",
        "      <td>  4.20</td>\n",
        "      <td>  2900</td>\n",
        "      <td>NaN</td>\n",
        "      <td>NaN</td>\n",
        "      <td>NaN</td>\n",
        "      <td>NaN</td>\n",
        "      <td>NaN</td>\n",
        "    </tr>\n",
        "    <tr>\n",
        "      <th>4</th>\n",
        "      <td> 2014-05-01</td>\n",
        "      <td> 09:00:00</td>\n",
        "      <td> 088:792:650</td>\n",
        "      <td> WETF</td>\n",
        "      <td> Stock</td>\n",
        "      <td> YDAY</td>\n",
        "      <td> 11.29</td>\n",
        "      <td>  1714760</td>\n",
        "      <td> 10.50</td>\n",
        "      <td>   200</td>\n",
        "      <td> 13.40</td>\n",
        "      <td>    10</td>\n",
        "      <td>NaN</td>\n",
        "      <td>NaN</td>\n",
        "      <td>NaN</td>\n",
        "      <td>NaN</td>\n",
        "      <td>NaN</td>\n",
        "    </tr>\n",
        "  </tbody>\n",
        "</table>\n",
        "</div>"
       ],
       "metadata": {},
       "output_type": "pyout",
       "prompt_number": 97,
       "text": [
        "         Date      Time        Fracs Symbol Reason tSide  tPrice   tShares  \\\n",
        "0  2014-05-01  14:31:01  037:922:357   ZUMZ  Stock  YDAY   24.45    316800   \n",
        "1  2014-05-01  09:00:00  000:238:062    XIV  Stock  YDAY   32.76   8470340   \n",
        "2  2014-05-01  09:00:00  035:536:820    QQQ  Stock  YDAY   87.39  38690408   \n",
        "3  2014-05-01  09:00:00  061:149:981   GLUU  Stock  YDAY    4.00   4838791   \n",
        "4  2014-05-01  09:00:00  088:792:650   WETF  Stock  YDAY   11.29   1714760   \n",
        "\n",
        "   Bid_P  Bid_S  Ask_P  Ask_S  ImbRef  ImbCBC  ImbFar  ImbShares  ImbPaired  \n",
        "0   0.00      0   0.00      0     NaN     NaN     NaN        NaN        NaN  \n",
        "1  32.65    100  32.68   4700     NaN     NaN     NaN        NaN        NaN  \n",
        "2  87.50   6500  87.51  50100     NaN     NaN     NaN        NaN        NaN  \n",
        "3   4.19  12800   4.20   2900     NaN     NaN     NaN        NaN        NaN  \n",
        "4  10.50    200  13.40     10     NaN     NaN     NaN        NaN        NaN  "
       ]
      }
     ],
     "prompt_number": 97
    },
    {
     "cell_type": "code",
     "collapsed": false,
     "input": [
      "stockData = df[(df.Symbol==\"QQQ\") & (df.Date=='2014-05-01')]"
     ],
     "language": "python",
     "metadata": {},
     "outputs": [],
     "prompt_number": 102
    },
    {
     "cell_type": "code",
     "collapsed": false,
     "input": [
      "stockData"
     ],
     "language": "python",
     "metadata": {},
     "outputs": [
      {
       "html": [
        "<div style=\"max-height:1000px;max-width:1500px;overflow:auto;\">\n",
        "<table border=\"1\" class=\"dataframe\">\n",
        "  <thead>\n",
        "    <tr style=\"text-align: right;\">\n",
        "      <th></th>\n",
        "      <th>Date</th>\n",
        "      <th>Time</th>\n",
        "      <th>Fracs</th>\n",
        "      <th>Symbol</th>\n",
        "      <th>Reason</th>\n",
        "      <th>tSide</th>\n",
        "      <th>tPrice</th>\n",
        "      <th>tShares</th>\n",
        "      <th>Bid_P</th>\n",
        "      <th>Bid_S</th>\n",
        "      <th>Ask_P</th>\n",
        "      <th>Ask_S</th>\n",
        "      <th>ImbRef</th>\n",
        "      <th>ImbCBC</th>\n",
        "      <th>ImbFar</th>\n",
        "      <th>ImbShares</th>\n",
        "      <th>ImbPaired</th>\n",
        "    </tr>\n",
        "  </thead>\n",
        "  <tbody>\n",
        "    <tr>\n",
        "      <th>2    </th>\n",
        "      <td> 2014-05-01</td>\n",
        "      <td> 09:00:00</td>\n",
        "      <td> 035:536:820</td>\n",
        "      <td> QQQ</td>\n",
        "      <td>     Stock</td>\n",
        "      <td> YDAY</td>\n",
        "      <td> 87.39</td>\n",
        "      <td> 38690408</td>\n",
        "      <td> 87.50</td>\n",
        "      <td>  6500</td>\n",
        "      <td> 87.51</td>\n",
        "      <td> 50100</td>\n",
        "      <td>   NaN</td>\n",
        "      <td>   NaN</td>\n",
        "      <td>   NaN</td>\n",
        "      <td>NaN</td>\n",
        "      <td>   NaN</td>\n",
        "    </tr>\n",
        "    <tr>\n",
        "      <th>4707 </th>\n",
        "      <td> 2014-05-01</td>\n",
        "      <td> 09:28:00</td>\n",
        "      <td> 096:668:570</td>\n",
        "      <td> QQQ</td>\n",
        "      <td> Imbalance</td>\n",
        "      <td>  NaN</td>\n",
        "      <td>   NaN</td>\n",
        "      <td>      NaN</td>\n",
        "      <td> 87.54</td>\n",
        "      <td>  1177</td>\n",
        "      <td> 87.55</td>\n",
        "      <td> 75200</td>\n",
        "      <td> 87.54</td>\n",
        "      <td> 87.54</td>\n",
        "      <td> 87.54</td>\n",
        "      <td>  0</td>\n",
        "      <td> 62964</td>\n",
        "    </tr>\n",
        "    <tr>\n",
        "      <th>5582 </th>\n",
        "      <td> 2014-05-01</td>\n",
        "      <td> 09:28:05</td>\n",
        "      <td> 007:307:603</td>\n",
        "      <td> QQQ</td>\n",
        "      <td> Imbalance</td>\n",
        "      <td>  NaN</td>\n",
        "      <td>   NaN</td>\n",
        "      <td>      NaN</td>\n",
        "      <td> 87.51</td>\n",
        "      <td> 75500</td>\n",
        "      <td> 87.52</td>\n",
        "      <td>  1900</td>\n",
        "      <td> 87.51</td>\n",
        "      <td> 87.51</td>\n",
        "      <td> 87.51</td>\n",
        "      <td>  0</td>\n",
        "      <td> 62864</td>\n",
        "    </tr>\n",
        "    <tr>\n",
        "      <th>8883 </th>\n",
        "      <td> 2014-05-01</td>\n",
        "      <td> 09:28:10</td>\n",
        "      <td> 037:235:309</td>\n",
        "      <td> QQQ</td>\n",
        "      <td> Imbalance</td>\n",
        "      <td>  NaN</td>\n",
        "      <td>   NaN</td>\n",
        "      <td>      NaN</td>\n",
        "      <td> 87.51</td>\n",
        "      <td> 23400</td>\n",
        "      <td> 87.52</td>\n",
        "      <td> 20300</td>\n",
        "      <td> 87.51</td>\n",
        "      <td> 87.51</td>\n",
        "      <td> 87.51</td>\n",
        "      <td>  0</td>\n",
        "      <td> 62864</td>\n",
        "    </tr>\n",
        "    <tr>\n",
        "      <th>12813</th>\n",
        "      <td> 2014-05-01</td>\n",
        "      <td> 09:28:15</td>\n",
        "      <td> 099:487:232</td>\n",
        "      <td> QQQ</td>\n",
        "      <td> Imbalance</td>\n",
        "      <td>  NaN</td>\n",
        "      <td>   NaN</td>\n",
        "      <td>      NaN</td>\n",
        "      <td> 87.51</td>\n",
        "      <td> 23000</td>\n",
        "      <td> 87.52</td>\n",
        "      <td> 20300</td>\n",
        "      <td> 87.51</td>\n",
        "      <td> 87.51</td>\n",
        "      <td> 87.51</td>\n",
        "      <td>  0</td>\n",
        "      <td> 62864</td>\n",
        "    </tr>\n",
        "    <tr>\n",
        "      <th>15228</th>\n",
        "      <td> 2014-05-01</td>\n",
        "      <td> 09:28:20</td>\n",
        "      <td> 086:106:061</td>\n",
        "      <td> QQQ</td>\n",
        "      <td> Imbalance</td>\n",
        "      <td>  NaN</td>\n",
        "      <td>   NaN</td>\n",
        "      <td>      NaN</td>\n",
        "      <td> 87.52</td>\n",
        "      <td> 17100</td>\n",
        "      <td> 87.53</td>\n",
        "      <td> 19400</td>\n",
        "      <td> 87.52</td>\n",
        "      <td> 87.52</td>\n",
        "      <td> 87.52</td>\n",
        "      <td>  0</td>\n",
        "      <td> 62864</td>\n",
        "    </tr>\n",
        "    <tr>\n",
        "      <th>17770</th>\n",
        "      <td> 2014-05-01</td>\n",
        "      <td> 09:28:25</td>\n",
        "      <td> 078:473:663</td>\n",
        "      <td> QQQ</td>\n",
        "      <td> Imbalance</td>\n",
        "      <td>  NaN</td>\n",
        "      <td>   NaN</td>\n",
        "      <td>      NaN</td>\n",
        "      <td> 87.52</td>\n",
        "      <td>  1400</td>\n",
        "      <td> 87.53</td>\n",
        "      <td> 20018</td>\n",
        "      <td> 87.52</td>\n",
        "      <td> 87.52</td>\n",
        "      <td> 87.52</td>\n",
        "      <td>  0</td>\n",
        "      <td> 62864</td>\n",
        "    </tr>\n",
        "    <tr>\n",
        "      <th>20622</th>\n",
        "      <td> 2014-05-01</td>\n",
        "      <td> 09:28:30</td>\n",
        "      <td> 088:615:920</td>\n",
        "      <td> QQQ</td>\n",
        "      <td> Imbalance</td>\n",
        "      <td>  NaN</td>\n",
        "      <td>   NaN</td>\n",
        "      <td>      NaN</td>\n",
        "      <td> 87.51</td>\n",
        "      <td> 50000</td>\n",
        "      <td> 87.53</td>\n",
        "      <td> 41018</td>\n",
        "      <td> 87.51</td>\n",
        "      <td> 87.51</td>\n",
        "      <td> 87.51</td>\n",
        "      <td>  0</td>\n",
        "      <td> 62864</td>\n",
        "    </tr>\n",
        "    <tr>\n",
        "      <th>23626</th>\n",
        "      <td> 2014-05-01</td>\n",
        "      <td> 09:28:35</td>\n",
        "      <td> 112:979:052</td>\n",
        "      <td> QQQ</td>\n",
        "      <td> Imbalance</td>\n",
        "      <td>  NaN</td>\n",
        "      <td>   NaN</td>\n",
        "      <td>      NaN</td>\n",
        "      <td> 87.51</td>\n",
        "      <td> 50000</td>\n",
        "      <td> 87.53</td>\n",
        "      <td> 61718</td>\n",
        "      <td> 87.51</td>\n",
        "      <td> 87.51</td>\n",
        "      <td> 87.51</td>\n",
        "      <td>  0</td>\n",
        "      <td> 62864</td>\n",
        "    </tr>\n",
        "    <tr>\n",
        "      <th>26252</th>\n",
        "      <td> 2014-05-01</td>\n",
        "      <td> 09:28:40</td>\n",
        "      <td> 101:160:236</td>\n",
        "      <td> QQQ</td>\n",
        "      <td> Imbalance</td>\n",
        "      <td>  NaN</td>\n",
        "      <td>   NaN</td>\n",
        "      <td>      NaN</td>\n",
        "      <td> 87.51</td>\n",
        "      <td> 50000</td>\n",
        "      <td> 87.53</td>\n",
        "      <td> 67718</td>\n",
        "      <td> 87.51</td>\n",
        "      <td> 87.51</td>\n",
        "      <td> 87.51</td>\n",
        "      <td>  0</td>\n",
        "      <td> 62864</td>\n",
        "    </tr>\n",
        "    <tr>\n",
        "      <th>28351</th>\n",
        "      <td> 2014-05-01</td>\n",
        "      <td> 09:28:45</td>\n",
        "      <td> 071:652:316</td>\n",
        "      <td> QQQ</td>\n",
        "      <td> Imbalance</td>\n",
        "      <td>  NaN</td>\n",
        "      <td>   NaN</td>\n",
        "      <td>      NaN</td>\n",
        "      <td> 87.51</td>\n",
        "      <td> 48400</td>\n",
        "      <td> 87.53</td>\n",
        "      <td> 72518</td>\n",
        "      <td> 87.51</td>\n",
        "      <td> 87.51</td>\n",
        "      <td> 87.51</td>\n",
        "      <td>  0</td>\n",
        "      <td> 62864</td>\n",
        "    </tr>\n",
        "    <tr>\n",
        "      <th>32196</th>\n",
        "      <td> 2014-05-01</td>\n",
        "      <td> 09:28:50</td>\n",
        "      <td> 129:923:176</td>\n",
        "      <td> QQQ</td>\n",
        "      <td> Imbalance</td>\n",
        "      <td>  NaN</td>\n",
        "      <td>   NaN</td>\n",
        "      <td>      NaN</td>\n",
        "      <td> 87.51</td>\n",
        "      <td> 62700</td>\n",
        "      <td> 87.52</td>\n",
        "      <td>   200</td>\n",
        "      <td> 87.51</td>\n",
        "      <td> 87.51</td>\n",
        "      <td> 87.51</td>\n",
        "      <td>  0</td>\n",
        "      <td> 62864</td>\n",
        "    </tr>\n",
        "    <tr>\n",
        "      <th>34331</th>\n",
        "      <td> 2014-05-01</td>\n",
        "      <td> 09:28:55</td>\n",
        "      <td> 101:403:838</td>\n",
        "      <td> QQQ</td>\n",
        "      <td> Imbalance</td>\n",
        "      <td>  NaN</td>\n",
        "      <td>   NaN</td>\n",
        "      <td>      NaN</td>\n",
        "      <td> 87.52</td>\n",
        "      <td>  2900</td>\n",
        "      <td> 87.53</td>\n",
        "      <td> 38059</td>\n",
        "      <td> 87.52</td>\n",
        "      <td> 87.52</td>\n",
        "      <td> 87.52</td>\n",
        "      <td>  0</td>\n",
        "      <td> 62864</td>\n",
        "    </tr>\n",
        "    <tr>\n",
        "      <th>37218</th>\n",
        "      <td> 2014-05-01</td>\n",
        "      <td> 09:29:00</td>\n",
        "      <td> 113:430:922</td>\n",
        "      <td> QQQ</td>\n",
        "      <td> Imbalance</td>\n",
        "      <td>  NaN</td>\n",
        "      <td>   NaN</td>\n",
        "      <td>      NaN</td>\n",
        "      <td> 87.51</td>\n",
        "      <td> 60200</td>\n",
        "      <td> 87.52</td>\n",
        "      <td>   600</td>\n",
        "      <td> 87.51</td>\n",
        "      <td> 87.51</td>\n",
        "      <td> 87.51</td>\n",
        "      <td>  0</td>\n",
        "      <td> 62864</td>\n",
        "    </tr>\n",
        "    <tr>\n",
        "      <th>40133</th>\n",
        "      <td> 2014-05-01</td>\n",
        "      <td> 09:29:05</td>\n",
        "      <td> 122:971:837</td>\n",
        "      <td> QQQ</td>\n",
        "      <td> Imbalance</td>\n",
        "      <td>  NaN</td>\n",
        "      <td>   NaN</td>\n",
        "      <td>      NaN</td>\n",
        "      <td> 87.51</td>\n",
        "      <td> 29200</td>\n",
        "      <td> 87.52</td>\n",
        "      <td>  2400</td>\n",
        "      <td> 87.51</td>\n",
        "      <td> 87.51</td>\n",
        "      <td> 87.51</td>\n",
        "      <td>  0</td>\n",
        "      <td> 62864</td>\n",
        "    </tr>\n",
        "    <tr>\n",
        "      <th>41641</th>\n",
        "      <td> 2014-05-01</td>\n",
        "      <td> 09:29:10</td>\n",
        "      <td> 061:772:196</td>\n",
        "      <td> QQQ</td>\n",
        "      <td> Imbalance</td>\n",
        "      <td>  NaN</td>\n",
        "      <td>   NaN</td>\n",
        "      <td>      NaN</td>\n",
        "      <td> 87.51</td>\n",
        "      <td>  5000</td>\n",
        "      <td> 87.52</td>\n",
        "      <td> 40300</td>\n",
        "      <td> 87.51</td>\n",
        "      <td> 87.51</td>\n",
        "      <td> 87.51</td>\n",
        "      <td>  0</td>\n",
        "      <td> 62864</td>\n",
        "    </tr>\n",
        "    <tr>\n",
        "      <th>44556</th>\n",
        "      <td> 2014-05-01</td>\n",
        "      <td> 09:29:15</td>\n",
        "      <td> 071:976:912</td>\n",
        "      <td> QQQ</td>\n",
        "      <td> Imbalance</td>\n",
        "      <td>  NaN</td>\n",
        "      <td>   NaN</td>\n",
        "      <td>      NaN</td>\n",
        "      <td> 87.51</td>\n",
        "      <td>  6200</td>\n",
        "      <td> 87.52</td>\n",
        "      <td> 32300</td>\n",
        "      <td> 87.51</td>\n",
        "      <td> 87.51</td>\n",
        "      <td> 87.51</td>\n",
        "      <td>  0</td>\n",
        "      <td> 62864</td>\n",
        "    </tr>\n",
        "    <tr>\n",
        "      <th>46481</th>\n",
        "      <td> 2014-05-01</td>\n",
        "      <td> 09:29:20</td>\n",
        "      <td> 037:358:501</td>\n",
        "      <td> QQQ</td>\n",
        "      <td> Imbalance</td>\n",
        "      <td>  NaN</td>\n",
        "      <td>   NaN</td>\n",
        "      <td>      NaN</td>\n",
        "      <td> 87.50</td>\n",
        "      <td> 73600</td>\n",
        "      <td> 87.51</td>\n",
        "      <td>  1300</td>\n",
        "      <td> 87.50</td>\n",
        "      <td> 87.50</td>\n",
        "      <td> 87.50</td>\n",
        "      <td>  0</td>\n",
        "      <td> 62819</td>\n",
        "    </tr>\n",
        "    <tr>\n",
        "      <th>48752</th>\n",
        "      <td> 2014-05-01</td>\n",
        "      <td> 09:29:25</td>\n",
        "      <td> 013:321:254</td>\n",
        "      <td> QQQ</td>\n",
        "      <td> Imbalance</td>\n",
        "      <td>  NaN</td>\n",
        "      <td>   NaN</td>\n",
        "      <td>      NaN</td>\n",
        "      <td> 87.50</td>\n",
        "      <td> 73600</td>\n",
        "      <td> 87.51</td>\n",
        "      <td>   600</td>\n",
        "      <td> 87.50</td>\n",
        "      <td> 87.50</td>\n",
        "      <td> 87.50</td>\n",
        "      <td>  0</td>\n",
        "      <td> 62819</td>\n",
        "    </tr>\n",
        "    <tr>\n",
        "      <th>51773</th>\n",
        "      <td> 2014-05-01</td>\n",
        "      <td> 09:29:30</td>\n",
        "      <td> 029:584:153</td>\n",
        "      <td> QQQ</td>\n",
        "      <td> Imbalance</td>\n",
        "      <td>  NaN</td>\n",
        "      <td>   NaN</td>\n",
        "      <td>      NaN</td>\n",
        "      <td> 87.50</td>\n",
        "      <td> 63900</td>\n",
        "      <td> 87.51</td>\n",
        "      <td> 10100</td>\n",
        "      <td> 87.50</td>\n",
        "      <td> 87.50</td>\n",
        "      <td> 87.50</td>\n",
        "      <td>  0</td>\n",
        "      <td> 62819</td>\n",
        "    </tr>\n",
        "    <tr>\n",
        "      <th>56344</th>\n",
        "      <td> 2014-05-01</td>\n",
        "      <td> 09:29:35</td>\n",
        "      <td> 126:044:226</td>\n",
        "      <td> QQQ</td>\n",
        "      <td> Imbalance</td>\n",
        "      <td>  NaN</td>\n",
        "      <td>   NaN</td>\n",
        "      <td>      NaN</td>\n",
        "      <td> 87.51</td>\n",
        "      <td>   100</td>\n",
        "      <td> 87.52</td>\n",
        "      <td> 26200</td>\n",
        "      <td> 87.51</td>\n",
        "      <td> 87.51</td>\n",
        "      <td> 87.51</td>\n",
        "      <td>  0</td>\n",
        "      <td> 62864</td>\n",
        "    </tr>\n",
        "    <tr>\n",
        "      <th>57628</th>\n",
        "      <td> 2014-05-01</td>\n",
        "      <td> 09:29:40</td>\n",
        "      <td> 055:154:715</td>\n",
        "      <td> QQQ</td>\n",
        "      <td> Imbalance</td>\n",
        "      <td>  NaN</td>\n",
        "      <td>   NaN</td>\n",
        "      <td>      NaN</td>\n",
        "      <td> 87.51</td>\n",
        "      <td> 44100</td>\n",
        "      <td> 87.52</td>\n",
        "      <td> 10600</td>\n",
        "      <td> 87.51</td>\n",
        "      <td> 87.51</td>\n",
        "      <td> 87.51</td>\n",
        "      <td>  0</td>\n",
        "      <td> 62864</td>\n",
        "    </tr>\n",
        "    <tr>\n",
        "      <th>60130</th>\n",
        "      <td> 2014-05-01</td>\n",
        "      <td> 09:29:45</td>\n",
        "      <td> 046:509:840</td>\n",
        "      <td> QQQ</td>\n",
        "      <td> Imbalance</td>\n",
        "      <td>  NaN</td>\n",
        "      <td>   NaN</td>\n",
        "      <td>      NaN</td>\n",
        "      <td> 87.52</td>\n",
        "      <td> 26900</td>\n",
        "      <td> 87.53</td>\n",
        "      <td> 18059</td>\n",
        "      <td> 87.52</td>\n",
        "      <td> 87.52</td>\n",
        "      <td> 87.52</td>\n",
        "      <td>  0</td>\n",
        "      <td> 62864</td>\n",
        "    </tr>\n",
        "    <tr>\n",
        "      <th>62989</th>\n",
        "      <td> 2014-05-01</td>\n",
        "      <td> 09:29:50</td>\n",
        "      <td> 054:499:650</td>\n",
        "      <td> QQQ</td>\n",
        "      <td> Imbalance</td>\n",
        "      <td>  NaN</td>\n",
        "      <td>   NaN</td>\n",
        "      <td>      NaN</td>\n",
        "      <td> 87.52</td>\n",
        "      <td> 59600</td>\n",
        "      <td> 87.53</td>\n",
        "      <td>  3400</td>\n",
        "      <td> 87.52</td>\n",
        "      <td> 87.52</td>\n",
        "      <td> 87.52</td>\n",
        "      <td>  0</td>\n",
        "      <td> 62864</td>\n",
        "    </tr>\n",
        "    <tr>\n",
        "      <th>65289</th>\n",
        "      <td> 2014-05-01</td>\n",
        "      <td> 09:29:55</td>\n",
        "      <td> 035:807:162</td>\n",
        "      <td> QQQ</td>\n",
        "      <td> Imbalance</td>\n",
        "      <td>  NaN</td>\n",
        "      <td>   NaN</td>\n",
        "      <td>      NaN</td>\n",
        "      <td> 87.53</td>\n",
        "      <td> 50100</td>\n",
        "      <td> 87.54</td>\n",
        "      <td>  4100</td>\n",
        "      <td> 87.53</td>\n",
        "      <td> 87.53</td>\n",
        "      <td> 87.53</td>\n",
        "      <td>  0</td>\n",
        "      <td> 62864</td>\n",
        "    </tr>\n",
        "    <tr>\n",
        "      <th>67360</th>\n",
        "      <td> 2014-05-01</td>\n",
        "      <td> 09:30:00</td>\n",
        "      <td> 072:888:787</td>\n",
        "      <td> QQQ</td>\n",
        "      <td>       OPG</td>\n",
        "      <td> BOTH</td>\n",
        "      <td> 87.53</td>\n",
        "      <td>    62864</td>\n",
        "      <td> 87.53</td>\n",
        "      <td> 24300</td>\n",
        "      <td> 87.54</td>\n",
        "      <td>  3221</td>\n",
        "      <td>   NaN</td>\n",
        "      <td>   NaN</td>\n",
        "      <td>   NaN</td>\n",
        "      <td>NaN</td>\n",
        "      <td>   NaN</td>\n",
        "    </tr>\n",
        "  </tbody>\n",
        "</table>\n",
        "</div>"
       ],
       "metadata": {},
       "output_type": "pyout",
       "prompt_number": 104,
       "text": [
        "             Date      Time        Fracs Symbol     Reason tSide  tPrice  \\\n",
        "2      2014-05-01  09:00:00  035:536:820    QQQ      Stock  YDAY   87.39   \n",
        "4707   2014-05-01  09:28:00  096:668:570    QQQ  Imbalance   NaN     NaN   \n",
        "5582   2014-05-01  09:28:05  007:307:603    QQQ  Imbalance   NaN     NaN   \n",
        "8883   2014-05-01  09:28:10  037:235:309    QQQ  Imbalance   NaN     NaN   \n",
        "12813  2014-05-01  09:28:15  099:487:232    QQQ  Imbalance   NaN     NaN   \n",
        "15228  2014-05-01  09:28:20  086:106:061    QQQ  Imbalance   NaN     NaN   \n",
        "17770  2014-05-01  09:28:25  078:473:663    QQQ  Imbalance   NaN     NaN   \n",
        "20622  2014-05-01  09:28:30  088:615:920    QQQ  Imbalance   NaN     NaN   \n",
        "23626  2014-05-01  09:28:35  112:979:052    QQQ  Imbalance   NaN     NaN   \n",
        "26252  2014-05-01  09:28:40  101:160:236    QQQ  Imbalance   NaN     NaN   \n",
        "28351  2014-05-01  09:28:45  071:652:316    QQQ  Imbalance   NaN     NaN   \n",
        "32196  2014-05-01  09:28:50  129:923:176    QQQ  Imbalance   NaN     NaN   \n",
        "34331  2014-05-01  09:28:55  101:403:838    QQQ  Imbalance   NaN     NaN   \n",
        "37218  2014-05-01  09:29:00  113:430:922    QQQ  Imbalance   NaN     NaN   \n",
        "40133  2014-05-01  09:29:05  122:971:837    QQQ  Imbalance   NaN     NaN   \n",
        "41641  2014-05-01  09:29:10  061:772:196    QQQ  Imbalance   NaN     NaN   \n",
        "44556  2014-05-01  09:29:15  071:976:912    QQQ  Imbalance   NaN     NaN   \n",
        "46481  2014-05-01  09:29:20  037:358:501    QQQ  Imbalance   NaN     NaN   \n",
        "48752  2014-05-01  09:29:25  013:321:254    QQQ  Imbalance   NaN     NaN   \n",
        "51773  2014-05-01  09:29:30  029:584:153    QQQ  Imbalance   NaN     NaN   \n",
        "56344  2014-05-01  09:29:35  126:044:226    QQQ  Imbalance   NaN     NaN   \n",
        "57628  2014-05-01  09:29:40  055:154:715    QQQ  Imbalance   NaN     NaN   \n",
        "60130  2014-05-01  09:29:45  046:509:840    QQQ  Imbalance   NaN     NaN   \n",
        "62989  2014-05-01  09:29:50  054:499:650    QQQ  Imbalance   NaN     NaN   \n",
        "65289  2014-05-01  09:29:55  035:807:162    QQQ  Imbalance   NaN     NaN   \n",
        "67360  2014-05-01  09:30:00  072:888:787    QQQ        OPG  BOTH   87.53   \n",
        "\n",
        "        tShares  Bid_P  Bid_S  Ask_P  Ask_S  ImbRef  ImbCBC  ImbFar  \\\n",
        "2      38690408  87.50   6500  87.51  50100     NaN     NaN     NaN   \n",
        "4707        NaN  87.54   1177  87.55  75200   87.54   87.54   87.54   \n",
        "5582        NaN  87.51  75500  87.52   1900   87.51   87.51   87.51   \n",
        "8883        NaN  87.51  23400  87.52  20300   87.51   87.51   87.51   \n",
        "12813       NaN  87.51  23000  87.52  20300   87.51   87.51   87.51   \n",
        "15228       NaN  87.52  17100  87.53  19400   87.52   87.52   87.52   \n",
        "17770       NaN  87.52   1400  87.53  20018   87.52   87.52   87.52   \n",
        "20622       NaN  87.51  50000  87.53  41018   87.51   87.51   87.51   \n",
        "23626       NaN  87.51  50000  87.53  61718   87.51   87.51   87.51   \n",
        "26252       NaN  87.51  50000  87.53  67718   87.51   87.51   87.51   \n",
        "28351       NaN  87.51  48400  87.53  72518   87.51   87.51   87.51   \n",
        "32196       NaN  87.51  62700  87.52    200   87.51   87.51   87.51   \n",
        "34331       NaN  87.52   2900  87.53  38059   87.52   87.52   87.52   \n",
        "37218       NaN  87.51  60200  87.52    600   87.51   87.51   87.51   \n",
        "40133       NaN  87.51  29200  87.52   2400   87.51   87.51   87.51   \n",
        "41641       NaN  87.51   5000  87.52  40300   87.51   87.51   87.51   \n",
        "44556       NaN  87.51   6200  87.52  32300   87.51   87.51   87.51   \n",
        "46481       NaN  87.50  73600  87.51   1300   87.50   87.50   87.50   \n",
        "48752       NaN  87.50  73600  87.51    600   87.50   87.50   87.50   \n",
        "51773       NaN  87.50  63900  87.51  10100   87.50   87.50   87.50   \n",
        "56344       NaN  87.51    100  87.52  26200   87.51   87.51   87.51   \n",
        "57628       NaN  87.51  44100  87.52  10600   87.51   87.51   87.51   \n",
        "60130       NaN  87.52  26900  87.53  18059   87.52   87.52   87.52   \n",
        "62989       NaN  87.52  59600  87.53   3400   87.52   87.52   87.52   \n",
        "65289       NaN  87.53  50100  87.54   4100   87.53   87.53   87.53   \n",
        "67360     62864  87.53  24300  87.54   3221     NaN     NaN     NaN   \n",
        "\n",
        "       ImbShares  ImbPaired  \n",
        "2            NaN        NaN  \n",
        "4707           0      62964  \n",
        "5582           0      62864  \n",
        "8883           0      62864  \n",
        "12813          0      62864  \n",
        "15228          0      62864  \n",
        "17770          0      62864  \n",
        "20622          0      62864  \n",
        "23626          0      62864  \n",
        "26252          0      62864  \n",
        "28351          0      62864  \n",
        "32196          0      62864  \n",
        "34331          0      62864  \n",
        "37218          0      62864  \n",
        "40133          0      62864  \n",
        "41641          0      62864  \n",
        "44556          0      62864  \n",
        "46481          0      62819  \n",
        "48752          0      62819  \n",
        "51773          0      62819  \n",
        "56344          0      62864  \n",
        "57628          0      62864  \n",
        "60130          0      62864  \n",
        "62989          0      62864  \n",
        "65289          0      62864  \n",
        "67360        NaN        NaN  "
       ]
      }
     ],
     "prompt_number": 104
    },
    {
     "cell_type": "code",
     "collapsed": false,
     "input": [
      "    stockData = df[(df.Symbol==\"QQQ\") & (df.Date=='2014-05-01')]\n",
      "    \n",
      "    closeP = stockData[stockData.tSide=='YDAY'].tPrice\n",
      "    openP = stockData[stockData.Reason=='OPG'].tPrice\n",
      "\n",
      "    bid = np.array(stockData[stockData.Reason=='Imbalance'].Bid_P)\n",
      "    if (len(bid)!=24):\n",
      "        print df.Symbol, df.Date\n",
      "        \n",
      "    \n",
      "    ask = np.array(stockData[stockData.Reason=='Imbalance'].Ask_P)    \n",
      "    midP = 0.5*(bid + ask)\n",
      "    bidS = np.array(stockData[stockData.Reason=='Imbalance'].Bid_S)\n",
      "    askS = np.array(stockData[stockData.Reason=='Imbalance'].Ask_S)  \n",
      "\n",
      "    ref = np.array(stockData[stockData.Reason=='Imbalance'].ImbRef)  \n",
      "    near = np.array(stockData[stockData.Reason=='Imbalance'].ImbCBC)  \n",
      "    far = np.array(stockData[stockData.Reason=='Imbalance'].ImbFar)  \n",
      "\n",
      "    \n",
      "\n",
      "\n"
     ],
     "language": "python",
     "metadata": {},
     "outputs": [],
     "prompt_number": 118
    },
    {
     "cell_type": "code",
     "collapsed": false,
     "input": [
      "#Creating features\n",
      "fdf,Features = qimbs.create_features33(imbalanceMsg)\n",
      "\n",
      "X_pos = fdf[fdf.a14>0]\n",
      "X_pos.index = range(X_pos.shape[0])\n",
      "X_pos=X_pos[['Ask','AskD','Near','Far','Spread',\n",
      " 'D5', 'D555', 'D66', 'V1','V1n', 'V11', 'V11n',\n",
      " 'V8','V8n','V8nn', 'a1','a4','a5']]\n",
      "\n",
      "X_neg = fdf[fdf.a14<0]\n",
      "X_neg.index = range(X_neg.shape[0])\n",
      "X_neg=X_neg[['Bid','BidD','Near','Far','Spread',\n",
      " 'D4',  'D444', 'D66', 'V1','V1n', 'V11',  'V11n',\n",
      " 'V8','V8n','V8nn', 'a1','a4','a5']]\n",
      "\n",
      "y_pos = imbalanceMsg.OPC_P>imbalanceMsg.Ask_P\n",
      "y_pos = y_pos[fdf.a14>0]\n",
      "y_pos.index = range(y_pos.shape[0])\n",
      "\n",
      "y_neg = imbalanceMsg.OPC_P<imbalanceMsg.Bid_P\n",
      "y_neg = y_neg[fdf.a14<0]\n",
      "y_neg.index = range(y_neg.shape[0])\n",
      "\n",
      "#yR_pos = imbalanceMsg.OPC_P>imbalanceMsg.ImbRef\n",
      "#yR_pos = yR_pos[fdf.a14>0]\n",
      "#yR_pos.index = range(yR_pos.shape[0])\n",
      "\n",
      "#yR_neg = imbalanceMsg.OPC_P<imbalanceMsg.ImbRef\n",
      "#yR_neg = yR_neg[fdf.a14<0]\n",
      "#yR_neg.index = range(yR_neg.shape[0])\n",
      "\n",
      "#yCR = fdf['CMoveR']\n",
      "\n",
      "#ycmove = fdf['CMove']\n",
      "\n",
      "ypln_pos = imbalanceMsg.OPC_P/imbalanceMsg.Ask_P-1\n",
      "ypln_pos = ypln_pos[fdf.a14>0]\n",
      "ypln_pos.index = range(ypln_pos.shape[0])\n",
      "\n",
      "ypln_neg = 1-imbalanceMsg.OPC_P/imbalanceMsg.Bid_P\n",
      "ypln_neg = ypln_neg[fdf.a14<0]\n",
      "ypln_neg.index = range(ypln_neg.shape[0])\n",
      "\n",
      "dates = sorted(list(set(fdf.Date)))\n",
      "datesDF_pos = qimbs.dates_tmp_df(fdf[fdf.a14>0])\n",
      "datesDF_neg = qimbs.dates_tmp_df(fdf[fdf.a14<0])\n",
      "\n",
      "ERRORS = pd.DataFrame(columns=['Model','TrainError','TestError'])"
     ],
     "language": "python",
     "metadata": {},
     "outputs": [
      {
       "output_type": "stream",
       "stream": "stderr",
       "text": [
        "/usr/local/lib/python2.7/dist-packages/pandas/computation/expressions.py:184: UserWarning: evaluating in Python space because the '*' operator is not supported by numexpr for the bool dtype, use '&' instead\n",
        "  unsupported[op_str]))\n",
        "/usr/local/lib/python2.7/dist-packages/pandas/computation/expressions.py:184: UserWarning: evaluating in Python space because the '+' operator is not supported by numexpr for the bool dtype, use '|' instead\n",
        "  unsupported[op_str]))\n"
       ]
      }
     ],
     "prompt_number": 8
    },
    {
     "cell_type": "code",
     "collapsed": false,
     "input": [
      "ggplot(fdf,aes(x='Move')) + geom_histogram(binwidth = 0.05) "
     ],
     "language": "python",
     "metadata": {},
     "outputs": [
      {
       "output_type": "stream",
       "stream": "stderr",
       "text": [
        "/usr/local/lib/python2.7/dist-packages/pandas/util/decorators.py:53: FutureWarning: rows is deprecated, use index instead\n",
        "  warnings.warn(msg, FutureWarning)\n"
       ]
      },
      {
       "metadata": {},
       "output_type": "display_data",
       "png": "[encoded data removed]",
       "text": [
        "<matplotlib.figure.Figure at 0x7339990>"
       ]
      },
      {
       "metadata": {},
       "output_type": "pyout",
       "prompt_number": 9,
       "text": [
        "<ggplot: (17688205)>"
       ]
      }
     ],
     "prompt_number": 9
    },
    {
     "cell_type": "code",
     "collapsed": false,
     "input": [
      "qimbs.OneModelResults('NN', X_pos,y_pos,ERRORS,dates,datesDF_pos)"
     ],
     "language": "python",
     "metadata": {},
     "outputs": [
      {
       "output_type": "stream",
       "stream": "stdout",
       "text": [
        "Total error: 0.101333584634\n",
        "Total error:"
       ]
      },
      {
       "output_type": "stream",
       "stream": "stdout",
       "text": [
        " 0.0909003457345\n",
        "Total error:"
       ]
      },
      {
       "output_type": "stream",
       "stream": "stdout",
       "text": [
        " 0.101994570605\n",
        "Total error:"
       ]
      },
      {
       "output_type": "stream",
       "stream": "stdout",
       "text": [
        " 0.0925716686095\n",
        "Total error:"
       ]
      },
      {
       "output_type": "stream",
       "stream": "stdout",
       "text": [
        " 0.0849083327428\n",
        "Total error:"
       ]
      },
      {
       "output_type": "stream",
       "stream": "stdout",
       "text": [
        " 0.0866109790707\n",
        "Total error:"
       ]
      },
      {
       "output_type": "stream",
       "stream": "stdout",
       "text": [
        " 0.110996520391\n",
        "Total error:"
       ]
      },
      {
       "output_type": "stream",
       "stream": "stdout",
       "text": [
        " 0.0881305659987\n",
        "Total error:"
       ]
      },
      {
       "output_type": "stream",
       "stream": "stdout",
       "text": [
        " 0.0871552616059\n",
        "Total error:"
       ]
      },
      {
       "output_type": "stream",
       "stream": "stdout",
       "text": [
        " 0.0948683132016\n",
        "Precision - 0.685618729097, Recall - 0.692567567568, F_Score - 0.689075630252"
       ]
      },
      {
       "output_type": "stream",
       "stream": "stdout",
       "text": [
        "\n"
       ]
      },
      {
       "metadata": {},
       "output_type": "display_data",
       "png": "[encoded data removed]",
       "text": [
        "<matplotlib.figure.Figure at 0x7fce197042d0>"
       ]
      }
     ],
     "prompt_number": 312
    },
    {
     "cell_type": "code",
     "collapsed": false,
     "input": [
      "qimbs.OneModelResults('NN', X_neg,y_neg,ERRORS,dates,datesDF_neg)"
     ],
     "language": "python",
     "metadata": {},
     "outputs": [
      {
       "output_type": "stream",
       "stream": "stdout",
       "text": [
        "Total error: 0.0823740809931\n",
        "Total error:"
       ]
      },
      {
       "output_type": "stream",
       "stream": "stdout",
       "text": [
        " 0.0824135978829\n",
        "Total error:"
       ]
      },
      {
       "output_type": "stream",
       "stream": "stdout",
       "text": [
        " 0.0713561552826\n",
        "Total error:"
       ]
      },
      {
       "output_type": "stream",
       "stream": "stdout",
       "text": [
        " 0.0797651832583\n",
        "Total error:"
       ]
      },
      {
       "output_type": "stream",
       "stream": "stdout",
       "text": [
        " 0.0748067157479\n",
        "Total error:"
       ]
      },
      {
       "output_type": "stream",
       "stream": "stdout",
       "text": [
        " 0.0740041200032\n",
        "Total error:"
       ]
      },
      {
       "output_type": "stream",
       "stream": "stdout",
       "text": [
        " 0.0815910715833\n",
        "Total error:"
       ]
      },
      {
       "output_type": "stream",
       "stream": "stdout",
       "text": [
        " 0.0758917410718\n",
        "Total error:"
       ]
      },
      {
       "output_type": "stream",
       "stream": "stdout",
       "text": [
        " 0.0792342796996\n",
        "Total error:"
       ]
      },
      {
       "output_type": "stream",
       "stream": "stdout",
       "text": [
        " 0.0791651342987\n",
        "Precision - 0.758269720102, Recall - 0.849002849003, F_Score - 0.801075268817"
       ]
      },
      {
       "output_type": "stream",
       "stream": "stdout",
       "text": [
        "\n"
       ]
      },
      {
       "metadata": {},
       "output_type": "display_data",
       "png": "[encoded data removed]",
       "text": [
        "<matplotlib.figure.Figure at 0x10c04590>"
       ]
      }
     ],
     "prompt_number": 313
    },
    {
     "cell_type": "code",
     "collapsed": false,
     "input": [
      "qimbs.OneModelResults('COMB', X_pos,y_pos,ERRORS,dates,datesDF_pos)"
     ],
     "language": "python",
     "metadata": {},
     "outputs": [
      {
       "output_type": "stream",
       "stream": "stdout",
       "text": [
        "Precision - 0.832191780822, Recall - 0.883636363636, F_Score - 0.857142857143\n"
       ]
      },
      {
       "metadata": {},
       "output_type": "display_data",
       "png": "[encoded data removed]",
       "text": [
        "<matplotlib.figure.Figure at 0xdb85c90>"
       ]
      },
      {
       "metadata": {},
       "output_type": "display_data",
       "png": "[encoded data removed]",
       "text": [
        "<matplotlib.figure.Figure at 0xdbafb10>"
       ]
      },
      {
       "metadata": {},
       "output_type": "pyout",
       "prompt_number": 25,
       "text": [
        "<ggplot: (12881097)>"
       ]
      }
     ],
     "prompt_number": 25
    },
    {
     "cell_type": "code",
     "collapsed": false,
     "input": [
      "qimbs.OneModelResults('COMB', X_neg,y_neg,ERRORS,dates,datesDF_neg)"
     ],
     "language": "python",
     "metadata": {},
     "outputs": [
      {
       "output_type": "stream",
       "stream": "stdout",
       "text": [
        "Precision - 0.884976525822, Recall - 0.904076738609, F_Score - 0.894424673784\n"
       ]
      },
      {
       "metadata": {},
       "output_type": "display_data",
       "png": "[encoded data removed]",
       "text": [
        "<matplotlib.figure.Figure at 0x2e1d8190>"
       ]
      },
      {
       "metadata": {},
       "output_type": "display_data",
       "png": "[encoded data removed]",
       "text": [
        "<matplotlib.figure.Figure at 0x7fce1988ded0>"
       ]
      },
      {
       "metadata": {},
       "output_type": "pyout",
       "prompt_number": 267,
       "text": [
        "<ggplot: (7660417)>"
       ]
      }
     ],
     "prompt_number": 267
    },
    {
     "cell_type": "code",
     "collapsed": false,
     "input": [
      "from sklearn.ensemble import RandomForestClassifier as RF\n",
      "qimbs.OneModelResults(RF, X_pos,y_pos,ERRORS,dates,datesDF_pos)"
     ],
     "language": "python",
     "metadata": {},
     "outputs": [
      {
       "output_type": "stream",
       "stream": "stdout",
       "text": [
        "Precision - 0.828767123288, Recall - 0.837370242215, F_Score - 0.833046471601\n"
       ]
      },
      {
       "metadata": {},
       "output_type": "display_data",
       "png": "[encoded data removed]",
       "text": [
        "<matplotlib.figure.Figure at 0xdb7a350>"
       ]
      },
      {
       "metadata": {},
       "output_type": "display_data",
       "png": "[encoded data removed]",
       "text": [
        "<matplotlib.figure.Figure at 0xdbc9390>"
       ]
      },
      {
       "metadata": {},
       "output_type": "pyout",
       "prompt_number": 21,
       "text": [
        "<ggplot: (14404565)>"
       ]
      }
     ],
     "prompt_number": 21
    },
    {
     "cell_type": "code",
     "collapsed": false,
     "input": [
      "qimbs.OneModelResults(RF, X_neg,y_neg,ERRORS,dates,datesDF_neg)"
     ],
     "language": "python",
     "metadata": {},
     "outputs": [
      {
       "output_type": "stream",
       "stream": "stdout",
       "text": [
        "Precision - 0.924151696607, Recall - 0.911417322835, F_Score - 0.917740336967\n"
       ]
      },
      {
       "metadata": {},
       "output_type": "display_data",
       "png": "[encoded data removed]",
       "text": [
        "<matplotlib.figure.Figure at 0xdbcbad0>"
       ]
      },
      {
       "metadata": {},
       "output_type": "display_data",
       "png": "[encoded data removed]",
       "text": [
        "<matplotlib.figure.Figure at 0xdbc2a90>"
       ]
      },
      {
       "metadata": {},
       "output_type": "pyout",
       "prompt_number": 22,
       "text": [
        "<ggplot: (14403581)>"
       ]
      }
     ],
     "prompt_number": 22
    },
    {
     "cell_type": "code",
     "collapsed": false,
     "input": [
      "from sklearn.ensemble import GradientBoostingClassifier as GBC\n",
      "qimbs.OneModelResults(GBC, X_pos,y_pos,ERRORS,dates,datesDF_pos)"
     ],
     "language": "python",
     "metadata": {},
     "outputs": [
      {
       "output_type": "stream",
       "stream": "stdout",
       "text": [
        "Precision - 0.845911949686, Recall - 0.884868421053, F_Score - 0.864951768489\n"
       ]
      },
      {
       "metadata": {},
       "output_type": "display_data",
       "png": "[encoded data removed]",
       "text": [
        "<matplotlib.figure.Figure at 0xdbfef90>"
       ]
      },
      {
       "metadata": {},
       "output_type": "display_data",
       "png": "[encoded data removed]",
       "text": [
        "<matplotlib.figure.Figure at 0xdbaf110>"
       ]
      },
      {
       "metadata": {},
       "output_type": "pyout",
       "prompt_number": 23,
       "text": [
        "<ggplot: (12881441)>"
       ]
      }
     ],
     "prompt_number": 23
    },
    {
     "cell_type": "code",
     "collapsed": false,
     "input": [
      "qimbs.OneModelResults(GBC, X_neg,y_neg,ERRORS,dates,datesDF_neg)"
     ],
     "language": "python",
     "metadata": {},
     "outputs": [
      {
       "output_type": "stream",
       "stream": "stdout",
       "text": [
        "Precision - 0.817955112219, Recall - 0.906077348066, F_Score - 0.859764089122\n"
       ]
      },
      {
       "metadata": {},
       "output_type": "display_data",
       "png": "[encoded data removed]",
       "text": [
        "<matplotlib.figure.Figure at 0x8d1ac90>"
       ]
      },
      {
       "metadata": {},
       "output_type": "display_data",
       "png": "[encoded data removed]",
       "text": [
        "<matplotlib.figure.Figure at 0x8d262d0>"
       ]
      },
      {
       "metadata": {},
       "output_type": "pyout",
       "prompt_number": 24,
       "text": [
        "<ggplot: (6402709)>"
       ]
      }
     ],
     "prompt_number": 24
    },
    {
     "cell_type": "code",
     "collapsed": false,
     "input": [
      "#Lets see features importance and try to reduce the number of feature for RF algo\n",
      "from sklearn.ensemble import RandomForestClassifier as RF\n",
      "clf = RF(min_samples_split = X_pos.shape[0]*0.05, criterion = 'entropy')\n",
      "clf.fit(X_pos,y_pos)\n",
      "\n",
      "fi = pd.DataFrame()\n",
      "fi['Feature'] = list(X_pos.columns)\n",
      "fi['Impotrance'] = clf.feature_importances_\n",
      "fi=fi.sort(columns=['Impotrance'],ascending=False)\n",
      "fi['Index'] = range(X_pos.shape[1])\n",
      "\n",
      "ggplot(fi,aes('Index','Impotrance',label='Feature')) +\\\n",
      "geom_point() + geom_text(vjust=0.005)"
     ],
     "language": "python",
     "metadata": {},
     "outputs": [
      {
       "metadata": {},
       "output_type": "display_data",
       "png": "[encoded data removed]",
       "text": [
        "<matplotlib.figure.Figure at 0x11cfd550>"
       ]
      },
      {
       "metadata": {},
       "output_type": "pyout",
       "prompt_number": 27,
       "text": [
        "<ggplot: (18677237)>"
       ]
      }
     ],
     "prompt_number": 27
    },
    {
     "cell_type": "code",
     "collapsed": false,
     "input": [
      "clf = RF(min_samples_split = X_neg.shape[0]*0.05, criterion = 'entropy')\n",
      "clf.fit(X_neg,y_neg)\n",
      "\n",
      "fi = pd.DataFrame()\n",
      "fi['Feature'] = list(X_neg.columns)\n",
      "fi['Impotrance'] = clf.feature_importances_\n",
      "fi=fi.sort(columns=['Impotrance'],ascending=False)\n",
      "fi['Index'] = range(X_neg.shape[1])\n",
      "\n",
      "ggplot(fi,aes('Index','Impotrance',label='Feature')) +\\\n",
      "geom_point() + geom_text(vjust=0.005)"
     ],
     "language": "python",
     "metadata": {},
     "outputs": [
      {
       "metadata": {},
       "output_type": "display_data",
       "png": "[encoded data removed]",
       "text": [
        "<matplotlib.figure.Figure at 0x11d42d90>"
       ]
      },
      {
       "metadata": {},
       "output_type": "pyout",
       "prompt_number": 28,
       "text": [
        "<ggplot: (18699077)>"
       ]
      }
     ],
     "prompt_number": 28
    },
    {
     "cell_type": "code",
     "collapsed": false,
     "input": [
      "print 'Main features are:'\n",
      "for f in list(fi['Feature'][:15]):\n",
      "    print '%s  %s' %(f,Features[f])"
     ],
     "language": "python",
     "metadata": {},
     "outputs": []
    },
    {
     "cell_type": "code",
     "collapsed": false,
     "input": [
      "\n",
      "\n",
      "\n",
      "\n",
      "\n",
      "\n",
      "\n",
      "\n",
      "\n",
      "\n",
      "\n",
      "\n"
     ],
     "language": "python",
     "metadata": {},
     "outputs": []
    },
    {
     "cell_type": "code",
     "collapsed": false,
     "input": [
      "#Get error for these features bags\n",
      "from sklearn.feature_selection import f_classif\n",
      "from sklearn.metrics import confusion_matrix\n",
      "\n",
      "error1 = []\n",
      "error2 = []\n",
      "error3 = []\n",
      "nfeatures = range(1, X.shape[1])\n",
      "labels = list(set(y))\n",
      "for nfeature in nfeatures:\n",
      "    print nfeature\n",
      "    X_r = X[fi['Feature'][:nfeature]]\n",
      "    \n",
      "    err1 = []\n",
      "    err2 = []\n",
      "    err3 = []\n",
      "    for i in range(2):  \n",
      "        r = range(len(dates))\n",
      "        np.random.shuffle(r)\n",
      "        test_days = r[:1] \n",
      "        train_days = r[1:] \n",
      "               \n",
      "        Xtrain = X_r.ix[datesDF.ix[train_days],:]\n",
      "        Xtest = X_r.ix[datesDF.ix[test_days],:]\n",
      "        ytrain = y.ix[datesDF.ix[train_days]]\n",
      "        ytest = y.ix[datesDF.ix[test_days]]\n",
      "        \n",
      "        reg1 = RF()\n",
      "        reg1.fit(Xtrain, ytrain)\n",
      "        test_pr1 = qimbs.Precision_Recall(confusion_matrix(ytest,reg1.predict(Xtest),labels).astype(float))\n",
      "        err1.append(1-test_pr1[2])  \n",
      "        \n",
      "        reg2 = LR(class_weight='auto')\n",
      "        reg2.fit(Xtrain, ytrain)\n",
      "        test_pr2 = qimbs.Precision_Recall(confusion_matrix(ytest,reg2.predict(Xtest),labels).astype(float))\n",
      "        err2.append(1-test_pr2[2]) \n",
      "        \n",
      "        reg3 = SVC(class_weight='auto')\n",
      "        reg3.fit(Xtrain, ytrain)\n",
      "        test_pr3 = qimbs.Precision_Recall(confusion_matrix(ytest,reg3.predict(Xtest),labels).astype(float))\n",
      "        err3.append(1-test_pr3[2])  \n",
      "        \n",
      "    error1.append(np.mean(err1))\n",
      "    error2.append(np.mean(err2))\n",
      "    error3.append(np.mean(err3))\n",
      "    "
     ],
     "language": "python",
     "metadata": {},
     "outputs": []
    },
    {
     "cell_type": "code",
     "collapsed": false,
     "input": [
      "p_df=pd.DataFrame()\n",
      "p_df['I']=range(1, X.shape[1])\n",
      "p_df['RF']=error1\n",
      "p_df['LR']=error2\n",
      "p_df['SVC']=error3\n",
      "p_df_m = pd.melt(p_df, id_vars=['I'])\n",
      "\n",
      "ggplot(p_df_m,aes(x='I', y='value', colour='variable')) + geom_line() + geom_point() +\\\n",
      "xlab('n important features selected')+ylab('Error')+ggtitle('Features importance')\n"
     ],
     "language": "python",
     "metadata": {},
     "outputs": [
      {
       "metadata": {},
       "output_type": "display_data",
       "png": "[encoded data removed]",
       "text": [
        "<matplotlib.figure.Figure at 0x1975edd0>"
       ]
      },
      {
       "metadata": {},
       "output_type": "pyout",
       "prompt_number": 897,
       "text": [
        "<ggplot: (26697289)>"
       ]
      }
     ],
     "prompt_number": 897
    },
    {
     "cell_type": "code",
     "collapsed": false,
     "input": [
      "#Lets run RF with les features\n",
      "qimbs.OneModelResults(RF, X[fi['Feature'][:15]],np.abs(y), ERRORS,dates,datesDF)"
     ],
     "language": "python",
     "metadata": {},
     "outputs": [
      {
       "output_type": "stream",
       "stream": "stdout",
       "text": [
        "Precision - 0.845626072041, Recall - 0.869488536155, F_Score - 0.857391304348\n"
       ]
      },
      {
       "metadata": {},
       "output_type": "display_data",
       "png": "[encoded data removed]",
       "text": [
        "<matplotlib.figure.Figure at 0x2a69a850>"
       ]
      },
      {
       "metadata": {},
       "output_type": "display_data",
       "png": "[encoded data removed]",
       "text": [
        "<matplotlib.figure.Figure at 0x3f645e50>"
       ]
      },
      {
       "metadata": {},
       "output_type": "pyout",
       "prompt_number": 85,
       "text": [
        "<ggplot: (66470801)>"
       ]
      }
     ],
     "prompt_number": 85
    },
    {
     "cell_type": "code",
     "collapsed": false,
     "input": [
      "#Apply Logistic Regression\n",
      "from sklearn.linear_model import LogisticRegression as LR\n",
      "print \"Logistic Regression:\"\n",
      "reload(qimbs)\n",
      "qimbs.OneModelResults(LR, X_pos,y_pos,ERRORS,dates,datesDF_pos)"
     ],
     "language": "python",
     "metadata": {},
     "outputs": [
      {
       "output_type": "stream",
       "stream": "stdout",
       "text": [
        "Logistic Regression:\n",
        "Precision - 0.678191489362, Recall - 0.940959409594, F_Score - 0.788253477589"
       ]
      },
      {
       "output_type": "stream",
       "stream": "stdout",
       "text": [
        "\n"
       ]
      },
      {
       "metadata": {},
       "output_type": "display_data",
       "png": "[encoded data removed]",
       "text": [
        "<matplotlib.figure.Figure at 0x11d68bd0>"
       ]
      },
      {
       "metadata": {},
       "output_type": "display_data",
       "png": "[encoded data removed]",
       "text": [
        "<matplotlib.figure.Figure at 0x8cbfe90>"
       ]
      },
      {
       "metadata": {},
       "output_type": "pyout",
       "prompt_number": 29,
       "text": [
        "<ggplot: (6406985)>"
       ]
      }
     ],
     "prompt_number": 29
    },
    {
     "cell_type": "code",
     "collapsed": false,
     "input": [
      "from sklearn.svm import SVC\n",
      "print \"SVC:\"\n",
      "qimbs.OneModelResults(SVC, X_pos, y_pos,ERRORS,dates,datesDF_pos)"
     ],
     "language": "python",
     "metadata": {},
     "outputs": []
    },
    {
     "cell_type": "code",
     "collapsed": false,
     "input": [
      "ERRORS"
     ],
     "language": "python",
     "metadata": {},
     "outputs": [
      {
       "html": [
        "<div style=\"max-height:1000px;max-width:1500px;overflow:auto;\">\n",
        "<table border=\"1\" class=\"dataframe\">\n",
        "  <thead>\n",
        "    <tr style=\"text-align: right;\">\n",
        "      <th></th>\n",
        "      <th>Model</th>\n",
        "      <th>TrainError</th>\n",
        "      <th>TestError</th>\n",
        "    </tr>\n",
        "  </thead>\n",
        "  <tbody>\n",
        "    <tr>\n",
        "      <th>0</th>\n",
        "      <td>                        COMB</td>\n",
        "      <td>   0.105665</td>\n",
        "      <td>  0.1417476</td>\n",
        "    </tr>\n",
        "    <tr>\n",
        "      <th>1</th>\n",
        "      <td>     RandomForestClassifier'</td>\n",
        "      <td>  0.1391813</td>\n",
        "      <td>  0.1669535</td>\n",
        "    </tr>\n",
        "    <tr>\n",
        "      <th>2</th>\n",
        "      <td>     RandomForestClassifier'</td>\n",
        "      <td>  0.1006562</td>\n",
        "      <td> 0.08225966</td>\n",
        "    </tr>\n",
        "    <tr>\n",
        "      <th>3</th>\n",
        "      <td> GradientBoostingClassifier'</td>\n",
        "      <td> 0.09741861</td>\n",
        "      <td>  0.1350482</td>\n",
        "    </tr>\n",
        "    <tr>\n",
        "      <th>4</th>\n",
        "      <td> GradientBoostingClassifier'</td>\n",
        "      <td>  0.0728689</td>\n",
        "      <td>  0.1402359</td>\n",
        "    </tr>\n",
        "    <tr>\n",
        "      <th>5</th>\n",
        "      <td>                        COMB</td>\n",
        "      <td>  0.1054641</td>\n",
        "      <td>  0.1428571</td>\n",
        "    </tr>\n",
        "    <tr>\n",
        "      <th>6</th>\n",
        "      <td>                        COMB</td>\n",
        "      <td> 0.08475326</td>\n",
        "      <td> 0.09883103</td>\n",
        "    </tr>\n",
        "    <tr>\n",
        "      <th>7</th>\n",
        "      <td>         LogisticRegression'</td>\n",
        "      <td>  0.2267779</td>\n",
        "      <td>  0.2117465</td>\n",
        "    </tr>\n",
        "  </tbody>\n",
        "</table>\n",
        "</div>"
       ],
       "metadata": {},
       "output_type": "pyout",
       "prompt_number": 32,
       "text": [
        "                         Model  TrainError   TestError\n",
        "0                         COMB    0.105665   0.1417476\n",
        "1      RandomForestClassifier'   0.1391813   0.1669535\n",
        "2      RandomForestClassifier'   0.1006562  0.08225966\n",
        "3  GradientBoostingClassifier'  0.09741861   0.1350482\n",
        "4  GradientBoostingClassifier'   0.0728689   0.1402359\n",
        "5                         COMB   0.1054641   0.1428571\n",
        "6                         COMB  0.08475326  0.09883103\n",
        "7          LogisticRegression'   0.2267779   0.2117465"
       ]
      }
     ],
     "prompt_number": 32
    },
    {
     "cell_type": "code",
     "collapsed": false,
     "input": [
      "#Models comparison\n",
      "ERRORS=ERRORS.sort(['TrainError', 'TestError'])\n",
      "#ERRORS=ERRORS[:-1]\n",
      "ggplot(ERRORS, aes('TrainError', 'TestError')) + geom_point() + \\\n",
      "ggtitle('Model comparison') + xlab(\"TrainError\") +\\\n",
      "ylab(\"TestError\") +geom_text(aes(label='Model'),hjust=0, vjust=0)\\\n",
      "+ ylim(0,0.5)+ xlim(0,0.5) + geom_abline(intercept = 0.217, slope = 0\\\n",
      "                                         ,color='red')"
     ],
     "language": "python",
     "metadata": {},
     "outputs": [
      {
       "metadata": {},
       "output_type": "display_data",
       "png": "[encoded data removed]",
       "text": [
        "<matplotlib.figure.Figure at 0x61bddd0>"
       ]
      },
      {
       "metadata": {},
       "output_type": "pyout",
       "prompt_number": 33,
       "text": [
        "<ggplot: (14379661)>"
       ]
      }
     ],
     "prompt_number": 33
    },
    {
     "cell_type": "code",
     "collapsed": false,
     "input": [
      "reload(qimbs)\n",
      "\n",
      "\n",
      "\n",
      "\n",
      "\n",
      "\n",
      "\n",
      "\n",
      "\n",
      "\n",
      "\n",
      "\n",
      "\n",
      "\n",
      "\n",
      "\n"
     ],
     "language": "python",
     "metadata": {},
     "outputs": [
      {
       "metadata": {},
       "output_type": "pyout",
       "prompt_number": 78,
       "text": [
        "<module 'qimbs' from 'qimbs.py'>"
       ]
      }
     ],
     "prompt_number": 78
    },
    {
     "cell_type": "code",
     "collapsed": false,
     "input": [
      "#Lets compare models in money\n",
      "reload(qimbs)\n",
      "#Benchmark\n",
      "Signals =  qimbs.get_signals1(imbalanceMsg,X,y,'B',dates,datesDF)\n",
      "result0 = qimbs.get_performance(Signals,df,dates,0)\n",
      "result0['I'] = result0.index\n",
      "ggplot(result0, aes('I','Pnl')) + geom_point() + ggtitle('Sum=%s' % result0.Pnl.sum()) + geom_line()"
     ],
     "language": "python",
     "metadata": {},
     "outputs": [
      {
       "output_type": "stream",
       "stream": "stderr",
       "text": [
        "/usr/local/lib/python2.7/dist-packages/pandas/core/generic.py:1858: SettingWithCopyWarning: A value is trying to be set on a copy of a slice from a DataFrame.\n",
        "Try using .loc[row_index,col_indexer] = value instead\n",
        "  self[name] = value\n",
        "/usr/local/lib/python2.7/dist-packages/pandas/core/series.py:637: SettingWithCopyWarning: A value is trying to be set on a copy of a slice from a DataFrame\n",
        "  self.where(~key, value, inplace=True)\n"
       ]
      },
      {
       "output_type": "stream",
       "stream": "stdout",
       "text": [
        "2014-05-01 8.82\n",
        "2014-05-02 10.74"
       ]
      },
      {
       "output_type": "stream",
       "stream": "stdout",
       "text": [
        "\n",
        "2014-05-05 8.71"
       ]
      },
      {
       "output_type": "stream",
       "stream": "stdout",
       "text": [
        "\n",
        "2014-05-06 7.59"
       ]
      },
      {
       "output_type": "stream",
       "stream": "stdout",
       "text": [
        "\n",
        "2014-05-07 48.1"
       ]
      },
      {
       "output_type": "stream",
       "stream": "stdout",
       "text": [
        "\n",
        "2014-05-08 17.25"
       ]
      },
      {
       "output_type": "stream",
       "stream": "stdout",
       "text": [
        "\n",
        "2014-05-09 8.63"
       ]
      },
      {
       "output_type": "stream",
       "stream": "stdout",
       "text": [
        "\n",
        "2014-05-12 7.75"
       ]
      },
      {
       "output_type": "stream",
       "stream": "stdout",
       "text": [
        "\n",
        "2014-05-13 9.43"
       ]
      },
      {
       "output_type": "stream",
       "stream": "stdout",
       "text": [
        "\n",
        "2014-05-14 8.97"
       ]
      },
      {
       "output_type": "stream",
       "stream": "stdout",
       "text": [
        "\n",
        "2014-05-15 8.87"
       ]
      },
      {
       "output_type": "stream",
       "stream": "stdout",
       "text": [
        "\n",
        "2014-05-16 4.74"
       ]
      },
      {
       "output_type": "stream",
       "stream": "stdout",
       "text": [
        "\n",
        "2014-05-19 6.44"
       ]
      },
      {
       "output_type": "stream",
       "stream": "stdout",
       "text": [
        "\n",
        "2014-05-20 12.52"
       ]
      },
      {
       "output_type": "stream",
       "stream": "stdout",
       "text": [
        "\n",
        "2014-05-21 5.26"
       ]
      },
      {
       "output_type": "stream",
       "stream": "stdout",
       "text": [
        "\n",
        "2014-05-22 7.53"
       ]
      },
      {
       "output_type": "stream",
       "stream": "stdout",
       "text": [
        "\n",
        "2014-05-23 7.51"
       ]
      },
      {
       "output_type": "stream",
       "stream": "stdout",
       "text": [
        "\n",
        "2014-05-27 13.49"
       ]
      },
      {
       "output_type": "stream",
       "stream": "stdout",
       "text": [
        "\n",
        "2014-05-28 10.43"
       ]
      },
      {
       "output_type": "stream",
       "stream": "stdout",
       "text": [
        "\n",
        "2014-05-29 1.33"
       ]
      },
      {
       "output_type": "stream",
       "stream": "stdout",
       "text": [
        "\n",
        "2014-05-30 2.02"
       ]
      },
      {
       "output_type": "stream",
       "stream": "stdout",
       "text": [
        "\n",
        "2014-06-02 11.34"
       ]
      },
      {
       "output_type": "stream",
       "stream": "stdout",
       "text": [
        "\n",
        "2014-06-03 5.59"
       ]
      },
      {
       "output_type": "stream",
       "stream": "stdout",
       "text": [
        "\n",
        "2014-06-04 5.78"
       ]
      },
      {
       "output_type": "stream",
       "stream": "stdout",
       "text": [
        "\n",
        "2014-06-05 8.19"
       ]
      },
      {
       "output_type": "stream",
       "stream": "stdout",
       "text": [
        "\n",
        "2014-06-06 13.99"
       ]
      },
      {
       "output_type": "stream",
       "stream": "stdout",
       "text": [
        "\n",
        "2014-06-09 6.88"
       ]
      },
      {
       "output_type": "stream",
       "stream": "stdout",
       "text": [
        "\n",
        "2014-06-10 5.39"
       ]
      },
      {
       "output_type": "stream",
       "stream": "stdout",
       "text": [
        "\n",
        "2014-06-11 5.71"
       ]
      },
      {
       "output_type": "stream",
       "stream": "stdout",
       "text": [
        "\n",
        "2014-06-16 8.06"
       ]
      },
      {
       "output_type": "stream",
       "stream": "stdout",
       "text": [
        "\n",
        "2014-06-17 6.79"
       ]
      },
      {
       "output_type": "stream",
       "stream": "stdout",
       "text": [
        "\n",
        "2014-06-18 10.34"
       ]
      },
      {
       "output_type": "stream",
       "stream": "stdout",
       "text": [
        "\n",
        "2014-06-19 8.08"
       ]
      },
      {
       "output_type": "stream",
       "stream": "stdout",
       "text": [
        "\n",
        "2014-06-20 4.93"
       ]
      },
      {
       "output_type": "stream",
       "stream": "stdout",
       "text": [
        "\n",
        "2014-06-23 12.01"
       ]
      },
      {
       "output_type": "stream",
       "stream": "stdout",
       "text": [
        "\n",
        "2014-06-24 5.71"
       ]
      },
      {
       "output_type": "stream",
       "stream": "stdout",
       "text": [
        "\n",
        "2014-06-25 7.67"
       ]
      },
      {
       "output_type": "stream",
       "stream": "stdout",
       "text": [
        "\n",
        "2014-06-26 11.54"
       ]
      },
      {
       "output_type": "stream",
       "stream": "stdout",
       "text": [
        "\n",
        "2014-06-27 8.54"
       ]
      },
      {
       "output_type": "stream",
       "stream": "stdout",
       "text": [
        "\n",
        "2014-06-30 10.58"
       ]
      },
      {
       "output_type": "stream",
       "stream": "stdout",
       "text": [
        "\n",
        "-38.4 373.25\n"
       ]
      },
      {
       "metadata": {},
       "output_type": "display_data",
       "png": "[encoded data removed]",
       "text": [
        "<matplotlib.figure.Figure at 0xf15e190>"
       ]
      },
      {
       "metadata": {},
       "output_type": "pyout",
       "prompt_number": 93,
       "text": [
        "<ggplot: (15818321)>"
       ]
      }
     ],
     "prompt_number": 93
    },
    {
     "cell_type": "code",
     "collapsed": false,
     "input": [
      "#RandomForest\n",
      "Signals =  qimbs.get_signals1(imbalanceMsg,X,y,RF,dates,datesDF)\n",
      "result2 = qimbs.get_performance(Signals,df,dates,0)\n",
      "result2['I'] = result2.index\n",
      "ggplot(result2, aes('I','Pnl')) + geom_point() + ggtitle('Sum=%s' % result2.Pnl.sum()) + geom_line()"
     ],
     "language": "python",
     "metadata": {},
     "outputs": [
      {
       "output_type": "stream",
       "stream": "stdout",
       "text": [
        "2014-05-01 9.5\n",
        "2014-05-02 14.57"
       ]
      },
      {
       "output_type": "stream",
       "stream": "stdout",
       "text": [
        "\n",
        "2014-05-05 10.54"
       ]
      },
      {
       "output_type": "stream",
       "stream": "stdout",
       "text": [
        "\n",
        "2014-05-06 9.18"
       ]
      },
      {
       "output_type": "stream",
       "stream": "stdout",
       "text": [
        "\n",
        "2014-05-07 54.16"
       ]
      },
      {
       "output_type": "stream",
       "stream": "stdout",
       "text": [
        "\n",
        "2014-05-08 21.79"
       ]
      },
      {
       "output_type": "stream",
       "stream": "stdout",
       "text": [
        "\n",
        "2014-05-09 9.19"
       ]
      },
      {
       "output_type": "stream",
       "stream": "stdout",
       "text": [
        "\n",
        "2014-05-12 8.66"
       ]
      },
      {
       "output_type": "stream",
       "stream": "stdout",
       "text": [
        "\n",
        "2014-05-13 9.75"
       ]
      },
      {
       "output_type": "stream",
       "stream": "stdout",
       "text": [
        "\n",
        "2014-05-14 8.9"
       ]
      },
      {
       "output_type": "stream",
       "stream": "stdout",
       "text": [
        "\n",
        "2014-05-15 10.35"
       ]
      },
      {
       "output_type": "stream",
       "stream": "stdout",
       "text": [
        "\n",
        "2014-05-16 4.94"
       ]
      },
      {
       "output_type": "stream",
       "stream": "stdout",
       "text": [
        "\n",
        "2014-05-19 6.9"
       ]
      },
      {
       "output_type": "stream",
       "stream": "stdout",
       "text": [
        "\n",
        "2014-05-20 11.92"
       ]
      },
      {
       "output_type": "stream",
       "stream": "stdout",
       "text": [
        "\n",
        "2014-05-21 6.07"
       ]
      },
      {
       "output_type": "stream",
       "stream": "stdout",
       "text": [
        "\n",
        "2014-05-22 8.4"
       ]
      },
      {
       "output_type": "stream",
       "stream": "stdout",
       "text": [
        "\n",
        "2014-05-23 7.64"
       ]
      },
      {
       "output_type": "stream",
       "stream": "stdout",
       "text": [
        "\n",
        "2014-05-27 14.18"
       ]
      },
      {
       "output_type": "stream",
       "stream": "stdout",
       "text": [
        "\n",
        "2014-05-28 10.37"
       ]
      },
      {
       "output_type": "stream",
       "stream": "stdout",
       "text": [
        "\n",
        "2014-05-29 1.22"
       ]
      },
      {
       "output_type": "stream",
       "stream": "stdout",
       "text": [
        "\n",
        "2014-05-30 3.73"
       ]
      },
      {
       "output_type": "stream",
       "stream": "stdout",
       "text": [
        "\n",
        "2014-06-02 12.51"
       ]
      },
      {
       "output_type": "stream",
       "stream": "stdout",
       "text": [
        "\n",
        "2014-06-03 7.1"
       ]
      },
      {
       "output_type": "stream",
       "stream": "stdout",
       "text": [
        "\n",
        "2014-06-04 5.88"
       ]
      },
      {
       "output_type": "stream",
       "stream": "stdout",
       "text": [
        "\n",
        "2014-06-05 10.93"
       ]
      },
      {
       "output_type": "stream",
       "stream": "stdout",
       "text": [
        "\n",
        "2014-06-06 15.23"
       ]
      },
      {
       "output_type": "stream",
       "stream": "stdout",
       "text": [
        "\n",
        "2014-06-09 5.83"
       ]
      },
      {
       "output_type": "stream",
       "stream": "stdout",
       "text": [
        "\n",
        "2014-06-10 7.81"
       ]
      },
      {
       "output_type": "stream",
       "stream": "stdout",
       "text": [
        "\n",
        "2014-06-11 6.44"
       ]
      },
      {
       "output_type": "stream",
       "stream": "stdout",
       "text": [
        "\n",
        "2014-06-16 8.67"
       ]
      },
      {
       "output_type": "stream",
       "stream": "stdout",
       "text": [
        "\n",
        "2014-06-17 7.53"
       ]
      },
      {
       "output_type": "stream",
       "stream": "stdout",
       "text": [
        "\n",
        "2014-06-18 10.37"
       ]
      },
      {
       "output_type": "stream",
       "stream": "stdout",
       "text": [
        "\n",
        "2014-06-19 8.07"
       ]
      },
      {
       "output_type": "stream",
       "stream": "stdout",
       "text": [
        "\n",
        "2014-06-20 5.51"
       ]
      },
      {
       "output_type": "stream",
       "stream": "stdout",
       "text": [
        "\n",
        "2014-06-23 12.46"
       ]
      },
      {
       "output_type": "stream",
       "stream": "stdout",
       "text": [
        "\n",
        "2014-06-24 4.76"
       ]
      },
      {
       "output_type": "stream",
       "stream": "stdout",
       "text": [
        "\n",
        "2014-06-25 8.22"
       ]
      },
      {
       "output_type": "stream",
       "stream": "stdout",
       "text": [
        "\n",
        "2014-06-26 11.69"
       ]
      },
      {
       "output_type": "stream",
       "stream": "stdout",
       "text": [
        "\n",
        "2014-06-27 11.13"
       ]
      },
      {
       "output_type": "stream",
       "stream": "stdout",
       "text": [
        "\n",
        "2014-06-30 9.5"
       ]
      },
      {
       "output_type": "stream",
       "stream": "stdout",
       "text": [
        "\n",
        "-33.44 411.6\n"
       ]
      },
      {
       "metadata": {},
       "output_type": "display_data",
       "png": "[encoded data removed]",
       "text": [
        "<matplotlib.figure.Figure at 0x26eb7850>"
       ]
      },
      {
       "metadata": {},
       "output_type": "pyout",
       "prompt_number": 109,
       "text": [
        "<ggplot: (14199881)>"
       ]
      }
     ],
     "prompt_number": 109
    },
    {
     "cell_type": "code",
     "collapsed": false,
     "input": [
      "#RandomForest\n",
      "Signals =  qimbs.get_signals1(imbalanceMsg,X,np.abs(y),RF,dates,datesDF)\n",
      "result2 = qimbs.get_performance(Signals,df,dates,0)\n",
      "result2['I'] = result2.index\n",
      "ggplot(result2, aes('I','Pnl')) + geom_point() + ggtitle('Sum=%s' % result2.Pnl.sum()) + geom_line()"
     ],
     "language": "python",
     "metadata": {},
     "outputs": [
      {
       "output_type": "stream",
       "stream": "stdout",
       "text": [
        "2014-05-01 9.42\n",
        "2014-05-02 14.48"
       ]
      },
      {
       "output_type": "stream",
       "stream": "stdout",
       "text": [
        "\n",
        "2014-05-05 10.82"
       ]
      },
      {
       "output_type": "stream",
       "stream": "stdout",
       "text": [
        "\n",
        "2014-05-06 8.56"
       ]
      },
      {
       "output_type": "stream",
       "stream": "stdout",
       "text": [
        "\n",
        "2014-05-07 53.02"
       ]
      },
      {
       "output_type": "stream",
       "stream": "stdout",
       "text": [
        "\n",
        "2014-05-08 20.93"
       ]
      },
      {
       "output_type": "stream",
       "stream": "stdout",
       "text": [
        "\n",
        "2014-05-09 9.84"
       ]
      },
      {
       "output_type": "stream",
       "stream": "stdout",
       "text": [
        "\n",
        "2014-05-12 8.62"
       ]
      },
      {
       "output_type": "stream",
       "stream": "stdout",
       "text": [
        "\n",
        "2014-05-13 9.55"
       ]
      },
      {
       "output_type": "stream",
       "stream": "stdout",
       "text": [
        "\n",
        "2014-05-14 7.01"
       ]
      },
      {
       "output_type": "stream",
       "stream": "stdout",
       "text": [
        "\n",
        "2014-05-15 10.85"
       ]
      },
      {
       "output_type": "stream",
       "stream": "stdout",
       "text": [
        "\n",
        "2014-05-16 4.88"
       ]
      },
      {
       "output_type": "stream",
       "stream": "stdout",
       "text": [
        "\n",
        "2014-05-19 6.86"
       ]
      },
      {
       "output_type": "stream",
       "stream": "stdout",
       "text": [
        "\n",
        "2014-05-20 12.86"
       ]
      },
      {
       "output_type": "stream",
       "stream": "stdout",
       "text": [
        "\n",
        "2014-05-21 6.03"
       ]
      },
      {
       "output_type": "stream",
       "stream": "stdout",
       "text": [
        "\n",
        "2014-05-22 8.08"
       ]
      },
      {
       "output_type": "stream",
       "stream": "stdout",
       "text": [
        "\n",
        "2014-05-23 7.58"
       ]
      },
      {
       "output_type": "stream",
       "stream": "stdout",
       "text": [
        "\n",
        "2014-05-27 14.34"
       ]
      },
      {
       "output_type": "stream",
       "stream": "stdout",
       "text": [
        "\n",
        "2014-05-28 10.86"
       ]
      },
      {
       "output_type": "stream",
       "stream": "stdout",
       "text": [
        "\n",
        "2014-05-29 1.93"
       ]
      },
      {
       "output_type": "stream",
       "stream": "stdout",
       "text": [
        "\n",
        "2014-05-30 7.65"
       ]
      },
      {
       "output_type": "stream",
       "stream": "stdout",
       "text": [
        "\n",
        "2014-06-02 11.73"
       ]
      },
      {
       "output_type": "stream",
       "stream": "stdout",
       "text": [
        "\n",
        "2014-06-03 7.09"
       ]
      },
      {
       "output_type": "stream",
       "stream": "stdout",
       "text": [
        "\n",
        "2014-06-04 6.54"
       ]
      },
      {
       "output_type": "stream",
       "stream": "stdout",
       "text": [
        "\n",
        "2014-06-05 10.21"
       ]
      },
      {
       "output_type": "stream",
       "stream": "stdout",
       "text": [
        "\n",
        "2014-06-06 14.96"
       ]
      },
      {
       "output_type": "stream",
       "stream": "stdout",
       "text": [
        "\n",
        "2014-06-09 6.31"
       ]
      },
      {
       "output_type": "stream",
       "stream": "stdout",
       "text": [
        "\n",
        "2014-06-10 7.18"
       ]
      },
      {
       "output_type": "stream",
       "stream": "stdout",
       "text": [
        "\n",
        "2014-06-11 6.38"
       ]
      },
      {
       "output_type": "stream",
       "stream": "stdout",
       "text": [
        "\n",
        "2014-06-16 8.82"
       ]
      },
      {
       "output_type": "stream",
       "stream": "stdout",
       "text": [
        "\n",
        "2014-06-17 7.4"
       ]
      },
      {
       "output_type": "stream",
       "stream": "stdout",
       "text": [
        "\n",
        "2014-06-18 10.0"
       ]
      },
      {
       "output_type": "stream",
       "stream": "stdout",
       "text": [
        "\n",
        "2014-06-19 8.31"
       ]
      },
      {
       "output_type": "stream",
       "stream": "stdout",
       "text": [
        "\n",
        "2014-06-20 5.31"
       ]
      },
      {
       "output_type": "stream",
       "stream": "stdout",
       "text": [
        "\n",
        "2014-06-23 15.16"
       ]
      },
      {
       "output_type": "stream",
       "stream": "stdout",
       "text": [
        "\n",
        "2014-06-24 5.26"
       ]
      },
      {
       "output_type": "stream",
       "stream": "stdout",
       "text": [
        "\n",
        "2014-06-25 8.22"
       ]
      },
      {
       "output_type": "stream",
       "stream": "stdout",
       "text": [
        "\n",
        "2014-06-26 11.51"
       ]
      },
      {
       "output_type": "stream",
       "stream": "stdout",
       "text": [
        "\n",
        "2014-06-27 10.93"
       ]
      },
      {
       "output_type": "stream",
       "stream": "stdout",
       "text": [
        "\n",
        "2014-06-30 9.85"
       ]
      },
      {
       "output_type": "stream",
       "stream": "stdout",
       "text": [
        "\n",
        "-35.85 415.34\n"
       ]
      },
      {
       "metadata": {},
       "output_type": "display_data",
       "png": "[encoded data removed]",
       "text": [
        "<matplotlib.figure.Figure at 0xddb2350>"
       ]
      },
      {
       "metadata": {},
       "output_type": "pyout",
       "prompt_number": 110,
       "text": [
        "<ggplot: (45693429)>"
       ]
      }
     ],
     "prompt_number": 110
    },
    {
     "cell_type": "code",
     "collapsed": false,
     "input": [
      "reload(qimbs)"
     ],
     "language": "python",
     "metadata": {},
     "outputs": [
      {
       "metadata": {},
       "output_type": "pyout",
       "prompt_number": 386,
       "text": [
        "<module 'qimbs' from 'qimbs.py'>"
       ]
      }
     ],
     "prompt_number": 386
    },
    {
     "cell_type": "code",
     "collapsed": false,
     "input": [
      "#RandomForest CMove\n",
      "Signals =  qimbs.get_signals_proba(imbalanceMsg,X,y,RF,dates,datesDF)\n",
      "result2 = qimbs.get_performance(Signals,df,dates,0)\n",
      "result2['I'] = result2.index\n",
      "ggplot(result2, aes('I','Pnl')) + geom_point() + ggtitle('Sum=%s' % result2.Pnl.sum()) + geom_line()"
     ],
     "language": "python",
     "metadata": {},
     "outputs": [
      {
       "output_type": "stream",
       "stream": "stdout",
       "text": [
        "2014-05-01 8.17\n",
        "2014-05-02 13.18"
       ]
      },
      {
       "output_type": "stream",
       "stream": "stdout",
       "text": [
        "\n",
        "2014-05-05 9.4"
       ]
      },
      {
       "output_type": "stream",
       "stream": "stdout",
       "text": [
        "\n",
        "2014-05-06 7.27"
       ]
      },
      {
       "output_type": "stream",
       "stream": "stdout",
       "text": [
        "\n",
        "2014-05-07 51.24"
       ]
      },
      {
       "output_type": "stream",
       "stream": "stdout",
       "text": [
        "\n",
        "2014-05-08 16.84"
       ]
      },
      {
       "output_type": "stream",
       "stream": "stdout",
       "text": [
        "\n",
        "2014-05-09 9.13"
       ]
      },
      {
       "output_type": "stream",
       "stream": "stdout",
       "text": [
        "\n",
        "2014-05-12 8.44"
       ]
      },
      {
       "output_type": "stream",
       "stream": "stdout",
       "text": [
        "\n",
        "2014-05-13 9.17"
       ]
      },
      {
       "output_type": "stream",
       "stream": "stdout",
       "text": [
        "\n",
        "2014-05-14 6.63"
       ]
      },
      {
       "output_type": "stream",
       "stream": "stdout",
       "text": [
        "\n",
        "2014-05-15 10.26"
       ]
      },
      {
       "output_type": "stream",
       "stream": "stdout",
       "text": [
        "\n",
        "2014-05-16 4.9"
       ]
      },
      {
       "output_type": "stream",
       "stream": "stdout",
       "text": [
        "\n",
        "2014-05-19 6.69"
       ]
      },
      {
       "output_type": "stream",
       "stream": "stdout",
       "text": [
        "\n",
        "2014-05-20 13.21"
       ]
      },
      {
       "output_type": "stream",
       "stream": "stdout",
       "text": [
        "\n",
        "2014-05-21 5.85"
       ]
      },
      {
       "output_type": "stream",
       "stream": "stdout",
       "text": [
        "\n",
        "2014-05-22 7.88"
       ]
      },
      {
       "output_type": "stream",
       "stream": "stdout",
       "text": [
        "\n",
        "2014-05-23 7.31"
       ]
      },
      {
       "output_type": "stream",
       "stream": "stdout",
       "text": [
        "\n",
        "2014-05-27 14.38"
       ]
      },
      {
       "output_type": "stream",
       "stream": "stdout",
       "text": [
        "\n",
        "2014-05-28 10.15"
       ]
      },
      {
       "output_type": "stream",
       "stream": "stdout",
       "text": [
        "\n",
        "2014-05-29 1.23"
       ]
      },
      {
       "output_type": "stream",
       "stream": "stdout",
       "text": [
        "\n",
        "2014-05-30 2.88"
       ]
      },
      {
       "output_type": "stream",
       "stream": "stdout",
       "text": [
        "\n",
        "2014-06-02 13.2"
       ]
      },
      {
       "output_type": "stream",
       "stream": "stdout",
       "text": [
        "\n",
        "2014-06-03 6.3"
       ]
      },
      {
       "output_type": "stream",
       "stream": "stdout",
       "text": [
        "\n",
        "2014-06-04 5.83"
       ]
      },
      {
       "output_type": "stream",
       "stream": "stdout",
       "text": [
        "\n",
        "2014-06-05 9.76"
       ]
      },
      {
       "output_type": "stream",
       "stream": "stdout",
       "text": [
        "\n",
        "2014-06-06 15.33"
       ]
      },
      {
       "output_type": "stream",
       "stream": "stdout",
       "text": [
        "\n",
        "2014-06-09 6.04"
       ]
      },
      {
       "output_type": "stream",
       "stream": "stdout",
       "text": [
        "\n",
        "2014-06-10 6.09"
       ]
      },
      {
       "output_type": "stream",
       "stream": "stdout",
       "text": [
        "\n",
        "2014-06-11 5.8"
       ]
      },
      {
       "output_type": "stream",
       "stream": "stdout",
       "text": [
        "\n",
        "2014-06-16 9.46"
       ]
      },
      {
       "output_type": "stream",
       "stream": "stdout",
       "text": [
        "\n",
        "2014-06-17 7.59"
       ]
      },
      {
       "output_type": "stream",
       "stream": "stdout",
       "text": [
        "\n",
        "2014-06-18 10.24"
       ]
      },
      {
       "output_type": "stream",
       "stream": "stdout",
       "text": [
        "\n",
        "2014-06-19 7.88"
       ]
      },
      {
       "output_type": "stream",
       "stream": "stdout",
       "text": [
        "\n",
        "2014-06-20 5.33"
       ]
      },
      {
       "output_type": "stream",
       "stream": "stdout",
       "text": [
        "\n",
        "2014-06-23 13.03"
       ]
      },
      {
       "output_type": "stream",
       "stream": "stdout",
       "text": [
        "\n",
        "2014-06-24 4.44"
       ]
      },
      {
       "output_type": "stream",
       "stream": "stdout",
       "text": [
        "\n",
        "2014-06-25 8.33"
       ]
      },
      {
       "output_type": "stream",
       "stream": "stdout",
       "text": [
        "\n",
        "2014-06-26 10.75"
       ]
      },
      {
       "output_type": "stream",
       "stream": "stdout",
       "text": [
        "\n",
        "2014-06-27 9.79"
       ]
      },
      {
       "output_type": "stream",
       "stream": "stdout",
       "text": [
        "\n",
        "2014-06-30 9.02"
       ]
      },
      {
       "output_type": "stream",
       "stream": "stdout",
       "text": [
        "\n",
        "-29.06 388.42\n"
       ]
      },
      {
       "metadata": {},
       "output_type": "display_data",
       "png": "[encoded data removed]",
       "text": [
        "<matplotlib.figure.Figure at 0x17a4ad50>"
       ]
      },
      {
       "metadata": {},
       "output_type": "pyout",
       "prompt_number": 128,
       "text": [
        "<ggplot: (66158465)>"
       ]
      }
     ],
     "prompt_number": 128
    },
    {
     "cell_type": "code",
     "collapsed": false,
     "input": [
      "#LR\n",
      "from sklearn.linear_model import LogisticRegression as LR\n",
      "Signals =  qimbs.get_signals1(imbalanceMsg,X,y,LR,dates,datesDF)\n",
      "result1 = qimbs.get_performance(Signals,df,dates,0)\n",
      "result1['I'] = result1.index\n",
      "ggplot(result1, aes('I','Pnl')) + geom_point() + ggtitle('Sum=%s' % result1.Pnl.sum()) + geom_line()"
     ],
     "language": "python",
     "metadata": {},
     "outputs": [
      {
       "output_type": "stream",
       "stream": "stdout",
       "text": [
        "2014-05-01 10.56\n",
        "2014-05-02 14.02"
       ]
      },
      {
       "output_type": "stream",
       "stream": "stdout",
       "text": [
        "\n",
        "2014-05-05 10.99"
       ]
      },
      {
       "output_type": "stream",
       "stream": "stdout",
       "text": [
        "\n",
        "2014-05-06 9.59"
       ]
      },
      {
       "output_type": "stream",
       "stream": "stdout",
       "text": [
        "\n",
        "2014-05-07 55.26"
       ]
      },
      {
       "output_type": "stream",
       "stream": "stdout",
       "text": [
        "\n",
        "2014-05-08 21.44"
       ]
      },
      {
       "output_type": "stream",
       "stream": "stdout",
       "text": [
        "\n",
        "2014-05-09 8.43"
       ]
      },
      {
       "output_type": "stream",
       "stream": "stdout",
       "text": [
        "\n",
        "2014-05-12 7.52"
       ]
      },
      {
       "output_type": "stream",
       "stream": "stdout",
       "text": [
        "\n",
        "2014-05-13 9.11"
       ]
      },
      {
       "output_type": "stream",
       "stream": "stdout",
       "text": [
        "\n",
        "2014-05-14 8.62"
       ]
      },
      {
       "output_type": "stream",
       "stream": "stdout",
       "text": [
        "\n",
        "2014-05-15 8.28"
       ]
      },
      {
       "output_type": "stream",
       "stream": "stdout",
       "text": [
        "\n",
        "2014-05-16 4.93"
       ]
      },
      {
       "output_type": "stream",
       "stream": "stdout",
       "text": [
        "\n",
        "2014-05-19 6.13"
       ]
      },
      {
       "output_type": "stream",
       "stream": "stdout",
       "text": [
        "\n",
        "2014-05-20 11.26"
       ]
      },
      {
       "output_type": "stream",
       "stream": "stdout",
       "text": [
        "\n",
        "2014-05-21 5.75"
       ]
      },
      {
       "output_type": "stream",
       "stream": "stdout",
       "text": [
        "\n",
        "2014-05-22 7.9"
       ]
      },
      {
       "output_type": "stream",
       "stream": "stdout",
       "text": [
        "\n",
        "2014-05-23 7.36"
       ]
      },
      {
       "output_type": "stream",
       "stream": "stdout",
       "text": [
        "\n",
        "2014-05-27 13.11"
       ]
      },
      {
       "output_type": "stream",
       "stream": "stdout",
       "text": [
        "\n",
        "2014-05-28 10.3"
       ]
      },
      {
       "output_type": "stream",
       "stream": "stdout",
       "text": [
        "\n",
        "2014-05-29 6.44"
       ]
      },
      {
       "output_type": "stream",
       "stream": "stdout",
       "text": [
        "\n",
        "2014-05-30 5.83"
       ]
      },
      {
       "output_type": "stream",
       "stream": "stdout",
       "text": [
        "\n",
        "2014-06-02 12.83"
       ]
      },
      {
       "output_type": "stream",
       "stream": "stdout",
       "text": [
        "\n",
        "2014-06-03 4.16"
       ]
      },
      {
       "output_type": "stream",
       "stream": "stdout",
       "text": [
        "\n",
        "2014-06-04 6.26"
       ]
      },
      {
       "output_type": "stream",
       "stream": "stdout",
       "text": [
        "\n",
        "2014-06-05 8.95"
       ]
      },
      {
       "output_type": "stream",
       "stream": "stdout",
       "text": [
        "\n",
        "2014-06-06 15.07"
       ]
      },
      {
       "output_type": "stream",
       "stream": "stdout",
       "text": [
        "\n",
        "2014-06-09 5.94"
       ]
      },
      {
       "output_type": "stream",
       "stream": "stdout",
       "text": [
        "\n",
        "2014-06-10 7.37"
       ]
      },
      {
       "output_type": "stream",
       "stream": "stdout",
       "text": [
        "\n",
        "2014-06-11 5.17"
       ]
      },
      {
       "output_type": "stream",
       "stream": "stdout",
       "text": [
        "\n",
        "2014-06-16 10.05"
       ]
      },
      {
       "output_type": "stream",
       "stream": "stdout",
       "text": [
        "\n",
        "2014-06-17 7.25"
       ]
      },
      {
       "output_type": "stream",
       "stream": "stdout",
       "text": [
        "\n",
        "2014-06-18 10.08"
       ]
      },
      {
       "output_type": "stream",
       "stream": "stdout",
       "text": [
        "\n",
        "2014-06-19 8.26"
       ]
      },
      {
       "output_type": "stream",
       "stream": "stdout",
       "text": [
        "\n",
        "2014-06-20 4.55"
       ]
      },
      {
       "output_type": "stream",
       "stream": "stdout",
       "text": [
        "\n",
        "2014-06-23 15.54"
       ]
      },
      {
       "output_type": "stream",
       "stream": "stdout",
       "text": [
        "\n",
        "2014-06-24 5.02"
       ]
      },
      {
       "output_type": "stream",
       "stream": "stdout",
       "text": [
        "\n",
        "2014-06-25 8.15"
       ]
      },
      {
       "output_type": "stream",
       "stream": "stdout",
       "text": [
        "\n",
        "2014-06-26 11.16"
       ]
      },
      {
       "output_type": "stream",
       "stream": "stdout",
       "text": [
        "\n",
        "2014-06-27 11.07"
       ]
      },
      {
       "output_type": "stream",
       "stream": "stdout",
       "text": [
        "\n",
        "2014-06-30 9.87"
       ]
      },
      {
       "output_type": "stream",
       "stream": "stdout",
       "text": [
        "\n",
        "409.58\n"
       ]
      },
      {
       "metadata": {},
       "output_type": "display_data",
       "png": "[encoded data removed]",
       "text": [
        "<matplotlib.figure.Figure at 0xd978090>"
       ]
      },
      {
       "metadata": {},
       "output_type": "pyout",
       "prompt_number": 75,
       "text": [
        "<ggplot: (14248737)>"
       ]
      }
     ],
     "prompt_number": 75
    },
    {
     "cell_type": "code",
     "collapsed": false,
     "input": [
      "#SVC\n",
      "from sklearn.svm import SVC\n",
      "Signals =  qimbs.get_signals1(imbalanceMsg, X[fi['Feature'][:12]],y,SVC,dates,datesDF)\n",
      "result3 = qimbs.get_performance(Signals,df,dates,0)\n",
      "result3['I'] = result3.index\n",
      "ggplot(result1, aes('I','Pnl')) + geom_point() + ggtitle('Sum=%s' % result3.Pnl.sum()) + geom_line()"
     ],
     "language": "python",
     "metadata": {},
     "outputs": []
    },
    {
     "cell_type": "code",
     "collapsed": false,
     "input": [
      "from IPython.core.display import Image \n",
      "Image(filename='/home/user/PyProjects/Results/1.png') "
     ],
     "language": "python",
     "metadata": {},
     "outputs": [
      {
       "metadata": {},
       "output_type": "pyout",
       "png": "[encoded data removed]",
       "prompt_number": 922,
       "text": [
        "<IPython.core.display.Image at 0x12c21b90>"
       ]
      }
     ],
     "prompt_number": 922
    },
    {
     "cell_type": "code",
     "collapsed": false,
     "input": [
      "#RandomForest\n",
      "Signals =  qimbs.get_signals_clf(imbalanceMsg,X_neg,y_neg,clf,dates,datesDF_neg)\n",
      "result2 = qimbs.get_performance(Signals,df,dates,0)\n",
      "result2['I'] = result2.index\n",
      "ggplot(result2, aes('I','Pnl')) + geom_point() + ggtitle('Sum=%s' % result2.Pnl.sum()) + geom_line()"
     ],
     "language": "python",
     "metadata": {},
     "outputs": []
    },
    {
     "cell_type": "code",
     "collapsed": false,
     "input": [
      "\n",
      "\n",
      "\n",
      "\n",
      "\n",
      "\n",
      "\n",
      "\n",
      "\n",
      "\n",
      "\n",
      "\n",
      "\n",
      "\n",
      "\n",
      "\n",
      "\n",
      "\n",
      "\n",
      "\n",
      "\n",
      "\n",
      "\n",
      "\n",
      "\n",
      "#Regression"
     ],
     "language": "python",
     "metadata": {},
     "outputs": []
    },
    {
     "cell_type": "code",
     "collapsed": false,
     "input": [
      "test_size = 20\n",
      "r = range(len(dates))\n",
      "np.random.shuffle(r)\n",
      "test_days = r[:test_size] \n",
      "train_days = r[test_size:] \n",
      "\n",
      "Xtrain = X_pos.ix[datesDF_pos.ix[train_days],:]\n",
      "Xtest = X_pos.ix[datesDF_pos.ix[test_days],:]\n",
      "ytrain = y_pos.ix[datesDF_pos.ix[train_days]]\n",
      "ytest = y_pos.ix[datesDF_pos.ix[test_days]]\n",
      "\n",
      "Xtrain.index = range(Xtrain.shape[0])\n",
      "Xtest.index = range(Xtest.shape[0])\n",
      "ytrain.index = range(ytrain.shape[0])\n",
      "ytest.index = range(ytest.shape[0])\n",
      "\n",
      "from pybrain.tools.shortcuts import buildNetwork\n",
      "from pybrain.datasets import SupervisedDataSet\n",
      "from pybrain.datasets import ClassificationDataSet\n",
      "from pybrain.structure.modules   import SoftmaxLayer\n",
      "\n",
      "#Create dataset\n",
      "#ds = SupervisedDataSet(Xtrain.shape[1], 1)\n",
      "ds = ClassificationDataSet(Xtrain.shape[1], 1, nb_classes=2)\n",
      "for j in range(Xtrain.shape[0]):\n",
      "    ds.addSample(Xtrain.ix[j,:], ytrain.ix[j,:])\n",
      "ds._convertToOneOfMany( )\n",
      "\n",
      "#Create net\n",
      "#from pybrain.structure import FeedForwardNetwork\n",
      "#net = FeedForwardNetwork()\n",
      "#from pybrain.structure import LinearLayer, SigmoidLayer\n",
      "#inLayer = LinearLayer(ds.indim)\n",
      "#hiddenLayer = SigmoidLayer(5)\n",
      "#outLayer = SoftmaxLayer(ds.outdim)\n",
      "#net.addInputModule(inLayer)\n",
      "#net.addModule(hiddenLayer)\n",
      "#net.addOutputModule(outLayer)\n",
      "#from pybrain.structure import FullConnection\n",
      "#in_to_hidden = FullConnection(inLayer, hiddenLayer)\n",
      "#hidden_to_out = FullConnection(hiddenLayer, outLayer)\n",
      "#net.addConnection(in_to_hidden)\n",
      "#net.addConnection(hidden_to_out)\n",
      "#net.sortModules()\n",
      "#net = buildNetwork(ds.indim, 2, ds.outdim, outclass=SoftmaxLayer)\n",
      "\n",
      "from pybrain.structure import RecurrentNetwork\n",
      "net = RecurrentNetwork()\n",
      "net.addInputModule(LinearLayer(ds.indim, name='inLayer'))\n",
      "net.addModule(SigmoidLayer(ds.indim, name='hiddenLayer'))\n",
      "net.addOutputModule(SoftmaxLayer(ds.outdim, name='outLayer'))\n",
      "net.addConnection(FullConnection(net['inLayer'], net['hiddenLayer'], name='in_to_hidden'))\n",
      "net.addConnection(FullConnection(net['hiddenLayer'], net['outLayer'], name='hidden_to_out'))\n",
      "net.addRecurrentConnection(FullConnection(net['hiddenLayer'], net['hiddenLayer'], name='hidden_to_hidden'))\n",
      "net.sortModules()\n",
      "\n",
      "#Train net\n",
      "from pybrain.supervised.trainers import BackpropTrainer\n",
      "trainer = BackpropTrainer(net, ds, momentum=0.1, verbose=True, weightdecay=0.01)\n",
      "\n",
      "#for i in range(10):\n",
      "#    if i%20==0:\n",
      "#        print i\n",
      "#    trainer.trainEpochs(1)\n",
      "    \n",
      "trnerr,testerr = trainer.trainUntilConvergence(dataset=ds,maxEpochs=10)\n",
      "plt.plot(trnerr,'b',valerr,'r')"
     ],
     "language": "python",
     "metadata": {},
     "outputs": [
      {
       "output_type": "stream",
       "stream": "stdout",
       "text": [
        "Total error: 0.104552880605\n",
        "Total error:"
       ]
      },
      {
       "output_type": "stream",
       "stream": "stdout",
       "text": [
        " 0.082603049406\n",
        "Total error:"
       ]
      },
      {
       "output_type": "stream",
       "stream": "stdout",
       "text": [
        " 0.0791234690025\n",
        "Total error:"
       ]
      },
      {
       "output_type": "stream",
       "stream": "stdout",
       "text": [
        " 0.0771508192234\n",
        "Total error:"
       ]
      },
      {
       "output_type": "stream",
       "stream": "stdout",
       "text": [
        " 0.0762790130076\n",
        "Total error:"
       ]
      },
      {
       "output_type": "stream",
       "stream": "stdout",
       "text": [
        " 0.0763204164806\n",
        "Total error:"
       ]
      },
      {
       "output_type": "stream",
       "stream": "stdout",
       "text": [
        " 0.0767192721094\n",
        "Total error:"
       ]
      },
      {
       "output_type": "stream",
       "stream": "stdout",
       "text": [
        " 0.0762990118571\n",
        "Total error:"
       ]
      },
      {
       "output_type": "stream",
       "stream": "stdout",
       "text": [
        " 0.0769244171997\n",
        "Total error:"
       ]
      },
      {
       "output_type": "stream",
       "stream": "stdout",
       "text": [
        " 0.0769507216906\n",
        "Total error:"
       ]
      },
      {
       "output_type": "stream",
       "stream": "stdout",
       "text": [
        " 0.0770573623218\n",
        "train-errors:"
       ]
      },
      {
       "output_type": "stream",
       "stream": "stdout",
       "text": [
        " [  0.104553  0.082603  0.079123  0.077151  0.076279  0.076320  0.076719  0.076299  0.076924  0.076951  0.077057  0.074433]\n",
        "valid-errors: [  0.186077  0.085623  0.081423  0.079585  0.078688  0.077985  0.077748  0.078951  0.080917  0.078713  0.078160  0.079649]\n"
       ]
      },
      {
       "metadata": {},
       "output_type": "pyout",
       "prompt_number": 304,
       "text": [
        "[<matplotlib.lines.Line2D at 0x7fce1987b8d0>,\n",
        " <matplotlib.lines.Line2D at 0x7fce1987b590>]"
       ]
      },
      {
       "metadata": {},
       "output_type": "display_data",
       "png": "[encoded data removed]",
       "text": [
        "<matplotlib.figure.Figure at 0x7fce1989af50>"
       ]
      }
     ],
     "prompt_number": 304
    },
    {
     "cell_type": "code",
     "collapsed": false,
     "input": [
      "print net.activate(Xtest.ix[1,:])\n",
      "print ytest.ix[1,:]"
     ],
     "language": "python",
     "metadata": {},
     "outputs": [
      {
       "output_type": "stream",
       "stream": "stdout",
       "text": [
        "[ 0.15119072  0.84880928]\n",
        "True\n"
       ]
      }
     ],
     "prompt_number": 185
    },
    {
     "cell_type": "code",
     "collapsed": false,
     "input": [
      "to_hidden=numpy.dot(in_to_hidden.params.reshape(hiddenLayer.dim,inLayer.dim),Xtest.ix[0,:].as_matrix())"
     ],
     "language": "python",
     "metadata": {},
     "outputs": [],
     "prompt_number": 283
    },
    {
     "cell_type": "code",
     "collapsed": false,
     "input": [
      "to_out=hiddenLayer.activate(to_hidden)"
     ],
     "language": "python",
     "metadata": {},
     "outputs": [],
     "prompt_number": 285
    },
    {
     "cell_type": "code",
     "collapsed": false,
     "input": [
      "in_to_hidden.params.reshape(hiddenLayer.dim,inLayer.dim)"
     ],
     "language": "python",
     "metadata": {},
     "outputs": [
      {
       "metadata": {},
       "output_type": "pyout",
       "prompt_number": 286,
       "text": [
        "array([[ 0.65009669, -0.17851852,  0.23880012,  0.00160774,  0.72572113,\n",
        "         0.88744881,  0.39890297, -0.14124557, -0.3056287 , -0.05622591,\n",
        "        -0.27739331, -0.16414631,  0.3538641 ,  0.3653273 ,  0.93904968,\n",
        "        -0.15794877, -0.32923795, -0.67979776],\n",
        "       [ 0.07721032, -0.09637148,  0.43044333,  0.03862901, -0.10500687,\n",
        "         0.64067348,  0.49781528, -0.2911192 ,  0.29714618,  0.13405259,\n",
        "        -0.13058173, -0.17484293,  0.13677482,  0.55964157, -0.02868943,\n",
        "        -0.36034351, -0.05492121, -0.23958647],\n",
        "       [ 0.09146856, -0.01416603, -0.75198609, -0.35690842,  0.03126613,\n",
        "        -0.80502415, -0.01613624, -0.34418639,  0.12549838,  0.24218375,\n",
        "        -0.1250289 ,  0.02121131,  0.41868347, -0.32295555, -0.1214289 ,\n",
        "         0.26885546,  0.67812129, -0.21130383],\n",
        "       [ 0.33287159,  0.2741216 ,  0.00694761,  0.08920803,  0.17906528,\n",
        "         0.14973089, -0.04347475, -0.30481141, -0.25780276, -0.00899813,\n",
        "        -0.26587144, -0.73523339,  0.05086607, -0.38210159, -0.01419989,\n",
        "         0.20823731, -0.3903159 ,  0.03884604],\n",
        "       [-0.11791887,  0.43477712,  0.13296645,  0.18532865, -0.36573313,\n",
        "         0.02391868, -0.59915794,  0.33564817, -0.32316034,  0.20335714,\n",
        "        -0.17852399,  0.11478314,  0.28072333, -0.01450429, -0.4668003 ,\n",
        "         0.2023887 ,  0.83324718,  0.18185945]])"
       ]
      }
     ],
     "prompt_number": 286
    },
    {
     "cell_type": "code",
     "collapsed": false,
     "input": [
      "outLayer.activate(numpy.dot(hidden_to_out.params.reshape(outLayer.dim,hiddenLayer.dim),to_out))"
     ],
     "language": "python",
     "metadata": {},
     "outputs": [
      {
       "metadata": {},
       "output_type": "pyout",
       "prompt_number": 287,
       "text": [
        "array([ 0.86638375,  0.13361625])"
       ]
      }
     ],
     "prompt_number": 287
    },
    {
     "cell_type": "code",
     "collapsed": false,
     "input": [
      "Xtrain_new= zeros(Xtrain.shape,float)"
     ],
     "language": "python",
     "metadata": {},
     "outputs": [],
     "prompt_number": 290
    },
    {
     "cell_type": "code",
     "collapsed": false,
     "input": [
      "hiddenLayer.dim"
     ],
     "language": "python",
     "metadata": {},
     "outputs": [
      {
       "metadata": {},
       "output_type": "pyout",
       "prompt_number": 292,
       "text": [
        "5"
       ]
      }
     ],
     "prompt_number": 292
    },
    {
     "cell_type": "code",
     "collapsed": false,
     "input": [
      "\n",
      "\n",
      "outLayer\n",
      "\n",
      "\n",
      "\n",
      "\n"
     ],
     "language": "python",
     "metadata": {},
     "outputs": [
      {
       "metadata": {},
       "output_type": "pyout",
       "prompt_number": 268,
       "text": [
        "<SoftmaxLayer 'SoftmaxLayer-1835'>"
       ]
      }
     ],
     "prompt_number": 268
    },
    {
     "cell_type": "code",
     "collapsed": false,
     "input": [
      "from sklearn import metrics\n",
      "\n",
      "test_size = 20\n",
      "r = range(len(dates))\n",
      "np.random.shuffle(r)\n",
      "test_days = r[:test_size] \n",
      "train_days = r[test_size:] \n",
      "\n",
      "Xtrain = X_pos.ix[datesDF_pos.ix[train_days],:]\n",
      "Xtest = X_pos.ix[datesDF_pos.ix[test_days],:]\n",
      "ytrain = ypln_pos.ix[datesDF_pos.ix[train_days]]\n",
      "ytest = ypln_pos.ix[datesDF_pos.ix[test_days]]\n",
      "\n",
      "from sklearn.ensemble import GradientBoostingRegressor as GBR\n",
      "from sklearn.ensemble import RandomForestRegressor as RFR\n",
      "from sklearn.linear_model import LinearRegression as LinR\n",
      "from sklearn.linear_model import SGDRegressor as SGDR\n",
      "from sklearn.linear_model import Ridge\n",
      "from sklearn.svm import SVR\n",
      "\n",
      "f = ytrain<0\n",
      "f2 = ytest<0\n",
      "clf = GBR(loss='huber', min_samples_split = ytrain[f].shape[0]*0.05,init='zero')\n",
      "clf.fit(Xtrain[f], ytrain[f])\n",
      "y_pred = clf.predict(Xtest[f2])\n",
      "print \"GBR\"\n",
      "#print \"Training mse: \", metrics.mean_squared_error(clf.predict(Xtrain), ytrain)\n",
      "#print \"Test     mse: \", metrics.mean_squared_error(clf.predict(Xtest), ytest)\n",
      "print \"Training mae: \", metrics.mean_absolute_error(clf.predict(Xtrain[f]), ytrain[f])\n",
      "print \"Test     mae: \", metrics.mean_absolute_error(clf.predict(Xtest[f2]), ytest[f2])\n",
      "print \"Training EV: \", metrics.explained_variance_score(clf.predict(Xtrain[f]), ytrain[f])\n",
      "print \"Test     EV: \", metrics.explained_variance_score(clf.predict(Xtest[f2]), ytest[f2])\n",
      "print \"Training R2: \", metrics.r2_score(clf.predict(Xtrain[f]), ytrain[f])\n",
      "print \"Test     R2: \", metrics.r2_score(clf.predict(Xtest[f2]), ytest[f2])\n",
      "print \"-------------\"\n",
      "\n",
      "clf = LinR()#RFR(min_samples_split = ytrain[f].shape[0]*0.05)\n",
      "clf.fit(Xtrain[f], ytrain[f])\n",
      "y_predLR = clf.predict(Xtest[f2])\n",
      "print \"LinReg\"\n",
      "#plt.plot(clf.coef_[:10])\n",
      "#print \"Training mse: \", metrics.mean_squared_error(clf.predict(Xtrain), ytrain)\n",
      "#print \"Test     mse: \", metrics.mean_squared_error(clf.predict(Xtest), ytest)\n",
      "print \"Training mae: \", metrics.mean_absolute_error(clf.predict(Xtrain[f]), ytrain[f])\n",
      "print \"Test     mae: \", metrics.mean_absolute_error(clf.predict(Xtest[f2]), ytest[f2])\n",
      "print \"Training EV: \", metrics.explained_variance_score(clf.predict(Xtrain[f]), ytrain[f])\n",
      "print \"Test     EV: \", metrics.explained_variance_score(clf.predict(Xtest[f2]), ytest[f2])\n",
      "print \"Training R2: \", metrics.r2_score(clf.predict(Xtrain[f]), ytrain[f])\n",
      "print \"Test     R2: \", metrics.r2_score(clf.predict(Xtest[f2]), ytest[f2])\n",
      "print \"-------------\"\n",
      "\n",
      "clf = RFR(min_samples_split = ytrain[f].shape[0]*0.05)\n",
      "clf.fit(Xtrain[f], ytrain[f])\n",
      "y_predR = clf.predict(Xtest[f2])\n",
      "print \"RF\"\n",
      "print \"Training mae: \", metrics.mean_absolute_error(clf.predict(Xtrain[f]), ytrain[f])\n",
      "print \"Test     mae: \", metrics.mean_absolute_error(clf.predict(Xtest[f2]), ytest[f2])\n",
      "print \"Training EV: \", metrics.explained_variance_score(clf.predict(Xtrain[f]), ytrain[f])\n",
      "print \"Test     EV: \", metrics.explained_variance_score(clf.predict(Xtest[f2]), ytest[f2])\n",
      "print \"Training R2: \", metrics.r2_score(clf.predict(Xtrain[f]), ytrain[f])\n",
      "print \"Test     R2: \", metrics.r2_score(clf.predict(Xtest[f2]), ytest[f2])\n",
      "print \"-------------\"\n",
      "\n",
      "rdf=pd.DataFrame()\n",
      "rdf['y'] = ytest[f2];\n",
      "rdf['yp'] = y_pred;\n",
      "rdf['yr'] = y_predR;\n",
      "rdf['yl'] = y_predLR;\n",
      "rdf['yall'] = (y_predR+y_pred)/2;\n",
      "rdf['i'] = range(rdf.shape[0]);\n",
      "rdf['resid'] = rdf['y']-rdf['yr'];\n",
      "print \"Test     mae: \", metrics.mean_absolute_error(rdf['yall'], rdf['y'])\n",
      "print \"Test     EV: \", metrics.explained_variance_score(rdf['yall'], rdf['y'])\n",
      "print \"Test     R2: \", metrics.r2_score(rdf['yall'], rdf['y'])\n",
      "print \"-------------\"\n",
      "\n",
      "\n",
      "ggplot(rdf,aes('y','yall')) + geom_point(size=1)+\\\n",
      "stat_function(fun = lambda x: x, color='red') +\\\n",
      "geom_point(rdf,aes('y','yl'),size=1,color='green') #+\\\n",
      "#geom_point(rdf,aes('y','yl'),size=1,color='red')# +\\\n",
      "\n",
      "#ggplot(rdf,aes('resid')) + geom_histogram(binwidth = 0.01)"
     ],
     "language": "python",
     "metadata": {},
     "outputs": [
      {
       "output_type": "stream",
       "stream": "stdout",
       "text": [
        "GBR\n",
        "Training mae:  0.00181066694303\n",
        "Test     mae:  0.00429329763791\n",
        "Training EV:  0.993819221073\n",
        "Test     EV:  0.943002355182\n",
        "Training R2:  0.993772537255\n",
        "Test     R2:  0.942961714495\n",
        "-------------\n",
        "LinReg\n",
        "Training mae:  0.00665329040853\n",
        "Test     mae:  0.00745972141276\n",
        "Training EV:  0.921080590472\n",
        "Test     EV:  0.714989798136\n",
        "Training R2:  0.921080590472\n",
        "Test     R2:  0.714608515709\n",
        "-------------\n",
        "RF\n",
        "Training mae:  0.00453090567979\n",
        "Test     mae:  0.00566819705856\n",
        "Training EV:  0.922169417219\n",
        "Test     EV:  0.929862632059\n",
        "Training R2:  0.92213827409\n",
        "Test     R2:  0.928493941361\n",
        "-------------\n",
        "Test     mae: "
       ]
      },
      {
       "output_type": "stream",
       "stream": "stdout",
       "text": [
        " 0.0046640683066\n",
        "Test     EV:  0.947921270577\n",
        "Test     R2:  0.947665426425\n",
        "-------------\n"
       ]
      },
      {
       "metadata": {},
       "output_type": "pyout",
       "prompt_number": 143,
       "text": [
        "<repr(<ggplot.ggplot.ggplot at 0x7fce18c38590>) failed: KeyError: 0>"
       ]
      },
      {
       "metadata": {},
       "output_type": "display_data",
       "png": "[encoded data removed]",
       "text": [
        "<matplotlib.figure.Figure at 0x7fce18c38550>"
       ]
      }
     ],
     "prompt_number": 143
    },
    {
     "cell_type": "code",
     "collapsed": false,
     "input": [
      "reload(qimbs)"
     ],
     "language": "python",
     "metadata": {},
     "outputs": [
      {
       "metadata": {},
       "output_type": "pyout",
       "prompt_number": 592,
       "text": [
        "<module 'qimbs' from 'qimbs.py'>"
       ]
      }
     ],
     "prompt_number": 592
    },
    {
     "cell_type": "code",
     "collapsed": false,
     "input": [
      "qimbs.Regression('COMB', X_pos,ypln_pos,dates,datesDF_pos,-1)"
     ],
     "language": "python",
     "metadata": {},
     "outputs": [
      {
       "output_type": "stream",
       "stream": "stdout",
       "text": [
        "TrainError - 0.0220127290419, TestError - 0.037417486605\n"
       ]
      },
      {
       "output_type": "stream",
       "stream": "stderr",
       "text": [
        "/usr/lib/python2.7/dist-packages/scipy/stats/stats.py:1373: DeprecationWarning: using a non-integer number instead of an integer will result in an error in the future\n",
        "  return values[idx]\n"
       ]
      },
      {
       "metadata": {},
       "output_type": "display_data",
       "png": "[encoded data removed]",
       "text": [
        "<matplotlib.figure.Figure at 0xdbc1490>"
       ]
      },
      {
       "metadata": {},
       "output_type": "pyout",
       "prompt_number": 36,
       "text": [
        "<ggplot: (14401885)>"
       ]
      }
     ],
     "prompt_number": 36
    },
    {
     "cell_type": "code",
     "collapsed": false,
     "input": [
      "qimbs.Regression('COMB', X_neg,ypln_neg,dates,datesDF_neg,-1)"
     ],
     "language": "python",
     "metadata": {},
     "outputs": [
      {
       "output_type": "stream",
       "stream": "stdout",
       "text": [
        "TrainError - 0.0175876428642, TestError - 0.0288449532855\n"
       ]
      },
      {
       "metadata": {},
       "output_type": "display_data",
       "png": "[encoded data removed]",
       "text": [
        "<matplotlib.figure.Figure at 0xdb70090>"
       ]
      },
      {
       "metadata": {},
       "output_type": "pyout",
       "prompt_number": 37,
       "text": [
        "<ggplot: (14381257)>"
       ]
      }
     ],
     "prompt_number": 37
    },
    {
     "cell_type": "code",
     "collapsed": false,
     "input": [
      "qimbs.Regression('COMB', X_neg,ypln_neg,dates,datesDF_neg,1)"
     ],
     "language": "python",
     "metadata": {},
     "outputs": [
      {
       "output_type": "stream",
       "stream": "stdout",
       "text": [
        "TrainError - 0.212922714787, TestError - 0.258926938559\n"
       ]
      },
      {
       "metadata": {},
       "output_type": "display_data",
       "png": "[encoded data removed]",
       "text": [
        "<matplotlib.figure.Figure at 0xadcbf90>"
       ]
      },
      {
       "metadata": {},
       "output_type": "pyout",
       "prompt_number": 38,
       "text": [
        "<ggplot: (11389801)>"
       ]
      }
     ],
     "prompt_number": 38
    },
    {
     "cell_type": "code",
     "collapsed": false,
     "input": [
      "qimbs.Regression('COMB', X_pos,ypln_pos,dates,datesDF_pos,1)"
     ],
     "language": "python",
     "metadata": {},
     "outputs": [
      {
       "output_type": "stream",
       "stream": "stdout",
       "text": [
        "TrainError - 0.197147529585, TestError - 0.373117023787\n"
       ]
      },
      {
       "metadata": {},
       "output_type": "display_data",
       "png": "[encoded data removed]",
       "text": [
        "<matplotlib.figure.Figure at 0xd3d7910>"
       ]
      },
      {
       "metadata": {},
       "output_type": "pyout",
       "prompt_number": 39,
       "text": [
        "<ggplot: (13883353)>"
       ]
      }
     ],
     "prompt_number": 39
    },
    {
     "cell_type": "code",
     "collapsed": false,
     "input": [
      "f = ytrain<0\n",
      "f2 = ytest<0\n",
      "clf = GradientBoostingRegressor(loss='huber', min_samples_split = ytrain[f].shape[0]*0.05)\n",
      "clf.fit(Xtrain[f], ytrain[f])\n",
      "fix, axs = pdep.plot_partial_dependence(clf,Xtrain[f],[(5,0)],feature_names=Xtrain.columns)"
     ],
     "language": "python",
     "metadata": {},
     "outputs": [
      {
       "metadata": {},
       "output_type": "display_data",
       "png": "[encoded data removed]",
       "text": [
        "<matplotlib.figure.Figure at 0x7fdd8e940910>"
       ]
      }
     ],
     "prompt_number": 294
    },
    {
     "cell_type": "code",
     "collapsed": false,
     "input": [
      "f = ytrain>0\n",
      "f2 = ytest>0\n",
      "clf = GradientBoostingRegressor(loss='huber', min_samples_split = ytrain[f].shape[0]*0.05)\n",
      "clf.fit(Xtrain[f], ytrain[f])\n",
      "fix, axs = pdep.plot_partial_dependence(clf,Xtrain[f],[(5,0)],feature_names=Xtrain.columns)"
     ],
     "language": "python",
     "metadata": {},
     "outputs": [
      {
       "metadata": {},
       "output_type": "display_data",
       "png": "[encoded data removed]",
       "text": [
        "<matplotlib.figure.Figure at 0x7fdd8fb59450>"
       ]
      }
     ],
     "prompt_number": 295
    },
    {
     "cell_type": "code",
     "collapsed": false,
     "input": [
      "tmp_df = pd.DataFrame()\n",
      "tmp_df['yp'] = ypln_pos\n",
      "tmp_df['yn'] = ypln_neg\n",
      "tmp_df['t'] = X_pos.D555\n",
      "tmp_df['t2'] = X_neg.D444\n",
      "print np.percentile(tmp_df[(tmp_df.yp>0) & (tmp_df.t>=0)].yp,95)\n",
      "print np.percentile(tmp_df[(tmp_df.yn>0) & (tmp_df.t2>=0)].yp,95)\n",
      "ggplot(tmp_df[(tmp_df.yp>0) & (tmp_df.t>=0)],aes(x='yp')) + geom_histogram(binwidth = 0.01,alpha=0.5, color='red') +\\\n",
      "geom_histogram(tmp_df[(tmp_df.yn>0) & (tmp_df.t2>=0)],aes(x='yn'),binwidth = 0.01,alpha=0.5,color='green')\n",
      "\n"
     ],
     "language": "python",
     "metadata": {},
     "outputs": [
      {
       "output_type": "stream",
       "stream": "stdout",
       "text": [
        "0.0297857142857\n",
        "0.0167272503505\n"
       ]
      },
      {
       "metadata": {},
       "output_type": "display_data",
       "png": "[encoded data removed]",
       "text": [
        "<matplotlib.figure.Figure at 0x14f3a4d0>"
       ]
      },
      {
       "metadata": {},
       "output_type": "pyout",
       "prompt_number": 40,
       "text": [
        "<ggplot: (21969617)>"
       ]
      }
     ],
     "prompt_number": 40
    },
    {
     "cell_type": "code",
     "collapsed": false,
     "input": [
      "tmp_df = pd.DataFrame()\n",
      "tmp_df['yp'] = ypln_pos\n",
      "tmp_df['yn'] = ypln_neg\n",
      "tmp_df['t'] = X_pos.D555\n",
      "tmp_df['t2'] = X_neg.D444\n",
      "ggplot(tmp_df[(tmp_df.yp<0) & (tmp_df.t>=0)],aes(x='yp')) + geom_histogram(binwidth = 0.005,alpha=0.5, color='red') +\\\n",
      "geom_histogram(tmp_df[(tmp_df.yn<0) & (tmp_df.t2>=0)],aes(x='yn'),binwidth = 0.005,alpha=0.5,color='green')"
     ],
     "language": "python",
     "metadata": {},
     "outputs": [
      {
       "metadata": {},
       "output_type": "pyout",
       "prompt_number": 48,
       "text": [
        "<repr(<ggplot.ggplot.ggplot at 0xabf3a50>) failed: KeyError: 0>"
       ]
      },
      {
       "metadata": {},
       "output_type": "display_data",
       "png": "[encoded data removed]",
       "text": [
        "<matplotlib.figure.Figure at 0xdba1990>"
       ]
      }
     ],
     "prompt_number": 48
    },
    {
     "cell_type": "code",
     "collapsed": false,
     "input": [
      "X_pos.columns"
     ],
     "language": "python",
     "metadata": {},
     "outputs": [
      {
       "metadata": {},
       "output_type": "pyout",
       "prompt_number": 122,
       "text": [
        "Index([u'Ask', u'AskD', u'Near', u'Far', u'Spread', u'D5', u'D555', u'D66', u'V1', u'V1n', u'V11', u'V11n', u'V8', u'V8n', u'V8nn', u'a1', u'a4', u'a5', u'a7'], dtype='object')"
       ]
      }
     ],
     "prompt_number": 122
    },
    {
     "cell_type": "code",
     "collapsed": false,
     "input": [
      "tmp_df = X_pos.copy()\n",
      "tmp_df['yp'] = ypln_pos\n",
      "tmp_df['NearN'] =  np.exp(np.exp(tmp_df.Near))\n",
      "ggplot(tmp_df,aes(x='a7',y='yp')) + geom_point(size=1)"
     ],
     "language": "python",
     "metadata": {},
     "outputs": [
      {
       "metadata": {},
       "output_type": "display_data",
       "png": "[encoded data removed]",
       "text": [
        "<matplotlib.figure.Figure at 0x80da250>"
       ]
      },
      {
       "metadata": {},
       "output_type": "pyout",
       "prompt_number": 155,
       "text": [
        "<ggplot: (8786879563809)>"
       ]
      }
     ],
     "prompt_number": 155
    },
    {
     "cell_type": "code",
     "collapsed": false,
     "input": [
      "\n",
      "\n",
      "\n",
      "\n",
      "\n",
      "#Save configuration for C++"
     ],
     "language": "python",
     "metadata": {},
     "outputs": []
    },
    {
     "cell_type": "code",
     "collapsed": false,
     "input": [
      "#Random forest for classification\n",
      "clf = RF(min_samples_split = X_pos.shape[0]*0.05, criterion = 'entropy')\n",
      "clf.fit(X_pos,y_pos)\n",
      "qimbs.Forest2Txt(clf, X_pos.ix[:,:],'/home/user1/Desktop/Share2Windows/Forest/Pos')\n",
      "clf = RF(min_samples_split = X_neg.shape[0]*0.05, criterion = 'entropy')\n",
      "clf.fit(X_neg,y_neg)\n",
      "qimbs.Forest2Txt(clf, X_neg.ix[:,:],'/home/user1/Desktop/Share2Windows/Forest/Neg')"
     ],
     "language": "python",
     "metadata": {},
     "outputs": [],
     "prompt_number": 133
    },
    {
     "cell_type": "code",
     "collapsed": false,
     "input": [
      "#Random forest for regression\n",
      "from sklearn.ensemble import RandomForestRegressor as RFR\n",
      "Xpp = X_pos.copy()\n",
      "Xpp = Xpp[ypln_pos>0]\n",
      "Xpp.index = range(Xpp.shape[0])\n",
      "\n",
      "clf = RFR(min_samples_split = ypln_pos[ypln_pos>0].shape[0]*0.05)\n",
      "clf.fit(Xpp, ypln_pos[ypln_pos>0])\n",
      "qimbs.Forest2Txt(clf, Xpp.ix[:,:],'/home/user1/Desktop/Share2Windows/Forest/PP')\n",
      "\n",
      "clf = GBR(min_samples_split = ypln_pos[ypln_pos>0].shape[0]*0.05, loss='huber',init='zero',learning_rate=0.1)\n",
      "clf.fit(Xpp, ypln_pos[ypln_pos>0])\n",
      "qimbs.Forest2Txt(clf, Xpp.ix[:,:],'/home/user1/Desktop/Share2Windows/GradientBoost/PP')"
     ],
     "language": "python",
     "metadata": {},
     "outputs": [],
     "prompt_number": 145
    },
    {
     "cell_type": "code",
     "collapsed": false,
     "input": [
      "Xpn = X_pos.copy()\n",
      "Xpn = Xpn[ypln_pos<0]\n",
      "Xpn.index = range(Xpn.shape[0])\n",
      "\n",
      "clf = RFR(min_samples_split = ypln_pos[ypln_pos<0].shape[0]*0.05)\n",
      "clf.fit(Xpn, ypln_pos[ypln_pos<0])\n",
      "qimbs.Forest2Txt(clf, Xpn.ix[:,:],'/home/user1/Desktop/Share2Windows/Forest/PN')\n",
      "\n",
      "clf = GBR(min_samples_split = ypln_pos[ypln_pos<0].shape[0]*0.05, loss='huber',init='zero',learning_rate=0.1)\n",
      "clf.fit(Xpn, ypln_pos[ypln_pos<0])\n",
      "qimbs.Forest2Txt(clf, Xpn.ix[:,:],'/home/user1/Desktop/Share2Windows/GradientBoost/PN')"
     ],
     "language": "python",
     "metadata": {},
     "outputs": [],
     "prompt_number": 146
    },
    {
     "cell_type": "code",
     "collapsed": false,
     "input": [
      "Xnp = X_neg.copy()\n",
      "Xnp = Xnp[ypln_neg>0]\n",
      "Xnp.index = range(Xnp.shape[0])\n",
      "\n",
      "clf = RFR(min_samples_split = ypln_neg[ypln_neg>0].shape[0]*0.05)\n",
      "clf.fit(Xnp, ypln_neg[ypln_neg>0])\n",
      "qimbs.Forest2Txt(clf, Xnp.ix[:,:],'/home/user1/Desktop/Share2Windows/Forest/NP')\n",
      "\n",
      "clf = GBR(min_samples_split = ypln_neg[ypln_neg>0].shape[0]*0.05, loss='huber',init='zero',learning_rate=0.1)\n",
      "clf.fit(Xnp, ypln_neg[ypln_neg>0])\n",
      "qimbs.Forest2Txt(clf, Xnp.ix[:,:],'/home/user1/Desktop/Share2Windows/GradientBoost/NP')"
     ],
     "language": "python",
     "metadata": {},
     "outputs": [],
     "prompt_number": 147
    },
    {
     "cell_type": "code",
     "collapsed": false,
     "input": [
      "Xnn = X_neg.copy()\n",
      "Xnn = Xnn[ypln_neg<0]\n",
      "Xnn.index = range(Xnn.shape[0])\n",
      "\n",
      "clf = RFR(min_samples_split = ypln_neg[ypln_neg<0].shape[0]*0.05)\n",
      "clf.fit(Xnn, ypln_neg[ypln_neg<0])\n",
      "qimbs.Forest2Txt(clf, Xnn.ix[:,:],'/home/user1/Desktop/Share2Windows/Forest/NN')\n",
      "\n",
      "clf = GBR(min_samples_split = ypln_neg[ypln_neg<0].shape[0]*0.05, loss='huber',init='zero',learning_rate=0.1)\n",
      "clf.fit(Xnn, ypln_neg[ypln_neg<0])\n",
      "qimbs.Forest2Txt(clf, Xnn.ix[:,:],'/home/user1/Desktop/Share2Windows/GradientBoost/NN')"
     ],
     "language": "python",
     "metadata": {},
     "outputs": [],
     "prompt_number": 148
    },
    {
     "cell_type": "code",
     "collapsed": false,
     "input": [
      "reload(qimbs)"
     ],
     "language": "python",
     "metadata": {},
     "outputs": [
      {
       "metadata": {},
       "output_type": "pyout",
       "prompt_number": 144,
       "text": [
        "<module 'qimbs' from 'qimbs.py'>"
       ]
      }
     ],
     "prompt_number": 144
    }
   ],
   "metadata": {}
  }
 ]
}