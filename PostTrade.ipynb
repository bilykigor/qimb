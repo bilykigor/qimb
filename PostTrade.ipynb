{
 "metadata": {
  "name": "",
  "signature": "sha256:5d43d5258c523c9b11ace8a56df13570211c0d83f2effb3778004a7d90938f97"
 },
 "nbformat": 3,
 "nbformat_minor": 0,
 "worksheets": [
  {
   "cells": [
    {
     "cell_type": "code",
     "collapsed": false,
     "input": [
      "import os\n",
      "import pandas as  pd\n",
      "from ggplot import *"
     ],
     "language": "python",
     "metadata": {},
     "outputs": [],
     "prompt_number": 459
    },
    {
     "cell_type": "code",
     "collapsed": false,
     "input": [
      "d='/home/user1/Desktop/Share2Windows/QimbReports/'\n",
      "reports = os.listdir(d)"
     ],
     "language": "python",
     "metadata": {},
     "outputs": [],
     "prompt_number": 460
    },
    {
     "cell_type": "code",
     "collapsed": false,
     "input": [
      "#import OO orders from reports\n",
      "df = pd.DataFrame(columns=['Date','Symbol','Side','Price','Time','Filled'])\n",
      "for f_name in reports:\n",
      "    day=f_name.split('_')[1]\n",
      "    file = open(d+f_name, 'r')\n",
      "    lineInd=0\n",
      "    dropped = False\n",
      "    activated = False\n",
      "    for line in file:      \n",
      "        if dropped:\n",
      "            continue\n",
      "        \n",
      "        words = line.split()\n",
      "        \n",
      "        if len(words)==1:\n",
      "            if words[0]=='!':\n",
      "                break\n",
      "                \n",
      "        if activated:\n",
      "            words = line.split(';')\n",
      "            if words[7]=='3':\n",
      "                df=df.append({'Date':datetime.datetime.strptime(day,'%Y-%m-%d'),'Symbol':words[0],\\\n",
      "                              'Side':words[1],'Price':float(words[2]),\\\n",
      "                              'Time':words[10],'Filled':float(words[4])!=0},ignore_index=True)\n",
      "            continue\n",
      "        \n",
      "        if lineInd==4:\n",
      "            if words[2]!='Qimb':\n",
      "                dropped = True\n",
      "                \n",
      "        if len(words)==1:\n",
      "            if words[0]=='Orders:':\n",
      "                activated = True           \n",
      "            \n",
      "        lineInd+=1\n",
      "    file.close()\n",
      "df = df.sort('Date')\n",
      "df.index = range(df.shape[0])\n",
      "df = df.ix[df.Filled.nonzero()[0][0]:,:]\n",
      "df.index = range(df.shape[0])\n",
      "for i in range(df.shape[0]):\n",
      "    df.Symbol[i] = df.Symbol[i].strip()"
     ],
     "language": "python",
     "metadata": {},
     "outputs": [],
     "prompt_number": 3
    },
    {
     "cell_type": "code",
     "collapsed": false,
     "input": [
      "dates = list(set(df.Date))\n",
      "dates.sort()"
     ],
     "language": "python",
     "metadata": {},
     "outputs": [],
     "prompt_number": 26
    },
    {
     "cell_type": "code",
     "collapsed": false,
     "input": [
      "#get Symbols where OO orders where sent\n",
      "i=0\n",
      "for d in dates:\n",
      "    s = d.strftime('%Y-%m-%d')+' StockList='\n",
      "    for symbol in set(df[df.Date==d].Symbol):\n",
      "        s +='%s,' %  symbol.strip()\n",
      "        i+=1\n",
      "    print s "
     ],
     "language": "python",
     "metadata": {},
     "outputs": []
    },
    {
     "cell_type": "code",
     "collapsed": false,
     "input": [
      "OOsent = pd.read_csv('/home/user1/Desktop/Share2Windows/OOfeatures.csv',header=None)\n",
      "OOsent['Filled'] = 0\n",
      "for d in dates:\n",
      "    dfSymbolsSet = set(df[(df.Date==d) & (df.Filled)].Symbol)\n",
      "    featuresSymbolsSet = set(OOsent[(OOsent[0]==d.strftime('%Y-%m-%d'))][1])\n",
      "    filledOOorders = set.intersection(*[dfSymbolsSet,featuresSymbolsSet])\n",
      "    \n",
      "    for symbol in filledOOorders:\n",
      "        OOsent.Filled[(OOsent[0]==d.strftime('%Y-%m-%d')) & (OOsent[1]==symbol)] = 1\n",
      "OOsent['Date']=OOsent[0]"
     ],
     "language": "python",
     "metadata": {},
     "outputs": [],
     "prompt_number": 156
    },
    {
     "cell_type": "code",
     "collapsed": false,
     "input": [
      "X = OOsent.ix[:,2:-3]\n",
      "y = OOsent.ix[:,-2]"
     ],
     "language": "python",
     "metadata": {},
     "outputs": [],
     "prompt_number": 379
    },
    {
     "cell_type": "code",
     "collapsed": false,
     "input": [
      "import pandas\n",
      "import numpy\n",
      "from sklearn.metrics import confusion_matrix\n",
      "from sklearn.cross_validation import train_test_split\n",
      "from sklearn.svm import SVC\n",
      "from sklearn.linear_model import LogisticRegression as LR\n",
      "from sklearn.ensemble import GradientBoostingClassifier as GBC\n",
      "from sklearn.ensemble import GradientBoostingRegressor as GBR\n",
      "from sklearn.ensemble import RandomForestClassifier as RF\n",
      "import numpy\n",
      "import math\n",
      "import qimbs"
     ],
     "language": "python",
     "metadata": {},
     "outputs": [],
     "prompt_number": 215
    },
    {
     "cell_type": "code",
     "collapsed": false,
     "input": [
      "#Train classifier\n",
      "def RunModel(clf_class,X,y,test_size,n_folds,dates,datesDF):\n",
      "\n",
      "    r = range(len(dates))\n",
      "\n",
      "    labels =  numpy.sort(list(set(y)))\n",
      "    test_cm = np.zeros((len(labels),len(labels)))\n",
      "    train_cm = np.zeros((len(labels),len(labels)))\n",
      "    \n",
      "    if type(clf_class)!=str: \n",
      "        CLF_BEST = clf_class()\n",
      "    TEST_F_Score = 0\n",
      "\n",
      "    for i in range(n_folds): \n",
      "        np.random.shuffle(r)\n",
      "        test_days = r[:test_size] \n",
      "        train_days = r[test_size:] \n",
      "\n",
      "        Xtrain = X.ix[datesDF.ix[train_days],:]\n",
      "        Xtest = X.ix[datesDF.ix[test_days],:]\n",
      "        ytrain = y.ix[datesDF.ix[train_days]]\n",
      "        ytest = y.ix[datesDF.ix[test_days]]        \n",
      "\n",
      "        Xtrain.index = range(Xtrain.shape[0])\n",
      "        Xtest.index = range(Xtest.shape[0])\n",
      "        ytrain.index = range(ytrain.shape[0])\n",
      "        ytest.index = range(ytest.shape[0])\n",
      "        \n",
      "        if (len((pd.isnull(Xtrain)).all(1).nonzero()[0])>0):\n",
      "            nonanind = (~pd.isnull(Xtrain)).all(1).nonzero()[0]\n",
      "            ytrain = ytrain[nonanind]\n",
      "            Xtrain = Xtrain.ix[nonanind,:]\n",
      "            Xtrain.index = range(Xtrain.shape[0])\n",
      "            ytrain.index = range(ytrain.shape[0])\n",
      "            \n",
      "        if (len((pd.isnull(Xtest)).all(1).nonzero()[0])>0):\n",
      "            nonanind = (~pd.isnull(Xtest)).all(1).nonzero()[0]\n",
      "            ytest = ytest[nonanind]\n",
      "            Xtest = Xtest.ix[nonanind,:]\n",
      "            Xtest.index = range(Xtest.shape[0])\n",
      "            ytest.index = range(ytest.shape[0]) \n",
      "\n",
      "        if (type(clf_class()) ==  type(LR())) :\n",
      "            clf = clf_class(class_weight='auto',C=0.1)\n",
      "        if (type(clf_class()) ==  type(SVC())):\n",
      "            clf = clf_class(class_weight='auto',probability=True)\n",
      "        if (type(clf_class()) ==  type(RF())):\n",
      "            clf = clf_class(n_jobs=4,min_samples_split = Xtrain.shape[0]*0.05, \\\n",
      "                                       criterion = 'entropy', n_estimators = 10)\n",
      "        if (type(clf_class()) ==  type(GBC())):\n",
      "            clf = clf_class(min_samples_split = Xtrain.shape[0]*0.05,init='zero')\n",
      "        if (type(clf_class()) ==  type(GBR())):\n",
      "            clf = clf_class(init='zero')\n",
      "\n",
      "        clf.fit(Xtrain,ytrain)\n",
      "\n",
      "\n",
      "        if (type(clf_class()) !=  type(GBR())):\n",
      "            probaTest = clf.predict_proba(Xtest).astype(float)\n",
      "            probaTrain = clf.predict_proba(Xtrain).astype(float)\n",
      "\n",
      "            ypred = clf.classes_[numpy.argmax(probaTest,axis=1)]\n",
      "            ypredTrain = clf.classes_[numpy.argmax(probaTrain,axis=1)]  \n",
      "\n",
      "            test_cm_tmp = confusion_matrix(ytest,ypred,labels).astype(float)\n",
      "            test_cm += test_cm_tmp/n_folds\n",
      "            train_cm += confusion_matrix(ytrain,ypredTrain,labels).astype(float)/n_folds\n",
      "\n",
      "        else:\n",
      "            probaTest = clf.predict(Xtest).astype(float)\n",
      "            probaTrain = clf.predict(Xtrain).astype(float)\n",
      "\n",
      "            ypred = probaTest>0.5\n",
      "            ypredTrain = probaTrain>0.5  \n",
      "\n",
      "            test_cm_tmp = confusion_matrix(ytest,ypred,labels).astype(float)\n",
      "            test_cm += test_cm_tmp/n_folds\n",
      "            train_cm += confusion_matrix(ytrain,ypredTrain,labels).astype(float)/n_folds     \n",
      "            \n",
      "        pr =  qimbs.Precision_Recall(test_cm_tmp, labels)\n",
      "        if (pr[2]>TEST_F_Score):\n",
      "            TEST_F_Score =  pr[2]\n",
      "            CLF_BEST = clf  \n",
      "    \n",
      "    #print TEST_ERRORS\n",
      "    print \"max F_Score \",TEST_F_Score\n",
      "\n",
      "    test_pr = qimbs.Precision_Recall(test_cm, labels)\n",
      "    train_pr = qimbs.Precision_Recall(train_cm, labels)\n",
      "\n",
      "    return test_cm,CLF_BEST"
     ],
     "language": "python",
     "metadata": {},
     "outputs": [],
     "prompt_number": 423
    },
    {
     "cell_type": "code",
     "collapsed": false,
     "input": [
      "cm,clf = RunModel(RF,X,y,int(0.15*len(dates)),20,dates,qimbs.dates_tmp_df(OOsent))\n",
      "#cm = RunModel(RF,X[fi['Feature'][:10]],y,0.1,10)\n",
      "pr = qimbs.Precision_Recall(cm, labels)\n",
      "fig1 = plt.figure(figsize=(15, 5))\n",
      "plt.clf()\n",
      "ax1 = fig1.add_subplot(1,3,1)\n",
      "\n",
      "qimbs.draw_confusion_matrix(cm,  numpy.sort(list(set(y))), fig1, ax1)\n",
      "print 'Precision - %s, Recall - %s, F_Score - %s' % (pr[0],pr[1],pr[2])\n",
      "\n",
      "clf.fit(X,y)\n",
      "proba = clf.predict_proba(X).astype(float)\n",
      "ypred = clf.classes_[numpy.argmax(proba,axis=1)]\n",
      "cm_new = confusion_matrix(y,ypred,labels).astype(float)"
     ],
     "language": "python",
     "metadata": {},
     "outputs": [
      {
       "output_type": "stream",
       "stream": "stdout",
       "text": [
        "max F_Score  0.69696969697\n",
        "Precision - 0.620640569395, Recall - 0.658610271903, F_Score - 0.639061927446\n"
       ]
      },
      {
       "metadata": {},
       "output_type": "display_data",
       "png": "[encoded data removed]",
       "text": [
        "<matplotlib.figure.Figure at 0x6a26490>"
       ]
      }
     ],
     "prompt_number": 455
    },
    {
     "cell_type": "code",
     "collapsed": false,
     "input": [
      "fig1 = plt.figure(figsize=(15, 5))\n",
      "plt.clf()\n",
      "ax1 = fig1.add_subplot(1,3,1)\n",
      "qimbs.draw_confusion_matrix(cm_new,  numpy.sort(list(set(y))), fig1, ax1)\n",
      "pr = qimbs.Precision_Recall(cm_new, labels)\n",
      "print 'Precision - %s, Recall - %s, F_Score - %s' % (pr[0],pr[1],pr[2])"
     ],
     "language": "python",
     "metadata": {},
     "outputs": [
      {
       "output_type": "stream",
       "stream": "stdout",
       "text": [
        "Precision - 0.818367346939, Recall - 0.883259911894, F_Score - 0.849576271186\n"
       ]
      },
      {
       "metadata": {},
       "output_type": "display_data",
       "png": "[encoded data removed]",
       "text": [
        "<matplotlib.figure.Figure at 0x5eb4510>"
       ]
      }
     ],
     "prompt_number": 456
    },
    {
     "cell_type": "code",
     "collapsed": false,
     "input": [
      "fi = pd.DataFrame()\n",
      "fi['Feature'] = list(X.columns)\n",
      "fi['Impotrance'] = clf.feature_importances_\n",
      "fi=fi.sort(columns=['Impotrance'],ascending=False)\n",
      "fi['Index'] = range(X.shape[1])\n",
      "fi.index = fi['Index']\n",
      "\n",
      "ggplot(fi,aes('Index','Impotrance',label='Feature')) +\\\n",
      "geom_point() + geom_text(vjust=0.005)"
     ],
     "language": "python",
     "metadata": {},
     "outputs": [
      {
       "metadata": {},
       "output_type": "display_data",
       "png": "[encoded data removed]",
       "text": [
        "<matplotlib.figure.Figure at 0x62954d0>"
       ]
      },
      {
       "metadata": {},
       "output_type": "pyout",
       "prompt_number": 235,
       "text": [
        "<ggplot: (6460769)>"
       ]
      }
     ],
     "prompt_number": 235
    },
    {
     "cell_type": "code",
     "collapsed": false,
     "input": [
      "#import stocks pnl\n",
      "df = pd.DataFrame(columns=['Symbol','Shares','Pnl'])\n",
      "for f_name in reports:\n",
      "    day=f_name.split('_')[1]\n",
      "    file = open(d+f_name, 'r')\n",
      "    lineInd=0\n",
      "    dropped = False\n",
      "    activated = False\n",
      "    for line in file:      \n",
      "        if dropped:\n",
      "            continue\n",
      "        \n",
      "        words = line.split()\n",
      "        \n",
      "        if len(words)==1:\n",
      "            if words[0]=='!':\n",
      "                break\n",
      "                \n",
      "        if len(words)==1:\n",
      "            if words[0]=='Orders:':\n",
      "                break    \n",
      "                \n",
      "        if activated:\n",
      "            \n",
      "            words = line.split(';')\n",
      "            \n",
      "            if len(words)==1:\n",
      "                break\n",
      "                \n",
      "            if len(words)==10:\n",
      "                df=df.append({'Symbol':words[0].strip(),'Shares':0.5*float(words[2]),'Pnl':float(words[5])},ignore_index=True)\n",
      "            continue\n",
      "        \n",
      "        if lineInd==4:\n",
      "            if words[2]!='Qimb':\n",
      "                dropped = True\n",
      "                \n",
      "        if len(words)==1:\n",
      "            if words[0]=='Positions:':\n",
      "                activated = True           \n",
      "            \n",
      "        lineInd+=1\n",
      "    file.close()\n",
      "    \n",
      "df = df.groupby(df.Symbol).sum()\n",
      "df['Pps'] = df.Pnl/df.Shares\n",
      "df=df.sort('Pps')\n",
      "df.Pps[abs(df.Pps)>0.2].plot()"
     ],
     "language": "python",
     "metadata": {},
     "outputs": [],
     "prompt_number": 472
    }
   ],
   "metadata": {}
  }
 ]
}