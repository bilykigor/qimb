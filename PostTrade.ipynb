{
 "metadata": {
  "name": "",
  "signature": "sha256:1a54ac627d26f8c2864855d0ccefe2fba62431b92c145e79e200424dea88d562"
 },
 "nbformat": 3,
 "nbformat_minor": 0,
 "worksheets": [
  {
   "cells": [
    {
     "cell_type": "code",
     "collapsed": false,
     "input": [
      "import os\n",
      "\n",
      "import numpy\n",
      "import pandas as  pd\n",
      "import math\n",
      "\n",
      "from ggplot import *\n",
      "\n",
      "import qimbs\n",
      "import mmll\n",
      "from EnsembleClassifier import EnsembleClassifier\n",
      "from EnsembleClassifier import LabeledEstimator\n",
      "\n",
      "from sklearn.svm import SVC\n",
      "from sklearn.linear_model import LogisticRegression as LR\n",
      "from sklearn.ensemble import GradientBoostingClassifier as GBC\n",
      "from sklearn.ensemble import GradientBoostingRegressor as GBR\n",
      "from sklearn.ensemble import RandomForestClassifier as RF\n",
      "from sklearn.metrics import confusion_matrix"
     ],
     "language": "python",
     "metadata": {},
     "outputs": [],
     "prompt_number": 10
    },
    {
     "cell_type": "code",
     "collapsed": false,
     "input": [
      "reload(mmll)"
     ],
     "language": "python",
     "metadata": {},
     "outputs": [
      {
       "metadata": {},
       "output_type": "pyout",
       "prompt_number": 2,
       "text": [
        "<module 'mmll' from 'mmll.pyc'>"
       ]
      }
     ],
     "prompt_number": 2
    },
    {
     "cell_type": "code",
     "collapsed": false,
     "input": [
      "d='/home/user1/Desktop/Share2Windows/QimbReports/'\n",
      "reports = os.listdir(d)"
     ],
     "language": "python",
     "metadata": {},
     "outputs": [],
     "prompt_number": 3
    },
    {
     "cell_type": "code",
     "collapsed": false,
     "input": [
      "#import OO orders from reports\n",
      "df = pd.DataFrame(columns=['Date','Symbol','Side','Price','Time','Filled'])\n",
      "for f_name in reports:\n",
      "    day=f_name.split('_')[1]\n",
      "    file = open(d+f_name, 'r')\n",
      "    lineInd=0\n",
      "    dropped = False\n",
      "    activated = False\n",
      "    for line in file:      \n",
      "        if dropped:\n",
      "            continue\n",
      "        \n",
      "        words = line.split()\n",
      "        \n",
      "        if len(words)==1:\n",
      "            if words[0]=='!':\n",
      "                break\n",
      "                \n",
      "        if activated:\n",
      "            words = line.split(';')\n",
      "            if words[7]=='3':\n",
      "                df=df.append({'Date':datetime.datetime.strptime(day,'%Y-%m-%d'),'Symbol':words[0],\\\n",
      "                              'Side':words[1],'Price':float(words[2]),\\\n",
      "                              'Time':words[10],'Filled':float(words[4])!=0},ignore_index=True)\n",
      "            continue\n",
      "        \n",
      "        if lineInd==4:\n",
      "            if words[2]!='Qimb':\n",
      "                dropped = True\n",
      "                \n",
      "        if len(words)==1:\n",
      "            if words[0]=='Orders:':\n",
      "                activated = True           \n",
      "            \n",
      "        lineInd+=1\n",
      "    file.close()\n",
      "df = df.sort('Date')\n",
      "df.index = range(df.shape[0])\n",
      "df = df.ix[df.Filled.nonzero()[0][0]:,:]\n",
      "df.index = range(df.shape[0])\n",
      "for i in range(df.shape[0]):\n",
      "    df.Symbol[i] = df.Symbol[i].strip()"
     ],
     "language": "python",
     "metadata": {},
     "outputs": [],
     "prompt_number": 4
    },
    {
     "cell_type": "code",
     "collapsed": false,
     "input": [
      "dates = list(set(df.Date))\n",
      "dates.sort()"
     ],
     "language": "python",
     "metadata": {},
     "outputs": [],
     "prompt_number": 5
    },
    {
     "cell_type": "code",
     "collapsed": false,
     "input": [
      "#get Symbols where OO orders where sent\n",
      "i=0\n",
      "for d in dates:\n",
      "    s = d.strftime('%Y-%m-%d')+' StockList='\n",
      "    for symbol in set(df[df.Date==d].Symbol):\n",
      "        s +='%s,' %  symbol.strip()\n",
      "        i+=1\n",
      "    print s "
     ],
     "language": "python",
     "metadata": {},
     "outputs": []
    },
    {
     "cell_type": "code",
     "collapsed": false,
     "input": [
      "OOsent = pd.read_csv('/home/user1/Desktop/Share2Windows/OOfeatures.csv',header=None)\n",
      "OOsent['Filled'] = 0\n",
      "for d in dates:\n",
      "    dfSymbolsSet = set(df[(df.Date==d) & (df.Filled)].Symbol)\n",
      "    featuresSymbolsSet = set(OOsent[(OOsent[0]==d.strftime('%Y-%m-%d'))][1])\n",
      "    filledOOorders = set.intersection(*[dfSymbolsSet,featuresSymbolsSet])\n",
      "    \n",
      "    for symbol in filledOOorders:\n",
      "        OOsent.Filled[(OOsent[0]==d.strftime('%Y-%m-%d')) & (OOsent[1]==symbol)] = 1\n",
      "OOsent['Date']=OOsent[0]"
     ],
     "language": "python",
     "metadata": {},
     "outputs": [],
     "prompt_number": 6
    },
    {
     "cell_type": "code",
     "collapsed": false,
     "input": [
      "X = OOsent.ix[:,2:-3]\n",
      "y = OOsent.ix[:,-2]\n",
      "float(sum(y))/len(y)"
     ],
     "language": "python",
     "metadata": {},
     "outputs": [
      {
       "metadata": {},
       "output_type": "pyout",
       "prompt_number": 7,
       "text": [
        "0.5696361355081556"
       ]
      }
     ],
     "prompt_number": 7
    },
    {
     "cell_type": "code",
     "collapsed": false,
     "input": [
      "reload(qimbs)\n",
      "reload(mmll)"
     ],
     "language": "python",
     "metadata": {},
     "outputs": [
      {
       "metadata": {},
       "output_type": "pyout",
       "prompt_number": 38,
       "text": [
        "<module 'mmll' from 'mmll.pyc'>"
       ]
      }
     ],
     "prompt_number": 38
    },
    {
     "cell_type": "code",
     "collapsed": false,
     "input": [
      "reload(EnsembleClassifier)"
     ],
     "language": "python",
     "metadata": {},
     "outputs": [
      {
       "metadata": {},
       "output_type": "pyout",
       "prompt_number": 99,
       "text": [
        "<module 'EnsembleClassifier' from 'EnsembleClassifier.py'>"
       ]
      }
     ],
     "prompt_number": 99
    },
    {
     "cell_type": "code",
     "collapsed": false,
     "input": [
      "lclf=EnsembleClassifier.LabeledEstimator(RF)\n",
      "labels = np.ones(len(y))\n",
      "labels[:300]=0\n",
      "lclf.fit(X,y,labels = labels)\n",
      "for value in lclf.clfs.itervalues():\n",
      "    print value"
     ],
     "language": "python",
     "metadata": {},
     "outputs": [
      {
       "output_type": "stream",
       "stream": "stdout",
       "text": [
        "RandomForestClassifier(bootstrap=True, compute_importances=None,\n",
        "            criterion='gini', max_depth=None, max_features='auto',\n",
        "            max_leaf_nodes=None, min_density=None, min_samples_leaf=1,\n",
        "            min_samples_split=2, n_estimators=10, n_jobs=1,\n",
        "            oob_score=False, random_state=None, verbose=0)\n",
        "RandomForestClassifier(bootstrap=True, compute_importances=None,\n",
        "            criterion='gini', max_depth=None, max_features='auto',\n",
        "            max_leaf_nodes=None, min_density=None, min_samples_leaf=1,\n",
        "            min_samples_split=2, n_estimators=10, n_jobs=1,\n",
        "            oob_score=False, random_state=None, verbose=0)\n"
       ]
      }
     ],
     "prompt_number": 100
    },
    {
     "cell_type": "code",
     "collapsed": false,
     "input": [
      "lclf.predict_proba(X)"
     ],
     "language": "python",
     "metadata": {},
     "outputs": [
      {
       "metadata": {},
       "output_type": "pyout",
       "prompt_number": 101,
       "text": [
        "array([[ 0.2 ,  0.8 ],\n",
        "       [ 0.15,  0.85],\n",
        "       [ 0.45,  0.55],\n",
        "       ..., \n",
        "       [ 0.6 ,  0.4 ],\n",
        "       [ 0.45,  0.55],\n",
        "       [ 0.7 ,  0.3 ]])"
       ]
      }
     ],
     "prompt_number": 101
    },
    {
     "cell_type": "code",
     "collapsed": false,
     "input": [
      "eclf = EnsembleClassifier(\n",
      "clfs=[\n",
      "RF( min_samples_split = len(y)*0.03,criterion='entropy',n_jobs=4)\n",
      "#GBC(min_samples_split = len(y)*0.03,init='zero'),\n",
      "#LR(class_weight='auto',C=0.1)\n",
      "])"
     ],
     "language": "python",
     "metadata": {},
     "outputs": [],
     "prompt_number": 35
    },
    {
     "cell_type": "code",
     "collapsed": false,
     "input": [
      "cm,clf = mmll.clf_cross_validation(eclf,X,y,test_size=20,n_folds=10,labels = OOsent.Date)\n",
      "\n",
      "labels = numpy.sort(list(set(y)))\n",
      "\n",
      "fig1 = plt.figure(figsize=(15, 5))\n",
      "ax1 = fig1.add_subplot(1,3,1)\n",
      "mmll.draw_confusion_matrix(cm, labels , fig1, ax1)\n",
      "\n",
      "#clf.fit(X,y)\n",
      "#proba = clf.predict_proba(X).astype(float)\n",
      "#ypred = clf.classes_[numpy.argmax(proba,axis=1)]\n",
      "#cm_new = confusion_matrix(y,ypred,labels).astype(float)"
     ],
     "language": "python",
     "metadata": {},
     "outputs": [
      {
       "output_type": "stream",
       "stream": "stdout",
       "text": [
        "Precision - 0.62, Recall - 0.66, F_Score - 0.64, max F_Score - 0.66\n"
       ]
      },
      {
       "metadata": {},
       "output_type": "display_data",
       "png": "[encoded data removed]",
       "text": [
        "<matplotlib.figure.Figure at 0x5d92c10>"
       ]
      }
     ],
     "prompt_number": 36
    },
    {
     "cell_type": "code",
     "collapsed": false,
     "input": [
      "cm"
     ],
     "language": "python",
     "metadata": {},
     "outputs": [
      {
       "metadata": {},
       "output_type": "pyout",
       "prompt_number": 37,
       "text": [
        "array([[  58.8,   77.2],\n",
        "       [  64.1,  123.5]])"
       ]
      }
     ],
     "prompt_number": 37
    },
    {
     "cell_type": "code",
     "collapsed": false,
     "input": [
      "fi = pd.DataFrame()\n",
      "fi['Feature'] = list(X.columns)\n",
      "fi['Impotrance'] = clf.clfs[0].feature_importances_\n",
      "fi=fi.sort(columns=['Impotrance'],ascending=False)\n",
      "fi['Index'] = range(X.shape[1])\n",
      "fi.index = fi['Index']\n",
      "\n",
      "ggplot(fi,aes('Index','Impotrance',label='Feature')) +\\\n",
      "geom_point() + geom_text(vjust=0.005)"
     ],
     "language": "python",
     "metadata": {},
     "outputs": [
      {
       "metadata": {},
       "output_type": "display_data",
       "png": "[encoded data removed]",
       "text": [
        "<matplotlib.figure.Figure at 0x5da2a90>"
       ]
      },
      {
       "metadata": {},
       "output_type": "pyout",
       "prompt_number": 41,
       "text": [
        "<ggplot: (5975157)>"
       ]
      }
     ],
     "prompt_number": 41
    },
    {
     "cell_type": "code",
     "collapsed": false,
     "input": [
      "#import stocks pnl\n",
      "df = pd.DataFrame(columns=['Symbol','Shares','Pnl'])\n",
      "for f_name in reports:\n",
      "    day=f_name.split('_')[1]\n",
      "    file = open(d+f_name, 'r')\n",
      "    lineInd=0\n",
      "    dropped = False\n",
      "    activated = False\n",
      "    for line in file:      \n",
      "        if dropped:\n",
      "            continue\n",
      "        \n",
      "        words = line.split()\n",
      "        \n",
      "        if len(words)==1:\n",
      "            if words[0]=='!':\n",
      "                break\n",
      "                \n",
      "        if len(words)==1:\n",
      "            if words[0]=='Orders:':\n",
      "                break    \n",
      "                \n",
      "        if activated:\n",
      "            \n",
      "            words = line.split(';')\n",
      "            \n",
      "            if len(words)==1:\n",
      "                break\n",
      "                \n",
      "            if len(words)==10:\n",
      "                df=df.append({'Symbol':words[0].strip(),'Shares':0.5*float(words[2]),'Pnl':float(words[5])},ignore_index=True)\n",
      "            continue\n",
      "        \n",
      "        if lineInd==4:\n",
      "            if words[2]!='Qimb':\n",
      "                dropped = True\n",
      "                \n",
      "        if len(words)==1:\n",
      "            if words[0]=='Positions:':\n",
      "                activated = True           \n",
      "            \n",
      "        lineInd+=1\n",
      "    file.close()\n",
      "    \n",
      "df = df.groupby(df.Symbol).sum()\n",
      "df['Pps'] = df.Pnl/df.Shares\n",
      "df=df.sort('Pps')\n",
      "df.Pps[abs(df.Pps)>0.2].plot()"
     ],
     "language": "python",
     "metadata": {},
     "outputs": [],
     "prompt_number": 472
    }
   ],
   "metadata": {}
  }
 ]
}