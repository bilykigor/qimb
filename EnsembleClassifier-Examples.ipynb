{
 "metadata": {
  "name": "",
  "signature": "sha256:cef50d7414b40f4480eee54616feb9c56108a4dacbbbd92a6d8d3a569bab071f"
 },
 "nbformat": 3,
 "nbformat_minor": 0,
 "worksheets": [
  {
   "cells": [
    {
     "cell_type": "code",
     "collapsed": false,
     "input": [
      "from ggplot import *\n",
      "from sklearn import cross_validation\n",
      "from sklearn.linear_model import LogisticRegression\n",
      "from sklearn.naive_bayes import GaussianNB \n",
      "from sklearn.ensemble import RandomForestClassifier\n",
      "from sklearn.base import BaseEstimator\n",
      "from sklearn.base import ClassifierMixin\n",
      "import numpy as np\n",
      "import operator\n",
      "import numpy as np\n",
      "import pandas as pd\n",
      "from sklearn.pipeline import Pipeline \n",
      "from sklearn.lda import LDA"
     ],
     "language": "python",
     "metadata": {},
     "outputs": [],
     "prompt_number": 1
    },
    {
     "cell_type": "code",
     "collapsed": false,
     "input": [
      "#Examples\n",
      "from sklearn import datasets\n",
      "\n",
      "iris = datasets.load_iris()\n",
      "X, y = iris.data[:, 1:3], iris.target"
     ],
     "language": "python",
     "metadata": {},
     "outputs": [],
     "prompt_number": 2
    },
    {
     "cell_type": "code",
     "collapsed": false,
     "input": [
      "#Single estimators\n",
      "np.random.seed(123)\n",
      "clf1 = LogisticRegression()\n",
      "clf2 = RandomForestClassifier()\n",
      "clf3 = GaussianNB()\n",
      "numFolds = 20\n",
      "\n",
      "print(str(numFolds)+'-fold cross validation:\\n')\n",
      "\n",
      "for clf, label in zip([clf1, clf2, clf3], ['Logistic Regression', 'Random Forest', 'naive Bayes']):\n",
      "    scores = cross_validation.cross_val_score(clf, X, y, cv=numFolds, scoring='accuracy')\n",
      "    print(\"Accuracy: %0.2f (+/- %0.2f) [%s]\" % (scores.mean(), scores.std(), label))"
     ],
     "language": "python",
     "metadata": {},
     "outputs": [
      {
       "output_type": "stream",
       "stream": "stdout",
       "text": [
        "20-fold cross validation:\n",
        "\n",
        "Accuracy: 0.93 (+/- 0.07) [Logistic Regression]\n",
        "Accuracy: 0.93 (+/- 0.10) [Random Forest]"
       ]
      },
      {
       "output_type": "stream",
       "stream": "stdout",
       "text": [
        "\n",
        "Accuracy: 0.92 (+/- 0.09) [naive Bayes]\n"
       ]
      }
     ],
     "prompt_number": 3
    },
    {
     "cell_type": "code",
     "collapsed": false,
     "input": [
      "#Single estimators vs EnsembleClassifier\n",
      "from EnsembleClassifier import EnsembleClassifier\n",
      "np.random.seed(123)\n",
      "eclf = EnsembleClassifier(clfs=[clf1, clf2, clf3])\n",
      "\n",
      "for clf, label in zip([clf1, clf2, clf3, eclf], ['Logistic Regression', 'Random Forest', 'naive Bayes', 'Ensemble']):\n",
      "    scores = cross_validation.cross_val_score(clf, X, y, cv=numFolds, scoring='accuracy')\n",
      "    print(\"Accuracy: %0.2f (+/- %0.2f) [%s]\" % (scores.mean(), scores.std(), label))"
     ],
     "language": "python",
     "metadata": {},
     "outputs": [
      {
       "output_type": "stream",
       "stream": "stdout",
       "text": [
        "Accuracy: 0.93 (+/- 0.07) [Logistic Regression]\n",
        "Accuracy: 0.93 (+/- 0.10) [Random Forest]"
       ]
      },
      {
       "output_type": "stream",
       "stream": "stdout",
       "text": [
        "\n",
        "Accuracy: 0.92 (+/- 0.09) [naive Bayes]\n",
        "Accuracy: 0.94 (+/- 0.09) [Ensemble]"
       ]
      },
      {
       "output_type": "stream",
       "stream": "stdout",
       "text": [
        "\n"
       ]
      }
     ],
     "prompt_number": 4
    },
    {
     "cell_type": "code",
     "collapsed": false,
     "input": [
      "#EnsembleClassifier with weights\n",
      "np.random.seed(123)\n",
      "\n",
      "df = pd.DataFrame(columns=('w1', 'w2', 'w3', 'mean', 'std'))\n",
      "\n",
      "i = 0\n",
      "for w1 in range(1,4):\n",
      "    for w2 in range(1,4):\n",
      "        for w3 in range(1,4):\n",
      "            \n",
      "            if len(set((w1,w2,w3))) == 1: # skip if all weights are equal\n",
      "                continue\n",
      "            \n",
      "            eclf = EnsembleClassifier(clfs=[clf1, clf2, clf3], weights=[w1,w2,w3])\n",
      "            scores = cross_validation.cross_val_score(\n",
      "                                            estimator=eclf,\n",
      "                                            X=X, \n",
      "                                            y=y, \n",
      "                                            cv=5, \n",
      "                                            scoring='accuracy',\n",
      "                                            n_jobs=1)\n",
      "            \n",
      "            df.loc[i] = [w1, w2, w3, scores.mean(), scores.std()]\n",
      "            i += 1\n",
      "            \n",
      "df=df.sort(columns=['mean', 'std'], ascending=False)\n",
      "df['label'] = df.index\n",
      "\n",
      "ggplot(df, aes(x='mean',y='std', label='label')) + geom_point()# + geom_text(df, aes(x='mean',y='std', label='label'))"
     ],
     "language": "python",
     "metadata": {},
     "outputs": [
      {
       "metadata": {},
       "output_type": "display_data",
       "png": "[encoded data removed]",
       "text": [
        "<matplotlib.figure.Figure at 0x6e46650>"
       ]
      },
      {
       "metadata": {},
       "output_type": "pyout",
       "prompt_number": 5,
       "text": [
        "<ggplot: (7226953)>"
       ]
      }
     ],
     "prompt_number": 5
    },
    {
     "cell_type": "code",
     "collapsed": false,
     "input": [
      "#EnsembleClassifier in Pipeline\n",
      "from EnsembleClassifier import ColumnSelector\n",
      "pipe1 = Pipeline([\n",
      "               ('sel', ColumnSelector([1])),    # use only the 1st feature\n",
      "               ('clf', GaussianNB())])\n",
      "\n",
      "pipe2 = Pipeline([\n",
      "               ('sel', ColumnSelector([0, 1])), # use the 1st and 2nd feature\n",
      "               ('dim', LDA(n_components=1)),    # Dimensionality reduction via LDA\n",
      "               ('clf', LogisticRegression())])\n",
      "\n",
      "eclf = EnsembleClassifier([pipe1, pipe2])\n",
      "scores = cross_validation.cross_val_score(eclf, X, y, cv=5, scoring='accuracy')\n",
      "print(\"Accuracy: %0.2f (+/- %0.2f) [%s]\" % (scores.mean(), scores.std(), label))"
     ],
     "language": "python",
     "metadata": {},
     "outputs": [
      {
       "output_type": "stream",
       "stream": "stdout",
       "text": [
        "Accuracy: 0.95 (+/- 0.03) [Ensemble]\n"
       ]
      }
     ],
     "prompt_number": 6
    },
    {
     "cell_type": "code",
     "collapsed": false,
     "input": [],
     "language": "python",
     "metadata": {},
     "outputs": []
    }
   ],
   "metadata": {}
  }
 ]
}