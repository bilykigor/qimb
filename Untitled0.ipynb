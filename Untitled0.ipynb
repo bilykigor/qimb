{
 "metadata": {
  "name": "",
  "signature": "sha256:f7ac94d7975142403d3cb552bf8b58b531ec7bfbbd372865c90f242f348c8cba"
 },
 "nbformat": 3,
 "nbformat_minor": 0,
 "worksheets": []
}