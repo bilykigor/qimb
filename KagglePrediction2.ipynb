{
 "metadata": {
  "name": "",
  "signature": "sha256:e745defb3a50863a25cf2a64538fe69e9d1e08c3f5e86e467ab6fc894757684c"
 },
 "nbformat": 3,
 "nbformat_minor": 0,
 "worksheets": [
  {
   "cells": [
    {
     "cell_type": "code",
     "collapsed": false,
     "input": [
      "import qimbs \n",
      "import numpy as np\n",
      "import pandas as pd\n",
      "from ggplot import *\n",
      "from sklearn.preprocessing import PolynomialFeatures\n",
      "import os\n",
      "from scipy.cluster import *\n",
      "from scipy.spatial.distance import cdist"
     ],
     "language": "python",
     "metadata": {},
     "outputs": [],
     "prompt_number": 1
    },
    {
     "cell_type": "code",
     "collapsed": false,
     "input": [
      "driversFiles = map(int,os.listdir('../Kaggle/drivers/'))\n",
      "driversFiles.sort(reverse=False)\n",
      "speedDir = '../Kaggle/features/speed'\n",
      "caccDir = '../Kaggle/features/cacc'"
     ],
     "language": "python",
     "metadata": {},
     "outputs": [],
     "prompt_number": 2
    },
    {
     "cell_type": "code",
     "collapsed": false,
     "input": [
      "allData = pd.read_csv(speedDir+'/' + str(driversFiles[0]) + '.csv')\n",
      "for driver in driversFiles[1:]:\n",
      "    df = pd.read_csv(speedDir+'/' + str(driver) + '.csv')\n",
      "    allData = allData.append(df)\n",
      "    #print driver\n",
      "allData.index = range(allData.shape[0])\n",
      "\n",
      "data = allData.apply(norm,axis=1)\n",
      "\n",
      "X = data.ix[:,3:]\n",
      "y = data.ix[:,1]"
     ],
     "language": "python",
     "metadata": {},
     "outputs": [],
     "prompt_number": 11
    },
    {
     "cell_type": "code",
     "collapsed": false,
     "input": [
      "from sklearn.ensemble import RandomForestClassifier as RF\n",
      "clf = RF(criterion = 'entropy')\n",
      "clf.fit(X,y)"
     ],
     "language": "python",
     "metadata": {},
     "outputs": []
    },
    {
     "cell_type": "code",
     "collapsed": false,
     "input": [
      "#One guy code\n",
      "\n",
      "speedDistribution <- function(trip)\n",
      "{\n",
      "    window = 20\n",
      "  vitesse = 3.6*sqrt(diff(trip$x,window,1)^2 + diff(trip$y,window,1)^2)/window\n",
      "  return(quantile(vitesse, seq(0.05,1, by = 0.05)))\n",
      "}\n",
      "\n",
      "drivers = list.files(\"kaggle/Axa/drivers\")\n",
      "randomDrivers = sample(drivers, size = 5)\n",
      "\n",
      "refData = NULL\n",
      "target = 0\n",
      "names(target) = \"target\"\n",
      "for(driver in randomDrivers)\n",
      "{\n",
      "  dirPath = paste0(\"kaggle/Axa/drivers/\", driver, '/')\n",
      "  for(i in 1:200)\n",
      "  {\n",
      "    trip = read.csv(paste0(dirPath, i, \".csv\"))\n",
      "    features = c(speedDistribution(trip), target)\n",
      "    refData = rbind(refData, features)\n",
      "  }\n",
      "}\n",
      "\n",
      "target = 1\n",
      "names(target) = \"target\"\n",
      "submission = NULL\n",
      "for(driver in drivers)\n",
      "{\n",
      "  print(driver)\n",
      "  dirPath = paste0(\"kaggle/Axa/drivers/\", driver, '/')\n",
      "  currentData = NULL\n",
      "  for(i in 1:200)\n",
      "  {\n",
      "    trip = read.csv(paste0(dirPath, i, \".csv\"))\n",
      "    features = c(speedDistribution(trip), target)\n",
      "    currentData = rbind(currentData, features)\n",
      "  }\n",
      "  train = rbind(currentData, refData)\n",
      "  train = as.data.frame(train)\n",
      "  g = glm(target ~ ., data=train, family = binomial(\"logit\"))\n",
      "  currentData = as.data.frame(currentData)\n",
      "  p =predict(g, currentData, type = \"response\")\n",
      "  labels = sapply(1:200, function(x) paste0(driver,'_', x))\n",
      "  result = cbind(labels, p)\n",
      "  submission = rbind(submission, result)\n",
      "}\n",
      "\n",
      "colnames(submission) = c(\"driver_trip\",\"prob\")\n",
      "write.csv(submission, \"kaggle/Axa/submission.csv\", row.names=F, quote=F)\n"
     ],
     "language": "python",
     "metadata": {},
     "outputs": []
    }
   ],
   "metadata": {}
  }
 ]
}