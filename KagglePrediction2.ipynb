{
 "metadata": {
  "name": "",
  "signature": "sha256:ae867263c65886b8f6313ad5b16156ead547c34ace316b9831d6dbdbd8858a1c"
 },
 "nbformat": 3,
 "nbformat_minor": 0,
 "worksheets": [
  {
   "cells": [
    {
     "cell_type": "code",
     "collapsed": false,
     "input": [
      "import qimbs \n",
      "import numpy as np\n",
      "import pandas as pd\n",
      "from ggplot import *\n",
      "from sklearn.preprocessing import PolynomialFeatures\n",
      "import os\n",
      "from scipy.cluster import *\n",
      "from scipy.spatial.distance import cdist"
     ],
     "language": "python",
     "metadata": {},
     "outputs": [],
     "prompt_number": 1
    },
    {
     "cell_type": "code",
     "collapsed": false,
     "input": [
      "driversFiles = map(int,os.listdir('../Kaggle/drivers/'))\n",
      "driversFiles.sort(reverse=False)\n",
      "speedDir = '../Kaggle/features/speed'\n",
      "caccDir = '../Kaggle/features/cacc'"
     ],
     "language": "python",
     "metadata": {},
     "outputs": [],
     "prompt_number": 2
    },
    {
     "cell_type": "code",
     "collapsed": false,
     "input": [
      "allData = pd.read_csv(speedDir+'/' + str(driversFiles[0]) + '.csv')\n",
      "for driver in driversFiles[1:]:\n",
      "    df = pd.read_csv(speedDir+'/' + str(driver) + '.csv')\n",
      "    allData = allData.append(df)\n",
      "    #print driver\n",
      "allData.index = range(allData.shape[0])\n",
      "\n",
      "data = allData.apply(norm,axis=1)\n",
      "\n",
      "X = data.ix[:,3:]\n",
      "y = data.ix[:,1]"
     ],
     "language": "python",
     "metadata": {},
     "outputs": [],
     "prompt_number": 11
    },
    {
     "cell_type": "code",
     "collapsed": false,
     "input": [
      "from sklearn.ensemble import RandomForestClassifier as RF\n",
      "clf = RF(criterion = 'entropy')\n",
      "clf.fit(X,y)"
     ],
     "language": "python",
     "metadata": {},
     "outputs": []
    }
   ],
   "metadata": {}
  }
 ]
}