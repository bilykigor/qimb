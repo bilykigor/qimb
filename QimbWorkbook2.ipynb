{
 "metadata": {
  "name": "",
  "signature": "sha256:331c0e2f3d4b40b800668b3c8b6fe51986b4cf664a0b19474085d9094f09f890"
 },
 "nbformat": 3,
 "nbformat_minor": 0,
 "worksheets": [
  {
   "cells": [
    {
     "cell_type": "code",
     "collapsed": false,
     "input": [
      "import qimbs \n",
      "import mmll\n",
      "import EnsembleClassifier as ec\n",
      "import mio\n",
      "\n",
      "import numpy as np\n",
      "import pandas as pd\n",
      "from ggplot import *\n",
      "\n",
      "from sklearn.svm import SVC\n",
      "from sklearn.linear_model import LogisticRegression as LR\n",
      "from sklearn.ensemble import GradientBoostingClassifier as GBC\n",
      "from sklearn.ensemble import GradientBoostingRegressor as GBR\n",
      "from sklearn.ensemble import RandomForestClassifier as RF\n",
      "\n",
      "from sklearn.base import clone"
     ],
     "language": "python",
     "metadata": {},
     "outputs": [],
     "prompt_number": 467
    },
    {
     "cell_type": "code",
     "collapsed": false,
     "input": [
      "reload(qimbs)\n",
      "reload(mmll)"
     ],
     "language": "python",
     "metadata": {},
     "outputs": [
      {
       "metadata": {},
       "output_type": "pyout",
       "prompt_number": 3,
       "text": [
        "<module 'mmll' from 'mmll.pyc'>"
       ]
      }
     ],
     "prompt_number": 3
    },
    {
     "cell_type": "code",
     "collapsed": false,
     "input": [
      "#Procees c++ created features\n",
      "f = '/home/user1/PyProjects/imbalanceMsg.csv' \n",
      "                   \n",
      "imbalanceMsg = pd.read_csv(f, low_memory=False)\n",
      "\n",
      "#imbalanceMsg = imbalanceMsg[imbalanceMsg.ImbInd!=0]\n",
      "#imbalanceMsg.index = range(imbalanceMsg.shape[0])\n",
      "\n",
      "print imbalanceMsg.shape\n",
      "\n",
      "imbalanceMsg.head()"
     ],
     "language": "python",
     "metadata": {},
     "outputs": [
      {
       "output_type": "stream",
       "stream": "stdout",
       "text": [
        "(30397, 15)\n"
       ]
      },
      {
       "html": [
        "<div style=\"max-height:1000px;max-width:1500px;overflow:auto;\">\n",
        "<table border=\"1\" class=\"dataframe\">\n",
        "  <thead>\n",
        "    <tr style=\"text-align: right;\">\n",
        "      <th></th>\n",
        "      <th>Date</th>\n",
        "      <th>Symbol</th>\n",
        "      <th>ImbInd</th>\n",
        "      <th>PrevCLC_P</th>\n",
        "      <th>OPC_P</th>\n",
        "      <th>Ask_P</th>\n",
        "      <th>Bid_P</th>\n",
        "      <th>Ask_S</th>\n",
        "      <th>Bid_S</th>\n",
        "      <th>ImbRef</th>\n",
        "      <th>ImbCBC</th>\n",
        "      <th>ImbFar</th>\n",
        "      <th>ImbShares</th>\n",
        "      <th>ImbPaired</th>\n",
        "      <th>Unnamed: 14</th>\n",
        "    </tr>\n",
        "  </thead>\n",
        "  <tbody>\n",
        "    <tr>\n",
        "      <th>0</th>\n",
        "      <td> 2014-02-13</td>\n",
        "      <td>  AAL</td>\n",
        "      <td> 1</td>\n",
        "      <td>  34.69</td>\n",
        "      <td>  34.07</td>\n",
        "      <td>  34.43</td>\n",
        "      <td>  34.19</td>\n",
        "      <td> 1000</td>\n",
        "      <td> 2983</td>\n",
        "      <td>  34.20</td>\n",
        "      <td>  34.16</td>\n",
        "      <td>  34.16</td>\n",
        "      <td>-16314</td>\n",
        "      <td> 48478</td>\n",
        "      <td>NaN</td>\n",
        "    </tr>\n",
        "    <tr>\n",
        "      <th>1</th>\n",
        "      <td> 2014-02-13</td>\n",
        "      <td> AAPL</td>\n",
        "      <td> 0</td>\n",
        "      <td> 535.92</td>\n",
        "      <td> 534.66</td>\n",
        "      <td> 533.70</td>\n",
        "      <td> 533.60</td>\n",
        "      <td>  507</td>\n",
        "      <td> 2000</td>\n",
        "      <td> 534.00</td>\n",
        "      <td> 534.96</td>\n",
        "      <td> 535.00</td>\n",
        "      <td> 17808</td>\n",
        "      <td> 55326</td>\n",
        "      <td>NaN</td>\n",
        "    </tr>\n",
        "    <tr>\n",
        "      <th>2</th>\n",
        "      <td> 2014-02-13</td>\n",
        "      <td> ACHN</td>\n",
        "      <td> 1</td>\n",
        "      <td>   3.66</td>\n",
        "      <td>   3.70</td>\n",
        "      <td>   3.66</td>\n",
        "      <td>   3.61</td>\n",
        "      <td>  200</td>\n",
        "      <td>  550</td>\n",
        "      <td>   3.66</td>\n",
        "      <td>   3.70</td>\n",
        "      <td>   3.70</td>\n",
        "      <td> 44371</td>\n",
        "      <td> 15525</td>\n",
        "      <td>NaN</td>\n",
        "    </tr>\n",
        "    <tr>\n",
        "      <th>3</th>\n",
        "      <td> 2014-02-13</td>\n",
        "      <td> ACOR</td>\n",
        "      <td> 0</td>\n",
        "      <td>  30.96</td>\n",
        "      <td>  30.96</td>\n",
        "      <td>  31.98</td>\n",
        "      <td>  31.17</td>\n",
        "      <td>  500</td>\n",
        "      <td>  100</td>\n",
        "      <td>  31.41</td>\n",
        "      <td>  30.99</td>\n",
        "      <td>  30.99</td>\n",
        "      <td> -3829</td>\n",
        "      <td>  3888</td>\n",
        "      <td>NaN</td>\n",
        "    </tr>\n",
        "    <tr>\n",
        "      <th>4</th>\n",
        "      <td> 2014-02-13</td>\n",
        "      <td> ACXM</td>\n",
        "      <td> 0</td>\n",
        "      <td>  36.40</td>\n",
        "      <td>  35.89</td>\n",
        "      <td>  39.63</td>\n",
        "      <td>  35.67</td>\n",
        "      <td>  100</td>\n",
        "      <td>  100</td>\n",
        "      <td>  35.98</td>\n",
        "      <td>  35.92</td>\n",
        "      <td>  35.92</td>\n",
        "      <td> -2371</td>\n",
        "      <td>  6435</td>\n",
        "      <td>NaN</td>\n",
        "    </tr>\n",
        "  </tbody>\n",
        "</table>\n",
        "</div>"
       ],
       "metadata": {},
       "output_type": "pyout",
       "prompt_number": 4,
       "text": [
        "         Date Symbol  ImbInd  PrevCLC_P   OPC_P   Ask_P   Bid_P  Ask_S  Bid_S  \\\n",
        "0  2014-02-13    AAL       1      34.69   34.07   34.43   34.19   1000   2983   \n",
        "1  2014-02-13   AAPL       0     535.92  534.66  533.70  533.60    507   2000   \n",
        "2  2014-02-13   ACHN       1       3.66    3.70    3.66    3.61    200    550   \n",
        "3  2014-02-13   ACOR       0      30.96   30.96   31.98   31.17    500    100   \n",
        "4  2014-02-13   ACXM       0      36.40   35.89   39.63   35.67    100    100   \n",
        "\n",
        "   ImbRef  ImbCBC  ImbFar  ImbShares  ImbPaired  Unnamed: 14  \n",
        "0   34.20   34.16   34.16     -16314      48478          NaN  \n",
        "1  534.00  534.96  535.00      17808      55326          NaN  \n",
        "2    3.66    3.70    3.70      44371      15525          NaN  \n",
        "3   31.41   30.99   30.99      -3829       3888          NaN  \n",
        "4   35.98   35.92   35.92      -2371       6435          NaN  "
       ]
      }
     ],
     "prompt_number": 4
    },
    {
     "cell_type": "code",
     "collapsed": false,
     "input": [
      "sum(map(int,imbalanceMsg.ImbInd==0))"
     ],
     "language": "python",
     "metadata": {},
     "outputs": [
      {
       "metadata": {},
       "output_type": "pyout",
       "prompt_number": 5,
       "text": [
        "18569"
       ]
      }
     ],
     "prompt_number": 5
    },
    {
     "cell_type": "code",
     "collapsed": false,
     "input": [
      "#Creating features\n",
      "reload(qimbs)\n",
      "fdf = qimbs.create_features33(imbalanceMsg)\n",
      "fdf.head()"
     ],
     "language": "python",
     "metadata": {},
     "outputs": [
      {
       "html": [
        "<div style=\"max-height:1000px;max-width:1500px;overflow:auto;\">\n",
        "<table border=\"1\" class=\"dataframe\">\n",
        "  <thead>\n",
        "    <tr style=\"text-align: right;\">\n",
        "      <th></th>\n",
        "      <th>Symbol</th>\n",
        "      <th>Date</th>\n",
        "      <th>OPC_P</th>\n",
        "      <th>Ask_P</th>\n",
        "      <th>Bid_P</th>\n",
        "      <th>Mid_P</th>\n",
        "      <th>Bid</th>\n",
        "      <th>Ask</th>\n",
        "      <th>BidD</th>\n",
        "      <th>AskD</th>\n",
        "      <th>...</th>\n",
        "      <th>a14</th>\n",
        "      <th>y</th>\n",
        "      <th>PrevCLC</th>\n",
        "      <th>D3</th>\n",
        "      <th>D7</th>\n",
        "      <th>a3</th>\n",
        "      <th>a6</th>\n",
        "      <th>a7</th>\n",
        "      <th>priceRange</th>\n",
        "      <th>imbInd</th>\n",
        "    </tr>\n",
        "  </thead>\n",
        "  <tbody>\n",
        "    <tr>\n",
        "      <th>0</th>\n",
        "      <td>  AAL</td>\n",
        "      <td> 2014-02-13</td>\n",
        "      <td>  34.07</td>\n",
        "      <td>  34.43</td>\n",
        "      <td>  34.19</td>\n",
        "      <td>  34.310</td>\n",
        "      <td> 0.000117</td>\n",
        "      <td> 0.006902</td>\n",
        "      <td>-0.004</td>\n",
        "      <td>-0.236</td>\n",
        "      <td>...</td>\n",
        "      <td>-1</td>\n",
        "      <td>-1</td>\n",
        "      <td> 0.014505</td>\n",
        "      <td>-1.095417</td>\n",
        "      <td>-1.429807</td>\n",
        "      <td> 0.012631</td>\n",
        "      <td> 0.000010</td>\n",
        "      <td> 0.036223</td>\n",
        "      <td>  3</td>\n",
        "      <td> 1</td>\n",
        "    </tr>\n",
        "    <tr>\n",
        "      <th>1</th>\n",
        "      <td> AAPL</td>\n",
        "      <td> 2014-02-13</td>\n",
        "      <td> 534.66</td>\n",
        "      <td> 533.70</td>\n",
        "      <td> 533.60</td>\n",
        "      <td> 533.650</td>\n",
        "      <td> 0.001019</td>\n",
        "      <td>-0.000831</td>\n",
        "      <td>-0.544</td>\n",
        "      <td> 0.444</td>\n",
        "      <td>...</td>\n",
        "      <td> 1</td>\n",
        "      <td> 1</td>\n",
        "      <td> 0.003325</td>\n",
        "      <td>-0.423571</td>\n",
        "      <td>-0.331393</td>\n",
        "      <td> 0.042996</td>\n",
        "      <td> 0.244575</td>\n",
        "      <td> 0.162922</td>\n",
        "      <td> 53</td>\n",
        "      <td> 0</td>\n",
        "    </tr>\n",
        "    <tr>\n",
        "      <th>2</th>\n",
        "      <td> ACHN</td>\n",
        "      <td> 2014-02-13</td>\n",
        "      <td>   3.70</td>\n",
        "      <td>   3.66</td>\n",
        "      <td>   3.61</td>\n",
        "      <td>   3.635</td>\n",
        "      <td> 0.015512</td>\n",
        "      <td>-0.001637</td>\n",
        "      <td>-0.056</td>\n",
        "      <td> 0.006</td>\n",
        "      <td>...</td>\n",
        "      <td> 1</td>\n",
        "      <td> 1</td>\n",
        "      <td>-0.001637</td>\n",
        "      <td>-0.683060</td>\n",
        "      <td> 0.163934</td>\n",
        "      <td> 1.045119</td>\n",
        "      <td> 0.002844</td>\n",
        "      <td> 0.000033</td>\n",
        "      <td>  0</td>\n",
        "      <td> 1</td>\n",
        "    </tr>\n",
        "    <tr>\n",
        "      <th>3</th>\n",
        "      <td> ACOR</td>\n",
        "      <td> 2014-02-13</td>\n",
        "      <td>  30.96</td>\n",
        "      <td>  31.98</td>\n",
        "      <td>  31.17</td>\n",
        "      <td>  31.575</td>\n",
        "      <td> 0.005679</td>\n",
        "      <td> 0.020193</td>\n",
        "      <td>-0.177</td>\n",
        "      <td>-0.633</td>\n",
        "      <td>...</td>\n",
        "      <td>-1</td>\n",
        "      <td>-1</td>\n",
        "      <td>-0.012346</td>\n",
        "      <td> 1.986434</td>\n",
        "      <td> 1.250000</td>\n",
        "      <td>-1.135655</td>\n",
        "      <td> 0.009563</td>\n",
        "      <td> 0.122307</td>\n",
        "      <td>  3</td>\n",
        "      <td> 0</td>\n",
        "    </tr>\n",
        "    <tr>\n",
        "      <th>4</th>\n",
        "      <td> ACXM</td>\n",
        "      <td> 2014-02-13</td>\n",
        "      <td>  35.89</td>\n",
        "      <td>  39.63</td>\n",
        "      <td>  35.67</td>\n",
        "      <td>  37.650</td>\n",
        "      <td> 0.008438</td>\n",
        "      <td> 0.101721</td>\n",
        "      <td>-0.301</td>\n",
        "      <td>-3.659</td>\n",
        "      <td>...</td>\n",
        "      <td>-1</td>\n",
        "      <td> 0</td>\n",
        "      <td> 0.011926</td>\n",
        "      <td> 3.434066</td>\n",
        "      <td>-1.178571</td>\n",
        "      <td>-2.839708</td>\n",
        "      <td> 0.003683</td>\n",
        "      <td> 0.544204</td>\n",
        "      <td>  3</td>\n",
        "      <td> 0</td>\n",
        "    </tr>\n",
        "  </tbody>\n",
        "</table>\n",
        "<p>5 rows \u00d7 38 columns</p>\n",
        "</div>"
       ],
       "metadata": {},
       "output_type": "pyout",
       "prompt_number": 343,
       "text": [
        "  Symbol        Date   OPC_P   Ask_P   Bid_P    Mid_P       Bid       Ask  \\\n",
        "0    AAL  2014-02-13   34.07   34.43   34.19   34.310  0.000117  0.006902   \n",
        "1   AAPL  2014-02-13  534.66  533.70  533.60  533.650  0.001019 -0.000831   \n",
        "2   ACHN  2014-02-13    3.70    3.66    3.61    3.635  0.015512 -0.001637   \n",
        "3   ACOR  2014-02-13   30.96   31.98   31.17   31.575  0.005679  0.020193   \n",
        "4   ACXM  2014-02-13   35.89   39.63   35.67   37.650  0.008438  0.101721   \n",
        "\n",
        "    BidD   AskD  ...    a14  y   PrevCLC        D3        D7        a3  \\\n",
        "0 -0.004 -0.236  ...     -1 -1  0.014505 -1.095417 -1.429807  0.012631   \n",
        "1 -0.544  0.444  ...      1  1  0.003325 -0.423571 -0.331393  0.042996   \n",
        "2 -0.056  0.006  ...      1  1 -0.001637 -0.683060  0.163934  1.045119   \n",
        "3 -0.177 -0.633  ...     -1 -1 -0.012346  1.986434  1.250000 -1.135655   \n",
        "4 -0.301 -3.659  ...     -1  0  0.011926  3.434066 -1.178571 -2.839708   \n",
        "\n",
        "         a6        a7  priceRange  imbInd  \n",
        "0  0.000010  0.036223           3       1  \n",
        "1  0.244575  0.162922          53       0  \n",
        "2  0.002844  0.000033           0       1  \n",
        "3  0.009563  0.122307           3       0  \n",
        "4  0.003683  0.544204           3       0  \n",
        "\n",
        "[5 rows x 38 columns]"
       ]
      }
     ],
     "prompt_number": 343
    },
    {
     "cell_type": "code",
     "collapsed": false,
     "input": [
      "fdf.priceRange[fdf.priceRange>1]=1"
     ],
     "language": "python",
     "metadata": {},
     "outputs": [],
     "prompt_number": 424
    },
    {
     "cell_type": "code",
     "collapsed": false,
     "input": [
      "(n,b,p) = matplotlib.pyplot.hist(list(fdf.priceRange),bins=100,range=[0,50])"
     ],
     "language": "python",
     "metadata": {},
     "outputs": [
      {
       "metadata": {},
       "output_type": "display_data",
       "png": "[encoded data removed]",
       "text": [
        "<matplotlib.figure.Figure at 0x7f6636318f10>"
       ]
      }
     ],
     "prompt_number": 425
    },
    {
     "cell_type": "code",
     "collapsed": false,
     "input": [
      "#fdf = fdf[fdf.priceRange==0]\n",
      "#fdf.index = range(fdf.shape[0])"
     ],
     "language": "python",
     "metadata": {},
     "outputs": [],
     "prompt_number": 426
    },
    {
     "cell_type": "code",
     "collapsed": false,
     "input": [
      "X_pos = fdf[fdf.a14>0]\n",
      "X_pos.index = range(X_pos.shape[0])\n",
      "X_pos=X_pos[['Ask','AskD','Near','Far','Spread',\n",
      " 'D5', 'D555', 'D66', 'V1','V1n', 'V11', 'V11n',\n",
      " 'V8','V8n','V8nn', 'a1','a4','a5']]\n",
      "\n",
      "X_neg = fdf[fdf.a14<0]\n",
      "X_neg.index = range(X_neg.shape[0])\n",
      "X_neg=X_neg[['Bid','BidD','Near','Far','Spread',\n",
      " 'D4',  'D444', 'D66', 'V1','V1n', 'V11',  'V11n',\n",
      " 'V8','V8n','V8nn', 'a1','a4','a5']]\n",
      "\n",
      "y_pos = fdf.OPC_P>fdf.Ask_P\n",
      "y_pos = y_pos[fdf.a14>0]\n",
      "y_pos.index = range(y_pos.shape[0])\n",
      "\n",
      "y_neg = fdf.OPC_P<fdf.Bid_P\n",
      "y_neg = y_neg[fdf.a14<0]\n",
      "y_neg.index = range(y_neg.shape[0])\n",
      "\n",
      "ypln_pos = fdf.OPC_P/fdf.Ask_P-1\n",
      "ypln_pos = ypln_pos[fdf.a14>0]\n",
      "ypln_pos.index = range(ypln_pos.shape[0])\n",
      "\n",
      "ypln_neg = 1-fdf.OPC_P/fdf.Bid_P\n",
      "ypln_neg = ypln_neg[fdf.a14<0]\n",
      "ypln_neg.index = range(ypln_neg.shape[0])\n",
      "\n",
      "dates = sorted(list(set(fdf.Date)))\n",
      "\n",
      "ERRORS = pd.DataFrame(columns=['Model','TrainError','TestError'])"
     ],
     "language": "python",
     "metadata": {},
     "outputs": [],
     "prompt_number": 427
    },
    {
     "cell_type": "code",
     "collapsed": false,
     "input": [
      "ret = 0.01\n",
      "\n",
      "ym_pos = fdf.imbInd.copy()\n",
      "ym_pos[:] = 0\n",
      "ym_pos[fdf.OPC_P-fdf.Ask_P>ret] = 1\n",
      "ym_pos = ym_pos[fdf.a14>0]\n",
      "ym_pos.index = range(ym_pos.shape[0])\n",
      "\n",
      "ym_neg = fdf.imbInd.copy()\n",
      "ym_neg[:] = 0\n",
      "ym_neg[fdf.OPC_P-fdf.Bid_P<-ret] = 1\n",
      "ym_neg = ym_neg[fdf.a14<0]\n",
      "ym_neg.index = range(ym_neg.shape[0])"
     ],
     "language": "python",
     "metadata": {},
     "outputs": [],
     "prompt_number": 428
    },
    {
     "cell_type": "code",
     "collapsed": false,
     "input": [
      "ret = 0.01/100\n",
      "\n",
      "yr_pos = fdf.imbInd.copy()\n",
      "yr_pos[:] = 0\n",
      "yr_pos[fdf.OPC_P/fdf.Ask_P-1.0>ret]=1\n",
      "yr_pos = yr_pos[fdf.a14>0]\n",
      "yr_pos.index = range(yr_pos.shape[0])\n",
      "\n",
      "yr_neg = fdf.imbInd.copy()\n",
      "yr_neg[:] = 0\n",
      "yr_neg[fdf.OPC_P/fdf.Bid_P-1<-ret]=1\n",
      "yr_neg = yr_neg[fdf.a14<0]\n",
      "yr_neg.index = range(yr_neg.shape[0])"
     ],
     "language": "python",
     "metadata": {},
     "outputs": [],
     "prompt_number": 429
    },
    {
     "cell_type": "code",
     "collapsed": false,
     "input": [
      "(n,b,p) = matplotlib.pyplot.hist(list(ym_pos),bins=10,range=[0,1])"
     ],
     "language": "python",
     "metadata": {},
     "outputs": [
      {
       "metadata": {},
       "output_type": "display_data",
       "png": "[encoded data removed]",
       "text": [
        "<matplotlib.figure.Figure at 0x7ebe350>"
       ]
      }
     ],
     "prompt_number": 430
    },
    {
     "cell_type": "code",
     "collapsed": false,
     "input": [
      "X_pos.head()"
     ],
     "language": "python",
     "metadata": {},
     "outputs": [
      {
       "html": [
        "<div style=\"max-height:1000px;max-width:1500px;overflow:auto;\">\n",
        "<table border=\"1\" class=\"dataframe\">\n",
        "  <thead>\n",
        "    <tr style=\"text-align: right;\">\n",
        "      <th></th>\n",
        "      <th>Ask</th>\n",
        "      <th>AskD</th>\n",
        "      <th>Near</th>\n",
        "      <th>Far</th>\n",
        "      <th>Spread</th>\n",
        "      <th>D5</th>\n",
        "      <th>D555</th>\n",
        "      <th>D66</th>\n",
        "      <th>V1</th>\n",
        "      <th>V1n</th>\n",
        "      <th>V11</th>\n",
        "      <th>V11n</th>\n",
        "      <th>V8</th>\n",
        "      <th>V8n</th>\n",
        "      <th>V8nn</th>\n",
        "      <th>a1</th>\n",
        "      <th>a4</th>\n",
        "      <th>a5</th>\n",
        "    </tr>\n",
        "  </thead>\n",
        "  <tbody>\n",
        "    <tr>\n",
        "      <th>0</th>\n",
        "      <td>-0.000831</td>\n",
        "      <td> 0.444</td>\n",
        "      <td> 0.001528</td>\n",
        "      <td> 0.001603</td>\n",
        "      <td> 0.000187</td>\n",
        "      <td> 0.082848</td>\n",
        "      <td> 0.403636</td>\n",
        "      <td> 0.092570</td>\n",
        "      <td> -0.083371</td>\n",
        "      <td>-0.078325</td>\n",
        "      <td> -0.026937</td>\n",
        "      <td>-0.026388</td>\n",
        "      <td>  0.321293</td>\n",
        "      <td> 0.314743</td>\n",
        "      <td> 0.341131</td>\n",
        "      <td>-0.000001</td>\n",
        "      <td>-0.008410</td>\n",
        "      <td>-0.199617</td>\n",
        "    </tr>\n",
        "    <tr>\n",
        "      <th>1</th>\n",
        "      <td>-0.001637</td>\n",
        "      <td> 0.006</td>\n",
        "      <td> 0.009274</td>\n",
        "      <td> 0.009274</td>\n",
        "      <td> 0.013639</td>\n",
        "      <td> 0.163934</td>\n",
        "      <td> 0.005714</td>\n",
        "      <td> 0.852820</td>\n",
        "      <td> -0.007870</td>\n",
        "      <td>-0.007822</td>\n",
        "      <td> -0.022400</td>\n",
        "      <td>-0.022013</td>\n",
        "      <td>  2.839744</td>\n",
        "      <td> 2.790629</td>\n",
        "      <td> 2.812642</td>\n",
        "      <td>-0.000025</td>\n",
        "      <td>-0.250829</td>\n",
        "      <td>-0.000305</td>\n",
        "    </tr>\n",
        "    <tr>\n",
        "      <th>2</th>\n",
        "      <td> 0.000000</td>\n",
        "      <td> 0.000</td>\n",
        "      <td> 0.000000</td>\n",
        "      <td> 0.002457</td>\n",
        "      <td> 0.004505</td>\n",
        "      <td> 0.000000</td>\n",
        "      <td> 0.000000</td>\n",
        "      <td> 0.225734</td>\n",
        "      <td>-10.000000</td>\n",
        "      <td>-0.638298</td>\n",
        "      <td>-10.000000</td>\n",
        "      <td>-0.638298</td>\n",
        "      <td>  0.666667</td>\n",
        "      <td> 0.042553</td>\n",
        "      <td> 0.680851</td>\n",
        "      <td> 0.000000</td>\n",
        "      <td>-0.000000</td>\n",
        "      <td>-0.000000</td>\n",
        "    </tr>\n",
        "    <tr>\n",
        "      <th>3</th>\n",
        "      <td> 0.000078</td>\n",
        "      <td>-0.027</td>\n",
        "      <td> 0.000049</td>\n",
        "      <td> 0.000078</td>\n",
        "      <td> 0.002874</td>\n",
        "      <td>-0.007731</td>\n",
        "      <td>-0.013500</td>\n",
        "      <td> 0.136115</td>\n",
        "      <td>  2.298851</td>\n",
        "      <td> 0.593472</td>\n",
        "      <td>  0.018728</td>\n",
        "      <td> 0.018300</td>\n",
        "      <td>  0.005806</td>\n",
        "      <td> 0.005673</td>\n",
        "      <td>-0.012627</td>\n",
        "      <td> 0.000000</td>\n",
        "      <td> 0.002154</td>\n",
        "      <td> 0.006568</td>\n",
        "    </tr>\n",
        "    <tr>\n",
        "      <th>4</th>\n",
        "      <td> 0.001073</td>\n",
        "      <td>-0.030</td>\n",
        "      <td> 0.000000</td>\n",
        "      <td> 0.000000</td>\n",
        "      <td> 0.090454</td>\n",
        "      <td>-0.107219</td>\n",
        "      <td>-0.008499</td>\n",
        "      <td> 4.619413</td>\n",
        "      <td>  0.245370</td>\n",
        "      <td> 0.217656</td>\n",
        "      <td>  4.809000</td>\n",
        "      <td> 1.375769</td>\n",
        "      <td> 19.499000</td>\n",
        "      <td> 5.578315</td>\n",
        "      <td> 4.202546</td>\n",
        "      <td> 0.000105</td>\n",
        "      <td> 0.958001</td>\n",
        "      <td> 0.006019</td>\n",
        "    </tr>\n",
        "  </tbody>\n",
        "</table>\n",
        "</div>"
       ],
       "metadata": {},
       "output_type": "pyout",
       "prompt_number": 431,
       "text": [
        "        Ask   AskD      Near       Far    Spread        D5      D555  \\\n",
        "0 -0.000831  0.444  0.001528  0.001603  0.000187  0.082848  0.403636   \n",
        "1 -0.001637  0.006  0.009274  0.009274  0.013639  0.163934  0.005714   \n",
        "2  0.000000  0.000  0.000000  0.002457  0.004505  0.000000  0.000000   \n",
        "3  0.000078 -0.027  0.000049  0.000078  0.002874 -0.007731 -0.013500   \n",
        "4  0.001073 -0.030  0.000000  0.000000  0.090454 -0.107219 -0.008499   \n",
        "\n",
        "        D66         V1       V1n        V11      V11n         V8       V8n  \\\n",
        "0  0.092570  -0.083371 -0.078325  -0.026937 -0.026388   0.321293  0.314743   \n",
        "1  0.852820  -0.007870 -0.007822  -0.022400 -0.022013   2.839744  2.790629   \n",
        "2  0.225734 -10.000000 -0.638298 -10.000000 -0.638298   0.666667  0.042553   \n",
        "3  0.136115   2.298851  0.593472   0.018728  0.018300   0.005806  0.005673   \n",
        "4  4.619413   0.245370  0.217656   4.809000  1.375769  19.499000  5.578315   \n",
        "\n",
        "       V8nn        a1        a4        a5  \n",
        "0  0.341131 -0.000001 -0.008410 -0.199617  \n",
        "1  2.812642 -0.000025 -0.250829 -0.000305  \n",
        "2  0.680851  0.000000 -0.000000 -0.000000  \n",
        "3 -0.012627  0.000000  0.002154  0.006568  \n",
        "4  4.202546  0.000105  0.958001  0.006019  "
       ]
      }
     ],
     "prompt_number": 431
    },
    {
     "cell_type": "code",
     "collapsed": false,
     "input": [
      "eclf_pos = RF(min_samples_split = int(len(yr_pos)*0.03),criterion='entropy',n_jobs=4)\n",
      "'''ec.EnsembleClassifier(\n",
      "clfs=[\n",
      "RF(min_samples_split = int(len(yr_pos)*0.03),criterion='entropy',n_jobs=4)\n",
      "#,GBC(min_samples_split = len(yr_pos)*0.03,init='zero')\n",
      "#,LR(class_weight='auto',C=0.1)\n",
      "])'''\n",
      "\n",
      "eclf_neg = RF(min_samples_split = int(len(yr_neg)*0.03),criterion='entropy',n_jobs=4)\n",
      "'''= ec.EnsembleClassifier(\n",
      "clfs=[\n",
      "RF(min_samples_split = int(len(yr_neg)*0.03),criterion='entropy',n_jobs=4)\n",
      "#,GBC(min_samples_split = len(yr_neg)*0.03,init='zero')\n",
      "#,LR(class_weight='auto',C=0.1)\n",
      "])'''"
     ],
     "language": "python",
     "metadata": {},
     "outputs": [
      {
       "metadata": {},
       "output_type": "pyout",
       "prompt_number": 491,
       "text": [
        "\"= ec.EnsembleClassifier(\\nclfs=[\\nRF(min_samples_split = int(len(yr_neg)*0.03),criterion='entropy',n_jobs=4)\\n#,GBC(min_samples_split = len(yr_neg)*0.03,init='zero')\\n#,LR(class_weight='auto',C=0.1)\\n])\""
       ]
      }
     ],
     "prompt_number": 491
    },
    {
     "cell_type": "code",
     "collapsed": false,
     "input": [
      "labels_pos = fdf[fdf.a14>0].priceRange; labels_pos.index = range(labels_pos.shape[0])\n",
      "labels_neg = fdf[fdf.a14<0].priceRange; labels_neg.index = range(labels_neg.shape[0])\n",
      "ttlabesl_pos = fdf[fdf.a14>0].Date;ttlabesl_pos.index = range(ttlabesl_pos.shape[0])\n",
      "ttlabesl_neg = fdf[fdf.a14<0].Date;ttlabesl_neg.index = range(ttlabesl_neg.shape[0])"
     ],
     "language": "python",
     "metadata": {},
     "outputs": [],
     "prompt_number": 476
    },
    {
     "cell_type": "code",
     "collapsed": false,
     "input": [
      "reload(qimbs)\n",
      "reload(mmll)\n",
      "reload(ec)"
     ],
     "language": "python",
     "metadata": {},
     "outputs": [
      {
       "metadata": {},
       "output_type": "pyout",
       "prompt_number": 500,
       "text": [
        "<module 'EnsembleClassifier' from 'EnsembleClassifier.pyc'>"
       ]
      }
     ],
     "prompt_number": 500
    },
    {
     "cell_type": "code",
     "collapsed": false,
     "input": [
      "cm,clf = mmll.clf_cross_validation(eclf_pos,X_pos,yr_pos,test_size=5,n_folds=50,train_test_labels = ttlabesl_pos,verbose = True)"
     ],
     "language": "python",
     "metadata": {},
     "outputs": [
      {
       "output_type": "stream",
       "stream": "stdout",
       "text": [
        "19.4 sec: Precision - 0.79, Recall - 0.84, F_Score - 0.82, max F_Score - 0.86\n"
       ]
      },
      {
       "metadata": {},
       "output_type": "display_data",
       "png": "[encoded data removed]",
       "text": [
        "<matplotlib.figure.Figure at 0x6126fd0>"
       ]
      }
     ],
     "prompt_number": 478
    },
    {
     "cell_type": "code",
     "collapsed": false,
     "input": [
      "cm,clf = mmll.clf_cross_validation(eclf_neg,X_neg,yr_neg,test_size=5,n_folds=50,train_test_labels = ttlabesl_neg,verbose = True)"
     ],
     "language": "python",
     "metadata": {},
     "outputs": [
      {
       "output_type": "stream",
       "stream": "stdout",
       "text": [
        "18.8 sec: Precision - 0.85, Recall - 0.90, F_Score - 0.87, max F_Score - 0.90\n"
       ]
      },
      {
       "metadata": {},
       "output_type": "display_data",
       "png": "[encoded data removed]",
       "text": [
        "<matplotlib.figure.Figure at 0x7688d50>"
       ]
      }
     ],
     "prompt_number": 479
    },
    {
     "cell_type": "code",
     "collapsed": false,
     "input": [
      "\n",
      "\n",
      "\n",
      "\n",
      "\n"
     ],
     "language": "python",
     "metadata": {},
     "outputs": [],
     "prompt_number": 19
    },
    {
     "cell_type": "code",
     "collapsed": false,
     "input": [
      "\n",
      "\n",
      "\n",
      "\n",
      "\n",
      "#Save configuration for C++"
     ],
     "language": "python",
     "metadata": {},
     "outputs": [],
     "prompt_number": 25
    },
    {
     "cell_type": "code",
     "collapsed": false,
     "input": [
      "def Forest2SqlClfPerc(eclf_pos,eclf_neg,advantage,db,df):  \n",
      "    X_p = df[df.a14>0].copy()\n",
      "    X_p.index = range(X_p.shape[0])\n",
      "    X_p=X_p[['Ask','AskD','Near','Far','Spread',\n",
      "     'D5', 'D555', 'D66', 'V1','V1n', 'V11', 'V11n',\n",
      "     'V8','V8n','V8nn', 'a1','a4','a5']]\n",
      "\n",
      "    X_n = df[df.a14<0].copy()\n",
      "    X_n.index = range(X_n.shape[0])\n",
      "    X_n=X_n[['Bid','BidD','Near','Far','Spread',\n",
      "     'D4',  'D444', 'D66', 'V1','V1n', 'V11',  'V11n',\n",
      "     'V8','V8n','V8nn', 'a1','a4','a5']]\n",
      "\n",
      "    y_p = df.imbInd.copy()\n",
      "    y_p[:] = 0\n",
      "    y_p[df.OPC_P/df.Ask_P-1.0>advantage/10000]=1\n",
      "    y_p = y_p[df.a14>0]\n",
      "    y_p.index = range(y_p.shape[0])\n",
      "\n",
      "    y_n = df.imbInd.copy()\n",
      "    y_n[:] = 0\n",
      "    y_n[df.OPC_P/df.Bid_P-1<-advantage/10000]=1\n",
      "    y_n = y_n[df.a14<0]\n",
      "    y_n.index = range(y_n.shape[0])\n",
      "    \n",
      "    ttlabesl_pos = df[df.a14>0].Date.copy();ttlabesl_pos.index = range(ttlabesl_pos.shape[0])\n",
      "    ttlabesl_neg = df[df.a14<0].Date.copy();ttlabesl_neg.index = range(ttlabesl_neg.shape[0])\n",
      "    \n",
      "    cm,clf = mmll.clf_cross_validation\\\n",
      "    (eclf_pos,X_p,y_p,test_size=20,n_folds=20,train_test_labels = ttlabesl_pos,verbose = False)\n",
      "    fscore1 = clf.fscore\n",
      "    mio.Forest2Sql(clf, X_p,0,1,advantage,fscore1,db)\n",
      "    \n",
      "    cm,clf = mmll.clf_cross_validation\\\n",
      "    (eclf_neg,X_n,y_n,test_size=20,n_folds=20,train_test_labels = ttlabesl_neg,verbose = False)\n",
      "    fscore2 = clf.fscore\n",
      "    mio.Forest2Sql(clf,X_n,0,-1,advantage,fscore2,db)\n",
      "    \n",
      "    print \"f1-\", fscore1, \" f2-\",fscore2"
     ],
     "language": "python",
     "metadata": {},
     "outputs": [],
     "prompt_number": 487
    },
    {
     "cell_type": "code",
     "collapsed": false,
     "input": [
      "db = '/home/user1/Desktop/Share2Windows/RandomForestDatabasePercentageAdvantage.sql'\n",
      "reload(mio)\n",
      "mio.DropDB(db)"
     ],
     "language": "python",
     "metadata": {},
     "outputs": [
      {
       "output_type": "stream",
       "stream": "stdout",
       "text": [
        "SQLite version: 3.7.13\n"
       ]
      }
     ],
     "prompt_number": 504
    },
    {
     "cell_type": "code",
     "collapsed": false,
     "input": [
      "reload(mio)\n",
      "Forest2SqlClfPerc(eclf_pos,eclf_neg,0.0,db,fdf)\n",
      "Forest2SqlClfPerc(eclf_pos,eclf_neg,1.0,db,fdf)\n",
      "Forest2SqlClfPerc(eclf_pos,eclf_neg,2.0,db,fdf)\n",
      "Forest2SqlClfPerc(eclf_pos,eclf_neg,3.0,db,fdf)\n",
      "Forest2SqlClfPerc(eclf_pos,eclf_neg,4.0,db,fdf)\n",
      "Forest2SqlClfPerc(eclf_pos,eclf_neg,5.0,db,fdf)\n",
      "Forest2SqlClfPerc(eclf_pos,eclf_neg,7.0,db,fdf)\n",
      "Forest2SqlClfPerc(eclf_pos,eclf_neg,9.0,db,fdf)\n",
      "Forest2SqlClfPerc(eclf_pos,eclf_neg,11.0,db,fdf)\n",
      "Forest2SqlClfPerc(eclf_pos,eclf_neg,13.0,db,fdf)\n",
      "Forest2SqlClfPerc(eclf_pos,eclf_neg,15.0,db,fdf)\n",
      "Forest2SqlClfPerc(eclf_pos,eclf_neg,17.0,db,fdf)\n",
      "Forest2SqlClfPerc(eclf_pos,eclf_neg,19.0,db,fdf)"
     ],
     "language": "python",
     "metadata": {},
     "outputs": [
      {
       "output_type": "stream",
       "stream": "stdout",
       "text": [
        "7.6 sec: Precision - 0.79, Recall - 0.85, F_Score - 0.82, max F_Score - 0.83\n",
        "SQLite version: 3.7.13\n",
        "7.8 sec: Precision - 0.85, Recall - 0.89, F_Score - 0.87, max F_Score - 0.89"
       ]
      },
      {
       "output_type": "stream",
       "stream": "stdout",
       "text": [
        "\n",
        "SQLite version: 3.7.13\n",
        "f1-"
       ]
      },
      {
       "output_type": "stream",
       "stream": "stdout",
       "text": [
        " 0.833494675702  f2- 0.887881286068\n",
        "7.6 sec: Precision - 0.80, Recall - 0.84, F_Score - 0.82, max F_Score - 0.84"
       ]
      },
      {
       "output_type": "stream",
       "stream": "stdout",
       "text": [
        "\n",
        "SQLite version: 3.7.13\n",
        "7.5 sec: Precision - 0.85, Recall - 0.90, F_Score - 0.87, max F_Score - 0.89"
       ]
      },
      {
       "output_type": "stream",
       "stream": "stdout",
       "text": [
        "\n",
        "SQLite version: 3.7.13\n",
        "f1-"
       ]
      },
      {
       "output_type": "stream",
       "stream": "stdout",
       "text": [
        " 0.835276229093  f2- 0.888129803587\n",
        "7.2 sec: Precision - 0.80, Recall - 0.83, F_Score - 0.82, max F_Score - 0.85"
       ]
      },
      {
       "output_type": "stream",
       "stream": "stdout",
       "text": [
        "\n",
        "SQLite version: 3.7.13\n",
        "8.5 sec: Precision - 0.85, Recall - 0.89, F_Score - 0.87, max F_Score - 0.88"
       ]
      },
      {
       "output_type": "stream",
       "stream": "stdout",
       "text": [
        "\n",
        "SQLite version: 3.7.13\n",
        "f1-"
       ]
      },
      {
       "output_type": "stream",
       "stream": "stdout",
       "text": [
        " 0.846548773531  f2- 0.884779516358\n",
        "7.3 sec: Precision - 0.80, Recall - 0.81, F_Score - 0.80, max F_Score - 0.82"
       ]
      },
      {
       "output_type": "stream",
       "stream": "stdout",
       "text": [
        "\n",
        "SQLite version: 3.7.13\n",
        "7.3 sec: Precision - 0.85, Recall - 0.89, F_Score - 0.87, max F_Score - 0.89"
       ]
      },
      {
       "output_type": "stream",
       "stream": "stdout",
       "text": [
        "\n",
        "SQLite version: 3.7.13\n",
        "f1-"
       ]
      },
      {
       "output_type": "stream",
       "stream": "stdout",
       "text": [
        " 0.821052631579  f2- 0.887218045113\n",
        "7.2 sec: Precision - 0.80, Recall - 0.81, F_Score - 0.80, max F_Score - 0.82"
       ]
      },
      {
       "output_type": "stream",
       "stream": "stdout",
       "text": [
        "\n",
        "SQLite version: 3.7.13\n",
        "7.6 sec: Precision - 0.84, Recall - 0.88, F_Score - 0.86, max F_Score - 0.87"
       ]
      },
      {
       "output_type": "stream",
       "stream": "stdout",
       "text": [
        "\n",
        "SQLite version: 3.7.13\n",
        "f1-"
       ]
      },
      {
       "output_type": "stream",
       "stream": "stdout",
       "text": [
        " 0.81684981685  f2- 0.871441689624\n",
        "7.4 sec: Precision - 0.79, Recall - 0.80, F_Score - 0.79, max F_Score - 0.82"
       ]
      },
      {
       "output_type": "stream",
       "stream": "stdout",
       "text": [
        "\n",
        "SQLite version: 3.7.13\n",
        "7.6 sec: Precision - 0.84, Recall - 0.87, F_Score - 0.86, max F_Score - 0.87"
       ]
      },
      {
       "output_type": "stream",
       "stream": "stdout",
       "text": [
        "\n",
        "SQLite version: 3.7.13\n",
        "f1-"
       ]
      },
      {
       "output_type": "stream",
       "stream": "stdout",
       "text": [
        " 0.815238095238  f2- 0.872855701312\n",
        "7.4 sec: Precision - 0.78, Recall - 0.77, F_Score - 0.78, max F_Score - 0.80"
       ]
      },
      {
       "output_type": "stream",
       "stream": "stdout",
       "text": [
        "\n",
        "SQLite version: 3.7.13\n",
        "7.5 sec: Precision - 0.84, Recall - 0.84, F_Score - 0.84, max F_Score - 0.87"
       ]
      },
      {
       "output_type": "stream",
       "stream": "stdout",
       "text": [
        "\n",
        "SQLite version: 3.7.13\n",
        "f1-"
       ]
      },
      {
       "output_type": "stream",
       "stream": "stdout",
       "text": [
        " 0.797695262484  f2- 0.868362831858\n",
        "8.1 sec: Precision - 0.79, Recall - 0.75, F_Score - 0.77, max F_Score - 0.80"
       ]
      },
      {
       "output_type": "stream",
       "stream": "stdout",
       "text": [
        "\n",
        "SQLite version: 3.7.13\n",
        "7.6 sec: Precision - 0.83, Recall - 0.83, F_Score - 0.83, max F_Score - 0.87"
       ]
      },
      {
       "output_type": "stream",
       "stream": "stdout",
       "text": [
        "\n",
        "SQLite version: 3.7.13\n",
        "f1-"
       ]
      },
      {
       "output_type": "stream",
       "stream": "stdout",
       "text": [
        " 0.799261083744  f2- 0.868453105968\n",
        "7.4 sec: Precision - 0.79, Recall - 0.76, F_Score - 0.77, max F_Score - 0.80"
       ]
      },
      {
       "output_type": "stream",
       "stream": "stdout",
       "text": [
        "\n",
        "SQLite version: 3.7.13\n",
        "7.5 sec: Precision - 0.83, Recall - 0.82, F_Score - 0.83, max F_Score - 0.84"
       ]
      },
      {
       "output_type": "stream",
       "stream": "stdout",
       "text": [
        "\n",
        "SQLite version: 3.7.13\n",
        "f1-"
       ]
      },
      {
       "output_type": "stream",
       "stream": "stdout",
       "text": [
        " 0.797089733226  f2- 0.838961038961\n",
        "8.0 sec: Precision - 0.78, Recall - 0.76, F_Score - 0.77, max F_Score - 0.80"
       ]
      },
      {
       "output_type": "stream",
       "stream": "stdout",
       "text": [
        "\n",
        "SQLite version: 3.7.13\n",
        "8.1 sec: Precision - 0.83, Recall - 0.83, F_Score - 0.83, max F_Score - 0.85"
       ]
      },
      {
       "output_type": "stream",
       "stream": "stdout",
       "text": [
        "\n",
        "SQLite version: 3.7.13\n",
        "f1-"
       ]
      },
      {
       "output_type": "stream",
       "stream": "stdout",
       "text": [
        " 0.797517455392  f2- 0.851063829787\n",
        "7.8 sec: Precision - 0.77, Recall - 0.78, F_Score - 0.77, max F_Score - 0.81"
       ]
      },
      {
       "output_type": "stream",
       "stream": "stdout",
       "text": [
        "\n",
        "SQLite version: 3.7.13\n",
        "7.6 sec: Precision - 0.84, Recall - 0.81, F_Score - 0.82, max F_Score - 0.84"
       ]
      },
      {
       "output_type": "stream",
       "stream": "stdout",
       "text": [
        "\n",
        "SQLite version: 3.7.13\n",
        "f1-"
       ]
      },
      {
       "output_type": "stream",
       "stream": "stdout",
       "text": [
        " 0.806060606061  f2- 0.842031029619\n",
        "8.2 sec: Precision - 0.75, Recall - 0.78, F_Score - 0.76, max F_Score - 0.79"
       ]
      },
      {
       "output_type": "stream",
       "stream": "stdout",
       "text": [
        "\n",
        "SQLite version: 3.7.13\n",
        "7.8 sec: Precision - 0.83, Recall - 0.81, F_Score - 0.82, max F_Score - 0.84"
       ]
      },
      {
       "output_type": "stream",
       "stream": "stdout",
       "text": [
        "\n",
        "SQLite version: 3.7.13\n",
        "f1-"
       ]
      },
      {
       "output_type": "stream",
       "stream": "stdout",
       "text": [
        " 0.786235662148  f2- 0.836591086787\n",
        "7.3 sec: Precision - 0.74, Recall - 0.77, F_Score - 0.76, max F_Score - 0.79"
       ]
      },
      {
       "output_type": "stream",
       "stream": "stdout",
       "text": [
        "\n",
        "SQLite version: 3.7.13\n",
        "7.5 sec: Precision - 0.82, Recall - 0.81, F_Score - 0.82, max F_Score - 0.84"
       ]
      },
      {
       "output_type": "stream",
       "stream": "stdout",
       "text": [
        "\n",
        "SQLite version: 3.7.13\n",
        "f1-"
       ]
      },
      {
       "output_type": "stream",
       "stream": "stdout",
       "text": [
        " 0.786026200873  f2- 0.838855421687\n"
       ]
      }
     ],
     "prompt_number": 505
    },
    {
     "cell_type": "code",
     "collapsed": false,
     "input": [
      "reload(mio)\n",
      "mio.TestData2Sql(1, X_pos,ypln_pos,db)\n",
      "mio.TestData2Sql(-1, X_neg,ypln_neg,db)"
     ],
     "language": "python",
     "metadata": {},
     "outputs": [
      {
       "output_type": "stream",
       "stream": "stdout",
       "text": [
        "SQLite version: 3.7.13\n",
        "SQLite version: 3.7.13"
       ]
      },
      {
       "output_type": "stream",
       "stream": "stdout",
       "text": [
        "\n"
       ]
      }
     ],
     "prompt_number": 506
    },
    {
     "cell_type": "code",
     "collapsed": false,
     "input": [],
     "language": "python",
     "metadata": {},
     "outputs": []
    }
   ],
   "metadata": {}
  }
 ]
}