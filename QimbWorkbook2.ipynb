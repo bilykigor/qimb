{
 "metadata": {
  "name": "",
  "signature": "sha256:e7c43cc329a500351a4f6d94cdca042d2e06ed52b26c1c1b52b212ddd015e263"
 },
 "nbformat": 3,
 "nbformat_minor": 0,
 "worksheets": [
  {
   "cells": [
    {
     "cell_type": "code",
     "collapsed": false,
     "input": [
      "import qimbs \n",
      "import mmll\n",
      "import numpy as np\n",
      "import pandas as pd\n",
      "from ggplot import *\n",
      "from sklearn.preprocessing import PolynomialFeatures\n",
      "from sklearn.svm import SVC\n",
      "from sklearn.linear_model import LogisticRegression as LR\n",
      "from sklearn.ensemble import GradientBoostingClassifier as GBC\n",
      "from sklearn.ensemble import GradientBoostingRegressor as GBR\n",
      "from sklearn.ensemble import RandomForestClassifier as RF\n",
      "\n",
      "from EnsembleClassifier import EnsembleClassifier"
     ],
     "language": "python",
     "metadata": {},
     "outputs": [],
     "prompt_number": 126
    },
    {
     "cell_type": "code",
     "collapsed": false,
     "input": [
      "reload(qimbs)\n",
      "reload(mmll)"
     ],
     "language": "python",
     "metadata": {},
     "outputs": [
      {
       "metadata": {},
       "output_type": "pyout",
       "prompt_number": 2,
       "text": [
        "<module 'qimbs' from 'qimbs.pyc'>"
       ]
      }
     ],
     "prompt_number": 2
    },
    {
     "cell_type": "code",
     "collapsed": false,
     "input": [
      "#Procees c++ created features\n",
      "f = '/home/user1/PyProjects/imbalanceMsg.csv' \n",
      "                   \n",
      "imbalanceMsg = pd.read_csv(f, low_memory=False)\n",
      "\n",
      "#imbalanceMsg = imbalanceMsg[imbalanceMsg.ImbInd!=0]\n",
      "#imbalanceMsg.index = range(imbalanceMsg.shape[0])\n",
      "\n",
      "print imbalanceMsg.shape\n",
      "\n",
      "imbalanceMsg.head()"
     ],
     "language": "python",
     "metadata": {},
     "outputs": [
      {
       "output_type": "stream",
       "stream": "stdout",
       "text": [
        "(30397, 15)\n"
       ]
      },
      {
       "html": [
        "<div style=\"max-height:1000px;max-width:1500px;overflow:auto;\">\n",
        "<table border=\"1\" class=\"dataframe\">\n",
        "  <thead>\n",
        "    <tr style=\"text-align: right;\">\n",
        "      <th></th>\n",
        "      <th>Date</th>\n",
        "      <th>Symbol</th>\n",
        "      <th>ImbInd</th>\n",
        "      <th>PrevCLC_P</th>\n",
        "      <th>OPC_P</th>\n",
        "      <th>Ask_P</th>\n",
        "      <th>Bid_P</th>\n",
        "      <th>Ask_S</th>\n",
        "      <th>Bid_S</th>\n",
        "      <th>ImbRef</th>\n",
        "      <th>ImbCBC</th>\n",
        "      <th>ImbFar</th>\n",
        "      <th>ImbShares</th>\n",
        "      <th>ImbPaired</th>\n",
        "      <th>Unnamed: 14</th>\n",
        "    </tr>\n",
        "  </thead>\n",
        "  <tbody>\n",
        "    <tr>\n",
        "      <th>0</th>\n",
        "      <td> 2014-02-13</td>\n",
        "      <td>  AAL</td>\n",
        "      <td> 1</td>\n",
        "      <td>  34.69</td>\n",
        "      <td>  34.07</td>\n",
        "      <td>  34.43</td>\n",
        "      <td>  34.19</td>\n",
        "      <td> 1000</td>\n",
        "      <td> 2983</td>\n",
        "      <td>  34.20</td>\n",
        "      <td>  34.16</td>\n",
        "      <td>  34.16</td>\n",
        "      <td>-16314</td>\n",
        "      <td> 48478</td>\n",
        "      <td>NaN</td>\n",
        "    </tr>\n",
        "    <tr>\n",
        "      <th>1</th>\n",
        "      <td> 2014-02-13</td>\n",
        "      <td> AAPL</td>\n",
        "      <td> 0</td>\n",
        "      <td> 535.92</td>\n",
        "      <td> 534.66</td>\n",
        "      <td> 533.70</td>\n",
        "      <td> 533.60</td>\n",
        "      <td>  507</td>\n",
        "      <td> 2000</td>\n",
        "      <td> 534.00</td>\n",
        "      <td> 534.96</td>\n",
        "      <td> 535.00</td>\n",
        "      <td> 17808</td>\n",
        "      <td> 55326</td>\n",
        "      <td>NaN</td>\n",
        "    </tr>\n",
        "    <tr>\n",
        "      <th>2</th>\n",
        "      <td> 2014-02-13</td>\n",
        "      <td> ACHN</td>\n",
        "      <td> 1</td>\n",
        "      <td>   3.66</td>\n",
        "      <td>   3.70</td>\n",
        "      <td>   3.66</td>\n",
        "      <td>   3.61</td>\n",
        "      <td>  200</td>\n",
        "      <td>  550</td>\n",
        "      <td>   3.66</td>\n",
        "      <td>   3.70</td>\n",
        "      <td>   3.70</td>\n",
        "      <td> 44371</td>\n",
        "      <td> 15525</td>\n",
        "      <td>NaN</td>\n",
        "    </tr>\n",
        "    <tr>\n",
        "      <th>3</th>\n",
        "      <td> 2014-02-13</td>\n",
        "      <td> ACOR</td>\n",
        "      <td> 0</td>\n",
        "      <td>  30.96</td>\n",
        "      <td>  30.96</td>\n",
        "      <td>  31.98</td>\n",
        "      <td>  31.17</td>\n",
        "      <td>  500</td>\n",
        "      <td>  100</td>\n",
        "      <td>  31.41</td>\n",
        "      <td>  30.99</td>\n",
        "      <td>  30.99</td>\n",
        "      <td> -3829</td>\n",
        "      <td>  3888</td>\n",
        "      <td>NaN</td>\n",
        "    </tr>\n",
        "    <tr>\n",
        "      <th>4</th>\n",
        "      <td> 2014-02-13</td>\n",
        "      <td> ACXM</td>\n",
        "      <td> 0</td>\n",
        "      <td>  36.40</td>\n",
        "      <td>  35.89</td>\n",
        "      <td>  39.63</td>\n",
        "      <td>  35.67</td>\n",
        "      <td>  100</td>\n",
        "      <td>  100</td>\n",
        "      <td>  35.98</td>\n",
        "      <td>  35.92</td>\n",
        "      <td>  35.92</td>\n",
        "      <td> -2371</td>\n",
        "      <td>  6435</td>\n",
        "      <td>NaN</td>\n",
        "    </tr>\n",
        "  </tbody>\n",
        "</table>\n",
        "</div>"
       ],
       "metadata": {},
       "output_type": "pyout",
       "prompt_number": 3,
       "text": [
        "         Date Symbol  ImbInd  PrevCLC_P   OPC_P   Ask_P   Bid_P  Ask_S  Bid_S  \\\n",
        "0  2014-02-13    AAL       1      34.69   34.07   34.43   34.19   1000   2983   \n",
        "1  2014-02-13   AAPL       0     535.92  534.66  533.70  533.60    507   2000   \n",
        "2  2014-02-13   ACHN       1       3.66    3.70    3.66    3.61    200    550   \n",
        "3  2014-02-13   ACOR       0      30.96   30.96   31.98   31.17    500    100   \n",
        "4  2014-02-13   ACXM       0      36.40   35.89   39.63   35.67    100    100   \n",
        "\n",
        "   ImbRef  ImbCBC  ImbFar  ImbShares  ImbPaired  Unnamed: 14  \n",
        "0   34.20   34.16   34.16     -16314      48478          NaN  \n",
        "1  534.00  534.96  535.00      17808      55326          NaN  \n",
        "2    3.66    3.70    3.70      44371      15525          NaN  \n",
        "3   31.41   30.99   30.99      -3829       3888          NaN  \n",
        "4   35.98   35.92   35.92      -2371       6435          NaN  "
       ]
      }
     ],
     "prompt_number": 3
    },
    {
     "cell_type": "code",
     "collapsed": false,
     "input": [
      "sum(map(int,imbalanceMsg.ImbInd==0))"
     ],
     "language": "python",
     "metadata": {},
     "outputs": [
      {
       "metadata": {},
       "output_type": "pyout",
       "prompt_number": 4,
       "text": [
        "18569"
       ]
      }
     ],
     "prompt_number": 4
    },
    {
     "cell_type": "code",
     "collapsed": false,
     "input": [
      "#Creating features\n",
      "reload(qimbs)\n",
      "fdf = qimbs.create_features33(imbalanceMsg)\n",
      "fdf.head()"
     ],
     "language": "python",
     "metadata": {},
     "outputs": [
      {
       "html": [
        "<div style=\"max-height:1000px;max-width:1500px;overflow:auto;\">\n",
        "<table border=\"1\" class=\"dataframe\">\n",
        "  <thead>\n",
        "    <tr style=\"text-align: right;\">\n",
        "      <th></th>\n",
        "      <th>Symbol</th>\n",
        "      <th>Date</th>\n",
        "      <th>OPC_P</th>\n",
        "      <th>Ask_P</th>\n",
        "      <th>Bid_P</th>\n",
        "      <th>Mid_P</th>\n",
        "      <th>Bid</th>\n",
        "      <th>Ask</th>\n",
        "      <th>BidD</th>\n",
        "      <th>AskD</th>\n",
        "      <th>...</th>\n",
        "      <th>a14</th>\n",
        "      <th>y</th>\n",
        "      <th>PrevCLC</th>\n",
        "      <th>D3</th>\n",
        "      <th>D7</th>\n",
        "      <th>a3</th>\n",
        "      <th>a6</th>\n",
        "      <th>a7</th>\n",
        "      <th>priceRange</th>\n",
        "      <th>imbInd</th>\n",
        "    </tr>\n",
        "  </thead>\n",
        "  <tbody>\n",
        "    <tr>\n",
        "      <th>0</th>\n",
        "      <td>  AAL</td>\n",
        "      <td> 2014-02-13</td>\n",
        "      <td>  34.07</td>\n",
        "      <td>  34.43</td>\n",
        "      <td>  34.19</td>\n",
        "      <td>  34.310</td>\n",
        "      <td> 0.000117</td>\n",
        "      <td> 0.006902</td>\n",
        "      <td>-0.004</td>\n",
        "      <td>-0.236</td>\n",
        "      <td>...</td>\n",
        "      <td>-1</td>\n",
        "      <td>-1</td>\n",
        "      <td> 0.014505</td>\n",
        "      <td>-1.095417</td>\n",
        "      <td>-1.429807</td>\n",
        "      <td> 0.012631</td>\n",
        "      <td> 0.000010</td>\n",
        "      <td> 0.036223</td>\n",
        "      <td>  3</td>\n",
        "      <td> 1</td>\n",
        "    </tr>\n",
        "    <tr>\n",
        "      <th>1</th>\n",
        "      <td> AAPL</td>\n",
        "      <td> 2014-02-13</td>\n",
        "      <td> 534.66</td>\n",
        "      <td> 533.70</td>\n",
        "      <td> 533.60</td>\n",
        "      <td> 533.650</td>\n",
        "      <td> 0.001019</td>\n",
        "      <td>-0.000831</td>\n",
        "      <td>-0.544</td>\n",
        "      <td> 0.444</td>\n",
        "      <td>...</td>\n",
        "      <td> 1</td>\n",
        "      <td> 1</td>\n",
        "      <td> 0.003325</td>\n",
        "      <td>-0.423571</td>\n",
        "      <td>-0.331393</td>\n",
        "      <td> 0.042996</td>\n",
        "      <td> 0.244575</td>\n",
        "      <td> 0.162922</td>\n",
        "      <td> 53</td>\n",
        "      <td> 0</td>\n",
        "    </tr>\n",
        "    <tr>\n",
        "      <th>2</th>\n",
        "      <td> ACHN</td>\n",
        "      <td> 2014-02-13</td>\n",
        "      <td>   3.70</td>\n",
        "      <td>   3.66</td>\n",
        "      <td>   3.61</td>\n",
        "      <td>   3.635</td>\n",
        "      <td> 0.015512</td>\n",
        "      <td>-0.001637</td>\n",
        "      <td>-0.056</td>\n",
        "      <td> 0.006</td>\n",
        "      <td>...</td>\n",
        "      <td> 1</td>\n",
        "      <td> 1</td>\n",
        "      <td>-0.001637</td>\n",
        "      <td>-0.683060</td>\n",
        "      <td> 0.163934</td>\n",
        "      <td> 1.045119</td>\n",
        "      <td> 0.002844</td>\n",
        "      <td> 0.000033</td>\n",
        "      <td>  0</td>\n",
        "      <td> 1</td>\n",
        "    </tr>\n",
        "    <tr>\n",
        "      <th>3</th>\n",
        "      <td> ACOR</td>\n",
        "      <td> 2014-02-13</td>\n",
        "      <td>  30.96</td>\n",
        "      <td>  31.98</td>\n",
        "      <td>  31.17</td>\n",
        "      <td>  31.575</td>\n",
        "      <td> 0.005679</td>\n",
        "      <td> 0.020193</td>\n",
        "      <td>-0.177</td>\n",
        "      <td>-0.633</td>\n",
        "      <td>...</td>\n",
        "      <td>-1</td>\n",
        "      <td>-1</td>\n",
        "      <td>-0.012346</td>\n",
        "      <td> 1.986434</td>\n",
        "      <td> 1.250000</td>\n",
        "      <td>-1.135655</td>\n",
        "      <td> 0.009563</td>\n",
        "      <td> 0.122307</td>\n",
        "      <td>  3</td>\n",
        "      <td> 0</td>\n",
        "    </tr>\n",
        "    <tr>\n",
        "      <th>4</th>\n",
        "      <td> ACXM</td>\n",
        "      <td> 2014-02-13</td>\n",
        "      <td>  35.89</td>\n",
        "      <td>  39.63</td>\n",
        "      <td>  35.67</td>\n",
        "      <td>  37.650</td>\n",
        "      <td> 0.008438</td>\n",
        "      <td> 0.101721</td>\n",
        "      <td>-0.301</td>\n",
        "      <td>-3.659</td>\n",
        "      <td>...</td>\n",
        "      <td>-1</td>\n",
        "      <td> 0</td>\n",
        "      <td> 0.011926</td>\n",
        "      <td> 3.434066</td>\n",
        "      <td>-1.178571</td>\n",
        "      <td>-2.839708</td>\n",
        "      <td> 0.003683</td>\n",
        "      <td> 0.544204</td>\n",
        "      <td>  3</td>\n",
        "      <td> 0</td>\n",
        "    </tr>\n",
        "  </tbody>\n",
        "</table>\n",
        "<p>5 rows \u00d7 38 columns</p>\n",
        "</div>"
       ],
       "metadata": {},
       "output_type": "pyout",
       "prompt_number": 156,
       "text": [
        "  Symbol        Date   OPC_P   Ask_P   Bid_P    Mid_P       Bid       Ask  \\\n",
        "0    AAL  2014-02-13   34.07   34.43   34.19   34.310  0.000117  0.006902   \n",
        "1   AAPL  2014-02-13  534.66  533.70  533.60  533.650  0.001019 -0.000831   \n",
        "2   ACHN  2014-02-13    3.70    3.66    3.61    3.635  0.015512 -0.001637   \n",
        "3   ACOR  2014-02-13   30.96   31.98   31.17   31.575  0.005679  0.020193   \n",
        "4   ACXM  2014-02-13   35.89   39.63   35.67   37.650  0.008438  0.101721   \n",
        "\n",
        "    BidD   AskD  ...    a14  y   PrevCLC        D3        D7        a3  \\\n",
        "0 -0.004 -0.236  ...     -1 -1  0.014505 -1.095417 -1.429807  0.012631   \n",
        "1 -0.544  0.444  ...      1  1  0.003325 -0.423571 -0.331393  0.042996   \n",
        "2 -0.056  0.006  ...      1  1 -0.001637 -0.683060  0.163934  1.045119   \n",
        "3 -0.177 -0.633  ...     -1 -1 -0.012346  1.986434  1.250000 -1.135655   \n",
        "4 -0.301 -3.659  ...     -1  0  0.011926  3.434066 -1.178571 -2.839708   \n",
        "\n",
        "         a6        a7  priceRange  imbInd  \n",
        "0  0.000010  0.036223           3       1  \n",
        "1  0.244575  0.162922          53       0  \n",
        "2  0.002844  0.000033           0       1  \n",
        "3  0.009563  0.122307           3       0  \n",
        "4  0.003683  0.544204           3       0  \n",
        "\n",
        "[5 rows x 38 columns]"
       ]
      }
     ],
     "prompt_number": 156
    },
    {
     "cell_type": "code",
     "collapsed": false,
     "input": [
      "(n,b,p) = matplotlib.pyplot.hist(list(fdf.priceRange),bins=100,range=[0,50])"
     ],
     "language": "python",
     "metadata": {},
     "outputs": [
      {
       "metadata": {},
       "output_type": "display_data",
       "png": "[encoded data removed]",
       "text": [
        "<matplotlib.figure.Figure at 0x6d90410>"
       ]
      }
     ],
     "prompt_number": 157
    },
    {
     "cell_type": "code",
     "collapsed": false,
     "input": [
      "fdf = fdf[fdf.priceRange>12]\n",
      "fdf.index = range(fdf.shape[0])"
     ],
     "language": "python",
     "metadata": {},
     "outputs": [],
     "prompt_number": 7
    },
    {
     "cell_type": "code",
     "collapsed": false,
     "input": [
      "X_pos = fdf[fdf.a14>0]\n",
      "X_pos.index = range(X_pos.shape[0])\n",
      "X_pos=X_pos[['Ask','AskD','Near','Far','Spread',\n",
      " 'D5', 'D555', 'D66', 'V1','V1n', 'V11', 'V11n',\n",
      " 'V8','V8n','V8nn', 'a1','a4','a5','priceRange']]\n",
      "\n",
      "X_neg = fdf[fdf.a14<0]\n",
      "X_neg.index = range(X_neg.shape[0])\n",
      "X_neg=X_neg[['Bid','BidD','Near','Far','Spread',\n",
      " 'D4',  'D444', 'D66', 'V1','V1n', 'V11',  'V11n',\n",
      " 'V8','V8n','V8nn', 'a1','a4','a5','priceRange']]\n",
      "\n",
      "y_pos = fdf.OPC_P>fdf.Ask_P\n",
      "y_pos = y_pos[fdf.a14>0]\n",
      "y_pos.index = range(y_pos.shape[0])\n",
      "\n",
      "y_neg = fdf.OPC_P<fdf.Bid_P\n",
      "y_neg = y_neg[fdf.a14<0]\n",
      "y_neg.index = range(y_neg.shape[0])\n",
      "\n",
      "ypln_pos = fdf.OPC_P/fdf.Ask_P-1\n",
      "ypln_pos = ypln_pos[fdf.a14>0]\n",
      "ypln_pos.index = range(ypln_pos.shape[0])\n",
      "\n",
      "ypln_neg = 1-fdf.OPC_P/fdf.Bid_P\n",
      "ypln_neg = ypln_neg[fdf.a14<0]\n",
      "ypln_neg.index = range(ypln_neg.shape[0])\n",
      "\n",
      "dates = sorted(list(set(fdf.Date)))\n",
      "datesDF_pos = qimbs.dates_tmp_df(fdf[fdf.a14>0])\n",
      "datesDF_neg = qimbs.dates_tmp_df(fdf[fdf.a14<0])\n",
      "\n",
      "ERRORS = pd.DataFrame(columns=['Model','TrainError','TestError'])"
     ],
     "language": "python",
     "metadata": {},
     "outputs": [],
     "prompt_number": 158
    },
    {
     "cell_type": "code",
     "collapsed": false,
     "input": [
      "ret = 0.2\n",
      "\n",
      "ym_pos = fdf.imbInd.copy()\n",
      "ym_pos[:] = 0\n",
      "ym_pos[fdf.OPC_P-fdf.Ask_P>ret] = 1\n",
      "ym_pos = ym_pos[fdf.a14>0]\n",
      "ym_pos.index = range(ym_pos.shape[0])\n",
      "\n",
      "ym_neg = fdf.imbInd.copy()\n",
      "ym_neg[:] = 0\n",
      "ym_neg[fdf.OPC_P-fdf.Bid_P<-ret] = 1\n",
      "ym_neg = ym_neg[fdf.a14<0]\n",
      "ym_neg.index = range(ym_neg.shape[0])"
     ],
     "language": "python",
     "metadata": {},
     "outputs": [],
     "prompt_number": 159
    },
    {
     "cell_type": "code",
     "collapsed": false,
     "input": [
      "ret = 0.2/100\n",
      "\n",
      "yr_pos = fdf.imbInd.copy()\n",
      "yr_pos[:] = 0\n",
      "yr_pos[fdf.OPC_P/fdf.Ask_P-1.0>ret]=1\n",
      "yr_pos = yr_pos[fdf.a14>0]\n",
      "yr_pos.index = range(yr_pos.shape[0])\n",
      "\n",
      "yr_neg = fdf.imbInd.copy()\n",
      "yr_neg[:] = 0\n",
      "yr_neg[fdf.OPC_P/fdf.Bid_P-1<-ret]=1\n",
      "yr_neg = yr_neg[fdf.a14<0]\n",
      "yr_neg.index = range(yr_neg.shape[0])"
     ],
     "language": "python",
     "metadata": {},
     "outputs": [],
     "prompt_number": 174
    },
    {
     "cell_type": "code",
     "collapsed": false,
     "input": [
      "(n,b,p) = matplotlib.pyplot.hist(list(ym_pos),bins=10,range=[0,1])"
     ],
     "language": "python",
     "metadata": {},
     "outputs": [
      {
       "metadata": {},
       "output_type": "display_data",
       "png": "[encoded data removed]",
       "text": [
        "<matplotlib.figure.Figure at 0x7fdf1423c650>"
       ]
      }
     ],
     "prompt_number": 161
    },
    {
     "cell_type": "code",
     "collapsed": false,
     "input": [
      "X_pos.head()"
     ],
     "language": "python",
     "metadata": {},
     "outputs": [
      {
       "html": [
        "<div style=\"max-height:1000px;max-width:1500px;overflow:auto;\">\n",
        "<table border=\"1\" class=\"dataframe\">\n",
        "  <thead>\n",
        "    <tr style=\"text-align: right;\">\n",
        "      <th></th>\n",
        "      <th>Ask</th>\n",
        "      <th>AskD</th>\n",
        "      <th>Near</th>\n",
        "      <th>Far</th>\n",
        "      <th>Spread</th>\n",
        "      <th>D5</th>\n",
        "      <th>D555</th>\n",
        "      <th>D66</th>\n",
        "      <th>V1</th>\n",
        "      <th>V1n</th>\n",
        "      <th>V11</th>\n",
        "      <th>V11n</th>\n",
        "      <th>V8</th>\n",
        "      <th>V8n</th>\n",
        "      <th>V8nn</th>\n",
        "      <th>a1</th>\n",
        "      <th>a4</th>\n",
        "      <th>a5</th>\n",
        "      <th>priceRange</th>\n",
        "    </tr>\n",
        "  </thead>\n",
        "  <tbody>\n",
        "    <tr>\n",
        "      <th>0</th>\n",
        "      <td>-0.000831</td>\n",
        "      <td> 0.444</td>\n",
        "      <td> 0.001528</td>\n",
        "      <td> 0.001603</td>\n",
        "      <td> 0.000187</td>\n",
        "      <td> 0.082848</td>\n",
        "      <td> 0.403636</td>\n",
        "      <td> 0.092570</td>\n",
        "      <td> -0.083371</td>\n",
        "      <td>-0.078325</td>\n",
        "      <td> -0.026937</td>\n",
        "      <td>-0.026388</td>\n",
        "      <td>  0.321293</td>\n",
        "      <td> 0.314743</td>\n",
        "      <td> 0.341131</td>\n",
        "      <td>-0.000001</td>\n",
        "      <td>-0.008410</td>\n",
        "      <td>-0.199617</td>\n",
        "      <td> 53</td>\n",
        "    </tr>\n",
        "    <tr>\n",
        "      <th>1</th>\n",
        "      <td>-0.001637</td>\n",
        "      <td> 0.006</td>\n",
        "      <td> 0.009274</td>\n",
        "      <td> 0.009274</td>\n",
        "      <td> 0.013639</td>\n",
        "      <td> 0.163934</td>\n",
        "      <td> 0.005714</td>\n",
        "      <td> 0.852820</td>\n",
        "      <td> -0.007870</td>\n",
        "      <td>-0.007822</td>\n",
        "      <td> -0.022400</td>\n",
        "      <td>-0.022013</td>\n",
        "      <td>  2.839744</td>\n",
        "      <td> 2.790629</td>\n",
        "      <td> 2.812642</td>\n",
        "      <td>-0.000025</td>\n",
        "      <td>-0.250829</td>\n",
        "      <td>-0.000305</td>\n",
        "      <td>  0</td>\n",
        "    </tr>\n",
        "    <tr>\n",
        "      <th>2</th>\n",
        "      <td> 0.000000</td>\n",
        "      <td> 0.000</td>\n",
        "      <td> 0.000000</td>\n",
        "      <td> 0.002457</td>\n",
        "      <td> 0.004505</td>\n",
        "      <td> 0.000000</td>\n",
        "      <td> 0.000000</td>\n",
        "      <td> 0.225734</td>\n",
        "      <td>-10.000000</td>\n",
        "      <td>-0.638298</td>\n",
        "      <td>-10.000000</td>\n",
        "      <td>-0.638298</td>\n",
        "      <td>  0.666667</td>\n",
        "      <td> 0.042553</td>\n",
        "      <td> 0.680851</td>\n",
        "      <td> 0.000000</td>\n",
        "      <td>-0.000000</td>\n",
        "      <td>-0.000000</td>\n",
        "      <td>  2</td>\n",
        "    </tr>\n",
        "    <tr>\n",
        "      <th>3</th>\n",
        "      <td> 0.000078</td>\n",
        "      <td>-0.027</td>\n",
        "      <td> 0.000049</td>\n",
        "      <td> 0.000078</td>\n",
        "      <td> 0.002874</td>\n",
        "      <td>-0.007731</td>\n",
        "      <td>-0.013500</td>\n",
        "      <td> 0.136115</td>\n",
        "      <td>  2.298851</td>\n",
        "      <td> 0.593472</td>\n",
        "      <td>  0.018728</td>\n",
        "      <td> 0.018300</td>\n",
        "      <td>  0.005806</td>\n",
        "      <td> 0.005673</td>\n",
        "      <td>-0.012627</td>\n",
        "      <td> 0.000000</td>\n",
        "      <td> 0.002154</td>\n",
        "      <td> 0.006568</td>\n",
        "      <td> 34</td>\n",
        "    </tr>\n",
        "    <tr>\n",
        "      <th>4</th>\n",
        "      <td> 0.001073</td>\n",
        "      <td>-0.030</td>\n",
        "      <td> 0.000000</td>\n",
        "      <td> 0.000000</td>\n",
        "      <td> 0.090454</td>\n",
        "      <td>-0.107219</td>\n",
        "      <td>-0.008499</td>\n",
        "      <td> 4.619413</td>\n",
        "      <td>  0.245370</td>\n",
        "      <td> 0.217656</td>\n",
        "      <td>  4.809000</td>\n",
        "      <td> 1.375769</td>\n",
        "      <td> 19.499000</td>\n",
        "      <td> 5.578315</td>\n",
        "      <td> 4.202546</td>\n",
        "      <td> 0.000105</td>\n",
        "      <td> 0.958001</td>\n",
        "      <td> 0.006019</td>\n",
        "      <td>  2</td>\n",
        "    </tr>\n",
        "  </tbody>\n",
        "</table>\n",
        "</div>"
       ],
       "metadata": {},
       "output_type": "pyout",
       "prompt_number": 177,
       "text": [
        "        Ask   AskD      Near       Far    Spread        D5      D555  \\\n",
        "0 -0.000831  0.444  0.001528  0.001603  0.000187  0.082848  0.403636   \n",
        "1 -0.001637  0.006  0.009274  0.009274  0.013639  0.163934  0.005714   \n",
        "2  0.000000  0.000  0.000000  0.002457  0.004505  0.000000  0.000000   \n",
        "3  0.000078 -0.027  0.000049  0.000078  0.002874 -0.007731 -0.013500   \n",
        "4  0.001073 -0.030  0.000000  0.000000  0.090454 -0.107219 -0.008499   \n",
        "\n",
        "        D66         V1       V1n        V11      V11n         V8       V8n  \\\n",
        "0  0.092570  -0.083371 -0.078325  -0.026937 -0.026388   0.321293  0.314743   \n",
        "1  0.852820  -0.007870 -0.007822  -0.022400 -0.022013   2.839744  2.790629   \n",
        "2  0.225734 -10.000000 -0.638298 -10.000000 -0.638298   0.666667  0.042553   \n",
        "3  0.136115   2.298851  0.593472   0.018728  0.018300   0.005806  0.005673   \n",
        "4  4.619413   0.245370  0.217656   4.809000  1.375769  19.499000  5.578315   \n",
        "\n",
        "       V8nn        a1        a4        a5  priceRange  \n",
        "0  0.341131 -0.000001 -0.008410 -0.199617          53  \n",
        "1  2.812642 -0.000025 -0.250829 -0.000305           0  \n",
        "2  0.680851  0.000000 -0.000000 -0.000000           2  \n",
        "3 -0.012627  0.000000  0.002154  0.006568          34  \n",
        "4  4.202546  0.000105  0.958001  0.006019           2  "
       ]
      }
     ],
     "prompt_number": 177
    },
    {
     "cell_type": "code",
     "collapsed": false,
     "input": [
      "eclf_pos = EnsembleClassifier(\n",
      "clfs=[\n",
      "RF(min_samples_split = int(len(ym_pos)*0.03),criterion='entropy',n_jobs=4)\n",
      "#,GBC(min_samples_split = len(ym_pos)*0.03,init='zero')\n",
      "#,LR(class_weight='auto',C=0.1)\n",
      "])\n",
      "\n",
      "eclf_neg = EnsembleClassifier(\n",
      "clfs=[\n",
      "RF(min_samples_split = int(len(ym_neg)*0.03),criterion='entropy',n_jobs=4)\n",
      "#,GBC(min_samples_split = len(ym_neg)*0.03,init='zero')\n",
      "#,LR(class_weight='auto',C=0.1)\n",
      "])"
     ],
     "language": "python",
     "metadata": {},
     "outputs": [],
     "prompt_number": 179
    },
    {
     "cell_type": "code",
     "collapsed": false,
     "input": [
      "reload(qimbs)\n",
      "reload(mmll)"
     ],
     "language": "python",
     "metadata": {},
     "outputs": [
      {
       "metadata": {},
       "output_type": "pyout",
       "prompt_number": 180,
       "text": [
        "<module 'mmll' from 'mmll.pyc'>"
       ]
      }
     ],
     "prompt_number": 180
    },
    {
     "cell_type": "code",
     "collapsed": false,
     "input": [
      "cm,clf = mmll.clf_cross_validation(eclf_pos,X_pos,yr_pos,test_size=5,n_folds=30,labels = fdf[fdf.a14>0].Date,verbose = False)"
     ],
     "language": "python",
     "metadata": {},
     "outputs": [
      {
       "output_type": "stream",
       "stream": "stdout",
       "text": [
        "Precision - 0.74, Recall - 0.77, F_Score - 0.76, max F_Score - 0.83\n"
       ]
      }
     ],
     "prompt_number": 182
    },
    {
     "cell_type": "code",
     "collapsed": false,
     "input": [
      "cm,clf = mmll.clf_cross_validation(eclf_neg,X_neg,yr_neg,test_size=5,n_folds=30,labels = fdf[fdf.a14<0].Date,verbose = False)"
     ],
     "language": "python",
     "metadata": {},
     "outputs": [
      {
       "output_type": "stream",
       "stream": "stdout",
       "text": [
        "Precision - 0.83, Recall - 0.82, F_Score - 0.82, max F_Score - 0.88\n"
       ]
      }
     ],
     "prompt_number": 195
    },
    {
     "cell_type": "code",
     "collapsed": false,
     "input": [
      "t=clf.clfs[0].estimators_[0].tree_\n",
      "print t.n_classes[0]\n",
      "print t.n_features\n",
      "print t.capacity"
     ],
     "language": "python",
     "metadata": {},
     "outputs": [
      {
       "output_type": "stream",
       "stream": "stdout",
       "text": [
        "2\n",
        "19\n",
        "97\n"
       ]
      }
     ],
     "prompt_number": 201
    },
    {
     "cell_type": "code",
     "collapsed": false,
     "input": [
      "clf.clfs[0].classes_"
     ],
     "language": "python",
     "metadata": {},
     "outputs": [
      {
       "metadata": {},
       "output_type": "pyout",
       "prompt_number": 205,
       "text": [
        "array([0, 1])"
       ]
      }
     ],
     "prompt_number": 205
    },
    {
     "cell_type": "code",
     "collapsed": false,
     "input": [
      "c.copy()"
     ],
     "language": "python",
     "metadata": {},
     "outputs": [
      {
       "ename": "AttributeError",
       "evalue": "'RandomForestClassifier' object has no attribute 'copy'",
       "output_type": "pyerr",
       "traceback": [
        "\u001b[1;31m---------------------------------------------------------------------------\u001b[0m\n\u001b[1;31mAttributeError\u001b[0m                            Traceback (most recent call last)",
        "\u001b[1;32m<ipython-input-209-22040061ce96>\u001b[0m in \u001b[0;36m<module>\u001b[1;34m()\u001b[0m\n\u001b[1;32m----> 1\u001b[1;33m \u001b[0mc\u001b[0m\u001b[1;33m.\u001b[0m\u001b[0mcopy\u001b[0m\u001b[1;33m(\u001b[0m\u001b[1;33m)\u001b[0m\u001b[1;33m\u001b[0m\u001b[0m\n\u001b[0m",
        "\u001b[1;31mAttributeError\u001b[0m: 'RandomForestClassifier' object has no attribute 'copy'"
       ]
      }
     ],
     "prompt_number": 209
    },
    {
     "cell_type": "code",
     "collapsed": false,
     "input": [
      "\n",
      "\n",
      "\n",
      "\n",
      "\n",
      "#Save configuration for C++"
     ],
     "language": "python",
     "metadata": {},
     "outputs": [
      {
       "metadata": {},
       "output_type": "pyout",
       "prompt_number": 200,
       "text": [
        "RandomForestClassifier(bootstrap=True, compute_importances=None,\n",
        "            criterion='entropy', max_depth=None, max_features='auto',\n",
        "            max_leaf_nodes=None, min_density=None, min_samples_leaf=1,\n",
        "            min_samples_split=464, n_estimators=10, n_jobs=4,\n",
        "            oob_score=False, random_state=None, verbose=0)"
       ]
      }
     ],
     "prompt_number": 200
    },
    {
     "cell_type": "code",
     "collapsed": false,
     "input": [
      "db = '/home/user1/Desktop/Share2Windows/RandomForestDatabase.sql'\n",
      "reload(qimbs)\n",
      "qimbs.DropDB(db)"
     ],
     "language": "python",
     "metadata": {},
     "outputs": [
      {
       "output_type": "stream",
       "stream": "stdout",
       "text": [
        "SQLite version: 3.7.13\n"
       ]
      },
      {
       "ename": "OperationalError",
       "evalue": "no such table: RFdata",
       "output_type": "pyerr",
       "traceback": [
        "\u001b[1;31m---------------------------------------------------------------------------\u001b[0m\n\u001b[1;31mOperationalError\u001b[0m                          Traceback (most recent call last)",
        "\u001b[1;32m<ipython-input-456-8be5fe1874fe>\u001b[0m in \u001b[0;36m<module>\u001b[1;34m()\u001b[0m\n\u001b[0;32m      1\u001b[0m \u001b[0mdb\u001b[0m \u001b[1;33m=\u001b[0m \u001b[1;34m'/home/user1/Desktop/Share2Windows/RandomForestDatabase.sql'\u001b[0m\u001b[1;33m\u001b[0m\u001b[0m\n\u001b[0;32m      2\u001b[0m \u001b[0mreload\u001b[0m\u001b[1;33m(\u001b[0m\u001b[0mqimbs\u001b[0m\u001b[1;33m)\u001b[0m\u001b[1;33m\u001b[0m\u001b[0m\n\u001b[1;32m----> 3\u001b[1;33m \u001b[0mqimbs\u001b[0m\u001b[1;33m.\u001b[0m\u001b[0mDropDB\u001b[0m\u001b[1;33m(\u001b[0m\u001b[0mdb\u001b[0m\u001b[1;33m)\u001b[0m\u001b[1;33m\u001b[0m\u001b[0m\n\u001b[0m",
        "\u001b[1;32m/home/user1/PyProjects/qimb/qimbs.pyc\u001b[0m in \u001b[0;36mDropDB\u001b[1;34m(db)\u001b[0m\n\u001b[0;32m   2072\u001b[0m         \u001b[1;32mreturn\u001b[0m\u001b[1;33m\u001b[0m\u001b[0m\n\u001b[0;32m   2073\u001b[0m \u001b[1;33m\u001b[0m\u001b[0m\n\u001b[1;32m-> 2074\u001b[1;33m     \u001b[0mcur\u001b[0m \u001b[1;33m=\u001b[0m \u001b[0mcon\u001b[0m\u001b[1;33m.\u001b[0m\u001b[0mexecute\u001b[0m\u001b[1;33m(\u001b[0m\u001b[1;34m\"DELETE FROM RFdata\"\u001b[0m\u001b[1;33m)\u001b[0m\u001b[1;33m\u001b[0m\u001b[0m\n\u001b[0m\u001b[0;32m   2075\u001b[0m     \u001b[0mcon\u001b[0m\u001b[1;33m.\u001b[0m\u001b[0mcommit\u001b[0m\u001b[1;33m(\u001b[0m\u001b[1;33m)\u001b[0m\u001b[1;33m\u001b[0m\u001b[0m\n\u001b[0;32m   2076\u001b[0m     \u001b[0mcur\u001b[0m \u001b[1;33m=\u001b[0m \u001b[0mcon\u001b[0m\u001b[1;33m.\u001b[0m\u001b[0mexecute\u001b[0m\u001b[1;33m(\u001b[0m\u001b[1;34m\"DELETE FROM RFnames\"\u001b[0m\u001b[1;33m)\u001b[0m\u001b[1;33m\u001b[0m\u001b[0m\n",
        "\u001b[1;31mOperationalError\u001b[0m: no such table: RFdata"
       ]
      }
     ],
     "prompt_number": 456
    },
    {
     "cell_type": "code",
     "collapsed": false,
     "input": [
      "reload(qimbs)\n",
      "qimbs.TestData2Sql(1, X_pos,ypln_pos,db)\n",
      "qimbs.TestData2Sql(-1, X_neg,ypln_neg,db)"
     ],
     "language": "python",
     "metadata": {},
     "outputs": [
      {
       "output_type": "stream",
       "stream": "stdout",
       "text": [
        "SQLite version: 3.7.13\n",
        "SQLite version: 3.7.13"
       ]
      },
      {
       "output_type": "stream",
       "stream": "stdout",
       "text": [
        "\n"
       ]
      }
     ],
     "prompt_number": 340
    },
    {
     "cell_type": "code",
     "collapsed": false,
     "input": [
      "reload(qimbs)\n",
      "Forest2SqlClf(0.0,db,fdf,X_pos,X_neg,dates,datesDF_pos,datesDF_neg)\n",
      "Forest2SqlClf(1.0,db,fdf,X_pos,X_neg,dates,datesDF_pos,datesDF_neg)\n",
      "Forest2SqlClf(2.0,db,fdf,X_pos,X_neg,dates,datesDF_pos,datesDF_neg)\n",
      "Forest2SqlClf(3.0,db,fdf,X_pos,X_neg,dates,datesDF_pos,datesDF_neg)\n",
      "Forest2SqlClf(4.0,db,fdf,X_pos,X_neg,dates,datesDF_pos,datesDF_neg)\n",
      "Forest2SqlClf(5.0,db,fdf,X_pos,X_neg,dates,datesDF_pos,datesDF_neg)\n",
      "Forest2SqlClf(7.0,db,fdf,X_pos,X_neg,dates,datesDF_pos,datesDF_neg)\n",
      "Forest2SqlClf(9.0,db,fdf,X_pos,X_neg,dates,datesDF_pos,datesDF_neg)\n",
      "Forest2SqlClf(11.0,db,fdf,X_pos,X_neg,dates,datesDF_pos,datesDF_neg)\n",
      "Forest2SqlClf(13.0,db,fdf,X_pos,X_neg,dates,datesDF_pos,datesDF_neg)\n",
      "Forest2SqlClf(15.0,db,fdf,X_pos,X_neg,dates,datesDF_pos,datesDF_neg)\n",
      "Forest2SqlClf(17.0,db,fdf,X_pos,X_neg,dates,datesDF_pos,datesDF_neg)\n",
      "Forest2SqlClf(19.0,db,fdf,X_pos,X_neg,dates,datesDF_pos,datesDF_neg)"
     ],
     "language": "python",
     "metadata": {},
     "outputs": [
      {
       "output_type": "stream",
       "stream": "stdout",
       "text": [
        "max F_Score  0.846153846154\n",
        "SQLite version: 3.7.13\n",
        "max F_Score "
       ]
      },
      {
       "output_type": "stream",
       "stream": "stdout",
       "text": [
        " 0.894426823743\n",
        "SQLite version: 3.7.13\n",
        "f1-"
       ]
      },
      {
       "output_type": "stream",
       "stream": "stdout",
       "text": [
        " 0.846153846154  f2- 0.894426823743\n",
        "max F_Score "
       ]
      },
      {
       "output_type": "stream",
       "stream": "stdout",
       "text": [
        " 0.817913965822\n",
        "SQLite version: 3.7.13\n",
        "max F_Score "
       ]
      },
      {
       "output_type": "stream",
       "stream": "stdout",
       "text": [
        " 0.881168177241\n",
        "SQLite version: 3.7.13\n",
        "f1-"
       ]
      },
      {
       "output_type": "stream",
       "stream": "stdout",
       "text": [
        " 0.817913965822  f2- 0.881168177241\n",
        "max F_Score "
       ]
      },
      {
       "output_type": "stream",
       "stream": "stdout",
       "text": [
        " 0.794435857805\n",
        "SQLite version: 3.7.13\n",
        "max F_Score "
       ]
      },
      {
       "output_type": "stream",
       "stream": "stdout",
       "text": [
        " 0.859228362878\n",
        "SQLite version: 3.7.13\n",
        "f1-"
       ]
      },
      {
       "output_type": "stream",
       "stream": "stdout",
       "text": [
        " 0.794435857805  f2- 0.859228362878\n",
        "max F_Score "
       ]
      },
      {
       "output_type": "stream",
       "stream": "stdout",
       "text": [
        " 0.792\n",
        "SQLite version: 3.7.13\n",
        "max F_Score "
       ]
      },
      {
       "output_type": "stream",
       "stream": "stdout",
       "text": [
        " 0.836385836386\n",
        "SQLite version: 3.7.13\n",
        "f1-"
       ]
      },
      {
       "output_type": "stream",
       "stream": "stdout",
       "text": [
        " 0.792  f2- 0.836385836386\n",
        "max F_Score "
       ]
      },
      {
       "output_type": "stream",
       "stream": "stdout",
       "text": [
        " 0.765039727582\n",
        "SQLite version: 3.7.13\n",
        "max F_Score "
       ]
      },
      {
       "output_type": "stream",
       "stream": "stdout",
       "text": [
        " 0.830534351145\n",
        "SQLite version: 3.7.13\n",
        "f1-"
       ]
      },
      {
       "output_type": "stream",
       "stream": "stdout",
       "text": [
        " 0.765039727582  f2- 0.830534351145\n",
        "max F_Score "
       ]
      },
      {
       "output_type": "stream",
       "stream": "stdout",
       "text": [
        " 0.762105263158\n",
        "SQLite version: 3.7.13\n",
        "max F_Score "
       ]
      },
      {
       "output_type": "stream",
       "stream": "stdout",
       "text": [
        " 0.828665568369\n",
        "SQLite version: 3.7.13\n",
        "f1-"
       ]
      },
      {
       "output_type": "stream",
       "stream": "stdout",
       "text": [
        " 0.762105263158  f2- 0.828665568369\n",
        "max F_Score "
       ]
      },
      {
       "output_type": "stream",
       "stream": "stdout",
       "text": [
        " 0.743343982961\n",
        "SQLite version: 3.7.13\n",
        "max F_Score "
       ]
      },
      {
       "output_type": "stream",
       "stream": "stdout",
       "text": [
        " 0.798898071625\n",
        "SQLite version: 3.7.13\n",
        "f1-"
       ]
      },
      {
       "output_type": "stream",
       "stream": "stdout",
       "text": [
        " 0.743343982961  f2- 0.798898071625\n",
        "max F_Score "
       ]
      },
      {
       "output_type": "stream",
       "stream": "stdout",
       "text": [
        " 0.736677115987\n",
        "SQLite version: 3.7.13\n",
        "max F_Score "
       ]
      },
      {
       "output_type": "stream",
       "stream": "stdout",
       "text": [
        " 0.797647058824\n",
        "SQLite version: 3.7.13\n",
        "f1-"
       ]
      },
      {
       "output_type": "stream",
       "stream": "stdout",
       "text": [
        " 0.736677115987  f2- 0.797647058824\n",
        "max F_Score "
       ]
      },
      {
       "output_type": "stream",
       "stream": "stdout",
       "text": [
        " 0.705636743215\n",
        "SQLite version: 3.7.13\n",
        "max F_Score "
       ]
      },
      {
       "output_type": "stream",
       "stream": "stdout",
       "text": [
        " 0.786624203822\n",
        "SQLite version: 3.7.13\n",
        "f1-"
       ]
      },
      {
       "output_type": "stream",
       "stream": "stdout",
       "text": [
        " 0.705636743215  f2- 0.786624203822\n",
        "max F_Score "
       ]
      },
      {
       "output_type": "stream",
       "stream": "stdout",
       "text": [
        " 0.715355805243\n",
        "SQLite version: 3.7.13\n",
        "max F_Score "
       ]
      },
      {
       "output_type": "stream",
       "stream": "stdout",
       "text": [
        " 0.802985074627\n",
        "SQLite version: 3.7.13\n",
        "f1-"
       ]
      },
      {
       "output_type": "stream",
       "stream": "stdout",
       "text": [
        " 0.715355805243  f2- 0.802985074627\n",
        "max F_Score "
       ]
      },
      {
       "output_type": "stream",
       "stream": "stdout",
       "text": [
        " 0.720173535792\n",
        "SQLite version: 3.7.13\n",
        "max F_Score "
       ]
      },
      {
       "output_type": "stream",
       "stream": "stdout",
       "text": [
        " 0.789285714286\n",
        "SQLite version: 3.7.13\n",
        "f1-"
       ]
      },
      {
       "output_type": "stream",
       "stream": "stdout",
       "text": [
        " 0.720173535792  f2- 0.789285714286\n",
        "max F_Score "
       ]
      },
      {
       "output_type": "stream",
       "stream": "stdout",
       "text": [
        " 0.745098039216\n",
        "SQLite version: 3.7.13\n",
        "max F_Score "
       ]
      },
      {
       "output_type": "stream",
       "stream": "stdout",
       "text": [
        " 0.779661016949\n",
        "SQLite version: 3.7.13\n",
        "f1-"
       ]
      },
      {
       "output_type": "stream",
       "stream": "stdout",
       "text": [
        " 0.745098039216  f2- 0.779661016949\n",
        "max F_Score "
       ]
      },
      {
       "output_type": "stream",
       "stream": "stdout",
       "text": [
        " 0.715492957746\n",
        "SQLite version: 3.7.13\n",
        "max F_Score "
       ]
      },
      {
       "output_type": "stream",
       "stream": "stdout",
       "text": [
        " 0.775047258979\n",
        "SQLite version: 3.7.13\n",
        "f1-"
       ]
      },
      {
       "output_type": "stream",
       "stream": "stdout",
       "text": [
        " 0.715492957746  f2- 0.775047258979\n"
       ]
      }
     ],
     "prompt_number": 341
    },
    {
     "cell_type": "code",
     "collapsed": false,
     "input": [
      "reload(qimbs)\n",
      "Forest2SqlReg(db,fdf,X_pos,X_neg)"
     ],
     "language": "python",
     "metadata": {},
     "outputs": [
      {
       "output_type": "stream",
       "stream": "stdout",
       "text": [
        "max R2_Score  0.864478847026\n",
        "SQLite version: 3.7.13"
       ]
      },
      {
       "output_type": "stream",
       "stream": "stdout",
       "text": [
        "\n",
        "max R2_Score "
       ]
      },
      {
       "output_type": "stream",
       "stream": "stdout",
       "text": [
        " 0.989805143489\n",
        "SQLite version: 3.7.13"
       ]
      },
      {
       "output_type": "stream",
       "stream": "stdout",
       "text": [
        "\n",
        "max R2_Score "
       ]
      },
      {
       "output_type": "stream",
       "stream": "stdout",
       "text": [
        " 0.925263415131\n",
        "SQLite version: 3.7.13"
       ]
      },
      {
       "output_type": "stream",
       "stream": "stdout",
       "text": [
        "\n",
        "max R2_Score "
       ]
      },
      {
       "output_type": "stream",
       "stream": "stdout",
       "text": [
        " 0.996062500699\n",
        "SQLite version: 3.7.13"
       ]
      },
      {
       "output_type": "stream",
       "stream": "stdout",
       "text": [
        "\n"
       ]
      }
     ],
     "prompt_number": 342
    },
    {
     "cell_type": "code",
     "collapsed": false,
     "input": [
      "def Forest2SqlClf(advantage,db,df,priceRangeMin,priceRangeMax):\n",
      "    df = df[(df.priceRange>=priceRangeMin) & (df.priceRange<priceRangeMax)]\n",
      "    df.index = range(df.shape[0])\n",
      "    \n",
      "    X_p = df[df.a14>0]\n",
      "    X_p.index = range(X_p.shape[0])\n",
      "    X_p=X_p[['Ask','AskD','Near','Far','Spread',\n",
      "     'D5', 'D555', 'D66', 'V1','V1n', 'V11', 'V11n',\n",
      "     'V8','V8n','V8nn', 'a1','a4','a5']]\n",
      "\n",
      "    X_n = df[df.a14<0]\n",
      "    X_n.index = range(X_n.shape[0])\n",
      "    X_n=X_n[['Bid','BidD','Near','Far','Spread',\n",
      "     'D4',  'D444', 'D66', 'V1','V1n', 'V11',  'V11n',\n",
      "     'V8','V8n','V8nn', 'a1','a4','a5']]\n",
      "\n",
      "    y_p = df.OPC_P.copy()\n",
      "    y_p[:] = 0\n",
      "    y_p[df.OPC_P>df.Ask_P+advantage/100] = 1\n",
      "    y_p = y_pos[df.a14>0]\n",
      "    y_p.index = range(y_p.shape[0])\n",
      "\n",
      "    y_n = df.OPC_P.copy()\n",
      "    y_n[:] = 0\n",
      "    y_n[df.OPC_P<df.Bid_P-advantage/100] = 1\n",
      "    y_n = y_n[df.a14<0]\n",
      "    y_n.index = range(y_n.shape[0])\n",
      "    \n",
      "    dates = sorted(list(set(df.Date)))\n",
      "    datesDF_p = qimbs.dates_tmp_df(df[df.a14>0])\n",
      "    datesDF_n = qimbs.dates_tmp_df(df[df.a14<0])\n",
      "    \n",
      "    trainError, testError, cm, clf, fscore1 = \\\n",
      "    qimbs.run_cv_proba(X_p,y_p,RF,20,20,dates,datesDF_p)\n",
      "    qimbs.Forest2Sql(clf, X_p,0,1,advantage,fscore1,db)\n",
      "    \n",
      "    trainError, testError, cm, clf, fscore2 = \\\n",
      "    qimbs.run_cv_proba(X_n,y_n,RF,20,20,dates,datesDF_n)\n",
      "    qimbs.Forest2Sql(clf,X_n,0,-1,advantage,fscore2,db)\n",
      "    \n",
      "    print \"f1-\", fscore1, \" f2-\",fscore2"
     ],
     "language": "python",
     "metadata": {},
     "outputs": [],
     "prompt_number": 454
    },
    {
     "cell_type": "code",
     "collapsed": false,
     "input": [
      "def Forest2SqlReg(db,fdf,X_pos,X_neg):\n",
      "    #Random forest for regression\n",
      "    \n",
      "    from sklearn.ensemble import RandomForestRegressor as RFR\n",
      "    '''Xpp = X_pos.copy()\n",
      "    Xpp = Xpp[ypln_pos>0]\n",
      "    Xpp.index = range(Xpp.shape[0])\n",
      "\n",
      "    clf = RFR(min_samples_split = ypln_pos[ypln_pos>0].shape[0]*0.05)\n",
      "    clf.fit(Xpp, ypln_pos[ypln_pos>0])\n",
      "    qimbs.Forest2Txt(clf, Xpp.ix[:,:],'/home/user1/Desktop/Share2Windows/Forest/PP')\n",
      "\n",
      "    clf = GBR(min_samples_split = ypln_pos[ypln_pos>0].shape[0]*0.05, loss='huber',init='zero',learning_rate=0.1)\n",
      "    clf.fit(Xpp, ypln_pos[ypln_pos>0])\n",
      "    qimbs.Forest2Txt(clf, Xpp.ix[:,:],'/home/user1/Desktop/Share2Windows/GradientBoost/PP')'''\n",
      "\n",
      "    #------------------------------------------\n",
      "    Xpn = X_pos.copy()\n",
      "    Xpn = Xpn[ypln_pos<0]\n",
      "    Xpn.index = range(Xpn.shape[0])\n",
      "    \n",
      "    clf, r2 = run_reg(X_pos,ypln_pos,RFR,20,20,dates,datesDF_pos)\n",
      "    qimbs.Forest2Txt(clf, Xpn.ix[:,:],'/home/user1/Desktop/Share2Windows/Forest/PN')\n",
      "    qimbs.Forest2Sql(clf, Xpn.ix[:,:],1,1,0,r2,db)\n",
      "\n",
      "    clf, r2 = run_reg(X_pos,ypln_pos,GBR,20,20,dates,datesDF_pos)\n",
      "    qimbs.Forest2Txt(clf, Xpn.ix[:,:],'/home/user1/Desktop/Share2Windows/GradientBoost/PN')\n",
      "    qimbs.Forest2Sql(clf, Xpn.ix[:,:],1,1,0,r2,db)\n",
      "\n",
      "    #------------------------------------------\n",
      "    '''Xnp = X_neg.copy()\n",
      "    Xnp = Xnp[ypln_neg>0]\n",
      "    Xnp.index = range(Xnp.shape[0])\n",
      "\n",
      "    clf = RFR(min_samples_split = ypln_neg[ypln_neg>0].shape[0]*0.05)\n",
      "    clf.fit(Xnp, ypln_neg[ypln_neg>0])\n",
      "    qimbs.Forest2Txt(clf, Xnp.ix[:,:],'/home/user1/Desktop/Share2Windows/Forest/NP')\n",
      "\n",
      "    clf = GBR(min_samples_split = ypln_neg[ypln_neg>0].shape[0]*0.05, loss='huber',init='zero',learning_rate=0.1)\n",
      "    clf.fit(Xnp, ypln_neg[ypln_neg>0])\n",
      "    qimbs.Forest2Txt(clf, Xnp.ix[:,:],'/home/user1/Desktop/Share2Windows/GradientBoost/NP')'''\n",
      "\n",
      "    #------------------------------------------\n",
      "    Xnn = X_neg.copy()\n",
      "    Xnn = Xnn[ypln_neg<0]\n",
      "    Xnn.index = range(Xnn.shape[0])\n",
      "\n",
      "    clf, r2 = run_reg(X_neg,ypln_neg,RFR,20,20,dates,datesDF_neg)\n",
      "    qimbs.Forest2Txt(clf, Xnn.ix[:,:],'/home/user1/Desktop/Share2Windows/Forest/NN')\n",
      "    qimbs.Forest2Sql(clf, Xnn.ix[:,:],1,-1,0,r2,db)\n",
      "\n",
      "    clf, r2 = run_reg(X_neg,ypln_neg,GBR,20,20,dates,datesDF_neg)\n",
      "    qimbs.Forest2Txt(clf, Xnn.ix[:,:],'/home/user1/Desktop/Share2Windows/GradientBoost/NN')\n",
      "    qimbs.Forest2Sql(clf, Xnn.ix[:,:],1,-1,0,r2,db)"
     ],
     "language": "python",
     "metadata": {},
     "outputs": [],
     "prompt_number": 218
    }
   ],
   "metadata": {}
  }
 ]
}