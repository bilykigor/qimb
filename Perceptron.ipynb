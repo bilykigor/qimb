{
 "metadata": {
  "name": "",
  "signature": "sha256:fc03092c42f8773998198456ec0315649e8fe396996ee748558219a17ffe9698"
 },
 "nbformat": 3,
 "nbformat_minor": 0,
 "worksheets": [
  {
   "cells": [
    {
     "cell_type": "code",
     "collapsed": false,
     "input": [
      "import numpy as np\n",
      "import random\n",
      "import os, subprocess\n",
      " \n",
      "class Perceptron:\n",
      "    def __init__(self, N, G=None):\n",
      "        # Random linearly separated data\n",
      "        xA,yA,xB,yB = [random.uniform(-1, 1) for i in range(4)]\n",
      "        self.V = np.array([xB*yA-xA*yB, yB-yA, xA-xB])\n",
      "        if G==None:\n",
      "            G = lambda x: int(np.sign(self.V.T.dot(x)))            \n",
      "        self.G = G\n",
      "        self.X,self.onlyX, self.y = self.generate_points(N)\n",
      "        self.N = N\n",
      "        \n",
      " \n",
      "    def generate_points(self, N, F=None):\n",
      "        X = []\n",
      "        onlyX = np.zeros((N,3))\n",
      "        y = np.zeros(N)\n",
      "        for i in range(N):\n",
      "            x1,x2 = [random.uniform(-1, 1) for j in range(2)]\n",
      "            x = np.array([1,x1,x2])\n",
      "            \n",
      "            if (F==None):\n",
      "                F = self.G\n",
      "                \n",
      "            targetF=F(x)\n",
      "              \n",
      "            #Randomise    \n",
      "            #if (rand(1)>0.9):\n",
      "            #    targetF=-targetF\n",
      "                \n",
      "            onlyX[i,:]=x\n",
      "            y[i]=targetF            \n",
      "            X.append((x, targetF))\n",
      "            \n",
      "        return X, onlyX, y\n",
      "    \n",
      "    def transformX(self,newDim,F):\n",
      "        transformedX = np.zeros((self.N,newDim))\n",
      "        for i in range(self.N):\n",
      "            transformedX[i,:]=F(self.onlyX[i,:])\n",
      "        return transformedX\n",
      " \n",
      "    def plot(self, mispts=None, vec=None, save=False):\n",
      "        fig = plt.figure(figsize=(5,5))\n",
      "        plt.xlim(-1,1)\n",
      "        plt.ylim(-1,1)\n",
      "        V = self.V\n",
      "        a, b = -V[1]/V[2], -V[0]/V[2]\n",
      "        l = np.linspace(-1,1)\n",
      "        plt.plot(l, a*l+b, 'k-')\n",
      "        cols = {1: 'r', -1: 'b'}\n",
      "        for x,s in self.X:\n",
      "            plt.plot(x[1], x[2], cols[s]+'o')\n",
      "        if mispts:\n",
      "            for x,s in mispts:\n",
      "                plt.plot(x[1], x[2], cols[s]+'.')\n",
      "        if vec != None:\n",
      "            aa, bb = -vec[1]/vec[2], -vec[0]/vec[2]\n",
      "            plt.plot(l, aa*l+bb, 'g-', lw=2)\n",
      "        if save:\n",
      "            if not mispts:\n",
      "                plt.title('N = %s' % (str(len(self.X))))\n",
      "            else:\n",
      "                plt.title('N = %s with %s test points' \\\n",
      "                          % (str(len(self.X)),str(len(mispts))))\n",
      "            plt.savefig('p_N%s' % (str(len(self.X))), \\\n",
      "                        dpi=200, bbox_inches='tight')\n",
      " \n",
      "    def classification_error(self, F=None, pts=None):\n",
      "        # Error defined as fraction of misclassified points\n",
      "        if not pts:\n",
      "            pts = self.X\n",
      "        M = len(pts)\n",
      "        n_mispts = 0\n",
      "        if (F==None):\n",
      "            F = self.G\n",
      "            \n",
      "        for x,s in pts:\n",
      "            if F(x) != s:\n",
      "                n_mispts += 1\n",
      "        error = n_mispts / float(M)\n",
      "        return error\n",
      " \n",
      "    def choose_miscl_point(self, vec):\n",
      "        # Choose a random point among the misclassified\n",
      "        pts = self.X\n",
      "        mispts = []\n",
      "        for x,s in pts:\n",
      "            if int(np.sign(vec.T.dot(x))) != s:\n",
      "                mispts.append((x, s))\n",
      "        return mispts[random.randrange(0,len(mispts))]\n",
      " \n",
      "    def pla(self, save=False, w = np.zeros(3)):\n",
      "        # Initialize the weigths to zeros\n",
      "        #w = np.zeros(3)\n",
      "        X, N = self.X, len(self.X)\n",
      "        it = 0\n",
      "        # Iterate until all points are correctly classified\n",
      "        F = lambda x: int(np.sign(w.T.dot(x)))\n",
      "        while self.classification_error(F) != 0:\n",
      "            it += 1\n",
      "            # Pick random misclassified point\n",
      "            x, s = self.choose_miscl_point(w)\n",
      "            # Update weights\n",
      "            w += s*x\n",
      "            if save:\n",
      "                self.plot(vec=w)\n",
      "                plt.title('N = %s, Iteration %s\\n' \\\n",
      "                          % (str(N),str(it)))\n",
      "                plt.savefig('p_N%s_it%s' % (str(N),str(it)), \\\n",
      "                            dpi=200, bbox_inches='tight')\n",
      "        self.it=it\n",
      "        self.w = w\n",
      "        \n",
      "    def regress(self, onlyX=None):\n",
      "        if onlyX==None:\n",
      "            self.rw = (linalg.inv(matrix(self.onlyX.T)*matrix(self.onlyX))*matrix(self.onlyX.T))*\\\n",
      "            matrix(self.y).T\n",
      "        else:\n",
      "            return (linalg.inv(matrix(onlyX.T)*matrix(onlyX))*matrix(onlyX.T))*matrix(self.y).T\n",
      " \n",
      "    def check_error(self, M, vec):\n",
      "        check_pts = self.generate_points(M)\n",
      "        return self.classification_error(vec, pts=check_pts)"
     ],
     "language": "python",
     "metadata": {},
     "outputs": [],
     "prompt_number": 16
    },
    {
     "cell_type": "code",
     "collapsed": false,
     "input": [
      "p = Perceptron(100)\n",
      "p.plot()\n",
      "p.pla()"
     ],
     "language": "python",
     "metadata": {},
     "outputs": [
      {
       "metadata": {},
       "output_type": "display_data",
       "png": "[encoded data removed]",
       "text": [
        "<matplotlib.figure.Figure at 0x3ab0390>"
       ]
      }
     ],
     "prompt_number": 77
    },
    {
     "cell_type": "code",
     "collapsed": false,
     "input": [
      "for k in range(10):\n",
      "    i = randint(len(p.X))\n",
      "    tmp = p.X[i]\n",
      "    tmp = (tmp[0],-tmp[1])\n",
      "    p.X[i] = tmp\n",
      "    p.pla()\n",
      "    print p.classification_error()\n",
      "    tmp = p.X[i]\n",
      "    tmp = (tmp[0],-tmp[1])\n",
      "    p.X[i] = tmp"
     ],
     "language": "python",
     "metadata": {},
     "outputs": [
      {
       "ename": "KeyboardInterrupt",
       "evalue": "",
       "output_type": "pyerr",
       "traceback": [
        "\u001b[1;31m---------------------------------------------------------------------------\u001b[0m\n\u001b[1;31mKeyboardInterrupt\u001b[0m                         Traceback (most recent call last)",
        "\u001b[1;32m<ipython-input-76-44102a2433f5>\u001b[0m in \u001b[0;36m<module>\u001b[1;34m()\u001b[0m\n\u001b[0;32m      4\u001b[0m     \u001b[0mtmp\u001b[0m \u001b[1;33m=\u001b[0m \u001b[1;33m(\u001b[0m\u001b[0mtmp\u001b[0m\u001b[1;33m[\u001b[0m\u001b[1;36m0\u001b[0m\u001b[1;33m]\u001b[0m\u001b[1;33m,\u001b[0m\u001b[1;33m-\u001b[0m\u001b[0mtmp\u001b[0m\u001b[1;33m[\u001b[0m\u001b[1;36m1\u001b[0m\u001b[1;33m]\u001b[0m\u001b[1;33m)\u001b[0m\u001b[1;33m\u001b[0m\u001b[0m\n\u001b[0;32m      5\u001b[0m     \u001b[0mp\u001b[0m\u001b[1;33m.\u001b[0m\u001b[0mX\u001b[0m\u001b[1;33m[\u001b[0m\u001b[0mi\u001b[0m\u001b[1;33m]\u001b[0m \u001b[1;33m=\u001b[0m \u001b[0mtmp\u001b[0m\u001b[1;33m\u001b[0m\u001b[0m\n\u001b[1;32m----> 6\u001b[1;33m     \u001b[0mp\u001b[0m\u001b[1;33m.\u001b[0m\u001b[0mpla\u001b[0m\u001b[1;33m(\u001b[0m\u001b[1;33m)\u001b[0m\u001b[1;33m\u001b[0m\u001b[0m\n\u001b[0m\u001b[0;32m      7\u001b[0m     \u001b[1;32mprint\u001b[0m \u001b[0mp\u001b[0m\u001b[1;33m.\u001b[0m\u001b[0mclassification_error\u001b[0m\u001b[1;33m(\u001b[0m\u001b[1;33m)\u001b[0m\u001b[1;33m\u001b[0m\u001b[0m\n\u001b[0;32m      8\u001b[0m     \u001b[0mtmp\u001b[0m \u001b[1;33m=\u001b[0m \u001b[0mp\u001b[0m\u001b[1;33m.\u001b[0m\u001b[0mX\u001b[0m\u001b[1;33m[\u001b[0m\u001b[0mi\u001b[0m\u001b[1;33m]\u001b[0m\u001b[1;33m\u001b[0m\u001b[0m\n",
        "\u001b[1;32m<ipython-input-16-20309eca8a56>\u001b[0m in \u001b[0;36mpla\u001b[1;34m(self, save, w)\u001b[0m\n\u001b[0;32m    104\u001b[0m             \u001b[0mx\u001b[0m\u001b[1;33m,\u001b[0m \u001b[0ms\u001b[0m \u001b[1;33m=\u001b[0m \u001b[0mself\u001b[0m\u001b[1;33m.\u001b[0m\u001b[0mchoose_miscl_point\u001b[0m\u001b[1;33m(\u001b[0m\u001b[0mw\u001b[0m\u001b[1;33m)\u001b[0m\u001b[1;33m\u001b[0m\u001b[0m\n\u001b[0;32m    105\u001b[0m             \u001b[1;31m# Update weights\u001b[0m\u001b[1;33m\u001b[0m\u001b[1;33m\u001b[0m\u001b[0m\n\u001b[1;32m--> 106\u001b[1;33m             \u001b[0mw\u001b[0m \u001b[1;33m+=\u001b[0m \u001b[0ms\u001b[0m\u001b[1;33m*\u001b[0m\u001b[0mx\u001b[0m\u001b[1;33m\u001b[0m\u001b[0m\n\u001b[0m\u001b[0;32m    107\u001b[0m             \u001b[1;32mif\u001b[0m \u001b[0msave\u001b[0m\u001b[1;33m:\u001b[0m\u001b[1;33m\u001b[0m\u001b[0m\n\u001b[0;32m    108\u001b[0m                 \u001b[0mself\u001b[0m\u001b[1;33m.\u001b[0m\u001b[0mplot\u001b[0m\u001b[1;33m(\u001b[0m\u001b[0mvec\u001b[0m\u001b[1;33m=\u001b[0m\u001b[0mw\u001b[0m\u001b[1;33m)\u001b[0m\u001b[1;33m\u001b[0m\u001b[0m\n",
        "\u001b[1;31mKeyboardInterrupt\u001b[0m: "
       ]
      }
     ],
     "prompt_number": 76
    },
    {
     "cell_type": "code",
     "collapsed": false,
     "input": [
      "i = randint(len(p.X))"
     ],
     "language": "python",
     "metadata": {},
     "outputs": [],
     "prompt_number": 79
    },
    {
     "cell_type": "code",
     "collapsed": false,
     "input": [
      "i"
     ],
     "language": "python",
     "metadata": {},
     "outputs": [
      {
       "metadata": {},
       "output_type": "pyout",
       "prompt_number": 80,
       "text": [
        "61"
       ]
      }
     ],
     "prompt_number": 80
    },
    {
     "cell_type": "code",
     "collapsed": false,
     "input": [
      "tmp = p.X[i]\n",
      "tmp = (tmp[0],-tmp[1])\n",
      "p.X[i] = tmp"
     ],
     "language": "python",
     "metadata": {},
     "outputs": [],
     "prompt_number": 81
    },
    {
     "cell_type": "code",
     "collapsed": false,
     "input": [
      "p.pla()"
     ],
     "language": "python",
     "metadata": {},
     "outputs": [
      {
       "ename": "KeyboardInterrupt",
       "evalue": "",
       "output_type": "pyerr",
       "traceback": [
        "\u001b[1;31m---------------------------------------------------------------------------\u001b[0m\n\u001b[1;31mKeyboardInterrupt\u001b[0m                         Traceback (most recent call last)",
        "\u001b[1;32m<ipython-input-82-b243f1380a12>\u001b[0m in \u001b[0;36m<module>\u001b[1;34m()\u001b[0m\n\u001b[1;32m----> 1\u001b[1;33m \u001b[0mp\u001b[0m\u001b[1;33m.\u001b[0m\u001b[0mpla\u001b[0m\u001b[1;33m(\u001b[0m\u001b[1;33m)\u001b[0m\u001b[1;33m\u001b[0m\u001b[0m\n\u001b[0m",
        "\u001b[1;32m<ipython-input-16-20309eca8a56>\u001b[0m in \u001b[0;36mpla\u001b[1;34m(self, save, w)\u001b[0m\n\u001b[0;32m    102\u001b[0m             \u001b[0mit\u001b[0m \u001b[1;33m+=\u001b[0m \u001b[1;36m1\u001b[0m\u001b[1;33m\u001b[0m\u001b[0m\n\u001b[0;32m    103\u001b[0m             \u001b[1;31m# Pick random misclassified point\u001b[0m\u001b[1;33m\u001b[0m\u001b[1;33m\u001b[0m\u001b[0m\n\u001b[1;32m--> 104\u001b[1;33m             \u001b[0mx\u001b[0m\u001b[1;33m,\u001b[0m \u001b[0ms\u001b[0m \u001b[1;33m=\u001b[0m \u001b[0mself\u001b[0m\u001b[1;33m.\u001b[0m\u001b[0mchoose_miscl_point\u001b[0m\u001b[1;33m(\u001b[0m\u001b[0mw\u001b[0m\u001b[1;33m)\u001b[0m\u001b[1;33m\u001b[0m\u001b[0m\n\u001b[0m\u001b[0;32m    105\u001b[0m             \u001b[1;31m# Update weights\u001b[0m\u001b[1;33m\u001b[0m\u001b[1;33m\u001b[0m\u001b[0m\n\u001b[0;32m    106\u001b[0m             \u001b[0mw\u001b[0m \u001b[1;33m+=\u001b[0m \u001b[0ms\u001b[0m\u001b[1;33m*\u001b[0m\u001b[0mx\u001b[0m\u001b[1;33m\u001b[0m\u001b[0m\n",
        "\u001b[1;32m<ipython-input-16-20309eca8a56>\u001b[0m in \u001b[0;36mchoose_miscl_point\u001b[1;34m(self, vec)\u001b[0m\n\u001b[0;32m     88\u001b[0m         \u001b[0mmispts\u001b[0m \u001b[1;33m=\u001b[0m \u001b[1;33m[\u001b[0m\u001b[1;33m]\u001b[0m\u001b[1;33m\u001b[0m\u001b[0m\n\u001b[0;32m     89\u001b[0m         \u001b[1;32mfor\u001b[0m \u001b[0mx\u001b[0m\u001b[1;33m,\u001b[0m\u001b[0ms\u001b[0m \u001b[1;32min\u001b[0m \u001b[0mpts\u001b[0m\u001b[1;33m:\u001b[0m\u001b[1;33m\u001b[0m\u001b[0m\n\u001b[1;32m---> 90\u001b[1;33m             \u001b[1;32mif\u001b[0m \u001b[0mint\u001b[0m\u001b[1;33m(\u001b[0m\u001b[0mnp\u001b[0m\u001b[1;33m.\u001b[0m\u001b[0msign\u001b[0m\u001b[1;33m(\u001b[0m\u001b[0mvec\u001b[0m\u001b[1;33m.\u001b[0m\u001b[0mT\u001b[0m\u001b[1;33m.\u001b[0m\u001b[0mdot\u001b[0m\u001b[1;33m(\u001b[0m\u001b[0mx\u001b[0m\u001b[1;33m)\u001b[0m\u001b[1;33m)\u001b[0m\u001b[1;33m)\u001b[0m \u001b[1;33m!=\u001b[0m \u001b[0ms\u001b[0m\u001b[1;33m:\u001b[0m\u001b[1;33m\u001b[0m\u001b[0m\n\u001b[0m\u001b[0;32m     91\u001b[0m                 \u001b[0mmispts\u001b[0m\u001b[1;33m.\u001b[0m\u001b[0mappend\u001b[0m\u001b[1;33m(\u001b[0m\u001b[1;33m(\u001b[0m\u001b[0mx\u001b[0m\u001b[1;33m,\u001b[0m \u001b[0ms\u001b[0m\u001b[1;33m)\u001b[0m\u001b[1;33m)\u001b[0m\u001b[1;33m\u001b[0m\u001b[0m\n\u001b[0;32m     92\u001b[0m         \u001b[1;32mreturn\u001b[0m \u001b[0mmispts\u001b[0m\u001b[1;33m[\u001b[0m\u001b[0mrandom\u001b[0m\u001b[1;33m.\u001b[0m\u001b[0mrandrange\u001b[0m\u001b[1;33m(\u001b[0m\u001b[1;36m0\u001b[0m\u001b[1;33m,\u001b[0m\u001b[0mlen\u001b[0m\u001b[1;33m(\u001b[0m\u001b[0mmispts\u001b[0m\u001b[1;33m)\u001b[0m\u001b[1;33m)\u001b[0m\u001b[1;33m]\u001b[0m\u001b[1;33m\u001b[0m\u001b[0m\n",
        "\u001b[1;31mKeyboardInterrupt\u001b[0m: "
       ]
      }
     ],
     "prompt_number": 82
    },
    {
     "cell_type": "code",
     "collapsed": false,
     "input": [
      "print p.classification_error()\n",
      "tmp = p.X[i]\n",
      "tmp = (tmp[0],-tmp[1])\n",
      "p.X[i] = tmp"
     ],
     "language": "python",
     "metadata": {},
     "outputs": [
      {
       "ename": "TypeError",
       "evalue": "'list' object is not callable",
       "output_type": "pyerr",
       "traceback": [
        "\u001b[1;31m---------------------------------------------------------------------------\u001b[0m\n\u001b[1;31mTypeError\u001b[0m                                 Traceback (most recent call last)",
        "\u001b[1;32m<ipython-input-66-cb04a3b7337a>\u001b[0m in \u001b[0;36m<module>\u001b[1;34m()\u001b[0m\n\u001b[1;32m----> 1\u001b[1;33m \u001b[0mp\u001b[0m\u001b[1;33m.\u001b[0m\u001b[0mclassification_error\u001b[0m\u001b[1;33m(\u001b[0m\u001b[0mnewX\u001b[0m\u001b[1;33m)\u001b[0m\u001b[1;33m\u001b[0m\u001b[0m\n\u001b[0m",
        "\u001b[1;32m<ipython-input-16-20309eca8a56>\u001b[0m in \u001b[0;36mclassification_error\u001b[1;34m(self, F, pts)\u001b[0m\n\u001b[0;32m     78\u001b[0m \u001b[1;33m\u001b[0m\u001b[0m\n\u001b[0;32m     79\u001b[0m         \u001b[1;32mfor\u001b[0m \u001b[0mx\u001b[0m\u001b[1;33m,\u001b[0m\u001b[0ms\u001b[0m \u001b[1;32min\u001b[0m \u001b[0mpts\u001b[0m\u001b[1;33m:\u001b[0m\u001b[1;33m\u001b[0m\u001b[0m\n\u001b[1;32m---> 80\u001b[1;33m             \u001b[1;32mif\u001b[0m \u001b[0mF\u001b[0m\u001b[1;33m(\u001b[0m\u001b[0mx\u001b[0m\u001b[1;33m)\u001b[0m \u001b[1;33m!=\u001b[0m \u001b[0ms\u001b[0m\u001b[1;33m:\u001b[0m\u001b[1;33m\u001b[0m\u001b[0m\n\u001b[0m\u001b[0;32m     81\u001b[0m                 \u001b[0mn_mispts\u001b[0m \u001b[1;33m+=\u001b[0m \u001b[1;36m1\u001b[0m\u001b[1;33m\u001b[0m\u001b[0m\n\u001b[0;32m     82\u001b[0m         \u001b[0merror\u001b[0m \u001b[1;33m=\u001b[0m \u001b[0mn_mispts\u001b[0m \u001b[1;33m/\u001b[0m \u001b[0mfloat\u001b[0m\u001b[1;33m(\u001b[0m\u001b[0mM\u001b[0m\u001b[1;33m)\u001b[0m\u001b[1;33m\u001b[0m\u001b[0m\n",
        "\u001b[1;31mTypeError\u001b[0m: 'list' object is not callable"
       ]
      }
     ],
     "prompt_number": 66
    },
    {
     "cell_type": "code",
     "collapsed": false,
     "input": [
      "print p.classification_error()"
     ],
     "language": "python",
     "metadata": {},
     "outputs": [
      {
       "output_type": "stream",
       "stream": "stdout",
       "text": [
        "0.0\n"
       ]
      }
     ],
     "prompt_number": 78
    },
    {
     "cell_type": "code",
     "collapsed": false,
     "input": [
      "type(newX[0])"
     ],
     "language": "python",
     "metadata": {},
     "outputs": [
      {
       "metadata": {},
       "output_type": "pyout",
       "prompt_number": 71,
       "text": [
        "tuple"
       ]
      }
     ],
     "prompt_number": 71
    },
    {
     "cell_type": "code",
     "collapsed": false,
     "input": [
      "res = np.zeros(1000)\n",
      "for i in range(1000):\n",
      "    p = Perceptron(100)\n",
      "    p.regress()\n",
      "    G = lambda x: int(np.sign(p.rw.T.dot(x))) \n",
      "    res[i]=p.classification_error(G)\n",
      "print res.mean()"
     ],
     "language": "python",
     "metadata": {},
     "outputs": [
      {
       "output_type": "stream",
       "stream": "stdout",
       "text": [
        "0.03855\n"
       ]
      }
     ],
     "prompt_number": 347
    },
    {
     "cell_type": "code",
     "collapsed": false,
     "input": [
      "p.plot()"
     ],
     "language": "python",
     "metadata": {},
     "outputs": [
      {
       "metadata": {},
       "output_type": "display_data",
       "png": "[encoded data removed]",
       "text": [
        "<matplotlib.figure.Figure at 0x7f105d6de090>"
       ]
      }
     ],
     "prompt_number": 348
    },
    {
     "cell_type": "code",
     "collapsed": false,
     "input": [
      "rw = p.rw\n",
      "G = lambda x: int(np.sign(rw.T.dot(x))) \n",
      "pG = p.G"
     ],
     "language": "python",
     "metadata": {},
     "outputs": [],
     "prompt_number": 349
    },
    {
     "cell_type": "code",
     "collapsed": false,
     "input": [
      "p.classification_error(G)"
     ],
     "language": "python",
     "metadata": {},
     "outputs": [
      {
       "metadata": {},
       "output_type": "pyout",
       "prompt_number": 350,
       "text": [
        "0.02"
       ]
      }
     ],
     "prompt_number": 350
    },
    {
     "cell_type": "code",
     "collapsed": false,
     "input": [
      "p.classification_error(pG)"
     ],
     "language": "python",
     "metadata": {},
     "outputs": [
      {
       "metadata": {},
       "output_type": "pyout",
       "prompt_number": 351,
       "text": [
        "0.0"
       ]
      }
     ],
     "prompt_number": 351
    },
    {
     "cell_type": "code",
     "collapsed": false,
     "input": [
      "p = Perceptron(1000,pG)\n",
      "p.plot()"
     ],
     "language": "python",
     "metadata": {},
     "outputs": [
      {
       "metadata": {},
       "output_type": "display_data",
       "png": "[encoded data removed]",
       "text": [
        "<matplotlib.figure.Figure at 0x5f43a50>"
       ]
      }
     ],
     "prompt_number": 356
    },
    {
     "cell_type": "code",
     "collapsed": false,
     "input": [
      "p.classification_error(G)"
     ],
     "language": "python",
     "metadata": {},
     "outputs": [
      {
       "metadata": {},
       "output_type": "pyout",
       "prompt_number": 357,
       "text": [
        "0.056"
       ]
      }
     ],
     "prompt_number": 357
    },
    {
     "cell_type": "code",
     "collapsed": false,
     "input": [
      "res = np.zeros(1000)\n",
      "for i in range(1000):\n",
      "    p = Perceptron(1000,pG)\n",
      "    res[i]=p.classification_error(G)\n",
      "print res.mean()"
     ],
     "language": "python",
     "metadata": {},
     "outputs": [
      {
       "output_type": "stream",
       "stream": "stdout",
       "text": [
        "0.046884\n"
       ]
      }
     ],
     "prompt_number": 359
    },
    {
     "cell_type": "code",
     "collapsed": false,
     "input": [
      "a=np.array([0,0.001,0.01,0.1,0.5])"
     ],
     "language": "python",
     "metadata": {},
     "outputs": [],
     "prompt_number": 361
    },
    {
     "cell_type": "code",
     "collapsed": false,
     "input": [
      "argmin(np.abs(a-0.046884))"
     ],
     "language": "python",
     "metadata": {},
     "outputs": [
      {
       "metadata": {},
       "output_type": "pyout",
       "prompt_number": 363,
       "text": [
        "2"
       ]
      }
     ],
     "prompt_number": 363
    },
    {
     "cell_type": "code",
     "collapsed": false,
     "input": [
      "res = np.zeros(1000)\n",
      "for i in range(1000):\n",
      "    p = Perceptron(10)\n",
      "    p.regress()\n",
      "    p.pla(w=np.array(p.RV.ravel())[0])\n",
      "    res[i]=p.it\n",
      "print res.mean()"
     ],
     "language": "python",
     "metadata": {},
     "outputs": [
      {
       "output_type": "stream",
       "stream": "stdout",
       "text": [
        "4.37\n"
       ]
      }
     ],
     "prompt_number": 136
    },
    {
     "cell_type": "code",
     "collapsed": false,
     "input": [
      "abs(a).argmin()"
     ],
     "language": "python",
     "metadata": {},
     "outputs": [
      {
       "metadata": {},
       "output_type": "pyout",
       "prompt_number": 153,
       "text": [
        "3"
       ]
      }
     ],
     "prompt_number": 153
    },
    {
     "cell_type": "code",
     "collapsed": false,
     "input": [
      "res = np.zeros(1000)\n",
      "for i in range(1000):\n",
      "    p = Perceptron(1000)\n",
      "    p.regress()\n",
      "    res[i]=p.classification_error(p.rw)\n",
      "print res.mean()"
     ],
     "language": "python",
     "metadata": {},
     "outputs": [
      {
       "output_type": "stream",
       "stream": "stdout",
       "text": [
        "0.505258\n"
       ]
      }
     ],
     "prompt_number": 180
    },
    {
     "cell_type": "code",
     "collapsed": false,
     "input": [
      "\n",
      "  "
     ],
     "language": "python",
     "metadata": {},
     "outputs": [],
     "prompt_number": 289
    },
    {
     "cell_type": "code",
     "collapsed": false,
     "input": [
      "p.classification_error(RegressF)"
     ],
     "language": "python",
     "metadata": {},
     "outputs": [
      {
       "metadata": {},
       "output_type": "pyout",
       "prompt_number": 302,
       "text": [
        "0.0"
       ]
      }
     ],
     "prompt_number": 302
    },
    {
     "cell_type": "code",
     "collapsed": false,
     "input": [],
     "language": "python",
     "metadata": {},
     "outputs": [],
     "prompt_number": 301
    },
    {
     "cell_type": "code",
     "collapsed": false,
     "input": [],
     "language": "python",
     "metadata": {},
     "outputs": [],
     "prompt_number": 305
    },
    {
     "cell_type": "code",
     "collapsed": false,
     "input": [],
     "language": "python",
     "metadata": {},
     "outputs": [
      {
       "metadata": {},
       "output_type": "pyout",
       "prompt_number": 304,
       "text": [
        "0.09"
       ]
      }
     ],
     "prompt_number": 304
    },
    {
     "cell_type": "code",
     "collapsed": false,
     "input": [
      "G = lambda x: int(np.sign(x[1]*x[1]+x[2]*x[2]-0.6))\n",
      "Tranformation = lambda x: [1,x[1],x[2],x[1]*x[2],x[1]*x[1],x[2]*x[2]]\n",
      "\n",
      "ga = lambda x: int(np.sign(-1 - 0.05*x[1]+0.08*x[2]+0.13*x[1]*x[2]+1.5*(x[1]*x[1]+x[2]*x[2])))\n",
      "gb = lambda x: int(np.sign(-1 - 0.05*x[1]+0.08*x[2]+0.13*x[1]*x[2]+1.5*(x[1]*x[1]+10*x[2]*x[2])))\n",
      "gc = lambda x: int(np.sign(-1 - 0.05*x[1]+0.08*x[2]+0.13*x[1]*x[2]+1.5*(10*x[1]*x[1]+x[2]*x[2])))\n",
      "gd = lambda x: int(np.sign(-1 - 1.5*x[1]+0.08*x[2]+0.13*x[1]*x[2]+0.05*(x[1]*x[1]+x[2]*x[2])))\n",
      "ge = lambda x: int(np.sign(-1 - 0.05*x[1]+1.5*x[2]+0.13*x[1]*x[2]+0.15*(x[1]*x[1]+x[2]*x[2])))"
     ],
     "language": "python",
     "metadata": {},
     "outputs": [],
     "prompt_number": 309
    },
    {
     "cell_type": "code",
     "collapsed": false,
     "input": [
      "res = np.zeros((10,5))\n",
      "for i in range(10):\n",
      "    p = Perceptron(1000,G)\n",
      "    RegressF = lambda x: int(np.sign(p.regress(p.transformX(6,Tranformation)).T.dot(Tranformation(x))))\n",
      "    for j in range(p.N):\n",
      "        p.X[j]=(p.X[j][0],RegressF(Tranformation(p.X[j][0])))\n",
      "    res[i,:]=[p.classification_error(ga),p.classification_error(gb),p.classification_error(gc),\\\n",
      "              p.classification_error(gd),p.classification_error(ge)]"
     ],
     "language": "python",
     "metadata": {},
     "outputs": [],
     "prompt_number": 316
    },
    {
     "cell_type": "code",
     "collapsed": false,
     "input": [
      "res.mean(axis=0)"
     ],
     "language": "python",
     "metadata": {},
     "outputs": [
      {
       "metadata": {},
       "output_type": "pyout",
       "prompt_number": 320,
       "text": [
        "array([ 0.0352,  0.3248,  0.3354,  0.3684,  0.3634])"
       ]
      }
     ],
     "prompt_number": 320
    },
    {
     "cell_type": "code",
     "collapsed": false,
     "input": [
      "res = np.zeros(100)\n",
      "for i in range(100):\n",
      "    p = Perceptron(1000,G)\n",
      "    res[i]=p.classification_error(ga)\n",
      "print res.mean()"
     ],
     "language": "python",
     "metadata": {},
     "outputs": [
      {
       "output_type": "stream",
       "stream": "stdout",
       "text": [
        "0.14349\n"
       ]
      }
     ],
     "prompt_number": 328
    },
    {
     "cell_type": "code",
     "collapsed": false,
     "input": [],
     "language": "python",
     "metadata": {},
     "outputs": []
    }
   ],
   "metadata": {}
  }
 ]
}