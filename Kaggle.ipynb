{
 "metadata": {
  "name": "",
  "signature": "sha256:8276ee2ccd016f8e95fbb3ea03b2f28913fc90bb009ca97edb75dce0339bc0c7"
 },
 "nbformat": 3,
 "nbformat_minor": 0,
 "worksheets": [
  {
   "cells": [
    {
     "cell_type": "code",
     "collapsed": false,
     "input": [
      "import qimbs \n",
      "import numpy as np\n",
      "import pandas as pd\n",
      "from ggplot import *\n",
      "from sklearn.preprocessing import PolynomialFeatures\n",
      "import os"
     ],
     "language": "python",
     "metadata": {},
     "outputs": [],
     "prompt_number": 1
    },
    {
     "cell_type": "code",
     "collapsed": false,
     "input": [
      "class Trip:\n",
      "    driverID = -1\n",
      "    ID = -1\n",
      "    coordinates=None\n",
      "    fullPath=''\n",
      "    speed = None\n",
      "    acceleration = None\n",
      "    tripLen = 0\n",
      "    tripDuration = 0\n",
      "    maxAcc = 36\n",
      "    maxCentracc = 50\n",
      "    n=0\n",
      "    \n",
      "    def __init__(self,dID,fName,df):\n",
      "        self.driverID = dID\n",
      "        self.fullPath = fName\n",
      "        self.coordinates = df\n",
      "        self.n = df.shape[0]\n",
      "        self.ID = int(fName.split('/')[-1].split('.')[0])\n",
      "        self.RemoveDirectionOutliers()\n",
      "        self.getSpeed()\n",
      "        #self.RemoveSpeedOutliers()\n",
      "        self.getAcceleration()\n",
      "        #self.getCenrtAcceleration()\n",
      "        \n",
      "    def getTripLen(self):\n",
      "        n = self.coordinates.shape[0]\n",
      "        self.tripDuration = (n-1)/60\n",
      "        l = 0.0\n",
      "        for i in range(1,n):\n",
      "            l+=self.Distance(self.coordinates.x[i],self.coordinates.y[i],self.coordinates.x[i-1],self.coordinates.y[i-1])\n",
      "        self.tripLen = l\n",
      "    \n",
      "    def getSpeed(self):\n",
      "        n = self.coordinates.shape[0]\n",
      "        l = 0.0\n",
      "        self.speed = pd.DataFrame(np.zeros((n-1,2)))\n",
      "        self.speed.columns = ['ind','km_h']\n",
      "        self.speed.ind = range(n-1)\n",
      "        for i in range(n-1):\n",
      "            self.speed.km_h[i] = 3.6*self.Distance(self.coordinates.x[i+1],self.coordinates.y[i+1],\\\n",
      "                                                   self.coordinates.x[i],self.coordinates.y[i])\n",
      "    \n",
      "    def getCenrtAcceleration(self):\n",
      "        n = self.coordinates.shape[0]\n",
      "        self.centracceleration = pd.DataFrame(np.zeros((n-2,2)))\n",
      "        self.centracceleration.columns = ['ind','acc']\n",
      "        self.centracceleration.ind = range(n-2)\n",
      "        for i in range(n-2):\n",
      "            r = self.R(self.coordinates,i)\n",
      "            self.centracceleration.acc[i] = pow(0.5*(self.speed.km_h[i]/3.6+self.speed.km_h[i+1])/3.6,2)/r\n",
      "            self.centracceleration.acc[i] /=9.8\n",
      "    \n",
      "    def getAcceleration(self):\n",
      "        n = self.speed.shape[0]\n",
      "        l = 0.0\n",
      "        self.acceleration = pd.DataFrame(np.zeros((n-1,3)))\n",
      "        self.acceleration.columns = ['acc','cacc','v']\n",
      "        #self.acceleration.ind = range(n-1)\n",
      "        for i in range(n-1):\n",
      "            r = self.R(self.coordinates,i)\n",
      "            \n",
      "            self.acceleration.v[i]=0.5*(self.speed.km_h[i]/3.6+self.speed.km_h[i+1])/3.6\n",
      "            \n",
      "            self.acceleration.cacc[i] = pow(self.acceleration.v[i],2)/r\n",
      "            #self.centracceleration.cacc[i] /=9.8\n",
      "            \n",
      "            self.acceleration.acc[i] = self.speed.km_h[i+1]/3.6-self.speed.km_h[i]/3.6\n",
      "            #self.acceleration.acc[i] /=9.8\n",
      "        \n",
      "    def SmoothCoordinates(self,df):\n",
      "        return df\n",
      "        n = df.shape[0]\n",
      "        newDf = pd.DataFrame(np.zeros((n-4,2)))\n",
      "        newDf.columns = df.columns\n",
      "        for i in range(2,n-2):\n",
      "            newDf.x[i-2] = (df.x[i-2] + df.x[i-1] + df.x[i] + df.x[i + 1]+ df.x[i + 2])/5.0\n",
      "            newDf.y[i-2] = (df.y[i-2] + df.y[i-1] + df.y[i] + df.y[i + 1]+ df.y[i + 2])/5.0\n",
      "        return newDf\n",
      "    \n",
      "    def Distance(self,x1,y1,x2,y2):\n",
      "        return pow(pow(x1-x2,2)+pow(y1-y2,2),0.5)\n",
      "\n",
      "    def Distance2(self,x1,x2):\n",
      "        return abs(x1-x2)\n",
      "    \n",
      "    def R(self,df,i):\n",
      "        a = self.Distance(df.x[i],df.y[i],df.x[i+1],df.y[i+1])\n",
      "        b = self.Distance(df.x[i+2],df.y[i+2],df.x[i+1],df.y[i+1])\n",
      "        c = self.Distance(df.x[i],df.y[i],df.x[i+2],df.y[i+2])\n",
      "        p = 0.5*(a+b+c)\n",
      "        return 0.25*a*b*c/pow(p*(p-a)*(p-b)*(p-c),0.5)\n",
      "    \n",
      "    def Turn(self,w,v):\n",
      "        norm = numpy.linalg.norm(v)\n",
      "        m= matrix(zeros((2,2)))\n",
      "        m[0,0] = v.x/norm;m[0,1] = -v.y/norm\n",
      "        m[1,0] = v.y/norm;m[1,1] = v.x/norm\n",
      "        [xn,yn] = m.T*matrix(w).T\n",
      "        return xn,yn\n",
      "    \n",
      "    def RemoveDirectionOutliers(self):\n",
      "        n = self.coordinates.shape[0]\n",
      "        iteration = 0;\n",
      "        while True:\n",
      "            iteration+=1\n",
      "            errors = 0\n",
      "            for i in range(n-3):\n",
      "                sample = self.coordinates.ix[i:i+3,:].copy()\n",
      "                sample.index = range(4)\n",
      "\n",
      "                sample.x[1]-=sample.x[0];sample.y[1]-=sample.y[0]\n",
      "                sample.x[2]-=sample.x[0];sample.y[2]-=sample.y[0]\n",
      "                sample.x[3]-=sample.x[0];sample.y[3]-=sample.y[0]\n",
      "                sample.x[0]=0;sample.y[0]=0\n",
      "\n",
      "                sample.x[3],sample.y[3] = Turn(sample.ix[3,:],sample.ix[1,:])\n",
      "                sample.x[2],sample.y[2] = Turn(sample.ix[2,:],sample.ix[1,:])\n",
      "                sample.x[1],sample.y[1] = Turn(sample.ix[1,:],sample.ix[1,:])\n",
      "\n",
      "                if (((sample.y[2]>0) & (sample.y[3]<0)) | ((sample.y[2]<0) & (sample.y[3]>0))):\n",
      "                    self.coordinates.x[i+2] = 0.5*(self.coordinates.x[i+3]+self.coordinates.x[i+1])\n",
      "                    self.coordinates.y[i+2] = 0.5*(self.coordinates.y[i+3]+self.coordinates.y[i+1])\n",
      "                    errors+=1\n",
      "\n",
      "            if ((errors==0) | (iteration>10)):\n",
      "                break\n",
      "    \n",
      "    def RemoveSpeedOutliers(self):\n",
      "        n = self.speed.shape[0]\n",
      "        iteration = 0;\n",
      "        move = 0.1\n",
      "        while True:\n",
      "            iteration+=1\n",
      "            errors = 0\n",
      "            for i in range(1,n-1):\n",
      "                cond1 = (self.speed.km_h[i]>self.speed.km_h[i-1] + 2) & \\\n",
      "                        (self.speed.km_h[i]>=self.speed.km_h[i+1] - 1)\n",
      "                cond2 = (self.speed.km_h[i]<self.speed.km_h[i-1] - 2) & \\\n",
      "                        (self.speed.km_h[i]<=self.speed.km_h[i+1] + 1)\n",
      "                cond3 = (self.speed.km_h[i]>=self.speed.km_h[i-1] - 1) & \\\n",
      "                        (self.speed.km_h[i]>self.speed.km_h[i+1]+2)\n",
      "                cond4 = (self.speed.km_h[i]<=self.speed.km_h[i-1] + 1) & \\\n",
      "                        (self.speed.km_h[i]<self.speed.km_h[i+1]-2)\n",
      "                    \n",
      "                if (cond1 | cond3):\n",
      "                    v = [self.coordinates.x[i] - self.coordinates.x[i+1],\\\n",
      "                         self.coordinates.y[i] - self.coordinates.y[i+1]]\n",
      "                    norm = numpy.linalg.norm(v)\n",
      "                    v[0]/=norm\n",
      "                    v[1]/=norm\n",
      "                    \n",
      "                    self.coordinates.x[i+1] += move*v[0]\n",
      "                    self.coordinates.y[i+1] += move*v[1]\n",
      "                    \n",
      "                    self.speed.km_h[i] = 3.6*self.Distance(self.coordinates.x[i+1],self.coordinates.y[i+1],self.coordinates.x[i],self.coordinates.y[i])\n",
      "                    self.speed.km_h[i+1] = 3.6*self.Distance(self.coordinates.x[i+1],self.coordinates.y[i+1],self.coordinates.x[i+2],self.coordinates.y[i+2])\n",
      "                    \n",
      "                    errors+=1\n",
      "                    \n",
      "                if (cond2 | cond4):\n",
      "                    v = [self.coordinates.x[i-1] - self.coordinates.x[i],\\\n",
      "                         self.coordinates.y[i-1] - self.coordinates.y[i]]\n",
      "                    norm = numpy.linalg.norm(v)\n",
      "                    v[0]/=norm\n",
      "                    v[1]/=norm\n",
      "                    \n",
      "                    self.coordinates.x[i] += move*v[0]\n",
      "                    self.coordinates.y[i] += move*v[1]\n",
      "                                   \n",
      "                    self.speed.km_h[i-1] = 3.6*self.Distance(self.coordinates.x[i],self.coordinates.y[i],self.coordinates.x[i-1],self.coordinates.y[i-1])\n",
      "                    self.speed.km_h[i] = 3.6*self.Distance(self.coordinates.x[i+1],self.coordinates.y[i+1],self.coordinates.x[i],self.coordinates.y[i])\n",
      "                    \n",
      "                    errors+=1\n",
      "\n",
      "            if ((errors==0) | (iteration>10)):\n",
      "                break\n",
      "    \n",
      "    def RemoveSpeedOutliers2(self):\n",
      "        n = self.speed.shape[0]\n",
      "        iteration = 0;\n",
      "        while True:\n",
      "            iteration+=1\n",
      "            errors = 0\n",
      "            for i in range(1,n-1):\n",
      "                cond1 = (self.speed.km_h[i]>self.speed.km_h[i-1] + 2) & \\\n",
      "                        (self.speed.km_h[i]>=self.speed.km_h[i+1] - 1)\n",
      "                cond2 = (self.speed.km_h[i]<self.speed.km_h[i-1] - 2) & \\\n",
      "                        (self.speed.km_h[i]<=self.speed.km_h[i+1] + 1)\n",
      "                cond3 = (self.speed.km_h[i]>=self.speed.km_h[i-1] - 1) & \\\n",
      "                        (self.speed.km_h[i]>self.speed.km_h[i+1]+2)\n",
      "                cond4 = (self.speed.km_h[i]<=self.speed.km_h[i-1] + 1) & \\\n",
      "                        (self.speed.km_h[i]<self.speed.km_h[i+1]-2)\n",
      "                if (cond1 | cond2 | cond3 | cond4):\n",
      "                    print i, cond1,cond2,cond3,cond4\n",
      "                    break\n",
      "                    self.speed.km_h[i] = 0.5*(self.speed.km_h[i-1]+self.speed.km_h[i+1])\n",
      "                    \n",
      "                    v = [self.coordinates.x[i+2] - self.coordinates.x[i],self.coordinates.y[i+2] - self.coordinates.y[i]]\n",
      "                    norm = numpy.linalg.norm(v)\n",
      "                    v[0]/=norm\n",
      "                    v[1]/=norm\n",
      "                    \n",
      "                    self.coordinates.x[i+1] = (self.coordinates.x[i] + self.speed.km_h[i]/3.6*v[0])\n",
      "                    self.coordinates.y[i+1] = (self.coordinates.y[i] + self.speed.km_h[i]/3.6*v[1])\n",
      "                                      \n",
      "                    errors+=1\n",
      "\n",
      "            if ((errors==0) | (iteration>10)):\n",
      "                break\n",
      "                \n",
      "    def RemoveOutliers22(self):\n",
      "        n = self.acceleration.shape[0]\n",
      "        errors = 0\n",
      "        for i in range(1,n-1):\n",
      "            if 0.5*(self.Distance2(self.acceleration.km_h[i],self.speed.km_h[i-1]) +\\\n",
      "                    self.Distance2(self.acceleration.km_h[i],self.speed.km_h[i+1]))<=\\\n",
      "                    self.Distance2(self.acceleration.km_h[i-1],self.speed.km_h[i+1]):\n",
      "                errors+=1\n",
      "                self.coordinates.x[i+1] = 0.5*(self.coordinates.x[i]+self.coordinates.x[i+2])\n",
      "                self.coordinates.y[i+1] = 0.5*(self.coordinates.y[i]+self.coordinates.y[i+2])\n",
      "                self.speed.km_h[i] = 3.6*self.Distance(self.coordinates.x[i+1],self.coordinates.y[i+1],self.coordinates.x[i],self.coordinates.y[i])\n",
      "                self.speed.km_h[i+1] = 3.6*self.Distance(self.coordinates.x[i+1],self.coordinates.y[i+1],self.coordinates.x[i+2],self.coordinates.y[i+2])\n"
     ],
     "language": "python",
     "metadata": {},
     "outputs": [],
     "prompt_number": 797
    },
    {
     "cell_type": "code",
     "collapsed": false,
     "input": [
      "trips = []\n",
      "\n",
      "driverID = 20\n",
      "driverDir = '../Kaggle/drivers/'+str(driverID)\n",
      "tripFiles = os.listdir(driverDir)\n",
      "\n",
      "for index, tripFile in enumerate(tripFiles):\n",
      "    df = pd.read_csv(driverDir+'/' + tripFile)\n",
      "    trips.append(Trip(1,driverDir+'/' + tripFile,df))  \n",
      "\n",
      "    if index>0:\n",
      "        break"
     ],
     "language": "python",
     "metadata": {},
     "outputs": [],
     "prompt_number": 798
    },
    {
     "cell_type": "code",
     "collapsed": false,
     "input": [
      "trips[1].acceleration.head()\n"
     ],
     "language": "python",
     "metadata": {},
     "outputs": [
      {
       "html": [
        "<div style=\"max-height:1000px;max-width:1500px;overflow:auto;\">\n",
        "<table border=\"1\" class=\"dataframe\">\n",
        "  <thead>\n",
        "    <tr style=\"text-align: right;\">\n",
        "      <th></th>\n",
        "      <th>acc</th>\n",
        "      <th>cacc</th>\n",
        "      <th>v</th>\n",
        "    </tr>\n",
        "  </thead>\n",
        "  <tbody>\n",
        "    <tr>\n",
        "      <th>0</th>\n",
        "      <td> 0.0</td>\n",
        "      <td>NaN</td>\n",
        "      <td> 0.00</td>\n",
        "    </tr>\n",
        "    <tr>\n",
        "      <th>1</th>\n",
        "      <td> 0.0</td>\n",
        "      <td>NaN</td>\n",
        "      <td> 0.00</td>\n",
        "    </tr>\n",
        "    <tr>\n",
        "      <th>2</th>\n",
        "      <td> 0.1</td>\n",
        "      <td>NaN</td>\n",
        "      <td> 0.05</td>\n",
        "    </tr>\n",
        "    <tr>\n",
        "      <th>3</th>\n",
        "      <td> NaN</td>\n",
        "      <td>NaN</td>\n",
        "      <td>  NaN</td>\n",
        "    </tr>\n",
        "    <tr>\n",
        "      <th>4</th>\n",
        "      <td> NaN</td>\n",
        "      <td>NaN</td>\n",
        "      <td>  NaN</td>\n",
        "    </tr>\n",
        "  </tbody>\n",
        "</table>\n",
        "</div>"
       ],
       "metadata": {},
       "output_type": "pyout",
       "prompt_number": 793,
       "text": [
        "   acc  cacc     v\n",
        "0  0.0   NaN  0.00\n",
        "1  0.0   NaN  0.00\n",
        "2  0.1   NaN  0.05\n",
        "3  NaN   NaN   NaN\n",
        "4  NaN   NaN   NaN"
       ]
      }
     ],
     "prompt_number": 793
    },
    {
     "cell_type": "code",
     "collapsed": false,
     "input": [
      "trips[1].speed.head()"
     ],
     "language": "python",
     "metadata": {},
     "outputs": [
      {
       "html": [
        "<div style=\"max-height:1000px;max-width:1500px;overflow:auto;\">\n",
        "<table border=\"1\" class=\"dataframe\">\n",
        "  <thead>\n",
        "    <tr style=\"text-align: right;\">\n",
        "      <th></th>\n",
        "      <th>ind</th>\n",
        "      <th>km_h</th>\n",
        "    </tr>\n",
        "  </thead>\n",
        "  <tbody>\n",
        "    <tr>\n",
        "      <th>0</th>\n",
        "      <td> 0</td>\n",
        "      <td> 0.00</td>\n",
        "    </tr>\n",
        "    <tr>\n",
        "      <th>1</th>\n",
        "      <td> 1</td>\n",
        "      <td> 0.00</td>\n",
        "    </tr>\n",
        "    <tr>\n",
        "      <th>2</th>\n",
        "      <td> 2</td>\n",
        "      <td> 0.00</td>\n",
        "    </tr>\n",
        "    <tr>\n",
        "      <th>3</th>\n",
        "      <td> 3</td>\n",
        "      <td> 0.36</td>\n",
        "    </tr>\n",
        "    <tr>\n",
        "      <th>4</th>\n",
        "      <td> 4</td>\n",
        "      <td>  NaN</td>\n",
        "    </tr>\n",
        "  </tbody>\n",
        "</table>\n",
        "</div>"
       ],
       "metadata": {},
       "output_type": "pyout",
       "prompt_number": 795,
       "text": [
        "   ind  km_h\n",
        "0    0  0.00\n",
        "1    1  0.00\n",
        "2    2  0.00\n",
        "3    3  0.36\n",
        "4    4   NaN"
       ]
      }
     ],
     "prompt_number": 795
    },
    {
     "cell_type": "code",
     "collapsed": false,
     "input": [
      "trips[1].coordinates.ix[:6,:]"
     ],
     "language": "python",
     "metadata": {},
     "outputs": [
      {
       "html": [
        "<div style=\"max-height:1000px;max-width:1500px;overflow:auto;\">\n",
        "<table border=\"1\" class=\"dataframe\">\n",
        "  <thead>\n",
        "    <tr style=\"text-align: right;\">\n",
        "      <th></th>\n",
        "      <th>x</th>\n",
        "      <th>y</th>\n",
        "    </tr>\n",
        "  </thead>\n",
        "  <tbody>\n",
        "    <tr>\n",
        "      <th>0</th>\n",
        "      <td> 0</td>\n",
        "      <td> 0.0</td>\n",
        "    </tr>\n",
        "    <tr>\n",
        "      <th>1</th>\n",
        "      <td> 0</td>\n",
        "      <td> 0.0</td>\n",
        "    </tr>\n",
        "    <tr>\n",
        "      <th>2</th>\n",
        "      <td> 0</td>\n",
        "      <td> 0.0</td>\n",
        "    </tr>\n",
        "    <tr>\n",
        "      <th>3</th>\n",
        "      <td> 0</td>\n",
        "      <td> 0.0</td>\n",
        "    </tr>\n",
        "    <tr>\n",
        "      <th>4</th>\n",
        "      <td> 0</td>\n",
        "      <td> 0.1</td>\n",
        "    </tr>\n",
        "    <tr>\n",
        "      <th>5</th>\n",
        "      <td> 0</td>\n",
        "      <td> 0.1</td>\n",
        "    </tr>\n",
        "    <tr>\n",
        "      <th>6</th>\n",
        "      <td> 0</td>\n",
        "      <td> 0.1</td>\n",
        "    </tr>\n",
        "  </tbody>\n",
        "</table>\n",
        "</div>"
       ],
       "metadata": {},
       "output_type": "pyout",
       "prompt_number": 799,
       "text": [
        "   x    y\n",
        "0  0  0.0\n",
        "1  0  0.0\n",
        "2  0  0.0\n",
        "3  0  0.0\n",
        "4  0  0.1\n",
        "5  0  0.1\n",
        "6  0  0.1"
       ]
      }
     ],
     "prompt_number": 799
    },
    {
     "cell_type": "code",
     "collapsed": false,
     "input": [
      "tripInd = 1\n",
      "start = 500\n",
      "end = 600#trips[tripInd].n"
     ],
     "language": "python",
     "metadata": {},
     "outputs": [],
     "prompt_number": 772
    },
    {
     "cell_type": "code",
     "collapsed": false,
     "input": [
      "ggplot(trips[tripInd].coordinates.ix[start:end,:],aes(x='x',y='y')) + geom_point(size=5)"
     ],
     "language": "python",
     "metadata": {},
     "outputs": [
      {
       "metadata": {},
       "output_type": "pyout",
       "prompt_number": 773,
       "text": [
        "<repr(<ggplot.ggplot.ggplot at 0x6245290>) failed: KeyError: 0>"
       ]
      },
      {
       "metadata": {},
       "output_type": "display_data",
       "png": "[encoded data removed]",
       "text": [
        "<matplotlib.figure.Figure at 0x622dc10>"
       ]
      }
     ],
     "prompt_number": 773
    },
    {
     "cell_type": "code",
     "collapsed": false,
     "input": [
      "ggplot(trips[tripInd].speed.ix[start:end,:],aes(x='ind',y='km_h')) + geom_point(size=10)#+\\\n",
      "#geom_point(trips[tripInd].centracceleration.ix[start:end,:],aes(x='ind',y='acc'),color='green',size=10)"
     ],
     "language": "python",
     "metadata": {},
     "outputs": [
      {
       "metadata": {},
       "output_type": "pyout",
       "prompt_number": 774,
       "text": [
        "<repr(<ggplot.ggplot.ggplot at 0x7fee098febd0>) failed: KeyError: 0>"
       ]
      },
      {
       "metadata": {},
       "output_type": "display_data",
       "png": "[encoded data removed]",
       "text": [
        "<matplotlib.figure.Figure at 0x7fee099a6890>"
       ]
      }
     ],
     "prompt_number": 774
    },
    {
     "cell_type": "code",
     "collapsed": false,
     "input": [
      "ggplot(trips[tripInd].centracceleration.ix[start:end,:],aes(x='ind',y='acc')) + geom_point(color='green',size=10)+\\\n",
      "geom_point(trips[tripInd].acceleration.ix[start:end,:],aes(x='ind',y='acc'),color='red',size=10)"
     ],
     "language": "python",
     "metadata": {},
     "outputs": [
      {
       "metadata": {},
       "output_type": "pyout",
       "prompt_number": 775,
       "text": [
        "<repr(<ggplot.ggplot.ggplot at 0x7fee08f6f550>) failed: KeyError: 0>"
       ]
      },
      {
       "metadata": {},
       "output_type": "display_data",
       "png": "[encoded data removed]",
       "text": [
        "<matplotlib.figure.Figure at 0x7fee093469d0>"
       ]
      }
     ],
     "prompt_number": 775
    },
    {
     "cell_type": "code",
     "collapsed": false,
     "input": [
      "del df\n",
      "df = trips[2].centracceleration.copy()\n",
      "df.ind = trips[2].acceleration.acc\n",
      "ggplot(df,aes(x='ind',y='acc')) + geom_point(size=10)"
     ],
     "language": "python",
     "metadata": {},
     "outputs": [
      {
       "metadata": {},
       "output_type": "display_data",
       "png": "[encoded data removed]",
       "text": [
        "<matplotlib.figure.Figure at 0x5bdba50>"
       ]
      },
      {
       "metadata": {},
       "output_type": "pyout",
       "prompt_number": 779,
       "text": [
        "<ggplot: (8791271341101)>"
       ]
      }
     ],
     "prompt_number": 779
    },
    {
     "cell_type": "code",
     "collapsed": false,
     "input": [
      "del df\n",
      "df = trips[0].centracceleration.copy()\n",
      "df.ind = trips[0].acceleration.acc\n",
      "ggplot(df,aes(x='ind',y='acc')) + geom_point(size=10)"
     ],
     "language": "python",
     "metadata": {},
     "outputs": [
      {
       "metadata": {},
       "output_type": "display_data",
       "png": "[encoded data removed]",
       "text": [
        "<matplotlib.figure.Figure at 0x5bec990>"
       ]
      },
      {
       "metadata": {},
       "output_type": "pyout",
       "prompt_number": 778,
       "text": [
        "<ggplot: (8791271275553)>"
       ]
      }
     ],
     "prompt_number": 778
    },
    {
     "cell_type": "code",
     "collapsed": false,
     "input": [],
     "language": "python",
     "metadata": {},
     "outputs": []
    }
   ],
   "metadata": {}
  }
 ]
}