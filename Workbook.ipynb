{
 "metadata": {
  "name": "",
  "signature": "sha256:10a9a95fb638537e2798d940d67256575ba620cb9cea4368d12405c9f9b311b2"
 },
 "nbformat": 3,
 "nbformat_minor": 0,
 "worksheets": [
  {
   "cells": [
    {
     "cell_type": "code",
     "collapsed": false,
     "input": [
      "import qimbs \n",
      "import numpy as np\n",
      "import pandas as pd\n",
      "from ggplot import *\n",
      "from sklearn.preprocessing import PolynomialFeatures"
     ],
     "language": "python",
     "metadata": {},
     "outputs": [],
     "prompt_number": 2
    },
    {
     "cell_type": "code",
     "collapsed": false,
     "input": [
      "reload(qimbs)"
     ],
     "language": "python",
     "metadata": {},
     "outputs": [
      {
       "metadata": {},
       "output_type": "pyout",
       "prompt_number": 3,
       "text": [
        "<module 'qimbs' from 'qimbs.pyc'>"
       ]
      }
     ],
     "prompt_number": 3
    },
    {
     "cell_type": "code",
     "collapsed": false,
     "input": [
      "from IPython import parallel\n",
      "clients = parallel.Client()\n",
      "clients.block = True  # use synchronous computations\n",
      "print clients.ids"
     ],
     "language": "python",
     "metadata": {},
     "outputs": [
      {
       "output_type": "stream",
       "stream": "stdout",
       "text": [
        "[0, 1, 2, 3]\n"
       ]
      }
     ],
     "prompt_number": 3
    },
    {
     "cell_type": "code",
     "collapsed": false,
     "input": [
      "#data2 = clients[0].apply(qimbs.import_month,2)\n",
      "#data3 = clients[1].apply(qimbs.import_month,3)\n",
      "#data4 = clients[2].apply(qimbs.import_month,4)\n",
      "#data5 = clients[3].apply(qimbs.import_month,5)"
     ],
     "language": "python",
     "metadata": {},
     "outputs": [],
     "prompt_number": 4
    },
    {
     "cell_type": "code",
     "collapsed": false,
     "input": [
      "#data6 = clients[0].apply(qimbs.import_month,6)"
     ],
     "language": "python",
     "metadata": {},
     "outputs": [],
     "prompt_number": 5
    },
    {
     "cell_type": "code",
     "collapsed": false,
     "input": [
      "#!Importing data\n",
      "df = pd.DataFrame()\n",
      "for i in range(7,8):\n",
      "    df = df.append(qimbs.import_month(i))\n",
      "    print i\n",
      "    \n",
      "#df = df.append(data2); del data2\n",
      "#df = df.append(data3); del data3\n",
      "#df = df.append(data4); del data4\n",
      "#df = df.append(data5); del data5\n",
      "#df = df.append(data6); del data6\n",
      "print df.shape\n",
      "df.index = range(df.shape[0])"
     ],
     "language": "python",
     "metadata": {},
     "outputs": [
      {
       "output_type": "stream",
       "stream": "stdout",
       "text": [
        "7\n",
        "(1570578, 17)\n"
       ]
      }
     ],
     "prompt_number": 503
    },
    {
     "cell_type": "code",
     "collapsed": false,
     "input": [
      "#Getting imbalance info\n",
      "reload(qimbs)\n",
      "imbalanceMsg = qimbs.get_imbalanceMSG2(df,0)\n",
      "imbalanceMsg = imbalanceMsg[\n",
      "    (imbalanceMsg.Ask_P - imbalanceMsg.Bid_P < 0.1 * (imbalanceMsg.Ask_P + imbalanceMsg.Bid_P)*0.5) ]\n",
      "imbalanceMsg.index = range(imbalanceMsg.shape[0])\n",
      "imbalanceMsg.shape"
     ],
     "language": "python",
     "metadata": {},
     "outputs": [
      {
       "metadata": {},
       "output_type": "pyout",
       "prompt_number": 505,
       "text": [
        "(22704, 16)"
       ]
      }
     ],
     "prompt_number": 505
    },
    {
     "cell_type": "code",
     "collapsed": false,
     "input": [
      "imbalanceMsg_=imbalanceMsg.copy()"
     ],
     "language": "python",
     "metadata": {},
     "outputs": [],
     "prompt_number": 430
    },
    {
     "cell_type": "code",
     "collapsed": false,
     "input": [
      "imbalanceMsg_=imbalanceMsg_.append(imbalanceMsg)\n",
      "imbalanceMsg=imbalanceMsg_\n",
      "imbalanceMsg.index = range(imbalanceMsg.shape[0])\n",
      "imbalanceMsg.shape"
     ],
     "language": "python",
     "metadata": {},
     "outputs": [
      {
       "metadata": {},
       "output_type": "pyout",
       "prompt_number": 433,
       "text": [
        "(11724, 16)"
       ]
      }
     ],
     "prompt_number": 433
    },
    {
     "cell_type": "code",
     "collapsed": false,
     "input": [
      "#Procees c++ created features\n",
      "f = '/home/user1/PyProjects/imbalanceMsg.csv' \n",
      "                   \n",
      "imbalanceMsg = pd.read_csv(f, low_memory=False)\n",
      "\n",
      "print imbalanceMsg.shape\n",
      "\n",
      "imbalanceMsg.tail()"
     ],
     "language": "python",
     "metadata": {},
     "outputs": [
      {
       "output_type": "stream",
       "stream": "stdout",
       "text": [
        "(30397, 15)\n"
       ]
      },
      {
       "html": [
        "<div style=\"max-height:1000px;max-width:1500px;overflow:auto;\">\n",
        "<table border=\"1\" class=\"dataframe\">\n",
        "  <thead>\n",
        "    <tr style=\"text-align: right;\">\n",
        "      <th></th>\n",
        "      <th>Date</th>\n",
        "      <th>Symbol</th>\n",
        "      <th>ImbInd</th>\n",
        "      <th>PrevCLC_P</th>\n",
        "      <th>OPC_P</th>\n",
        "      <th>Ask_P</th>\n",
        "      <th>Bid_P</th>\n",
        "      <th>Ask_S</th>\n",
        "      <th>Bid_S</th>\n",
        "      <th>ImbRef</th>\n",
        "      <th>ImbCBC</th>\n",
        "      <th>ImbFar</th>\n",
        "      <th>ImbShares</th>\n",
        "      <th>ImbPaired</th>\n",
        "      <th>Unnamed: 14</th>\n",
        "    </tr>\n",
        "  </thead>\n",
        "  <tbody>\n",
        "    <tr>\n",
        "      <th>30392</th>\n",
        "      <td> 2014-09-30</td>\n",
        "      <td>  XIV</td>\n",
        "      <td>  0</td>\n",
        "      <td>  38.79</td>\n",
        "      <td>  38.57</td>\n",
        "      <td>  38.54</td>\n",
        "      <td>  38.51</td>\n",
        "      <td> 900</td>\n",
        "      <td> 400</td>\n",
        "      <td>  38.55</td>\n",
        "      <td>  38.66</td>\n",
        "      <td>  38.70</td>\n",
        "      <td>  6516</td>\n",
        "      <td>   4787</td>\n",
        "      <td>NaN</td>\n",
        "    </tr>\n",
        "    <tr>\n",
        "      <th>30393</th>\n",
        "      <td> 2014-09-30</td>\n",
        "      <td> XPLR</td>\n",
        "      <td> 16</td>\n",
        "      <td>   5.27</td>\n",
        "      <td>   5.10</td>\n",
        "      <td>   8.31</td>\n",
        "      <td>   5.03</td>\n",
        "      <td> 100</td>\n",
        "      <td> 100</td>\n",
        "      <td>   5.11</td>\n",
        "      <td>   5.10</td>\n",
        "      <td>   5.10</td>\n",
        "      <td> -2956</td>\n",
        "      <td>   2050</td>\n",
        "      <td>NaN</td>\n",
        "    </tr>\n",
        "    <tr>\n",
        "      <th>30394</th>\n",
        "      <td> 2014-09-30</td>\n",
        "      <td> YHOO</td>\n",
        "      <td>  0</td>\n",
        "      <td>  40.52</td>\n",
        "      <td>  40.58</td>\n",
        "      <td>  40.69</td>\n",
        "      <td>  40.69</td>\n",
        "      <td> 110</td>\n",
        "      <td>  87</td>\n",
        "      <td>  40.69</td>\n",
        "      <td>  40.55</td>\n",
        "      <td>  40.53</td>\n",
        "      <td>-68809</td>\n",
        "      <td> 113661</td>\n",
        "      <td>NaN</td>\n",
        "    </tr>\n",
        "    <tr>\n",
        "      <th>30395</th>\n",
        "      <td> 2014-09-30</td>\n",
        "      <td> YNDX</td>\n",
        "      <td>  0</td>\n",
        "      <td>  28.22</td>\n",
        "      <td>  28.15</td>\n",
        "      <td>  28.10</td>\n",
        "      <td>  28.07</td>\n",
        "      <td> 200</td>\n",
        "      <td> 800</td>\n",
        "      <td>  28.10</td>\n",
        "      <td>  28.17</td>\n",
        "      <td>  28.18</td>\n",
        "      <td> 29182</td>\n",
        "      <td>  18558</td>\n",
        "      <td>NaN</td>\n",
        "    </tr>\n",
        "    <tr>\n",
        "      <th>30396</th>\n",
        "      <td> 2014-09-30</td>\n",
        "      <td>    Z</td>\n",
        "      <td> 10</td>\n",
        "      <td> 119.33</td>\n",
        "      <td> 117.99</td>\n",
        "      <td> 118.00</td>\n",
        "      <td> 117.42</td>\n",
        "      <td> 100</td>\n",
        "      <td> 477</td>\n",
        "      <td> 118.00</td>\n",
        "      <td> 118.00</td>\n",
        "      <td> 118.23</td>\n",
        "      <td>  2331</td>\n",
        "      <td>  17978</td>\n",
        "      <td>NaN</td>\n",
        "    </tr>\n",
        "  </tbody>\n",
        "</table>\n",
        "</div>"
       ],
       "metadata": {},
       "output_type": "pyout",
       "prompt_number": 343,
       "text": [
        "             Date Symbol  ImbInd  PrevCLC_P   OPC_P   Ask_P   Bid_P  Ask_S  \\\n",
        "30392  2014-09-30    XIV       0      38.79   38.57   38.54   38.51    900   \n",
        "30393  2014-09-30   XPLR      16       5.27    5.10    8.31    5.03    100   \n",
        "30394  2014-09-30   YHOO       0      40.52   40.58   40.69   40.69    110   \n",
        "30395  2014-09-30   YNDX       0      28.22   28.15   28.10   28.07    200   \n",
        "30396  2014-09-30      Z      10     119.33  117.99  118.00  117.42    100   \n",
        "\n",
        "       Bid_S  ImbRef  ImbCBC  ImbFar  ImbShares  ImbPaired  Unnamed: 14  \n",
        "30392    400   38.55   38.66   38.70       6516       4787          NaN  \n",
        "30393    100    5.11    5.10    5.10      -2956       2050          NaN  \n",
        "30394     87   40.69   40.55   40.53     -68809     113661          NaN  \n",
        "30395    800   28.10   28.17   28.18      29182      18558          NaN  \n",
        "30396    477  118.00  118.00  118.23       2331      17978          NaN  "
       ]
      }
     ],
     "prompt_number": 343
    },
    {
     "cell_type": "code",
     "collapsed": false,
     "input": [
      "#Creating features\n",
      "reload(qimbs)\n",
      "fdf = qimbs.create_features33(imbalanceMsg)"
     ],
     "language": "python",
     "metadata": {},
     "outputs": [],
     "prompt_number": 389
    },
    {
     "cell_type": "code",
     "collapsed": false,
     "input": [],
     "language": "python",
     "metadata": {},
     "outputs": [],
     "prompt_number": 368
    },
    {
     "cell_type": "code",
     "collapsed": false,
     "input": [
      "X_pos = fdf[fdf.a14>0]\n",
      "X_pos.index = range(X_pos.shape[0])\n",
      "X_pos=X_pos[['Ask','AskD','Near','Far','Spread',\n",
      " 'D5', 'D555', 'D66', 'V1','V1n', 'V11', 'V11n',\n",
      " 'V8','V8n','V8nn', 'a1','a4','a5']]\n",
      "\n",
      "X_neg = fdf[fdf.a14<0]\n",
      "X_neg.index = range(X_neg.shape[0])\n",
      "X_neg=X_neg[['Bid','BidD','Near','Far','Spread',\n",
      " 'D4',  'D444', 'D66', 'V1','V1n', 'V11',  'V11n',\n",
      " 'V8','V8n','V8nn', 'a1','a4','a5']]\n",
      "\n",
      "y_pos = fdf.OPC_P>fdf.Ask_P\n",
      "y_pos = y_pos[fdf.a14>0]\n",
      "y_pos.index = range(y_pos.shape[0])\n",
      "\n",
      "y_neg = fdf.OPC_P<fdf.Bid_P\n",
      "y_neg = y_neg[fdf.a14<0]\n",
      "y_neg.index = range(y_neg.shape[0])\n",
      "\n",
      "ypln_pos = fdf.OPC_P/fdf.Ask_P-1\n",
      "ypln_pos = ypln_pos[fdf.a14>0]\n",
      "ypln_pos.index = range(ypln_pos.shape[0])\n",
      "\n",
      "ypln_neg = 1-fdf.OPC_P/fdf.Bid_P\n",
      "ypln_neg = ypln_neg[fdf.a14<0]\n",
      "ypln_neg.index = range(ypln_neg.shape[0])\n",
      "\n",
      "dates = sorted(list(set(fdf.Date)))\n",
      "datesDF_pos = qimbs.dates_tmp_df(fdf[fdf.a14>0])\n",
      "datesDF_neg = qimbs.dates_tmp_df(fdf[fdf.a14<0])\n",
      "\n",
      "ERRORS = pd.DataFrame(columns=['Model','TrainError','TestError'])"
     ],
     "language": "python",
     "metadata": {},
     "outputs": [],
     "prompt_number": 400
    },
    {
     "cell_type": "code",
     "collapsed": false,
     "input": [
      "ym_pos = fdf.OPC_P.copy()\n",
      "ym_pos[:] = 0\n",
      "ym_pos[fdf.OPC_P>fdf.Ask_P+0.1] = 1\n",
      "ym_pos = ym_pos[fdf.a14>0]\n",
      "ym_pos.index = range(y_pos.shape[0])\n",
      "\n",
      "ym_neg = fdf.OPC_P.copy()\n",
      "ym_neg[:] = 0\n",
      "ym_neg[fdf.OPC_P<fdf.Bid_P-0.1] = 1\n",
      "ym_neg = ym_neg[fdf.a14<0]\n",
      "ym_neg.index = range(y_neg.shape[0])"
     ],
     "language": "python",
     "metadata": {},
     "outputs": [],
     "prompt_number": 395
    },
    {
     "cell_type": "code",
     "collapsed": false,
     "input": [
      "X_pos.tail()"
     ],
     "language": "python",
     "metadata": {},
     "outputs": [
      {
       "html": [
        "<div style=\"max-height:1000px;max-width:1500px;overflow:auto;\">\n",
        "<table border=\"1\" class=\"dataframe\">\n",
        "  <thead>\n",
        "    <tr style=\"text-align: right;\">\n",
        "      <th></th>\n",
        "      <th>Ask</th>\n",
        "      <th>AskD</th>\n",
        "      <th>Near</th>\n",
        "      <th>Far</th>\n",
        "      <th>Spread</th>\n",
        "      <th>D5</th>\n",
        "      <th>D555</th>\n",
        "      <th>D66</th>\n",
        "      <th>V1</th>\n",
        "      <th>V1n</th>\n",
        "      <th>V11</th>\n",
        "      <th>V11n</th>\n",
        "      <th>V8</th>\n",
        "      <th>V8n</th>\n",
        "      <th>V8nn</th>\n",
        "      <th>a1</th>\n",
        "      <th>a4</th>\n",
        "      <th>a5</th>\n",
        "    </tr>\n",
        "  </thead>\n",
        "  <tbody>\n",
        "    <tr>\n",
        "      <th>14913</th>\n",
        "      <td> 0.000000</td>\n",
        "      <td> 0.000</td>\n",
        "      <td> 0.000691</td>\n",
        "      <td> 0.001381</td>\n",
        "      <td> 0.014503</td>\n",
        "      <td> 0.000000</td>\n",
        "      <td> 0.000000</td>\n",
        "      <td> 0.730435</td>\n",
        "      <td> 0.048209</td>\n",
        "      <td> 0.045543</td>\n",
        "      <td> 0.015949</td>\n",
        "      <td> 0.015646</td>\n",
        "      <td> 0.308043</td>\n",
        "      <td> 0.302190</td>\n",
        "      <td> 0.286544</td>\n",
        "      <td> 0.000000</td>\n",
        "      <td>-0.000000</td>\n",
        "      <td>-0.000000</td>\n",
        "    </tr>\n",
        "    <tr>\n",
        "      <th>14914</th>\n",
        "      <td>-0.000295</td>\n",
        "      <td> 0.030</td>\n",
        "      <td> 0.000295</td>\n",
        "      <td> 0.000788</td>\n",
        "      <td> 0.001378</td>\n",
        "      <td> 0.029237</td>\n",
        "      <td> 0.026316</td>\n",
        "      <td> 0.098561</td>\n",
        "      <td>-0.235849</td>\n",
        "      <td>-0.210970</td>\n",
        "      <td>-1.003344</td>\n",
        "      <td>-0.668151</td>\n",
        "      <td> 3.919732</td>\n",
        "      <td> 2.610245</td>\n",
        "      <td> 3.278396</td>\n",
        "      <td>-0.000000</td>\n",
        "      <td>-0.004844</td>\n",
        "      <td>-0.003924</td>\n",
        "    </tr>\n",
        "    <tr>\n",
        "      <th>14915</th>\n",
        "      <td>-0.001684</td>\n",
        "      <td> 0.065</td>\n",
        "      <td> 0.001425</td>\n",
        "      <td> 0.002461</td>\n",
        "      <td> 0.000777</td>\n",
        "      <td> 0.167569</td>\n",
        "      <td> 0.063107</td>\n",
        "      <td> 0.207657</td>\n",
        "      <td> 0.075574</td>\n",
        "      <td> 0.069774</td>\n",
        "      <td> 0.102312</td>\n",
        "      <td> 0.091962</td>\n",
        "      <td> 1.333333</td>\n",
        "      <td> 1.198455</td>\n",
        "      <td> 1.106493</td>\n",
        "      <td>-0.000004</td>\n",
        "      <td>-0.041039</td>\n",
        "      <td>-0.005821</td>\n",
        "    </tr>\n",
        "    <tr>\n",
        "      <th>14916</th>\n",
        "      <td>-0.001244</td>\n",
        "      <td> 0.035</td>\n",
        "      <td> 0.001244</td>\n",
        "      <td> 0.001599</td>\n",
        "      <td> 0.001066</td>\n",
        "      <td> 0.124026</td>\n",
        "      <td> 0.033981</td>\n",
        "      <td> 0.178031</td>\n",
        "      <td>-0.020490</td>\n",
        "      <td>-0.020214</td>\n",
        "      <td>-0.032158</td>\n",
        "      <td>-0.031483</td>\n",
        "      <td> 1.564048</td>\n",
        "      <td> 1.531220</td>\n",
        "      <td> 1.562703</td>\n",
        "      <td>-0.000003</td>\n",
        "      <td>-0.028567</td>\n",
        "      <td>-0.002144</td>\n",
        "    </tr>\n",
        "    <tr>\n",
        "      <th>14917</th>\n",
        "      <td> 0.000000</td>\n",
        "      <td> 0.000</td>\n",
        "      <td> 0.000000</td>\n",
        "      <td> 0.001949</td>\n",
        "      <td> 0.004915</td>\n",
        "      <td> 0.000000</td>\n",
        "      <td> 0.000000</td>\n",
        "      <td> 0.246368</td>\n",
        "      <td>-0.155080</td>\n",
        "      <td>-0.143921</td>\n",
        "      <td>-0.020854</td>\n",
        "      <td>-0.020639</td>\n",
        "      <td> 0.128941</td>\n",
        "      <td> 0.127611</td>\n",
        "      <td> 0.148250</td>\n",
        "      <td> 0.000000</td>\n",
        "      <td>-0.000000</td>\n",
        "      <td>-0.000000</td>\n",
        "    </tr>\n",
        "  </tbody>\n",
        "</table>\n",
        "</div>"
       ],
       "metadata": {},
       "output_type": "pyout",
       "prompt_number": 347,
       "text": [
        "            Ask   AskD      Near       Far    Spread        D5      D555  \\\n",
        "14913  0.000000  0.000  0.000691  0.001381  0.014503  0.000000  0.000000   \n",
        "14914 -0.000295  0.030  0.000295  0.000788  0.001378  0.029237  0.026316   \n",
        "14915 -0.001684  0.065  0.001425  0.002461  0.000777  0.167569  0.063107   \n",
        "14916 -0.001244  0.035  0.001244  0.001599  0.001066  0.124026  0.033981   \n",
        "14917  0.000000  0.000  0.000000  0.001949  0.004915  0.000000  0.000000   \n",
        "\n",
        "            D66        V1       V1n       V11      V11n        V8       V8n  \\\n",
        "14913  0.730435  0.048209  0.045543  0.015949  0.015646  0.308043  0.302190   \n",
        "14914  0.098561 -0.235849 -0.210970 -1.003344 -0.668151  3.919732  2.610245   \n",
        "14915  0.207657  0.075574  0.069774  0.102312  0.091962  1.333333  1.198455   \n",
        "14916  0.178031 -0.020490 -0.020214 -0.032158 -0.031483  1.564048  1.531220   \n",
        "14917  0.246368 -0.155080 -0.143921 -0.020854 -0.020639  0.128941  0.127611   \n",
        "\n",
        "           V8nn        a1        a4        a5  \n",
        "14913  0.286544  0.000000 -0.000000 -0.000000  \n",
        "14914  3.278396 -0.000000 -0.004844 -0.003924  \n",
        "14915  1.106493 -0.000004 -0.041039 -0.005821  \n",
        "14916  1.562703 -0.000003 -0.028567 -0.002144  \n",
        "14917  0.148250  0.000000 -0.000000 -0.000000  "
       ]
      }
     ],
     "prompt_number": 347
    },
    {
     "cell_type": "code",
     "collapsed": false,
     "input": [
      "ggplot(fdf,aes(x='p')) + geom_histogram() #binwidth = 0.05"
     ],
     "language": "python",
     "metadata": {},
     "outputs": [
      {
       "metadata": {},
       "output_type": "display_data",
       "png": "[encoded data removed]",
       "text": [
        "<matplotlib.figure.Figure at 0x889a9d0>"
       ]
      },
      {
       "metadata": {},
       "output_type": "pyout",
       "prompt_number": 371,
       "text": [
        "<ggplot: (8952493)>"
       ]
      }
     ],
     "prompt_number": 371
    },
    {
     "cell_type": "code",
     "collapsed": false,
     "input": [
      "ggplot(fdf[fdf.y>0],aes(x='D4',y='D5')) + geom_point(alpha=0.4, color='green',size=2) + \\\n",
      "geom_point(fdf[fdf.y<0],aes(x='D4',y='D5'),alpha=0.4, color='red',size=2) + \\\n",
      "geom_point(fdf[fdf.y==0],aes(x='D4',y='D5'),alpha=0.4, color='blue',size=2) "
     ],
     "language": "python",
     "metadata": {},
     "outputs": [
      {
       "metadata": {},
       "output_type": "pyout",
       "prompt_number": 349,
       "text": [
        "<repr(<ggplot.ggplot.ggplot at 0x9eb26d0>) failed: KeyError: 0>"
       ]
      },
      {
       "metadata": {},
       "output_type": "display_data",
       "png": "[encoded data removed]",
       "text": [
        "<matplotlib.figure.Figure at 0x9eb2a10>"
       ]
      }
     ],
     "prompt_number": 349
    },
    {
     "cell_type": "code",
     "collapsed": false,
     "input": [
      "from sklearn.cluster import KMeans\n",
      "kmeans = KMeans(n_clusters = 3)\n",
      "kmeans.fit(fdf.Mid_P)"
     ],
     "language": "python",
     "metadata": {},
     "outputs": [
      {
       "ename": "ValueError",
       "evalue": "n_samples=1 should be >= n_clusters=3",
       "output_type": "pyerr",
       "traceback": [
        "\u001b[1;31m---------------------------------------------------------------------------\u001b[0m\n\u001b[1;31mValueError\u001b[0m                                Traceback (most recent call last)",
        "\u001b[1;32m<ipython-input-352-5b19aee98390>\u001b[0m in \u001b[0;36m<module>\u001b[1;34m()\u001b[0m\n\u001b[0;32m      1\u001b[0m \u001b[1;32mfrom\u001b[0m \u001b[0msklearn\u001b[0m\u001b[1;33m.\u001b[0m\u001b[0mcluster\u001b[0m \u001b[1;32mimport\u001b[0m \u001b[0mKMeans\u001b[0m\u001b[1;33m\u001b[0m\u001b[0m\n\u001b[0;32m      2\u001b[0m \u001b[0mkmeans\u001b[0m \u001b[1;33m=\u001b[0m \u001b[0mKMeans\u001b[0m\u001b[1;33m(\u001b[0m\u001b[0mn_clusters\u001b[0m \u001b[1;33m=\u001b[0m \u001b[1;36m3\u001b[0m\u001b[1;33m)\u001b[0m\u001b[1;33m\u001b[0m\u001b[0m\n\u001b[1;32m----> 3\u001b[1;33m \u001b[0mkmeans\u001b[0m\u001b[1;33m.\u001b[0m\u001b[0mfit\u001b[0m\u001b[1;33m(\u001b[0m\u001b[0mfdf\u001b[0m\u001b[1;33m.\u001b[0m\u001b[0mMid_P\u001b[0m\u001b[1;33m)\u001b[0m\u001b[1;33m\u001b[0m\u001b[0m\n\u001b[0m",
        "\u001b[1;32m/usr/local/lib/python2.7/dist-packages/sklearn/cluster/k_means_.pyc\u001b[0m in \u001b[0;36mfit\u001b[1;34m(self, X, y)\u001b[0m\n\u001b[0;32m    723\u001b[0m         \"\"\"\n\u001b[0;32m    724\u001b[0m         \u001b[0mrandom_state\u001b[0m \u001b[1;33m=\u001b[0m \u001b[0mcheck_random_state\u001b[0m\u001b[1;33m(\u001b[0m\u001b[0mself\u001b[0m\u001b[1;33m.\u001b[0m\u001b[0mrandom_state\u001b[0m\u001b[1;33m)\u001b[0m\u001b[1;33m\u001b[0m\u001b[0m\n\u001b[1;32m--> 725\u001b[1;33m         \u001b[0mX\u001b[0m \u001b[1;33m=\u001b[0m \u001b[0mself\u001b[0m\u001b[1;33m.\u001b[0m\u001b[0m_check_fit_data\u001b[0m\u001b[1;33m(\u001b[0m\u001b[0mX\u001b[0m\u001b[1;33m)\u001b[0m\u001b[1;33m\u001b[0m\u001b[0m\n\u001b[0m\u001b[0;32m    726\u001b[0m \u001b[1;33m\u001b[0m\u001b[0m\n\u001b[0;32m    727\u001b[0m         self.cluster_centers_, self.labels_, self.inertia_ = k_means(\n",
        "\u001b[1;32m/usr/local/lib/python2.7/dist-packages/sklearn/cluster/k_means_.pyc\u001b[0m in \u001b[0;36m_check_fit_data\u001b[1;34m(self, X)\u001b[0m\n\u001b[0;32m    692\u001b[0m         \u001b[1;32mif\u001b[0m \u001b[0mX\u001b[0m\u001b[1;33m.\u001b[0m\u001b[0mshape\u001b[0m\u001b[1;33m[\u001b[0m\u001b[1;36m0\u001b[0m\u001b[1;33m]\u001b[0m \u001b[1;33m<\u001b[0m \u001b[0mself\u001b[0m\u001b[1;33m.\u001b[0m\u001b[0mn_clusters\u001b[0m\u001b[1;33m:\u001b[0m\u001b[1;33m\u001b[0m\u001b[0m\n\u001b[0;32m    693\u001b[0m             raise ValueError(\"n_samples=%d should be >= n_clusters=%d\" % (\n\u001b[1;32m--> 694\u001b[1;33m                 X.shape[0], self.n_clusters))\n\u001b[0m\u001b[0;32m    695\u001b[0m         \u001b[1;32mreturn\u001b[0m \u001b[0mX\u001b[0m\u001b[1;33m\u001b[0m\u001b[0m\n\u001b[0;32m    696\u001b[0m \u001b[1;33m\u001b[0m\u001b[0m\n",
        "\u001b[1;31mValueError\u001b[0m: n_samples=1 should be >= n_clusters=3"
       ]
      }
     ],
     "prompt_number": 352
    },
    {
     "cell_type": "code",
     "collapsed": false,
     "input": [
      "y_pos = fdf.y>0\n",
      "y_pos = y_pos[(fdf.a14>0) & (fdf.ImbInd!=0)]\n",
      "y_pos.index = range(y_pos.shape[0])\n",
      "\n",
      "X_pos = fdf[(fdf.a14>0) & (fdf.ImbInd!=0)]\n",
      "X_pos.index = range(X_pos.shape[0])\n",
      "X_pos=X_pos[['Ask','AskD','Near','Far','Spread',\n",
      " 'D5', 'D555', 'D66', 'V1','V1n', 'V11', 'V11n',\n",
      " 'V8','V8n','V8nn', 'a1','a4','a5']]\n",
      "\n",
      "y_neg = fdf.y<0\n",
      "y_neg = y_neg[(fdf.a14<0) & (fdf.ImbInd!=0)]\n",
      "y_neg.index = range(y_neg.shape[0])\n",
      "\n",
      "X_neg = fdf[(fdf.a14<0) & (fdf.ImbInd!=0)]\n",
      "X_neg.index = range(X_neg.shape[0])\n",
      "X_neg=X_neg[['Bid','BidD','Near','Far','Spread',\n",
      " 'D4',  'D444', 'D66', 'V1','V1n', 'V11',  'V11n',\n",
      " 'V8','V8n','V8nn', 'a1','a4','a5']]\n",
      "\n",
      "dates = sorted(list(set(fdf.Date)))\n",
      "datesDF_pos = qimbs.dates_tmp_df(fdf[(fdf.a14>0) & (fdf.ImbInd!=0)])\n",
      "datesDF_neg = qimbs.dates_tmp_df(fdf[(fdf.a14<0) & (fdf.ImbInd!=0)])\n",
      "\n",
      "ERRORS = pd.DataFrame(columns=['Model','TrainError','TestError'])"
     ],
     "language": "python",
     "metadata": {},
     "outputs": [
      {
       "ename": "AttributeError",
       "evalue": "'DataFrame' object has no attribute 'ImbInd'",
       "output_type": "pyerr",
       "traceback": [
        "\u001b[1;31m---------------------------------------------------------------------------\u001b[0m\n\u001b[1;31mAttributeError\u001b[0m                            Traceback (most recent call last)",
        "\u001b[1;32m<ipython-input-353-97228acb7e6a>\u001b[0m in \u001b[0;36m<module>\u001b[1;34m()\u001b[0m\n\u001b[0;32m      1\u001b[0m \u001b[0my_pos\u001b[0m \u001b[1;33m=\u001b[0m \u001b[0mfdf\u001b[0m\u001b[1;33m.\u001b[0m\u001b[0my\u001b[0m\u001b[1;33m>\u001b[0m\u001b[1;36m0\u001b[0m\u001b[1;33m\u001b[0m\u001b[0m\n\u001b[1;32m----> 2\u001b[1;33m \u001b[0my_pos\u001b[0m \u001b[1;33m=\u001b[0m \u001b[0my_pos\u001b[0m\u001b[1;33m[\u001b[0m\u001b[1;33m(\u001b[0m\u001b[0mfdf\u001b[0m\u001b[1;33m.\u001b[0m\u001b[0ma14\u001b[0m\u001b[1;33m>\u001b[0m\u001b[1;36m0\u001b[0m\u001b[1;33m)\u001b[0m \u001b[1;33m&\u001b[0m \u001b[1;33m(\u001b[0m\u001b[0mfdf\u001b[0m\u001b[1;33m.\u001b[0m\u001b[0mImbInd\u001b[0m\u001b[1;33m!=\u001b[0m\u001b[1;36m0\u001b[0m\u001b[1;33m)\u001b[0m\u001b[1;33m]\u001b[0m\u001b[1;33m\u001b[0m\u001b[0m\n\u001b[0m\u001b[0;32m      3\u001b[0m \u001b[0my_pos\u001b[0m\u001b[1;33m.\u001b[0m\u001b[0mindex\u001b[0m \u001b[1;33m=\u001b[0m \u001b[0mrange\u001b[0m\u001b[1;33m(\u001b[0m\u001b[0my_pos\u001b[0m\u001b[1;33m.\u001b[0m\u001b[0mshape\u001b[0m\u001b[1;33m[\u001b[0m\u001b[1;36m0\u001b[0m\u001b[1;33m]\u001b[0m\u001b[1;33m)\u001b[0m\u001b[1;33m\u001b[0m\u001b[0m\n\u001b[0;32m      4\u001b[0m \u001b[1;33m\u001b[0m\u001b[0m\n\u001b[0;32m      5\u001b[0m \u001b[0mX_pos\u001b[0m \u001b[1;33m=\u001b[0m \u001b[0mfdf\u001b[0m\u001b[1;33m[\u001b[0m\u001b[1;33m(\u001b[0m\u001b[0mfdf\u001b[0m\u001b[1;33m.\u001b[0m\u001b[0ma14\u001b[0m\u001b[1;33m>\u001b[0m\u001b[1;36m0\u001b[0m\u001b[1;33m)\u001b[0m \u001b[1;33m&\u001b[0m \u001b[1;33m(\u001b[0m\u001b[0mfdf\u001b[0m\u001b[1;33m.\u001b[0m\u001b[0mImbInd\u001b[0m\u001b[1;33m!=\u001b[0m\u001b[1;36m0\u001b[0m\u001b[1;33m)\u001b[0m\u001b[1;33m]\u001b[0m\u001b[1;33m\u001b[0m\u001b[0m\n",
        "\u001b[1;32m/usr/local/lib/python2.7/dist-packages/pandas/core/generic.pyc\u001b[0m in \u001b[0;36m__getattr__\u001b[1;34m(self, name)\u001b[0m\n\u001b[0;32m   1841\u001b[0m                 \u001b[1;32mreturn\u001b[0m \u001b[0mself\u001b[0m\u001b[1;33m[\u001b[0m\u001b[0mname\u001b[0m\u001b[1;33m]\u001b[0m\u001b[1;33m\u001b[0m\u001b[0m\n\u001b[0;32m   1842\u001b[0m             raise AttributeError(\"'%s' object has no attribute '%s'\" %\n\u001b[1;32m-> 1843\u001b[1;33m                                  (type(self).__name__, name))\n\u001b[0m\u001b[0;32m   1844\u001b[0m \u001b[1;33m\u001b[0m\u001b[0m\n\u001b[0;32m   1845\u001b[0m     \u001b[1;32mdef\u001b[0m \u001b[0m__setattr__\u001b[0m\u001b[1;33m(\u001b[0m\u001b[0mself\u001b[0m\u001b[1;33m,\u001b[0m \u001b[0mname\u001b[0m\u001b[1;33m,\u001b[0m \u001b[0mvalue\u001b[0m\u001b[1;33m)\u001b[0m\u001b[1;33m:\u001b[0m\u001b[1;33m\u001b[0m\u001b[0m\n",
        "\u001b[1;31mAttributeError\u001b[0m: 'DataFrame' object has no attribute 'ImbInd'"
       ]
      }
     ],
     "prompt_number": 353
    },
    {
     "cell_type": "code",
     "collapsed": false,
     "input": [
      "ym_pos = fdf.OpenP.copy()\n",
      "ym_pos[:] = 0\n",
      "ym_pos[fdf.OpenP>fdf.AskP+0.05] = 1\n",
      "ym_pos = ym_pos[(fdf.a14>0) & (fdf.ImbInd==0)]\n",
      "ym_pos.index = range(ym_pos.shape[0])\n",
      "\n",
      "ym_neg = fdf.OpenP.copy()\n",
      "ym_neg[:] = 0\n",
      "ym_neg[fdf.OpenP<fdf.BidP-0.05] = 1\n",
      "ym_neg = ym_neg[(fdf.a14<0) & (fdf.ImbInd==0)]\n",
      "ym_neg.index = range(ym_neg.shape[0])"
     ],
     "language": "python",
     "metadata": {},
     "outputs": [
      {
       "ename": "AttributeError",
       "evalue": "'DataFrame' object has no attribute 'OpenP'",
       "output_type": "pyerr",
       "traceback": [
        "\u001b[1;31m---------------------------------------------------------------------------\u001b[0m\n\u001b[1;31mAttributeError\u001b[0m                            Traceback (most recent call last)",
        "\u001b[1;32m<ipython-input-351-da15062f3a00>\u001b[0m in \u001b[0;36m<module>\u001b[1;34m()\u001b[0m\n\u001b[1;32m----> 1\u001b[1;33m \u001b[0mym_pos\u001b[0m \u001b[1;33m=\u001b[0m \u001b[0mfdf\u001b[0m\u001b[1;33m.\u001b[0m\u001b[0mOpenP\u001b[0m\u001b[1;33m.\u001b[0m\u001b[0mcopy\u001b[0m\u001b[1;33m(\u001b[0m\u001b[1;33m)\u001b[0m\u001b[1;33m\u001b[0m\u001b[0m\n\u001b[0m\u001b[0;32m      2\u001b[0m \u001b[0mym_pos\u001b[0m\u001b[1;33m[\u001b[0m\u001b[1;33m:\u001b[0m\u001b[1;33m]\u001b[0m \u001b[1;33m=\u001b[0m \u001b[1;36m0\u001b[0m\u001b[1;33m\u001b[0m\u001b[0m\n\u001b[0;32m      3\u001b[0m \u001b[0mym_pos\u001b[0m\u001b[1;33m[\u001b[0m\u001b[0mfdf\u001b[0m\u001b[1;33m.\u001b[0m\u001b[0mOpenP\u001b[0m\u001b[1;33m>\u001b[0m\u001b[0mfdf\u001b[0m\u001b[1;33m.\u001b[0m\u001b[0mAskP\u001b[0m\u001b[1;33m+\u001b[0m\u001b[1;36m0.05\u001b[0m\u001b[1;33m]\u001b[0m \u001b[1;33m=\u001b[0m \u001b[1;36m1\u001b[0m\u001b[1;33m\u001b[0m\u001b[0m\n\u001b[0;32m      4\u001b[0m \u001b[0mym_pos\u001b[0m \u001b[1;33m=\u001b[0m \u001b[0mym_pos\u001b[0m\u001b[1;33m[\u001b[0m\u001b[1;33m(\u001b[0m\u001b[0mfdf\u001b[0m\u001b[1;33m.\u001b[0m\u001b[0ma14\u001b[0m\u001b[1;33m>\u001b[0m\u001b[1;36m0\u001b[0m\u001b[1;33m)\u001b[0m \u001b[1;33m&\u001b[0m \u001b[1;33m(\u001b[0m\u001b[0mfdf\u001b[0m\u001b[1;33m.\u001b[0m\u001b[0mImbInd\u001b[0m\u001b[1;33m==\u001b[0m\u001b[1;36m0\u001b[0m\u001b[1;33m)\u001b[0m\u001b[1;33m]\u001b[0m\u001b[1;33m\u001b[0m\u001b[0m\n\u001b[0;32m      5\u001b[0m \u001b[0mym_pos\u001b[0m\u001b[1;33m.\u001b[0m\u001b[0mindex\u001b[0m \u001b[1;33m=\u001b[0m \u001b[0mrange\u001b[0m\u001b[1;33m(\u001b[0m\u001b[0mym_pos\u001b[0m\u001b[1;33m.\u001b[0m\u001b[0mshape\u001b[0m\u001b[1;33m[\u001b[0m\u001b[1;36m0\u001b[0m\u001b[1;33m]\u001b[0m\u001b[1;33m)\u001b[0m\u001b[1;33m\u001b[0m\u001b[0m\n",
        "\u001b[1;32m/usr/local/lib/python2.7/dist-packages/pandas/core/generic.pyc\u001b[0m in \u001b[0;36m__getattr__\u001b[1;34m(self, name)\u001b[0m\n\u001b[0;32m   1841\u001b[0m                 \u001b[1;32mreturn\u001b[0m \u001b[0mself\u001b[0m\u001b[1;33m[\u001b[0m\u001b[0mname\u001b[0m\u001b[1;33m]\u001b[0m\u001b[1;33m\u001b[0m\u001b[0m\n\u001b[0;32m   1842\u001b[0m             raise AttributeError(\"'%s' object has no attribute '%s'\" %\n\u001b[1;32m-> 1843\u001b[1;33m                                  (type(self).__name__, name))\n\u001b[0m\u001b[0;32m   1844\u001b[0m \u001b[1;33m\u001b[0m\u001b[0m\n\u001b[0;32m   1845\u001b[0m     \u001b[1;32mdef\u001b[0m \u001b[0m__setattr__\u001b[0m\u001b[1;33m(\u001b[0m\u001b[0mself\u001b[0m\u001b[1;33m,\u001b[0m \u001b[0mname\u001b[0m\u001b[1;33m,\u001b[0m \u001b[0mvalue\u001b[0m\u001b[1;33m)\u001b[0m\u001b[1;33m:\u001b[0m\u001b[1;33m\u001b[0m\u001b[0m\n",
        "\u001b[1;31mAttributeError\u001b[0m: 'DataFrame' object has no attribute 'OpenP'"
       ]
      }
     ],
     "prompt_number": 351
    },
    {
     "cell_type": "code",
     "collapsed": false,
     "input": [
      "#For automatic features generation\n",
      "y_pos = fdf.y>0\n",
      "y_pos = y_pos[fdf.ImbSign>0]\n",
      "y_pos.index = range(y_pos.shape[0])\n",
      "\n",
      "X_pos = fdf[fdf.ImbSign>0]\n",
      "X_pos.index = range(X_pos.shape[0])\n",
      "X_pos1=X_pos[['CloseP','Bid','Ask','Ref','Far','Near','ClosePSPY','BidSPY','AskSPY']]\n",
      "X_pos2=X_pos[['BidS','AskS','ImbS','AImbS','PairedS']]\n",
      "autoX_pos1 = autocreateFeatures(X_pos1,y_pos,1)\n",
      "autoX_pos1.columns = [\"a\"+str(x) for x in range(autoX_pos1.shape[1])]\n",
      "autoX_pos2 = autocreateFeatures(X_pos2,y_pos,1)\n",
      "autoX_pos2.columns = [\"b\"+str(x) for x in range(autoX_pos2.shape[1])]\n",
      "autoX_pos = pd.concat([autoX_pos1, autoX_pos2], axis=1)\n",
      "#X_pos_Benchmark = createFeaturesBench(X_pos)\n",
      "\n",
      "\n",
      "y_neg = fdf.y<0\n",
      "y_neg = y_neg[fdf.ImbSign<0]\n",
      "y_neg.index = range(y_neg.shape[0])\n",
      "\n",
      "X_neg = fdf[fdf.ImbSign<0]\n",
      "X_neg.index = range(X_neg.shape[0])\n",
      "X_neg1=X_neg[['CloseP','Bid','Ask','Ref','Far','Near','ClosePSPY','BidSPY','AskSPY']]\n",
      "X_neg2=X_neg[['BidS','AskS','ImbS','AImbS','PairedS']]\n",
      "autoX_neg1 = autocreateFeatures(X_neg1,y_neg,1)\n",
      "autoX_neg1.columns = [\"a\"+str(x) for x in range(autoX_neg1.shape[1])]\n",
      "autoX_neg2 = autocreateFeatures(X_neg2,y_neg,1)\n",
      "autoX_neg2.columns = [\"b\"+str(x) for x in range(autoX_neg2.shape[1])]\n",
      "autoX_neg = pd.concat([autoX_neg1, autoX_neg2], axis=1)\n",
      "#X_neg_Benchmark = createFeaturesBench(X_neg)\n",
      "\n",
      "\n",
      "dates = sorted(list(set(fdf.Date)))\n",
      "datesDF_pos = qimbs.dates_tmp_df(fdf[fdf.ImbSign>0])\n",
      "datesDF_neg = qimbs.dates_tmp_df(fdf[fdf.ImbSign<0])\n",
      "\n",
      "ERRORS = pd.DataFrame(columns=['Model','TrainError','TestError'])"
     ],
     "language": "python",
     "metadata": {},
     "outputs": [],
     "prompt_number": 8
    },
    {
     "cell_type": "code",
     "collapsed": false,
     "input": [
      "qimbs.OneModelResults('NN', X_pos,y_pos,ERRORS,dates,datesDF_pos)"
     ],
     "language": "python",
     "metadata": {},
     "outputs": []
    },
    {
     "cell_type": "code",
     "collapsed": false,
     "input": [
      "qimbs.OneModelResults('NN', X_neg,y_neg,ERRORS,dates,datesDF_neg)"
     ],
     "language": "python",
     "metadata": {},
     "outputs": []
    },
    {
     "cell_type": "code",
     "collapsed": false,
     "input": [
      "qimbs.OneModelResults('COMB', X_pos,y_pos,ERRORS,dates,datesDF_pos)"
     ],
     "language": "python",
     "metadata": {},
     "outputs": [
      {
       "output_type": "stream",
       "stream": "stdout",
       "text": [
        "Precision - 0.799295774648, Recall - 0.88326848249, F_Score - 0.839186691312\n"
       ]
      },
      {
       "metadata": {},
       "output_type": "display_data",
       "png": "[encoded data removed]",
       "text": [
        "<matplotlib.figure.Figure at 0x71239d0>"
       ]
      }
     ],
     "prompt_number": 105
    },
    {
     "cell_type": "code",
     "collapsed": false,
     "input": [
      "qimbs.OneModelResults('COMB', X_neg,ym_neg,ERRORS,dates,datesDF_neg)"
     ],
     "language": "python",
     "metadata": {},
     "outputs": [
      {
       "output_type": "stream",
       "stream": "stdout",
       "text": [
        "Precision - 0.842696629213, Recall - 0.944584382872, F_Score - 0.890736342043\n"
       ]
      },
      {
       "metadata": {},
       "output_type": "display_data",
       "png": "[encoded data removed]",
       "text": [
        "<matplotlib.figure.Figure at 0x7f32454bead0>"
       ]
      }
     ],
     "prompt_number": 106
    },
    {
     "cell_type": "code",
     "collapsed": false,
     "input": [
      "X_pos.describe()"
     ],
     "language": "python",
     "metadata": {},
     "outputs": [
      {
       "html": [
        "<div style=\"max-height:1000px;max-width:1500px;overflow:auto;\">\n",
        "<table border=\"1\" class=\"dataframe\">\n",
        "  <thead>\n",
        "    <tr style=\"text-align: right;\">\n",
        "      <th></th>\n",
        "      <th>Ask</th>\n",
        "      <th>AskD</th>\n",
        "      <th>Near</th>\n",
        "      <th>Far</th>\n",
        "      <th>Spread</th>\n",
        "      <th>D5</th>\n",
        "      <th>D555</th>\n",
        "      <th>D66</th>\n",
        "      <th>V1</th>\n",
        "      <th>V1n</th>\n",
        "      <th>V11</th>\n",
        "      <th>V11n</th>\n",
        "      <th>V8</th>\n",
        "      <th>V8n</th>\n",
        "      <th>V8nn</th>\n",
        "      <th>a1</th>\n",
        "      <th>a4</th>\n",
        "      <th>a5</th>\n",
        "    </tr>\n",
        "  </thead>\n",
        "  <tbody>\n",
        "    <tr>\n",
        "      <th>count</th>\n",
        "      <td> 14879.000000</td>\n",
        "      <td> 14879.000000</td>\n",
        "      <td> 14879.000000</td>\n",
        "      <td> 14879.000000</td>\n",
        "      <td> 14879.000000</td>\n",
        "      <td> 14879.000000</td>\n",
        "      <td> 14879.000000</td>\n",
        "      <td> 14879.000000</td>\n",
        "      <td> 14879.000000</td>\n",
        "      <td> 14879.000000</td>\n",
        "      <td> 14879.000000</td>\n",
        "      <td> 14879.000000</td>\n",
        "      <td> 14879.000000</td>\n",
        "      <td> 14879.000000</td>\n",
        "      <td> 14879.000000</td>\n",
        "      <td> 14879.000000</td>\n",
        "      <td> 14879.000000</td>\n",
        "      <td> 14879.000000</td>\n",
        "    </tr>\n",
        "    <tr>\n",
        "      <th>mean</th>\n",
        "      <td>     0.011471</td>\n",
        "      <td>    -0.288095</td>\n",
        "      <td>     0.004151</td>\n",
        "      <td>     0.008808</td>\n",
        "      <td>     0.040402</td>\n",
        "      <td>    -1.152118</td>\n",
        "      <td>    -0.046802</td>\n",
        "      <td>     0.984486</td>\n",
        "      <td>    -0.061686</td>\n",
        "      <td>     0.016349</td>\n",
        "      <td>     0.193627</td>\n",
        "      <td>     0.016231</td>\n",
        "      <td>     1.461823</td>\n",
        "      <td>     0.880002</td>\n",
        "      <td>     0.863771</td>\n",
        "      <td>     0.001206</td>\n",
        "      <td>     9.386148</td>\n",
        "      <td>    -0.000807</td>\n",
        "    </tr>\n",
        "    <tr>\n",
        "      <th>std</th>\n",
        "      <td>     0.052020</td>\n",
        "      <td>     1.582329</td>\n",
        "      <td>     0.010867</td>\n",
        "      <td>     0.031459</td>\n",
        "      <td>     0.081714</td>\n",
        "      <td>     5.275008</td>\n",
        "      <td>     0.186648</td>\n",
        "      <td>     3.323222</td>\n",
        "      <td>    14.438389</td>\n",
        "      <td>     0.406326</td>\n",
        "      <td>     8.931858</td>\n",
        "      <td>     0.368734</td>\n",
        "      <td>     7.998493</td>\n",
        "      <td>     3.391617</td>\n",
        "      <td>     3.422054</td>\n",
        "      <td>     0.012895</td>\n",
        "      <td>    92.705059</td>\n",
        "      <td>     1.035148</td>\n",
        "    </tr>\n",
        "    <tr>\n",
        "      <th>min</th>\n",
        "      <td>    -0.160036</td>\n",
        "      <td>   -62.550000</td>\n",
        "      <td>     0.000000</td>\n",
        "      <td>     0.000000</td>\n",
        "      <td>    -0.005208</td>\n",
        "      <td>  -153.382259</td>\n",
        "      <td>    -0.956607</td>\n",
        "      <td>   -41.720991</td>\n",
        "      <td> -1397.357016</td>\n",
        "      <td>    -1.975086</td>\n",
        "      <td>  -496.875000</td>\n",
        "      <td>    -1.984394</td>\n",
        "      <td>     0.000081</td>\n",
        "      <td>     0.000031</td>\n",
        "      <td>    -1.972222</td>\n",
        "      <td>    -0.410224</td>\n",
        "      <td> -3660.303681</td>\n",
        "      <td>  -125.105684</td>\n",
        "    </tr>\n",
        "    <tr>\n",
        "      <th>25%</th>\n",
        "      <td>     0.000000</td>\n",
        "      <td>    -0.010000</td>\n",
        "      <td>     0.000000</td>\n",
        "      <td>     0.000637</td>\n",
        "      <td>     0.003717</td>\n",
        "      <td>    -0.093633</td>\n",
        "      <td>    -0.009615</td>\n",
        "      <td>     0.116150</td>\n",
        "      <td>    -0.039936</td>\n",
        "      <td>    -0.035796</td>\n",
        "      <td>    -0.012641</td>\n",
        "      <td>    -0.012137</td>\n",
        "      <td>     0.115753</td>\n",
        "      <td>     0.089893</td>\n",
        "      <td>     0.075261</td>\n",
        "      <td>     0.000000</td>\n",
        "      <td>     0.000000</td>\n",
        "      <td>     0.000000</td>\n",
        "    </tr>\n",
        "    <tr>\n",
        "      <th>50%</th>\n",
        "      <td>     0.000000</td>\n",
        "      <td>     0.000000</td>\n",
        "      <td>     0.000873</td>\n",
        "      <td>     0.001944</td>\n",
        "      <td>     0.010252</td>\n",
        "      <td>     0.000000</td>\n",
        "      <td>     0.000000</td>\n",
        "      <td>     0.355556</td>\n",
        "      <td>     0.000000</td>\n",
        "      <td>     0.000000</td>\n",
        "      <td>     0.000000</td>\n",
        "      <td>     0.000000</td>\n",
        "      <td>     0.359247</td>\n",
        "      <td>     0.271473</td>\n",
        "      <td>     0.275652</td>\n",
        "      <td>     0.000000</td>\n",
        "      <td>     0.000000</td>\n",
        "      <td>     0.000000</td>\n",
        "    </tr>\n",
        "    <tr>\n",
        "      <th>75%</th>\n",
        "      <td>     0.000926</td>\n",
        "      <td>     0.000000</td>\n",
        "      <td>     0.003469</td>\n",
        "      <td>     0.005695</td>\n",
        "      <td>     0.040324</td>\n",
        "      <td>     0.000000</td>\n",
        "      <td>     0.000000</td>\n",
        "      <td>     1.077836</td>\n",
        "      <td>     0.064925</td>\n",
        "      <td>     0.060858</td>\n",
        "      <td>     0.015255</td>\n",
        "      <td>     0.014928</td>\n",
        "      <td>     1.025731</td>\n",
        "      <td>     0.721339</td>\n",
        "      <td>     0.789923</td>\n",
        "      <td>     0.000012</td>\n",
        "      <td>     0.118787</td>\n",
        "      <td>     0.002400</td>\n",
        "    </tr>\n",
        "    <tr>\n",
        "      <th>max</th>\n",
        "      <td>     1.536274</td>\n",
        "      <td>    32.120000</td>\n",
        "      <td>     0.194030</td>\n",
        "      <td>     0.492673</td>\n",
        "      <td>     1.640780</td>\n",
        "      <td>    28.495066</td>\n",
        "      <td>    11.088710</td>\n",
        "      <td>    78.490644</td>\n",
        "      <td>   473.714286</td>\n",
        "      <td>     1.991592</td>\n",
        "      <td>   352.139394</td>\n",
        "      <td>     1.986111</td>\n",
        "      <td>   614.700000</td>\n",
        "      <td>   167.049180</td>\n",
        "      <td>   168.655738</td>\n",
        "      <td>     0.500538</td>\n",
        "      <td>  2507.472438</td>\n",
        "      <td>     0.243314</td>\n",
        "    </tr>\n",
        "  </tbody>\n",
        "</table>\n",
        "</div>"
       ],
       "metadata": {},
       "output_type": "pyout",
       "prompt_number": 434,
       "text": [
        "                Ask          AskD          Near           Far        Spread  \\\n",
        "count  14879.000000  14879.000000  14879.000000  14879.000000  14879.000000   \n",
        "mean       0.011471     -0.288095      0.004151      0.008808      0.040402   \n",
        "std        0.052020      1.582329      0.010867      0.031459      0.081714   \n",
        "min       -0.160036    -62.550000      0.000000      0.000000     -0.005208   \n",
        "25%        0.000000     -0.010000      0.000000      0.000637      0.003717   \n",
        "50%        0.000000      0.000000      0.000873      0.001944      0.010252   \n",
        "75%        0.000926      0.000000      0.003469      0.005695      0.040324   \n",
        "max        1.536274     32.120000      0.194030      0.492673      1.640780   \n",
        "\n",
        "                 D5          D555           D66            V1           V1n  \\\n",
        "count  14879.000000  14879.000000  14879.000000  14879.000000  14879.000000   \n",
        "mean      -1.152118     -0.046802      0.984486     -0.061686      0.016349   \n",
        "std        5.275008      0.186648      3.323222     14.438389      0.406326   \n",
        "min     -153.382259     -0.956607    -41.720991  -1397.357016     -1.975086   \n",
        "25%       -0.093633     -0.009615      0.116150     -0.039936     -0.035796   \n",
        "50%        0.000000      0.000000      0.355556      0.000000      0.000000   \n",
        "75%        0.000000      0.000000      1.077836      0.064925      0.060858   \n",
        "max       28.495066     11.088710     78.490644    473.714286      1.991592   \n",
        "\n",
        "                V11          V11n            V8           V8n          V8nn  \\\n",
        "count  14879.000000  14879.000000  14879.000000  14879.000000  14879.000000   \n",
        "mean       0.193627      0.016231      1.461823      0.880002      0.863771   \n",
        "std        8.931858      0.368734      7.998493      3.391617      3.422054   \n",
        "min     -496.875000     -1.984394      0.000081      0.000031     -1.972222   \n",
        "25%       -0.012641     -0.012137      0.115753      0.089893      0.075261   \n",
        "50%        0.000000      0.000000      0.359247      0.271473      0.275652   \n",
        "75%        0.015255      0.014928      1.025731      0.721339      0.789923   \n",
        "max      352.139394      1.986111    614.700000    167.049180    168.655738   \n",
        "\n",
        "                 a1            a4            a5  \n",
        "count  14879.000000  14879.000000  14879.000000  \n",
        "mean       0.001206      9.386148     -0.000807  \n",
        "std        0.012895     92.705059      1.035148  \n",
        "min       -0.410224  -3660.303681   -125.105684  \n",
        "25%        0.000000      0.000000      0.000000  \n",
        "50%        0.000000      0.000000      0.000000  \n",
        "75%        0.000012      0.118787      0.002400  \n",
        "max        0.500538   2507.472438      0.243314  "
       ]
      }
     ],
     "prompt_number": 434
    },
    {
     "cell_type": "code",
     "collapsed": false,
     "input": [
      "from sklearn.ensemble import RandomForestClassifier as RF\n",
      "reload(qimbs)\n",
      "qimbs.OneModelResults(RF, X_pos,ym_pos,ERRORS,dates,datesDF_pos)"
     ],
     "language": "python",
     "metadata": {},
     "outputs": [
      {
       "output_type": "stream",
       "stream": "stdout",
       "text": [
        "max F_Score  0.894736842105\n",
        "Precision - 0.759206798867, Recall - 0.598214285714, F_Score - 0.669163545568\n"
       ]
      },
      {
       "metadata": {},
       "output_type": "pyout",
       "prompt_number": 403,
       "text": [
        "array([[ 84.93333333,   2.83333333],\n",
        "       [  6.        ,   8.93333333]])"
       ]
      },
      {
       "metadata": {},
       "output_type": "display_data",
       "png": "[encoded data removed]",
       "text": [
        "<matplotlib.figure.Figure at 0x7fab72bea510>"
       ]
      }
     ],
     "prompt_number": 403
    },
    {
     "cell_type": "code",
     "collapsed": false,
     "input": [
      "reload(qimbs)\n",
      "qimbs.OneModelResults(RF, X_neg,ym_neg,ERRORS,dates,datesDF_neg)"
     ],
     "language": "python",
     "metadata": {},
     "outputs": [
      {
       "output_type": "stream",
       "stream": "stdout",
       "text": [
        "max F_Score  0.916666666667\n",
        "Precision - 0.8, Recall - 0.755905511811, F_Score - 0.777327935223\n"
       ]
      },
      {
       "metadata": {},
       "output_type": "pyout",
       "prompt_number": 404,
       "text": [
        "array([[ 79.1       ,   3.2       ],\n",
        "       [  4.13333333,  12.8       ]])"
       ]
      },
      {
       "metadata": {},
       "output_type": "display_data",
       "png": "[encoded data removed]",
       "text": [
        "<matplotlib.figure.Figure at 0x1152a110>"
       ]
      }
     ],
     "prompt_number": 404
    },
    {
     "cell_type": "code",
     "collapsed": false,
     "input": [
      "from sklearn.ensemble import GradientBoostingClassifier as GBC\n",
      "qimbs.OneModelResults(GBC, X_pos,ym_pos,ERRORS,dates,datesDF_pos)"
     ],
     "language": "python",
     "metadata": {},
     "outputs": [
      {
       "output_type": "stream",
       "stream": "stdout",
       "text": [
        "Precision - 0.757510729614, Recall - 0.740818467996, F_Score - 0.749071618037\n"
       ]
      },
      {
       "metadata": {},
       "output_type": "pyout",
       "prompt_number": 189,
       "text": [
        "array([[ 32.94915254,   3.83050847],\n",
        "       [  4.18644068,  11.96610169]])"
       ]
      },
      {
       "metadata": {},
       "output_type": "display_data",
       "png": "[encoded data removed]",
       "text": [
        "<matplotlib.figure.Figure at 0x7f4bfcd1d690>"
       ]
      }
     ],
     "prompt_number": 189
    },
    {
     "cell_type": "code",
     "collapsed": false,
     "input": [
      "qimbs.OneModelResults(GBC, X_neg,ym_neg,ERRORS,dates,datesDF_neg)"
     ],
     "language": "python",
     "metadata": {},
     "outputs": [
      {
       "output_type": "stream",
       "stream": "stdout",
       "text": [
        "Precision - 0.804517133956, Recall - 0.83105390185, F_Score - 0.817570241393\n"
       ]
      },
      {
       "metadata": {},
       "output_type": "pyout",
       "prompt_number": 164,
       "text": [
        "array([[ 33.28813559,   4.25423729],\n",
        "       [  3.55932203,  17.50847458]])"
       ]
      },
      {
       "metadata": {},
       "output_type": "display_data",
       "png": "[encoded data removed]",
       "text": [
        "<matplotlib.figure.Figure at 0xc2b1750>"
       ]
      }
     ],
     "prompt_number": 164
    },
    {
     "cell_type": "code",
     "collapsed": false,
     "input": [
      "qimbs.OneModelResults('COMB', X_pos,ym_pos,ERRORS,dates,datesDF_pos)"
     ],
     "language": "python",
     "metadata": {},
     "outputs": [
      {
       "output_type": "stream",
       "stream": "stdout",
       "text": [
        "Precision - 0.858447488584, Recall - 0.643835616438, F_Score - 0.735812133072\n"
       ]
      },
      {
       "metadata": {},
       "output_type": "display_data",
       "png": "[encoded data removed]",
       "text": [
        "<matplotlib.figure.Figure at 0x4bec2510>"
       ]
      },
      {
       "metadata": {},
       "output_type": "display_data",
       "png": "[encoded data removed]",
       "text": [
        "<matplotlib.figure.Figure at 0x3df2dad0>"
       ]
      },
      {
       "metadata": {},
       "output_type": "pyout",
       "prompt_number": 44,
       "text": [
        "(<ggplot: (64957845)>, array([[ 57.4,   3.1],\n",
        "        [ 10.4,  18.8]]))"
       ]
      }
     ],
     "prompt_number": 44
    },
    {
     "cell_type": "code",
     "collapsed": false,
     "input": [
      "qimbs.OneModelResults('COMB', X_neg,ym_neg,ERRORS,dates,datesDF_neg)"
     ],
     "language": "python",
     "metadata": {},
     "outputs": [
      {
       "output_type": "stream",
       "stream": "stdout",
       "text": [
        "Precision - 0.718309859155, Recall - 0.610778443114, F_Score - 0.660194174757\n"
       ]
      },
      {
       "metadata": {},
       "output_type": "display_data",
       "png": "[encoded data removed]",
       "text": [
        "<matplotlib.figure.Figure at 0x4bec2dd0>"
       ]
      },
      {
       "metadata": {},
       "output_type": "display_data",
       "png": "[encoded data removed]",
       "text": [
        "<matplotlib.figure.Figure at 0x4b813c50>"
       ]
      },
      {
       "metadata": {},
       "output_type": "pyout",
       "prompt_number": 38,
       "text": [
        "(<ggplot: (79170001)>, array([[ 45.8,   4. ],\n",
        "        [  6.5,  10.2]]))"
       ]
      }
     ],
     "prompt_number": 38
    },
    {
     "cell_type": "code",
     "collapsed": false,
     "input": [
      "qimbs.OneModelResults(RF, X_pos,ym_pos,ERRORS,dates,datesDF_pos)"
     ],
     "language": "python",
     "metadata": {},
     "outputs": [
      {
       "output_type": "stream",
       "stream": "stdout",
       "text": [
        "Precision - 0.711409395973, Recall - 0.610364683301, F_Score - 0.657024793388\n"
       ]
      },
      {
       "metadata": {},
       "output_type": "pyout",
       "prompt_number": 170,
       "text": [
        "array([[ 38.86666667,   4.3       ],\n",
        "       [  6.76666667,  10.6       ]])"
       ]
      },
      {
       "metadata": {},
       "output_type": "display_data",
       "png": "[encoded data removed]",
       "text": [
        "<matplotlib.figure.Figure at 0xf0eefd0>"
       ]
      }
     ],
     "prompt_number": 170
    },
    {
     "cell_type": "code",
     "collapsed": false,
     "input": [
      "qimbs.OneModelResults(RF, X_neg,ym_neg,ERRORS,dates,datesDF_neg)"
     ],
     "language": "python",
     "metadata": {},
     "outputs": [
      {
       "output_type": "stream",
       "stream": "stdout",
       "text": [
        "Precision - 0.791476407915, Recall - 0.723226703755, F_Score - 0.755813953488\n"
       ]
      },
      {
       "metadata": {},
       "output_type": "pyout",
       "prompt_number": 171,
       "text": [
        "array([[ 36.46666667,   4.56666667],\n",
        "       [  6.63333333,  17.33333333]])"
       ]
      },
      {
       "metadata": {},
       "output_type": "display_data",
       "png": "[encoded data removed]",
       "text": [
        "<matplotlib.figure.Figure at 0x7f32454be650>"
       ]
      }
     ],
     "prompt_number": 171
    },
    {
     "cell_type": "code",
     "collapsed": false,
     "input": [
      "ym_pos.hist()"
     ],
     "language": "python",
     "metadata": {},
     "outputs": [
      {
       "metadata": {},
       "output_type": "pyout",
       "prompt_number": 121,
       "text": [
        "<matplotlib.axes._subplots.AxesSubplot at 0x9febf90>"
       ]
      },
      {
       "metadata": {},
       "output_type": "display_data",
       "png": "[encoded data removed]",
       "text": [
        "<matplotlib.figure.Figure at 0x9fe8ed0>"
       ]
      }
     ],
     "prompt_number": 121
    },
    {
     "cell_type": "code",
     "collapsed": false,
     "input": [
      "from sklearn.ensemble import GradientBoostingClassifier as GBC\n",
      "qimbs.OneModelResults(GBC, X_pos,ym_pos,ERRORS,dates,datesDF_pos)"
     ],
     "language": "python",
     "metadata": {},
     "outputs": [
      {
       "output_type": "stream",
       "stream": "stdout",
       "text": [
        "Precision - 0.686440677966, Recall - 0.5625, F_Score - 0.618320610687\n"
       ]
      },
      {
       "metadata": {},
       "output_type": "display_data",
       "png": "[encoded data removed]",
       "text": [
        "<matplotlib.figure.Figure at 0x4e9105d0>"
       ]
      },
      {
       "metadata": {},
       "output_type": "display_data",
       "png": "[encoded data removed]",
       "text": [
        "<matplotlib.figure.Figure at 0x29cdb910>"
       ]
      },
      {
       "metadata": {},
       "output_type": "pyout",
       "prompt_number": 42,
       "text": [
        "(<ggplot: (82387025)>, array([[ 41. ,   3.7],\n",
        "        [  6.3,   8.1]]))"
       ]
      }
     ],
     "prompt_number": 42
    },
    {
     "cell_type": "code",
     "collapsed": false,
     "input": [
      "qimbs.OneModelResults(GBC, X_neg,ym_neg,ERRORS,dates,datesDF_neg)"
     ],
     "language": "python",
     "metadata": {},
     "outputs": [
      {
       "output_type": "stream",
       "stream": "stdout",
       "text": [
        "Precision - 0.733766233766, Recall - 0.664705882353, F_Score - 0.697530864198\n"
       ]
      },
      {
       "metadata": {},
       "output_type": "display_data",
       "png": "[encoded data removed]",
       "text": [
        "<matplotlib.figure.Figure at 0x4e931b10>"
       ]
      },
      {
       "metadata": {},
       "output_type": "display_data",
       "png": "[encoded data removed]",
       "text": [
        "<matplotlib.figure.Figure at 0x3f1062d0>"
       ]
      },
      {
       "metadata": {},
       "output_type": "pyout",
       "prompt_number": 43,
       "text": [
        "(<ggplot: (43826965)>, array([[ 44.2,   4.1],\n",
        "        [  5.7,  11.3]]))"
       ]
      }
     ],
     "prompt_number": 43
    },
    {
     "cell_type": "code",
     "collapsed": false,
     "input": [
      "#Lets see features importance and try to reduce the number of feature for RF algo\n",
      "from sklearn.ensemble import RandomForestClassifier as RF\n",
      "clf = RF(min_samples_split = X_pos.shape[0]*0.05, criterion = 'entropy',n_estimators =10)\n",
      "#Stage 2\n",
      "newX_pos=X_pos#createFeatures34(X_pos2)\n",
      "clf.fit(newX_pos,y_pos)\n",
      "\n",
      "fi = pd.DataFrame()\n",
      "fi['Feature'] = list(newX_pos.columns)\n",
      "fi['Impotrance'] = clf.feature_importances_\n",
      "fi=fi.sort(columns=['Impotrance'],ascending=False)\n",
      "fi['Index'] = range(newX_pos.shape[1])\n",
      "fi.index = fi['Index']\n",
      "\n",
      "'''for i in range(fi.shape[0]):\n",
      "    if (fi['Impotrance'][i]<0.005):\n",
      "        break\n",
      "    #print fi['Feature'][i]\n",
      "\n",
      "newX_pos = newX_pos[fi['Feature'][:i]]'''\n",
      "\n",
      "#Stage 2\n",
      "'''poly = PolynomialFeatures(2)\n",
      "newX_pos_2=pd.DataFrame(poly.fit_transform(newX_pos))\n",
      "clf.fit(newX_pos_2,y_pos)\n",
      "\n",
      "fi = pd.DataFrame()\n",
      "fi['Feature'] = list(newX_pos_2.columns)\n",
      "fi['Impotrance'] = clf.feature_importances_\n",
      "fi=fi.sort(columns=['Impotrance'],ascending=False)\n",
      "fi['Index'] = range(newX_pos_2.shape[1])\n",
      "fi.index = fi['Index']\n",
      "\n",
      "for i in range(fi.shape[0]):\n",
      "    if (fi['Impotrance'][i]<0.01):\n",
      "        break\n",
      "    #print fi['Feature'][i]\n",
      "\n",
      "newX_pos_2 = newX_pos_2[fi['Feature'][:i]]'''\n",
      "   \n",
      "ggplot(fi,aes('Index','Impotrance',label='Feature')) +\\\n",
      "geom_point() + geom_text(vjust=0.005)"
     ],
     "language": "python",
     "metadata": {},
     "outputs": [
      {
       "metadata": {},
       "output_type": "display_data",
       "png": "[encoded data removed]",
       "text": [
        "<matplotlib.figure.Figure at 0x9be6490>"
       ]
      },
      {
       "metadata": {},
       "output_type": "pyout",
       "prompt_number": 19,
       "text": [
        "<ggplot: (10217081)>"
       ]
      }
     ],
     "prompt_number": 19
    },
    {
     "cell_type": "code",
     "collapsed": false,
     "input": [
      "clf = RF(min_samples_split = X_neg.shape[0]*0.05, criterion = 'entropy',n_estimators =10)\n",
      "newX_neg=X_neg#createFeatures35(X_neg)\n",
      "clf.fit(newX_neg,y_neg)\n",
      "\n",
      "fi = pd.DataFrame()\n",
      "fi['Feature'] = list(newX_neg.columns)\n",
      "fi['Impotrance'] = clf.feature_importances_\n",
      "fi=fi.sort(columns=['Impotrance'],ascending=False)\n",
      "fi['Index'] = range(newX_neg.shape[1])\n",
      "fi.index = fi['Index']\n",
      "\n",
      "for i in range(fi.shape[0]):\n",
      "    if (fi['Impotrance'][i]<0.005):\n",
      "        break\n",
      "    #print fi['Feature'][i]\n",
      "    \n",
      "newX_neg = newX_neg[fi['Feature'][:i]]\n",
      "\n",
      "#Stage 2\n",
      "poly = PolynomialFeatures(2)\n",
      "newX_neg_2=pd.DataFrame(poly.fit_transform(newX_neg))\n",
      "clf.fit(newX_neg_2,y_neg)\n",
      "\n",
      "fi = pd.DataFrame()\n",
      "fi['Feature'] = list(newX_neg_2.columns)\n",
      "fi['Impotrance'] = clf.feature_importances_\n",
      "fi=fi.sort(columns=['Impotrance'],ascending=False)\n",
      "fi['Index'] = range(newX_neg_2.shape[1])\n",
      "fi.index = fi['Index']\n",
      "\n",
      "for i in range(fi.shape[0]):\n",
      "    if (fi['Impotrance'][i]<0.01):\n",
      "        break\n",
      "    #print fi['Feature'][i]\n",
      "\n",
      "newX_neg_2 = newX_neg_2[fi['Feature'][:i]]\n",
      "    \n",
      "ggplot(fi[fi['Impotrance']>0.01],aes('Index','Impotrance',label='Feature')) +\\\n",
      "geom_point() + geom_text(vjust=0.005)"
     ],
     "language": "python",
     "metadata": {},
     "outputs": [
      {
       "metadata": {},
       "output_type": "display_data",
       "png": "[encoded data removed]",
       "text": [
        "<matplotlib.figure.Figure at 0xa521d10>"
       ]
      },
      {
       "metadata": {},
       "output_type": "pyout",
       "prompt_number": 584,
       "text": [
        "<ggplot: (13230997)>"
       ]
      }
     ],
     "prompt_number": 584
    },
    {
     "cell_type": "code",
     "collapsed": false,
     "input": [
      "\n",
      "\n",
      "\n",
      "\n",
      "\n",
      "\n",
      "\n",
      "\n",
      "\n",
      "\n",
      "\n",
      "\n"
     ],
     "language": "python",
     "metadata": {},
     "outputs": []
    },
    {
     "cell_type": "code",
     "collapsed": false,
     "input": [
      "#Get error for these features bags\n",
      "from sklearn.feature_selection import f_classif\n",
      "from sklearn.metrics import confusion_matrix\n",
      "\n",
      "error1 = []\n",
      "error2 = []\n",
      "error3 = []\n",
      "nfeatures = range(1, X.shape[1])\n",
      "labels = list(set(y))\n",
      "for nfeature in nfeatures:\n",
      "    print nfeature\n",
      "    X_r = X[fi['Feature'][:nfeature]]\n",
      "    \n",
      "    err1 = []\n",
      "    err2 = []\n",
      "    err3 = []\n",
      "    for i in range(2):  \n",
      "        r = range(len(dates))\n",
      "        np.random.shuffle(r)\n",
      "        test_days = r[:1] \n",
      "        train_days = r[1:] \n",
      "               \n",
      "        Xtrain = X_r.ix[datesDF.ix[train_days],:]\n",
      "        Xtest = X_r.ix[datesDF.ix[test_days],:]\n",
      "        ytrain = y.ix[datesDF.ix[train_days]]\n",
      "        ytest = y.ix[datesDF.ix[test_days]]\n",
      "        \n",
      "        reg1 = RF()\n",
      "        reg1.fit(Xtrain, ytrain)\n",
      "        test_pr1 = qimbs.Precision_Recall(confusion_matrix(ytest,reg1.predict(Xtest),labels).astype(float))\n",
      "        err1.append(1-test_pr1[2])  \n",
      "        \n",
      "        reg2 = LR(class_weight='auto')\n",
      "        reg2.fit(Xtrain, ytrain)\n",
      "        test_pr2 = qimbs.Precision_Recall(confusion_matrix(ytest,reg2.predict(Xtest),labels).astype(float))\n",
      "        err2.append(1-test_pr2[2]) \n",
      "        \n",
      "        reg3 = SVC(class_weight='auto')\n",
      "        reg3.fit(Xtrain, ytrain)\n",
      "        test_pr3 = qimbs.Precision_Recall(confusion_matrix(ytest,reg3.predict(Xtest),labels).astype(float))\n",
      "        err3.append(1-test_pr3[2])  \n",
      "        \n",
      "    error1.append(np.mean(err1))\n",
      "    error2.append(np.mean(err2))\n",
      "    error3.append(np.mean(err3))\n",
      "    "
     ],
     "language": "python",
     "metadata": {},
     "outputs": []
    },
    {
     "cell_type": "code",
     "collapsed": false,
     "input": [
      "p_df=pd.DataFrame()\n",
      "p_df['I']=range(1, X.shape[1])\n",
      "p_df['RF']=error1\n",
      "p_df['LR']=error2\n",
      "p_df['SVC']=error3\n",
      "p_df_m = pd.melt(p_df, id_vars=['I'])\n",
      "\n",
      "ggplot(p_df_m,aes(x='I', y='value', colour='variable')) + geom_line() + geom_point() +\\\n",
      "xlab('n important features selected')+ylab('Error')+ggtitle('Features importance')\n"
     ],
     "language": "python",
     "metadata": {},
     "outputs": [
      {
       "metadata": {},
       "output_type": "display_data",
       "png": "[encoded data removed]",
       "text": [
        "<matplotlib.figure.Figure at 0x1975edd0>"
       ]
      },
      {
       "metadata": {},
       "output_type": "pyout",
       "prompt_number": 897,
       "text": [
        "<ggplot: (26697289)>"
       ]
      }
     ],
     "prompt_number": 897
    },
    {
     "cell_type": "code",
     "collapsed": false,
     "input": [
      "#Lets run RF with les features\n",
      "qimbs.OneModelResults(RF, X[fi['Feature'][:15]],np.abs(y), ERRORS,dates,datesDF)"
     ],
     "language": "python",
     "metadata": {},
     "outputs": [
      {
       "output_type": "stream",
       "stream": "stdout",
       "text": [
        "Precision - 0.845626072041, Recall - 0.869488536155, F_Score - 0.857391304348\n"
       ]
      },
      {
       "metadata": {},
       "output_type": "display_data",
       "png": "[encoded data removed]",
       "text": [
        "<matplotlib.figure.Figure at 0x2a69a850>"
       ]
      },
      {
       "metadata": {},
       "output_type": "display_data",
       "png": "[encoded data removed]",
       "text": [
        "<matplotlib.figure.Figure at 0x3f645e50>"
       ]
      },
      {
       "metadata": {},
       "output_type": "pyout",
       "prompt_number": 85,
       "text": [
        "<ggplot: (66470801)>"
       ]
      }
     ],
     "prompt_number": 85
    },
    {
     "cell_type": "code",
     "collapsed": false,
     "input": [
      "#Apply Logistic Regression\n",
      "from sklearn.linear_model import LogisticRegression as LR\n",
      "print \"Logistic Regression:\"\n",
      "reload(qimbs)\n",
      "qimbs.OneModelResults(LR, X_pos,y_pos,ERRORS,dates,datesDF_pos)"
     ],
     "language": "python",
     "metadata": {},
     "outputs": [
      {
       "output_type": "stream",
       "stream": "stdout",
       "text": [
        "Logistic Regression:\n",
        "Precision - 0.761324041812, Recall - 0.826086956522, F_Score - 0.792384406165"
       ]
      },
      {
       "output_type": "stream",
       "stream": "stdout",
       "text": [
        "\n"
       ]
      },
      {
       "metadata": {},
       "output_type": "pyout",
       "prompt_number": 92,
       "text": [
        "array([[ 22.85,   6.85],\n",
        "       [  4.6 ,  21.85]])"
       ]
      },
      {
       "metadata": {},
       "output_type": "display_data",
       "png": "[encoded data removed]",
       "text": [
        "<matplotlib.figure.Figure at 0x6146c10>"
       ]
      }
     ],
     "prompt_number": 92
    },
    {
     "cell_type": "code",
     "collapsed": false,
     "input": [
      "from sklearn.svm import SVC\n",
      "print \"SVC:\"\n",
      "qimbs.OneModelResults(SVC, X_pos, ym_pos,ERRORS,dates,datesDF_pos)"
     ],
     "language": "python",
     "metadata": {},
     "outputs": [
      {
       "output_type": "stream",
       "stream": "stdout",
       "text": [
        "SVC:\n",
        "Precision - 0.760180995475, Recall - 0.461538461538, F_Score - 0.574358974359"
       ]
      },
      {
       "output_type": "stream",
       "stream": "stdout",
       "text": [
        "\n"
       ]
      },
      {
       "metadata": {},
       "output_type": "pyout",
       "prompt_number": 226,
       "text": [
        "array([[ 43.47457627,   0.89830508],\n",
        "       [  3.3220339 ,   2.84745763]])"
       ]
      },
      {
       "metadata": {},
       "output_type": "display_data",
       "png": "[encoded data removed]",
       "text": [
        "<matplotlib.figure.Figure at 0x24e8d950>"
       ]
      }
     ],
     "prompt_number": 226
    },
    {
     "cell_type": "code",
     "collapsed": false,
     "input": [
      "ERRORS"
     ],
     "language": "python",
     "metadata": {},
     "outputs": [
      {
       "html": [
        "<div style=\"max-height:1000px;max-width:1500px;overflow:auto;\">\n",
        "<table border=\"1\" class=\"dataframe\">\n",
        "  <thead>\n",
        "    <tr style=\"text-align: right;\">\n",
        "      <th></th>\n",
        "      <th>Model</th>\n",
        "      <th>TrainError</th>\n",
        "      <th>TestError</th>\n",
        "    </tr>\n",
        "  </thead>\n",
        "  <tbody>\n",
        "    <tr>\n",
        "      <th>0 </th>\n",
        "      <td>     LogisticRegression'</td>\n",
        "      <td>  0.1960728</td>\n",
        "      <td>  0.1962975</td>\n",
        "    </tr>\n",
        "    <tr>\n",
        "      <th>1 </th>\n",
        "      <td>                    SVC'</td>\n",
        "      <td>  0.1628652</td>\n",
        "      <td>  0.1904898</td>\n",
        "    </tr>\n",
        "    <tr>\n",
        "      <th>2 </th>\n",
        "      <td>     LogisticRegression'</td>\n",
        "      <td>  0.2672839</td>\n",
        "      <td>   0.327252</td>\n",
        "    </tr>\n",
        "    <tr>\n",
        "      <th>3 </th>\n",
        "      <td>                    SVC'</td>\n",
        "      <td>  0.2954507</td>\n",
        "      <td>   0.425641</td>\n",
        "    </tr>\n",
        "    <tr>\n",
        "      <th>4 </th>\n",
        "      <td>     LogisticRegression'</td>\n",
        "      <td>  0.1826647</td>\n",
        "      <td>  0.1792959</td>\n",
        "    </tr>\n",
        "    <tr>\n",
        "      <th>5 </th>\n",
        "      <td>     LogisticRegression'</td>\n",
        "      <td>  0.1961296</td>\n",
        "      <td>  0.1923323</td>\n",
        "    </tr>\n",
        "    <tr>\n",
        "      <th>6 </th>\n",
        "      <td>     LogisticRegression'</td>\n",
        "      <td>  0.1960525</td>\n",
        "      <td>  0.2018663</td>\n",
        "    </tr>\n",
        "    <tr>\n",
        "      <th>7 </th>\n",
        "      <td> RandomForestClassifier'</td>\n",
        "      <td>  0.1326824</td>\n",
        "      <td>  0.1556904</td>\n",
        "    </tr>\n",
        "    <tr>\n",
        "      <th>8 </th>\n",
        "      <td> RandomForestClassifier'</td>\n",
        "      <td> 0.09466755</td>\n",
        "      <td> 0.09761754</td>\n",
        "    </tr>\n",
        "    <tr>\n",
        "      <th>9 </th>\n",
        "      <td> RandomForestClassifier'</td>\n",
        "      <td>  0.2606268</td>\n",
        "      <td>  0.2506024</td>\n",
        "    </tr>\n",
        "    <tr>\n",
        "      <th>10</th>\n",
        "      <td> RandomForestClassifier'</td>\n",
        "      <td>  0.2283879</td>\n",
        "      <td>  0.2327366</td>\n",
        "    </tr>\n",
        "  </tbody>\n",
        "</table>\n",
        "</div>"
       ],
       "metadata": {},
       "output_type": "pyout",
       "prompt_number": 234,
       "text": [
        "                      Model  TrainError   TestError\n",
        "0       LogisticRegression'   0.1960728   0.1962975\n",
        "1                      SVC'   0.1628652   0.1904898\n",
        "2       LogisticRegression'   0.2672839    0.327252\n",
        "3                      SVC'   0.2954507    0.425641\n",
        "4       LogisticRegression'   0.1826647   0.1792959\n",
        "5       LogisticRegression'   0.1961296   0.1923323\n",
        "6       LogisticRegression'   0.1960525   0.2018663\n",
        "7   RandomForestClassifier'   0.1326824   0.1556904\n",
        "8   RandomForestClassifier'  0.09466755  0.09761754\n",
        "9   RandomForestClassifier'   0.2606268   0.2506024\n",
        "10  RandomForestClassifier'   0.2283879   0.2327366"
       ]
      }
     ],
     "prompt_number": 234
    },
    {
     "cell_type": "code",
     "collapsed": false,
     "input": [
      "#Models comparison\n",
      "ERRORS=ERRORS.sort(['TrainError', 'TestError'])\n",
      "#ERRORS=ERRORS[:-1]\n",
      "ggplot(ERRORS, aes('TrainError', 'TestError')) + geom_point() + \\\n",
      "ggtitle('Model comparison') + xlab(\"TrainError\") +\\\n",
      "ylab(\"TestError\") +geom_text(aes(label='Model'),hjust=0, vjust=0)\\\n",
      "+ ylim(0,0.5)+ xlim(0,0.5) + geom_abline(intercept = 0.217, slope = 0\\\n",
      "                                         ,color='red')"
     ],
     "language": "python",
     "metadata": {},
     "outputs": [
      {
       "metadata": {},
       "output_type": "display_data",
       "png": "[encoded data removed]",
       "text": [
        "<matplotlib.figure.Figure at 0x7f4bfc9fe350>"
       ]
      },
      {
       "metadata": {},
       "output_type": "pyout",
       "prompt_number": 235,
       "text": [
        "<ggplot: (9447225)>"
       ]
      }
     ],
     "prompt_number": 235
    },
    {
     "cell_type": "code",
     "collapsed": false,
     "input": [
      "reload(qimbs)\n",
      "\n",
      "\n",
      "\n",
      "\n",
      "\n",
      "\n",
      "\n",
      "\n",
      "\n",
      "\n",
      "\n",
      "\n",
      "\n",
      "\n",
      "\n",
      "\n"
     ],
     "language": "python",
     "metadata": {},
     "outputs": [
      {
       "metadata": {},
       "output_type": "pyout",
       "prompt_number": 78,
       "text": [
        "<module 'qimbs' from 'qimbs.py'>"
       ]
      }
     ],
     "prompt_number": 78
    },
    {
     "cell_type": "code",
     "collapsed": false,
     "input": [
      "#Lets compare models in money\n",
      "reload(qimbs)\n",
      "#Benchmark\n",
      "Signals =  qimbs.get_signals1(imbalanceMsg,X,y,'B',dates,datesDF)\n",
      "result0 = qimbs.get_performance(Signals,df,dates,0)\n",
      "result0['I'] = result0.index\n",
      "ggplot(result0, aes('I','Pnl')) + geom_point() + ggtitle('Sum=%s' % result0.Pnl.sum()) + geom_line()"
     ],
     "language": "python",
     "metadata": {},
     "outputs": [
      {
       "output_type": "stream",
       "stream": "stderr",
       "text": [
        "/usr/local/lib/python2.7/dist-packages/pandas/core/generic.py:1858: SettingWithCopyWarning: A value is trying to be set on a copy of a slice from a DataFrame.\n",
        "Try using .loc[row_index,col_indexer] = value instead\n",
        "  self[name] = value\n",
        "/usr/local/lib/python2.7/dist-packages/pandas/core/series.py:637: SettingWithCopyWarning: A value is trying to be set on a copy of a slice from a DataFrame\n",
        "  self.where(~key, value, inplace=True)\n"
       ]
      },
      {
       "output_type": "stream",
       "stream": "stdout",
       "text": [
        "2014-05-01 8.82\n",
        "2014-05-02 10.74"
       ]
      },
      {
       "output_type": "stream",
       "stream": "stdout",
       "text": [
        "\n",
        "2014-05-05 8.71"
       ]
      },
      {
       "output_type": "stream",
       "stream": "stdout",
       "text": [
        "\n",
        "2014-05-06 7.59"
       ]
      },
      {
       "output_type": "stream",
       "stream": "stdout",
       "text": [
        "\n",
        "2014-05-07 48.1"
       ]
      },
      {
       "output_type": "stream",
       "stream": "stdout",
       "text": [
        "\n",
        "2014-05-08 17.25"
       ]
      },
      {
       "output_type": "stream",
       "stream": "stdout",
       "text": [
        "\n",
        "2014-05-09 8.63"
       ]
      },
      {
       "output_type": "stream",
       "stream": "stdout",
       "text": [
        "\n",
        "2014-05-12 7.75"
       ]
      },
      {
       "output_type": "stream",
       "stream": "stdout",
       "text": [
        "\n",
        "2014-05-13 9.43"
       ]
      },
      {
       "output_type": "stream",
       "stream": "stdout",
       "text": [
        "\n",
        "2014-05-14 8.97"
       ]
      },
      {
       "output_type": "stream",
       "stream": "stdout",
       "text": [
        "\n",
        "2014-05-15 8.87"
       ]
      },
      {
       "output_type": "stream",
       "stream": "stdout",
       "text": [
        "\n",
        "2014-05-16 4.74"
       ]
      },
      {
       "output_type": "stream",
       "stream": "stdout",
       "text": [
        "\n",
        "2014-05-19 6.44"
       ]
      },
      {
       "output_type": "stream",
       "stream": "stdout",
       "text": [
        "\n",
        "2014-05-20 12.52"
       ]
      },
      {
       "output_type": "stream",
       "stream": "stdout",
       "text": [
        "\n",
        "2014-05-21 5.26"
       ]
      },
      {
       "output_type": "stream",
       "stream": "stdout",
       "text": [
        "\n",
        "2014-05-22 7.53"
       ]
      },
      {
       "output_type": "stream",
       "stream": "stdout",
       "text": [
        "\n",
        "2014-05-23 7.51"
       ]
      },
      {
       "output_type": "stream",
       "stream": "stdout",
       "text": [
        "\n",
        "2014-05-27 13.49"
       ]
      },
      {
       "output_type": "stream",
       "stream": "stdout",
       "text": [
        "\n",
        "2014-05-28 10.43"
       ]
      },
      {
       "output_type": "stream",
       "stream": "stdout",
       "text": [
        "\n",
        "2014-05-29 1.33"
       ]
      },
      {
       "output_type": "stream",
       "stream": "stdout",
       "text": [
        "\n",
        "2014-05-30 2.02"
       ]
      },
      {
       "output_type": "stream",
       "stream": "stdout",
       "text": [
        "\n",
        "2014-06-02 11.34"
       ]
      },
      {
       "output_type": "stream",
       "stream": "stdout",
       "text": [
        "\n",
        "2014-06-03 5.59"
       ]
      },
      {
       "output_type": "stream",
       "stream": "stdout",
       "text": [
        "\n",
        "2014-06-04 5.78"
       ]
      },
      {
       "output_type": "stream",
       "stream": "stdout",
       "text": [
        "\n",
        "2014-06-05 8.19"
       ]
      },
      {
       "output_type": "stream",
       "stream": "stdout",
       "text": [
        "\n",
        "2014-06-06 13.99"
       ]
      },
      {
       "output_type": "stream",
       "stream": "stdout",
       "text": [
        "\n",
        "2014-06-09 6.88"
       ]
      },
      {
       "output_type": "stream",
       "stream": "stdout",
       "text": [
        "\n",
        "2014-06-10 5.39"
       ]
      },
      {
       "output_type": "stream",
       "stream": "stdout",
       "text": [
        "\n",
        "2014-06-11 5.71"
       ]
      },
      {
       "output_type": "stream",
       "stream": "stdout",
       "text": [
        "\n",
        "2014-06-16 8.06"
       ]
      },
      {
       "output_type": "stream",
       "stream": "stdout",
       "text": [
        "\n",
        "2014-06-17 6.79"
       ]
      },
      {
       "output_type": "stream",
       "stream": "stdout",
       "text": [
        "\n",
        "2014-06-18 10.34"
       ]
      },
      {
       "output_type": "stream",
       "stream": "stdout",
       "text": [
        "\n",
        "2014-06-19 8.08"
       ]
      },
      {
       "output_type": "stream",
       "stream": "stdout",
       "text": [
        "\n",
        "2014-06-20 4.93"
       ]
      },
      {
       "output_type": "stream",
       "stream": "stdout",
       "text": [
        "\n",
        "2014-06-23 12.01"
       ]
      },
      {
       "output_type": "stream",
       "stream": "stdout",
       "text": [
        "\n",
        "2014-06-24 5.71"
       ]
      },
      {
       "output_type": "stream",
       "stream": "stdout",
       "text": [
        "\n",
        "2014-06-25 7.67"
       ]
      },
      {
       "output_type": "stream",
       "stream": "stdout",
       "text": [
        "\n",
        "2014-06-26 11.54"
       ]
      },
      {
       "output_type": "stream",
       "stream": "stdout",
       "text": [
        "\n",
        "2014-06-27 8.54"
       ]
      },
      {
       "output_type": "stream",
       "stream": "stdout",
       "text": [
        "\n",
        "2014-06-30 10.58"
       ]
      },
      {
       "output_type": "stream",
       "stream": "stdout",
       "text": [
        "\n",
        "-38.4 373.25\n"
       ]
      },
      {
       "metadata": {},
       "output_type": "display_data",
       "png": "[encoded data removed]",
       "text": [
        "<matplotlib.figure.Figure at 0xf15e190>"
       ]
      },
      {
       "metadata": {},
       "output_type": "pyout",
       "prompt_number": 93,
       "text": [
        "<ggplot: (15818321)>"
       ]
      }
     ],
     "prompt_number": 93
    },
    {
     "cell_type": "code",
     "collapsed": false,
     "input": [
      "#RandomForest\n",
      "Signals =  qimbs.get_signals1(imbalanceMsg,X,y,RF,dates,datesDF)\n",
      "result2 = qimbs.get_performance(Signals,df,dates,0)\n",
      "result2['I'] = result2.index\n",
      "ggplot(result2, aes('I','Pnl')) + geom_point() + ggtitle('Sum=%s' % result2.Pnl.sum()) + geom_line()"
     ],
     "language": "python",
     "metadata": {},
     "outputs": [
      {
       "output_type": "stream",
       "stream": "stdout",
       "text": [
        "2014-05-01 9.5\n",
        "2014-05-02 14.57"
       ]
      },
      {
       "output_type": "stream",
       "stream": "stdout",
       "text": [
        "\n",
        "2014-05-05 10.54"
       ]
      },
      {
       "output_type": "stream",
       "stream": "stdout",
       "text": [
        "\n",
        "2014-05-06 9.18"
       ]
      },
      {
       "output_type": "stream",
       "stream": "stdout",
       "text": [
        "\n",
        "2014-05-07 54.16"
       ]
      },
      {
       "output_type": "stream",
       "stream": "stdout",
       "text": [
        "\n",
        "2014-05-08 21.79"
       ]
      },
      {
       "output_type": "stream",
       "stream": "stdout",
       "text": [
        "\n",
        "2014-05-09 9.19"
       ]
      },
      {
       "output_type": "stream",
       "stream": "stdout",
       "text": [
        "\n",
        "2014-05-12 8.66"
       ]
      },
      {
       "output_type": "stream",
       "stream": "stdout",
       "text": [
        "\n",
        "2014-05-13 9.75"
       ]
      },
      {
       "output_type": "stream",
       "stream": "stdout",
       "text": [
        "\n",
        "2014-05-14 8.9"
       ]
      },
      {
       "output_type": "stream",
       "stream": "stdout",
       "text": [
        "\n",
        "2014-05-15 10.35"
       ]
      },
      {
       "output_type": "stream",
       "stream": "stdout",
       "text": [
        "\n",
        "2014-05-16 4.94"
       ]
      },
      {
       "output_type": "stream",
       "stream": "stdout",
       "text": [
        "\n",
        "2014-05-19 6.9"
       ]
      },
      {
       "output_type": "stream",
       "stream": "stdout",
       "text": [
        "\n",
        "2014-05-20 11.92"
       ]
      },
      {
       "output_type": "stream",
       "stream": "stdout",
       "text": [
        "\n",
        "2014-05-21 6.07"
       ]
      },
      {
       "output_type": "stream",
       "stream": "stdout",
       "text": [
        "\n",
        "2014-05-22 8.4"
       ]
      },
      {
       "output_type": "stream",
       "stream": "stdout",
       "text": [
        "\n",
        "2014-05-23 7.64"
       ]
      },
      {
       "output_type": "stream",
       "stream": "stdout",
       "text": [
        "\n",
        "2014-05-27 14.18"
       ]
      },
      {
       "output_type": "stream",
       "stream": "stdout",
       "text": [
        "\n",
        "2014-05-28 10.37"
       ]
      },
      {
       "output_type": "stream",
       "stream": "stdout",
       "text": [
        "\n",
        "2014-05-29 1.22"
       ]
      },
      {
       "output_type": "stream",
       "stream": "stdout",
       "text": [
        "\n",
        "2014-05-30 3.73"
       ]
      },
      {
       "output_type": "stream",
       "stream": "stdout",
       "text": [
        "\n",
        "2014-06-02 12.51"
       ]
      },
      {
       "output_type": "stream",
       "stream": "stdout",
       "text": [
        "\n",
        "2014-06-03 7.1"
       ]
      },
      {
       "output_type": "stream",
       "stream": "stdout",
       "text": [
        "\n",
        "2014-06-04 5.88"
       ]
      },
      {
       "output_type": "stream",
       "stream": "stdout",
       "text": [
        "\n",
        "2014-06-05 10.93"
       ]
      },
      {
       "output_type": "stream",
       "stream": "stdout",
       "text": [
        "\n",
        "2014-06-06 15.23"
       ]
      },
      {
       "output_type": "stream",
       "stream": "stdout",
       "text": [
        "\n",
        "2014-06-09 5.83"
       ]
      },
      {
       "output_type": "stream",
       "stream": "stdout",
       "text": [
        "\n",
        "2014-06-10 7.81"
       ]
      },
      {
       "output_type": "stream",
       "stream": "stdout",
       "text": [
        "\n",
        "2014-06-11 6.44"
       ]
      },
      {
       "output_type": "stream",
       "stream": "stdout",
       "text": [
        "\n",
        "2014-06-16 8.67"
       ]
      },
      {
       "output_type": "stream",
       "stream": "stdout",
       "text": [
        "\n",
        "2014-06-17 7.53"
       ]
      },
      {
       "output_type": "stream",
       "stream": "stdout",
       "text": [
        "\n",
        "2014-06-18 10.37"
       ]
      },
      {
       "output_type": "stream",
       "stream": "stdout",
       "text": [
        "\n",
        "2014-06-19 8.07"
       ]
      },
      {
       "output_type": "stream",
       "stream": "stdout",
       "text": [
        "\n",
        "2014-06-20 5.51"
       ]
      },
      {
       "output_type": "stream",
       "stream": "stdout",
       "text": [
        "\n",
        "2014-06-23 12.46"
       ]
      },
      {
       "output_type": "stream",
       "stream": "stdout",
       "text": [
        "\n",
        "2014-06-24 4.76"
       ]
      },
      {
       "output_type": "stream",
       "stream": "stdout",
       "text": [
        "\n",
        "2014-06-25 8.22"
       ]
      },
      {
       "output_type": "stream",
       "stream": "stdout",
       "text": [
        "\n",
        "2014-06-26 11.69"
       ]
      },
      {
       "output_type": "stream",
       "stream": "stdout",
       "text": [
        "\n",
        "2014-06-27 11.13"
       ]
      },
      {
       "output_type": "stream",
       "stream": "stdout",
       "text": [
        "\n",
        "2014-06-30 9.5"
       ]
      },
      {
       "output_type": "stream",
       "stream": "stdout",
       "text": [
        "\n",
        "-33.44 411.6\n"
       ]
      },
      {
       "metadata": {},
       "output_type": "display_data",
       "png": "[encoded data removed]",
       "text": [
        "<matplotlib.figure.Figure at 0x26eb7850>"
       ]
      },
      {
       "metadata": {},
       "output_type": "pyout",
       "prompt_number": 109,
       "text": [
        "<ggplot: (14199881)>"
       ]
      }
     ],
     "prompt_number": 109
    },
    {
     "cell_type": "code",
     "collapsed": false,
     "input": [
      "#RandomForest\n",
      "Signals =  qimbs.get_signals1(imbalanceMsg,X,np.abs(y),RF,dates,datesDF)\n",
      "result2 = qimbs.get_performance(Signals,df,dates,0)\n",
      "result2['I'] = result2.index\n",
      "ggplot(result2, aes('I','Pnl')) + geom_point() + ggtitle('Sum=%s' % result2.Pnl.sum()) + geom_line()"
     ],
     "language": "python",
     "metadata": {},
     "outputs": [
      {
       "output_type": "stream",
       "stream": "stdout",
       "text": [
        "2014-05-01 9.42\n",
        "2014-05-02 14.48"
       ]
      },
      {
       "output_type": "stream",
       "stream": "stdout",
       "text": [
        "\n",
        "2014-05-05 10.82"
       ]
      },
      {
       "output_type": "stream",
       "stream": "stdout",
       "text": [
        "\n",
        "2014-05-06 8.56"
       ]
      },
      {
       "output_type": "stream",
       "stream": "stdout",
       "text": [
        "\n",
        "2014-05-07 53.02"
       ]
      },
      {
       "output_type": "stream",
       "stream": "stdout",
       "text": [
        "\n",
        "2014-05-08 20.93"
       ]
      },
      {
       "output_type": "stream",
       "stream": "stdout",
       "text": [
        "\n",
        "2014-05-09 9.84"
       ]
      },
      {
       "output_type": "stream",
       "stream": "stdout",
       "text": [
        "\n",
        "2014-05-12 8.62"
       ]
      },
      {
       "output_type": "stream",
       "stream": "stdout",
       "text": [
        "\n",
        "2014-05-13 9.55"
       ]
      },
      {
       "output_type": "stream",
       "stream": "stdout",
       "text": [
        "\n",
        "2014-05-14 7.01"
       ]
      },
      {
       "output_type": "stream",
       "stream": "stdout",
       "text": [
        "\n",
        "2014-05-15 10.85"
       ]
      },
      {
       "output_type": "stream",
       "stream": "stdout",
       "text": [
        "\n",
        "2014-05-16 4.88"
       ]
      },
      {
       "output_type": "stream",
       "stream": "stdout",
       "text": [
        "\n",
        "2014-05-19 6.86"
       ]
      },
      {
       "output_type": "stream",
       "stream": "stdout",
       "text": [
        "\n",
        "2014-05-20 12.86"
       ]
      },
      {
       "output_type": "stream",
       "stream": "stdout",
       "text": [
        "\n",
        "2014-05-21 6.03"
       ]
      },
      {
       "output_type": "stream",
       "stream": "stdout",
       "text": [
        "\n",
        "2014-05-22 8.08"
       ]
      },
      {
       "output_type": "stream",
       "stream": "stdout",
       "text": [
        "\n",
        "2014-05-23 7.58"
       ]
      },
      {
       "output_type": "stream",
       "stream": "stdout",
       "text": [
        "\n",
        "2014-05-27 14.34"
       ]
      },
      {
       "output_type": "stream",
       "stream": "stdout",
       "text": [
        "\n",
        "2014-05-28 10.86"
       ]
      },
      {
       "output_type": "stream",
       "stream": "stdout",
       "text": [
        "\n",
        "2014-05-29 1.93"
       ]
      },
      {
       "output_type": "stream",
       "stream": "stdout",
       "text": [
        "\n",
        "2014-05-30 7.65"
       ]
      },
      {
       "output_type": "stream",
       "stream": "stdout",
       "text": [
        "\n",
        "2014-06-02 11.73"
       ]
      },
      {
       "output_type": "stream",
       "stream": "stdout",
       "text": [
        "\n",
        "2014-06-03 7.09"
       ]
      },
      {
       "output_type": "stream",
       "stream": "stdout",
       "text": [
        "\n",
        "2014-06-04 6.54"
       ]
      },
      {
       "output_type": "stream",
       "stream": "stdout",
       "text": [
        "\n",
        "2014-06-05 10.21"
       ]
      },
      {
       "output_type": "stream",
       "stream": "stdout",
       "text": [
        "\n",
        "2014-06-06 14.96"
       ]
      },
      {
       "output_type": "stream",
       "stream": "stdout",
       "text": [
        "\n",
        "2014-06-09 6.31"
       ]
      },
      {
       "output_type": "stream",
       "stream": "stdout",
       "text": [
        "\n",
        "2014-06-10 7.18"
       ]
      },
      {
       "output_type": "stream",
       "stream": "stdout",
       "text": [
        "\n",
        "2014-06-11 6.38"
       ]
      },
      {
       "output_type": "stream",
       "stream": "stdout",
       "text": [
        "\n",
        "2014-06-16 8.82"
       ]
      },
      {
       "output_type": "stream",
       "stream": "stdout",
       "text": [
        "\n",
        "2014-06-17 7.4"
       ]
      },
      {
       "output_type": "stream",
       "stream": "stdout",
       "text": [
        "\n",
        "2014-06-18 10.0"
       ]
      },
      {
       "output_type": "stream",
       "stream": "stdout",
       "text": [
        "\n",
        "2014-06-19 8.31"
       ]
      },
      {
       "output_type": "stream",
       "stream": "stdout",
       "text": [
        "\n",
        "2014-06-20 5.31"
       ]
      },
      {
       "output_type": "stream",
       "stream": "stdout",
       "text": [
        "\n",
        "2014-06-23 15.16"
       ]
      },
      {
       "output_type": "stream",
       "stream": "stdout",
       "text": [
        "\n",
        "2014-06-24 5.26"
       ]
      },
      {
       "output_type": "stream",
       "stream": "stdout",
       "text": [
        "\n",
        "2014-06-25 8.22"
       ]
      },
      {
       "output_type": "stream",
       "stream": "stdout",
       "text": [
        "\n",
        "2014-06-26 11.51"
       ]
      },
      {
       "output_type": "stream",
       "stream": "stdout",
       "text": [
        "\n",
        "2014-06-27 10.93"
       ]
      },
      {
       "output_type": "stream",
       "stream": "stdout",
       "text": [
        "\n",
        "2014-06-30 9.85"
       ]
      },
      {
       "output_type": "stream",
       "stream": "stdout",
       "text": [
        "\n",
        "-35.85 415.34\n"
       ]
      },
      {
       "metadata": {},
       "output_type": "display_data",
       "png": "[encoded data removed]",
       "text": [
        "<matplotlib.figure.Figure at 0xddb2350>"
       ]
      },
      {
       "metadata": {},
       "output_type": "pyout",
       "prompt_number": 110,
       "text": [
        "<ggplot: (45693429)>"
       ]
      }
     ],
     "prompt_number": 110
    },
    {
     "cell_type": "code",
     "collapsed": false,
     "input": [
      "reload(qimbs)"
     ],
     "language": "python",
     "metadata": {},
     "outputs": [
      {
       "metadata": {},
       "output_type": "pyout",
       "prompt_number": 386,
       "text": [
        "<module 'qimbs' from 'qimbs.py'>"
       ]
      }
     ],
     "prompt_number": 386
    },
    {
     "cell_type": "code",
     "collapsed": false,
     "input": [
      "#RandomForest CMove\n",
      "Signals =  qimbs.get_signals_proba(imbalanceMsg,X,y,RF,dates,datesDF)\n",
      "result2 = qimbs.get_performance(Signals,df,dates,0)\n",
      "result2['I'] = result2.index\n",
      "ggplot(result2, aes('I','Pnl')) + geom_point() + ggtitle('Sum=%s' % result2.Pnl.sum()) + geom_line()"
     ],
     "language": "python",
     "metadata": {},
     "outputs": [
      {
       "output_type": "stream",
       "stream": "stdout",
       "text": [
        "2014-05-01 8.17\n",
        "2014-05-02 13.18"
       ]
      },
      {
       "output_type": "stream",
       "stream": "stdout",
       "text": [
        "\n",
        "2014-05-05 9.4"
       ]
      },
      {
       "output_type": "stream",
       "stream": "stdout",
       "text": [
        "\n",
        "2014-05-06 7.27"
       ]
      },
      {
       "output_type": "stream",
       "stream": "stdout",
       "text": [
        "\n",
        "2014-05-07 51.24"
       ]
      },
      {
       "output_type": "stream",
       "stream": "stdout",
       "text": [
        "\n",
        "2014-05-08 16.84"
       ]
      },
      {
       "output_type": "stream",
       "stream": "stdout",
       "text": [
        "\n",
        "2014-05-09 9.13"
       ]
      },
      {
       "output_type": "stream",
       "stream": "stdout",
       "text": [
        "\n",
        "2014-05-12 8.44"
       ]
      },
      {
       "output_type": "stream",
       "stream": "stdout",
       "text": [
        "\n",
        "2014-05-13 9.17"
       ]
      },
      {
       "output_type": "stream",
       "stream": "stdout",
       "text": [
        "\n",
        "2014-05-14 6.63"
       ]
      },
      {
       "output_type": "stream",
       "stream": "stdout",
       "text": [
        "\n",
        "2014-05-15 10.26"
       ]
      },
      {
       "output_type": "stream",
       "stream": "stdout",
       "text": [
        "\n",
        "2014-05-16 4.9"
       ]
      },
      {
       "output_type": "stream",
       "stream": "stdout",
       "text": [
        "\n",
        "2014-05-19 6.69"
       ]
      },
      {
       "output_type": "stream",
       "stream": "stdout",
       "text": [
        "\n",
        "2014-05-20 13.21"
       ]
      },
      {
       "output_type": "stream",
       "stream": "stdout",
       "text": [
        "\n",
        "2014-05-21 5.85"
       ]
      },
      {
       "output_type": "stream",
       "stream": "stdout",
       "text": [
        "\n",
        "2014-05-22 7.88"
       ]
      },
      {
       "output_type": "stream",
       "stream": "stdout",
       "text": [
        "\n",
        "2014-05-23 7.31"
       ]
      },
      {
       "output_type": "stream",
       "stream": "stdout",
       "text": [
        "\n",
        "2014-05-27 14.38"
       ]
      },
      {
       "output_type": "stream",
       "stream": "stdout",
       "text": [
        "\n",
        "2014-05-28 10.15"
       ]
      },
      {
       "output_type": "stream",
       "stream": "stdout",
       "text": [
        "\n",
        "2014-05-29 1.23"
       ]
      },
      {
       "output_type": "stream",
       "stream": "stdout",
       "text": [
        "\n",
        "2014-05-30 2.88"
       ]
      },
      {
       "output_type": "stream",
       "stream": "stdout",
       "text": [
        "\n",
        "2014-06-02 13.2"
       ]
      },
      {
       "output_type": "stream",
       "stream": "stdout",
       "text": [
        "\n",
        "2014-06-03 6.3"
       ]
      },
      {
       "output_type": "stream",
       "stream": "stdout",
       "text": [
        "\n",
        "2014-06-04 5.83"
       ]
      },
      {
       "output_type": "stream",
       "stream": "stdout",
       "text": [
        "\n",
        "2014-06-05 9.76"
       ]
      },
      {
       "output_type": "stream",
       "stream": "stdout",
       "text": [
        "\n",
        "2014-06-06 15.33"
       ]
      },
      {
       "output_type": "stream",
       "stream": "stdout",
       "text": [
        "\n",
        "2014-06-09 6.04"
       ]
      },
      {
       "output_type": "stream",
       "stream": "stdout",
       "text": [
        "\n",
        "2014-06-10 6.09"
       ]
      },
      {
       "output_type": "stream",
       "stream": "stdout",
       "text": [
        "\n",
        "2014-06-11 5.8"
       ]
      },
      {
       "output_type": "stream",
       "stream": "stdout",
       "text": [
        "\n",
        "2014-06-16 9.46"
       ]
      },
      {
       "output_type": "stream",
       "stream": "stdout",
       "text": [
        "\n",
        "2014-06-17 7.59"
       ]
      },
      {
       "output_type": "stream",
       "stream": "stdout",
       "text": [
        "\n",
        "2014-06-18 10.24"
       ]
      },
      {
       "output_type": "stream",
       "stream": "stdout",
       "text": [
        "\n",
        "2014-06-19 7.88"
       ]
      },
      {
       "output_type": "stream",
       "stream": "stdout",
       "text": [
        "\n",
        "2014-06-20 5.33"
       ]
      },
      {
       "output_type": "stream",
       "stream": "stdout",
       "text": [
        "\n",
        "2014-06-23 13.03"
       ]
      },
      {
       "output_type": "stream",
       "stream": "stdout",
       "text": [
        "\n",
        "2014-06-24 4.44"
       ]
      },
      {
       "output_type": "stream",
       "stream": "stdout",
       "text": [
        "\n",
        "2014-06-25 8.33"
       ]
      },
      {
       "output_type": "stream",
       "stream": "stdout",
       "text": [
        "\n",
        "2014-06-26 10.75"
       ]
      },
      {
       "output_type": "stream",
       "stream": "stdout",
       "text": [
        "\n",
        "2014-06-27 9.79"
       ]
      },
      {
       "output_type": "stream",
       "stream": "stdout",
       "text": [
        "\n",
        "2014-06-30 9.02"
       ]
      },
      {
       "output_type": "stream",
       "stream": "stdout",
       "text": [
        "\n",
        "-29.06 388.42\n"
       ]
      },
      {
       "metadata": {},
       "output_type": "display_data",
       "png": "[encoded data removed]",
       "text": [
        "<matplotlib.figure.Figure at 0x17a4ad50>"
       ]
      },
      {
       "metadata": {},
       "output_type": "pyout",
       "prompt_number": 128,
       "text": [
        "<ggplot: (66158465)>"
       ]
      }
     ],
     "prompt_number": 128
    },
    {
     "cell_type": "code",
     "collapsed": false,
     "input": [
      "#LR\n",
      "from sklearn.linear_model import LogisticRegression as LR\n",
      "Signals =  qimbs.get_signals1(imbalanceMsg,X,y,LR,dates,datesDF)\n",
      "result1 = qimbs.get_performance(Signals,df,dates,0)\n",
      "result1['I'] = result1.index\n",
      "ggplot(result1, aes('I','Pnl')) + geom_point() + ggtitle('Sum=%s' % result1.Pnl.sum()) + geom_line()"
     ],
     "language": "python",
     "metadata": {},
     "outputs": [
      {
       "output_type": "stream",
       "stream": "stdout",
       "text": [
        "2014-05-01 10.56\n",
        "2014-05-02 14.02"
       ]
      },
      {
       "output_type": "stream",
       "stream": "stdout",
       "text": [
        "\n",
        "2014-05-05 10.99"
       ]
      },
      {
       "output_type": "stream",
       "stream": "stdout",
       "text": [
        "\n",
        "2014-05-06 9.59"
       ]
      },
      {
       "output_type": "stream",
       "stream": "stdout",
       "text": [
        "\n",
        "2014-05-07 55.26"
       ]
      },
      {
       "output_type": "stream",
       "stream": "stdout",
       "text": [
        "\n",
        "2014-05-08 21.44"
       ]
      },
      {
       "output_type": "stream",
       "stream": "stdout",
       "text": [
        "\n",
        "2014-05-09 8.43"
       ]
      },
      {
       "output_type": "stream",
       "stream": "stdout",
       "text": [
        "\n",
        "2014-05-12 7.52"
       ]
      },
      {
       "output_type": "stream",
       "stream": "stdout",
       "text": [
        "\n",
        "2014-05-13 9.11"
       ]
      },
      {
       "output_type": "stream",
       "stream": "stdout",
       "text": [
        "\n",
        "2014-05-14 8.62"
       ]
      },
      {
       "output_type": "stream",
       "stream": "stdout",
       "text": [
        "\n",
        "2014-05-15 8.28"
       ]
      },
      {
       "output_type": "stream",
       "stream": "stdout",
       "text": [
        "\n",
        "2014-05-16 4.93"
       ]
      },
      {
       "output_type": "stream",
       "stream": "stdout",
       "text": [
        "\n",
        "2014-05-19 6.13"
       ]
      },
      {
       "output_type": "stream",
       "stream": "stdout",
       "text": [
        "\n",
        "2014-05-20 11.26"
       ]
      },
      {
       "output_type": "stream",
       "stream": "stdout",
       "text": [
        "\n",
        "2014-05-21 5.75"
       ]
      },
      {
       "output_type": "stream",
       "stream": "stdout",
       "text": [
        "\n",
        "2014-05-22 7.9"
       ]
      },
      {
       "output_type": "stream",
       "stream": "stdout",
       "text": [
        "\n",
        "2014-05-23 7.36"
       ]
      },
      {
       "output_type": "stream",
       "stream": "stdout",
       "text": [
        "\n",
        "2014-05-27 13.11"
       ]
      },
      {
       "output_type": "stream",
       "stream": "stdout",
       "text": [
        "\n",
        "2014-05-28 10.3"
       ]
      },
      {
       "output_type": "stream",
       "stream": "stdout",
       "text": [
        "\n",
        "2014-05-29 6.44"
       ]
      },
      {
       "output_type": "stream",
       "stream": "stdout",
       "text": [
        "\n",
        "2014-05-30 5.83"
       ]
      },
      {
       "output_type": "stream",
       "stream": "stdout",
       "text": [
        "\n",
        "2014-06-02 12.83"
       ]
      },
      {
       "output_type": "stream",
       "stream": "stdout",
       "text": [
        "\n",
        "2014-06-03 4.16"
       ]
      },
      {
       "output_type": "stream",
       "stream": "stdout",
       "text": [
        "\n",
        "2014-06-04 6.26"
       ]
      },
      {
       "output_type": "stream",
       "stream": "stdout",
       "text": [
        "\n",
        "2014-06-05 8.95"
       ]
      },
      {
       "output_type": "stream",
       "stream": "stdout",
       "text": [
        "\n",
        "2014-06-06 15.07"
       ]
      },
      {
       "output_type": "stream",
       "stream": "stdout",
       "text": [
        "\n",
        "2014-06-09 5.94"
       ]
      },
      {
       "output_type": "stream",
       "stream": "stdout",
       "text": [
        "\n",
        "2014-06-10 7.37"
       ]
      },
      {
       "output_type": "stream",
       "stream": "stdout",
       "text": [
        "\n",
        "2014-06-11 5.17"
       ]
      },
      {
       "output_type": "stream",
       "stream": "stdout",
       "text": [
        "\n",
        "2014-06-16 10.05"
       ]
      },
      {
       "output_type": "stream",
       "stream": "stdout",
       "text": [
        "\n",
        "2014-06-17 7.25"
       ]
      },
      {
       "output_type": "stream",
       "stream": "stdout",
       "text": [
        "\n",
        "2014-06-18 10.08"
       ]
      },
      {
       "output_type": "stream",
       "stream": "stdout",
       "text": [
        "\n",
        "2014-06-19 8.26"
       ]
      },
      {
       "output_type": "stream",
       "stream": "stdout",
       "text": [
        "\n",
        "2014-06-20 4.55"
       ]
      },
      {
       "output_type": "stream",
       "stream": "stdout",
       "text": [
        "\n",
        "2014-06-23 15.54"
       ]
      },
      {
       "output_type": "stream",
       "stream": "stdout",
       "text": [
        "\n",
        "2014-06-24 5.02"
       ]
      },
      {
       "output_type": "stream",
       "stream": "stdout",
       "text": [
        "\n",
        "2014-06-25 8.15"
       ]
      },
      {
       "output_type": "stream",
       "stream": "stdout",
       "text": [
        "\n",
        "2014-06-26 11.16"
       ]
      },
      {
       "output_type": "stream",
       "stream": "stdout",
       "text": [
        "\n",
        "2014-06-27 11.07"
       ]
      },
      {
       "output_type": "stream",
       "stream": "stdout",
       "text": [
        "\n",
        "2014-06-30 9.87"
       ]
      },
      {
       "output_type": "stream",
       "stream": "stdout",
       "text": [
        "\n",
        "409.58\n"
       ]
      },
      {
       "metadata": {},
       "output_type": "display_data",
       "png": "[encoded data removed]",
       "text": [
        "<matplotlib.figure.Figure at 0xd978090>"
       ]
      },
      {
       "metadata": {},
       "output_type": "pyout",
       "prompt_number": 75,
       "text": [
        "<ggplot: (14248737)>"
       ]
      }
     ],
     "prompt_number": 75
    },
    {
     "cell_type": "code",
     "collapsed": false,
     "input": [
      "#SVC\n",
      "from sklearn.svm import SVC\n",
      "Signals =  qimbs.get_signals1(imbalanceMsg, X[fi['Feature'][:12]],y,SVC,dates,datesDF)\n",
      "result3 = qimbs.get_performance(Signals,df,dates,0)\n",
      "result3['I'] = result3.index\n",
      "ggplot(result1, aes('I','Pnl')) + geom_point() + ggtitle('Sum=%s' % result3.Pnl.sum()) + geom_line()"
     ],
     "language": "python",
     "metadata": {},
     "outputs": []
    },
    {
     "cell_type": "code",
     "collapsed": false,
     "input": [
      "from IPython.core.display import Image \n",
      "Image(filename='/home/user/PyProjects/Results/1.png') "
     ],
     "language": "python",
     "metadata": {},
     "outputs": [
      {
       "metadata": {},
       "output_type": "pyout",
       "png": "[encoded data removed]",
       "prompt_number": 922,
       "text": [
        "<IPython.core.display.Image at 0x12c21b90>"
       ]
      }
     ],
     "prompt_number": 922
    },
    {
     "cell_type": "code",
     "collapsed": false,
     "input": [
      "#RandomForest\n",
      "Signals =  qimbs.get_signals_clf(imbalanceMsg,X_neg,y_neg,clf,dates,datesDF_neg)\n",
      "result2 = qimbs.get_performance(Signals,df,dates,0)\n",
      "result2['I'] = result2.index\n",
      "ggplot(result2, aes('I','Pnl')) + geom_point() + ggtitle('Sum=%s' % result2.Pnl.sum()) + geom_line()"
     ],
     "language": "python",
     "metadata": {},
     "outputs": []
    },
    {
     "cell_type": "code",
     "collapsed": false,
     "input": [
      "\n",
      "\n",
      "\n",
      "\n",
      "\n",
      "\n",
      "\n",
      "\n",
      "\n",
      "\n",
      "\n",
      "\n",
      "\n",
      "\n",
      "\n",
      "\n",
      "\n",
      "\n",
      "\n",
      "\n",
      "\n",
      "\n",
      "\n",
      "\n",
      "\n",
      "#Regression"
     ],
     "language": "python",
     "metadata": {},
     "outputs": []
    },
    {
     "cell_type": "code",
     "collapsed": false,
     "input": [
      "test_size = 20\n",
      "r = range(len(dates))\n",
      "np.random.shuffle(r)\n",
      "test_days = r[:test_size] \n",
      "train_days = r[test_size:] \n",
      "\n",
      "Xtrain = X_pos.ix[datesDF_pos.ix[train_days],:]\n",
      "Xtest = X_pos.ix[datesDF_pos.ix[test_days],:]\n",
      "ytrain = y_pos.ix[datesDF_pos.ix[train_days]]\n",
      "ytest = y_pos.ix[datesDF_pos.ix[test_days]]\n",
      "\n",
      "Xtrain.index = range(Xtrain.shape[0])\n",
      "Xtest.index = range(Xtest.shape[0])\n",
      "ytrain.index = range(ytrain.shape[0])\n",
      "ytest.index = range(ytest.shape[0])\n",
      "\n",
      "from pybrain.tools.shortcuts import buildNetwork\n",
      "from pybrain.datasets import SupervisedDataSet\n",
      "from pybrain.datasets import ClassificationDataSet\n",
      "from pybrain.structure.modules   import SoftmaxLayer\n",
      "\n",
      "#Create dataset\n",
      "#ds = SupervisedDataSet(Xtrain.shape[1], 1)\n",
      "ds = ClassificationDataSet(Xtrain.shape[1], 1, nb_classes=2)\n",
      "for j in range(Xtrain.shape[0]):\n",
      "    ds.addSample(Xtrain.ix[j,:], ytrain.ix[j,:])\n",
      "ds._convertToOneOfMany( )\n",
      "\n",
      "#Create net\n",
      "#from pybrain.structure import FeedForwardNetwork\n",
      "#net = FeedForwardNetwork()\n",
      "#from pybrain.structure import LinearLayer, SigmoidLayer\n",
      "#inLayer = LinearLayer(ds.indim)\n",
      "#hiddenLayer = SigmoidLayer(5)\n",
      "#outLayer = SoftmaxLayer(ds.outdim)\n",
      "#net.addInputModule(inLayer)\n",
      "#net.addModule(hiddenLayer)\n",
      "#net.addOutputModule(outLayer)\n",
      "#from pybrain.structure import FullConnection\n",
      "#in_to_hidden = FullConnection(inLayer, hiddenLayer)\n",
      "#hidden_to_out = FullConnection(hiddenLayer, outLayer)\n",
      "#net.addConnection(in_to_hidden)\n",
      "#net.addConnection(hidden_to_out)\n",
      "#net.sortModules()\n",
      "#net = buildNetwork(ds.indim, 2, ds.outdim, outclass=SoftmaxLayer)\n",
      "\n",
      "from pybrain.structure import RecurrentNetwork\n",
      "net = RecurrentNetwork()\n",
      "net.addInputModule(LinearLayer(ds.indim, name='inLayer'))\n",
      "net.addModule(SigmoidLayer(ds.indim, name='hiddenLayer'))\n",
      "net.addOutputModule(SoftmaxLayer(ds.outdim, name='outLayer'))\n",
      "net.addConnection(FullConnection(net['inLayer'], net['hiddenLayer'], name='in_to_hidden'))\n",
      "net.addConnection(FullConnection(net['hiddenLayer'], net['outLayer'], name='hidden_to_out'))\n",
      "net.addRecurrentConnection(FullConnection(net['hiddenLayer'], net['hiddenLayer'], name='hidden_to_hidden'))\n",
      "net.sortModules()\n",
      "\n",
      "#Train net\n",
      "from pybrain.supervised.trainers import BackpropTrainer\n",
      "trainer = BackpropTrainer(net, ds, momentum=0.1, verbose=True, weightdecay=0.01)\n",
      "\n",
      "#for i in range(10):\n",
      "#    if i%20==0:\n",
      "#        print i\n",
      "#    trainer.trainEpochs(1)\n",
      "    \n",
      "trnerr,testerr = trainer.trainUntilConvergence(dataset=ds,maxEpochs=10)\n",
      "plt.plot(trnerr,'b',valerr,'r')"
     ],
     "language": "python",
     "metadata": {},
     "outputs": [
      {
       "output_type": "stream",
       "stream": "stdout",
       "text": [
        "Total error: 0.104552880605\n",
        "Total error:"
       ]
      },
      {
       "output_type": "stream",
       "stream": "stdout",
       "text": [
        " 0.082603049406\n",
        "Total error:"
       ]
      },
      {
       "output_type": "stream",
       "stream": "stdout",
       "text": [
        " 0.0791234690025\n",
        "Total error:"
       ]
      },
      {
       "output_type": "stream",
       "stream": "stdout",
       "text": [
        " 0.0771508192234\n",
        "Total error:"
       ]
      },
      {
       "output_type": "stream",
       "stream": "stdout",
       "text": [
        " 0.0762790130076\n",
        "Total error:"
       ]
      },
      {
       "output_type": "stream",
       "stream": "stdout",
       "text": [
        " 0.0763204164806\n",
        "Total error:"
       ]
      },
      {
       "output_type": "stream",
       "stream": "stdout",
       "text": [
        " 0.0767192721094\n",
        "Total error:"
       ]
      },
      {
       "output_type": "stream",
       "stream": "stdout",
       "text": [
        " 0.0762990118571\n",
        "Total error:"
       ]
      },
      {
       "output_type": "stream",
       "stream": "stdout",
       "text": [
        " 0.0769244171997\n",
        "Total error:"
       ]
      },
      {
       "output_type": "stream",
       "stream": "stdout",
       "text": [
        " 0.0769507216906\n",
        "Total error:"
       ]
      },
      {
       "output_type": "stream",
       "stream": "stdout",
       "text": [
        " 0.0770573623218\n",
        "train-errors:"
       ]
      },
      {
       "output_type": "stream",
       "stream": "stdout",
       "text": [
        " [  0.104553  0.082603  0.079123  0.077151  0.076279  0.076320  0.076719  0.076299  0.076924  0.076951  0.077057  0.074433]\n",
        "valid-errors: [  0.186077  0.085623  0.081423  0.079585  0.078688  0.077985  0.077748  0.078951  0.080917  0.078713  0.078160  0.079649]\n"
       ]
      },
      {
       "metadata": {},
       "output_type": "pyout",
       "prompt_number": 304,
       "text": [
        "[<matplotlib.lines.Line2D at 0x7fce1987b8d0>,\n",
        " <matplotlib.lines.Line2D at 0x7fce1987b590>]"
       ]
      },
      {
       "metadata": {},
       "output_type": "display_data",
       "png": "[encoded data removed]",
       "text": [
        "<matplotlib.figure.Figure at 0x7fce1989af50>"
       ]
      }
     ],
     "prompt_number": 304
    },
    {
     "cell_type": "code",
     "collapsed": false,
     "input": [
      "print net.activate(Xtest.ix[1,:])\n",
      "print ytest.ix[1,:]"
     ],
     "language": "python",
     "metadata": {},
     "outputs": [
      {
       "output_type": "stream",
       "stream": "stdout",
       "text": [
        "[ 0.15119072  0.84880928]\n",
        "True\n"
       ]
      }
     ],
     "prompt_number": 185
    },
    {
     "cell_type": "code",
     "collapsed": false,
     "input": [
      "to_hidden=numpy.dot(in_to_hidden.params.reshape(hiddenLayer.dim,inLayer.dim),Xtest.ix[0,:].as_matrix())"
     ],
     "language": "python",
     "metadata": {},
     "outputs": [],
     "prompt_number": 283
    },
    {
     "cell_type": "code",
     "collapsed": false,
     "input": [
      "to_out=hiddenLayer.activate(to_hidden)"
     ],
     "language": "python",
     "metadata": {},
     "outputs": [],
     "prompt_number": 285
    },
    {
     "cell_type": "code",
     "collapsed": false,
     "input": [
      "in_to_hidden.params.reshape(hiddenLayer.dim,inLayer.dim)"
     ],
     "language": "python",
     "metadata": {},
     "outputs": [
      {
       "metadata": {},
       "output_type": "pyout",
       "prompt_number": 286,
       "text": [
        "array([[ 0.65009669, -0.17851852,  0.23880012,  0.00160774,  0.72572113,\n",
        "         0.88744881,  0.39890297, -0.14124557, -0.3056287 , -0.05622591,\n",
        "        -0.27739331, -0.16414631,  0.3538641 ,  0.3653273 ,  0.93904968,\n",
        "        -0.15794877, -0.32923795, -0.67979776],\n",
        "       [ 0.07721032, -0.09637148,  0.43044333,  0.03862901, -0.10500687,\n",
        "         0.64067348,  0.49781528, -0.2911192 ,  0.29714618,  0.13405259,\n",
        "        -0.13058173, -0.17484293,  0.13677482,  0.55964157, -0.02868943,\n",
        "        -0.36034351, -0.05492121, -0.23958647],\n",
        "       [ 0.09146856, -0.01416603, -0.75198609, -0.35690842,  0.03126613,\n",
        "        -0.80502415, -0.01613624, -0.34418639,  0.12549838,  0.24218375,\n",
        "        -0.1250289 ,  0.02121131,  0.41868347, -0.32295555, -0.1214289 ,\n",
        "         0.26885546,  0.67812129, -0.21130383],\n",
        "       [ 0.33287159,  0.2741216 ,  0.00694761,  0.08920803,  0.17906528,\n",
        "         0.14973089, -0.04347475, -0.30481141, -0.25780276, -0.00899813,\n",
        "        -0.26587144, -0.73523339,  0.05086607, -0.38210159, -0.01419989,\n",
        "         0.20823731, -0.3903159 ,  0.03884604],\n",
        "       [-0.11791887,  0.43477712,  0.13296645,  0.18532865, -0.36573313,\n",
        "         0.02391868, -0.59915794,  0.33564817, -0.32316034,  0.20335714,\n",
        "        -0.17852399,  0.11478314,  0.28072333, -0.01450429, -0.4668003 ,\n",
        "         0.2023887 ,  0.83324718,  0.18185945]])"
       ]
      }
     ],
     "prompt_number": 286
    },
    {
     "cell_type": "code",
     "collapsed": false,
     "input": [
      "outLayer.activate(numpy.dot(hidden_to_out.params.reshape(outLayer.dim,hiddenLayer.dim),to_out))"
     ],
     "language": "python",
     "metadata": {},
     "outputs": [
      {
       "metadata": {},
       "output_type": "pyout",
       "prompt_number": 287,
       "text": [
        "array([ 0.86638375,  0.13361625])"
       ]
      }
     ],
     "prompt_number": 287
    },
    {
     "cell_type": "code",
     "collapsed": false,
     "input": [
      "Xtrain_new= zeros(Xtrain.shape,float)"
     ],
     "language": "python",
     "metadata": {},
     "outputs": [],
     "prompt_number": 290
    },
    {
     "cell_type": "code",
     "collapsed": false,
     "input": [
      "hiddenLayer.dim"
     ],
     "language": "python",
     "metadata": {},
     "outputs": [
      {
       "metadata": {},
       "output_type": "pyout",
       "prompt_number": 292,
       "text": [
        "5"
       ]
      }
     ],
     "prompt_number": 292
    },
    {
     "cell_type": "code",
     "collapsed": false,
     "input": [
      "\n",
      "\n",
      "outLayer\n",
      "\n",
      "\n",
      "\n",
      "\n"
     ],
     "language": "python",
     "metadata": {},
     "outputs": [
      {
       "metadata": {},
       "output_type": "pyout",
       "prompt_number": 268,
       "text": [
        "<SoftmaxLayer 'SoftmaxLayer-1835'>"
       ]
      }
     ],
     "prompt_number": 268
    },
    {
     "cell_type": "code",
     "collapsed": false,
     "input": [
      "def run_reg(X,y,clf_class,n_folds,test_size,dates,datesDF):\n",
      "    from sklearn.ensemble import GradientBoostingRegressor as GBR\n",
      "    from sklearn.ensemble import RandomForestRegressor as RFR\n",
      "    CLF_BEST = clf_class()\n",
      "    TEST_R2_Score = 0\n",
      "    \n",
      "    for i in range(n_folds): \n",
      "        #======Get test_train_split=============\n",
      "        r = range(len(dates))\n",
      "        np.random.shuffle(r)\n",
      "        test_days = r[:test_size] \n",
      "        train_days = r[test_size:] \n",
      "\n",
      "        Xtrain = X.ix[datesDF.ix[train_days],:]\n",
      "        Xtest = X.ix[datesDF.ix[test_days],:]\n",
      "        ytrain = y.ix[datesDF.ix[train_days]]\n",
      "        ytest = y.ix[datesDF.ix[test_days]] \n",
      "        \n",
      "        Xtrain.index = range(Xtrain.shape[0])\n",
      "        Xtest.index = range(Xtest.shape[0])\n",
      "        ytrain.index = range(ytrain.shape[0])\n",
      "        ytest.index = range(ytest.shape[0])\n",
      "        #======================================== \n",
      "        \n",
      "        f = ytrain<0\n",
      "        f2 = ytest<0\n",
      "        \n",
      "        if (type(clf_class()) ==  type(RFR())):\n",
      "            clf = clf_class(min_samples_split = ytrain[f].shape[0]*0.05)\n",
      "        if (type(clf_class()) ==  type(GBR())):\n",
      "            clf = clf_class(loss='huber', min_samples_split = ytrain[f].shape[0]*0.05,init='zero')    \n",
      "            \n",
      "        clf.fit(Xtrain[f], ytrain[f])\n",
      "        y_predR = clf.predict(Xtest[f2])\n",
      "        r2 = metrics.r2_score(clf.predict(Xtest[f2]), ytest[f2])\n",
      "        \n",
      "        #print r2\n",
      "           \n",
      "        if r2>TEST_R2_Score:\n",
      "            TEST_R2_Score =  r2\n",
      "            CLF_BEST = clf\n",
      "                \n",
      "    print \"max R2_Score \",TEST_R2_Score\n",
      "    \n",
      "    return CLF_BEST, TEST_R2_Score"
     ],
     "language": "python",
     "metadata": {},
     "outputs": [],
     "prompt_number": 184
    },
    {
     "cell_type": "code",
     "collapsed": false,
     "input": [
      "from sklearn import metrics\n",
      "\n",
      "test_size = 30\n",
      "r = range(len(dates))\n",
      "np.random.shuffle(r)\n",
      "test_days = r[:test_size] \n",
      "train_days = r[test_size:] \n",
      "\n",
      "Xtrain = X_pos.ix[datesDF_pos.ix[train_days],:]\n",
      "Xtest = X_pos.ix[datesDF_pos.ix[test_days],:]\n",
      "ytrain = ypln_pos.ix[datesDF_pos.ix[train_days]]\n",
      "ytest = ypln_pos.ix[datesDF_pos.ix[test_days]]\n",
      "\n",
      "from sklearn.ensemble import GradientBoostingRegressor as GBR\n",
      "from sklearn.ensemble import RandomForestRegressor as RFR\n",
      "from sklearn.linear_model import LinearRegression as LinR\n",
      "from sklearn.linear_model import SGDRegressor as SGDR\n",
      "from sklearn.linear_model import Ridge\n",
      "from sklearn.svm import SVR\n",
      "\n",
      "f = ytrain<0\n",
      "f2 = ytest<0\n",
      "clf = GBR(loss='huber', min_samples_split = ytrain[f].shape[0]*0.05,init='zero')\n",
      "clf.fit(Xtrain[f], ytrain[f])\n",
      "y_pred = clf.predict(Xtest[f2])\n",
      "print \"GBR\"\n",
      "#print \"Training mse: \", metrics.mean_squared_error(clf.predict(Xtrain), ytrain)\n",
      "#print \"Test     mse: \", metrics.mean_squared_error(clf.predict(Xtest), ytest)\n",
      "print \"Training mae: \", metrics.mean_absolute_error(clf.predict(Xtrain[f]), ytrain[f])\n",
      "print \"Test     mae: \", metrics.mean_absolute_error(clf.predict(Xtest[f2]), ytest[f2])\n",
      "print \"Training EV: \", metrics.explained_variance_score(clf.predict(Xtrain[f]), ytrain[f])\n",
      "print \"Test     EV: \", metrics.explained_variance_score(clf.predict(Xtest[f2]), ytest[f2])\n",
      "print \"Training R2: \", metrics.r2_score(clf.predict(Xtrain[f]), ytrain[f])\n",
      "print \"Test     R2: \", metrics.r2_score(clf.predict(Xtest[f2]), ytest[f2])\n",
      "print \"-------------\"\n",
      "\n",
      "clf = LinR()#RFR(min_samples_split = ytrain[f].shape[0]*0.05)\n",
      "clf.fit(Xtrain[f], ytrain[f])\n",
      "y_predLR = clf.predict(Xtest[f2])\n",
      "print \"LinReg\"\n",
      "#plt.plot(clf.coef_[:10])\n",
      "#print \"Training mse: \", metrics.mean_squared_error(clf.predict(Xtrain), ytrain)\n",
      "#print \"Test     mse: \", metrics.mean_squared_error(clf.predict(Xtest), ytest)\n",
      "print \"Training mae: \", metrics.mean_absolute_error(clf.predict(Xtrain[f]), ytrain[f])\n",
      "print \"Test     mae: \", metrics.mean_absolute_error(clf.predict(Xtest[f2]), ytest[f2])\n",
      "print \"Training EV: \", metrics.explained_variance_score(clf.predict(Xtrain[f]), ytrain[f])\n",
      "print \"Test     EV: \", metrics.explained_variance_score(clf.predict(Xtest[f2]), ytest[f2])\n",
      "print \"Training R2: \", metrics.r2_score(clf.predict(Xtrain[f]), ytrain[f])\n",
      "print \"Test     R2: \", metrics.r2_score(clf.predict(Xtest[f2]), ytest[f2])\n",
      "print \"-------------\"\n",
      "\n",
      "clf = RFR(min_samples_split = ytrain[f].shape[0]*0.05)\n",
      "clf.fit(Xtrain[f], ytrain[f])\n",
      "y_predR = clf.predict(Xtest[f2])\n",
      "print \"RF\"\n",
      "print \"Training mae: \", metrics.mean_absolute_error(clf.predict(Xtrain[f]), ytrain[f])\n",
      "print \"Test     mae: \", metrics.mean_absolute_error(clf.predict(Xtest[f2]), ytest[f2])\n",
      "print \"Training EV: \", metrics.explained_variance_score(clf.predict(Xtrain[f]), ytrain[f])\n",
      "print \"Test     EV: \", metrics.explained_variance_score(clf.predict(Xtest[f2]), ytest[f2])\n",
      "print \"Training R2: \", metrics.r2_score(clf.predict(Xtrain[f]), ytrain[f])\n",
      "print \"Test     R2: \", metrics.r2_score(clf.predict(Xtest[f2]), ytest[f2])\n",
      "print \"-------------\"\n",
      "\n",
      "rdf=pd.DataFrame()\n",
      "rdf['y'] = ytest[f2];\n",
      "rdf['yp'] = y_pred;\n",
      "rdf['yr'] = y_predR;\n",
      "rdf['yl'] = y_predLR;\n",
      "rdf['yall'] = (y_predR+y_pred)/2;\n",
      "rdf['i'] = range(rdf.shape[0]);\n",
      "rdf['resid'] = rdf['y']-rdf['yr'];\n",
      "print \"Test     mae: \", metrics.mean_absolute_error(rdf['yall'], rdf['y'])\n",
      "print \"Test     EV: \", metrics.explained_variance_score(rdf['yall'], rdf['y'])\n",
      "print \"Test     R2: \", metrics.r2_score(rdf['yall'], rdf['y'])\n",
      "print \"-------------\"\n",
      "\n",
      "\n",
      "ggplot(rdf,aes('y','yp')) + geom_point(size=1)+\\\n",
      "stat_function(fun = lambda x: x, color='red') +\\\n",
      "geom_point(rdf,aes('y','yl'),size=1,color='green') #+\\\n",
      "#geom_point(rdf,aes('y','yl'),size=1,color='red')# +\\\n",
      "\n",
      "#ggplot(rdf,aes('resid')) + geom_histogram(binwidth = 0.01)"
     ],
     "language": "python",
     "metadata": {},
     "outputs": [
      {
       "output_type": "stream",
       "stream": "stdout",
       "text": [
        "GBR\n",
        "Training mae:  0.00276905227107\n",
        "Test     mae:  0.00234746611698\n",
        "Training EV:  0.952008743152\n",
        "Test     EV:  0.955163578049\n",
        "Training R2:  0.951814723417\n",
        "Test     R2:  0.95515281268\n",
        "-------------\n",
        "LinReg\n",
        "Training mae:  0.00743055665773\n",
        "Test     mae:  0.00659042865956\n",
        "Training EV:  0.901090161776\n",
        "Test     EV:  0.942868751701\n",
        "Training R2:  0.901090161776\n",
        "Test     R2:  0.942195932123\n",
        "-------------\n",
        "RF"
       ]
      },
      {
       "output_type": "stream",
       "stream": "stdout",
       "text": [
        "\n",
        "Training mae:  0.00598480699327\n",
        "Test     mae:  0.00471773016988\n",
        "Training EV:  0.851597633124\n",
        "Test     EV:  0.871033572728\n",
        "Training R2:  0.851596575173\n",
        "Test     R2:  0.871002534568\n",
        "-------------\n",
        "Test     mae:  0.0033318269496\n",
        "Test     EV:  0.935933998158\n",
        "Test     R2:  0.935914594135\n",
        "-------------\n"
       ]
      },
      {
       "metadata": {},
       "output_type": "pyout",
       "prompt_number": 338,
       "text": [
        "<repr(<ggplot.ggplot.ggplot at 0x7fab9245bf10>) failed: KeyError: 0>"
       ]
      },
      {
       "metadata": {},
       "output_type": "display_data",
       "png": "[encoded data removed]",
       "text": [
        "<matplotlib.figure.Figure at 0xd0a50d0>"
       ]
      }
     ],
     "prompt_number": 338
    },
    {
     "cell_type": "code",
     "collapsed": false,
     "input": [
      "clf = LinR()\n",
      "clf.fit(Xtrain[f], ytrain[f])\n",
      "list(clf.coef_)"
     ],
     "language": "python",
     "metadata": {},
     "outputs": [
      {
       "metadata": {},
       "output_type": "pyout",
       "prompt_number": 308,
       "text": [
        "[-0.15784317607852427,\n",
        " -0.00033950281610854803,\n",
        " 0.20554915052604264,\n",
        " -5.408586704568926e-06,\n",
        " -0.57300975635252627,\n",
        " -0.0034636795045481631,\n",
        " 0.020346538116567007,\n",
        " 0.0067876451245889825,\n",
        " 9.9292931314176335e-06,\n",
        " -0.00032454504821771522,\n",
        " 1.6940226477279521e-06,\n",
        " -0.00064470351778658991,\n",
        " 2.9472609440594709e-05,\n",
        " -0.00024804314625690154,\n",
        " 0.00039666037155604105,\n",
        " -0.8432134658094792,\n",
        " 0.00021712879231449041,\n",
        " 0.002069567309735188]"
       ]
      }
     ],
     "prompt_number": 308
    },
    {
     "cell_type": "code",
     "collapsed": false,
     "input": [
      "Xtrain.ix[0,:]"
     ],
     "language": "python",
     "metadata": {},
     "outputs": [
      {
       "metadata": {},
       "output_type": "pyout",
       "prompt_number": 256,
       "text": [
        "Ask      -2.958580e-05\n",
        "AskD     -1.000000e-02\n",
        "Near      0.000000e+00\n",
        "Far       0.000000e+00\n",
        "Spread    1.686391e-03\n",
        "D5        2.971592e-03\n",
        "D555      6.369427e-03\n",
        "D66       8.735435e-02\n",
        "V1        4.895608e-01\n",
        "V1n       3.717879e-01\n",
        "V11       1.788532e-02\n",
        "V11n      1.768071e-02\n",
        "V8        3.390321e-02\n",
        "V8n       3.351534e-02\n",
        "V8nn      1.583463e-02\n",
        "a1        5.076853e-08\n",
        "a4       -5.121607e-04\n",
        "a5       -2.353037e-03\n",
        "Name: 0, dtype: float64"
       ]
      }
     ],
     "prompt_number": 256
    },
    {
     "cell_type": "code",
     "collapsed": false,
     "input": [
      "reload(qimbs)"
     ],
     "language": "python",
     "metadata": {},
     "outputs": [
      {
       "metadata": {},
       "output_type": "pyout",
       "prompt_number": 592,
       "text": [
        "<module 'qimbs' from 'qimbs.py'>"
       ]
      }
     ],
     "prompt_number": 592
    },
    {
     "cell_type": "code",
     "collapsed": false,
     "input": [
      "#Regression learning curves"
     ],
     "language": "python",
     "metadata": {},
     "outputs": []
    },
    {
     "cell_type": "code",
     "collapsed": false,
     "input": [
      "qimbs.Regression('COMB', X_pos,ypln_pos,dates,datesDF_pos,-1)"
     ],
     "language": "python",
     "metadata": {},
     "outputs": [
      {
       "output_type": "stream",
       "stream": "stdout",
       "text": [
        "TrainError - 0.0430089140742, TestError - 0.0543211082543\n"
       ]
      },
      {
       "metadata": {},
       "output_type": "display_data",
       "png": "[encoded data removed]",
       "text": [
        "<matplotlib.figure.Figure at 0x7f4bc2464990>"
       ]
      },
      {
       "metadata": {},
       "output_type": "pyout",
       "prompt_number": 243,
       "text": [
        "<ggplot: (32805441)>"
       ]
      }
     ],
     "prompt_number": 243
    },
    {
     "cell_type": "code",
     "collapsed": false,
     "input": [
      "qimbs.Regression('COMB', X_neg,ypln_neg,dates,datesDF_neg,-1)"
     ],
     "language": "python",
     "metadata": {},
     "outputs": [
      {
       "output_type": "stream",
       "stream": "stdout",
       "text": [
        "TrainError - 0.0299289519157, TestError - 0.0508817045584\n"
       ]
      },
      {
       "metadata": {},
       "output_type": "display_data",
       "png": "[encoded data removed]",
       "text": [
        "<matplotlib.figure.Figure at 0xbeccdd0>"
       ]
      },
      {
       "metadata": {},
       "output_type": "pyout",
       "prompt_number": 244,
       "text": [
        "<ggplot: (12504077)>"
       ]
      }
     ],
     "prompt_number": 244
    },
    {
     "cell_type": "code",
     "collapsed": false,
     "input": [
      "qimbs.Regression('COMB', X_neg,ypln_neg,dates,datesDF_neg,1)"
     ],
     "language": "python",
     "metadata": {},
     "outputs": [
      {
       "output_type": "stream",
       "stream": "stdout",
       "text": [
        "TrainError - 0.212160125747, TestError - 0.300209459335\n"
       ]
      },
      {
       "ename": "KeyboardInterrupt",
       "evalue": "",
       "output_type": "pyerr",
       "traceback": [
        "\u001b[1;31m---------------------------------------------------------------------------\u001b[0m\n\u001b[1;31mKeyboardInterrupt\u001b[0m                         Traceback (most recent call last)",
        "\u001b[1;32m<ipython-input-245-fe6e3f37056d>\u001b[0m in \u001b[0;36m<module>\u001b[1;34m()\u001b[0m\n\u001b[1;32m----> 1\u001b[1;33m \u001b[0mqimbs\u001b[0m\u001b[1;33m.\u001b[0m\u001b[0mRegression\u001b[0m\u001b[1;33m(\u001b[0m\u001b[1;34m'COMB'\u001b[0m\u001b[1;33m,\u001b[0m \u001b[0mX_neg\u001b[0m\u001b[1;33m,\u001b[0m\u001b[0mypln_neg\u001b[0m\u001b[1;33m,\u001b[0m\u001b[0mdates\u001b[0m\u001b[1;33m,\u001b[0m\u001b[0mdatesDF_neg\u001b[0m\u001b[1;33m,\u001b[0m\u001b[1;36m1\u001b[0m\u001b[1;33m)\u001b[0m\u001b[1;33m\u001b[0m\u001b[0m\n\u001b[0m",
        "\u001b[1;32m/home/user1/PyProjects/qimb/qimbs.pyc\u001b[0m in \u001b[0;36mRegression\u001b[1;34m(clf_class, input, target, dates, datesDF, side)\u001b[0m\n\u001b[0;32m   1306\u001b[0m     \u001b[0mtestRange\u001b[0m \u001b[1;33m=\u001b[0m \u001b[0mrange\u001b[0m\u001b[1;33m(\u001b[0m\u001b[1;36m5\u001b[0m\u001b[1;33m,\u001b[0m\u001b[0mnDays\u001b[0m\u001b[1;33m/\u001b[0m\u001b[1;36m2\u001b[0m\u001b[1;33m-\u001b[0m\u001b[1;36m1\u001b[0m\u001b[1;33m)\u001b[0m\u001b[1;33m\u001b[0m\u001b[0m\n\u001b[0;32m   1307\u001b[0m     \u001b[1;32mfor\u001b[0m \u001b[0mi\u001b[0m \u001b[1;32min\u001b[0m \u001b[0mtestRange\u001b[0m\u001b[1;33m:\u001b[0m\u001b[1;33m\u001b[0m\u001b[0m\n\u001b[1;32m-> 1308\u001b[1;33m         \u001b[0mtrainError\u001b[0m\u001b[1;33m,\u001b[0m \u001b[0mtestError\u001b[0m \u001b[1;33m=\u001b[0m \u001b[0mrun_reg\u001b[0m\u001b[1;33m(\u001b[0m\u001b[0minput\u001b[0m\u001b[1;33m,\u001b[0m\u001b[0mtarget\u001b[0m\u001b[1;33m,\u001b[0m\u001b[0mclf_class\u001b[0m\u001b[1;33m,\u001b[0m\u001b[1;36m5\u001b[0m\u001b[1;33m,\u001b[0m\u001b[0mi\u001b[0m\u001b[1;33m+\u001b[0m\u001b[1;36m1\u001b[0m\u001b[1;33m,\u001b[0m\u001b[0mdates\u001b[0m\u001b[1;33m,\u001b[0m\u001b[0mdatesDF\u001b[0m\u001b[1;33m,\u001b[0m\u001b[0mside\u001b[0m\u001b[1;33m)\u001b[0m\u001b[1;33m\u001b[0m\u001b[0m\n\u001b[0m\u001b[0;32m   1309\u001b[0m         \u001b[0mTrainError\u001b[0m\u001b[1;33m.\u001b[0m\u001b[0mappend\u001b[0m\u001b[1;33m(\u001b[0m\u001b[0mtrainError\u001b[0m\u001b[1;33m)\u001b[0m\u001b[1;33m\u001b[0m\u001b[0m\n\u001b[0;32m   1310\u001b[0m         \u001b[0mTestError\u001b[0m\u001b[1;33m.\u001b[0m\u001b[0mappend\u001b[0m\u001b[1;33m(\u001b[0m\u001b[0mtestError\u001b[0m\u001b[1;33m)\u001b[0m\u001b[1;33m\u001b[0m\u001b[0m\n",
        "\u001b[1;32m/home/user1/PyProjects/qimb/qimbs.pyc\u001b[0m in \u001b[0;36mrun_reg\u001b[1;34m(X, y, clf_class, n_folds, test_size, dates, datesDF, side)\u001b[0m\n\u001b[0;32m   1437\u001b[0m             \u001b[0mclf1\u001b[0m \u001b[1;33m=\u001b[0m \u001b[0mGBR\u001b[0m\u001b[1;33m(\u001b[0m\u001b[0mloss\u001b[0m \u001b[1;33m=\u001b[0m \u001b[1;34m'huber'\u001b[0m\u001b[1;33m,\u001b[0m\u001b[0mmin_samples_split\u001b[0m \u001b[1;33m=\u001b[0m \u001b[0mytrain\u001b[0m\u001b[1;33m[\u001b[0m\u001b[0mf1\u001b[0m\u001b[1;33m]\u001b[0m\u001b[1;33m.\u001b[0m\u001b[0mshape\u001b[0m\u001b[1;33m[\u001b[0m\u001b[1;36m0\u001b[0m\u001b[1;33m]\u001b[0m\u001b[1;33m*\u001b[0m\u001b[1;36m0.05\u001b[0m\u001b[1;33m)\u001b[0m\u001b[1;33m\u001b[0m\u001b[0m\n\u001b[0;32m   1438\u001b[0m             \u001b[0mclf2\u001b[0m \u001b[1;33m=\u001b[0m \u001b[0mRFR\u001b[0m\u001b[1;33m(\u001b[0m\u001b[0mmin_samples_split\u001b[0m \u001b[1;33m=\u001b[0m \u001b[0mytrain\u001b[0m\u001b[1;33m[\u001b[0m\u001b[0mf1\u001b[0m\u001b[1;33m]\u001b[0m\u001b[1;33m.\u001b[0m\u001b[0mshape\u001b[0m\u001b[1;33m[\u001b[0m\u001b[1;36m0\u001b[0m\u001b[1;33m]\u001b[0m\u001b[1;33m*\u001b[0m\u001b[1;36m0.05\u001b[0m\u001b[1;33m)\u001b[0m\u001b[1;33m\u001b[0m\u001b[0m\n\u001b[1;32m-> 1439\u001b[1;33m             \u001b[0mclf1\u001b[0m\u001b[1;33m.\u001b[0m\u001b[0mfit\u001b[0m\u001b[1;33m(\u001b[0m\u001b[0mXtrain\u001b[0m\u001b[1;33m[\u001b[0m\u001b[0mf1\u001b[0m\u001b[1;33m]\u001b[0m\u001b[1;33m,\u001b[0m \u001b[0mytrain\u001b[0m\u001b[1;33m[\u001b[0m\u001b[0mf1\u001b[0m\u001b[1;33m]\u001b[0m\u001b[1;33m)\u001b[0m\u001b[1;33m\u001b[0m\u001b[0m\n\u001b[0m\u001b[0;32m   1440\u001b[0m             \u001b[0mclf2\u001b[0m\u001b[1;33m.\u001b[0m\u001b[0mfit\u001b[0m\u001b[1;33m(\u001b[0m\u001b[0mXtrain\u001b[0m\u001b[1;33m[\u001b[0m\u001b[0mf1\u001b[0m\u001b[1;33m]\u001b[0m\u001b[1;33m,\u001b[0m \u001b[0mytrain\u001b[0m\u001b[1;33m[\u001b[0m\u001b[0mf1\u001b[0m\u001b[1;33m]\u001b[0m\u001b[1;33m)\u001b[0m\u001b[1;33m\u001b[0m\u001b[0m\n\u001b[0;32m   1441\u001b[0m \u001b[1;33m\u001b[0m\u001b[0m\n",
        "\u001b[1;32m/usr/local/lib/python2.7/dist-packages/sklearn/ensemble/gradient_boosting.pyc\u001b[0m in \u001b[0;36mfit\u001b[1;34m(self, X, y, monitor)\u001b[0m\n\u001b[0;32m   1391\u001b[0m         \"\"\"\n\u001b[0;32m   1392\u001b[0m         \u001b[0mself\u001b[0m\u001b[1;33m.\u001b[0m\u001b[0mn_classes_\u001b[0m \u001b[1;33m=\u001b[0m \u001b[1;36m1\u001b[0m\u001b[1;33m\u001b[0m\u001b[0m\n\u001b[1;32m-> 1393\u001b[1;33m         \u001b[1;32mreturn\u001b[0m \u001b[0msuper\u001b[0m\u001b[1;33m(\u001b[0m\u001b[0mGradientBoostingRegressor\u001b[0m\u001b[1;33m,\u001b[0m \u001b[0mself\u001b[0m\u001b[1;33m)\u001b[0m\u001b[1;33m.\u001b[0m\u001b[0mfit\u001b[0m\u001b[1;33m(\u001b[0m\u001b[0mX\u001b[0m\u001b[1;33m,\u001b[0m \u001b[0my\u001b[0m\u001b[1;33m,\u001b[0m \u001b[0mmonitor\u001b[0m\u001b[1;33m)\u001b[0m\u001b[1;33m\u001b[0m\u001b[0m\n\u001b[0m\u001b[0;32m   1394\u001b[0m \u001b[1;33m\u001b[0m\u001b[0m\n\u001b[0;32m   1395\u001b[0m     \u001b[1;32mdef\u001b[0m \u001b[0mpredict\u001b[0m\u001b[1;33m(\u001b[0m\u001b[0mself\u001b[0m\u001b[1;33m,\u001b[0m \u001b[0mX\u001b[0m\u001b[1;33m)\u001b[0m\u001b[1;33m:\u001b[0m\u001b[1;33m\u001b[0m\u001b[0m\n",
        "\u001b[1;32m/usr/local/lib/python2.7/dist-packages/sklearn/ensemble/gradient_boosting.pyc\u001b[0m in \u001b[0;36mfit\u001b[1;34m(self, X, y, monitor)\u001b[0m\n\u001b[0;32m    781\u001b[0m         \u001b[1;31m# fit the boosting stages\u001b[0m\u001b[1;33m\u001b[0m\u001b[1;33m\u001b[0m\u001b[0m\n\u001b[0;32m    782\u001b[0m         n_stages = self._fit_stages(X, y, y_pred, random_state,\n\u001b[1;32m--> 783\u001b[1;33m                                     begin_at_stage, monitor)\n\u001b[0m\u001b[0;32m    784\u001b[0m         \u001b[1;31m# change shape of arrays after fit (early-stopping or additional ests)\u001b[0m\u001b[1;33m\u001b[0m\u001b[1;33m\u001b[0m\u001b[0m\n\u001b[0;32m    785\u001b[0m         \u001b[1;32mif\u001b[0m \u001b[0mn_stages\u001b[0m \u001b[1;33m!=\u001b[0m \u001b[0mself\u001b[0m\u001b[1;33m.\u001b[0m\u001b[0mestimators_\u001b[0m\u001b[1;33m.\u001b[0m\u001b[0mshape\u001b[0m\u001b[1;33m[\u001b[0m\u001b[1;36m0\u001b[0m\u001b[1;33m]\u001b[0m\u001b[1;33m:\u001b[0m\u001b[1;33m\u001b[0m\u001b[0m\n",
        "\u001b[1;32m/usr/local/lib/python2.7/dist-packages/sklearn/ensemble/gradient_boosting.pyc\u001b[0m in \u001b[0;36m_fit_stages\u001b[1;34m(self, X, y, y_pred, random_state, begin_at_stage, monitor)\u001b[0m\n\u001b[0;32m    832\u001b[0m             \u001b[1;31m# fit next stage of trees\u001b[0m\u001b[1;33m\u001b[0m\u001b[1;33m\u001b[0m\u001b[0m\n\u001b[0;32m    833\u001b[0m             y_pred = self._fit_stage(i, X, y, y_pred, sample_mask,\n\u001b[1;32m--> 834\u001b[1;33m                                      criterion, splitter, random_state)\n\u001b[0m\u001b[0;32m    835\u001b[0m \u001b[1;33m\u001b[0m\u001b[0m\n\u001b[0;32m    836\u001b[0m             \u001b[1;31m# track deviance (= loss)\u001b[0m\u001b[1;33m\u001b[0m\u001b[1;33m\u001b[0m\u001b[0m\n",
        "\u001b[1;32m/usr/local/lib/python2.7/dist-packages/sklearn/ensemble/gradient_boosting.pyc\u001b[0m in \u001b[0;36m_fit_stage\u001b[1;34m(self, i, X, y, y_pred, sample_mask, criterion, splitter, random_state)\u001b[0m\n\u001b[0;32m    570\u001b[0m \u001b[1;33m\u001b[0m\u001b[0m\n\u001b[0;32m    571\u001b[0m             tree.fit(X, residual,\n\u001b[1;32m--> 572\u001b[1;33m                      sample_weight=sample_weight, check_input=False)\n\u001b[0m\u001b[0;32m    573\u001b[0m \u001b[1;33m\u001b[0m\u001b[0m\n\u001b[0;32m    574\u001b[0m             \u001b[1;31m# update tree leaves\u001b[0m\u001b[1;33m\u001b[0m\u001b[1;33m\u001b[0m\u001b[0m\n",
        "\u001b[1;32m/usr/local/lib/python2.7/dist-packages/sklearn/tree/tree.pyc\u001b[0m in \u001b[0;36mfit\u001b[1;34m(self, X, y, sample_mask, X_argsorted, check_input, sample_weight)\u001b[0m\n\u001b[0;32m    265\u001b[0m                                            max_leaf_nodes)\n\u001b[0;32m    266\u001b[0m \u001b[1;33m\u001b[0m\u001b[0m\n\u001b[1;32m--> 267\u001b[1;33m         \u001b[0mbuilder\u001b[0m\u001b[1;33m.\u001b[0m\u001b[0mbuild\u001b[0m\u001b[1;33m(\u001b[0m\u001b[0mself\u001b[0m\u001b[1;33m.\u001b[0m\u001b[0mtree_\u001b[0m\u001b[1;33m,\u001b[0m \u001b[0mX\u001b[0m\u001b[1;33m,\u001b[0m \u001b[0my\u001b[0m\u001b[1;33m,\u001b[0m \u001b[0msample_weight\u001b[0m\u001b[1;33m)\u001b[0m\u001b[1;33m\u001b[0m\u001b[0m\n\u001b[0m\u001b[0;32m    268\u001b[0m \u001b[1;33m\u001b[0m\u001b[0m\n\u001b[0;32m    269\u001b[0m         \u001b[1;32mif\u001b[0m \u001b[0mself\u001b[0m\u001b[1;33m.\u001b[0m\u001b[0mn_outputs_\u001b[0m \u001b[1;33m==\u001b[0m \u001b[1;36m1\u001b[0m\u001b[1;33m:\u001b[0m\u001b[1;33m\u001b[0m\u001b[0m\n",
        "\u001b[1;31mKeyboardInterrupt\u001b[0m: "
       ]
      }
     ],
     "prompt_number": 245
    },
    {
     "cell_type": "code",
     "collapsed": false,
     "input": [
      "qimbs.Regression('COMB', X_pos,ypln_pos,dates,datesDF_pos,1)"
     ],
     "language": "python",
     "metadata": {},
     "outputs": []
    },
    {
     "cell_type": "code",
     "collapsed": false,
     "input": [
      "f = ytrain<0\n",
      "f2 = ytest<0\n",
      "clf = GradientBoostingRegressor(loss='huber', min_samples_split = ytrain[f].shape[0]*0.05)\n",
      "clf.fit(Xtrain[f], ytrain[f])\n",
      "fix, axs = pdep.plot_partial_dependence(clf,Xtrain[f],[(5,0)],feature_names=Xtrain.columns)"
     ],
     "language": "python",
     "metadata": {},
     "outputs": [
      {
       "metadata": {},
       "output_type": "display_data",
       "png": "[encoded data removed]",
       "text": [
        "<matplotlib.figure.Figure at 0x7fdd8e940910>"
       ]
      }
     ],
     "prompt_number": 294
    },
    {
     "cell_type": "code",
     "collapsed": false,
     "input": [
      "f = ytrain>0\n",
      "f2 = ytest>0\n",
      "clf = GradientBoostingRegressor(loss='huber', min_samples_split = ytrain[f].shape[0]*0.05)\n",
      "clf.fit(Xtrain[f], ytrain[f])\n",
      "fix, axs = pdep.plot_partial_dependence(clf,Xtrain[f],[(5,0)],feature_names=Xtrain.columns)"
     ],
     "language": "python",
     "metadata": {},
     "outputs": [
      {
       "metadata": {},
       "output_type": "display_data",
       "png": "[encoded data removed]",
       "text": [
        "<matplotlib.figure.Figure at 0x7fdd8fb59450>"
       ]
      }
     ],
     "prompt_number": 295
    },
    {
     "cell_type": "code",
     "collapsed": false,
     "input": [
      "tmp_df = pd.DataFrame()\n",
      "tmp_df['yp'] = ypln_pos\n",
      "tmp_df['yn'] = ypln_neg\n",
      "tmp_df['t'] = X_pos.D555\n",
      "tmp_df['t2'] = X_neg.D444\n",
      "print np.percentile(tmp_df[(tmp_df.yp>0) & (tmp_df.t>=0)].yp,95)\n",
      "print np.percentile(tmp_df[(tmp_df.yn>0) & (tmp_df.t2>=0)].yp,95)\n",
      "ggplot(tmp_df[(tmp_df.yp>0) & (tmp_df.t>=0)],aes(x='yp')) + geom_histogram(binwidth = 0.01,alpha=0.5, color='red') +\\\n",
      "geom_histogram(tmp_df[(tmp_df.yn>0) & (tmp_df.t2>=0)],aes(x='yn'),binwidth = 0.01,alpha=0.5,color='green')\n",
      "\n"
     ],
     "language": "python",
     "metadata": {},
     "outputs": [
      {
       "output_type": "stream",
       "stream": "stdout",
       "text": [
        "0.0297857142857\n",
        "0.0167272503505\n"
       ]
      },
      {
       "metadata": {},
       "output_type": "display_data",
       "png": "[encoded data removed]",
       "text": [
        "<matplotlib.figure.Figure at 0x14f3a4d0>"
       ]
      },
      {
       "metadata": {},
       "output_type": "pyout",
       "prompt_number": 40,
       "text": [
        "<ggplot: (21969617)>"
       ]
      }
     ],
     "prompt_number": 40
    },
    {
     "cell_type": "code",
     "collapsed": false,
     "input": [
      "tmp_df = pd.DataFrame()\n",
      "tmp_df['yp'] = ypln_pos\n",
      "tmp_df['yn'] = ypln_neg\n",
      "tmp_df['t'] = X_pos.D555\n",
      "tmp_df['t2'] = X_neg.D444\n",
      "ggplot(tmp_df[(tmp_df.yp<0) & (tmp_df.t>=0)],aes(x='yp')) + geom_histogram(binwidth = 0.005,alpha=0.5, color='red') +\\\n",
      "geom_histogram(tmp_df[(tmp_df.yn<0) & (tmp_df.t2>=0)],aes(x='yn'),binwidth = 0.005,alpha=0.5,color='green')"
     ],
     "language": "python",
     "metadata": {},
     "outputs": [
      {
       "metadata": {},
       "output_type": "pyout",
       "prompt_number": 48,
       "text": [
        "<repr(<ggplot.ggplot.ggplot at 0xabf3a50>) failed: KeyError: 0>"
       ]
      },
      {
       "metadata": {},
       "output_type": "display_data",
       "png": "[encoded data removed]",
       "text": [
        "<matplotlib.figure.Figure at 0xdba1990>"
       ]
      }
     ],
     "prompt_number": 48
    },
    {
     "cell_type": "code",
     "collapsed": false,
     "input": [
      "X_pos.columns"
     ],
     "language": "python",
     "metadata": {},
     "outputs": [
      {
       "metadata": {},
       "output_type": "pyout",
       "prompt_number": 122,
       "text": [
        "Index([u'Ask', u'AskD', u'Near', u'Far', u'Spread', u'D5', u'D555', u'D66', u'V1', u'V1n', u'V11', u'V11n', u'V8', u'V8n', u'V8nn', u'a1', u'a4', u'a5', u'a7'], dtype='object')"
       ]
      }
     ],
     "prompt_number": 122
    },
    {
     "cell_type": "code",
     "collapsed": false,
     "input": [
      "tmp_df = X_pos.copy()\n",
      "tmp_df['yp'] = ypln_pos\n",
      "tmp_df['NearN'] =  np.exp(np.exp(tmp_df.Near))\n",
      "ggplot(tmp_df,aes(x='a7',y='yp')) + geom_point(size=1)"
     ],
     "language": "python",
     "metadata": {},
     "outputs": [
      {
       "metadata": {},
       "output_type": "display_data",
       "png": "[encoded data removed]",
       "text": [
        "<matplotlib.figure.Figure at 0x80da250>"
       ]
      },
      {
       "metadata": {},
       "output_type": "pyout",
       "prompt_number": 155,
       "text": [
        "<ggplot: (8786879563809)>"
       ]
      }
     ],
     "prompt_number": 155
    },
    {
     "cell_type": "code",
     "collapsed": false,
     "input": [
      "\n",
      "\n",
      "\n",
      "\n",
      "\n",
      "#Save configuration for C++"
     ],
     "language": "python",
     "metadata": {},
     "outputs": []
    },
    {
     "cell_type": "code",
     "collapsed": false,
     "input": [
      "db = '/home/user1/Desktop/Share2Windows/RandomForestDatabase.sql'\n",
      "reload(qimbs)\n",
      "qimbs.DropDB(db)"
     ],
     "language": "python",
     "metadata": {},
     "outputs": [
      {
       "output_type": "stream",
       "stream": "stdout",
       "text": [
        "SQLite version: 3.7.13\n"
       ]
      }
     ],
     "prompt_number": 339
    },
    {
     "cell_type": "code",
     "collapsed": false,
     "input": [
      "reload(qimbs)\n",
      "qimbs.TestData2Sql(1, X_pos,ypln_pos,db)\n",
      "qimbs.TestData2Sql(-1, X_neg,ypln_neg,db)"
     ],
     "language": "python",
     "metadata": {},
     "outputs": [
      {
       "output_type": "stream",
       "stream": "stdout",
       "text": [
        "SQLite version: 3.7.13\n",
        "SQLite version: 3.7.13"
       ]
      },
      {
       "output_type": "stream",
       "stream": "stdout",
       "text": [
        "\n"
       ]
      }
     ],
     "prompt_number": 340
    },
    {
     "cell_type": "code",
     "collapsed": false,
     "input": [
      "reload(qimbs)\n",
      "Forest2SqlClf(0.0,db,fdf,X_pos,X_neg,dates,datesDF_pos,datesDF_neg)\n",
      "Forest2SqlClf(1.0,db,fdf,X_pos,X_neg,dates,datesDF_pos,datesDF_neg)\n",
      "Forest2SqlClf(2.0,db,fdf,X_pos,X_neg,dates,datesDF_pos,datesDF_neg)\n",
      "Forest2SqlClf(3.0,db,fdf,X_pos,X_neg,dates,datesDF_pos,datesDF_neg)\n",
      "Forest2SqlClf(4.0,db,fdf,X_pos,X_neg,dates,datesDF_pos,datesDF_neg)\n",
      "Forest2SqlClf(5.0,db,fdf,X_pos,X_neg,dates,datesDF_pos,datesDF_neg)\n",
      "Forest2SqlClf(7.0,db,fdf,X_pos,X_neg,dates,datesDF_pos,datesDF_neg)\n",
      "Forest2SqlClf(9.0,db,fdf,X_pos,X_neg,dates,datesDF_pos,datesDF_neg)\n",
      "Forest2SqlClf(11.0,db,fdf,X_pos,X_neg,dates,datesDF_pos,datesDF_neg)\n",
      "Forest2SqlClf(13.0,db,fdf,X_pos,X_neg,dates,datesDF_pos,datesDF_neg)\n",
      "Forest2SqlClf(15.0,db,fdf,X_pos,X_neg,dates,datesDF_pos,datesDF_neg)\n",
      "Forest2SqlClf(17.0,db,fdf,X_pos,X_neg,dates,datesDF_pos,datesDF_neg)\n",
      "Forest2SqlClf(19.0,db,fdf,X_pos,X_neg,dates,datesDF_pos,datesDF_neg)"
     ],
     "language": "python",
     "metadata": {},
     "outputs": [
      {
       "output_type": "stream",
       "stream": "stdout",
       "text": [
        "max F_Score  0.846153846154\n",
        "SQLite version: 3.7.13\n",
        "max F_Score "
       ]
      },
      {
       "output_type": "stream",
       "stream": "stdout",
       "text": [
        " 0.894426823743\n",
        "SQLite version: 3.7.13\n",
        "f1-"
       ]
      },
      {
       "output_type": "stream",
       "stream": "stdout",
       "text": [
        " 0.846153846154  f2- 0.894426823743\n",
        "max F_Score "
       ]
      },
      {
       "output_type": "stream",
       "stream": "stdout",
       "text": [
        " 0.817913965822\n",
        "SQLite version: 3.7.13\n",
        "max F_Score "
       ]
      },
      {
       "output_type": "stream",
       "stream": "stdout",
       "text": [
        " 0.881168177241\n",
        "SQLite version: 3.7.13\n",
        "f1-"
       ]
      },
      {
       "output_type": "stream",
       "stream": "stdout",
       "text": [
        " 0.817913965822  f2- 0.881168177241\n",
        "max F_Score "
       ]
      },
      {
       "output_type": "stream",
       "stream": "stdout",
       "text": [
        " 0.794435857805\n",
        "SQLite version: 3.7.13\n",
        "max F_Score "
       ]
      },
      {
       "output_type": "stream",
       "stream": "stdout",
       "text": [
        " 0.859228362878\n",
        "SQLite version: 3.7.13\n",
        "f1-"
       ]
      },
      {
       "output_type": "stream",
       "stream": "stdout",
       "text": [
        " 0.794435857805  f2- 0.859228362878\n",
        "max F_Score "
       ]
      },
      {
       "output_type": "stream",
       "stream": "stdout",
       "text": [
        " 0.792\n",
        "SQLite version: 3.7.13\n",
        "max F_Score "
       ]
      },
      {
       "output_type": "stream",
       "stream": "stdout",
       "text": [
        " 0.836385836386\n",
        "SQLite version: 3.7.13\n",
        "f1-"
       ]
      },
      {
       "output_type": "stream",
       "stream": "stdout",
       "text": [
        " 0.792  f2- 0.836385836386\n",
        "max F_Score "
       ]
      },
      {
       "output_type": "stream",
       "stream": "stdout",
       "text": [
        " 0.765039727582\n",
        "SQLite version: 3.7.13\n",
        "max F_Score "
       ]
      },
      {
       "output_type": "stream",
       "stream": "stdout",
       "text": [
        " 0.830534351145\n",
        "SQLite version: 3.7.13\n",
        "f1-"
       ]
      },
      {
       "output_type": "stream",
       "stream": "stdout",
       "text": [
        " 0.765039727582  f2- 0.830534351145\n",
        "max F_Score "
       ]
      },
      {
       "output_type": "stream",
       "stream": "stdout",
       "text": [
        " 0.762105263158\n",
        "SQLite version: 3.7.13\n",
        "max F_Score "
       ]
      },
      {
       "output_type": "stream",
       "stream": "stdout",
       "text": [
        " 0.828665568369\n",
        "SQLite version: 3.7.13\n",
        "f1-"
       ]
      },
      {
       "output_type": "stream",
       "stream": "stdout",
       "text": [
        " 0.762105263158  f2- 0.828665568369\n",
        "max F_Score "
       ]
      },
      {
       "output_type": "stream",
       "stream": "stdout",
       "text": [
        " 0.743343982961\n",
        "SQLite version: 3.7.13\n",
        "max F_Score "
       ]
      },
      {
       "output_type": "stream",
       "stream": "stdout",
       "text": [
        " 0.798898071625\n",
        "SQLite version: 3.7.13\n",
        "f1-"
       ]
      },
      {
       "output_type": "stream",
       "stream": "stdout",
       "text": [
        " 0.743343982961  f2- 0.798898071625\n",
        "max F_Score "
       ]
      },
      {
       "output_type": "stream",
       "stream": "stdout",
       "text": [
        " 0.736677115987\n",
        "SQLite version: 3.7.13\n",
        "max F_Score "
       ]
      },
      {
       "output_type": "stream",
       "stream": "stdout",
       "text": [
        " 0.797647058824\n",
        "SQLite version: 3.7.13\n",
        "f1-"
       ]
      },
      {
       "output_type": "stream",
       "stream": "stdout",
       "text": [
        " 0.736677115987  f2- 0.797647058824\n",
        "max F_Score "
       ]
      },
      {
       "output_type": "stream",
       "stream": "stdout",
       "text": [
        " 0.705636743215\n",
        "SQLite version: 3.7.13\n",
        "max F_Score "
       ]
      },
      {
       "output_type": "stream",
       "stream": "stdout",
       "text": [
        " 0.786624203822\n",
        "SQLite version: 3.7.13\n",
        "f1-"
       ]
      },
      {
       "output_type": "stream",
       "stream": "stdout",
       "text": [
        " 0.705636743215  f2- 0.786624203822\n",
        "max F_Score "
       ]
      },
      {
       "output_type": "stream",
       "stream": "stdout",
       "text": [
        " 0.715355805243\n",
        "SQLite version: 3.7.13\n",
        "max F_Score "
       ]
      },
      {
       "output_type": "stream",
       "stream": "stdout",
       "text": [
        " 0.802985074627\n",
        "SQLite version: 3.7.13\n",
        "f1-"
       ]
      },
      {
       "output_type": "stream",
       "stream": "stdout",
       "text": [
        " 0.715355805243  f2- 0.802985074627\n",
        "max F_Score "
       ]
      },
      {
       "output_type": "stream",
       "stream": "stdout",
       "text": [
        " 0.720173535792\n",
        "SQLite version: 3.7.13\n",
        "max F_Score "
       ]
      },
      {
       "output_type": "stream",
       "stream": "stdout",
       "text": [
        " 0.789285714286\n",
        "SQLite version: 3.7.13\n",
        "f1-"
       ]
      },
      {
       "output_type": "stream",
       "stream": "stdout",
       "text": [
        " 0.720173535792  f2- 0.789285714286\n",
        "max F_Score "
       ]
      },
      {
       "output_type": "stream",
       "stream": "stdout",
       "text": [
        " 0.745098039216\n",
        "SQLite version: 3.7.13\n",
        "max F_Score "
       ]
      },
      {
       "output_type": "stream",
       "stream": "stdout",
       "text": [
        " 0.779661016949\n",
        "SQLite version: 3.7.13\n",
        "f1-"
       ]
      },
      {
       "output_type": "stream",
       "stream": "stdout",
       "text": [
        " 0.745098039216  f2- 0.779661016949\n",
        "max F_Score "
       ]
      },
      {
       "output_type": "stream",
       "stream": "stdout",
       "text": [
        " 0.715492957746\n",
        "SQLite version: 3.7.13\n",
        "max F_Score "
       ]
      },
      {
       "output_type": "stream",
       "stream": "stdout",
       "text": [
        " 0.775047258979\n",
        "SQLite version: 3.7.13\n",
        "f1-"
       ]
      },
      {
       "output_type": "stream",
       "stream": "stdout",
       "text": [
        " 0.715492957746  f2- 0.775047258979\n"
       ]
      }
     ],
     "prompt_number": 341
    },
    {
     "cell_type": "code",
     "collapsed": false,
     "input": [
      "reload(qimbs)\n",
      "Forest2SqlReg(db,fdf,X_pos,X_neg)"
     ],
     "language": "python",
     "metadata": {},
     "outputs": [
      {
       "output_type": "stream",
       "stream": "stdout",
       "text": [
        "max R2_Score  0.864478847026\n",
        "SQLite version: 3.7.13"
       ]
      },
      {
       "output_type": "stream",
       "stream": "stdout",
       "text": [
        "\n",
        "max R2_Score "
       ]
      },
      {
       "output_type": "stream",
       "stream": "stdout",
       "text": [
        " 0.989805143489\n",
        "SQLite version: 3.7.13"
       ]
      },
      {
       "output_type": "stream",
       "stream": "stdout",
       "text": [
        "\n",
        "max R2_Score "
       ]
      },
      {
       "output_type": "stream",
       "stream": "stdout",
       "text": [
        " 0.925263415131\n",
        "SQLite version: 3.7.13"
       ]
      },
      {
       "output_type": "stream",
       "stream": "stdout",
       "text": [
        "\n",
        "max R2_Score "
       ]
      },
      {
       "output_type": "stream",
       "stream": "stdout",
       "text": [
        " 0.996062500699\n",
        "SQLite version: 3.7.13"
       ]
      },
      {
       "output_type": "stream",
       "stream": "stdout",
       "text": [
        "\n"
       ]
      }
     ],
     "prompt_number": 342
    },
    {
     "cell_type": "code",
     "collapsed": false,
     "input": [
      "def Forest2SqlClf(advantage,db,fdf,X_pos,X_neg,dates,datesDF_pos,datesDF_neg):\n",
      "\n",
      "    ym_pos = fdf.OPC_P.copy()\n",
      "    ym_pos[:] = 0\n",
      "    ym_pos[fdf.OPC_P>fdf.Ask_P+advantage/100] = 1\n",
      "    ym_pos = ym_pos[fdf.a14>0]\n",
      "    ym_pos.index = range(y_pos.shape[0])\n",
      "\n",
      "    ym_neg = fdf.OPC_P.copy()\n",
      "    ym_neg[:] = 0\n",
      "    ym_neg[fdf.OPC_P<fdf.Bid_P-advantage/100] = 1\n",
      "    ym_neg = ym_neg[fdf.a14<0]\n",
      "    ym_neg.index = range(y_neg.shape[0])\n",
      "    \n",
      "    trainError, testError, cm, clf, fscore1 = qimbs.run_cv_proba(X_pos,ym_pos,RF,20,20,dates,datesDF_pos)\n",
      "    #clf = RF(min_samples_split = X_pos.shape[0]*0.05, criterion = 'entropy')\n",
      "    #clf.fit(X_pos,ym_pos)\n",
      "    qimbs.Forest2Sql(clf, X_pos,0,1,advantage,fscore1,db)\n",
      "    \n",
      "    trainError, testError, cm, clf, fscore2 = qimbs.run_cv_proba(X_neg,ym_neg,RF,20,20,dates,datesDF_neg)\n",
      "    #clf = RF(min_samples_split = X_neg.shape[0]*0.05, criterion = 'entropy')\n",
      "    #clf.fit(X_neg,ym_neg)\n",
      "    qimbs.Forest2Sql(clf,X_neg,0,-1,advantage,fscore2,db)\n",
      "    \n",
      "    print \"f1-\", fscore1, \" f2-\",fscore2"
     ],
     "language": "python",
     "metadata": {},
     "outputs": [],
     "prompt_number": 217
    },
    {
     "cell_type": "code",
     "collapsed": false,
     "input": [
      "def Forest2SqlReg(db,fdf,X_pos,X_neg):\n",
      "    #Random forest for regression\n",
      "    \n",
      "    from sklearn.ensemble import RandomForestRegressor as RFR\n",
      "    '''Xpp = X_pos.copy()\n",
      "    Xpp = Xpp[ypln_pos>0]\n",
      "    Xpp.index = range(Xpp.shape[0])\n",
      "\n",
      "    clf = RFR(min_samples_split = ypln_pos[ypln_pos>0].shape[0]*0.05)\n",
      "    clf.fit(Xpp, ypln_pos[ypln_pos>0])\n",
      "    qimbs.Forest2Txt(clf, Xpp.ix[:,:],'/home/user1/Desktop/Share2Windows/Forest/PP')\n",
      "\n",
      "    clf = GBR(min_samples_split = ypln_pos[ypln_pos>0].shape[0]*0.05, loss='huber',init='zero',learning_rate=0.1)\n",
      "    clf.fit(Xpp, ypln_pos[ypln_pos>0])\n",
      "    qimbs.Forest2Txt(clf, Xpp.ix[:,:],'/home/user1/Desktop/Share2Windows/GradientBoost/PP')'''\n",
      "\n",
      "    #------------------------------------------\n",
      "    Xpn = X_pos.copy()\n",
      "    Xpn = Xpn[ypln_pos<0]\n",
      "    Xpn.index = range(Xpn.shape[0])\n",
      "    \n",
      "    clf, r2 = run_reg(X_pos,ypln_pos,RFR,20,20,dates,datesDF_pos)\n",
      "    qimbs.Forest2Txt(clf, Xpn.ix[:,:],'/home/user1/Desktop/Share2Windows/Forest/PN')\n",
      "    qimbs.Forest2Sql(clf, Xpn.ix[:,:],1,1,0,r2,db)\n",
      "\n",
      "    clf, r2 = run_reg(X_pos,ypln_pos,GBR,20,20,dates,datesDF_pos)\n",
      "    qimbs.Forest2Txt(clf, Xpn.ix[:,:],'/home/user1/Desktop/Share2Windows/GradientBoost/PN')\n",
      "    qimbs.Forest2Sql(clf, Xpn.ix[:,:],1,1,0,r2,db)\n",
      "\n",
      "    #------------------------------------------\n",
      "    '''Xnp = X_neg.copy()\n",
      "    Xnp = Xnp[ypln_neg>0]\n",
      "    Xnp.index = range(Xnp.shape[0])\n",
      "\n",
      "    clf = RFR(min_samples_split = ypln_neg[ypln_neg>0].shape[0]*0.05)\n",
      "    clf.fit(Xnp, ypln_neg[ypln_neg>0])\n",
      "    qimbs.Forest2Txt(clf, Xnp.ix[:,:],'/home/user1/Desktop/Share2Windows/Forest/NP')\n",
      "\n",
      "    clf = GBR(min_samples_split = ypln_neg[ypln_neg>0].shape[0]*0.05, loss='huber',init='zero',learning_rate=0.1)\n",
      "    clf.fit(Xnp, ypln_neg[ypln_neg>0])\n",
      "    qimbs.Forest2Txt(clf, Xnp.ix[:,:],'/home/user1/Desktop/Share2Windows/GradientBoost/NP')'''\n",
      "\n",
      "    #------------------------------------------\n",
      "    Xnn = X_neg.copy()\n",
      "    Xnn = Xnn[ypln_neg<0]\n",
      "    Xnn.index = range(Xnn.shape[0])\n",
      "\n",
      "    clf, r2 = run_reg(X_neg,ypln_neg,RFR,20,20,dates,datesDF_neg)\n",
      "    qimbs.Forest2Txt(clf, Xnn.ix[:,:],'/home/user1/Desktop/Share2Windows/Forest/NN')\n",
      "    qimbs.Forest2Sql(clf, Xnn.ix[:,:],1,-1,0,r2,db)\n",
      "\n",
      "    clf, r2 = run_reg(X_neg,ypln_neg,GBR,20,20,dates,datesDF_neg)\n",
      "    qimbs.Forest2Txt(clf, Xnn.ix[:,:],'/home/user1/Desktop/Share2Windows/GradientBoost/NN')\n",
      "    qimbs.Forest2Sql(clf, Xnn.ix[:,:],1,-1,0,r2,db)"
     ],
     "language": "python",
     "metadata": {},
     "outputs": [],
     "prompt_number": 218
    },
    {
     "cell_type": "code",
     "collapsed": false,
     "input": [
      "#Random forest for regression\n",
      "\n"
     ],
     "language": "python",
     "metadata": {},
     "outputs": []
    },
    {
     "cell_type": "code",
     "collapsed": false,
     "input": [],
     "language": "python",
     "metadata": {},
     "outputs": []
    },
    {
     "cell_type": "code",
     "collapsed": false,
     "input": [],
     "language": "python",
     "metadata": {},
     "outputs": []
    },
    {
     "cell_type": "code",
     "collapsed": false,
     "input": [
      "#Random forest for classification\n",
      "from sklearn.ensemble import RandomForestClassifier as RF\n",
      "clf = RF(min_samples_split = X_pos.shape[0]*0.05, criterion = 'entropy')\n",
      "clf.fit(X_pos,y_pos)\n",
      "qimbs.Forest2Txt(clf, X_pos.ix[:,:],'/home/user1/Desktop/Share2Windows/Forest/PosNotFirst')\n",
      "\n",
      "clf = RF(min_samples_split = X_neg.shape[0]*0.05, criterion = 'entropy')\n",
      "clf.fit(X_neg,y_neg)\n",
      "qimbs.Forest2Txt(clf, X_neg.ix[:,:],'/home/user1/Desktop/Share2Windows/Forest/NegNotFirst')"
     ],
     "language": "python",
     "metadata": {},
     "outputs": [
      {
       "output_type": "stream",
       "stream": "stdout",
       "text": [
        "SQLite version: 3.7.13\n",
        "SQLite version: 3.7.13"
       ]
      },
      {
       "output_type": "stream",
       "stream": "stdout",
       "text": [
        "\n"
       ]
      }
     ],
     "prompt_number": 16
    },
    {
     "cell_type": "code",
     "collapsed": false,
     "input": [
      "#Random forest for classification far move\n",
      "clf = RF(n_jobs=4,min_samples_split = X_pos.shape[0]*0.05, criterion = 'entropy')\n",
      "clf.fit(X_pos,ym_pos)\n",
      "qimbs.Forest2Txt(clf, X_pos.ix[:,:],'/home/user1/Desktop/Share2Windows/Forest/5Pos')\n",
      "clf = RF(min_samples_split = X_neg.shape[0]*0.05, criterion = 'entropy')\n",
      "clf.fit(X_neg,ym_neg)\n",
      "qimbs.Forest2Txt(clf, X_neg.ix[:,:],'/home/user1/Desktop/Share2Windows/Forest/5Neg')"
     ],
     "language": "python",
     "metadata": {},
     "outputs": [
      {
       "output_type": "stream",
       "stream": "stdout",
       "text": [
        "SQLite version: 3.7.13\n",
        "SQLite version: 3.7.13"
       ]
      },
      {
       "output_type": "stream",
       "stream": "stdout",
       "text": [
        "\n"
       ]
      }
     ],
     "prompt_number": 17
    },
    {
     "cell_type": "code",
     "collapsed": false,
     "input": [
      "#Gradient Boosting for classification far move\n",
      "clf = GBC(min_samples_split = X_pos.shape[0]*0.05, init='zero')\n",
      "clf.fit(X_pos,ym_pos)\n",
      "#qimbs.Forest2Txt(clf, X_pos.ix[:,:],'/home/user1/Desktop/Share2Windows/GradientBoost/5Pos')\n",
      "clf = GBC(min_samples_split = X_neg.shape[0]*0.05, init='zero')\n",
      "clf.fit(X_neg,ym_neg)\n",
      "#qimbs.Forest2Txt(clf, X_neg.ix[:,:],'/home/user1/Desktop/Share2Windows/GradientBoost/5Neg')"
     ],
     "language": "python",
     "metadata": {},
     "outputs": []
    },
    {
     "cell_type": "code",
     "collapsed": false,
     "input": [
      "#Random forest for classification\n",
      "clf = RF(min_samples_split = X_pos.shape[0]*0.05, criterion = 'entropy')\n",
      "clf.fit(X_pos,y_pos)\n",
      "qimbs.Forest2Txt(clf, X_pos.ix[:,:],'/home/user1/Desktop/Share2Windows/Forest/PosLast')\n",
      "clf = RF(min_samples_split = X_neg.shape[0]*0.05, criterion = 'entropy')\n",
      "clf.fit(X_neg,y_neg)\n",
      "qimbs.Forest2Txt(clf, X_neg.ix[:,:],'/home/user1/Desktop/Share2Windows/Forest/NegLast')"
     ],
     "language": "python",
     "metadata": {},
     "outputs": [],
     "prompt_number": 217
    },
    {
     "cell_type": "code",
     "collapsed": false,
     "input": [],
     "language": "python",
     "metadata": {},
     "outputs": [],
     "prompt_number": 199
    },
    {
     "cell_type": "code",
     "collapsed": false,
     "input": [
      "#Gradient Boosting for classification\n",
      "clf = GBC(min_samples_split = X_pos.shape[0]*0.05, init='zero')\n",
      "clf.fit(X_pos,y_pos)\n",
      "qimbs.Forest2Txt(clf, X_pos.ix[:,:],'/home/user1/Desktop/Share2Windows/GradientBoost/Pos')\n",
      "clf = GBC(min_samples_split = X_neg.shape[0]*0.05, init='zero')\n",
      "clf.fit(X_neg,y_neg)\n",
      "qimbs.Forest2Txt(clf, X_neg.ix[:,:],'/home/user1/Desktop/Share2Windows/GradientBoost/Neg')"
     ],
     "language": "python",
     "metadata": {},
     "outputs": [],
     "prompt_number": 170
    },
    {
     "cell_type": "code",
     "collapsed": false,
     "input": [
      "#Random forest for regression\n",
      "from sklearn.ensemble import RandomForestRegressor as RFR\n",
      "Xpp = X_pos.copy()\n",
      "Xpp = Xpp[ypln_pos>0]\n",
      "Xpp.index = range(Xpp.shape[0])\n",
      "\n",
      "clf = RFR(min_samples_split = ypln_pos[ypln_pos>0].shape[0]*0.05)\n",
      "clf.fit(Xpp, ypln_pos[ypln_pos>0])\n",
      "qimbs.Forest2Txt(clf, Xpp.ix[:,:],'/home/user1/Desktop/Share2Windows/Forest/PP')\n",
      "\n",
      "clf = GBR(min_samples_split = ypln_pos[ypln_pos>0].shape[0]*0.05, loss='huber',init='zero',learning_rate=0.1)\n",
      "clf.fit(Xpp, ypln_pos[ypln_pos>0])\n",
      "qimbs.Forest2Txt(clf, Xpp.ix[:,:],'/home/user1/Desktop/Share2Windows/GradientBoost/PP')"
     ],
     "language": "python",
     "metadata": {},
     "outputs": [],
     "prompt_number": 145
    },
    {
     "cell_type": "code",
     "collapsed": false,
     "input": [
      "Xpn = X_pos.copy()\n",
      "Xpn = Xpn[ypln_pos<0]\n",
      "Xpn.index = range(Xpn.shape[0])\n",
      "\n",
      "clf = RFR(min_samples_split = ypln_pos[ypln_pos<0].shape[0]*0.05)\n",
      "clf.fit(Xpn, ypln_pos[ypln_pos<0])\n",
      "qimbs.Forest2Txt(clf, Xpn.ix[:,:],'/home/user1/Desktop/Share2Windows/Forest/PN')\n",
      "\n",
      "clf = GBR(min_samples_split = ypln_pos[ypln_pos<0].shape[0]*0.05, loss='huber',init='zero',learning_rate=0.1)\n",
      "clf.fit(Xpn, ypln_pos[ypln_pos<0])\n",
      "qimbs.Forest2Txt(clf, Xpn.ix[:,:],'/home/user1/Desktop/Share2Windows/GradientBoost/PN')"
     ],
     "language": "python",
     "metadata": {},
     "outputs": [],
     "prompt_number": 146
    },
    {
     "cell_type": "code",
     "collapsed": false,
     "input": [
      "Xnp = X_neg.copy()\n",
      "Xnp = Xnp[ypln_neg>0]\n",
      "Xnp.index = range(Xnp.shape[0])\n",
      "\n",
      "clf = RFR(min_samples_split = ypln_neg[ypln_neg>0].shape[0]*0.05)\n",
      "clf.fit(Xnp, ypln_neg[ypln_neg>0])\n",
      "qimbs.Forest2Txt(clf, Xnp.ix[:,:],'/home/user1/Desktop/Share2Windows/Forest/NP')\n",
      "\n",
      "clf = GBR(min_samples_split = ypln_neg[ypln_neg>0].shape[0]*0.05, loss='huber',init='zero',learning_rate=0.1)\n",
      "clf.fit(Xnp, ypln_neg[ypln_neg>0])\n",
      "qimbs.Forest2Txt(clf, Xnp.ix[:,:],'/home/user1/Desktop/Share2Windows/GradientBoost/NP')"
     ],
     "language": "python",
     "metadata": {},
     "outputs": [],
     "prompt_number": 147
    },
    {
     "cell_type": "code",
     "collapsed": false,
     "input": [
      "Xnn = X_neg.copy()\n",
      "Xnn = Xnn[ypln_neg<0]\n",
      "Xnn.index = range(Xnn.shape[0])\n",
      "\n",
      "clf = RFR(min_samples_split = ypln_neg[ypln_neg<0].shape[0]*0.05)\n",
      "clf.fit(Xnn, ypln_neg[ypln_neg<0])\n",
      "qimbs.Forest2Txt(clf, Xnn.ix[:,:],'/home/user1/Desktop/Share2Windows/Forest/NN')\n",
      "\n",
      "clf = GBR(min_samples_split = ypln_neg[ypln_neg<0].shape[0]*0.05, loss='huber',init='zero',learning_rate=0.1)\n",
      "clf.fit(Xnn, ypln_neg[ypln_neg<0])\n",
      "qimbs.Forest2Txt(clf, Xnn.ix[:,:],'/home/user1/Desktop/Share2Windows/GradientBoost/NN')"
     ],
     "language": "python",
     "metadata": {},
     "outputs": [],
     "prompt_number": 148
    },
    {
     "cell_type": "code",
     "collapsed": false,
     "input": [
      "reload(qimbs)"
     ],
     "language": "python",
     "metadata": {},
     "outputs": [
      {
       "metadata": {},
       "output_type": "pyout",
       "prompt_number": 254,
       "text": [
        "<module 'qimbs' from 'qimbs.py'>"
       ]
      }
     ],
     "prompt_number": 254
    },
    {
     "cell_type": "code",
     "collapsed": false,
     "input": [
      "from sklearn.ensemble import RandomForestClassifier as RF\n",
      "clf = RF(min_samples_split = X_pos.shape[0]*0.05, criterion = 'entropy')\n",
      "clf.fit(X_pos,y_pos)"
     ],
     "language": "python",
     "metadata": {},
     "outputs": [
      {
       "metadata": {},
       "output_type": "pyout",
       "prompt_number": 9,
       "text": [
        "RandomForestClassifier(bootstrap=True, compute_importances=None,\n",
        "            criterion='entropy', max_depth=None, max_features='auto',\n",
        "            max_leaf_nodes=None, min_density=None, min_samples_leaf=1,\n",
        "            min_samples_split=158.25, n_estimators=10, n_jobs=1,\n",
        "            oob_score=False, random_state=None, verbose=0)"
       ]
      }
     ],
     "prompt_number": 9
    },
    {
     "cell_type": "code",
     "collapsed": false,
     "input": [
      "import sqlite3 as lite\n",
      "import sys\n",
      "import pandas as pd\n",
      "con = lite.connect(db)\n",
      "df = pd.read_sql(\"SELECT * FROM RFnames\", con)\n",
      "print df\n",
      "pd.read_sql(\"SELECT * FROM RFtests Order by RFID\",con)\n",
      "con.commit()\n",
      "con.interrupt()\n",
      "con.close()"
     ],
     "language": "python",
     "metadata": {},
     "outputs": [],
     "prompt_number": 159
    },
    {
     "cell_type": "code",
     "collapsed": false,
     "input": [
      "clfPos = RF(min_samples_split = X_pos.shape[0]*0.05, criterion = 'entropy')\n",
      "clfPos.fit(X_pos,ym_pos)\n",
      "clfMin = RF(min_samples_split = X_neg.shape[0]*0.05, criterion = 'entropy')\n",
      "clfMin.fit(X_neg,ym_neg)\n",
      "predPos = pd.DataFrame(clfPos.predict(X_pos),columns=['val'])\n",
      "predNeg = pd.DataFrame(clfMin.predict(X_neg),columns=['val'])"
     ],
     "language": "python",
     "metadata": {},
     "outputs": [
      {
       "metadata": {},
       "output_type": "pyout",
       "prompt_number": 540,
       "text": [
        "RandomForestClassifier(bootstrap=True, compute_importances=None,\n",
        "            criterion='entropy', max_depth=None, max_features='auto',\n",
        "            max_leaf_nodes=None, min_density=None, min_samples_leaf=1,\n",
        "            min_samples_split=773.95, n_estimators=10, n_jobs=1,\n",
        "            oob_score=False, random_state=None, verbose=0)"
       ]
      }
     ],
     "prompt_number": 540
    }
   ],
   "metadata": {}
  }
 ]
}