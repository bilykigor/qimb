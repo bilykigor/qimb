{
 "metadata": {
  "name": "",
  "signature": "sha256:279e3f4096941e170ef0102f6da52b2f4de6a24b3d972411df8080bd7afc01ef"
 },
 "nbformat": 3,
 "nbformat_minor": 0,
 "worksheets": [
  {
   "cells": [
    {
     "cell_type": "code",
     "collapsed": false,
     "input": [
      "import qimbs \n",
      "import numpy as np\n",
      "import pandas as pd\n",
      "from ggplot import *"
     ],
     "language": "python",
     "metadata": {},
     "outputs": [],
     "prompt_number": 1
    },
    {
     "cell_type": "code",
     "collapsed": false,
     "input": [
      "reload(qimbs)"
     ],
     "language": "python",
     "metadata": {},
     "outputs": [
      {
       "metadata": {},
       "output_type": "pyout",
       "prompt_number": 2,
       "text": [
        "<module 'qimbs' from 'qimbs.pyc'>"
       ]
      }
     ],
     "prompt_number": 2
    },
    {
     "cell_type": "code",
     "collapsed": false,
     "input": [
      "#!Importing data\n",
      "df = pd.DataFrame()\n",
      "for i in range(5,7):\n",
      "    df = df.append(qimbs.import_month(i))\n",
      "    print i\n",
      "print df.shape\n",
      "df.index = range(df.shape[0])\n",
      "\n",
      "#Adding Timestamp column\n",
      "#df = qimbs.create_timestamp(df)"
     ],
     "language": "python",
     "metadata": {},
     "outputs": [
      {
       "output_type": "stream",
       "stream": "stdout",
       "text": [
        "5\n",
        "6"
       ]
      },
      {
       "output_type": "stream",
       "stream": "stdout",
       "text": [
        "\n",
        "(2774572, 17)\n"
       ]
      }
     ],
     "prompt_number": 6
    },
    {
     "cell_type": "code",
     "collapsed": false,
     "input": [
      "#Getting imbalance info\n",
      "imbalanceMsg = qimbs.get_imbelanceMSG2(df,0)\n",
      "imbalanceMsg = imbalanceMsg[\n",
      "    (imbalanceMsg.Ask_P - imbalanceMsg.Bid_P < \n",
      "     1.0 * (imbalanceMsg.Ask_P + imbalanceMsg.Bid_P)*0.5) ]\n",
      "imbalanceMsg.index = range(imbalanceMsg.shape[0])\n",
      "imbalanceMsg.shape"
     ],
     "language": "python",
     "metadata": {},
     "outputs": [
      {
       "metadata": {},
       "output_type": "pyout",
       "prompt_number": 29,
       "text": [
        "(5361, 16)"
       ]
      }
     ],
     "prompt_number": 29
    },
    {
     "cell_type": "code",
     "collapsed": false,
     "input": [
      "imbalanceMsg_=imbalanceMsg.copy()"
     ],
     "language": "python",
     "metadata": {},
     "outputs": [],
     "prompt_number": 5
    },
    {
     "cell_type": "code",
     "collapsed": false,
     "input": [
      "imbalanceMsg_=imbalanceMsg_.append(imbalanceMsg)\n",
      "imbalanceMsg=imbalanceMsg_\n",
      "imbalanceMsg.index = range(imbalanceMsg.shape[0])\n",
      "imbalanceMsg.shape"
     ],
     "language": "python",
     "metadata": {},
     "outputs": [
      {
       "metadata": {},
       "output_type": "pyout",
       "prompt_number": 34,
       "text": [
        "(11724, 16)"
       ]
      }
     ],
     "prompt_number": 34
    },
    {
     "cell_type": "code",
     "collapsed": false,
     "input": [
      "#Creating features\n",
      "fdf,Features = qimbs.create_features33(imbalanceMsg)\n",
      "\n",
      "#X = fdf[['Bid','Ask','Near','Far','PrevCLC','Spread',\n",
      "# 'D3', 'D4', 'D5', 'D444', 'D555', 'D7', 'D66', 'V1', 'V11', \n",
      "# 'V8', 'a3', 'a4', 'a14','nBid','nAsk','Bid2','Ask2' ]]\n",
      "\n",
      "X_pos = fdf[fdf.a14>0]\n",
      "X_pos.index = range(X_pos.shape[0])\n",
      "X_pos=X_pos[['Ask','AskD','Near','Far','Spread',\n",
      " 'D5', 'D555', 'D66', 'V1','V1n', 'V11', 'V11n',\n",
      " 'V8','V8n','V8nn', 'a1','a4','a5']]\n",
      "\n",
      "X_neg = fdf[fdf.a14<0]\n",
      "X_neg.index = range(X_neg.shape[0])\n",
      "X_neg=X_neg[['Bid','BidD','Near','Far','Spread',\n",
      " 'D4',  'D444', 'D66', 'V1','V1n', 'V11',  'V11n',\n",
      " 'V8','V8n','V8nn', 'a1','a4','a5']]\n",
      "\n",
      "y_pos = imbalanceMsg.OPC_P>imbalanceMsg.Ask_P\n",
      "y_pos = y_pos[fdf.a14>0]\n",
      "y_pos.index = range(y_pos.shape[0])\n",
      "\n",
      "y_neg = imbalanceMsg.OPC_P<imbalanceMsg.Bid_P\n",
      "y_neg = y_neg[fdf.a14<0]\n",
      "y_neg.index = range(y_neg.shape[0])\n",
      "\n",
      "#yR_pos = imbalanceMsg.OPC_P>imbalanceMsg.ImbRef\n",
      "#yR_pos = yR_pos[fdf.a14>0]\n",
      "#yR_pos.index = range(yR_pos.shape[0])\n",
      "\n",
      "#yR_neg = imbalanceMsg.OPC_P<imbalanceMsg.ImbRef\n",
      "#yR_neg = yR_neg[fdf.a14<0]\n",
      "#yR_neg.index = range(yR_neg.shape[0])\n",
      "\n",
      "#yCR = fdf['CMoveR']\n",
      "\n",
      "#ycmove = fdf['CMove']\n",
      "\n",
      "ypln_pos = imbalanceMsg.OPC_P/imbalanceMsg.Ask_P-1\n",
      "ypln_pos = ypln_pos[fdf.a14>0]\n",
      "ypln_pos.index = range(ypln_pos.shape[0])\n",
      "\n",
      "ypln_neg = 1-imbalanceMsg.OPC_P/imbalanceMsg.Bid_P\n",
      "ypln_neg = ypln_neg[fdf.a14<0]\n",
      "ypln_neg.index = range(ypln_neg.shape[0])\n",
      "\n",
      "dates = sorted(list(set(fdf.Date)))\n",
      "datesDF_pos = qimbs.dates_tmp_df(fdf[fdf.a14>0])\n",
      "datesDF_neg = qimbs.dates_tmp_df(fdf[fdf.a14<0])\n",
      "\n",
      "ERRORS = pd.DataFrame(columns=['Model','TrainError','TestError'])"
     ],
     "language": "python",
     "metadata": {},
     "outputs": [],
     "prompt_number": 35
    },
    {
     "cell_type": "code",
     "collapsed": false,
     "input": [
      "ggplot(fdf,aes(x='Move')) + geom_histogram(binwidth = 0.05) "
     ],
     "language": "python",
     "metadata": {},
     "outputs": [
      {
       "metadata": {},
       "output_type": "display_data",
       "png": "[encoded data removed]",
       "text": [
        "<matplotlib.figure.Figure at 0xf401090>"
       ]
      },
      {
       "metadata": {},
       "output_type": "pyout",
       "prompt_number": 36,
       "text": [
        "<ggplot: (21190745)>"
       ]
      }
     ],
     "prompt_number": 36
    },
    {
     "cell_type": "code",
     "collapsed": false,
     "input": [
      "from sklearn.ensemble import RandomForestClassifier as RF\n",
      "qimbs.OneModelResults(RF, X_pos,y_pos,ERRORS,dates,datesDF_pos)"
     ],
     "language": "python",
     "metadata": {},
     "outputs": [
      {
       "output_type": "stream",
       "stream": "stdout",
       "text": [
        "Precision - 0.840816326531, Recall - 0.8046875, F_Score - 0.822355289421\n"
       ]
      },
      {
       "metadata": {},
       "output_type": "display_data",
       "png": "[encoded data removed]",
       "text": [
        "<matplotlib.figure.Figure at 0x7969450>"
       ]
      },
      {
       "metadata": {},
       "output_type": "display_data",
       "png": "[encoded data removed]",
       "text": [
        "<matplotlib.figure.Figure at 0xe522f10>"
       ]
      },
      {
       "metadata": {},
       "output_type": "pyout",
       "prompt_number": 37,
       "text": [
        "<ggplot: (15015725)>"
       ]
      }
     ],
     "prompt_number": 37
    },
    {
     "cell_type": "code",
     "collapsed": false,
     "input": [
      "qimbs.OneModelResults(RF, X_neg,y_neg,ERRORS,dates,datesDF_neg)"
     ],
     "language": "python",
     "metadata": {},
     "outputs": [
      {
       "output_type": "stream",
       "stream": "stdout",
       "text": [
        "Precision - 0.883040935673, Recall - 0.94769874477, F_Score - 0.914228052472\n"
       ]
      },
      {
       "metadata": {},
       "output_type": "display_data",
       "png": "[encoded data removed]",
       "text": [
        "<matplotlib.figure.Figure at 0xe520e90>"
       ]
      },
      {
       "metadata": {},
       "output_type": "display_data",
       "png": "[encoded data removed]",
       "text": [
        "<matplotlib.figure.Figure at 0xf64e9d0>"
       ]
      },
      {
       "metadata": {},
       "output_type": "pyout",
       "prompt_number": 38,
       "text": [
        "<ggplot: (16139813)>"
       ]
      }
     ],
     "prompt_number": 38
    },
    {
     "cell_type": "code",
     "collapsed": false,
     "input": [
      "from sklearn.ensemble import GradientBoostingClassifier as GBC\n",
      "qimbs.OneModelResults(GBC, X_pos,y_pos,ERRORS,dates,datesDF_pos)"
     ],
     "language": "python",
     "metadata": {},
     "outputs": []
    },
    {
     "cell_type": "code",
     "collapsed": false,
     "input": [
      "qimbs.OneModelResults(GBC, X_neg,y_neg,ERRORS,dates,datesDF_neg)"
     ],
     "language": "python",
     "metadata": {},
     "outputs": []
    },
    {
     "cell_type": "code",
     "collapsed": false,
     "input": [
      "#Lets see features importance and try to reduce the number of feature for RF algo\n",
      "from sklearn.ensemble import RandomForestClassifier as RF\n",
      "clf = RF(min_samples_split = X_pos_.shape[0]*0.05, criterion = 'entropy')\n",
      "clf.fit(X_pos_,y_pos_)\n",
      "\n",
      "fi = pd.DataFrame()\n",
      "fi['Feature'] = list(X_pos_.columns)\n",
      "fi['Impotrance'] = clf.feature_importances_\n",
      "fi=fi.sort(columns=['Impotrance'],ascending=False)\n",
      "fi['Index'] = range(X_pos_.shape[1])\n",
      "\n",
      "ggplot(fi,aes('Index','Impotrance',label='Feature')) +\\\n",
      "geom_point() + geom_text(vjust=0.005)"
     ],
     "language": "python",
     "metadata": {},
     "outputs": []
    },
    {
     "cell_type": "code",
     "collapsed": false,
     "input": [
      "clf = RF(min_samples_split = X_neg_.shape[0]*0.05, criterion = 'entropy')\n",
      "clf.fit(X_neg_,y_neg_)\n",
      "\n",
      "fi = pd.DataFrame()\n",
      "fi['Feature'] = list(X_neg_.columns)\n",
      "fi['Impotrance'] = clf.feature_importances_\n",
      "fi=fi.sort(columns=['Impotrance'],ascending=False)\n",
      "fi['Index'] = range(X_neg_.shape[1])\n",
      "\n",
      "ggplot(fi,aes('Index','Impotrance',label='Feature')) +\\\n",
      "geom_point() + geom_text(vjust=0.005)"
     ],
     "language": "python",
     "metadata": {},
     "outputs": []
    },
    {
     "cell_type": "code",
     "collapsed": false,
     "input": [
      "print 'Main features are:'\n",
      "for f in list(fi['Feature'][:15]):\n",
      "    print '%s  %s' %(f,Features[f])"
     ],
     "language": "python",
     "metadata": {},
     "outputs": []
    },
    {
     "cell_type": "code",
     "collapsed": false,
     "input": [
      "#Get error for these features bags\n",
      "from sklearn.feature_selection import f_classif\n",
      "from sklearn.metrics import confusion_matrix\n",
      "\n",
      "error1 = []\n",
      "error2 = []\n",
      "error3 = []\n",
      "nfeatures = range(1, X.shape[1])\n",
      "labels = list(set(y))\n",
      "for nfeature in nfeatures:\n",
      "    print nfeature\n",
      "    X_r = X[fi['Feature'][:nfeature]]\n",
      "    \n",
      "    err1 = []\n",
      "    err2 = []\n",
      "    err3 = []\n",
      "    for i in range(2):  \n",
      "        r = range(len(dates))\n",
      "        np.random.shuffle(r)\n",
      "        test_days = r[:1] \n",
      "        train_days = r[1:] \n",
      "               \n",
      "        Xtrain = X_r.ix[datesDF.ix[train_days],:]\n",
      "        Xtest = X_r.ix[datesDF.ix[test_days],:]\n",
      "        ytrain = y.ix[datesDF.ix[train_days]]\n",
      "        ytest = y.ix[datesDF.ix[test_days]]\n",
      "        \n",
      "        reg1 = RF()\n",
      "        reg1.fit(Xtrain, ytrain)\n",
      "        test_pr1 = qimbs.Precision_Recall(confusion_matrix(ytest,reg1.predict(Xtest),labels).astype(float))\n",
      "        err1.append(1-test_pr1[2])  \n",
      "        \n",
      "        reg2 = LR(class_weight='auto')\n",
      "        reg2.fit(Xtrain, ytrain)\n",
      "        test_pr2 = qimbs.Precision_Recall(confusion_matrix(ytest,reg2.predict(Xtest),labels).astype(float))\n",
      "        err2.append(1-test_pr2[2]) \n",
      "        \n",
      "        reg3 = SVC(class_weight='auto')\n",
      "        reg3.fit(Xtrain, ytrain)\n",
      "        test_pr3 = qimbs.Precision_Recall(confusion_matrix(ytest,reg3.predict(Xtest),labels).astype(float))\n",
      "        err3.append(1-test_pr3[2])  \n",
      "        \n",
      "    error1.append(np.mean(err1))\n",
      "    error2.append(np.mean(err2))\n",
      "    error3.append(np.mean(err3))\n",
      "    "
     ],
     "language": "python",
     "metadata": {},
     "outputs": []
    },
    {
     "cell_type": "code",
     "collapsed": false,
     "input": [
      "p_df=pd.DataFrame()\n",
      "p_df['I']=range(1, X.shape[1])\n",
      "p_df['RF']=error1\n",
      "p_df['LR']=error2\n",
      "p_df['SVC']=error3\n",
      "p_df_m = pd.melt(p_df, id_vars=['I'])\n",
      "\n",
      "ggplot(p_df_m,aes(x='I', y='value', colour='variable')) + geom_line() + geom_point() +\\\n",
      "xlab('n important features selected')+ylab('Error')+ggtitle('Features importance')\n"
     ],
     "language": "python",
     "metadata": {},
     "outputs": [
      {
       "metadata": {},
       "output_type": "display_data",
       "png": "[encoded data removed]",
       "text": [
        "<matplotlib.figure.Figure at 0x1975edd0>"
       ]
      },
      {
       "metadata": {},
       "output_type": "pyout",
       "prompt_number": 897,
       "text": [
        "<ggplot: (26697289)>"
       ]
      }
     ],
     "prompt_number": 897
    },
    {
     "cell_type": "code",
     "collapsed": false,
     "input": [
      "#Lets run RF with les features\n",
      "qimbs.OneModelResults(RF, X[fi['Feature'][:15]],np.abs(y), ERRORS,dates,datesDF)"
     ],
     "language": "python",
     "metadata": {},
     "outputs": [
      {
       "output_type": "stream",
       "stream": "stdout",
       "text": [
        "Precision - 0.845626072041, Recall - 0.869488536155, F_Score - 0.857391304348\n"
       ]
      },
      {
       "metadata": {},
       "output_type": "display_data",
       "png": "[encoded data removed]",
       "text": [
        "<matplotlib.figure.Figure at 0x2a69a850>"
       ]
      },
      {
       "metadata": {},
       "output_type": "display_data",
       "png": "[encoded data removed]",
       "text": [
        "<matplotlib.figure.Figure at 0x3f645e50>"
       ]
      },
      {
       "metadata": {},
       "output_type": "pyout",
       "prompt_number": 85,
       "text": [
        "<ggplot: (66470801)>"
       ]
      }
     ],
     "prompt_number": 85
    },
    {
     "cell_type": "code",
     "collapsed": false,
     "input": [
      "#Apply Logistic Regression\n",
      "from sklearn.linear_model import LogisticRegression as LR\n",
      "print \"Logistic Regression:\"\n",
      "reload(qimbs)\n",
      "qimbs.OneModelResults(LR, X_pos,y_pos,ERRORS,dates,datesDF_pos)"
     ],
     "language": "python",
     "metadata": {},
     "outputs": [
      {
       "output_type": "stream",
       "stream": "stdout",
       "text": [
        "Logistic Regression:\n",
        "Precision - 0.675422138837, Recall - 0.849056603774, F_Score - 0.752351097179"
       ]
      },
      {
       "output_type": "stream",
       "stream": "stdout",
       "text": [
        "\n"
       ]
      },
      {
       "metadata": {},
       "output_type": "display_data",
       "png": "[encoded data removed]",
       "text": [
        "<matplotlib.figure.Figure at 0x7f5b94543590>"
       ]
      },
      {
       "metadata": {},
       "output_type": "display_data",
       "png": "[encoded data removed]",
       "text": [
        "<matplotlib.figure.Figure at 0x69d8b10>"
       ]
      },
      {
       "metadata": {},
       "output_type": "pyout",
       "prompt_number": 49,
       "text": [
        "<ggplot: (6936669)>"
       ]
      }
     ],
     "prompt_number": 49
    },
    {
     "cell_type": "code",
     "collapsed": false,
     "input": [
      "from sklearn.svm import SVC\n",
      "print \"SVC:\"\n",
      "qimbs.OneModelResults(SVC, X_pos, yR_pos,ERRORS,dates,datesDF_pos)"
     ],
     "language": "python",
     "metadata": {},
     "outputs": []
    },
    {
     "cell_type": "code",
     "collapsed": false,
     "input": [
      "ERRORS"
     ],
     "language": "python",
     "metadata": {},
     "outputs": []
    },
    {
     "cell_type": "code",
     "collapsed": false,
     "input": [
      "#Models comparison\n",
      "ERRORS=ERRORS.sort(['TrainError', 'TestError'])\n",
      "#ERRORS=ERRORS[:-1]\n",
      "ggplot(ERRORS, aes('TrainError', 'TestError')) + geom_point() + \\\n",
      "ggtitle('Model comparison') + xlab(\"TrainError\") +\\\n",
      "ylab(\"TestError\") +geom_text(aes(label='Model'),hjust=0, vjust=0)\\\n",
      "+ ylim(0,0.5)+ xlim(0,0.5) + geom_abline(intercept = 0.217, slope = 0\\\n",
      "                                         ,color='red')"
     ],
     "language": "python",
     "metadata": {},
     "outputs": []
    },
    {
     "cell_type": "code",
     "collapsed": false,
     "input": [
      "reload(qimbs)\n",
      "\n",
      "\n",
      "\n",
      "\n"
     ],
     "language": "python",
     "metadata": {},
     "outputs": [
      {
       "metadata": {},
       "output_type": "pyout",
       "prompt_number": 78,
       "text": [
        "<module 'qimbs' from 'qimbs.py'>"
       ]
      }
     ],
     "prompt_number": 78
    },
    {
     "cell_type": "code",
     "collapsed": false,
     "input": [
      "#Lets compare models in money\n",
      "reload(qimbs)\n",
      "#Benchmark\n",
      "Signals =  qimbs.get_signals1(imbalanceMsg,X,y,'B',dates,datesDF)\n",
      "result0 = qimbs.get_performance(Signals,df,dates,0)\n",
      "result0['I'] = result0.index\n",
      "ggplot(result0, aes('I','Pnl')) + geom_point() + ggtitle('Sum=%s' % result0.Pnl.sum()) + geom_line()"
     ],
     "language": "python",
     "metadata": {},
     "outputs": [
      {
       "output_type": "stream",
       "stream": "stderr",
       "text": [
        "/usr/local/lib/python2.7/dist-packages/pandas/core/generic.py:1858: SettingWithCopyWarning: A value is trying to be set on a copy of a slice from a DataFrame.\n",
        "Try using .loc[row_index,col_indexer] = value instead\n",
        "  self[name] = value\n",
        "/usr/local/lib/python2.7/dist-packages/pandas/core/series.py:637: SettingWithCopyWarning: A value is trying to be set on a copy of a slice from a DataFrame\n",
        "  self.where(~key, value, inplace=True)\n"
       ]
      },
      {
       "output_type": "stream",
       "stream": "stdout",
       "text": [
        "2014-05-01 8.82\n",
        "2014-05-02 10.74"
       ]
      },
      {
       "output_type": "stream",
       "stream": "stdout",
       "text": [
        "\n",
        "2014-05-05 8.71"
       ]
      },
      {
       "output_type": "stream",
       "stream": "stdout",
       "text": [
        "\n",
        "2014-05-06 7.59"
       ]
      },
      {
       "output_type": "stream",
       "stream": "stdout",
       "text": [
        "\n",
        "2014-05-07 48.1"
       ]
      },
      {
       "output_type": "stream",
       "stream": "stdout",
       "text": [
        "\n",
        "2014-05-08 17.25"
       ]
      },
      {
       "output_type": "stream",
       "stream": "stdout",
       "text": [
        "\n",
        "2014-05-09 8.63"
       ]
      },
      {
       "output_type": "stream",
       "stream": "stdout",
       "text": [
        "\n",
        "2014-05-12 7.75"
       ]
      },
      {
       "output_type": "stream",
       "stream": "stdout",
       "text": [
        "\n",
        "2014-05-13 9.43"
       ]
      },
      {
       "output_type": "stream",
       "stream": "stdout",
       "text": [
        "\n",
        "2014-05-14 8.97"
       ]
      },
      {
       "output_type": "stream",
       "stream": "stdout",
       "text": [
        "\n",
        "2014-05-15 8.87"
       ]
      },
      {
       "output_type": "stream",
       "stream": "stdout",
       "text": [
        "\n",
        "2014-05-16 4.74"
       ]
      },
      {
       "output_type": "stream",
       "stream": "stdout",
       "text": [
        "\n",
        "2014-05-19 6.44"
       ]
      },
      {
       "output_type": "stream",
       "stream": "stdout",
       "text": [
        "\n",
        "2014-05-20 12.52"
       ]
      },
      {
       "output_type": "stream",
       "stream": "stdout",
       "text": [
        "\n",
        "2014-05-21 5.26"
       ]
      },
      {
       "output_type": "stream",
       "stream": "stdout",
       "text": [
        "\n",
        "2014-05-22 7.53"
       ]
      },
      {
       "output_type": "stream",
       "stream": "stdout",
       "text": [
        "\n",
        "2014-05-23 7.51"
       ]
      },
      {
       "output_type": "stream",
       "stream": "stdout",
       "text": [
        "\n",
        "2014-05-27 13.49"
       ]
      },
      {
       "output_type": "stream",
       "stream": "stdout",
       "text": [
        "\n",
        "2014-05-28 10.43"
       ]
      },
      {
       "output_type": "stream",
       "stream": "stdout",
       "text": [
        "\n",
        "2014-05-29 1.33"
       ]
      },
      {
       "output_type": "stream",
       "stream": "stdout",
       "text": [
        "\n",
        "2014-05-30 2.02"
       ]
      },
      {
       "output_type": "stream",
       "stream": "stdout",
       "text": [
        "\n",
        "2014-06-02 11.34"
       ]
      },
      {
       "output_type": "stream",
       "stream": "stdout",
       "text": [
        "\n",
        "2014-06-03 5.59"
       ]
      },
      {
       "output_type": "stream",
       "stream": "stdout",
       "text": [
        "\n",
        "2014-06-04 5.78"
       ]
      },
      {
       "output_type": "stream",
       "stream": "stdout",
       "text": [
        "\n",
        "2014-06-05 8.19"
       ]
      },
      {
       "output_type": "stream",
       "stream": "stdout",
       "text": [
        "\n",
        "2014-06-06 13.99"
       ]
      },
      {
       "output_type": "stream",
       "stream": "stdout",
       "text": [
        "\n",
        "2014-06-09 6.88"
       ]
      },
      {
       "output_type": "stream",
       "stream": "stdout",
       "text": [
        "\n",
        "2014-06-10 5.39"
       ]
      },
      {
       "output_type": "stream",
       "stream": "stdout",
       "text": [
        "\n",
        "2014-06-11 5.71"
       ]
      },
      {
       "output_type": "stream",
       "stream": "stdout",
       "text": [
        "\n",
        "2014-06-16 8.06"
       ]
      },
      {
       "output_type": "stream",
       "stream": "stdout",
       "text": [
        "\n",
        "2014-06-17 6.79"
       ]
      },
      {
       "output_type": "stream",
       "stream": "stdout",
       "text": [
        "\n",
        "2014-06-18 10.34"
       ]
      },
      {
       "output_type": "stream",
       "stream": "stdout",
       "text": [
        "\n",
        "2014-06-19 8.08"
       ]
      },
      {
       "output_type": "stream",
       "stream": "stdout",
       "text": [
        "\n",
        "2014-06-20 4.93"
       ]
      },
      {
       "output_type": "stream",
       "stream": "stdout",
       "text": [
        "\n",
        "2014-06-23 12.01"
       ]
      },
      {
       "output_type": "stream",
       "stream": "stdout",
       "text": [
        "\n",
        "2014-06-24 5.71"
       ]
      },
      {
       "output_type": "stream",
       "stream": "stdout",
       "text": [
        "\n",
        "2014-06-25 7.67"
       ]
      },
      {
       "output_type": "stream",
       "stream": "stdout",
       "text": [
        "\n",
        "2014-06-26 11.54"
       ]
      },
      {
       "output_type": "stream",
       "stream": "stdout",
       "text": [
        "\n",
        "2014-06-27 8.54"
       ]
      },
      {
       "output_type": "stream",
       "stream": "stdout",
       "text": [
        "\n",
        "2014-06-30 10.58"
       ]
      },
      {
       "output_type": "stream",
       "stream": "stdout",
       "text": [
        "\n",
        "-38.4 373.25\n"
       ]
      },
      {
       "metadata": {},
       "output_type": "display_data",
       "png": "[encoded data removed]",
       "text": [
        "<matplotlib.figure.Figure at 0xf15e190>"
       ]
      },
      {
       "metadata": {},
       "output_type": "pyout",
       "prompt_number": 93,
       "text": [
        "<ggplot: (15818321)>"
       ]
      }
     ],
     "prompt_number": 93
    },
    {
     "cell_type": "code",
     "collapsed": false,
     "input": [
      "#RandomForest\n",
      "Signals =  qimbs.get_signals1(imbalanceMsg,X,y,RF,dates,datesDF)\n",
      "result2 = qimbs.get_performance(Signals,df,dates,0)\n",
      "result2['I'] = result2.index\n",
      "ggplot(result2, aes('I','Pnl')) + geom_point() + ggtitle('Sum=%s' % result2.Pnl.sum()) + geom_line()"
     ],
     "language": "python",
     "metadata": {},
     "outputs": [
      {
       "output_type": "stream",
       "stream": "stdout",
       "text": [
        "2014-05-01 9.5\n",
        "2014-05-02 14.57"
       ]
      },
      {
       "output_type": "stream",
       "stream": "stdout",
       "text": [
        "\n",
        "2014-05-05 10.54"
       ]
      },
      {
       "output_type": "stream",
       "stream": "stdout",
       "text": [
        "\n",
        "2014-05-06 9.18"
       ]
      },
      {
       "output_type": "stream",
       "stream": "stdout",
       "text": [
        "\n",
        "2014-05-07 54.16"
       ]
      },
      {
       "output_type": "stream",
       "stream": "stdout",
       "text": [
        "\n",
        "2014-05-08 21.79"
       ]
      },
      {
       "output_type": "stream",
       "stream": "stdout",
       "text": [
        "\n",
        "2014-05-09 9.19"
       ]
      },
      {
       "output_type": "stream",
       "stream": "stdout",
       "text": [
        "\n",
        "2014-05-12 8.66"
       ]
      },
      {
       "output_type": "stream",
       "stream": "stdout",
       "text": [
        "\n",
        "2014-05-13 9.75"
       ]
      },
      {
       "output_type": "stream",
       "stream": "stdout",
       "text": [
        "\n",
        "2014-05-14 8.9"
       ]
      },
      {
       "output_type": "stream",
       "stream": "stdout",
       "text": [
        "\n",
        "2014-05-15 10.35"
       ]
      },
      {
       "output_type": "stream",
       "stream": "stdout",
       "text": [
        "\n",
        "2014-05-16 4.94"
       ]
      },
      {
       "output_type": "stream",
       "stream": "stdout",
       "text": [
        "\n",
        "2014-05-19 6.9"
       ]
      },
      {
       "output_type": "stream",
       "stream": "stdout",
       "text": [
        "\n",
        "2014-05-20 11.92"
       ]
      },
      {
       "output_type": "stream",
       "stream": "stdout",
       "text": [
        "\n",
        "2014-05-21 6.07"
       ]
      },
      {
       "output_type": "stream",
       "stream": "stdout",
       "text": [
        "\n",
        "2014-05-22 8.4"
       ]
      },
      {
       "output_type": "stream",
       "stream": "stdout",
       "text": [
        "\n",
        "2014-05-23 7.64"
       ]
      },
      {
       "output_type": "stream",
       "stream": "stdout",
       "text": [
        "\n",
        "2014-05-27 14.18"
       ]
      },
      {
       "output_type": "stream",
       "stream": "stdout",
       "text": [
        "\n",
        "2014-05-28 10.37"
       ]
      },
      {
       "output_type": "stream",
       "stream": "stdout",
       "text": [
        "\n",
        "2014-05-29 1.22"
       ]
      },
      {
       "output_type": "stream",
       "stream": "stdout",
       "text": [
        "\n",
        "2014-05-30 3.73"
       ]
      },
      {
       "output_type": "stream",
       "stream": "stdout",
       "text": [
        "\n",
        "2014-06-02 12.51"
       ]
      },
      {
       "output_type": "stream",
       "stream": "stdout",
       "text": [
        "\n",
        "2014-06-03 7.1"
       ]
      },
      {
       "output_type": "stream",
       "stream": "stdout",
       "text": [
        "\n",
        "2014-06-04 5.88"
       ]
      },
      {
       "output_type": "stream",
       "stream": "stdout",
       "text": [
        "\n",
        "2014-06-05 10.93"
       ]
      },
      {
       "output_type": "stream",
       "stream": "stdout",
       "text": [
        "\n",
        "2014-06-06 15.23"
       ]
      },
      {
       "output_type": "stream",
       "stream": "stdout",
       "text": [
        "\n",
        "2014-06-09 5.83"
       ]
      },
      {
       "output_type": "stream",
       "stream": "stdout",
       "text": [
        "\n",
        "2014-06-10 7.81"
       ]
      },
      {
       "output_type": "stream",
       "stream": "stdout",
       "text": [
        "\n",
        "2014-06-11 6.44"
       ]
      },
      {
       "output_type": "stream",
       "stream": "stdout",
       "text": [
        "\n",
        "2014-06-16 8.67"
       ]
      },
      {
       "output_type": "stream",
       "stream": "stdout",
       "text": [
        "\n",
        "2014-06-17 7.53"
       ]
      },
      {
       "output_type": "stream",
       "stream": "stdout",
       "text": [
        "\n",
        "2014-06-18 10.37"
       ]
      },
      {
       "output_type": "stream",
       "stream": "stdout",
       "text": [
        "\n",
        "2014-06-19 8.07"
       ]
      },
      {
       "output_type": "stream",
       "stream": "stdout",
       "text": [
        "\n",
        "2014-06-20 5.51"
       ]
      },
      {
       "output_type": "stream",
       "stream": "stdout",
       "text": [
        "\n",
        "2014-06-23 12.46"
       ]
      },
      {
       "output_type": "stream",
       "stream": "stdout",
       "text": [
        "\n",
        "2014-06-24 4.76"
       ]
      },
      {
       "output_type": "stream",
       "stream": "stdout",
       "text": [
        "\n",
        "2014-06-25 8.22"
       ]
      },
      {
       "output_type": "stream",
       "stream": "stdout",
       "text": [
        "\n",
        "2014-06-26 11.69"
       ]
      },
      {
       "output_type": "stream",
       "stream": "stdout",
       "text": [
        "\n",
        "2014-06-27 11.13"
       ]
      },
      {
       "output_type": "stream",
       "stream": "stdout",
       "text": [
        "\n",
        "2014-06-30 9.5"
       ]
      },
      {
       "output_type": "stream",
       "stream": "stdout",
       "text": [
        "\n",
        "-33.44 411.6\n"
       ]
      },
      {
       "metadata": {},
       "output_type": "display_data",
       "png": "[encoded data removed]",
       "text": [
        "<matplotlib.figure.Figure at 0x26eb7850>"
       ]
      },
      {
       "metadata": {},
       "output_type": "pyout",
       "prompt_number": 109,
       "text": [
        "<ggplot: (14199881)>"
       ]
      }
     ],
     "prompt_number": 109
    },
    {
     "cell_type": "code",
     "collapsed": false,
     "input": [
      "#RandomForest\n",
      "Signals =  qimbs.get_signals1(imbalanceMsg,X,np.abs(y),RF,dates,datesDF)\n",
      "result2 = qimbs.get_performance(Signals,df,dates,0)\n",
      "result2['I'] = result2.index\n",
      "ggplot(result2, aes('I','Pnl')) + geom_point() + ggtitle('Sum=%s' % result2.Pnl.sum()) + geom_line()"
     ],
     "language": "python",
     "metadata": {},
     "outputs": [
      {
       "output_type": "stream",
       "stream": "stdout",
       "text": [
        "2014-05-01 9.42\n",
        "2014-05-02 14.48"
       ]
      },
      {
       "output_type": "stream",
       "stream": "stdout",
       "text": [
        "\n",
        "2014-05-05 10.82"
       ]
      },
      {
       "output_type": "stream",
       "stream": "stdout",
       "text": [
        "\n",
        "2014-05-06 8.56"
       ]
      },
      {
       "output_type": "stream",
       "stream": "stdout",
       "text": [
        "\n",
        "2014-05-07 53.02"
       ]
      },
      {
       "output_type": "stream",
       "stream": "stdout",
       "text": [
        "\n",
        "2014-05-08 20.93"
       ]
      },
      {
       "output_type": "stream",
       "stream": "stdout",
       "text": [
        "\n",
        "2014-05-09 9.84"
       ]
      },
      {
       "output_type": "stream",
       "stream": "stdout",
       "text": [
        "\n",
        "2014-05-12 8.62"
       ]
      },
      {
       "output_type": "stream",
       "stream": "stdout",
       "text": [
        "\n",
        "2014-05-13 9.55"
       ]
      },
      {
       "output_type": "stream",
       "stream": "stdout",
       "text": [
        "\n",
        "2014-05-14 7.01"
       ]
      },
      {
       "output_type": "stream",
       "stream": "stdout",
       "text": [
        "\n",
        "2014-05-15 10.85"
       ]
      },
      {
       "output_type": "stream",
       "stream": "stdout",
       "text": [
        "\n",
        "2014-05-16 4.88"
       ]
      },
      {
       "output_type": "stream",
       "stream": "stdout",
       "text": [
        "\n",
        "2014-05-19 6.86"
       ]
      },
      {
       "output_type": "stream",
       "stream": "stdout",
       "text": [
        "\n",
        "2014-05-20 12.86"
       ]
      },
      {
       "output_type": "stream",
       "stream": "stdout",
       "text": [
        "\n",
        "2014-05-21 6.03"
       ]
      },
      {
       "output_type": "stream",
       "stream": "stdout",
       "text": [
        "\n",
        "2014-05-22 8.08"
       ]
      },
      {
       "output_type": "stream",
       "stream": "stdout",
       "text": [
        "\n",
        "2014-05-23 7.58"
       ]
      },
      {
       "output_type": "stream",
       "stream": "stdout",
       "text": [
        "\n",
        "2014-05-27 14.34"
       ]
      },
      {
       "output_type": "stream",
       "stream": "stdout",
       "text": [
        "\n",
        "2014-05-28 10.86"
       ]
      },
      {
       "output_type": "stream",
       "stream": "stdout",
       "text": [
        "\n",
        "2014-05-29 1.93"
       ]
      },
      {
       "output_type": "stream",
       "stream": "stdout",
       "text": [
        "\n",
        "2014-05-30 7.65"
       ]
      },
      {
       "output_type": "stream",
       "stream": "stdout",
       "text": [
        "\n",
        "2014-06-02 11.73"
       ]
      },
      {
       "output_type": "stream",
       "stream": "stdout",
       "text": [
        "\n",
        "2014-06-03 7.09"
       ]
      },
      {
       "output_type": "stream",
       "stream": "stdout",
       "text": [
        "\n",
        "2014-06-04 6.54"
       ]
      },
      {
       "output_type": "stream",
       "stream": "stdout",
       "text": [
        "\n",
        "2014-06-05 10.21"
       ]
      },
      {
       "output_type": "stream",
       "stream": "stdout",
       "text": [
        "\n",
        "2014-06-06 14.96"
       ]
      },
      {
       "output_type": "stream",
       "stream": "stdout",
       "text": [
        "\n",
        "2014-06-09 6.31"
       ]
      },
      {
       "output_type": "stream",
       "stream": "stdout",
       "text": [
        "\n",
        "2014-06-10 7.18"
       ]
      },
      {
       "output_type": "stream",
       "stream": "stdout",
       "text": [
        "\n",
        "2014-06-11 6.38"
       ]
      },
      {
       "output_type": "stream",
       "stream": "stdout",
       "text": [
        "\n",
        "2014-06-16 8.82"
       ]
      },
      {
       "output_type": "stream",
       "stream": "stdout",
       "text": [
        "\n",
        "2014-06-17 7.4"
       ]
      },
      {
       "output_type": "stream",
       "stream": "stdout",
       "text": [
        "\n",
        "2014-06-18 10.0"
       ]
      },
      {
       "output_type": "stream",
       "stream": "stdout",
       "text": [
        "\n",
        "2014-06-19 8.31"
       ]
      },
      {
       "output_type": "stream",
       "stream": "stdout",
       "text": [
        "\n",
        "2014-06-20 5.31"
       ]
      },
      {
       "output_type": "stream",
       "stream": "stdout",
       "text": [
        "\n",
        "2014-06-23 15.16"
       ]
      },
      {
       "output_type": "stream",
       "stream": "stdout",
       "text": [
        "\n",
        "2014-06-24 5.26"
       ]
      },
      {
       "output_type": "stream",
       "stream": "stdout",
       "text": [
        "\n",
        "2014-06-25 8.22"
       ]
      },
      {
       "output_type": "stream",
       "stream": "stdout",
       "text": [
        "\n",
        "2014-06-26 11.51"
       ]
      },
      {
       "output_type": "stream",
       "stream": "stdout",
       "text": [
        "\n",
        "2014-06-27 10.93"
       ]
      },
      {
       "output_type": "stream",
       "stream": "stdout",
       "text": [
        "\n",
        "2014-06-30 9.85"
       ]
      },
      {
       "output_type": "stream",
       "stream": "stdout",
       "text": [
        "\n",
        "-35.85 415.34\n"
       ]
      },
      {
       "metadata": {},
       "output_type": "display_data",
       "png": "[encoded data removed]",
       "text": [
        "<matplotlib.figure.Figure at 0xddb2350>"
       ]
      },
      {
       "metadata": {},
       "output_type": "pyout",
       "prompt_number": 110,
       "text": [
        "<ggplot: (45693429)>"
       ]
      }
     ],
     "prompt_number": 110
    },
    {
     "cell_type": "code",
     "collapsed": false,
     "input": [
      "reload(qimbs)"
     ],
     "language": "python",
     "metadata": {},
     "outputs": [
      {
       "metadata": {},
       "output_type": "pyout",
       "prompt_number": 386,
       "text": [
        "<module 'qimbs' from 'qimbs.py'>"
       ]
      }
     ],
     "prompt_number": 386
    },
    {
     "cell_type": "code",
     "collapsed": false,
     "input": [
      "#RandomForest CMove\n",
      "Signals =  qimbs.get_signals_proba(imbalanceMsg,X,y,RF,dates,datesDF)\n",
      "result2 = qimbs.get_performance(Signals,df,dates,0)\n",
      "result2['I'] = result2.index\n",
      "ggplot(result2, aes('I','Pnl')) + geom_point() + ggtitle('Sum=%s' % result2.Pnl.sum()) + geom_line()"
     ],
     "language": "python",
     "metadata": {},
     "outputs": [
      {
       "output_type": "stream",
       "stream": "stdout",
       "text": [
        "2014-05-01 8.17\n",
        "2014-05-02 13.18"
       ]
      },
      {
       "output_type": "stream",
       "stream": "stdout",
       "text": [
        "\n",
        "2014-05-05 9.4"
       ]
      },
      {
       "output_type": "stream",
       "stream": "stdout",
       "text": [
        "\n",
        "2014-05-06 7.27"
       ]
      },
      {
       "output_type": "stream",
       "stream": "stdout",
       "text": [
        "\n",
        "2014-05-07 51.24"
       ]
      },
      {
       "output_type": "stream",
       "stream": "stdout",
       "text": [
        "\n",
        "2014-05-08 16.84"
       ]
      },
      {
       "output_type": "stream",
       "stream": "stdout",
       "text": [
        "\n",
        "2014-05-09 9.13"
       ]
      },
      {
       "output_type": "stream",
       "stream": "stdout",
       "text": [
        "\n",
        "2014-05-12 8.44"
       ]
      },
      {
       "output_type": "stream",
       "stream": "stdout",
       "text": [
        "\n",
        "2014-05-13 9.17"
       ]
      },
      {
       "output_type": "stream",
       "stream": "stdout",
       "text": [
        "\n",
        "2014-05-14 6.63"
       ]
      },
      {
       "output_type": "stream",
       "stream": "stdout",
       "text": [
        "\n",
        "2014-05-15 10.26"
       ]
      },
      {
       "output_type": "stream",
       "stream": "stdout",
       "text": [
        "\n",
        "2014-05-16 4.9"
       ]
      },
      {
       "output_type": "stream",
       "stream": "stdout",
       "text": [
        "\n",
        "2014-05-19 6.69"
       ]
      },
      {
       "output_type": "stream",
       "stream": "stdout",
       "text": [
        "\n",
        "2014-05-20 13.21"
       ]
      },
      {
       "output_type": "stream",
       "stream": "stdout",
       "text": [
        "\n",
        "2014-05-21 5.85"
       ]
      },
      {
       "output_type": "stream",
       "stream": "stdout",
       "text": [
        "\n",
        "2014-05-22 7.88"
       ]
      },
      {
       "output_type": "stream",
       "stream": "stdout",
       "text": [
        "\n",
        "2014-05-23 7.31"
       ]
      },
      {
       "output_type": "stream",
       "stream": "stdout",
       "text": [
        "\n",
        "2014-05-27 14.38"
       ]
      },
      {
       "output_type": "stream",
       "stream": "stdout",
       "text": [
        "\n",
        "2014-05-28 10.15"
       ]
      },
      {
       "output_type": "stream",
       "stream": "stdout",
       "text": [
        "\n",
        "2014-05-29 1.23"
       ]
      },
      {
       "output_type": "stream",
       "stream": "stdout",
       "text": [
        "\n",
        "2014-05-30 2.88"
       ]
      },
      {
       "output_type": "stream",
       "stream": "stdout",
       "text": [
        "\n",
        "2014-06-02 13.2"
       ]
      },
      {
       "output_type": "stream",
       "stream": "stdout",
       "text": [
        "\n",
        "2014-06-03 6.3"
       ]
      },
      {
       "output_type": "stream",
       "stream": "stdout",
       "text": [
        "\n",
        "2014-06-04 5.83"
       ]
      },
      {
       "output_type": "stream",
       "stream": "stdout",
       "text": [
        "\n",
        "2014-06-05 9.76"
       ]
      },
      {
       "output_type": "stream",
       "stream": "stdout",
       "text": [
        "\n",
        "2014-06-06 15.33"
       ]
      },
      {
       "output_type": "stream",
       "stream": "stdout",
       "text": [
        "\n",
        "2014-06-09 6.04"
       ]
      },
      {
       "output_type": "stream",
       "stream": "stdout",
       "text": [
        "\n",
        "2014-06-10 6.09"
       ]
      },
      {
       "output_type": "stream",
       "stream": "stdout",
       "text": [
        "\n",
        "2014-06-11 5.8"
       ]
      },
      {
       "output_type": "stream",
       "stream": "stdout",
       "text": [
        "\n",
        "2014-06-16 9.46"
       ]
      },
      {
       "output_type": "stream",
       "stream": "stdout",
       "text": [
        "\n",
        "2014-06-17 7.59"
       ]
      },
      {
       "output_type": "stream",
       "stream": "stdout",
       "text": [
        "\n",
        "2014-06-18 10.24"
       ]
      },
      {
       "output_type": "stream",
       "stream": "stdout",
       "text": [
        "\n",
        "2014-06-19 7.88"
       ]
      },
      {
       "output_type": "stream",
       "stream": "stdout",
       "text": [
        "\n",
        "2014-06-20 5.33"
       ]
      },
      {
       "output_type": "stream",
       "stream": "stdout",
       "text": [
        "\n",
        "2014-06-23 13.03"
       ]
      },
      {
       "output_type": "stream",
       "stream": "stdout",
       "text": [
        "\n",
        "2014-06-24 4.44"
       ]
      },
      {
       "output_type": "stream",
       "stream": "stdout",
       "text": [
        "\n",
        "2014-06-25 8.33"
       ]
      },
      {
       "output_type": "stream",
       "stream": "stdout",
       "text": [
        "\n",
        "2014-06-26 10.75"
       ]
      },
      {
       "output_type": "stream",
       "stream": "stdout",
       "text": [
        "\n",
        "2014-06-27 9.79"
       ]
      },
      {
       "output_type": "stream",
       "stream": "stdout",
       "text": [
        "\n",
        "2014-06-30 9.02"
       ]
      },
      {
       "output_type": "stream",
       "stream": "stdout",
       "text": [
        "\n",
        "-29.06 388.42\n"
       ]
      },
      {
       "metadata": {},
       "output_type": "display_data",
       "png": "[encoded data removed]",
       "text": [
        "<matplotlib.figure.Figure at 0x17a4ad50>"
       ]
      },
      {
       "metadata": {},
       "output_type": "pyout",
       "prompt_number": 128,
       "text": [
        "<ggplot: (66158465)>"
       ]
      }
     ],
     "prompt_number": 128
    },
    {
     "cell_type": "code",
     "collapsed": false,
     "input": [
      "#LR\n",
      "from sklearn.linear_model import LogisticRegression as LR\n",
      "Signals =  qimbs.get_signals1(imbalanceMsg,X,y,LR,dates,datesDF)\n",
      "result1 = qimbs.get_performance(Signals,df,dates,0)\n",
      "result1['I'] = result1.index\n",
      "ggplot(result1, aes('I','Pnl')) + geom_point() + ggtitle('Sum=%s' % result1.Pnl.sum()) + geom_line()"
     ],
     "language": "python",
     "metadata": {},
     "outputs": [
      {
       "output_type": "stream",
       "stream": "stdout",
       "text": [
        "2014-05-01 10.56\n",
        "2014-05-02 14.02"
       ]
      },
      {
       "output_type": "stream",
       "stream": "stdout",
       "text": [
        "\n",
        "2014-05-05 10.99"
       ]
      },
      {
       "output_type": "stream",
       "stream": "stdout",
       "text": [
        "\n",
        "2014-05-06 9.59"
       ]
      },
      {
       "output_type": "stream",
       "stream": "stdout",
       "text": [
        "\n",
        "2014-05-07 55.26"
       ]
      },
      {
       "output_type": "stream",
       "stream": "stdout",
       "text": [
        "\n",
        "2014-05-08 21.44"
       ]
      },
      {
       "output_type": "stream",
       "stream": "stdout",
       "text": [
        "\n",
        "2014-05-09 8.43"
       ]
      },
      {
       "output_type": "stream",
       "stream": "stdout",
       "text": [
        "\n",
        "2014-05-12 7.52"
       ]
      },
      {
       "output_type": "stream",
       "stream": "stdout",
       "text": [
        "\n",
        "2014-05-13 9.11"
       ]
      },
      {
       "output_type": "stream",
       "stream": "stdout",
       "text": [
        "\n",
        "2014-05-14 8.62"
       ]
      },
      {
       "output_type": "stream",
       "stream": "stdout",
       "text": [
        "\n",
        "2014-05-15 8.28"
       ]
      },
      {
       "output_type": "stream",
       "stream": "stdout",
       "text": [
        "\n",
        "2014-05-16 4.93"
       ]
      },
      {
       "output_type": "stream",
       "stream": "stdout",
       "text": [
        "\n",
        "2014-05-19 6.13"
       ]
      },
      {
       "output_type": "stream",
       "stream": "stdout",
       "text": [
        "\n",
        "2014-05-20 11.26"
       ]
      },
      {
       "output_type": "stream",
       "stream": "stdout",
       "text": [
        "\n",
        "2014-05-21 5.75"
       ]
      },
      {
       "output_type": "stream",
       "stream": "stdout",
       "text": [
        "\n",
        "2014-05-22 7.9"
       ]
      },
      {
       "output_type": "stream",
       "stream": "stdout",
       "text": [
        "\n",
        "2014-05-23 7.36"
       ]
      },
      {
       "output_type": "stream",
       "stream": "stdout",
       "text": [
        "\n",
        "2014-05-27 13.11"
       ]
      },
      {
       "output_type": "stream",
       "stream": "stdout",
       "text": [
        "\n",
        "2014-05-28 10.3"
       ]
      },
      {
       "output_type": "stream",
       "stream": "stdout",
       "text": [
        "\n",
        "2014-05-29 6.44"
       ]
      },
      {
       "output_type": "stream",
       "stream": "stdout",
       "text": [
        "\n",
        "2014-05-30 5.83"
       ]
      },
      {
       "output_type": "stream",
       "stream": "stdout",
       "text": [
        "\n",
        "2014-06-02 12.83"
       ]
      },
      {
       "output_type": "stream",
       "stream": "stdout",
       "text": [
        "\n",
        "2014-06-03 4.16"
       ]
      },
      {
       "output_type": "stream",
       "stream": "stdout",
       "text": [
        "\n",
        "2014-06-04 6.26"
       ]
      },
      {
       "output_type": "stream",
       "stream": "stdout",
       "text": [
        "\n",
        "2014-06-05 8.95"
       ]
      },
      {
       "output_type": "stream",
       "stream": "stdout",
       "text": [
        "\n",
        "2014-06-06 15.07"
       ]
      },
      {
       "output_type": "stream",
       "stream": "stdout",
       "text": [
        "\n",
        "2014-06-09 5.94"
       ]
      },
      {
       "output_type": "stream",
       "stream": "stdout",
       "text": [
        "\n",
        "2014-06-10 7.37"
       ]
      },
      {
       "output_type": "stream",
       "stream": "stdout",
       "text": [
        "\n",
        "2014-06-11 5.17"
       ]
      },
      {
       "output_type": "stream",
       "stream": "stdout",
       "text": [
        "\n",
        "2014-06-16 10.05"
       ]
      },
      {
       "output_type": "stream",
       "stream": "stdout",
       "text": [
        "\n",
        "2014-06-17 7.25"
       ]
      },
      {
       "output_type": "stream",
       "stream": "stdout",
       "text": [
        "\n",
        "2014-06-18 10.08"
       ]
      },
      {
       "output_type": "stream",
       "stream": "stdout",
       "text": [
        "\n",
        "2014-06-19 8.26"
       ]
      },
      {
       "output_type": "stream",
       "stream": "stdout",
       "text": [
        "\n",
        "2014-06-20 4.55"
       ]
      },
      {
       "output_type": "stream",
       "stream": "stdout",
       "text": [
        "\n",
        "2014-06-23 15.54"
       ]
      },
      {
       "output_type": "stream",
       "stream": "stdout",
       "text": [
        "\n",
        "2014-06-24 5.02"
       ]
      },
      {
       "output_type": "stream",
       "stream": "stdout",
       "text": [
        "\n",
        "2014-06-25 8.15"
       ]
      },
      {
       "output_type": "stream",
       "stream": "stdout",
       "text": [
        "\n",
        "2014-06-26 11.16"
       ]
      },
      {
       "output_type": "stream",
       "stream": "stdout",
       "text": [
        "\n",
        "2014-06-27 11.07"
       ]
      },
      {
       "output_type": "stream",
       "stream": "stdout",
       "text": [
        "\n",
        "2014-06-30 9.87"
       ]
      },
      {
       "output_type": "stream",
       "stream": "stdout",
       "text": [
        "\n",
        "409.58\n"
       ]
      },
      {
       "metadata": {},
       "output_type": "display_data",
       "png": "[encoded data removed]",
       "text": [
        "<matplotlib.figure.Figure at 0xd978090>"
       ]
      },
      {
       "metadata": {},
       "output_type": "pyout",
       "prompt_number": 75,
       "text": [
        "<ggplot: (14248737)>"
       ]
      }
     ],
     "prompt_number": 75
    },
    {
     "cell_type": "code",
     "collapsed": false,
     "input": [
      "#SVC\n",
      "from sklearn.svm import SVC\n",
      "Signals =  qimbs.get_signals1(imbalanceMsg, X[fi['Feature'][:12]],y,SVC,dates,datesDF)\n",
      "result3 = qimbs.get_performance(Signals,df,dates,0)\n",
      "result3['I'] = result3.index\n",
      "ggplot(result1, aes('I','Pnl')) + geom_point() + ggtitle('Sum=%s' % result3.Pnl.sum()) + geom_line()"
     ],
     "language": "python",
     "metadata": {},
     "outputs": []
    },
    {
     "cell_type": "code",
     "collapsed": false,
     "input": [
      "from IPython.core.display import Image \n",
      "Image(filename='/home/user/PyProjects/Results/1.png') "
     ],
     "language": "python",
     "metadata": {},
     "outputs": [
      {
       "metadata": {},
       "output_type": "pyout",
       "png": "[encoded data removed]",
       "prompt_number": 922,
       "text": [
        "<IPython.core.display.Image at 0x12c21b90>"
       ]
      }
     ],
     "prompt_number": 922
    },
    {
     "cell_type": "code",
     "collapsed": false,
     "input": [
      "#RandomForest\n",
      "Signals =  qimbs.get_signals_clf(imbalanceMsg,X_neg,y_neg,clf,dates,datesDF_neg)\n",
      "result2 = qimbs.get_performance(Signals,df,dates,0)\n",
      "result2['I'] = result2.index\n",
      "ggplot(result2, aes('I','Pnl')) + geom_point() + ggtitle('Sum=%s' % result2.Pnl.sum()) + geom_line()"
     ],
     "language": "python",
     "metadata": {},
     "outputs": []
    },
    {
     "cell_type": "code",
     "collapsed": false,
     "input": [
      "test_size = 2\n",
      "r = range(len(dates))\n",
      "np.random.shuffle(r)\n",
      "test_days = r[:test_size] \n",
      "train_days = r[test_size:] \n",
      "\n",
      "Xtrain = X_neg.ix[datesDF_neg.ix[train_days],:]\n",
      "Xtest = X_neg.ix[datesDF_neg.ix[test_days],:]\n",
      "ytrain = ypln_neg.ix[datesDF_neg.ix[train_days]]\n",
      "ytest = ypln_neg.ix[datesDF_neg.ix[test_days]]\n",
      "\n",
      "from sklearn.ensemble import GradientBoostingRegressor\n",
      "from sklearn.ensemble import RandomForestRegressor as RFR\n",
      "\n",
      "f = ytrain<0\n",
      "clf = GradientBoostingRegressor(loss='quantile', alpha=0.9, \\\n",
      "                                min_samples_split = ytrain[f].shape[0]*0.05)\n",
      "clf.fit(Xtrain[f], ytrain[f])\n",
      "y_lower = clf.predict(Xtest)\n",
      "clf.set_params(loss='lad')\n",
      "clf.fit(Xtrain[f], ytrain[f])\n",
      "y_pred = clf.predict(Xtest)\n",
      "print clf.score(Xtest, ytest)\n",
      "\n",
      "clf = RFR(min_samples_split = ytrain[f].shape[0]*0.05)\n",
      "clf.fit(Xtrain[f], ytrain[f])\n",
      "y_predR = clf.predict(Xtest)\n",
      "print clf.score(Xtest, ytest)\n",
      "\n",
      "rdf=pd.DataFrame()\n",
      "rdf['y'] = ytest;\n",
      "rdf['yp'] = y_pred;\n",
      "rdf['yl'] = y_lower;\n",
      "rdf['yr'] = y_predR;\n",
      "\n",
      "ggplot(rdf[ytest<0],aes('yp','y')) + geom_point(size=2)+\\\n",
      "stat_function(fun = lambda x: x, color='red') +\\\n",
      "geom_point(rdf[rdf.y<0],aes('yr','y'),size=2,color='green')\n",
      "#geom_point(rdf[rdf.y<0],aes('y','yl'),size=2,color='red')# +\\\n"
     ],
     "language": "python",
     "metadata": {},
     "outputs": []
    },
    {
     "cell_type": "code",
     "collapsed": false,
     "input": [
      "tmp_df = pd.DataFrame()\n",
      "tmp_df['yp'] = ypln_pos_\n",
      "tmp_df['yn'] = ypln_neg_\n",
      "ggplot(tmp_df[(tmp_df.yp>=0) & (tmp_df.yp<1000)],aes(x='yp')) + geom_histogram(binwidth = 0.01,alpha=0.5, color='red') +\\\n",
      "geom_histogram(tmp_df[(tmp_df.yn>=0) & (tmp_df.yn<1000)],aes(x='yn'),binwidth = 0.01,alpha=0.5,color='green')"
     ],
     "language": "python",
     "metadata": {},
     "outputs": [
      {
       "metadata": {},
       "output_type": "display_data",
       "png": "[encoded data removed]",
       "text": [
        "<matplotlib.figure.Figure at 0x120d4c90>"
       ]
      },
      {
       "metadata": {},
       "output_type": "pyout",
       "prompt_number": 38,
       "text": [
        "<ggplot: (18928713)>"
       ]
      }
     ],
     "prompt_number": 38
    },
    {
     "cell_type": "code",
     "collapsed": false,
     "input": [
      "X_pos_.index = range(X_pos_.shape[0])\n",
      "y_pos_.index = range(y_pos_.shape[0])\n",
      "X_neg_.index = range(X_neg_.shape[0])\n",
      "y_neg_.index = range(y_neg_.shape[0])\n",
      "ypln_neg_.index = range(ypln_neg_.shape[0])\n",
      "ypln_pos_.index = range(ypln_pos_.shape[0])\n",
      "clf = RF(min_samples_split = X_pos_.shape[0]*0.05, criterion = 'entropy')\n",
      "clf.fit(X_pos_,y_pos_)\n",
      "qimbs.Forest2Txt(clf, X_pos_.ix[0:100,:],'/home/user1/Desktop/Share2Windows/Pos')\n",
      "clf = RF(min_samples_split = X_neg_.shape[0]*0.05, criterion = 'entropy')\n",
      "clf.fit(X_neg_,y_neg_)\n",
      "qimbs.Forest2Txt(clf, X_neg_.ix[0:100,:],'/home/user1/Desktop/Share2Windows/Neg')"
     ],
     "language": "python",
     "metadata": {},
     "outputs": [],
     "prompt_number": 84
    },
    {
     "cell_type": "code",
     "collapsed": false,
     "input": [
      "from sklearn.ensemble import RandomForestRegressor as RFR\n",
      "Xpp = X_pos_.copy()\n",
      "Xpp = Xpp[ypln_pos_>0]\n",
      "Xpp.index = range(Xpp.shape[0])\n",
      "\n",
      "clf = RFR(min_samples_split = ypln_pos_[ypln_pos_>0].shape[0]*0.05)\n",
      "clf.fit(Xpp, ypln_pos_[ypln_pos_>0])\n",
      "qimbs.Forest2Txt(clf, Xpp.ix[0:100,:],'/home/user1/Desktop/Share2Windows/PP')"
     ],
     "language": "python",
     "metadata": {},
     "outputs": [],
     "prompt_number": 90
    },
    {
     "cell_type": "code",
     "collapsed": false,
     "input": [
      "Xpn = X_pos_.copy()\n",
      "Xpn = Xpn[ypln_pos_<0]\n",
      "Xpn.index = range(Xpn.shape[0])\n",
      "\n",
      "clf = RFR(min_samples_split = ypln_pos_[ypln_pos_<0].shape[0]*0.05)\n",
      "clf.fit(Xpn, ypln_pos_[ypln_pos_<0])\n",
      "qimbs.Forest2Txt(clf, Xpn.ix[0:100,:],'/home/user1/Desktop/Share2Windows/PN')"
     ],
     "language": "python",
     "metadata": {},
     "outputs": [],
     "prompt_number": 91
    },
    {
     "cell_type": "code",
     "collapsed": false,
     "input": [
      "Xnp = X_neg_.copy()\n",
      "Xnp = Xnp[ypln_neg_>0]\n",
      "Xnp.index = range(Xnp.shape[0])\n",
      "\n",
      "clf = RFR(min_samples_split = ypln_neg_[ypln_neg_>0].shape[0]*0.05)\n",
      "clf.fit(Xnp, ypln_neg_[ypln_neg_>0])\n",
      "qimbs.Forest2Txt(clf, Xnp.ix[0:100,:],'/home/user1/Desktop/Share2Windows/NP')"
     ],
     "language": "python",
     "metadata": {},
     "outputs": [],
     "prompt_number": 92
    },
    {
     "cell_type": "code",
     "collapsed": false,
     "input": [
      "Xnn = X_neg_.copy()\n",
      "Xnn = Xnn[ypln_neg_<0]\n",
      "Xnn.index = range(Xnn.shape[0])\n",
      "\n",
      "clf = RFR(min_samples_split = ypln_neg_[ypln_neg_<0].shape[0]*0.05)\n",
      "clf.fit(Xnn, ypln_neg_[ypln_neg_<0])\n",
      "qimbs.Forest2Txt(clf, Xnn.ix[0:100,:],'/home/user1/Desktop/Share2Windows/NN')"
     ],
     "language": "python",
     "metadata": {},
     "outputs": [],
     "prompt_number": 93
    },
    {
     "cell_type": "code",
     "collapsed": false,
     "input": [
      "reload(qimbs)"
     ],
     "language": "python",
     "metadata": {},
     "outputs": [
      {
       "metadata": {},
       "output_type": "pyout",
       "prompt_number": 407,
       "text": [
        "<module 'qimbs' from 'qimbs.py'>"
       ]
      }
     ],
     "prompt_number": 407
    },
    {
     "cell_type": "code",
     "collapsed": false,
     "input": [],
     "language": "python",
     "metadata": {},
     "outputs": []
    }
   ],
   "metadata": {}
  }
 ]
}