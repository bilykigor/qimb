{
 "metadata": {
  "name": "",
  "signature": "sha256:a2a108854fbc1833de615104748ef26688c0c1cea6b3251cb1377358ccd91e31"
 },
 "nbformat": 3,
 "nbformat_minor": 0,
 "worksheets": [
  {
   "cells": [
    {
     "cell_type": "code",
     "collapsed": false,
     "input": [
      "import qimbs \n",
      "import numpy as np\n",
      "import pandas as pd\n",
      "from ggplot import *"
     ],
     "language": "python",
     "metadata": {},
     "outputs": [],
     "prompt_number": 1
    },
    {
     "cell_type": "code",
     "collapsed": false,
     "input": [
      "reload(qimbs)"
     ],
     "language": "python",
     "metadata": {},
     "outputs": [
      {
       "metadata": {},
       "output_type": "pyout",
       "prompt_number": 49,
       "text": [
        "<module 'qimbs' from 'qimbs.py'>"
       ]
      }
     ],
     "prompt_number": 49
    },
    {
     "cell_type": "code",
     "collapsed": false,
     "input": [
      "#!Importing data\n",
      "df = pd.DataFrame()\n",
      "for i in range(5,7):\n",
      "    df = df.append(qimbs.import_month(i))\n",
      "    print i\n",
      "print df.shape"
     ],
     "language": "python",
     "metadata": {},
     "outputs": [
      {
       "output_type": "stream",
       "stream": "stdout",
       "text": [
        "5\n",
        "6"
       ]
      },
      {
       "output_type": "stream",
       "stream": "stdout",
       "text": [
        "\n",
        "(2774572, 17)\n"
       ]
      }
     ],
     "prompt_number": 2
    },
    {
     "cell_type": "code",
     "collapsed": false,
     "input": [
      "df.index = range(df.shape[0])"
     ],
     "language": "python",
     "metadata": {},
     "outputs": [],
     "prompt_number": 3
    },
    {
     "cell_type": "code",
     "collapsed": false,
     "input": [
      "#Adding Timestamp column\n",
      "df = qimbs.create_timestamp(df)"
     ],
     "language": "python",
     "metadata": {},
     "outputs": [],
     "prompt_number": 4
    },
    {
     "cell_type": "code",
     "collapsed": false,
     "input": [
      "#Getting imbalance info\n",
      "imbalanceMsg = qimbs.get_imbelanceMSG2(df,0)"
     ],
     "language": "python",
     "metadata": {},
     "outputs": [],
     "prompt_number": 5
    },
    {
     "cell_type": "code",
     "collapsed": false,
     "input": [
      "imbalanceMsg = imbalanceMsg[\n",
      "    (imbalanceMsg.Ask_P - imbalanceMsg.Bid_P < 0.2 * \n",
      "    (imbalanceMsg.Ask_P + imbalanceMsg.Bid_P)*0.5) ]\n",
      "imbalanceMsg.index = range(imbalanceMsg.shape[0])"
     ],
     "language": "python",
     "metadata": {},
     "outputs": [],
     "prompt_number": 6
    },
    {
     "cell_type": "code",
     "collapsed": false,
     "input": [
      "#Creating features\n",
      "fdf,Features = qimbs.create_features(imbalanceMsg)\n",
      "X = fdf[[ 'Spread', 'D1', 'D2', 'D3', 'D4', 'D5','D44', 'D55','D444', 'D555', 'D6', 'D66','D7', 'V1', 'V11',\n",
      "         'V2', 'V3', 'V4', 'V5', 'V6', 'V7','V8','V9', 'a1', 'a2', 'a3',\n",
      " 'a4', 'a5', 'a6', 'a7', 'a8', 'a9', 'a10', 'a11', 'a12', 'a13','a14']]\n",
      "X['Bias'] = np.ones((X.shape[0],1))\n",
      "\n",
      "y = fdf['Move']\n",
      "\n",
      "dates = sorted(list(set(fdf.Date)))\n",
      "datesDF = qimbs.dates_tmp_df(fdf)\n",
      "\n",
      "ERRORS = pd.DataFrame(columns=['Model','TrainError','TestError'])"
     ],
     "language": "python",
     "metadata": {},
     "outputs": [],
     "prompt_number": 351
    },
    {
     "cell_type": "code",
     "collapsed": false,
     "input": [
      "#Creating features\n",
      "fdf,Features = qimbs.create_features3(imbalanceMsg)\n",
      "\n",
      "X = fdf[['Bid','Ask','Near','Far','PrevCLC','Spread',\n",
      " 'D3', 'D4', 'D5', 'D444', 'D555', 'D7', 'D66', 'V1', 'V11', \n",
      " 'V8', 'a3', 'a4', 'a14' ]]\n",
      "\n",
      "y = fdf['Move']\n",
      "\n",
      "dates = sorted(list(set(fdf.Date)))\n",
      "datesDF = qimbs.dates_tmp_df(fdf)\n",
      "\n",
      "ERRORS = pd.DataFrame(columns=['Model','TrainError','TestError'])"
     ],
     "language": "python",
     "metadata": {},
     "outputs": [],
     "prompt_number": 63
    },
    {
     "cell_type": "code",
     "collapsed": false,
     "input": [
      "ggplot(fdf,aes(x='Move')) + geom_histogram(binwidth = 0.05) "
     ],
     "language": "python",
     "metadata": {},
     "outputs": [
      {
       "metadata": {},
       "output_type": "display_data",
       "png": "[encoded data removed]",
       "text": [
        "<matplotlib.figure.Figure at 0xb7be310>"
       ]
      },
      {
       "metadata": {},
       "output_type": "pyout",
       "prompt_number": 64,
       "text": [
        "<ggplot: (6527493)>"
       ]
      }
     ],
     "prompt_number": 64
    },
    {
     "cell_type": "code",
     "collapsed": false,
     "input": [
      "#Benchmark - sell when imb<0, buy when imb>0 \n",
      "qimbs.OneModelResults('B', X,y,ERRORS,dates,datesDF)"
     ],
     "language": "python",
     "metadata": {},
     "outputs": [
      {
       "output_type": "stream",
       "stream": "stdout",
       "text": [
        "Precision - 0.716452742124, Recall - 0.861150070126, F_Score - 0.782165605096\n"
       ]
      },
      {
       "metadata": {},
       "output_type": "display_data",
       "png": "[encoded data removed]",
       "text": [
        "<matplotlib.figure.Figure at 0x12ead490>"
       ]
      },
      {
       "metadata": {},
       "output_type": "display_data",
       "png": "[encoded data removed]",
       "text": [
        "<matplotlib.figure.Figure at 0xebde9d0>"
       ]
      },
      {
       "metadata": {},
       "output_type": "pyout",
       "prompt_number": 65,
       "text": [
        "<ggplot: (7885309)>"
       ]
      }
     ],
     "prompt_number": 65
    },
    {
     "cell_type": "code",
     "collapsed": false,
     "input": [
      "#Apply Random Forest\n",
      "from sklearn.ensemble import RandomForestClassifier as RF\n",
      "print \"Random forest:\"\n",
      "qimbs.OneModelResults(RF, X,y,ERRORS,dates,datesDF)"
     ],
     "language": "python",
     "metadata": {},
     "outputs": [
      {
       "output_type": "stream",
       "stream": "stdout",
       "text": [
        "Random forest:\n",
        "Precision - 0.815457413249, Recall - 0.832528180354, F_Score - 0.82390438247"
       ]
      },
      {
       "output_type": "stream",
       "stream": "stdout",
       "text": [
        "\n"
       ]
      },
      {
       "metadata": {},
       "output_type": "display_data",
       "png": "[encoded data removed]",
       "text": [
        "<matplotlib.figure.Figure at 0xbe8d810>"
       ]
      },
      {
       "metadata": {},
       "output_type": "display_data",
       "png": "[encoded data removed]",
       "text": [
        "<matplotlib.figure.Figure at 0xbe8bf50>"
       ]
      },
      {
       "metadata": {},
       "output_type": "pyout",
       "prompt_number": 66,
       "text": [
        "<ggplot: (12486509)>"
       ]
      }
     ]
    },
    {
     "cell_type": "code",
     "collapsed": false,
     "input": [
      "from sklearn import feature_selection\n",
      "from sklearn.svm import SVC \n",
      "fs = feature_selection.RFE(estimator=SVC(kernel='linear'),n_features_to_select=5)\n",
      "fs.fit(X,y)\n",
      "print list(X.columns[fs.ranking_==1])"
     ],
     "language": "python",
     "metadata": {},
     "outputs": []
    },
    {
     "cell_type": "code",
     "collapsed": false,
     "input": [
      "#Lets see features importance and try to reduce the number of feature for RF algo\n",
      "clf = RF(min_samples_split=0.1*X.shape[0])\n",
      "clf.fit(X,y)\n",
      "\n",
      "fi = pd.DataFrame()\n",
      "fi['Feature'] = list(X.columns)\n",
      "fi['Impotrance'] = clf.feature_importances_\n",
      "fi=fi.sort(columns=['Impotrance'],ascending=False)\n",
      "fi['Index'] = range(X.shape[1])\n",
      "\n",
      "ggplot(fi,aes('Index','Impotrance',label='Feature')) +\\\n",
      "geom_point() + geom_text(vjust=0.005)"
     ],
     "language": "python",
     "metadata": {},
     "outputs": [
      {
       "metadata": {},
       "output_type": "display_data",
       "png": "[encoded data removed]",
       "text": [
        "<matplotlib.figure.Figure at 0x3c101d0>"
       ]
      },
      {
       "metadata": {},
       "output_type": "pyout",
       "prompt_number": 49,
       "text": [
        "<ggplot: (27134221)>"
       ]
      }
     ],
     "prompt_number": 49
    },
    {
     "cell_type": "code",
     "collapsed": false,
     "input": [
      "print 'Main features are:'\n",
      "for f in list(fi['Feature'][:10]):\n",
      "    print '%s  %s' %(f,Features[f])"
     ],
     "language": "python",
     "metadata": {},
     "outputs": [
      {
       "output_type": "stream",
       "stream": "stdout",
       "text": [
        "Main features are:\n",
        "D444  (Bid(9.28)-ImbRef(9.28))/1+Spread\n",
        "Near  Near(9.28)\n",
        "D5  (ImbRef(9.28)-Ask(9.28))/CloseCross(day before)\n",
        "V8  ImbalanceS(9.28)/PairedS(9.28)\n",
        "Bid  Bid(9.28)\n",
        "Ask  Ask(9.28)\n",
        "D4  (Bid(9.28)-ImbRef(9.28))/CloseCross(day before)\n",
        "D555  (ImbRef(9.28)-Ask(9.28))/1+Spread\n",
        "Far  Far(9.28)\n",
        "V1  (Ask_S-Bid_S) at 9.28/Imbalance(9.28)\n"
       ]
      }
     ],
     "prompt_number": 51
    },
    {
     "cell_type": "code",
     "collapsed": false,
     "input": [
      "#Get error for these features bags\n",
      "from sklearn.feature_selection import f_classif\n",
      "from sklearn.metrics import confusion_matrix\n",
      "\n",
      "error1 = []\n",
      "error2 = []\n",
      "error3 = []\n",
      "nfeatures = range(1, X.shape[1])\n",
      "labels = list(set(y))\n",
      "for nfeature in nfeatures:\n",
      "    print nfeature\n",
      "    X_r = X[fi['Feature'][:nfeature]]\n",
      "    \n",
      "    err1 = []\n",
      "    err2 = []\n",
      "    err3 = []\n",
      "    for i in range(2):  \n",
      "        r = range(len(dates))\n",
      "        np.random.shuffle(r)\n",
      "        test_days = r[:1] \n",
      "        train_days = r[1:] \n",
      "               \n",
      "        Xtrain = X_r.ix[datesDF.ix[train_days],:]\n",
      "        Xtest = X_r.ix[datesDF.ix[test_days],:]\n",
      "        ytrain = y.ix[datesDF.ix[train_days]]\n",
      "        ytest = y.ix[datesDF.ix[test_days]]\n",
      "        \n",
      "        reg1 = RF()\n",
      "        reg1.fit(Xtrain, ytrain)\n",
      "        test_pr1 = qimbs.Precision_Recall(confusion_matrix(ytest,reg1.predict(Xtest),labels).astype(float))\n",
      "        err1.append(1-test_pr1[2])  \n",
      "        \n",
      "        reg2 = LR(class_weight='auto')\n",
      "        reg2.fit(Xtrain, ytrain)\n",
      "        test_pr2 = qimbs.Precision_Recall(confusion_matrix(ytest,reg2.predict(Xtest),labels).astype(float))\n",
      "        err2.append(1-test_pr2[2]) \n",
      "        \n",
      "        reg3 = SVC(class_weight='auto')\n",
      "        reg3.fit(Xtrain, ytrain)\n",
      "        test_pr3 = qimbs.Precision_Recall(confusion_matrix(ytest,reg3.predict(Xtest),labels).astype(float))\n",
      "        err3.append(1-test_pr3[2])  \n",
      "        \n",
      "    error1.append(np.mean(err1))\n",
      "    error2.append(np.mean(err2))\n",
      "    error3.append(np.mean(err3))\n",
      "    "
     ],
     "language": "python",
     "metadata": {},
     "outputs": [
      {
       "output_type": "stream",
       "stream": "stdout",
       "text": [
        "1\n",
        "2"
       ]
      },
      {
       "output_type": "stream",
       "stream": "stdout",
       "text": [
        "\n",
        "3"
       ]
      },
      {
       "output_type": "stream",
       "stream": "stdout",
       "text": [
        "\n",
        "4"
       ]
      },
      {
       "output_type": "stream",
       "stream": "stdout",
       "text": [
        "\n",
        "5"
       ]
      },
      {
       "output_type": "stream",
       "stream": "stdout",
       "text": [
        "\n",
        "6"
       ]
      },
      {
       "output_type": "stream",
       "stream": "stdout",
       "text": [
        "\n",
        "7"
       ]
      },
      {
       "output_type": "stream",
       "stream": "stdout",
       "text": [
        "\n",
        "8"
       ]
      },
      {
       "output_type": "stream",
       "stream": "stdout",
       "text": [
        "\n",
        "9"
       ]
      },
      {
       "output_type": "stream",
       "stream": "stdout",
       "text": [
        "\n",
        "10"
       ]
      },
      {
       "output_type": "stream",
       "stream": "stdout",
       "text": [
        "\n",
        "11"
       ]
      },
      {
       "output_type": "stream",
       "stream": "stdout",
       "text": [
        "\n",
        "12"
       ]
      },
      {
       "output_type": "stream",
       "stream": "stdout",
       "text": [
        "\n",
        "13"
       ]
      },
      {
       "output_type": "stream",
       "stream": "stdout",
       "text": [
        "\n",
        "14"
       ]
      },
      {
       "output_type": "stream",
       "stream": "stdout",
       "text": [
        "\n",
        "15"
       ]
      },
      {
       "output_type": "stream",
       "stream": "stdout",
       "text": [
        "\n",
        "16"
       ]
      },
      {
       "output_type": "stream",
       "stream": "stdout",
       "text": [
        "\n",
        "17"
       ]
      },
      {
       "output_type": "stream",
       "stream": "stdout",
       "text": [
        "\n",
        "18"
       ]
      },
      {
       "output_type": "stream",
       "stream": "stdout",
       "text": [
        "\n",
        "19"
       ]
      },
      {
       "output_type": "stream",
       "stream": "stdout",
       "text": [
        "\n",
        "20"
       ]
      },
      {
       "output_type": "stream",
       "stream": "stdout",
       "text": [
        "\n",
        "21"
       ]
      },
      {
       "output_type": "stream",
       "stream": "stdout",
       "text": [
        "\n",
        "22"
       ]
      },
      {
       "output_type": "stream",
       "stream": "stdout",
       "text": [
        "\n",
        "23"
       ]
      },
      {
       "output_type": "stream",
       "stream": "stdout",
       "text": [
        "\n",
        "24"
       ]
      },
      {
       "output_type": "stream",
       "stream": "stdout",
       "text": [
        "\n",
        "25"
       ]
      },
      {
       "output_type": "stream",
       "stream": "stdout",
       "text": [
        "\n",
        "26"
       ]
      },
      {
       "output_type": "stream",
       "stream": "stdout",
       "text": [
        "\n",
        "27"
       ]
      },
      {
       "output_type": "stream",
       "stream": "stdout",
       "text": [
        "\n",
        "28"
       ]
      },
      {
       "output_type": "stream",
       "stream": "stdout",
       "text": [
        "\n",
        "29"
       ]
      },
      {
       "output_type": "stream",
       "stream": "stdout",
       "text": [
        "\n",
        "30"
       ]
      },
      {
       "output_type": "stream",
       "stream": "stdout",
       "text": [
        "\n",
        "31"
       ]
      },
      {
       "output_type": "stream",
       "stream": "stdout",
       "text": [
        "\n",
        "32"
       ]
      },
      {
       "output_type": "stream",
       "stream": "stdout",
       "text": [
        "\n",
        "33"
       ]
      },
      {
       "output_type": "stream",
       "stream": "stdout",
       "text": [
        "\n",
        "34"
       ]
      },
      {
       "output_type": "stream",
       "stream": "stdout",
       "text": [
        "\n",
        "35"
       ]
      },
      {
       "output_type": "stream",
       "stream": "stdout",
       "text": [
        "\n",
        "36"
       ]
      },
      {
       "output_type": "stream",
       "stream": "stdout",
       "text": [
        "\n",
        "37"
       ]
      },
      {
       "output_type": "stream",
       "stream": "stdout",
       "text": [
        "\n"
       ]
      }
     ],
     "prompt_number": 885
    },
    {
     "cell_type": "code",
     "collapsed": false,
     "input": [
      "p_df=pd.DataFrame()\n",
      "p_df['I']=range(1, X.shape[1])\n",
      "p_df['RF']=error1\n",
      "p_df['LR']=error2\n",
      "p_df['SVC']=error3\n",
      "p_df_m = pd.melt(p_df, id_vars=['I'])\n",
      "\n",
      "ggplot(p_df_m,aes(x='I', y='value', colour='variable')) + geom_line() + geom_point() +\\\n",
      "xlab('n important features selected')+ylab('Error')+ggtitle('Features importance')\n"
     ],
     "language": "python",
     "metadata": {},
     "outputs": [
      {
       "metadata": {},
       "output_type": "display_data",
       "png": "[encoded data removed]",
       "text": [
        "<matplotlib.figure.Figure at 0x1975edd0>"
       ]
      },
      {
       "metadata": {},
       "output_type": "pyout",
       "prompt_number": 897,
       "text": [
        "<ggplot: (26697289)>"
       ]
      }
     ],
     "prompt_number": 897
    },
    {
     "cell_type": "code",
     "collapsed": false,
     "input": [
      "#Lets run RF with les features\n",
      "qimbs.OneModelResults(RF, X[fi['Feature'][:10]],y, ERRORS,dates,datesDF,n_ensembles=10,\\\n",
      "                      test_size_ensemble=0.2)"
     ],
     "language": "python",
     "metadata": {},
     "outputs": []
    },
    {
     "cell_type": "code",
     "collapsed": false,
     "input": [
      "#Apply Logistic Regression\n",
      "from sklearn.linear_model import LogisticRegression as LR\n",
      "print \"Logistic Regression:\"\n",
      "reload(qimbs)\n",
      "qimbs.OneModelResults(LR, X,y,ERRORS,dates,datesDF, n_ensembles=5, test_size_ensemble=0.2)"
     ],
     "language": "python",
     "metadata": {},
     "outputs": []
    },
    {
     "cell_type": "code",
     "collapsed": false,
     "input": [
      "from sklearn.svm import SVC\n",
      "print \"SVC:\"\n",
      "qimbs.OneModelResults(SVC, X[fi['Feature'][:10]], y,ERRORS,dates,datesDF, n_ensembles=5, test_size_ensemble=0.2)"
     ],
     "language": "python",
     "metadata": {},
     "outputs": []
    },
    {
     "cell_type": "code",
     "collapsed": false,
     "input": [
      "ERRORS"
     ],
     "language": "python",
     "metadata": {},
     "outputs": []
    },
    {
     "cell_type": "code",
     "collapsed": false,
     "input": [
      "#Models comparison\n",
      "ERRORS=ERRORS.sort(['TrainError', 'TestError'])\n",
      "#ERRORS=ERRORS[:-1]\n",
      "ggplot(ERRORS, aes('TrainError', 'TestError')) + geom_point() + \\\n",
      "ggtitle('Model comparison') + xlab(\"TrainError\") +\\\n",
      "ylab(\"TestError\") +geom_text(aes(label='Model'),hjust=0, vjust=0)\\\n",
      "+ ylim(0,0.5)+ xlim(0,0.5) + geom_abline(intercept = 0.225, slope = 0\\\n",
      "                                         ,color='red')"
     ],
     "language": "python",
     "metadata": {},
     "outputs": []
    },
    {
     "cell_type": "code",
     "collapsed": false,
     "input": [
      "#Lets compare models in money\n",
      "reload(qimbs)\n",
      "#Benchmark\n",
      "Signals =  qimbs.get_signals1(imbalanceMsg,X,y,'B',dates,datesDF)\n",
      "Symbols = sorted(list(set(df.Symbol)))\n",
      "SymbolsInd=dict()\n",
      "for i in range(len(Symbols)):\n",
      "    SymbolsInd[Symbols[i]]=i\n",
      "    \n",
      "T = zeros((len(Symbols),len(Symbols)))\n",
      "TN = zeros((len(Symbols),len(Symbols)))\n",
      "result0 = qimbs.get_performance(Signals,df,dates,SymbolsInd,T,TN,0)\n",
      "ggplot(result0, aes('Date','Pnl')) + geom_point() + ggtitle('Sum=%s' % result0.Pnl.sum()) + geom_line()"
     ],
     "language": "python",
     "metadata": {},
     "outputs": [
      {
       "output_type": "stream",
       "stream": "stdout",
       "text": [
        "2014-05-01 8.86\n",
        "2014-05-02 10.79"
       ]
      },
      {
       "output_type": "stream",
       "stream": "stdout",
       "text": [
        "\n",
        "2014-05-05 8.78"
       ]
      },
      {
       "output_type": "stream",
       "stream": "stdout",
       "text": [
        "\n",
        "2014-05-06 9.25"
       ]
      },
      {
       "output_type": "stream",
       "stream": "stdout",
       "text": [
        "\n",
        "2014-05-07 48.36"
       ]
      },
      {
       "output_type": "stream",
       "stream": "stdout",
       "text": [
        "\n",
        "2014-05-08 17.31"
       ]
      },
      {
       "output_type": "stream",
       "stream": "stdout",
       "text": [
        "\n",
        "2014-05-09 8.99"
       ]
      },
      {
       "output_type": "stream",
       "stream": "stdout",
       "text": [
        "\n",
        "2014-05-12 7.52"
       ]
      },
      {
       "output_type": "stream",
       "stream": "stdout",
       "text": [
        "\n",
        "2014-05-13 9.56"
       ]
      },
      {
       "output_type": "stream",
       "stream": "stdout",
       "text": [
        "\n",
        "2014-05-14 9.09"
       ]
      },
      {
       "output_type": "stream",
       "stream": "stdout",
       "text": [
        "\n",
        "2014-05-15 8.78"
       ]
      },
      {
       "output_type": "stream",
       "stream": "stdout",
       "text": [
        "\n",
        "2014-05-16 4.85"
       ]
      },
      {
       "output_type": "stream",
       "stream": "stdout",
       "text": [
        "\n",
        "2014-05-19 6.49"
       ]
      },
      {
       "output_type": "stream",
       "stream": "stdout",
       "text": [
        "\n",
        "2014-05-20 13.02"
       ]
      },
      {
       "output_type": "stream",
       "stream": "stdout",
       "text": [
        "\n",
        "2014-05-21 5.28"
       ]
      },
      {
       "output_type": "stream",
       "stream": "stdout",
       "text": [
        "\n",
        "2014-05-22 7.57"
       ]
      },
      {
       "output_type": "stream",
       "stream": "stdout",
       "text": [
        "\n",
        "2014-05-23 7.59"
       ]
      },
      {
       "output_type": "stream",
       "stream": "stdout",
       "text": [
        "\n",
        "2014-05-27 13.61"
       ]
      },
      {
       "output_type": "stream",
       "stream": "stdout",
       "text": [
        "\n",
        "2014-05-28 10.53"
       ]
      },
      {
       "output_type": "stream",
       "stream": "stdout",
       "text": [
        "\n",
        "2014-05-29 1.4"
       ]
      },
      {
       "output_type": "stream",
       "stream": "stdout",
       "text": [
        "\n",
        "2014-05-30 2.15"
       ]
      },
      {
       "output_type": "stream",
       "stream": "stdout",
       "text": [
        "\n",
        "2014-06-02 11.49"
       ]
      },
      {
       "output_type": "stream",
       "stream": "stdout",
       "text": [
        "\n",
        "2014-06-03 6.1"
       ]
      },
      {
       "output_type": "stream",
       "stream": "stdout",
       "text": [
        "\n",
        "2014-06-04 6.1"
       ]
      },
      {
       "output_type": "stream",
       "stream": "stdout",
       "text": [
        "\n",
        "2014-06-05 8.53"
       ]
      },
      {
       "output_type": "stream",
       "stream": "stdout",
       "text": [
        "\n",
        "2014-06-06 13.94"
       ]
      },
      {
       "output_type": "stream",
       "stream": "stdout",
       "text": [
        "\n",
        "2014-06-09 7.09"
       ]
      },
      {
       "output_type": "stream",
       "stream": "stdout",
       "text": [
        "\n",
        "2014-06-10 6.77"
       ]
      },
      {
       "output_type": "stream",
       "stream": "stdout",
       "text": [
        "\n",
        "2014-06-11 5.83"
       ]
      },
      {
       "output_type": "stream",
       "stream": "stdout",
       "text": [
        "\n",
        "2014-06-16 8.07"
       ]
      },
      {
       "output_type": "stream",
       "stream": "stdout",
       "text": [
        "\n",
        "2014-06-17 7.22"
       ]
      },
      {
       "output_type": "stream",
       "stream": "stdout",
       "text": [
        "\n",
        "2014-06-18 10.47"
       ]
      },
      {
       "output_type": "stream",
       "stream": "stdout",
       "text": [
        "\n",
        "2014-06-19 8.22"
       ]
      },
      {
       "output_type": "stream",
       "stream": "stdout",
       "text": [
        "\n",
        "2014-06-20 4.99"
       ]
      },
      {
       "output_type": "stream",
       "stream": "stdout",
       "text": [
        "\n",
        "2014-06-23 12.02"
       ]
      },
      {
       "output_type": "stream",
       "stream": "stdout",
       "text": [
        "\n",
        "2014-06-24 5.8"
       ]
      },
      {
       "output_type": "stream",
       "stream": "stdout",
       "text": [
        "\n",
        "2014-06-25 7.68"
       ]
      },
      {
       "output_type": "stream",
       "stream": "stdout",
       "text": [
        "\n",
        "2014-06-26 11.56"
       ]
      },
      {
       "output_type": "stream",
       "stream": "stdout",
       "text": [
        "\n",
        "2014-06-27 8.57"
       ]
      },
      {
       "output_type": "stream",
       "stream": "stdout",
       "text": [
        "\n",
        "2014-06-30 10.84"
       ]
      },
      {
       "output_type": "stream",
       "stream": "stdout",
       "text": [
        "\n",
        "----------------------------------"
       ]
      },
      {
       "output_type": "stream",
       "stream": "stdout",
       "text": [
        "\n",
        "Z 6.74\n",
        "CELG 7.26\n",
        "ICPT 9.32\n",
        "AAPL 9.55\n",
        "TSLA 9.9\n",
        "NFLX 10.22\n",
        "GOOG 12.99\n",
        "AMZN 13.41\n",
        "GOOGL 17.06\n",
        "PCLN 20.31\n",
        "----------------------------------\n",
        "381.07\n"
       ]
      },
      {
       "metadata": {},
       "output_type": "display_data",
       "png": "[encoded data removed]",
       "text": [
        "<matplotlib.figure.Figure at 0x5c7e350>"
       ]
      },
      {
       "metadata": {},
       "output_type": "pyout",
       "prompt_number": 60,
       "text": [
        "<ggplot: (12038337)>"
       ]
      }
     ],
     "prompt_number": 60
    },
    {
     "cell_type": "code",
     "collapsed": false,
     "input": [
      "#LR\n",
      "Signals =  qimbs.get_signals1(imbalanceMsg,X,y,LR,dates,datesDF,n_ensembles=5, test_size_ensemble=0.2)\n",
      "Symbols = sorted(list(set(df.Symbol)))\n",
      "SymbolsInd=dict()\n",
      "for i in range(len(Symbols)):\n",
      "    SymbolsInd[Symbols[i]]=i\n",
      "T = zeros((len(Symbols),len(Symbols)))\n",
      "TN = zeros((len(Symbols),len(Symbols)))\n",
      "result1 = qimbs.get_performance(Signals,df,dates,SymbolsInd,T,TN,0)\n",
      "ggplot(result1, aes('Date','Pnl')) + geom_point() + ggtitle('Sum=%s' % result1.Pnl.sum()) + geom_line()"
     ],
     "language": "python",
     "metadata": {},
     "outputs": [
      {
       "ename": "NameError",
       "evalue": "name 'LR' is not defined",
       "output_type": "pyerr",
       "traceback": [
        "\u001b[1;31m---------------------------------------------------------------------------\u001b[0m\n\u001b[1;31mNameError\u001b[0m                                 Traceback (most recent call last)",
        "\u001b[1;32m<ipython-input-61-73468fd41cea>\u001b[0m in \u001b[0;36m<module>\u001b[1;34m()\u001b[0m\n\u001b[0;32m      1\u001b[0m \u001b[1;31m#LR\u001b[0m\u001b[1;33m\u001b[0m\u001b[1;33m\u001b[0m\u001b[0m\n\u001b[1;32m----> 2\u001b[1;33m \u001b[0mSignals\u001b[0m \u001b[1;33m=\u001b[0m  \u001b[0mqimbs\u001b[0m\u001b[1;33m.\u001b[0m\u001b[0mget_signals1\u001b[0m\u001b[1;33m(\u001b[0m\u001b[0mimbalanceMsg\u001b[0m\u001b[1;33m,\u001b[0m\u001b[0mX\u001b[0m\u001b[1;33m,\u001b[0m\u001b[0my\u001b[0m\u001b[1;33m,\u001b[0m\u001b[0mLR\u001b[0m\u001b[1;33m,\u001b[0m\u001b[0mdates\u001b[0m\u001b[1;33m,\u001b[0m\u001b[0mdatesDF\u001b[0m\u001b[1;33m,\u001b[0m\u001b[0mn_ensembles\u001b[0m\u001b[1;33m=\u001b[0m\u001b[1;36m5\u001b[0m\u001b[1;33m,\u001b[0m \u001b[0mtest_size_ensemble\u001b[0m\u001b[1;33m=\u001b[0m\u001b[1;36m0.2\u001b[0m\u001b[1;33m)\u001b[0m\u001b[1;33m\u001b[0m\u001b[0m\n\u001b[0m\u001b[0;32m      3\u001b[0m \u001b[0mSymbols\u001b[0m \u001b[1;33m=\u001b[0m \u001b[0msorted\u001b[0m\u001b[1;33m(\u001b[0m\u001b[0mlist\u001b[0m\u001b[1;33m(\u001b[0m\u001b[0mset\u001b[0m\u001b[1;33m(\u001b[0m\u001b[0mdf\u001b[0m\u001b[1;33m.\u001b[0m\u001b[0mSymbol\u001b[0m\u001b[1;33m)\u001b[0m\u001b[1;33m)\u001b[0m\u001b[1;33m)\u001b[0m\u001b[1;33m\u001b[0m\u001b[0m\n\u001b[0;32m      4\u001b[0m \u001b[0mSymbolsInd\u001b[0m\u001b[1;33m=\u001b[0m\u001b[0mdict\u001b[0m\u001b[1;33m(\u001b[0m\u001b[1;33m)\u001b[0m\u001b[1;33m\u001b[0m\u001b[0m\n\u001b[0;32m      5\u001b[0m \u001b[1;32mfor\u001b[0m \u001b[0mi\u001b[0m \u001b[1;32min\u001b[0m \u001b[0mrange\u001b[0m\u001b[1;33m(\u001b[0m\u001b[0mlen\u001b[0m\u001b[1;33m(\u001b[0m\u001b[0mSymbols\u001b[0m\u001b[1;33m)\u001b[0m\u001b[1;33m)\u001b[0m\u001b[1;33m:\u001b[0m\u001b[1;33m\u001b[0m\u001b[0m\n",
        "\u001b[1;31mNameError\u001b[0m: name 'LR' is not defined"
       ]
      }
     ],
     "prompt_number": 61
    },
    {
     "cell_type": "code",
     "collapsed": false,
     "input": [
      "#RandomForest\n",
      "Signals =  qimbs.get_signals1(imbalanceMsg,X[fi['Feature'][:10]],y,RF,dates,datesDF,n_ensembles=5, test_size_ensemble=0.2)\n",
      "Symbols = sorted(list(set(df.Symbol)))\n",
      "SymbolsInd=dict()\n",
      "for i in range(len(Symbols)):\n",
      "    SymbolsInd[Symbols[i]]=i\n",
      "T = zeros((len(Symbols),len(Symbols)))\n",
      "TN = zeros((len(Symbols),len(Symbols)))\n",
      "result2 = qimbs.get_performance(Signals,df,dates,SymbolsInd,T,TN,0)\n",
      "ggplot(result2, aes('Date','Pnl')) + geom_point() + ggtitle('Sum=%s' % result2.Pnl.sum()) + geom_line()"
     ],
     "language": "python",
     "metadata": {},
     "outputs": [
      {
       "output_type": "stream",
       "stream": "stdout",
       "text": [
        "2014-05-01 9.54\n",
        "2014-05-02 14.57"
       ]
      },
      {
       "output_type": "stream",
       "stream": "stdout",
       "text": [
        "\n",
        "2014-05-05 9.86"
       ]
      },
      {
       "output_type": "stream",
       "stream": "stdout",
       "text": [
        "\n",
        "2014-05-06 9.63"
       ]
      },
      {
       "output_type": "stream",
       "stream": "stdout",
       "text": [
        "\n",
        "2014-05-07 52.94"
       ]
      },
      {
       "output_type": "stream",
       "stream": "stdout",
       "text": [
        "\n",
        "2014-05-08 18.45"
       ]
      },
      {
       "output_type": "stream",
       "stream": "stdout",
       "text": [
        "\n",
        "2014-05-09 9.65"
       ]
      },
      {
       "output_type": "stream",
       "stream": "stdout",
       "text": [
        "\n",
        "2014-05-12 8.46"
       ]
      },
      {
       "output_type": "stream",
       "stream": "stdout",
       "text": [
        "\n",
        "2014-05-13 9.67"
       ]
      },
      {
       "output_type": "stream",
       "stream": "stdout",
       "text": [
        "\n",
        "2014-05-14 6.94"
       ]
      },
      {
       "output_type": "stream",
       "stream": "stdout",
       "text": [
        "\n",
        "2014-05-15 10.1"
       ]
      },
      {
       "output_type": "stream",
       "stream": "stdout",
       "text": [
        "\n",
        "2014-05-16 5.07"
       ]
      },
      {
       "output_type": "stream",
       "stream": "stdout",
       "text": [
        "\n",
        "2014-05-19 6.75"
       ]
      },
      {
       "output_type": "stream",
       "stream": "stdout",
       "text": [
        "\n",
        "2014-05-20 13.15"
       ]
      },
      {
       "output_type": "stream",
       "stream": "stdout",
       "text": [
        "\n",
        "2014-05-21 5.93"
       ]
      },
      {
       "output_type": "stream",
       "stream": "stdout",
       "text": [
        "\n",
        "2014-05-22 7.96"
       ]
      },
      {
       "output_type": "stream",
       "stream": "stdout",
       "text": [
        "\n",
        "2014-05-23 7.75"
       ]
      },
      {
       "output_type": "stream",
       "stream": "stdout",
       "text": [
        "\n",
        "2014-05-27 14.5"
       ]
      },
      {
       "output_type": "stream",
       "stream": "stdout",
       "text": [
        "\n",
        "2014-05-28 10.88"
       ]
      },
      {
       "output_type": "stream",
       "stream": "stdout",
       "text": [
        "\n",
        "2014-05-29 1.31"
       ]
      },
      {
       "output_type": "stream",
       "stream": "stdout",
       "text": [
        "\n",
        "2014-05-30 7.67"
       ]
      },
      {
       "output_type": "stream",
       "stream": "stdout",
       "text": [
        "\n",
        "2014-06-02 12.97"
       ]
      },
      {
       "output_type": "stream",
       "stream": "stdout",
       "text": [
        "\n",
        "2014-06-03 5.93"
       ]
      },
      {
       "output_type": "stream",
       "stream": "stdout",
       "text": [
        "\n",
        "2014-06-04 6.78"
       ]
      },
      {
       "output_type": "stream",
       "stream": "stdout",
       "text": [
        "\n",
        "2014-06-05 11.53"
       ]
      },
      {
       "output_type": "stream",
       "stream": "stdout",
       "text": [
        "\n",
        "2014-06-06 15.27"
       ]
      },
      {
       "output_type": "stream",
       "stream": "stdout",
       "text": [
        "\n",
        "2014-06-09 6.48"
       ]
      },
      {
       "output_type": "stream",
       "stream": "stdout",
       "text": [
        "\n",
        "2014-06-10 8.96"
       ]
      },
      {
       "output_type": "stream",
       "stream": "stdout",
       "text": [
        "\n",
        "2014-06-11 6.15"
       ]
      },
      {
       "output_type": "stream",
       "stream": "stdout",
       "text": [
        "\n",
        "2014-06-16 8.78"
       ]
      },
      {
       "output_type": "stream",
       "stream": "stdout",
       "text": [
        "\n",
        "2014-06-17 7.84"
       ]
      },
      {
       "output_type": "stream",
       "stream": "stdout",
       "text": [
        "\n",
        "2014-06-18 10.29"
       ]
      },
      {
       "output_type": "stream",
       "stream": "stdout",
       "text": [
        "\n",
        "2014-06-19 8.47"
       ]
      },
      {
       "output_type": "stream",
       "stream": "stdout",
       "text": [
        "\n",
        "2014-06-20 5.49"
       ]
      },
      {
       "output_type": "stream",
       "stream": "stdout",
       "text": [
        "\n",
        "2014-06-23 12.4"
       ]
      },
      {
       "output_type": "stream",
       "stream": "stdout",
       "text": [
        "\n",
        "2014-06-24 4.55"
       ]
      },
      {
       "output_type": "stream",
       "stream": "stdout",
       "text": [
        "\n",
        "2014-06-25 7.56"
       ]
      },
      {
       "output_type": "stream",
       "stream": "stdout",
       "text": [
        "\n",
        "2014-06-26 10.7"
       ]
      },
      {
       "output_type": "stream",
       "stream": "stdout",
       "text": [
        "\n",
        "2014-06-27 10.82"
       ]
      },
      {
       "output_type": "stream",
       "stream": "stdout",
       "text": [
        "\n",
        "2014-06-30 10.06"
       ]
      },
      {
       "output_type": "stream",
       "stream": "stdout",
       "text": [
        "\n",
        "----------------------------------"
       ]
      },
      {
       "output_type": "stream",
       "stream": "stdout",
       "text": [
        "\n",
        "Z 6.45\n",
        "CELG 7.12\n",
        "AAPL 10.11\n",
        "NFLX 11.05\n",
        "TSLA 11.83\n",
        "GOOG 12.82\n",
        "AMZN 14.45\n",
        "ICPT 14.45\n",
        "GOOGL 18.69\n",
        "PCLN 25.24\n",
        "----------------------------------\n",
        "411.81\n"
       ]
      },
      {
       "metadata": {},
       "output_type": "display_data",
       "png": "[encoded data removed]",
       "text": [
        "<matplotlib.figure.Figure at 0xebdf510>"
       ]
      },
      {
       "metadata": {},
       "output_type": "pyout",
       "prompt_number": 59,
       "text": [
        "<ggplot: (9645121)>"
       ]
      }
     ],
     "prompt_number": 59
    },
    {
     "cell_type": "code",
     "collapsed": false,
     "input": [
      "#SVC\n",
      "Signals =  qimbs.get_signals1(imbalanceMsg, X,y,SVC,dates,datesDF,n_ensembles=5, test_size_ensemble=0.2)\n",
      "Symbols = sorted(list(set(df.Symbol)))\n",
      "SymbolsInd=dict()\n",
      "for i in range(len(Symbols)):\n",
      "    SymbolsInd[Symbols[i]]=i\n",
      "T = zeros((len(Symbols),len(Symbols)))\n",
      "TN = zeros((len(Symbols),len(Symbols)))\n",
      "result1 = qimbs.get_performance(Signals,df,dates,SymbolsInd,T,TN,0)\n",
      "ggplot(result1, aes('Date','Pnl')) + geom_point() + ggtitle('Sum=%s' % result1.Pnl.sum()) + geom_line()"
     ],
     "language": "python",
     "metadata": {},
     "outputs": [
      {
       "output_type": "stream",
       "stream": "stdout",
       "text": [
        "2014-06-02 4.29\n",
        "2014-06-03 -5.76"
       ]
      },
      {
       "output_type": "stream",
       "stream": "stdout",
       "text": [
        "\n",
        "2014-06-04 -0.45"
       ]
      },
      {
       "output_type": "stream",
       "stream": "stdout",
       "text": [
        "\n",
        "2014-06-05 -9.5"
       ]
      },
      {
       "output_type": "stream",
       "stream": "stdout",
       "text": [
        "\n",
        "2014-06-06 -22.9"
       ]
      },
      {
       "output_type": "stream",
       "stream": "stdout",
       "text": [
        "\n",
        "2014-06-09 1.46"
       ]
      },
      {
       "output_type": "stream",
       "stream": "stdout",
       "text": [
        "\n",
        "2014-06-10 -10.55"
       ]
      },
      {
       "output_type": "stream",
       "stream": "stdout",
       "text": [
        "\n",
        "2014-06-11 -7.24"
       ]
      },
      {
       "output_type": "stream",
       "stream": "stdout",
       "text": [
        "\n",
        "2014-06-16 -8.61"
       ]
      },
      {
       "output_type": "stream",
       "stream": "stdout",
       "text": [
        "\n",
        "2014-06-17 -7.45"
       ]
      },
      {
       "output_type": "stream",
       "stream": "stdout",
       "text": [
        "\n",
        "2014-06-18 -0.14"
       ]
      },
      {
       "output_type": "stream",
       "stream": "stdout",
       "text": [
        "\n",
        "2014-06-19 -5.64"
       ]
      },
      {
       "output_type": "stream",
       "stream": "stdout",
       "text": [
        "\n",
        "2014-06-20 -13.63"
       ]
      },
      {
       "output_type": "stream",
       "stream": "stdout",
       "text": [
        "\n",
        "2014-06-23 -9.04"
       ]
      },
      {
       "output_type": "stream",
       "stream": "stdout",
       "text": [
        "\n",
        "2014-06-24 -7.99"
       ]
      },
      {
       "output_type": "stream",
       "stream": "stdout",
       "text": [
        "\n",
        "2014-06-25 -12.71"
       ]
      },
      {
       "output_type": "stream",
       "stream": "stdout",
       "text": [
        "\n",
        "2014-06-26 2.24"
       ]
      },
      {
       "output_type": "stream",
       "stream": "stdout",
       "text": [
        "\n",
        "2014-06-27 1.51"
       ]
      },
      {
       "output_type": "stream",
       "stream": "stdout",
       "text": [
        "\n",
        "2014-06-30 -4.58"
       ]
      },
      {
       "output_type": "stream",
       "stream": "stdout",
       "text": [
        "\n",
        "----------------------------------"
       ]
      },
      {
       "output_type": "stream",
       "stream": "stdout",
       "text": [
        "\n",
        "ARCW 1.27\n",
        "FEYE 1.28\n",
        "ISIS 1.52\n",
        "XONE 1.56\n",
        "REGN 1.74\n",
        "VNOM 1.8\n",
        "TSLA 1.98\n",
        "ICPT 2.03\n",
        "GWPH 2.14\n",
        "NFLX 2.17\n",
        "----------------------------------\n",
        "-116.69\n"
       ]
      },
      {
       "metadata": {},
       "output_type": "display_data",
       "png": "[encoded data removed]",
       "text": [
        "<matplotlib.figure.Figure at 0x7f173a0097d0>"
       ]
      },
      {
       "metadata": {},
       "output_type": "pyout",
       "prompt_number": 18,
       "text": [
        "<ggplot: (8733648987021)>"
       ]
      }
     ],
     "prompt_number": 18
    },
    {
     "cell_type": "code",
     "collapsed": false,
     "input": [
      "from IPython.core.display import Image \n",
      "Image(filename='/home/user/PyProjects/Results/1.png') "
     ],
     "language": "python",
     "metadata": {},
     "outputs": [
      {
       "metadata": {},
       "output_type": "pyout",
       "png": "[encoded data removed]",
       "prompt_number": 922,
       "text": [
        "<IPython.core.display.Image at 0x12c21b90>"
       ]
      }
     ],
     "prompt_number": 922
    },
    {
     "cell_type": "code",
     "collapsed": false,
     "input": [
      "from sklearn.ensemble import RandomForestClassifier as RF\n",
      "clf = RF(min_samples_split = X.shape[0]*0.05)\n",
      "clf.fit(X[fi['Feature'][:10]],y)\n",
      "qimbs.Forest2Txt(clf, X[fi['Feature'][:10]].ix[0:100,:],'/home/user1/Desktop/Share2Windows')"
     ],
     "language": "python",
     "metadata": {},
     "outputs": [],
     "prompt_number": 56
    },
    {
     "cell_type": "code",
     "collapsed": false,
     "input": [
      "t=clf.estimators_[0].tree_\n",
      "from sklearn.externals.six import StringIO  \n",
      "import pydot\n",
      "from sklearn import tree\n",
      "out = StringIO() \n",
      "tree.export_graphviz(t, out_file=out) \n",
      "#print out.getvalue()\n",
      "graph = pydot.graph_from_dot_data(out.getvalue()) \n",
      "graph.write_pdf(\"t.pdf\") "
     ],
     "language": "python",
     "metadata": {},
     "outputs": [
      {
       "metadata": {},
       "output_type": "pyout",
       "prompt_number": 20,
       "text": [
        "True"
       ]
      }
     ],
     "prompt_number": 20
    },
    {
     "cell_type": "code",
     "collapsed": false,
     "input": [
      "clf.predict(X)"
     ],
     "language": "python",
     "metadata": {},
     "outputs": [
      {
       "metadata": {},
       "output_type": "pyout",
       "prompt_number": 42,
       "text": [
        "array([-1, -1, -1, ...,  0, -1,  0])"
       ]
      }
     ],
     "prompt_number": 42
    },
    {
     "cell_type": "code",
     "collapsed": false,
     "input": [
      "fdf"
     ],
     "language": "python",
     "metadata": {},
     "outputs": [
      {
       "html": [
        "<div style=\"max-height:1000px;max-width:1500px;overflow:auto;\">\n",
        "<table border=\"1\" class=\"dataframe\">\n",
        "  <thead>\n",
        "    <tr style=\"text-align: right;\">\n",
        "      <th></th>\n",
        "      <th>Symbol</th>\n",
        "      <th>Date</th>\n",
        "      <th>Move</th>\n",
        "      <th>Bid</th>\n",
        "      <th>Ask</th>\n",
        "      <th>Near</th>\n",
        "      <th>Far</th>\n",
        "      <th>PrevCLC</th>\n",
        "      <th>Spread</th>\n",
        "      <th>D3</th>\n",
        "      <th>...</th>\n",
        "      <th>D66</th>\n",
        "      <th>V1</th>\n",
        "      <th>V11</th>\n",
        "      <th>V3</th>\n",
        "      <th>V5</th>\n",
        "      <th>V7</th>\n",
        "      <th>V8</th>\n",
        "      <th>a3</th>\n",
        "      <th>a4</th>\n",
        "      <th>a14</th>\n",
        "    </tr>\n",
        "  </thead>\n",
        "  <tbody>\n",
        "    <tr>\n",
        "      <th>0   </th>\n",
        "      <td> SIRI</td>\n",
        "      <td> 2014-05-01</td>\n",
        "      <td>-1</td>\n",
        "      <td> 0.000000</td>\n",
        "      <td> 0.003145</td>\n",
        "      <td>-0.003145</td>\n",
        "      <td>-0.003145</td>\n",
        "      <td> 0.003145</td>\n",
        "      <td> 0.003145</td>\n",
        "      <td> -0.156740</td>\n",
        "      <td>...</td>\n",
        "      <td>-0.156986</td>\n",
        "      <td> -0.158312</td>\n",
        "      <td>  0.224707</td>\n",
        "      <td> 0.000678</td>\n",
        "      <td>-0.004279</td>\n",
        "      <td> 0.003014</td>\n",
        "      <td> -1.418832</td>\n",
        "      <td> -0.000000</td>\n",
        "      <td> -0.000000</td>\n",
        "      <td>-1</td>\n",
        "    </tr>\n",
        "    <tr>\n",
        "      <th>1   </th>\n",
        "      <td> CBAK</td>\n",
        "      <td> 2014-05-01</td>\n",
        "      <td> 1</td>\n",
        "      <td>-0.040323</td>\n",
        "      <td> 0.000000</td>\n",
        "      <td> 0.008065</td>\n",
        "      <td> 0.008065</td>\n",
        "      <td> 0.008065</td>\n",
        "      <td> 0.040323</td>\n",
        "      <td> -2.800000</td>\n",
        "      <td>...</td>\n",
        "      <td> 2.057613</td>\n",
        "      <td>  0.000000</td>\n",
        "      <td>  0.000000</td>\n",
        "      <td> 0.000000</td>\n",
        "      <td> 1.117072</td>\n",
        "      <td> 0.044967</td>\n",
        "      <td> 24.397961</td>\n",
        "      <td> 11.200000</td>\n",
        "      <td> -0.000000</td>\n",
        "      <td> 1</td>\n",
        "    </tr>\n",
        "    <tr>\n",
        "      <th>2   </th>\n",
        "      <td> VTWV</td>\n",
        "      <td> 2014-05-01</td>\n",
        "      <td>-1</td>\n",
        "      <td> 0.000000</td>\n",
        "      <td> 0.004699</td>\n",
        "      <td> 0.000000</td>\n",
        "      <td>-0.001175</td>\n",
        "      <td> 0.001410</td>\n",
        "      <td> 0.004699</td>\n",
        "      <td>  0.093853</td>\n",
        "      <td>...</td>\n",
        "      <td>-0.234412</td>\n",
        "      <td> -0.000000</td>\n",
        "      <td>  0.000000</td>\n",
        "      <td> 0.000000</td>\n",
        "      <td>-0.044550</td>\n",
        "      <td> 0.043253</td>\n",
        "      <td> -0.515000</td>\n",
        "      <td>  0.000000</td>\n",
        "      <td> -0.000000</td>\n",
        "      <td>-1</td>\n",
        "    </tr>\n",
        "    <tr>\n",
        "      <th>3   </th>\n",
        "      <td> AFSI</td>\n",
        "      <td> 2014-05-01</td>\n",
        "      <td>-1</td>\n",
        "      <td> 0.000000</td>\n",
        "      <td> 0.012146</td>\n",
        "      <td>-0.013158</td>\n",
        "      <td>-0.019484</td>\n",
        "      <td>-0.021508</td>\n",
        "      <td> 0.012146</td>\n",
        "      <td>  2.818723</td>\n",
        "      <td>...</td>\n",
        "      <td>-0.603622</td>\n",
        "      <td> -0.048204</td>\n",
        "      <td>  0.107016</td>\n",
        "      <td> 0.000600</td>\n",
        "      <td>-0.012340</td>\n",
        "      <td> 0.005494</td>\n",
        "      <td> -2.199250</td>\n",
        "      <td>  0.000000</td>\n",
        "      <td> -0.000000</td>\n",
        "      <td>-1</td>\n",
        "    </tr>\n",
        "    <tr>\n",
        "      <th>4   </th>\n",
        "      <td>  IRG</td>\n",
        "      <td> 2014-05-01</td>\n",
        "      <td> 1</td>\n",
        "      <td>-0.047619</td>\n",
        "      <td> 0.018367</td>\n",
        "      <td> 0.037415</td>\n",
        "      <td> 0.037415</td>\n",
        "      <td>-0.038095</td>\n",
        "      <td> 0.065986</td>\n",
        "      <td>  2.439887</td>\n",
        "      <td>...</td>\n",
        "      <td> 1.484294</td>\n",
        "      <td>  0.265212</td>\n",
        "      <td>  0.223188</td>\n",
        "      <td> 0.006603</td>\n",
        "      <td> 0.024181</td>\n",
        "      <td> 0.028868</td>\n",
        "      <td>  0.817391</td>\n",
        "      <td>-12.078648</td>\n",
        "      <td>  9.452855</td>\n",
        "      <td> 1</td>\n",
        "    </tr>\n",
        "    <tr>\n",
        "      <th>5   </th>\n",
        "      <td> AAPL</td>\n",
        "      <td> 2014-05-01</td>\n",
        "      <td> 1</td>\n",
        "      <td> 0.000000</td>\n",
        "      <td> 0.000558</td>\n",
        "      <td>-0.000642</td>\n",
        "      <td>-0.000642</td>\n",
        "      <td>-0.002637</td>\n",
        "      <td> 0.000558</td>\n",
        "      <td>  0.292328</td>\n",
        "      <td>...</td>\n",
        "      <td>-0.027880</td>\n",
        "      <td> -0.001129</td>\n",
        "      <td>  0.000184</td>\n",
        "      <td> 0.000001</td>\n",
        "      <td>-0.000645</td>\n",
        "      <td> 0.003985</td>\n",
        "      <td> -0.161666</td>\n",
        "      <td>  0.000000</td>\n",
        "      <td> -0.000000</td>\n",
        "      <td>-1</td>\n",
        "    </tr>\n",
        "    <tr>\n",
        "      <th>6   </th>\n",
        "      <td> FUEL</td>\n",
        "      <td> 2014-05-01</td>\n",
        "      <td> 0</td>\n",
        "      <td>-0.004312</td>\n",
        "      <td> 0.001232</td>\n",
        "      <td> 0.000616</td>\n",
        "      <td> 0.001232</td>\n",
        "      <td>-0.012319</td>\n",
        "      <td> 0.005544</td>\n",
        "      <td>  1.091363</td>\n",
        "      <td>...</td>\n",
        "      <td> 0.154226</td>\n",
        "      <td>  0.000000</td>\n",
        "      <td>  0.000000</td>\n",
        "      <td> 0.000000</td>\n",
        "      <td> 0.001468</td>\n",
        "      <td> 0.020934</td>\n",
        "      <td>  0.069486</td>\n",
        "      <td> -0.476429</td>\n",
        "      <td>  0.054449</td>\n",
        "      <td> 1</td>\n",
        "    </tr>\n",
        "    <tr>\n",
        "      <th>7   </th>\n",
        "      <td> EGLE</td>\n",
        "      <td> 2014-05-01</td>\n",
        "      <td> 0</td>\n",
        "      <td> 0.000000</td>\n",
        "      <td> 0.047458</td>\n",
        "      <td> 0.000000</td>\n",
        "      <td>-0.006780</td>\n",
        "      <td>-0.010169</td>\n",
        "      <td> 0.047458</td>\n",
        "      <td>  3.424658</td>\n",
        "      <td>...</td>\n",
        "      <td>-2.317881</td>\n",
        "      <td> -0.000000</td>\n",
        "      <td>  0.000000</td>\n",
        "      <td> 0.000000</td>\n",
        "      <td>-0.006391</td>\n",
        "      <td> 0.003676</td>\n",
        "      <td> -1.626607</td>\n",
        "      <td>  0.000000</td>\n",
        "      <td> -0.000000</td>\n",
        "      <td>-1</td>\n",
        "    </tr>\n",
        "    <tr>\n",
        "      <th>8   </th>\n",
        "      <td> ZGNX</td>\n",
        "      <td> 2014-05-01</td>\n",
        "      <td>-1</td>\n",
        "      <td> 0.000000</td>\n",
        "      <td> 0.044177</td>\n",
        "      <td>-0.004016</td>\n",
        "      <td>-0.004016</td>\n",
        "      <td>-0.020080</td>\n",
        "      <td> 0.044177</td>\n",
        "      <td>  4.303279</td>\n",
        "      <td>...</td>\n",
        "      <td>-2.161100</td>\n",
        "      <td> -0.054795</td>\n",
        "      <td>  0.028250</td>\n",
        "      <td> 0.000117</td>\n",
        "      <td>-0.002104</td>\n",
        "      <td> 0.004111</td>\n",
        "      <td> -0.507800</td>\n",
        "      <td>  0.000000</td>\n",
        "      <td> -0.000000</td>\n",
        "      <td>-1</td>\n",
        "    </tr>\n",
        "    <tr>\n",
        "      <th>9   </th>\n",
        "      <td> STMP</td>\n",
        "      <td> 2014-05-01</td>\n",
        "      <td>-1</td>\n",
        "      <td>-0.016250</td>\n",
        "      <td> 0.100747</td>\n",
        "      <td>-0.033474</td>\n",
        "      <td>-0.033474</td>\n",
        "      <td> 0.128047</td>\n",
        "      <td> 0.116997</td>\n",
        "      <td> -7.605877</td>\n",
        "      <td>...</td>\n",
        "      <td>-4.053633</td>\n",
        "      <td>  0.008468</td>\n",
        "      <td> -0.011401</td>\n",
        "      <td>-0.000496</td>\n",
        "      <td>-0.057866</td>\n",
        "      <td> 0.042801</td>\n",
        "      <td> -1.329967</td>\n",
        "      <td> 10.956320</td>\n",
        "      <td> 12.865376</td>\n",
        "      <td>-1</td>\n",
        "    </tr>\n",
        "    <tr>\n",
        "      <th>10  </th>\n",
        "      <td> GSOL</td>\n",
        "      <td> 2014-05-01</td>\n",
        "      <td> 0</td>\n",
        "      <td>-0.043011</td>\n",
        "      <td> 0.000000</td>\n",
        "      <td>-0.032258</td>\n",
        "      <td>-0.032258</td>\n",
        "      <td>-0.044086</td>\n",
        "      <td> 0.043011</td>\n",
        "      <td>  2.362205</td>\n",
        "      <td>...</td>\n",
        "      <td> 2.197802</td>\n",
        "      <td> -0.047263</td>\n",
        "      <td>  2.156300</td>\n",
        "      <td> 0.005627</td>\n",
        "      <td>-0.118647</td>\n",
        "      <td> 0.002193</td>\n",
        "      <td>-45.464115</td>\n",
        "      <td>-10.628593</td>\n",
        "      <td> -0.000000</td>\n",
        "      <td>-1</td>\n",
        "    </tr>\n",
        "    <tr>\n",
        "      <th>11  </th>\n",
        "      <td> RJET</td>\n",
        "      <td> 2014-05-01</td>\n",
        "      <td> 0</td>\n",
        "      <td>-0.014168</td>\n",
        "      <td> 0.056671</td>\n",
        "      <td> 0.002361</td>\n",
        "      <td> 0.002361</td>\n",
        "      <td>-0.018890</td>\n",
        "      <td> 0.070838</td>\n",
        "      <td>  4.091456</td>\n",
        "      <td>...</td>\n",
        "      <td>-2.080925</td>\n",
        "      <td> -0.046860</td>\n",
        "      <td> -0.005488</td>\n",
        "      <td>-0.000120</td>\n",
        "      <td> 0.002441</td>\n",
        "      <td> 0.021748</td>\n",
        "      <td>  0.111636</td>\n",
        "      <td> -5.908240</td>\n",
        "      <td>  8.341044</td>\n",
        "      <td> 1</td>\n",
        "    </tr>\n",
        "    <tr>\n",
        "      <th>12  </th>\n",
        "      <td> PHMD</td>\n",
        "      <td> 2014-05-01</td>\n",
        "      <td>-1</td>\n",
        "      <td> 0.000000</td>\n",
        "      <td> 0.004608</td>\n",
        "      <td>-0.003950</td>\n",
        "      <td>-0.003950</td>\n",
        "      <td>-0.005267</td>\n",
        "      <td> 0.004608</td>\n",
        "      <td>  0.761085</td>\n",
        "      <td>...</td>\n",
        "      <td>-0.229885</td>\n",
        "      <td>  0.241145</td>\n",
        "      <td> -0.919006</td>\n",
        "      <td>-0.011703</td>\n",
        "      <td>-0.047155</td>\n",
        "      <td> 0.011359</td>\n",
        "      <td> -3.703024</td>\n",
        "      <td>  0.000000</td>\n",
        "      <td> -0.000000</td>\n",
        "      <td>-1</td>\n",
        "    </tr>\n",
        "    <tr>\n",
        "      <th>13  </th>\n",
        "      <td> GOGO</td>\n",
        "      <td> 2014-05-01</td>\n",
        "      <td>-1</td>\n",
        "      <td> 0.000000</td>\n",
        "      <td> 0.008876</td>\n",
        "      <td>-0.001479</td>\n",
        "      <td>-0.001479</td>\n",
        "      <td> 0.000000</td>\n",
        "      <td> 0.008876</td>\n",
        "      <td>  0.443787</td>\n",
        "      <td>...</td>\n",
        "      <td>-0.441826</td>\n",
        "      <td> -0.683048</td>\n",
        "      <td>  0.087162</td>\n",
        "      <td> 0.000422</td>\n",
        "      <td>-0.000595</td>\n",
        "      <td> 0.004821</td>\n",
        "      <td> -0.122746</td>\n",
        "      <td>  0.000000</td>\n",
        "      <td> -0.000000</td>\n",
        "      <td>-1</td>\n",
        "    </tr>\n",
        "    <tr>\n",
        "      <th>14  </th>\n",
        "      <td> PPBI</td>\n",
        "      <td> 2014-05-01</td>\n",
        "      <td> 0</td>\n",
        "      <td> 0.000000</td>\n",
        "      <td> 0.039560</td>\n",
        "      <td> 0.000000</td>\n",
        "      <td> 0.000000</td>\n",
        "      <td> 0.000000</td>\n",
        "      <td> 0.039560</td>\n",
        "      <td>  1.978022</td>\n",
        "      <td>...</td>\n",
        "      <td>-1.939655</td>\n",
        "      <td> -0.000000</td>\n",
        "      <td>  0.000000</td>\n",
        "      <td> 0.000000</td>\n",
        "      <td>-0.004655</td>\n",
        "      <td> 0.041897</td>\n",
        "      <td> -0.107143</td>\n",
        "      <td>  0.000000</td>\n",
        "      <td> -0.000000</td>\n",
        "      <td>-1</td>\n",
        "    </tr>\n",
        "    <tr>\n",
        "      <th>15  </th>\n",
        "      <td> ZLCS</td>\n",
        "      <td> 2014-05-01</td>\n",
        "      <td> 0</td>\n",
        "      <td> 0.000000</td>\n",
        "      <td> 0.074766</td>\n",
        "      <td> 0.000000</td>\n",
        "      <td>-0.009346</td>\n",
        "      <td> 0.000000</td>\n",
        "      <td> 0.074766</td>\n",
        "      <td>  3.738318</td>\n",
        "      <td>...</td>\n",
        "      <td>-3.603604</td>\n",
        "      <td> -1.449275</td>\n",
        "      <td>  4.000000</td>\n",
        "      <td> 0.002276</td>\n",
        "      <td>-0.001001</td>\n",
        "      <td> 0.000000</td>\n",
        "      <td> -1.760000</td>\n",
        "      <td>  0.000000</td>\n",
        "      <td> -0.000000</td>\n",
        "      <td>-1</td>\n",
        "    </tr>\n",
        "    <tr>\n",
        "      <th>16  </th>\n",
        "      <td> MACK</td>\n",
        "      <td> 2014-05-01</td>\n",
        "      <td>-1</td>\n",
        "      <td>-0.001300</td>\n",
        "      <td> 0.007802</td>\n",
        "      <td>-0.053316</td>\n",
        "      <td>-0.053316</td>\n",
        "      <td>-0.429129</td>\n",
        "      <td> 0.009103</td>\n",
        "      <td> 75.740319</td>\n",
        "      <td>...</td>\n",
        "      <td>-0.324044</td>\n",
        "      <td>  0.000833</td>\n",
        "      <td> -0.001547</td>\n",
        "      <td>-0.000463</td>\n",
        "      <td>-0.555589</td>\n",
        "      <td> 0.299150</td>\n",
        "      <td> -1.856648</td>\n",
        "      <td>-17.252920</td>\n",
        "      <td>  0.311331</td>\n",
        "      <td>-1</td>\n",
        "    </tr>\n",
        "    <tr>\n",
        "      <th>17  </th>\n",
        "      <td>    Z</td>\n",
        "      <td> 2014-05-01</td>\n",
        "      <td>-1</td>\n",
        "      <td> 0.000000</td>\n",
        "      <td> 0.003211</td>\n",
        "      <td>-0.010275</td>\n",
        "      <td>-0.010275</td>\n",
        "      <td>-0.002752</td>\n",
        "      <td> 0.003211</td>\n",
        "      <td>  0.436983</td>\n",
        "      <td>...</td>\n",
        "      <td>-0.160293</td>\n",
        "      <td>  0.002693</td>\n",
        "      <td> -0.003873</td>\n",
        "      <td>-0.000007</td>\n",
        "      <td>-0.002660</td>\n",
        "      <td> 0.001841</td>\n",
        "      <td> -1.423899</td>\n",
        "      <td>  0.000000</td>\n",
        "      <td> -0.000000</td>\n",
        "      <td>-1</td>\n",
        "    </tr>\n",
        "    <tr>\n",
        "      <th>18  </th>\n",
        "      <td> GILD</td>\n",
        "      <td> 2014-05-01</td>\n",
        "      <td>-1</td>\n",
        "      <td> 0.000127</td>\n",
        "      <td> 0.001525</td>\n",
        "      <td>-0.001271</td>\n",
        "      <td>-0.002414</td>\n",
        "      <td>-0.002668</td>\n",
        "      <td> 0.001398</td>\n",
        "      <td>  0.350363</td>\n",
        "      <td>...</td>\n",
        "      <td>-0.082524</td>\n",
        "      <td>  0.001601</td>\n",
        "      <td> -0.000334</td>\n",
        "      <td>-0.000002</td>\n",
        "      <td>-0.001543</td>\n",
        "      <td> 0.007427</td>\n",
        "      <td> -0.207683</td>\n",
        "      <td>  0.004464</td>\n",
        "      <td> -0.001948</td>\n",
        "      <td>-1</td>\n",
        "    </tr>\n",
        "    <tr>\n",
        "      <th>19  </th>\n",
        "      <td> NVMI</td>\n",
        "      <td> 2014-05-01</td>\n",
        "      <td>-1</td>\n",
        "      <td> 0.000000</td>\n",
        "      <td> 0.006635</td>\n",
        "      <td>-0.016114</td>\n",
        "      <td>-0.018957</td>\n",
        "      <td>-0.004739</td>\n",
        "      <td> 0.006635</td>\n",
        "      <td>  0.809524</td>\n",
        "      <td>...</td>\n",
        "      <td>-0.330657</td>\n",
        "      <td> -0.048485</td>\n",
        "      <td>  0.118919</td>\n",
        "      <td> 0.000694</td>\n",
        "      <td>-0.014150</td>\n",
        "      <td> 0.005676</td>\n",
        "      <td> -2.425676</td>\n",
        "      <td>  0.000000</td>\n",
        "      <td> -0.000000</td>\n",
        "      <td>-1</td>\n",
        "    </tr>\n",
        "    <tr>\n",
        "      <th>20  </th>\n",
        "      <td> CAMT</td>\n",
        "      <td> 2014-05-01</td>\n",
        "      <td>-1</td>\n",
        "      <td> 0.000000</td>\n",
        "      <td> 0.006231</td>\n",
        "      <td>-0.006231</td>\n",
        "      <td>-0.006231</td>\n",
        "      <td>-0.031153</td>\n",
        "      <td> 0.006231</td>\n",
        "      <td>  3.536977</td>\n",
        "      <td>...</td>\n",
        "      <td>-0.310559</td>\n",
        "      <td> -0.295122</td>\n",
        "      <td>  0.265157</td>\n",
        "      <td> 0.012516</td>\n",
        "      <td>-0.041260</td>\n",
        "      <td> 0.046053</td>\n",
        "      <td> -0.874117</td>\n",
        "      <td>  0.000000</td>\n",
        "      <td> -0.000000</td>\n",
        "      <td>-1</td>\n",
        "    </tr>\n",
        "    <tr>\n",
        "      <th>21  </th>\n",
        "      <td> PTNR</td>\n",
        "      <td> 2014-05-01</td>\n",
        "      <td> 0</td>\n",
        "      <td> 0.000000</td>\n",
        "      <td> 0.005637</td>\n",
        "      <td> 0.000000</td>\n",
        "      <td>-0.003382</td>\n",
        "      <td> 0.001127</td>\n",
        "      <td> 0.005637</td>\n",
        "      <td>  0.168919</td>\n",
        "      <td>...</td>\n",
        "      <td>-0.281057</td>\n",
        "      <td>  3.328225</td>\n",
        "      <td>-13.030000</td>\n",
        "      <td>-0.132204</td>\n",
        "      <td>-0.034649</td>\n",
        "      <td> 0.005073</td>\n",
        "      <td> -3.415000</td>\n",
        "      <td>  0.000000</td>\n",
        "      <td> -0.000000</td>\n",
        "      <td>-1</td>\n",
        "    </tr>\n",
        "    <tr>\n",
        "      <th>22  </th>\n",
        "      <td> ARUN</td>\n",
        "      <td> 2014-05-01</td>\n",
        "      <td> 0</td>\n",
        "      <td>-0.032080</td>\n",
        "      <td> 0.064160</td>\n",
        "      <td> 0.007519</td>\n",
        "      <td> 0.007519</td>\n",
        "      <td>-0.009023</td>\n",
        "      <td> 0.096241</td>\n",
        "      <td>  2.529084</td>\n",
        "      <td>...</td>\n",
        "      <td>-1.578688</td>\n",
        "      <td>  0.002676</td>\n",
        "      <td>  0.003548</td>\n",
        "      <td> 0.000110</td>\n",
        "      <td> 0.041091</td>\n",
        "      <td> 0.030963</td>\n",
        "      <td>  1.322383</td>\n",
        "      <td> -8.187223</td>\n",
        "      <td> 20.959292</td>\n",
        "      <td> 1</td>\n",
        "    </tr>\n",
        "    <tr>\n",
        "      <th>23  </th>\n",
        "      <td> RPRX</td>\n",
        "      <td> 2014-05-01</td>\n",
        "      <td> 0</td>\n",
        "      <td>-0.082609</td>\n",
        "      <td> 0.003106</td>\n",
        "      <td> 0.003106</td>\n",
        "      <td> 0.049689</td>\n",
        "      <td> 0.047826</td>\n",
        "      <td> 0.085714</td>\n",
        "      <td> -8.358032</td>\n",
        "      <td>...</td>\n",
        "      <td> 4.139715</td>\n",
        "      <td>  0.028222</td>\n",
        "      <td>  0.184049</td>\n",
        "      <td> 0.000685</td>\n",
        "      <td> 0.023816</td>\n",
        "      <td> 0.003265</td>\n",
        "      <td>  6.398773</td>\n",
        "      <td> 65.893198</td>\n",
        "      <td>  2.336638</td>\n",
        "      <td> 1</td>\n",
        "    </tr>\n",
        "    <tr>\n",
        "      <th>24  </th>\n",
        "      <td> QUIK</td>\n",
        "      <td> 2014-05-01</td>\n",
        "      <td> 0</td>\n",
        "      <td>-0.051724</td>\n",
        "      <td> 0.004926</td>\n",
        "      <td> 0.014778</td>\n",
        "      <td> 0.014778</td>\n",
        "      <td> 0.165025</td>\n",
        "      <td> 0.056650</td>\n",
        "      <td>-16.173362</td>\n",
        "      <td>...</td>\n",
        "      <td> 2.395965</td>\n",
        "      <td> -0.082835</td>\n",
        "      <td> -0.012329</td>\n",
        "      <td>-0.001871</td>\n",
        "      <td> 0.022381</td>\n",
        "      <td> 0.151564</td>\n",
        "      <td>  0.147464</td>\n",
        "      <td> 71.805622</td>\n",
        "      <td>  1.877271</td>\n",
        "      <td> 1</td>\n",
        "    </tr>\n",
        "    <tr>\n",
        "      <th>25  </th>\n",
        "      <td> DRYS</td>\n",
        "      <td> 2014-05-01</td>\n",
        "      <td>-1</td>\n",
        "      <td> 0.003390</td>\n",
        "      <td> 0.010169</td>\n",
        "      <td>-0.006780</td>\n",
        "      <td>-0.006780</td>\n",
        "      <td>-0.010169</td>\n",
        "      <td> 0.006780</td>\n",
        "      <td>  1.712329</td>\n",
        "      <td>...</td>\n",
        "      <td>-0.673401</td>\n",
        "      <td> -0.006446</td>\n",
        "      <td>  0.007119</td>\n",
        "      <td> 0.000023</td>\n",
        "      <td>-0.003560</td>\n",
        "      <td> 0.003222</td>\n",
        "      <td> -1.100879</td>\n",
        "      <td>  0.586414</td>\n",
        "      <td> -0.351848</td>\n",
        "      <td>-1</td>\n",
        "    </tr>\n",
        "    <tr>\n",
        "      <th>26  </th>\n",
        "      <td> ESLT</td>\n",
        "      <td> 2014-05-01</td>\n",
        "      <td> 1</td>\n",
        "      <td>-0.003383</td>\n",
        "      <td> 0.000000</td>\n",
        "      <td> 0.001353</td>\n",
        "      <td> 0.001353</td>\n",
        "      <td> 0.001522</td>\n",
        "      <td> 0.003383</td>\n",
        "      <td> -0.320892</td>\n",
        "      <td>...</td>\n",
        "      <td> 0.169434</td>\n",
        "      <td>  1.197605</td>\n",
        "      <td>  5.172414</td>\n",
        "      <td> 0.049772</td>\n",
        "      <td> 0.033264</td>\n",
        "      <td> 0.001327</td>\n",
        "      <td>  3.456897</td>\n",
        "      <td>  0.108391</td>\n",
        "      <td> -0.000000</td>\n",
        "      <td> 1</td>\n",
        "    </tr>\n",
        "    <tr>\n",
        "      <th>27  </th>\n",
        "      <td> FSLR</td>\n",
        "      <td> 2014-05-01</td>\n",
        "      <td>-1</td>\n",
        "      <td> 0.000000</td>\n",
        "      <td> 0.003432</td>\n",
        "      <td>-0.001045</td>\n",
        "      <td>-0.001045</td>\n",
        "      <td> 0.007163</td>\n",
        "      <td> 0.003432</td>\n",
        "      <td> -0.540821</td>\n",
        "      <td>...</td>\n",
        "      <td>-0.171322</td>\n",
        "      <td>  0.018212</td>\n",
        "      <td> -0.005467</td>\n",
        "      <td>-0.000042</td>\n",
        "      <td>-0.002282</td>\n",
        "      <td> 0.007701</td>\n",
        "      <td> -0.294719</td>\n",
        "      <td> -0.000000</td>\n",
        "      <td> -0.000000</td>\n",
        "      <td>-1</td>\n",
        "    </tr>\n",
        "    <tr>\n",
        "      <th>28  </th>\n",
        "      <td>  XIV</td>\n",
        "      <td> 2014-05-01</td>\n",
        "      <td>-1</td>\n",
        "      <td>-0.000917</td>\n",
        "      <td> 0.000000</td>\n",
        "      <td> 0.000000</td>\n",
        "      <td> 0.000000</td>\n",
        "      <td> 0.001835</td>\n",
        "      <td> 0.000917</td>\n",
        "      <td> -0.228938</td>\n",
        "      <td>...</td>\n",
        "      <td> 0.045893</td>\n",
        "      <td>  1.489362</td>\n",
        "      <td>  0.123566</td>\n",
        "      <td> 0.000083</td>\n",
        "      <td> 0.000044</td>\n",
        "      <td> 0.000657</td>\n",
        "      <td>  0.065313</td>\n",
        "      <td>  0.020965</td>\n",
        "      <td> -0.000000</td>\n",
        "      <td> 1</td>\n",
        "    </tr>\n",
        "    <tr>\n",
        "      <th>29  </th>\n",
        "      <td> PNRA</td>\n",
        "      <td> 2014-05-01</td>\n",
        "      <td> 1</td>\n",
        "      <td>-0.002343</td>\n",
        "      <td> 0.000000</td>\n",
        "      <td> 0.001627</td>\n",
        "      <td> 0.001627</td>\n",
        "      <td>-0.004490</td>\n",
        "      <td> 0.002343</td>\n",
        "      <td>  0.333399</td>\n",
        "      <td>...</td>\n",
        "      <td> 0.117279</td>\n",
        "      <td>  0.018138</td>\n",
        "      <td>  0.012414</td>\n",
        "      <td> 0.000035</td>\n",
        "      <td> 0.001865</td>\n",
        "      <td> 0.002743</td>\n",
        "      <td>  0.670621</td>\n",
        "      <td> -0.078462</td>\n",
        "      <td> -0.000000</td>\n",
        "      <td> 1</td>\n",
        "    </tr>\n",
        "    <tr>\n",
        "      <th>...</th>\n",
        "      <td>...</td>\n",
        "      <td>...</td>\n",
        "      <td>...</td>\n",
        "      <td>...</td>\n",
        "      <td>...</td>\n",
        "      <td>...</td>\n",
        "      <td>...</td>\n",
        "      <td>...</td>\n",
        "      <td>...</td>\n",
        "      <td>...</td>\n",
        "      <td>...</td>\n",
        "      <td>...</td>\n",
        "      <td>...</td>\n",
        "      <td>...</td>\n",
        "      <td>...</td>\n",
        "      <td>...</td>\n",
        "      <td>...</td>\n",
        "      <td>...</td>\n",
        "      <td>...</td>\n",
        "      <td>...</td>\n",
        "      <td>...</td>\n",
        "    </tr>\n",
        "    <tr>\n",
        "      <th>5035</th>\n",
        "      <td> CGEN</td>\n",
        "      <td> 2014-06-30</td>\n",
        "      <td>-1</td>\n",
        "      <td> 0.000000</td>\n",
        "      <td> 0.002200</td>\n",
        "      <td>-0.001100</td>\n",
        "      <td>-0.001100</td>\n",
        "      <td> 0.004400</td>\n",
        "      <td> 0.002200</td>\n",
        "      <td> -0.328587</td>\n",
        "      <td>...</td>\n",
        "      <td>-0.109890</td>\n",
        "      <td> -1.331553</td>\n",
        "      <td>  0.603520</td>\n",
        "      <td> 0.023923</td>\n",
        "      <td>-0.017094</td>\n",
        "      <td> 0.038767</td>\n",
        "      <td> -0.431243</td>\n",
        "      <td> -0.000000</td>\n",
        "      <td> -0.000000</td>\n",
        "      <td>-1</td>\n",
        "    </tr>\n",
        "    <tr>\n",
        "      <th>5036</th>\n",
        "      <td> FIVE</td>\n",
        "      <td> 2014-06-30</td>\n",
        "      <td> 1</td>\n",
        "      <td>-0.040277</td>\n",
        "      <td> 0.011801</td>\n",
        "      <td> 0.013340</td>\n",
        "      <td> 0.013340</td>\n",
        "      <td> 0.022063</td>\n",
        "      <td> 0.052078</td>\n",
        "      <td> -3.551707</td>\n",
        "      <td>...</td>\n",
        "      <td> 1.444372</td>\n",
        "      <td>  0.014449</td>\n",
        "      <td>  0.021464</td>\n",
        "      <td> 0.000133</td>\n",
        "      <td> 0.009093</td>\n",
        "      <td> 0.006078</td>\n",
        "      <td>  1.464048</td>\n",
        "      <td> 13.996435</td>\n",
        "      <td>  4.550078</td>\n",
        "      <td> 1</td>\n",
        "    </tr>\n",
        "    <tr>\n",
        "      <th>5037</th>\n",
        "      <td> SFXE</td>\n",
        "      <td> 2014-06-30</td>\n",
        "      <td> 0</td>\n",
        "      <td>-0.003856</td>\n",
        "      <td> 0.091260</td>\n",
        "      <td> 0.008997</td>\n",
        "      <td> 0.008997</td>\n",
        "      <td>-0.019280</td>\n",
        "      <td> 0.095116</td>\n",
        "      <td>  6.422018</td>\n",
        "      <td>...</td>\n",
        "      <td>-4.187192</td>\n",
        "      <td> -0.070154</td>\n",
        "      <td> -0.116868</td>\n",
        "      <td>-0.001023</td>\n",
        "      <td> 0.014475</td>\n",
        "      <td> 0.008643</td>\n",
        "      <td>  1.652902</td>\n",
        "      <td> -2.525040</td>\n",
        "      <td>  3.658731</td>\n",
        "      <td> 1</td>\n",
        "    </tr>\n",
        "    <tr>\n",
        "      <th>5038</th>\n",
        "      <td> PSTI</td>\n",
        "      <td> 2014-06-30</td>\n",
        "      <td>-1</td>\n",
        "      <td> 0.000000</td>\n",
        "      <td> 0.015924</td>\n",
        "      <td>-0.006369</td>\n",
        "      <td>-0.006369</td>\n",
        "      <td>-0.006369</td>\n",
        "      <td> 0.015924</td>\n",
        "      <td>  1.442308</td>\n",
        "      <td>...</td>\n",
        "      <td>-0.789889</td>\n",
        "      <td> -0.778859</td>\n",
        "      <td>  0.793065</td>\n",
        "      <td> 0.026250</td>\n",
        "      <td>-0.032958</td>\n",
        "      <td> 0.032354</td>\n",
        "      <td> -0.995722</td>\n",
        "      <td>  0.000000</td>\n",
        "      <td> -0.000000</td>\n",
        "      <td>-1</td>\n",
        "    </tr>\n",
        "    <tr>\n",
        "      <th>5039</th>\n",
        "      <td> IMGN</td>\n",
        "      <td> 2014-06-30</td>\n",
        "      <td>-1</td>\n",
        "      <td> 0.000000</td>\n",
        "      <td> 0.005833</td>\n",
        "      <td>-0.008333</td>\n",
        "      <td>-0.008333</td>\n",
        "      <td>-0.007500</td>\n",
        "      <td> 0.005833</td>\n",
        "      <td>  1.049538</td>\n",
        "      <td>...</td>\n",
        "      <td>-0.290818</td>\n",
        "      <td>  0.021272</td>\n",
        "      <td> -0.024453</td>\n",
        "      <td>-0.000313</td>\n",
        "      <td>-0.014564</td>\n",
        "      <td> 0.012650</td>\n",
        "      <td> -1.137303</td>\n",
        "      <td>  0.000000</td>\n",
        "      <td> -0.000000</td>\n",
        "      <td>-1</td>\n",
        "    </tr>\n",
        "    <tr>\n",
        "      <th>5040</th>\n",
        "      <td> TQQQ</td>\n",
        "      <td> 2014-06-30</td>\n",
        "      <td> 1</td>\n",
        "      <td>-0.000672</td>\n",
        "      <td>-0.000134</td>\n",
        "      <td> 0.000538</td>\n",
        "      <td> 0.002286</td>\n",
        "      <td>-0.001748</td>\n",
        "      <td> 0.000538</td>\n",
        "      <td>  0.134716</td>\n",
        "      <td>...</td>\n",
        "      <td> 0.040361</td>\n",
        "      <td> -0.554977</td>\n",
        "      <td> -0.361909</td>\n",
        "      <td>-0.001410</td>\n",
        "      <td> 0.002453</td>\n",
        "      <td> 0.003808</td>\n",
        "      <td>  0.629496</td>\n",
        "      <td> -0.009074</td>\n",
        "      <td> -0.000907</td>\n",
        "      <td> 1</td>\n",
        "    </tr>\n",
        "    <tr>\n",
        "      <th>5041</th>\n",
        "      <td>  DWA</td>\n",
        "      <td> 2014-06-30</td>\n",
        "      <td> 0</td>\n",
        "      <td>-0.025952</td>\n",
        "      <td> 0.002512</td>\n",
        "      <td> 0.004186</td>\n",
        "      <td> 0.004186</td>\n",
        "      <td>-0.046044</td>\n",
        "      <td> 0.028464</td>\n",
        "      <td>  3.598069</td>\n",
        "      <td>...</td>\n",
        "      <td> 1.185938</td>\n",
        "      <td>  0.000000</td>\n",
        "      <td>  0.000000</td>\n",
        "      <td> 0.000000</td>\n",
        "      <td> 0.009171</td>\n",
        "      <td> 0.039263</td>\n",
        "      <td>  0.233075</td>\n",
        "      <td> -9.788517</td>\n",
        "      <td>  0.716233</td>\n",
        "      <td> 1</td>\n",
        "    </tr>\n",
        "    <tr>\n",
        "      <th>5042</th>\n",
        "      <td> MANH</td>\n",
        "      <td> 2014-06-30</td>\n",
        "      <td> 0</td>\n",
        "      <td>-0.050117</td>\n",
        "      <td> 0.015734</td>\n",
        "      <td>-0.002622</td>\n",
        "      <td>-0.002622</td>\n",
        "      <td> 0.002331</td>\n",
        "      <td> 0.065851</td>\n",
        "      <td> -1.947674</td>\n",
        "      <td>...</td>\n",
        "      <td> 1.749185</td>\n",
        "      <td> -0.938835</td>\n",
        "      <td>  0.706097</td>\n",
        "      <td> 0.003347</td>\n",
        "      <td>-0.003392</td>\n",
        "      <td> 0.004567</td>\n",
        "      <td> -0.715590</td>\n",
        "      <td>  9.738372</td>\n",
        "      <td>  7.848837</td>\n",
        "      <td>-1</td>\n",
        "    </tr>\n",
        "    <tr>\n",
        "      <th>5043</th>\n",
        "      <td> ECOL</td>\n",
        "      <td> 2014-06-30</td>\n",
        "      <td> 0</td>\n",
        "      <td>-0.056217</td>\n",
        "      <td> 0.046368</td>\n",
        "      <td> 0.000000</td>\n",
        "      <td>-0.000205</td>\n",
        "      <td> 0.005129</td>\n",
        "      <td> 0.102585</td>\n",
        "      <td> -1.000204</td>\n",
        "      <td>...</td>\n",
        "      <td> 0.494845</td>\n",
        "      <td>  0.500000</td>\n",
        "      <td> -0.067714</td>\n",
        "      <td>-0.000850</td>\n",
        "      <td>-0.001021</td>\n",
        "      <td> 0.011879</td>\n",
        "      <td> -0.081257</td>\n",
        "      <td>  5.594120</td>\n",
        "      <td> 25.801451</td>\n",
        "      <td>-1</td>\n",
        "    </tr>\n",
        "    <tr>\n",
        "      <th>5044</th>\n",
        "      <td>   FB</td>\n",
        "      <td> 2014-06-30</td>\n",
        "      <td>-1</td>\n",
        "      <td> 0.000000</td>\n",
        "      <td> 0.000148</td>\n",
        "      <td>-0.000593</td>\n",
        "      <td>-0.000593</td>\n",
        "      <td> 0.001778</td>\n",
        "      <td> 0.000148</td>\n",
        "      <td> -0.170118</td>\n",
        "      <td>...</td>\n",
        "      <td>-0.007409</td>\n",
        "      <td>  0.015999</td>\n",
        "      <td> -0.003439</td>\n",
        "      <td>-0.000018</td>\n",
        "      <td>-0.001146</td>\n",
        "      <td> 0.005345</td>\n",
        "      <td> -0.214257</td>\n",
        "      <td> -0.000000</td>\n",
        "      <td> -0.000000</td>\n",
        "      <td>-1</td>\n",
        "    </tr>\n",
        "    <tr>\n",
        "      <th>5045</th>\n",
        "      <td>   MU</td>\n",
        "      <td> 2014-06-30</td>\n",
        "      <td> 1</td>\n",
        "      <td>-0.004386</td>\n",
        "      <td>-0.003759</td>\n",
        "      <td> 0.006892</td>\n",
        "      <td> 0.012218</td>\n",
        "      <td>-0.012845</td>\n",
        "      <td> 0.000627</td>\n",
        "      <td>  0.888607</td>\n",
        "      <td>...</td>\n",
        "      <td> 0.408934</td>\n",
        "      <td>  0.001273</td>\n",
        "      <td>  0.001114</td>\n",
        "      <td> 0.000006</td>\n",
        "      <td> 0.005054</td>\n",
        "      <td> 0.005780</td>\n",
        "      <td>  0.873998</td>\n",
        "      <td> -0.394811</td>\n",
        "      <td> -0.169205</td>\n",
        "      <td> 1</td>\n",
        "    </tr>\n",
        "    <tr>\n",
        "      <th>5046</th>\n",
        "      <td> INCY</td>\n",
        "      <td> 2014-06-30</td>\n",
        "      <td> 1</td>\n",
        "      <td>-0.023827</td>\n",
        "      <td> 0.000000</td>\n",
        "      <td> 0.006679</td>\n",
        "      <td> 0.006679</td>\n",
        "      <td> 0.002166</td>\n",
        "      <td> 0.023827</td>\n",
        "      <td> -1.404899</td>\n",
        "      <td>...</td>\n",
        "      <td> 1.205700</td>\n",
        "      <td> -0.010722</td>\n",
        "      <td> -0.015869</td>\n",
        "      <td>-0.000059</td>\n",
        "      <td> 0.005369</td>\n",
        "      <td> 0.003596</td>\n",
        "      <td>  1.453584</td>\n",
        "      <td>  3.340178</td>\n",
        "      <td> -0.000000</td>\n",
        "      <td> 1</td>\n",
        "    </tr>\n",
        "    <tr>\n",
        "      <th>5047</th>\n",
        "      <td> NEON</td>\n",
        "      <td> 2014-06-30</td>\n",
        "      <td>-1</td>\n",
        "      <td>-0.003247</td>\n",
        "      <td> 0.016234</td>\n",
        "      <td>-0.009740</td>\n",
        "      <td>-0.009740</td>\n",
        "      <td> 0.035714</td>\n",
        "      <td> 0.019481</td>\n",
        "      <td> -2.821317</td>\n",
        "      <td>...</td>\n",
        "      <td>-0.645161</td>\n",
        "      <td> -0.388688</td>\n",
        "      <td>  0.123236</td>\n",
        "      <td> 0.003400</td>\n",
        "      <td>-0.008630</td>\n",
        "      <td> 0.027471</td>\n",
        "      <td> -0.312808</td>\n",
        "      <td>  0.884425</td>\n",
        "      <td>  0.491347</td>\n",
        "      <td>-1</td>\n",
        "    </tr>\n",
        "    <tr>\n",
        "      <th>5048</th>\n",
        "      <td>  FSC</td>\n",
        "      <td> 2014-06-30</td>\n",
        "      <td> 1</td>\n",
        "      <td>-0.003061</td>\n",
        "      <td> 0.002041</td>\n",
        "      <td> 0.006122</td>\n",
        "      <td> 0.006122</td>\n",
        "      <td> 0.000000</td>\n",
        "      <td> 0.005102</td>\n",
        "      <td> -0.051020</td>\n",
        "      <td>...</td>\n",
        "      <td> 0.051046</td>\n",
        "      <td>  0.000000</td>\n",
        "      <td>  0.000000</td>\n",
        "      <td> 0.000000</td>\n",
        "      <td> 0.016454</td>\n",
        "      <td> 0.012837</td>\n",
        "      <td>  1.278918</td>\n",
        "      <td>  0.015618</td>\n",
        "      <td>  0.062474</td>\n",
        "      <td> 1</td>\n",
        "    </tr>\n",
        "    <tr>\n",
        "      <th>5049</th>\n",
        "      <td> LOGI</td>\n",
        "      <td> 2014-06-30</td>\n",
        "      <td> 0</td>\n",
        "      <td>-0.004640</td>\n",
        "      <td> 0.000000</td>\n",
        "      <td> 0.000773</td>\n",
        "      <td> 0.002320</td>\n",
        "      <td> 0.008507</td>\n",
        "      <td> 0.004640</td>\n",
        "      <td> -1.073620</td>\n",
        "      <td>...</td>\n",
        "      <td> 0.232558</td>\n",
        "      <td>  0.000000</td>\n",
        "      <td>  0.000000</td>\n",
        "      <td> 0.000000</td>\n",
        "      <td> 0.005730</td>\n",
        "      <td> 0.005588</td>\n",
        "      <td>  0.982353</td>\n",
        "      <td>  0.493997</td>\n",
        "      <td> -0.000000</td>\n",
        "      <td> 1</td>\n",
        "    </tr>\n",
        "    <tr>\n",
        "      <th>5050</th>\n",
        "      <td> DRRX</td>\n",
        "      <td> 2014-06-30</td>\n",
        "      <td> 1</td>\n",
        "      <td>-0.048913</td>\n",
        "      <td>-0.010870</td>\n",
        "      <td> 0.059783</td>\n",
        "      <td> 0.059783</td>\n",
        "      <td>-0.065217</td>\n",
        "      <td> 0.038043</td>\n",
        "      <td>  3.779070</td>\n",
        "      <td>...</td>\n",
        "      <td> 3.081232</td>\n",
        "      <td>  0.024126</td>\n",
        "      <td>  0.034437</td>\n",
        "      <td> 0.001360</td>\n",
        "      <td> 0.056292</td>\n",
        "      <td> 0.039419</td>\n",
        "      <td>  1.425723</td>\n",
        "      <td>-19.774202</td>\n",
        "      <td> -6.084370</td>\n",
        "      <td> 1</td>\n",
        "    </tr>\n",
        "    <tr>\n",
        "      <th>5051</th>\n",
        "      <td> VRNG</td>\n",
        "      <td> 2014-06-30</td>\n",
        "      <td> 1</td>\n",
        "      <td>-0.008721</td>\n",
        "      <td> 0.000000</td>\n",
        "      <td> 0.005814</td>\n",
        "      <td> 0.005814</td>\n",
        "      <td>-0.011628</td>\n",
        "      <td> 0.008721</td>\n",
        "      <td>  0.735294</td>\n",
        "      <td>...</td>\n",
        "      <td> 0.437956</td>\n",
        "      <td>  0.000000</td>\n",
        "      <td>  0.000000</td>\n",
        "      <td> 0.000000</td>\n",
        "      <td> 0.027866</td>\n",
        "      <td> 0.016894</td>\n",
        "      <td>  1.639475</td>\n",
        "      <td> -0.648789</td>\n",
        "      <td> -0.000000</td>\n",
        "      <td> 1</td>\n",
        "    </tr>\n",
        "    <tr>\n",
        "      <th>5052</th>\n",
        "      <td> FBMS</td>\n",
        "      <td> 2014-06-30</td>\n",
        "      <td> 0</td>\n",
        "      <td>-0.001406</td>\n",
        "      <td> 0.008439</td>\n",
        "      <td> 0.000000</td>\n",
        "      <td>-0.000703</td>\n",
        "      <td> 0.009142</td>\n",
        "      <td> 0.009845</td>\n",
        "      <td> -0.557491</td>\n",
        "      <td>...</td>\n",
        "      <td>-0.350385</td>\n",
        "      <td> 13.745763</td>\n",
        "      <td>-16.220000</td>\n",
        "      <td>-4.607955</td>\n",
        "      <td>-0.051136</td>\n",
        "      <td> 0.000000</td>\n",
        "      <td> -0.180000</td>\n",
        "      <td>  0.077699</td>\n",
        "      <td>  0.116549</td>\n",
        "      <td>-1</td>\n",
        "    </tr>\n",
        "    <tr>\n",
        "      <th>5053</th>\n",
        "      <td> CREE</td>\n",
        "      <td> 2014-06-30</td>\n",
        "      <td> 1</td>\n",
        "      <td>-0.006993</td>\n",
        "      <td> 0.000000</td>\n",
        "      <td> 0.001440</td>\n",
        "      <td> 0.001440</td>\n",
        "      <td>-0.002879</td>\n",
        "      <td> 0.006993</td>\n",
        "      <td> -0.061881</td>\n",
        "      <td>...</td>\n",
        "      <td> 0.350877</td>\n",
        "      <td>  0.000000</td>\n",
        "      <td>  0.000000</td>\n",
        "      <td> 0.000000</td>\n",
        "      <td> 0.005350</td>\n",
        "      <td> 0.007969</td>\n",
        "      <td>  0.667878</td>\n",
        "      <td>  0.043399</td>\n",
        "      <td> -0.000000</td>\n",
        "      <td> 1</td>\n",
        "    </tr>\n",
        "    <tr>\n",
        "      <th>5054</th>\n",
        "      <td> IGLD</td>\n",
        "      <td> 2014-06-30</td>\n",
        "      <td> 1</td>\n",
        "      <td>-0.008596</td>\n",
        "      <td> 0.000000</td>\n",
        "      <td> 0.010506</td>\n",
        "      <td> 0.010506</td>\n",
        "      <td> 0.003820</td>\n",
        "      <td> 0.008596</td>\n",
        "      <td> -0.808754</td>\n",
        "      <td>...</td>\n",
        "      <td> 0.431655</td>\n",
        "      <td> -1.268331</td>\n",
        "      <td> -3.927536</td>\n",
        "      <td>-0.257197</td>\n",
        "      <td> 0.171148</td>\n",
        "      <td> 0.033850</td>\n",
        "      <td>  2.613527</td>\n",
        "      <td>  0.692558</td>\n",
        "      <td> -0.000000</td>\n",
        "      <td> 1</td>\n",
        "    </tr>\n",
        "    <tr>\n",
        "      <th>5055</th>\n",
        "      <td>  CME</td>\n",
        "      <td> 2014-06-30</td>\n",
        "      <td> 0</td>\n",
        "      <td>-0.012293</td>\n",
        "      <td> 0.017380</td>\n",
        "      <td> 0.001130</td>\n",
        "      <td> 0.001130</td>\n",
        "      <td>-0.004946</td>\n",
        "      <td> 0.029674</td>\n",
        "      <td>  0.752627</td>\n",
        "      <td>...</td>\n",
        "      <td>-0.253700</td>\n",
        "      <td>  0.014314</td>\n",
        "      <td>  0.006053</td>\n",
        "      <td> 0.000097</td>\n",
        "      <td> 0.006729</td>\n",
        "      <td> 0.016002</td>\n",
        "      <td>  0.418829</td>\n",
        "      <td> -0.929829</td>\n",
        "      <td>  2.157905</td>\n",
        "      <td> 1</td>\n",
        "    </tr>\n",
        "    <tr>\n",
        "      <th>5056</th>\n",
        "      <td> TSCO</td>\n",
        "      <td> 2014-06-30</td>\n",
        "      <td>-1</td>\n",
        "      <td> 0.000000</td>\n",
        "      <td> 0.011990</td>\n",
        "      <td>-0.000833</td>\n",
        "      <td>-0.000833</td>\n",
        "      <td> 0.002831</td>\n",
        "      <td> 0.011990</td>\n",
        "      <td>  0.315510</td>\n",
        "      <td>...</td>\n",
        "      <td>-0.595928</td>\n",
        "      <td> -0.008133</td>\n",
        "      <td>  0.002008</td>\n",
        "      <td> 0.000020</td>\n",
        "      <td>-0.002388</td>\n",
        "      <td> 0.009812</td>\n",
        "      <td> -0.242300</td>\n",
        "      <td>  0.000000</td>\n",
        "      <td> -0.000000</td>\n",
        "      <td>-1</td>\n",
        "    </tr>\n",
        "    <tr>\n",
        "      <th>5057</th>\n",
        "      <td> AVNW</td>\n",
        "      <td> 2014-06-30</td>\n",
        "      <td> 0</td>\n",
        "      <td>-0.008264</td>\n",
        "      <td> 0.033058</td>\n",
        "      <td>-0.016529</td>\n",
        "      <td>-0.016529</td>\n",
        "      <td> 0.033058</td>\n",
        "      <td> 0.041322</td>\n",
        "      <td> -2.000000</td>\n",
        "      <td>...</td>\n",
        "      <td>-1.224490</td>\n",
        "      <td>  0.077821</td>\n",
        "      <td> -0.127551</td>\n",
        "      <td>-0.000737</td>\n",
        "      <td>-0.009324</td>\n",
        "      <td> 0.005631</td>\n",
        "      <td> -1.613520</td>\n",
        "      <td>  1.600000</td>\n",
        "      <td>  2.560000</td>\n",
        "      <td>-1</td>\n",
        "    </tr>\n",
        "    <tr>\n",
        "      <th>5058</th>\n",
        "      <td> CHTR</td>\n",
        "      <td> 2014-06-30</td>\n",
        "      <td> 0</td>\n",
        "      <td>-0.012864</td>\n",
        "      <td> 0.045469</td>\n",
        "      <td>-0.006113</td>\n",
        "      <td>-0.006113</td>\n",
        "      <td>-0.013946</td>\n",
        "      <td> 0.058333</td>\n",
        "      <td>  3.067683</td>\n",
        "      <td>...</td>\n",
        "      <td>-1.604111</td>\n",
        "      <td> -0.000000</td>\n",
        "      <td>  0.000000</td>\n",
        "      <td> 0.000000</td>\n",
        "      <td>-0.004901</td>\n",
        "      <td> 0.004046</td>\n",
        "      <td> -1.188145</td>\n",
        "      <td> -4.002014</td>\n",
        "      <td>  6.015660</td>\n",
        "      <td>-1</td>\n",
        "    </tr>\n",
        "    <tr>\n",
        "      <th>5059</th>\n",
        "      <td> PHMD</td>\n",
        "      <td> 2014-06-30</td>\n",
        "      <td> 0</td>\n",
        "      <td>-0.004143</td>\n",
        "      <td> 0.000000</td>\n",
        "      <td> 0.000000</td>\n",
        "      <td> 0.004143</td>\n",
        "      <td> 0.009114</td>\n",
        "      <td> 0.004143</td>\n",
        "      <td> -1.108374</td>\n",
        "      <td>...</td>\n",
        "      <td> 0.207555</td>\n",
        "      <td> -5.314578</td>\n",
        "      <td> -5.886686</td>\n",
        "      <td>-0.043264</td>\n",
        "      <td> 0.006059</td>\n",
        "      <td> 0.005267</td>\n",
        "      <td>  0.824363</td>\n",
        "      <td>  0.454998</td>\n",
        "      <td> -0.000000</td>\n",
        "      <td> 1</td>\n",
        "    </tr>\n",
        "    <tr>\n",
        "      <th>5060</th>\n",
        "      <td> ACRX</td>\n",
        "      <td> 2014-06-30</td>\n",
        "      <td> 0</td>\n",
        "      <td>-0.031915</td>\n",
        "      <td> 0.070600</td>\n",
        "      <td> 0.010638</td>\n",
        "      <td> 0.010638</td>\n",
        "      <td>-0.008704</td>\n",
        "      <td> 0.102515</td>\n",
        "      <td>  2.829268</td>\n",
        "      <td>...</td>\n",
        "      <td>-1.897533</td>\n",
        "      <td>  0.000000</td>\n",
        "      <td>  0.000000</td>\n",
        "      <td> 0.000000</td>\n",
        "      <td> 0.012701</td>\n",
        "      <td> 0.023137</td>\n",
        "      <td>  0.545360</td>\n",
        "      <td> -9.108864</td>\n",
        "      <td> 22.929209</td>\n",
        "      <td> 1</td>\n",
        "    </tr>\n",
        "    <tr>\n",
        "      <th>5061</th>\n",
        "      <td> DTSI</td>\n",
        "      <td> 2014-06-30</td>\n",
        "      <td> 0</td>\n",
        "      <td>-0.001624</td>\n",
        "      <td> 0.191121</td>\n",
        "      <td>-0.001083</td>\n",
        "      <td>-0.001083</td>\n",
        "      <td> 0.009746</td>\n",
        "      <td> 0.192745</td>\n",
        "      <td>  8.418231</td>\n",
        "      <td>...</td>\n",
        "      <td>-8.654797</td>\n",
        "      <td>  0.327394</td>\n",
        "      <td> -0.065508</td>\n",
        "      <td>-0.002593</td>\n",
        "      <td>-0.007038</td>\n",
        "      <td> 0.038698</td>\n",
        "      <td> -0.177807</td>\n",
        "      <td> -1.354139</td>\n",
        "      <td>  3.044656</td>\n",
        "      <td>-1</td>\n",
        "    </tr>\n",
        "    <tr>\n",
        "      <th>5062</th>\n",
        "      <td> IXYS</td>\n",
        "      <td> 2014-06-30</td>\n",
        "      <td> 0</td>\n",
        "      <td> 0.000000</td>\n",
        "      <td> 0.024741</td>\n",
        "      <td> 0.000000</td>\n",
        "      <td>-0.002394</td>\n",
        "      <td>-0.048683</td>\n",
        "      <td> 0.024741</td>\n",
        "      <td>  6.417785</td>\n",
        "      <td>...</td>\n",
        "      <td>-1.221916</td>\n",
        "      <td>  1.002865</td>\n",
        "      <td> -0.071861</td>\n",
        "      <td>-0.002401</td>\n",
        "      <td>-0.002051</td>\n",
        "      <td> 0.033069</td>\n",
        "      <td> -0.061390</td>\n",
        "      <td>  0.000000</td>\n",
        "      <td> -0.000000</td>\n",
        "      <td>-1</td>\n",
        "    </tr>\n",
        "    <tr>\n",
        "      <th>5063</th>\n",
        "      <td> GMCR</td>\n",
        "      <td> 2014-06-30</td>\n",
        "      <td>-1</td>\n",
        "      <td> 0.000000</td>\n",
        "      <td> 0.017252</td>\n",
        "      <td>-0.000160</td>\n",
        "      <td>-0.000160</td>\n",
        "      <td> 0.000399</td>\n",
        "      <td> 0.017252</td>\n",
        "      <td>  0.822355</td>\n",
        "      <td>...</td>\n",
        "      <td>-0.855242</td>\n",
        "      <td>  0.077821</td>\n",
        "      <td> -0.008902</td>\n",
        "      <td>-0.000075</td>\n",
        "      <td>-0.000887</td>\n",
        "      <td> 0.008336</td>\n",
        "      <td> -0.105493</td>\n",
        "      <td>  0.000000</td>\n",
        "      <td> -0.000000</td>\n",
        "      <td>-1</td>\n",
        "    </tr>\n",
        "    <tr>\n",
        "      <th>5064</th>\n",
        "      <td> CORE</td>\n",
        "      <td> 2014-06-30</td>\n",
        "      <td> 0</td>\n",
        "      <td>-0.085455</td>\n",
        "      <td> 0.098074</td>\n",
        "      <td>-0.000221</td>\n",
        "      <td>-0.000443</td>\n",
        "      <td> 0.007527</td>\n",
        "      <td> 0.183529</td>\n",
        "      <td> -0.120853</td>\n",
        "      <td>...</td>\n",
        "      <td>-0.626994</td>\n",
        "      <td> -0.274725</td>\n",
        "      <td>  0.023613</td>\n",
        "      <td> 0.000465</td>\n",
        "      <td>-0.001228</td>\n",
        "      <td> 0.019238</td>\n",
        "      <td> -0.062338</td>\n",
        "      <td>  1.025029</td>\n",
        "      <td> 82.561459</td>\n",
        "      <td>-1</td>\n",
        "    </tr>\n",
        "  </tbody>\n",
        "</table>\n",
        "<p>5065 rows \u00d7 25 columns</p>\n",
        "</div>"
       ],
       "metadata": {},
       "output_type": "pyout",
       "prompt_number": 57,
       "text": [
        "     Symbol        Date  Move       Bid       Ask      Near       Far  \\\n",
        "0      SIRI  2014-05-01    -1  0.000000  0.003145 -0.003145 -0.003145   \n",
        "1      CBAK  2014-05-01     1 -0.040323  0.000000  0.008065  0.008065   \n",
        "2      VTWV  2014-05-01    -1  0.000000  0.004699  0.000000 -0.001175   \n",
        "3      AFSI  2014-05-01    -1  0.000000  0.012146 -0.013158 -0.019484   \n",
        "4       IRG  2014-05-01     1 -0.047619  0.018367  0.037415  0.037415   \n",
        "5      AAPL  2014-05-01     1  0.000000  0.000558 -0.000642 -0.000642   \n",
        "6      FUEL  2014-05-01     0 -0.004312  0.001232  0.000616  0.001232   \n",
        "7      EGLE  2014-05-01     0  0.000000  0.047458  0.000000 -0.006780   \n",
        "8      ZGNX  2014-05-01    -1  0.000000  0.044177 -0.004016 -0.004016   \n",
        "9      STMP  2014-05-01    -1 -0.016250  0.100747 -0.033474 -0.033474   \n",
        "10     GSOL  2014-05-01     0 -0.043011  0.000000 -0.032258 -0.032258   \n",
        "11     RJET  2014-05-01     0 -0.014168  0.056671  0.002361  0.002361   \n",
        "12     PHMD  2014-05-01    -1  0.000000  0.004608 -0.003950 -0.003950   \n",
        "13     GOGO  2014-05-01    -1  0.000000  0.008876 -0.001479 -0.001479   \n",
        "14     PPBI  2014-05-01     0  0.000000  0.039560  0.000000  0.000000   \n",
        "15     ZLCS  2014-05-01     0  0.000000  0.074766  0.000000 -0.009346   \n",
        "16     MACK  2014-05-01    -1 -0.001300  0.007802 -0.053316 -0.053316   \n",
        "17        Z  2014-05-01    -1  0.000000  0.003211 -0.010275 -0.010275   \n",
        "18     GILD  2014-05-01    -1  0.000127  0.001525 -0.001271 -0.002414   \n",
        "19     NVMI  2014-05-01    -1  0.000000  0.006635 -0.016114 -0.018957   \n",
        "20     CAMT  2014-05-01    -1  0.000000  0.006231 -0.006231 -0.006231   \n",
        "21     PTNR  2014-05-01     0  0.000000  0.005637  0.000000 -0.003382   \n",
        "22     ARUN  2014-05-01     0 -0.032080  0.064160  0.007519  0.007519   \n",
        "23     RPRX  2014-05-01     0 -0.082609  0.003106  0.003106  0.049689   \n",
        "24     QUIK  2014-05-01     0 -0.051724  0.004926  0.014778  0.014778   \n",
        "25     DRYS  2014-05-01    -1  0.003390  0.010169 -0.006780 -0.006780   \n",
        "26     ESLT  2014-05-01     1 -0.003383  0.000000  0.001353  0.001353   \n",
        "27     FSLR  2014-05-01    -1  0.000000  0.003432 -0.001045 -0.001045   \n",
        "28      XIV  2014-05-01    -1 -0.000917  0.000000  0.000000  0.000000   \n",
        "29     PNRA  2014-05-01     1 -0.002343  0.000000  0.001627  0.001627   \n",
        "...     ...         ...   ...       ...       ...       ...       ...   \n",
        "5035   CGEN  2014-06-30    -1  0.000000  0.002200 -0.001100 -0.001100   \n",
        "5036   FIVE  2014-06-30     1 -0.040277  0.011801  0.013340  0.013340   \n",
        "5037   SFXE  2014-06-30     0 -0.003856  0.091260  0.008997  0.008997   \n",
        "5038   PSTI  2014-06-30    -1  0.000000  0.015924 -0.006369 -0.006369   \n",
        "5039   IMGN  2014-06-30    -1  0.000000  0.005833 -0.008333 -0.008333   \n",
        "5040   TQQQ  2014-06-30     1 -0.000672 -0.000134  0.000538  0.002286   \n",
        "5041    DWA  2014-06-30     0 -0.025952  0.002512  0.004186  0.004186   \n",
        "5042   MANH  2014-06-30     0 -0.050117  0.015734 -0.002622 -0.002622   \n",
        "5043   ECOL  2014-06-30     0 -0.056217  0.046368  0.000000 -0.000205   \n",
        "5044     FB  2014-06-30    -1  0.000000  0.000148 -0.000593 -0.000593   \n",
        "5045     MU  2014-06-30     1 -0.004386 -0.003759  0.006892  0.012218   \n",
        "5046   INCY  2014-06-30     1 -0.023827  0.000000  0.006679  0.006679   \n",
        "5047   NEON  2014-06-30    -1 -0.003247  0.016234 -0.009740 -0.009740   \n",
        "5048    FSC  2014-06-30     1 -0.003061  0.002041  0.006122  0.006122   \n",
        "5049   LOGI  2014-06-30     0 -0.004640  0.000000  0.000773  0.002320   \n",
        "5050   DRRX  2014-06-30     1 -0.048913 -0.010870  0.059783  0.059783   \n",
        "5051   VRNG  2014-06-30     1 -0.008721  0.000000  0.005814  0.005814   \n",
        "5052   FBMS  2014-06-30     0 -0.001406  0.008439  0.000000 -0.000703   \n",
        "5053   CREE  2014-06-30     1 -0.006993  0.000000  0.001440  0.001440   \n",
        "5054   IGLD  2014-06-30     1 -0.008596  0.000000  0.010506  0.010506   \n",
        "5055    CME  2014-06-30     0 -0.012293  0.017380  0.001130  0.001130   \n",
        "5056   TSCO  2014-06-30    -1  0.000000  0.011990 -0.000833 -0.000833   \n",
        "5057   AVNW  2014-06-30     0 -0.008264  0.033058 -0.016529 -0.016529   \n",
        "5058   CHTR  2014-06-30     0 -0.012864  0.045469 -0.006113 -0.006113   \n",
        "5059   PHMD  2014-06-30     0 -0.004143  0.000000  0.000000  0.004143   \n",
        "5060   ACRX  2014-06-30     0 -0.031915  0.070600  0.010638  0.010638   \n",
        "5061   DTSI  2014-06-30     0 -0.001624  0.191121 -0.001083 -0.001083   \n",
        "5062   IXYS  2014-06-30     0  0.000000  0.024741  0.000000 -0.002394   \n",
        "5063   GMCR  2014-06-30    -1  0.000000  0.017252 -0.000160 -0.000160   \n",
        "5064   CORE  2014-06-30     0 -0.085455  0.098074 -0.000221 -0.000443   \n",
        "\n",
        "       PrevCLC    Spread         D3    ...           D66         V1  \\\n",
        "0     0.003145  0.003145  -0.156740    ...     -0.156986  -0.158312   \n",
        "1     0.008065  0.040323  -2.800000    ...      2.057613   0.000000   \n",
        "2     0.001410  0.004699   0.093853    ...     -0.234412  -0.000000   \n",
        "3    -0.021508  0.012146   2.818723    ...     -0.603622  -0.048204   \n",
        "4    -0.038095  0.065986   2.439887    ...      1.484294   0.265212   \n",
        "5    -0.002637  0.000558   0.292328    ...     -0.027880  -0.001129   \n",
        "6    -0.012319  0.005544   1.091363    ...      0.154226   0.000000   \n",
        "7    -0.010169  0.047458   3.424658    ...     -2.317881  -0.000000   \n",
        "8    -0.020080  0.044177   4.303279    ...     -2.161100  -0.054795   \n",
        "9     0.128047  0.116997  -7.605877    ...     -4.053633   0.008468   \n",
        "10   -0.044086  0.043011   2.362205    ...      2.197802  -0.047263   \n",
        "11   -0.018890  0.070838   4.091456    ...     -2.080925  -0.046860   \n",
        "12   -0.005267  0.004608   0.761085    ...     -0.229885   0.241145   \n",
        "13    0.000000  0.008876   0.443787    ...     -0.441826  -0.683048   \n",
        "14    0.000000  0.039560   1.978022    ...     -1.939655  -0.000000   \n",
        "15    0.000000  0.074766   3.738318    ...     -3.603604  -1.449275   \n",
        "16   -0.429129  0.009103  75.740319    ...     -0.324044   0.000833   \n",
        "17   -0.002752  0.003211   0.436983    ...     -0.160293   0.002693   \n",
        "18   -0.002668  0.001398   0.350363    ...     -0.082524   0.001601   \n",
        "19   -0.004739  0.006635   0.809524    ...     -0.330657  -0.048485   \n",
        "20   -0.031153  0.006231   3.536977    ...     -0.310559  -0.295122   \n",
        "21    0.001127  0.005637   0.168919    ...     -0.281057   3.328225   \n",
        "22   -0.009023  0.096241   2.529084    ...     -1.578688   0.002676   \n",
        "23    0.047826  0.085714  -8.358032    ...      4.139715   0.028222   \n",
        "24    0.165025  0.056650 -16.173362    ...      2.395965  -0.082835   \n",
        "25   -0.010169  0.006780   1.712329    ...     -0.673401  -0.006446   \n",
        "26    0.001522  0.003383  -0.320892    ...      0.169434   1.197605   \n",
        "27    0.007163  0.003432  -0.540821    ...     -0.171322   0.018212   \n",
        "28    0.001835  0.000917  -0.228938    ...      0.045893   1.489362   \n",
        "29   -0.004490  0.002343   0.333399    ...      0.117279   0.018138   \n",
        "...        ...       ...        ...    ...           ...        ...   \n",
        "5035  0.004400  0.002200  -0.328587    ...     -0.109890  -1.331553   \n",
        "5036  0.022063  0.052078  -3.551707    ...      1.444372   0.014449   \n",
        "5037 -0.019280  0.095116   6.422018    ...     -4.187192  -0.070154   \n",
        "5038 -0.006369  0.015924   1.442308    ...     -0.789889  -0.778859   \n",
        "5039 -0.007500  0.005833   1.049538    ...     -0.290818   0.021272   \n",
        "5040 -0.001748  0.000538   0.134716    ...      0.040361  -0.554977   \n",
        "5041 -0.046044  0.028464   3.598069    ...      1.185938   0.000000   \n",
        "5042  0.002331  0.065851  -1.947674    ...      1.749185  -0.938835   \n",
        "5043  0.005129  0.102585  -1.000204    ...      0.494845   0.500000   \n",
        "5044  0.001778  0.000148  -0.170118    ...     -0.007409   0.015999   \n",
        "5045 -0.012845  0.000627   0.888607    ...      0.408934   0.001273   \n",
        "5046  0.002166  0.023827  -1.404899    ...      1.205700  -0.010722   \n",
        "5047  0.035714  0.019481  -2.821317    ...     -0.645161  -0.388688   \n",
        "5048  0.000000  0.005102  -0.051020    ...      0.051046   0.000000   \n",
        "5049  0.008507  0.004640  -1.073620    ...      0.232558   0.000000   \n",
        "5050 -0.065217  0.038043   3.779070    ...      3.081232   0.024126   \n",
        "5051 -0.011628  0.008721   0.735294    ...      0.437956   0.000000   \n",
        "5052  0.009142  0.009845  -0.557491    ...     -0.350385  13.745763   \n",
        "5053 -0.002879  0.006993  -0.061881    ...      0.350877   0.000000   \n",
        "5054  0.003820  0.008596  -0.808754    ...      0.431655  -1.268331   \n",
        "5055 -0.004946  0.029674   0.752627    ...     -0.253700   0.014314   \n",
        "5056  0.002831  0.011990   0.315510    ...     -0.595928  -0.008133   \n",
        "5057  0.033058  0.041322  -2.000000    ...     -1.224490   0.077821   \n",
        "5058 -0.013946  0.058333   3.067683    ...     -1.604111  -0.000000   \n",
        "5059  0.009114  0.004143  -1.108374    ...      0.207555  -5.314578   \n",
        "5060 -0.008704  0.102515   2.829268    ...     -1.897533   0.000000   \n",
        "5061  0.009746  0.192745   8.418231    ...     -8.654797   0.327394   \n",
        "5062 -0.048683  0.024741   6.417785    ...     -1.221916   1.002865   \n",
        "5063  0.000399  0.017252   0.822355    ...     -0.855242   0.077821   \n",
        "5064  0.007527  0.183529  -0.120853    ...     -0.626994  -0.274725   \n",
        "\n",
        "            V11        V3        V5        V7         V8         a3  \\\n",
        "0      0.224707  0.000678 -0.004279  0.003014  -1.418832  -0.000000   \n",
        "1      0.000000  0.000000  1.117072  0.044967  24.397961  11.200000   \n",
        "2      0.000000  0.000000 -0.044550  0.043253  -0.515000   0.000000   \n",
        "3      0.107016  0.000600 -0.012340  0.005494  -2.199250   0.000000   \n",
        "4      0.223188  0.006603  0.024181  0.028868   0.817391 -12.078648   \n",
        "5      0.000184  0.000001 -0.000645  0.003985  -0.161666   0.000000   \n",
        "6      0.000000  0.000000  0.001468  0.020934   0.069486  -0.476429   \n",
        "7      0.000000  0.000000 -0.006391  0.003676  -1.626607   0.000000   \n",
        "8      0.028250  0.000117 -0.002104  0.004111  -0.507800   0.000000   \n",
        "9     -0.011401 -0.000496 -0.057866  0.042801  -1.329967  10.956320   \n",
        "10     2.156300  0.005627 -0.118647  0.002193 -45.464115 -10.628593   \n",
        "11    -0.005488 -0.000120  0.002441  0.021748   0.111636  -5.908240   \n",
        "12    -0.919006 -0.011703 -0.047155  0.011359  -3.703024   0.000000   \n",
        "13     0.087162  0.000422 -0.000595  0.004821  -0.122746   0.000000   \n",
        "14     0.000000  0.000000 -0.004655  0.041897  -0.107143   0.000000   \n",
        "15     4.000000  0.002276 -0.001001  0.000000  -1.760000   0.000000   \n",
        "16    -0.001547 -0.000463 -0.555589  0.299150  -1.856648 -17.252920   \n",
        "17    -0.003873 -0.000007 -0.002660  0.001841  -1.423899   0.000000   \n",
        "18    -0.000334 -0.000002 -0.001543  0.007427  -0.207683   0.004464   \n",
        "19     0.118919  0.000694 -0.014150  0.005676  -2.425676   0.000000   \n",
        "20     0.265157  0.012516 -0.041260  0.046053  -0.874117   0.000000   \n",
        "21   -13.030000 -0.132204 -0.034649  0.005073  -3.415000   0.000000   \n",
        "22     0.003548  0.000110  0.041091  0.030963   1.322383  -8.187223   \n",
        "23     0.184049  0.000685  0.023816  0.003265   6.398773  65.893198   \n",
        "24    -0.012329 -0.001871  0.022381  0.151564   0.147464  71.805622   \n",
        "25     0.007119  0.000023 -0.003560  0.003222  -1.100879   0.586414   \n",
        "26     5.172414  0.049772  0.033264  0.001327   3.456897   0.108391   \n",
        "27    -0.005467 -0.000042 -0.002282  0.007701  -0.294719  -0.000000   \n",
        "28     0.123566  0.000083  0.000044  0.000657   0.065313   0.020965   \n",
        "29     0.012414  0.000035  0.001865  0.002743   0.670621  -0.078462   \n",
        "...         ...       ...       ...       ...        ...        ...   \n",
        "5035   0.603520  0.023923 -0.017094  0.038767  -0.431243  -0.000000   \n",
        "5036   0.021464  0.000133  0.009093  0.006078   1.464048  13.996435   \n",
        "5037  -0.116868 -0.001023  0.014475  0.008643   1.652902  -2.525040   \n",
        "5038   0.793065  0.026250 -0.032958  0.032354  -0.995722   0.000000   \n",
        "5039  -0.024453 -0.000313 -0.014564  0.012650  -1.137303   0.000000   \n",
        "5040  -0.361909 -0.001410  0.002453  0.003808   0.629496  -0.009074   \n",
        "5041   0.000000  0.000000  0.009171  0.039263   0.233075  -9.788517   \n",
        "5042   0.706097  0.003347 -0.003392  0.004567  -0.715590   9.738372   \n",
        "5043  -0.067714 -0.000850 -0.001021  0.011879  -0.081257   5.594120   \n",
        "5044  -0.003439 -0.000018 -0.001146  0.005345  -0.214257  -0.000000   \n",
        "5045   0.001114  0.000006  0.005054  0.005780   0.873998  -0.394811   \n",
        "5046  -0.015869 -0.000059  0.005369  0.003596   1.453584   3.340178   \n",
        "5047   0.123236  0.003400 -0.008630  0.027471  -0.312808   0.884425   \n",
        "5048   0.000000  0.000000  0.016454  0.012837   1.278918   0.015618   \n",
        "5049   0.000000  0.000000  0.005730  0.005588   0.982353   0.493997   \n",
        "5050   0.034437  0.001360  0.056292  0.039419   1.425723 -19.774202   \n",
        "5051   0.000000  0.000000  0.027866  0.016894   1.639475  -0.648789   \n",
        "5052 -16.220000 -4.607955 -0.051136  0.000000  -0.180000   0.077699   \n",
        "5053   0.000000  0.000000  0.005350  0.007969   0.667878   0.043399   \n",
        "5054  -3.927536 -0.257197  0.171148  0.033850   2.613527   0.692558   \n",
        "5055   0.006053  0.000097  0.006729  0.016002   0.418829  -0.929829   \n",
        "5056   0.002008  0.000020 -0.002388  0.009812  -0.242300   0.000000   \n",
        "5057  -0.127551 -0.000737 -0.009324  0.005631  -1.613520   1.600000   \n",
        "5058   0.000000  0.000000 -0.004901  0.004046  -1.188145  -4.002014   \n",
        "5059  -5.886686 -0.043264  0.006059  0.005267   0.824363   0.454998   \n",
        "5060   0.000000  0.000000  0.012701  0.023137   0.545360  -9.108864   \n",
        "5061  -0.065508 -0.002593 -0.007038  0.038698  -0.177807  -1.354139   \n",
        "5062  -0.071861 -0.002401 -0.002051  0.033069  -0.061390   0.000000   \n",
        "5063  -0.008902 -0.000075 -0.000887  0.008336  -0.105493   0.000000   \n",
        "5064   0.023613  0.000465 -0.001228  0.019238  -0.062338   1.025029   \n",
        "\n",
        "             a4  a14  \n",
        "0     -0.000000   -1  \n",
        "1     -0.000000    1  \n",
        "2     -0.000000   -1  \n",
        "3     -0.000000   -1  \n",
        "4      9.452855    1  \n",
        "5     -0.000000   -1  \n",
        "6      0.054449    1  \n",
        "7     -0.000000   -1  \n",
        "8     -0.000000   -1  \n",
        "9     12.865376   -1  \n",
        "10    -0.000000   -1  \n",
        "11     8.341044    1  \n",
        "12    -0.000000   -1  \n",
        "13    -0.000000   -1  \n",
        "14    -0.000000   -1  \n",
        "15    -0.000000   -1  \n",
        "16     0.311331   -1  \n",
        "17    -0.000000   -1  \n",
        "18    -0.001948   -1  \n",
        "19    -0.000000   -1  \n",
        "20    -0.000000   -1  \n",
        "21    -0.000000   -1  \n",
        "22    20.959292    1  \n",
        "23     2.336638    1  \n",
        "24     1.877271    1  \n",
        "25    -0.351848   -1  \n",
        "26    -0.000000    1  \n",
        "27    -0.000000   -1  \n",
        "28    -0.000000    1  \n",
        "29    -0.000000    1  \n",
        "...         ...  ...  \n",
        "5035  -0.000000   -1  \n",
        "5036   4.550078    1  \n",
        "5037   3.658731    1  \n",
        "5038  -0.000000   -1  \n",
        "5039  -0.000000   -1  \n",
        "5040  -0.000907    1  \n",
        "5041   0.716233    1  \n",
        "5042   7.848837   -1  \n",
        "5043  25.801451   -1  \n",
        "5044  -0.000000   -1  \n",
        "5045  -0.169205    1  \n",
        "5046  -0.000000    1  \n",
        "5047   0.491347   -1  \n",
        "5048   0.062474    1  \n",
        "5049  -0.000000    1  \n",
        "5050  -6.084370    1  \n",
        "5051  -0.000000    1  \n",
        "5052   0.116549   -1  \n",
        "5053  -0.000000    1  \n",
        "5054  -0.000000    1  \n",
        "5055   2.157905    1  \n",
        "5056  -0.000000   -1  \n",
        "5057   2.560000   -1  \n",
        "5058   6.015660   -1  \n",
        "5059  -0.000000    1  \n",
        "5060  22.929209    1  \n",
        "5061   3.044656   -1  \n",
        "5062  -0.000000   -1  \n",
        "5063  -0.000000   -1  \n",
        "5064  82.561459   -1  \n",
        "\n",
        "[5065 rows x 25 columns]"
       ]
      }
     ],
     "prompt_number": 57
    },
    {
     "cell_type": "code",
     "collapsed": false,
     "input": [],
     "language": "python",
     "metadata": {},
     "outputs": []
    }
   ],
   "metadata": {}
  }
 ]
}