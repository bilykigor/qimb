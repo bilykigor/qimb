{
 "metadata": {
  "name": "",
  "signature": "sha256:3978909b4f6a144bb7b3c1c5c6f93e56d5604f797afae9f9ddcdf45d3447f92e"
 },
 "nbformat": 3,
 "nbformat_minor": 0,
 "worksheets": [
  {
   "cells": [
    {
     "cell_type": "code",
     "collapsed": false,
     "input": [
      "import pandas as pd\n",
      "import numpy as np"
     ],
     "language": "python",
     "metadata": {},
     "outputs": [],
     "prompt_number": 1
    },
    {
     "cell_type": "code",
     "collapsed": false,
     "input": [
      "indata = pd.read_csv(\"indata\", delimiter='  ',header = None, names = ['x1','x2','y'])\n",
      "outdata = pd.read_csv(\"outdata\", delimiter='  ',header = None, names = ['x1','x2','y'])"
     ],
     "language": "python",
     "metadata": {},
     "outputs": [
      {
       "output_type": "stream",
       "stream": "stderr",
       "text": [
        "/usr/local/lib/python2.7/dist-packages/pandas/io/parsers.py:624: ParserWarning: Falling back to the 'python' engine because the 'c' engine does not support regex separators; you can avoid this warning by specifying engine='python'.\n",
        "  ParserWarning)\n"
       ]
      }
     ],
     "prompt_number": 89
    },
    {
     "cell_type": "code",
     "collapsed": false,
     "input": [
      "def transform(data,k):\n",
      "    result = data[['x1','x2']].copy()\n",
      "    result['c'] = 1\n",
      "    if k>=3:\n",
      "        result['x1x1'] = data.x1*data.x1\n",
      "    if k>=4:\n",
      "        result['x2x2'] = data.x2*data.x2\n",
      "    if k>=5:\n",
      "        result['x1x2'] = data.x1*data.x2\n",
      "    if k>=6:\n",
      "        result['x1-x2'] = abs(data.x1-data.x2)\n",
      "    if k>=7:\n",
      "        result['x1+x2'] = abs(data.x1+data.x2)\n",
      "    return result"
     ],
     "language": "python",
     "metadata": {},
     "outputs": [],
     "prompt_number": 62
    },
    {
     "cell_type": "code",
     "collapsed": false,
     "input": [
      "from sklearn.linear_model import LinearRegression as LR\n",
      "\n",
      "for k in range(3,8):\n",
      "    clf = LR()\n",
      "    traindata = transform(indata,k).ix[:24,:]\n",
      "    ytrain = indata.y.ix[:24]\n",
      "    #valdata = transform(indata,k).ix[10:,:]\n",
      "    #yval = indata.y.ix[10:]\n",
      "    valdata = transform(outdata,k)\n",
      "    yval = outdata.y\n",
      "    clf.fit(traindata,ytrain)\n",
      "    error = float((np.sign(clf.predict(valdata))!=yval).sum())/len(yval)\n",
      "    print k, error"
     ],
     "language": "python",
     "metadata": {},
     "outputs": [
      {
       "output_type": "stream",
       "stream": "stdout",
       "text": [
        "3 0.42\n",
        "4 0.416\n",
        "5 0.188\n",
        "6 0.084\n",
        "7 0.072\n"
       ]
      }
     ],
     "prompt_number": 105
    }
   ],
   "metadata": {}
  }
 ]
}