{
 "metadata": {
  "name": "",
  "signature": "sha256:dcc585ab3a59914d168ef4e9e5c490897420d9ab5c59d572ab0b5f9bc7a011e3"
 },
 "nbformat": 3,
 "nbformat_minor": 0,
 "worksheets": [
  {
   "cells": [
    {
     "cell_type": "code",
     "collapsed": false,
     "input": [
      "rand(10)"
     ],
     "language": "python",
     "metadata": {},
     "outputs": [
      {
       "metadata": {},
       "output_type": "pyout",
       "prompt_number": 2,
       "text": [
        "array([ 0.1391326 ,  0.88526393,  0.5298438 ,  0.93147604,  0.85270415,\n",
        "        0.554554  ,  0.47341579,  0.3976707 ,  0.60648721,  0.12977355])"
       ]
      }
     ],
     "prompt_number": 2
    },
    {
     "cell_type": "code",
     "collapsed": false,
     "input": [],
     "language": "python",
     "metadata": {},
     "outputs": [],
     "prompt_number": 3
    },
    {
     "cell_type": "code",
     "collapsed": false,
     "input": [
      "for i in range(10):\n",
      "    print randint(0,1)"
     ],
     "language": "python",
     "metadata": {},
     "outputs": [
      {
       "output_type": "stream",
       "stream": "stdout",
       "text": [
        "0\n",
        "0\n",
        "0\n",
        "1\n",
        "0\n",
        "1\n",
        "0\n",
        "1\n",
        "0\n",
        "1\n"
       ]
      }
     ],
     "prompt_number": 18
    },
    {
     "cell_type": "code",
     "collapsed": false,
     "input": [
      "class Coin:\n",
      "    from random import randint\n",
      "    lastFlip = 0;\n",
      "    last_nFlip = 0;\n",
      "    def flip(self):\n",
      "        self.lastFlip=randint(0,1)\n",
      "        return self.lastFlip\n",
      "    def flip_n_times(self,n):\n",
      "        res = np.zeros(n)\n",
      "        for i in range(n):\n",
      "            res[i]=randint(0,1)\n",
      "            \n",
      "        self.last_nFlip = res \n",
      "        return res"
     ],
     "language": "python",
     "metadata": {},
     "outputs": [],
     "prompt_number": 67
    },
    {
     "cell_type": "code",
     "collapsed": false,
     "input": [
      "coin = Coin()\n",
      "MinFreq= np.zeros(1000)\n",
      "\n",
      "for j in range(1000):\n",
      "    flipResults = np.zeros((1000,10))\n",
      "    for i in range(1000):\n",
      "        flipResults[i,:]=coin.flip_n_times(10)\n",
      "    minFreq = min(sum(flipResults,axis=1))/10\n",
      "    MinFreq[j] = minFreq\n",
      "\n",
      "print MinFreq.mean()"
     ],
     "language": "python",
     "metadata": {},
     "outputs": [
      {
       "output_type": "stream",
       "stream": "stdout",
       "text": [
        "0.0385\n"
       ]
      }
     ],
     "prompt_number": 86
    },
    {
     "cell_type": "code",
     "collapsed": false,
     "input": [],
     "language": "python",
     "metadata": {},
     "outputs": []
    }
   ],
   "metadata": {}
  }
 ]
}