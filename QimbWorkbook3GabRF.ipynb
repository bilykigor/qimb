{
 "metadata": {
  "name": "",
  "signature": "sha256:b95128eb985fa8dc8dc2e98d86a25dcbed82a1cd2c011ec894c719af26fb90db"
 },
 "nbformat": 3,
 "nbformat_minor": 0,
 "worksheets": [
  {
   "cells": [
    {
     "cell_type": "code",
     "collapsed": false,
     "input": [
      "import qimbs \n",
      "import mmll\n",
      "import EnsembleClassifier as ec\n",
      "import mio\n",
      "\n",
      "import numpy as np\n",
      "import pandas as pd\n",
      "from math import factorial\n",
      "from ggplot import *\n",
      "\n",
      "from sklearn.svm import SVC\n",
      "from sklearn.linear_model import LogisticRegression as LR\n",
      "from sklearn.ensemble import GradientBoostingClassifier as GBC\n",
      "from sklearn.ensemble import GradientBoostingRegressor as GBR\n",
      "from sklearn.ensemble import RandomForestClassifier as RF\n",
      "\n",
      "from sklearn.base import clone"
     ],
     "language": "python",
     "metadata": {},
     "outputs": [],
     "prompt_number": 57
    },
    {
     "cell_type": "code",
     "collapsed": false,
     "input": [
      "reload(qimbs)\n",
      "reload(mmll)"
     ],
     "language": "python",
     "metadata": {},
     "outputs": [
      {
       "metadata": {},
       "output_type": "pyout",
       "prompt_number": 3,
       "text": [
        "<module 'mmll' from 'mmll.pyc'>"
       ]
      }
     ],
     "prompt_number": 3
    },
    {
     "cell_type": "code",
     "collapsed": false,
     "input": [
      "#Procees c++ created features\n",
      "f = '/home/user1/Desktop/Share2Windows/Qimb/firstImbNoImbS.csv' \n",
      "                   \n",
      "imbalanceMsg = pd.read_csv(f, low_memory=False)\n",
      "\n",
      "#imbalanceMsg = imbalanceMsg[imbalanceMsg.ImbInd!=0]\n",
      "#imbalanceMsg.index = range(imbalanceMsg.shape[0])\n",
      "\n",
      "print imbalanceMsg.shape\n",
      "\n",
      "imbalanceMsg.head()"
     ],
     "language": "python",
     "metadata": {},
     "outputs": [
      {
       "output_type": "stream",
       "stream": "stdout",
       "text": [
        "(266538, 16)\n"
       ]
      },
      {
       "html": [
        "<div style=\"max-height:1000px;max-width:1500px;overflow:auto;\">\n",
        "<table border=\"1\" class=\"dataframe\">\n",
        "  <thead>\n",
        "    <tr style=\"text-align: right;\">\n",
        "      <th></th>\n",
        "      <th>Date</th>\n",
        "      <th>Symbol</th>\n",
        "      <th>ImbInd</th>\n",
        "      <th>PrevCLC_P</th>\n",
        "      <th>OPC_P</th>\n",
        "      <th>Ask_P</th>\n",
        "      <th>Bid_P</th>\n",
        "      <th>Ask_S</th>\n",
        "      <th>Bid_S</th>\n",
        "      <th>ImbRef</th>\n",
        "      <th>ImbCBC</th>\n",
        "      <th>ImbFar</th>\n",
        "      <th>ImbShares</th>\n",
        "      <th>ImbPaired</th>\n",
        "      <th>AvgTradePrice</th>\n",
        "      <th>Unnamed: 15</th>\n",
        "    </tr>\n",
        "  </thead>\n",
        "  <tbody>\n",
        "    <tr>\n",
        "      <th>0</th>\n",
        "      <td> 2014-02-13</td>\n",
        "      <td>  AAIT</td>\n",
        "      <td> 0</td>\n",
        "      <td> 31.94</td>\n",
        "      <td> 31.52</td>\n",
        "      <td> 46.85</td>\n",
        "      <td> 28.43</td>\n",
        "      <td>  300</td>\n",
        "      <td>  700</td>\n",
        "      <td> 31.53</td>\n",
        "      <td> 31.53</td>\n",
        "      <td> 31.53</td>\n",
        "      <td> 0</td>\n",
        "      <td>   211</td>\n",
        "      <td>  0.0000</td>\n",
        "      <td>NaN</td>\n",
        "    </tr>\n",
        "    <tr>\n",
        "      <th>1</th>\n",
        "      <td> 2014-02-13</td>\n",
        "      <td>   AAL</td>\n",
        "      <td> 0</td>\n",
        "      <td> 34.69</td>\n",
        "      <td> 34.07</td>\n",
        "      <td> 34.30</td>\n",
        "      <td> 34.19</td>\n",
        "      <td>  100</td>\n",
        "      <td> 2983</td>\n",
        "      <td> 34.13</td>\n",
        "      <td> 34.13</td>\n",
        "      <td> 34.13</td>\n",
        "      <td> 0</td>\n",
        "      <td> 63528</td>\n",
        "      <td> 34.2431</td>\n",
        "      <td>NaN</td>\n",
        "    </tr>\n",
        "    <tr>\n",
        "      <th>2</th>\n",
        "      <td> 2014-02-13</td>\n",
        "      <td> AALCP</td>\n",
        "      <td> 0</td>\n",
        "      <td> 27.15</td>\n",
        "      <td> 27.15</td>\n",
        "      <td> 28.39</td>\n",
        "      <td> 25.01</td>\n",
        "      <td>  100</td>\n",
        "      <td>  100</td>\n",
        "      <td> 27.16</td>\n",
        "      <td> 27.16</td>\n",
        "      <td> 27.16</td>\n",
        "      <td> 0</td>\n",
        "      <td>   322</td>\n",
        "      <td>  0.0000</td>\n",
        "      <td>NaN</td>\n",
        "    </tr>\n",
        "    <tr>\n",
        "      <th>3</th>\n",
        "      <td> 2014-02-13</td>\n",
        "      <td>  AAOI</td>\n",
        "      <td> 0</td>\n",
        "      <td> 12.52</td>\n",
        "      <td> 12.00</td>\n",
        "      <td> 14.79</td>\n",
        "      <td> 10.27</td>\n",
        "      <td> 1000</td>\n",
        "      <td> 1000</td>\n",
        "      <td> 12.00</td>\n",
        "      <td> 12.00</td>\n",
        "      <td> 12.00</td>\n",
        "      <td> 0</td>\n",
        "      <td>  4550</td>\n",
        "      <td>  0.0000</td>\n",
        "      <td>NaN</td>\n",
        "    </tr>\n",
        "    <tr>\n",
        "      <th>4</th>\n",
        "      <td> 2014-02-13</td>\n",
        "      <td>  AAON</td>\n",
        "      <td> 0</td>\n",
        "      <td> 28.18</td>\n",
        "      <td> 27.79</td>\n",
        "      <td> 28.80</td>\n",
        "      <td> 26.29</td>\n",
        "      <td>  228</td>\n",
        "      <td>  100</td>\n",
        "      <td> 27.84</td>\n",
        "      <td> 27.84</td>\n",
        "      <td> 27.84</td>\n",
        "      <td> 0</td>\n",
        "      <td>   853</td>\n",
        "      <td>  0.0000</td>\n",
        "      <td>NaN</td>\n",
        "    </tr>\n",
        "  </tbody>\n",
        "</table>\n",
        "</div>"
       ],
       "metadata": {},
       "output_type": "pyout",
       "prompt_number": 73,
       "text": [
        "         Date Symbol  ImbInd  PrevCLC_P  OPC_P  Ask_P  Bid_P  Ask_S  Bid_S  \\\n",
        "0  2014-02-13   AAIT       0      31.94  31.52  46.85  28.43    300    700   \n",
        "1  2014-02-13    AAL       0      34.69  34.07  34.30  34.19    100   2983   \n",
        "2  2014-02-13  AALCP       0      27.15  27.15  28.39  25.01    100    100   \n",
        "3  2014-02-13   AAOI       0      12.52  12.00  14.79  10.27   1000   1000   \n",
        "4  2014-02-13   AAON       0      28.18  27.79  28.80  26.29    228    100   \n",
        "\n",
        "   ImbRef  ImbCBC  ImbFar  ImbShares  ImbPaired  AvgTradePrice  Unnamed: 15  \n",
        "0   31.53   31.53   31.53          0        211         0.0000          NaN  \n",
        "1   34.13   34.13   34.13          0      63528        34.2431          NaN  \n",
        "2   27.16   27.16   27.16          0        322         0.0000          NaN  \n",
        "3   12.00   12.00   12.00          0       4550         0.0000          NaN  \n",
        "4   27.84   27.84   27.84          0        853         0.0000          NaN  "
       ]
      }
     ],
     "prompt_number": 73
    },
    {
     "cell_type": "code",
     "collapsed": false,
     "input": [
      "sum(map(int,imbalanceMsg.AvgTradePrice==0))"
     ],
     "language": "python",
     "metadata": {},
     "outputs": [
      {
       "metadata": {},
       "output_type": "pyout",
       "prompt_number": 105,
       "text": [
        "239712"
       ]
      }
     ],
     "prompt_number": 105
    },
    {
     "cell_type": "code",
     "collapsed": false,
     "input": [
      "#Creating features\n",
      "reload(qimbs)\n",
      "fdf = qimbs.create_features34(imbalanceMsg)\n",
      "fdf.head()"
     ],
     "language": "python",
     "metadata": {},
     "outputs": [
      {
       "html": [
        "<div style=\"max-height:1000px;max-width:1500px;overflow:auto;\">\n",
        "<table border=\"1\" class=\"dataframe\">\n",
        "  <thead>\n",
        "    <tr style=\"text-align: right;\">\n",
        "      <th></th>\n",
        "      <th>Symbol</th>\n",
        "      <th>Date</th>\n",
        "      <th>OPC_P</th>\n",
        "      <th>Ref_P</th>\n",
        "      <th>Ask_P</th>\n",
        "      <th>Bid_P</th>\n",
        "      <th>Mid_P</th>\n",
        "      <th>ATP_P</th>\n",
        "      <th>Bid</th>\n",
        "      <th>Ask</th>\n",
        "      <th>...</th>\n",
        "      <th>a5</th>\n",
        "      <th>y</th>\n",
        "      <th>PrevCLC</th>\n",
        "      <th>D3</th>\n",
        "      <th>D7</th>\n",
        "      <th>a3</th>\n",
        "      <th>a6</th>\n",
        "      <th>a7</th>\n",
        "      <th>priceRange</th>\n",
        "      <th>imbInd</th>\n",
        "    </tr>\n",
        "  </thead>\n",
        "  <tbody>\n",
        "    <tr>\n",
        "      <th>0</th>\n",
        "      <td>  AAIT</td>\n",
        "      <td> 2014-02-13</td>\n",
        "      <td> 31.52</td>\n",
        "      <td> 31.53</td>\n",
        "      <td> 46.85</td>\n",
        "      <td> 28.43</td>\n",
        "      <td> 37.640</td>\n",
        "      <td>  0.0000</td>\n",
        "      <td> 0.109040</td>\n",
        "      <td> 0.485886</td>\n",
        "      <td>...</td>\n",
        "      <td> 0.125928</td>\n",
        "      <td> 0</td>\n",
        "      <td> 0.013003</td>\n",
        "      <td> 17.845961</td>\n",
        "      <td>-1.283657</td>\n",
        "      <td>-173.207513</td>\n",
        "      <td> 0.025481</td>\n",
        "      <td> 0.622328</td>\n",
        "      <td> 3</td>\n",
        "      <td> 0</td>\n",
        "    </tr>\n",
        "    <tr>\n",
        "      <th>1</th>\n",
        "      <td>   AAL</td>\n",
        "      <td> 2014-02-13</td>\n",
        "      <td> 34.07</td>\n",
        "      <td> 34.13</td>\n",
        "      <td> 34.30</td>\n",
        "      <td> 34.19</td>\n",
        "      <td> 34.245</td>\n",
        "      <td> 34.2431</td>\n",
        "      <td>-0.001755</td>\n",
        "      <td> 0.004981</td>\n",
        "      <td>...</td>\n",
        "      <td>-0.008279</td>\n",
        "      <td>-1</td>\n",
        "      <td> 0.016408</td>\n",
        "      <td> -1.282790</td>\n",
        "      <td>-1.614298</td>\n",
        "      <td>  -0.221872</td>\n",
        "      <td> 0.002922</td>\n",
        "      <td> 0.023456</td>\n",
        "      <td> 3</td>\n",
        "      <td> 0</td>\n",
        "    </tr>\n",
        "    <tr>\n",
        "      <th>2</th>\n",
        "      <td> AALCP</td>\n",
        "      <td> 2014-02-13</td>\n",
        "      <td> 27.15</td>\n",
        "      <td> 27.16</td>\n",
        "      <td> 28.39</td>\n",
        "      <td> 25.01</td>\n",
        "      <td> 26.700</td>\n",
        "      <td>  0.0000</td>\n",
        "      <td> 0.085966</td>\n",
        "      <td> 0.045287</td>\n",
        "      <td>...</td>\n",
        "      <td> 0.137846</td>\n",
        "      <td> 0</td>\n",
        "      <td>-0.000368</td>\n",
        "      <td> -1.657459</td>\n",
        "      <td> 0.036832</td>\n",
        "      <td>  13.125362</td>\n",
        "      <td> 0.240951</td>\n",
        "      <td> 0.078861</td>\n",
        "      <td> 2</td>\n",
        "      <td> 0</td>\n",
        "    </tr>\n",
        "    <tr>\n",
        "      <th>3</th>\n",
        "      <td>  AAOI</td>\n",
        "      <td> 2014-02-13</td>\n",
        "      <td> 12.00</td>\n",
        "      <td> 12.00</td>\n",
        "      <td> 14.79</td>\n",
        "      <td> 10.27</td>\n",
        "      <td> 12.530</td>\n",
        "      <td>  0.0000</td>\n",
        "      <td> 0.168452</td>\n",
        "      <td> 0.232500</td>\n",
        "      <td>...</td>\n",
        "      <td> 0.158406</td>\n",
        "      <td> 0</td>\n",
        "      <td> 0.043333</td>\n",
        "      <td>  0.079872</td>\n",
        "      <td>-4.153355</td>\n",
        "      <td>  -1.103665</td>\n",
        "      <td> 0.098223</td>\n",
        "      <td> 0.255464</td>\n",
        "      <td> 1</td>\n",
        "      <td> 0</td>\n",
        "    </tr>\n",
        "    <tr>\n",
        "      <th>4</th>\n",
        "      <td>  AAON</td>\n",
        "      <td> 2014-02-13</td>\n",
        "      <td> 27.79</td>\n",
        "      <td> 27.84</td>\n",
        "      <td> 28.80</td>\n",
        "      <td> 26.29</td>\n",
        "      <td> 27.545</td>\n",
        "      <td>  0.0000</td>\n",
        "      <td> 0.058958</td>\n",
        "      <td> 0.034483</td>\n",
        "      <td>...</td>\n",
        "      <td> 0.120778</td>\n",
        "      <td> 0</td>\n",
        "      <td> 0.012213</td>\n",
        "      <td> -2.253371</td>\n",
        "      <td>-1.206529</td>\n",
        "      <td>  12.394341</td>\n",
        "      <td> 0.195007</td>\n",
        "      <td> 0.074805</td>\n",
        "      <td> 2</td>\n",
        "      <td> 0</td>\n",
        "    </tr>\n",
        "  </tbody>\n",
        "</table>\n",
        "<p>5 rows \u00d7 35 columns</p>\n",
        "</div>"
       ],
       "metadata": {},
       "output_type": "pyout",
       "prompt_number": 102,
       "text": [
        "  Symbol        Date  OPC_P  Ref_P  Ask_P  Bid_P   Mid_P    ATP_P       Bid  \\\n",
        "0   AAIT  2014-02-13  31.52  31.53  46.85  28.43  37.640   0.0000  0.109040   \n",
        "1    AAL  2014-02-13  34.07  34.13  34.30  34.19  34.245  34.2431 -0.001755   \n",
        "2  AALCP  2014-02-13  27.15  27.16  28.39  25.01  26.700   0.0000  0.085966   \n",
        "3   AAOI  2014-02-13  12.00  12.00  14.79  10.27  12.530   0.0000  0.168452   \n",
        "4   AAON  2014-02-13  27.79  27.84  28.80  26.29  27.545   0.0000  0.058958   \n",
        "\n",
        "        Ask    ...           a5  y   PrevCLC         D3        D7          a3  \\\n",
        "0  0.485886    ...     0.125928  0  0.013003  17.845961 -1.283657 -173.207513   \n",
        "1  0.004981    ...    -0.008279 -1  0.016408  -1.282790 -1.614298   -0.221872   \n",
        "2  0.045287    ...     0.137846  0 -0.000368  -1.657459  0.036832   13.125362   \n",
        "3  0.232500    ...     0.158406  0  0.043333   0.079872 -4.153355   -1.103665   \n",
        "4  0.034483    ...     0.120778  0  0.012213  -2.253371 -1.206529   12.394341   \n",
        "\n",
        "         a6        a7  priceRange  imbInd  \n",
        "0  0.025481  0.622328           3       0  \n",
        "1  0.002922  0.023456           3       0  \n",
        "2  0.240951  0.078861           2       0  \n",
        "3  0.098223  0.255464           1       0  \n",
        "4  0.195007  0.074805           2       0  \n",
        "\n",
        "[5 rows x 35 columns]"
       ]
      }
     ],
     "prompt_number": 102
    },
    {
     "cell_type": "code",
     "collapsed": false,
     "input": [
      "list(fdf.columns)"
     ],
     "language": "python",
     "metadata": {},
     "outputs": [
      {
       "metadata": {},
       "output_type": "pyout",
       "prompt_number": 103,
       "text": [
        "['Symbol',\n",
        " 'Date',\n",
        " 'OPC_P',\n",
        " 'Ref_P',\n",
        " 'Ask_P',\n",
        " 'Bid_P',\n",
        " 'Mid_P',\n",
        " 'ATP_P',\n",
        " 'Bid',\n",
        " 'Ask',\n",
        " 'BidD',\n",
        " 'AskD',\n",
        " 'Near',\n",
        " 'Far',\n",
        " 'Spread',\n",
        " 'D4',\n",
        " 'D5',\n",
        " 'D444',\n",
        " 'D555',\n",
        " 'D66',\n",
        " 'V1n',\n",
        " 'V11',\n",
        " 'V11n',\n",
        " 'a1',\n",
        " 'a4',\n",
        " 'a5',\n",
        " 'y',\n",
        " 'PrevCLC',\n",
        " 'D3',\n",
        " 'D7',\n",
        " 'a3',\n",
        " 'a6',\n",
        " 'a7',\n",
        " 'priceRange',\n",
        " 'imbInd']"
       ]
      }
     ],
     "prompt_number": 103
    },
    {
     "cell_type": "code",
     "collapsed": false,
     "input": [
      "X = fdf.copy()\n",
      "X=X[['Ask','AskD','Spread','D5', 'D555', 'D66', 'a1','a4','a5','Bid','BidD', 'D4', 'D444','ATP_P']]\n",
      "X.head()"
     ],
     "language": "python",
     "metadata": {},
     "outputs": [
      {
       "html": [
        "<div style=\"max-height:1000px;max-width:1500px;overflow:auto;\">\n",
        "<table border=\"1\" class=\"dataframe\">\n",
        "  <thead>\n",
        "    <tr style=\"text-align: right;\">\n",
        "      <th></th>\n",
        "      <th>Ask</th>\n",
        "      <th>AskD</th>\n",
        "      <th>Spread</th>\n",
        "      <th>D5</th>\n",
        "      <th>D555</th>\n",
        "      <th>D66</th>\n",
        "      <th>a1</th>\n",
        "      <th>a4</th>\n",
        "      <th>a5</th>\n",
        "      <th>Bid</th>\n",
        "      <th>BidD</th>\n",
        "      <th>D4</th>\n",
        "      <th>D444</th>\n",
        "      <th>ATP_P</th>\n",
        "    </tr>\n",
        "  </thead>\n",
        "  <tbody>\n",
        "    <tr>\n",
        "      <th>0</th>\n",
        "      <td> 0.485886</td>\n",
        "      <td>-15.32</td>\n",
        "      <td> 0.584206</td>\n",
        "      <td>-47.964934</td>\n",
        "      <td>-0.788877</td>\n",
        "      <td>-16.232731</td>\n",
        "      <td> 0.052981</td>\n",
        "      <td> 465.533175</td>\n",
        "      <td> 0.125928</td>\n",
        "      <td> 0.109040</td>\n",
        "      <td>-3.10</td>\n",
        "      <td> -9.705698</td>\n",
        "      <td>-0.159629</td>\n",
        "      <td>  0.0000</td>\n",
        "    </tr>\n",
        "    <tr>\n",
        "      <th>1</th>\n",
        "      <td> 0.004981</td>\n",
        "      <td> -0.17</td>\n",
        "      <td> 0.003223</td>\n",
        "      <td> -0.490055</td>\n",
        "      <td>-0.153153</td>\n",
        "      <td> -0.335815</td>\n",
        "      <td>-0.000009</td>\n",
        "      <td>  -0.084760</td>\n",
        "      <td>-0.008279</td>\n",
        "      <td>-0.001755</td>\n",
        "      <td> 0.06</td>\n",
        "      <td>  0.172961</td>\n",
        "      <td> 0.054054</td>\n",
        "      <td> 34.2431</td>\n",
        "    </tr>\n",
        "    <tr>\n",
        "      <th>2</th>\n",
        "      <td> 0.045287</td>\n",
        "      <td> -1.23</td>\n",
        "      <td> 0.124448</td>\n",
        "      <td> -4.530387</td>\n",
        "      <td>-0.280822</td>\n",
        "      <td>  1.722846</td>\n",
        "      <td> 0.003893</td>\n",
        "      <td>  35.875991</td>\n",
        "      <td> 0.137846</td>\n",
        "      <td> 0.085966</td>\n",
        "      <td>-2.15</td>\n",
        "      <td> -7.918969</td>\n",
        "      <td>-0.490868</td>\n",
        "      <td>  0.0000</td>\n",
        "    </tr>\n",
        "    <tr>\n",
        "      <th>3</th>\n",
        "      <td> 0.232500</td>\n",
        "      <td> -2.79</td>\n",
        "      <td> 0.376667</td>\n",
        "      <td>-22.284345</td>\n",
        "      <td>-0.505435</td>\n",
        "      <td> -4.229848</td>\n",
        "      <td> 0.039165</td>\n",
        "      <td> 307.922659</td>\n",
        "      <td> 0.158406</td>\n",
        "      <td> 0.168452</td>\n",
        "      <td>-1.73</td>\n",
        "      <td>-13.817891</td>\n",
        "      <td>-0.313406</td>\n",
        "      <td>  0.0000</td>\n",
        "    </tr>\n",
        "    <tr>\n",
        "      <th>4</th>\n",
        "      <td> 0.034483</td>\n",
        "      <td> -0.96</td>\n",
        "      <td> 0.090158</td>\n",
        "      <td> -3.406671</td>\n",
        "      <td>-0.273504</td>\n",
        "      <td>  1.070975</td>\n",
        "      <td> 0.002033</td>\n",
        "      <td>  18.737902</td>\n",
        "      <td> 0.120778</td>\n",
        "      <td> 0.058958</td>\n",
        "      <td>-1.55</td>\n",
        "      <td> -5.500355</td>\n",
        "      <td>-0.441595</td>\n",
        "      <td>  0.0000</td>\n",
        "    </tr>\n",
        "  </tbody>\n",
        "</table>\n",
        "</div>"
       ],
       "metadata": {},
       "output_type": "pyout",
       "prompt_number": 106,
       "text": [
        "        Ask   AskD    Spread         D5      D555        D66        a1  \\\n",
        "0  0.485886 -15.32  0.584206 -47.964934 -0.788877 -16.232731  0.052981   \n",
        "1  0.004981  -0.17  0.003223  -0.490055 -0.153153  -0.335815 -0.000009   \n",
        "2  0.045287  -1.23  0.124448  -4.530387 -0.280822   1.722846  0.003893   \n",
        "3  0.232500  -2.79  0.376667 -22.284345 -0.505435  -4.229848  0.039165   \n",
        "4  0.034483  -0.96  0.090158  -3.406671 -0.273504   1.070975  0.002033   \n",
        "\n",
        "           a4        a5       Bid  BidD         D4      D444    ATP_P  \n",
        "0  465.533175  0.125928  0.109040 -3.10  -9.705698 -0.159629   0.0000  \n",
        "1   -0.084760 -0.008279 -0.001755  0.06   0.172961  0.054054  34.2431  \n",
        "2   35.875991  0.137846  0.085966 -2.15  -7.918969 -0.490868   0.0000  \n",
        "3  307.922659  0.158406  0.168452 -1.73 -13.817891 -0.313406   0.0000  \n",
        "4   18.737902  0.120778  0.058958 -1.55  -5.500355 -0.441595   0.0000  "
       ]
      }
     ],
     "prompt_number": 106
    },
    {
     "cell_type": "code",
     "collapsed": false,
     "input": [
      "X_pos = fdf.copy()\n",
      "X_pos=X_pos[[\n",
      " 'Ask',\n",
      " 'D555',\n",
      " 'AskD',\n",
      " 'D5']]\n",
      "\n",
      "X_neg = fdf.copy()\n",
      "X_neg=X_neg[[\n",
      " 'D4',\n",
      " 'Bid',\n",
      " 'D444',\n",
      " 'BidD']]\n",
      "\n",
      "ypln_pos = fdf.OPC_P/fdf.Ask_P-1\n",
      "ypln_neg = 1-fdf.OPC_P/fdf.Bid_P"
     ],
     "language": "python",
     "metadata": {},
     "outputs": [],
     "prompt_number": 231
    },
    {
     "cell_type": "code",
     "collapsed": false,
     "input": [
      "ret = 0.05\n",
      "\n",
      "ym_pos = fdf.imbInd.copy()\n",
      "ym_pos[:] = 0\n",
      "ym_pos[fdf.OPC_P-fdf.Ask_P>ret] = 1\n",
      "ym_pos=ym_pos.reset_index(drop=True)\n",
      "\n",
      "ym_neg = fdf.imbInd.copy()\n",
      "ym_neg[:] = 0\n",
      "ym_neg[fdf.OPC_P-fdf.Bid_P<-ret] = 1\n",
      "ym_neg=ym_neg.reset_index(drop=True)"
     ],
     "language": "python",
     "metadata": {},
     "outputs": [],
     "prompt_number": 189
    },
    {
     "cell_type": "code",
     "collapsed": false,
     "input": [
      "ret = 0.01/100\n",
      "\n",
      "yr_pos = fdf.imbInd.copy()\n",
      "yr_pos[:] = 0\n",
      "yr_pos[fdf.OPC_P/fdf.Ask_P-1.0>ret]=1\n",
      "\n",
      "yr_neg = fdf.imbInd.copy()\n",
      "yr_neg[:] = 0\n",
      "yr_neg[fdf.OPC_P/fdf.Bid_P-1<-ret]=1"
     ],
     "language": "python",
     "metadata": {},
     "outputs": [],
     "prompt_number": 212
    },
    {
     "cell_type": "code",
     "collapsed": false,
     "input": [
      "(n,b,p) = matplotlib.pyplot.hist(list(ym_neg),bins=10,range=[0,1])"
     ],
     "language": "python",
     "metadata": {},
     "outputs": [
      {
       "metadata": {},
       "output_type": "display_data",
       "png": "[encoded data removed]",
       "text": [
        "<matplotlib.figure.Figure at 0x1157c690>"
       ]
      }
     ],
     "prompt_number": 191
    },
    {
     "cell_type": "code",
     "collapsed": false,
     "input": [
      "print ym_pos.sum()\n",
      "print ym_neg.sum()"
     ],
     "language": "python",
     "metadata": {},
     "outputs": [
      {
       "output_type": "stream",
       "stream": "stdout",
       "text": [
        "1665\n",
        "2675\n"
       ]
      }
     ],
     "prompt_number": 213
    },
    {
     "cell_type": "code",
     "collapsed": false,
     "input": [
      "eclf_pos = RF(min_samples_split = int(len(yr_pos)*0.03),criterion='entropy',n_jobs=4)\n",
      "'''ec.EnsembleClassifier(\n",
      "clfs=[\n",
      "RF(min_samples_split = int(len(yr_pos)*0.03),criterion='entropy',n_jobs=4)\n",
      "#,GBC(min_samples_split = len(yr_pos)*0.03,init='zero')\n",
      "#,LR(class_weight='auto',C=0.1)\n",
      "])'''\n",
      "\n",
      "eclf_neg = RF(min_samples_split = int(len(yr_neg)*0.03),criterion='entropy',n_jobs=4)\n",
      "'''= ec.EnsembleClassifier(\n",
      "clfs=[\n",
      "RF(min_samples_split = int(len(yr_neg)*0.03),criterion='entropy',n_jobs=4)\n",
      "#,GBC(min_samples_split = len(yr_neg)*0.03,init='zero')\n",
      "#,LR(class_weight='auto',C=0.1)\n",
      "])'''"
     ],
     "language": "python",
     "metadata": {},
     "outputs": [
      {
       "metadata": {},
       "output_type": "pyout",
       "prompt_number": 222,
       "text": [
        "\"= ec.EnsembleClassifier(\\nclfs=[\\nRF(min_samples_split = int(len(yr_neg)*0.03),criterion='entropy',n_jobs=4)\\n#,GBC(min_samples_split = len(yr_neg)*0.03,init='zero')\\n#,LR(class_weight='auto',C=0.1)\\n])\""
       ]
      }
     ],
     "prompt_number": 222
    },
    {
     "cell_type": "code",
     "collapsed": false,
     "input": [
      "ttlabels = fdf.Date"
     ],
     "language": "python",
     "metadata": {},
     "outputs": [],
     "prompt_number": 194
    },
    {
     "cell_type": "code",
     "collapsed": false,
     "input": [
      "reload(qimbs)\n",
      "reload(mmll)\n",
      "reload(ec)"
     ],
     "language": "python",
     "metadata": {},
     "outputs": [
      {
       "metadata": {},
       "output_type": "pyout",
       "prompt_number": 195,
       "text": [
        "<module 'EnsembleClassifier' from 'EnsembleClassifier.pyc'>"
       ]
      }
     ],
     "prompt_number": 195
    },
    {
     "cell_type": "code",
     "collapsed": false,
     "input": [
      "cm,clf = mmll.clf_cross_validation(eclf_pos,X_pos,yr_pos,test_size=5,n_folds=50,train_test_labels = ttlabels,verbose = True)"
     ],
     "language": "python",
     "metadata": {},
     "outputs": [
      {
       "output_type": "stream",
       "stream": "stdout",
       "text": [
        "73.6 sec: Precision - 0.78, Recall - 0.90, F_Score - 0.84, max F_Score - 0.89\n"
       ]
      },
      {
       "metadata": {},
       "output_type": "display_data",
       "png": "[encoded data removed]",
       "text": [
        "<matplotlib.figure.Figure at 0x7f77fc9392d0>"
       ]
      }
     ],
     "prompt_number": 196
    },
    {
     "cell_type": "code",
     "collapsed": false,
     "input": [
      "fi = pd.DataFrame()\n",
      "fi['Feature'] = list(X_pos.columns)\n",
      "fi['Impotrance'] = clf.feature_importances_\n",
      "fi=fi.sort(columns=['Impotrance'],ascending=False)\n",
      "fi['Index'] = range(X_pos.shape[1])\n",
      "fi.index = fi['Index']\n",
      "   \n",
      "ggplot(fi,aes('Index','Impotrance',label='Feature')) +\\\n",
      "geom_point() + geom_text(vjust=0.005)"
     ],
     "language": "python",
     "metadata": {},
     "outputs": [
      {
       "metadata": {},
       "output_type": "display_data",
       "png": "[encoded data removed]",
       "text": [
        "<matplotlib.figure.Figure at 0x67a7f50>"
       ]
      },
      {
       "metadata": {},
       "output_type": "pyout",
       "prompt_number": 197,
       "text": [
        "<ggplot: (29505521)>"
       ]
      }
     ],
     "prompt_number": 197
    },
    {
     "cell_type": "code",
     "collapsed": false,
     "input": [
      "cm,clf = mmll.clf_cross_validation(eclf_neg,X_neg,yr_neg,test_size=5,n_folds=50,train_test_labels = ttlabels,verbose = True)"
     ],
     "language": "python",
     "metadata": {},
     "outputs": [
      {
       "output_type": "stream",
       "stream": "stdout",
       "text": [
        "76.7 sec: Precision - 0.82, Recall - 0.92, F_Score - 0.87, max F_Score - 0.90\n"
       ]
      },
      {
       "metadata": {},
       "output_type": "display_data",
       "png": "[encoded data removed]",
       "text": [
        "<matplotlib.figure.Figure at 0x7f77fcbd2890>"
       ]
      }
     ],
     "prompt_number": 198
    },
    {
     "cell_type": "code",
     "collapsed": false,
     "input": [
      "fi = pd.DataFrame()\n",
      "fi['Feature'] = list(X_neg.columns)\n",
      "fi['Impotrance'] = clf.feature_importances_\n",
      "fi=fi.sort(columns=['Impotrance'],ascending=False)\n",
      "fi['Index'] = range(X_neg.shape[1])\n",
      "fi.index = fi['Index']\n",
      "   \n",
      "ggplot(fi,aes('Index','Impotrance',label='Feature')) +\\\n",
      "geom_point() + geom_text(vjust=0.005)"
     ],
     "language": "python",
     "metadata": {},
     "outputs": [
      {
       "metadata": {},
       "output_type": "display_data",
       "png": "[encoded data removed]",
       "text": [
        "<matplotlib.figure.Figure at 0x7f77fc850750>"
       ]
      },
      {
       "metadata": {},
       "output_type": "pyout",
       "prompt_number": 199,
       "text": [
        "<ggplot: (6790785)>"
       ]
      }
     ],
     "prompt_number": 199
    },
    {
     "cell_type": "code",
     "collapsed": false,
     "input": [
      "\n",
      "\n",
      "\n",
      "\n",
      "\n"
     ],
     "language": "python",
     "metadata": {},
     "outputs": [],
     "prompt_number": 19
    },
    {
     "cell_type": "code",
     "collapsed": false,
     "input": [
      "\n",
      "\n",
      "\n",
      "\n",
      "\n",
      "#Save configuration for C++"
     ],
     "language": "python",
     "metadata": {},
     "outputs": [],
     "prompt_number": 25
    },
    {
     "cell_type": "code",
     "collapsed": false,
     "input": [
      "def Forest2SqlZeroImbPerc(eclf_pos,eclf_neg,advantage,db,df):  \n",
      "   \n",
      "    X_p = df[['Ask','D555','AskD','D5']].copy()\n",
      "    X_n = df[['Bid','D444','BidD','D4']].copy()   \n",
      "    \n",
      "    \n",
      "    y_p = df.imbInd.copy()\n",
      "    y_p[:] = 0\n",
      "    if advantage>0:\n",
      "        y_p[df.OPC_P/df.Ask_P-1.0>advantage/10000]=1 #y_p[df.OPC_P/df.Ref_P-1.0>advantage/10000]=1\n",
      "    else:\n",
      "        y_p[df.OPC_P/df.Ask_P-1.0<advantage/10000]=1\n",
      "\n",
      "    y_n = df.imbInd.copy()\n",
      "    y_n[:] = 0\n",
      "    if advantage>0:\n",
      "        y_n[df.OPC_P/df.Bid_P-1<-advantage/10000]=1#y_n[df.OPC_P/df.Ref_P-1<-advantage/10000]=1\n",
      "    else:\n",
      "        y_n[df.OPC_P/df.Bid_P-1>-advantage/10000]=1   \n",
      "    \n",
      "    ttlabels = df.Date.copy()\n",
      "    \n",
      "    cm,clf_pos = mmll.clf_cross_validation\\\n",
      "    (eclf_pos,X_p,y_p,test_size=20,n_folds=20,train_test_labels = ttlabels,verbose = False)\n",
      "    fscore1 = clf_pos.fscore\n",
      "    mio.Forest2Sql(clf_pos, X_p,2,1,advantage,fscore1,db)\n",
      "    \n",
      "    cm,clf_neg = mmll.clf_cross_validation\\\n",
      "    (eclf_neg,X_n,y_n,test_size=20,n_folds=20,train_test_labels = ttlabels,verbose = False)\n",
      "    fscore2 = clf_neg.fscore\n",
      "    mio.Forest2Sql(clf_neg,X_n,2,-1,advantage,fscore2,db)\n",
      "    \n",
      "    print \"advantage-\", advantage,\" f1-\", fscore1, \" f2-\",fscore2\n",
      "    \n",
      "    return X_p, X_n,clf_pos,clf_neg"
     ],
     "language": "python",
     "metadata": {},
     "outputs": [],
     "prompt_number": 267
    },
    {
     "cell_type": "code",
     "collapsed": false,
     "input": [
      "def Forest2SqlClfPerc(eclf_pos,eclf_neg,advantage,db,df):  \n",
      "    X_p = df[df.a14>0].copy()\n",
      "    X_p.index = range(X_p.shape[0])\n",
      "    X_p=X_p[['Ask','AskD','Near','Far','Spread',\n",
      "     'D5', 'D555', 'D66', 'V1','V1n', 'V11', 'V11n',\n",
      "     'V8','V8n','V8nn', 'a1','a4','a5']]\n",
      "\n",
      "    X_n = df[df.a14<0].copy()\n",
      "    X_n.index = range(X_n.shape[0])\n",
      "    X_n=X_n[['Bid','BidD','Near','Far','Spread',\n",
      "     'D4',  'D444', 'D66', 'V1','V1n', 'V11',  'V11n',\n",
      "     'V8','V8n','V8nn', 'a1','a4','a5']]\n",
      "\n",
      "    y_p = df.imbInd.copy()\n",
      "    y_p[:] = 0\n",
      "    if advantage>0:\n",
      "        y_p[df.OPC_P/df.Ask_P-1.0>advantage/10000]=1\n",
      "    else:\n",
      "        y_p[df.OPC_P/df.Ask_P-1.0<advantage/10000]=1\n",
      "    #y_p[df.OPC_P/df.Ref_P-1.0>advantage/10000]=1\n",
      "    y_p = y_p[df.a14>0]\n",
      "    y_p.index = range(y_p.shape[0])\n",
      "\n",
      "    y_n = df.imbInd.copy()\n",
      "    y_n[:] = 0\n",
      "    if advantage>0:\n",
      "        y_n[df.OPC_P/df.Bid_P-1<-advantage/10000]=1\n",
      "    else:\n",
      "        y_n[df.OPC_P/df.Bid_P-1>-advantage/10000]=1\n",
      "    #y_n[df.OPC_P/df.Ref_P-1<-advantage/10000]=1\n",
      "    y_n = y_n[df.a14<0]\n",
      "    y_n.index = range(y_n.shape[0])\n",
      "    \n",
      "    ttlabesl_pos = df[df.a14>0].Date.copy();ttlabesl_pos.index = range(ttlabesl_pos.shape[0])\n",
      "    ttlabesl_neg = df[df.a14<0].Date.copy();ttlabesl_neg.index = range(ttlabesl_neg.shape[0])\n",
      "    \n",
      "    cm,clf = mmll.clf_cross_validation\\\n",
      "    (eclf_pos,X_p,y_p,test_size=20,n_folds=20,train_test_labels = ttlabesl_pos,verbose = False)\n",
      "    fscore1 = clf.fscore\n",
      "    mio.Forest2Sql(clf, X_p,0,1,advantage,fscore1,db)\n",
      "    \n",
      "    cm,clf = mmll.clf_cross_validation\\\n",
      "    (eclf_neg,X_n,y_n,test_size=20,n_folds=20,train_test_labels = ttlabesl_neg,verbose = False)\n",
      "    fscore2 = clf.fscore\n",
      "    mio.Forest2Sql(clf,X_n,0,-1,advantage,fscore2,db)\n",
      "    \n",
      "    print \"advantage-\", advantage,\" f1-\", fscore1, \" f2-\",fscore2"
     ],
     "language": "python",
     "metadata": {},
     "outputs": [],
     "prompt_number": 47
    },
    {
     "cell_type": "code",
     "collapsed": false,
     "input": [
      "def Forest2SqlClf(eclf_pos,eclf_neg,advantage,db,df):  \n",
      "    X_p = df[df.a14>0].copy()\n",
      "    X_p.index = range(X_p.shape[0])\n",
      "    X_p=X_p[['Ask','AskD','Near','Far','Spread',\n",
      "     'D5', 'D555', 'D66', 'V1','V1n', 'V11', 'V11n',\n",
      "     'V8','V8n','V8nn', 'a1','a4','a5']]\n",
      "\n",
      "    X_n = df[df.a14<0].copy()\n",
      "    X_n.index = range(X_n.shape[0])\n",
      "    X_n=X_n[['Bid','BidD','Near','Far','Spread',\n",
      "     'D4',  'D444', 'D66', 'V1','V1n', 'V11',  'V11n',\n",
      "     'V8','V8n','V8nn', 'a1','a4','a5']]\n",
      "    \n",
      "    y_p = df.imbInd.copy()\n",
      "    y_p[:] = 0\n",
      "    y_p[df.OPC_P-df.Ask_P>advantage/100]=1#y_p[df.OPC_P-df.Ref_P>advantage/100]=1#\n",
      "    y_p = y_p[df.a14>0]\n",
      "    y_p.index = range(y_p.shape[0])\n",
      "\n",
      "    y_n = df.imbInd.copy()\n",
      "    y_n[:] = 0\n",
      "    y_n[df.OPC_P-df.Bid_P<-advantage/100]=1#y_n[df.OPC_P-df.Ref_P<-advantage/100]=1#\n",
      "    y_n = y_n[df.a14<0]\n",
      "    y_n.index = range(y_n.shape[0])\n",
      "    \n",
      "    ttlabesl_pos = df[df.a14>0].Date.copy();ttlabesl_pos.index = range(ttlabesl_pos.shape[0])\n",
      "    ttlabesl_neg = df[df.a14<0].Date.copy();ttlabesl_neg.index = range(ttlabesl_neg.shape[0])\n",
      "    \n",
      "    cm,clf = mmll.clf_cross_validation\\\n",
      "    (eclf_pos,X_p,y_p,test_size=20,n_folds=20,train_test_labels = ttlabesl_pos,verbose = False)\n",
      "    fscore1 = clf.fscore\n",
      "    mio.Forest2Sql(clf, X_p,0,1,advantage,fscore1,db)\n",
      "    \n",
      "    cm,clf = mmll.clf_cross_validation\\\n",
      "    (eclf_neg,X_n,y_n,test_size=20,n_folds=20,train_test_labels = ttlabesl_neg,verbose = False)\n",
      "    fscore2 = clf.fscore\n",
      "    mio.Forest2Sql(clf,X_n,0,-1,advantage,fscore2,db)\n",
      "    \n",
      "    print \"advantage-\", advantage,\" f1-\", fscore1, \" f2-\",fscore2"
     ],
     "language": "python",
     "metadata": {},
     "outputs": [],
     "prompt_number": 86
    },
    {
     "cell_type": "code",
     "collapsed": false,
     "input": [
      "db = '/home/user1/Desktop/Share2Windows/Qimb/TMP.sql'"
     ],
     "language": "python",
     "metadata": {},
     "outputs": [],
     "prompt_number": 268
    },
    {
     "cell_type": "code",
     "collapsed": false,
     "input": [
      "reload(mio)\n",
      "mio.DropDB(db)"
     ],
     "language": "python",
     "metadata": {},
     "outputs": [
      {
       "output_type": "stream",
       "stream": "stdout",
       "text": [
        "SQLite version: 3.7.13\n"
       ]
      }
     ],
     "prompt_number": 269
    },
    {
     "cell_type": "code",
     "collapsed": false,
     "input": [
      "reload(mio)\n",
      "X_pos, X_neg,clf_pos,clf_neg = Forest2SqlZeroImbPerc(eclf_pos,eclf_neg,1.0,db,fdf)\n",
      "\n",
      "mio.TestData2Sql(1, X_pos,ypln_pos,db)\n",
      "mio.TestData2Sql(-1, X_neg,ypln_neg,db)"
     ],
     "language": "python",
     "metadata": {},
     "outputs": [
      {
       "output_type": "stream",
       "stream": "stdout",
       "text": [
        "26.0 sec: Precision - 0.77, Recall - 0.89, F_Score - 0.83, max F_Score - 0.84\n",
        "SQLite version: 3.7.13\n",
        "Type 2\n",
        "28.5 sec: Precision - 0.82, Recall - 0.92, F_Score - 0.87, max F_Score - 0.88"
       ]
      },
      {
       "output_type": "stream",
       "stream": "stdout",
       "text": [
        "\n",
        "SQLite version: 3.7.13\n",
        "Type 2\n",
        "advantage-"
       ]
      },
      {
       "output_type": "stream",
       "stream": "stdout",
       "text": [
        " 1.0  f1- 0.841726618705  f2- 0.878624078624\n"
       ]
      }
     ],
     "prompt_number": 270
    },
    {
     "cell_type": "code",
     "collapsed": false,
     "input": [
      "reload(mio)\n",
      "for advantage in reversed([30+x*5.0 for x in xrange(15)]):\n",
      "    Forest2SqlClfPerc(eclf_pos,eclf_neg,-float(advantage),db,fdf)\n",
      "for advantage in reversed([10+x*2.0 for x in xrange(10)]):\n",
      "    Forest2SqlClfPerc(eclf_pos,eclf_neg,-float(advantage),db,fdf)\n",
      "for advantage in reversed(range(10)):\n",
      "    Forest2SqlClfPerc(eclf_pos,eclf_neg,-float(advantage),db,fdf)"
     ],
     "language": "python",
     "metadata": {},
     "outputs": [
      {
       "output_type": "stream",
       "stream": "stdout",
       "text": [
        "7.8 sec: Precision - 0.95, Recall - 0.91, F_Score - 0.93, max F_Score - 0.96\n",
        "SQLite version: 3.7.13\n",
        "7.6 sec: Precision - 0.93, Recall - 0.95, F_Score - 0.94, max F_Score - 0.97"
       ]
      },
      {
       "output_type": "stream",
       "stream": "stdout",
       "text": [
        "\n",
        "SQLite version: 3.7.13\n",
        "advantage-"
       ]
      },
      {
       "output_type": "stream",
       "stream": "stdout",
       "text": [
        " -100.0  f1- 0.960863697706  f2- 0.966101694915\n",
        "7.9 sec: Precision - 0.95, Recall - 0.90, F_Score - 0.92, max F_Score - 0.95"
       ]
      },
      {
       "output_type": "stream",
       "stream": "stdout",
       "text": [
        "\n",
        "SQLite version: 3.7.13\n",
        "7.5 sec: Precision - 0.94, Recall - 0.94, F_Score - 0.94, max F_Score - 0.97"
       ]
      },
      {
       "output_type": "stream",
       "stream": "stdout",
       "text": [
        "\n",
        "SQLite version: 3.7.13\n",
        "advantage-"
       ]
      },
      {
       "output_type": "stream",
       "stream": "stdout",
       "text": [
        " -95.0  f1- 0.954436450839  f2- 0.965417867435\n",
        "7.6 sec: Precision - 0.94, Recall - 0.90, F_Score - 0.92, max F_Score - 0.95"
       ]
      },
      {
       "output_type": "stream",
       "stream": "stdout",
       "text": [
        "\n",
        "SQLite version: 3.7.13\n",
        "7.8 sec: Precision - 0.93, Recall - 0.93, F_Score - 0.93, max F_Score - 0.96"
       ]
      },
      {
       "output_type": "stream",
       "stream": "stdout",
       "text": [
        "\n",
        "SQLite version: 3.7.13\n",
        "advantage-"
       ]
      },
      {
       "output_type": "stream",
       "stream": "stdout",
       "text": [
        " -90.0  f1- 0.94750656168  f2- 0.957309184994\n",
        "7.7 sec: Precision - 0.95, Recall - 0.89, F_Score - 0.91, max F_Score - 0.95"
       ]
      },
      {
       "output_type": "stream",
       "stream": "stdout",
       "text": [
        "\n",
        "SQLite version: 3.7.13\n",
        "7.8 sec: Precision - 0.95, Recall - 0.92, F_Score - 0.94, max F_Score - 0.96"
       ]
      },
      {
       "output_type": "stream",
       "stream": "stdout",
       "text": [
        "\n",
        "SQLite version: 3.7.13\n",
        "advantage-"
       ]
      },
      {
       "output_type": "stream",
       "stream": "stdout",
       "text": [
        " -85.0  f1- 0.952  f2- 0.964285714286\n",
        "7.8 sec: Precision - 0.95, Recall - 0.88, F_Score - 0.92, max F_Score - 0.95"
       ]
      },
      {
       "output_type": "stream",
       "stream": "stdout",
       "text": [
        "\n",
        "SQLite version: 3.7.13\n",
        "7.6 sec: Precision - 0.93, Recall - 0.93, F_Score - 0.93, max F_Score - 0.96"
       ]
      },
      {
       "output_type": "stream",
       "stream": "stdout",
       "text": [
        "\n",
        "SQLite version: 3.7.13\n",
        "advantage-"
       ]
      },
      {
       "output_type": "stream",
       "stream": "stdout",
       "text": [
        " -80.0  f1- 0.946047678795  f2- 0.958512160229\n",
        "7.7 sec: Precision - 0.94, Recall - 0.88, F_Score - 0.91, max F_Score - 0.94"
       ]
      },
      {
       "output_type": "stream",
       "stream": "stdout",
       "text": [
        "\n",
        "SQLite version: 3.7.13\n",
        "7.5 sec: Precision - 0.94, Recall - 0.92, F_Score - 0.93, max F_Score - 0.95"
       ]
      },
      {
       "output_type": "stream",
       "stream": "stdout",
       "text": [
        "\n",
        "SQLite version: 3.7.13\n",
        "advantage-"
       ]
      },
      {
       "output_type": "stream",
       "stream": "stdout",
       "text": [
        " -75.0  f1- 0.939473684211  f2- 0.953987730061\n",
        "7.8 sec: Precision - 0.94, Recall - 0.87, F_Score - 0.91, max F_Score - 0.95"
       ]
      },
      {
       "output_type": "stream",
       "stream": "stdout",
       "text": [
        "\n",
        "SQLite version: 3.7.13\n",
        "7.8 sec: Precision - 0.92, Recall - 0.92, F_Score - 0.92, max F_Score - 0.95"
       ]
      },
      {
       "output_type": "stream",
       "stream": "stdout",
       "text": [
        "\n",
        "SQLite version: 3.7.13\n",
        "advantage-"
       ]
      },
      {
       "output_type": "stream",
       "stream": "stdout",
       "text": [
        " -70.0  f1- 0.948402948403  f2- 0.950495049505\n",
        "7.6 sec: Precision - 0.94, Recall - 0.86, F_Score - 0.90, max F_Score - 0.93"
       ]
      },
      {
       "output_type": "stream",
       "stream": "stdout",
       "text": [
        "\n",
        "SQLite version: 3.7.13\n",
        "7.7 sec: Precision - 0.95, Recall - 0.92, F_Score - 0.93, max F_Score - 0.96"
       ]
      },
      {
       "output_type": "stream",
       "stream": "stdout",
       "text": [
        "\n",
        "SQLite version: 3.7.13\n",
        "advantage-"
       ]
      },
      {
       "output_type": "stream",
       "stream": "stdout",
       "text": [
        " -65.0  f1- 0.928487690504  f2- 0.957637997433\n",
        "7.8 sec: Precision - 0.94, Recall - 0.87, F_Score - 0.90, max F_Score - 0.94"
       ]
      },
      {
       "output_type": "stream",
       "stream": "stdout",
       "text": [
        "\n",
        "SQLite version: 3.7.13\n",
        "7.7 sec: Precision - 0.94, Recall - 0.91, F_Score - 0.93, max F_Score - 0.95"
       ]
      },
      {
       "output_type": "stream",
       "stream": "stdout",
       "text": [
        "\n",
        "SQLite version: 3.7.13\n",
        "advantage-"
       ]
      },
      {
       "output_type": "stream",
       "stream": "stdout",
       "text": [
        " -60.0  f1- 0.937576499388  f2- 0.954285714286\n",
        "7.5 sec: Precision - 0.94, Recall - 0.85, F_Score - 0.89, max F_Score - 0.93"
       ]
      },
      {
       "output_type": "stream",
       "stream": "stdout",
       "text": [
        "\n",
        "SQLite version: 3.7.13\n",
        "7.7 sec: Precision - 0.95, Recall - 0.91, F_Score - 0.93, max F_Score - 0.95"
       ]
      },
      {
       "output_type": "stream",
       "stream": "stdout",
       "text": [
        "\n",
        "SQLite version: 3.7.13\n",
        "advantage-"
       ]
      },
      {
       "output_type": "stream",
       "stream": "stdout",
       "text": [
        " -55.0  f1- 0.933901918977  f2- 0.948586118252\n",
        "7.8 sec: Precision - 0.94, Recall - 0.84, F_Score - 0.89, max F_Score - 0.91"
       ]
      },
      {
       "output_type": "stream",
       "stream": "stdout",
       "text": [
        "\n",
        "SQLite version: 3.7.13\n",
        "7.6 sec: Precision - 0.93, Recall - 0.92, F_Score - 0.92, max F_Score - 0.96"
       ]
      },
      {
       "output_type": "stream",
       "stream": "stdout",
       "text": [
        "\n",
        "SQLite version: 3.7.13\n",
        "advantage-"
       ]
      },
      {
       "output_type": "stream",
       "stream": "stdout",
       "text": [
        " -50.0  f1- 0.912912912913  f2- 0.955223880597\n",
        "7.8 sec: Precision - 0.93, Recall - 0.84, F_Score - 0.88, max F_Score - 0.92"
       ]
      },
      {
       "output_type": "stream",
       "stream": "stdout",
       "text": [
        "\n",
        "SQLite version: 3.7.13\n",
        "7.8 sec: Precision - 0.92, Recall - 0.91, F_Score - 0.92, max F_Score - 0.96"
       ]
      },
      {
       "output_type": "stream",
       "stream": "stdout",
       "text": [
        "\n",
        "SQLite version: 3.7.13\n",
        "advantage-"
       ]
      },
      {
       "output_type": "stream",
       "stream": "stdout",
       "text": [
        " -45.0  f1- 0.921322690992  f2- 0.955631399317\n",
        "7.6 sec: Precision - 0.93, Recall - 0.84, F_Score - 0.88, max F_Score - 0.93"
       ]
      },
      {
       "output_type": "stream",
       "stream": "stdout",
       "text": [
        "\n",
        "SQLite version: 3.7.13\n",
        "7.7 sec: Precision - 0.88, Recall - 0.91, F_Score - 0.89, max F_Score - 0.94"
       ]
      },
      {
       "output_type": "stream",
       "stream": "stdout",
       "text": [
        "\n",
        "SQLite version: 3.7.13\n",
        "advantage-"
       ]
      },
      {
       "output_type": "stream",
       "stream": "stdout",
       "text": [
        " -40.0  f1- 0.925586136595  f2- 0.937081659973\n",
        "7.8 sec: Precision - 0.93, Recall - 0.82, F_Score - 0.87, max F_Score - 0.90"
       ]
      },
      {
       "output_type": "stream",
       "stream": "stdout",
       "text": [
        "\n",
        "SQLite version: 3.7.13\n",
        "7.5 sec: Precision - 0.92, Recall - 0.89, F_Score - 0.91, max F_Score - 0.94"
       ]
      },
      {
       "output_type": "stream",
       "stream": "stdout",
       "text": [
        "\n",
        "SQLite version: 3.7.13\n",
        "advantage-"
       ]
      },
      {
       "output_type": "stream",
       "stream": "stdout",
       "text": [
        " -35.0  f1- 0.897175141243  f2- 0.942791762014\n",
        "8.0 sec: Precision - 0.94, Recall - 0.79, F_Score - 0.86, max F_Score - 0.91"
       ]
      },
      {
       "output_type": "stream",
       "stream": "stdout",
       "text": [
        "\n",
        "SQLite version: 3.7.13\n",
        "7.9 sec: Precision - 0.91, Recall - 0.89, F_Score - 0.90, max F_Score - 0.93"
       ]
      },
      {
       "output_type": "stream",
       "stream": "stdout",
       "text": [
        "\n",
        "SQLite version: 3.7.13\n",
        "advantage-"
       ]
      },
      {
       "output_type": "stream",
       "stream": "stdout",
       "text": [
        " -30.0  f1- 0.905405405405  f2- 0.934240362812\n",
        "7.8 sec: Precision - 0.94, Recall - 0.78, F_Score - 0.85, max F_Score - 0.90"
       ]
      },
      {
       "output_type": "stream",
       "stream": "stdout",
       "text": [
        "\n",
        "SQLite version: 3.7.13\n",
        "7.6 sec: Precision - 0.90, Recall - 0.88, F_Score - 0.89, max F_Score - 0.93"
       ]
      },
      {
       "output_type": "stream",
       "stream": "stdout",
       "text": [
        "\n",
        "SQLite version: 3.7.13\n",
        "advantage-"
       ]
      },
      {
       "output_type": "stream",
       "stream": "stdout",
       "text": [
        " -28.0  f1- 0.896882494005  f2- 0.930962343096\n",
        "7.6 sec: Precision - 0.94, Recall - 0.78, F_Score - 0.85, max F_Score - 0.89"
       ]
      },
      {
       "output_type": "stream",
       "stream": "stdout",
       "text": [
        "\n",
        "SQLite version: 3.7.13\n",
        "7.6 sec: Precision - 0.91, Recall - 0.88, F_Score - 0.89, max F_Score - 0.92"
       ]
      },
      {
       "output_type": "stream",
       "stream": "stdout",
       "text": [
        "\n",
        "SQLite version: 3.7.13\n",
        "advantage-"
       ]
      },
      {
       "output_type": "stream",
       "stream": "stdout",
       "text": [
        " -26.0  f1- 0.892335766423  f2- 0.921290322581\n",
        "7.6 sec: Precision - 0.94, Recall - 0.76, F_Score - 0.84, max F_Score - 0.88"
       ]
      },
      {
       "output_type": "stream",
       "stream": "stdout",
       "text": [
        "\n",
        "SQLite version: 3.7.13\n",
        "7.6 sec: Precision - 0.90, Recall - 0.87, F_Score - 0.88, max F_Score - 0.92"
       ]
      },
      {
       "output_type": "stream",
       "stream": "stdout",
       "text": [
        "\n",
        "SQLite version: 3.7.13\n",
        "advantage-"
       ]
      },
      {
       "output_type": "stream",
       "stream": "stdout",
       "text": [
        " -24.0  f1- 0.875  f2- 0.924651162791\n",
        "8.0 sec: Precision - 0.93, Recall - 0.76, F_Score - 0.84, max F_Score - 0.88"
       ]
      },
      {
       "output_type": "stream",
       "stream": "stdout",
       "text": [
        "\n",
        "SQLite version: 3.7.13\n",
        "7.8 sec: Precision - 0.91, Recall - 0.86, F_Score - 0.88, max F_Score - 0.92"
       ]
      },
      {
       "output_type": "stream",
       "stream": "stdout",
       "text": [
        "\n",
        "SQLite version: 3.7.13\n",
        "advantage-"
       ]
      },
      {
       "output_type": "stream",
       "stream": "stdout",
       "text": [
        " -22.0  f1- 0.878093492209  f2- 0.91601343785\n",
        "7.8 sec: Precision - 0.94, Recall - 0.74, F_Score - 0.83, max F_Score - 0.87"
       ]
      },
      {
       "output_type": "stream",
       "stream": "stdout",
       "text": [
        "\n",
        "SQLite version: 3.7.13\n",
        "7.6 sec: Precision - 0.91, Recall - 0.85, F_Score - 0.88, max F_Score - 0.92"
       ]
      },
      {
       "output_type": "stream",
       "stream": "stdout",
       "text": [
        "\n",
        "SQLite version: 3.7.13\n",
        "advantage-"
       ]
      },
      {
       "output_type": "stream",
       "stream": "stdout",
       "text": [
        " -20.0  f1- 0.870264064294  f2- 0.918714555766\n",
        "7.8 sec: Precision - 0.93, Recall - 0.72, F_Score - 0.81, max F_Score - 0.86"
       ]
      },
      {
       "output_type": "stream",
       "stream": "stdout",
       "text": [
        "\n",
        "SQLite version: 3.7.13\n",
        "7.7 sec: Precision - 0.89, Recall - 0.87, F_Score - 0.88, max F_Score - 0.92"
       ]
      },
      {
       "output_type": "stream",
       "stream": "stdout",
       "text": [
        "\n",
        "SQLite version: 3.7.13\n",
        "advantage-"
       ]
      },
      {
       "output_type": "stream",
       "stream": "stdout",
       "text": [
        " -18.0  f1- 0.856627592426  f2- 0.916666666667\n",
        "7.7 sec: Precision - 0.93, Recall - 0.71, F_Score - 0.81, max F_Score - 0.84"
       ]
      },
      {
       "output_type": "stream",
       "stream": "stdout",
       "text": [
        "\n",
        "SQLite version: 3.7.13\n",
        "7.3 sec: Precision - 0.91, Recall - 0.84, F_Score - 0.87, max F_Score - 0.90"
       ]
      },
      {
       "output_type": "stream",
       "stream": "stdout",
       "text": [
        "\n",
        "SQLite version: 3.7.13\n",
        "advantage-"
       ]
      },
      {
       "output_type": "stream",
       "stream": "stdout",
       "text": [
        " -16.0  f1- 0.840787119857  f2- 0.899543378995\n",
        "7.7 sec: Precision - 0.92, Recall - 0.72, F_Score - 0.80, max F_Score - 0.84"
       ]
      },
      {
       "output_type": "stream",
       "stream": "stdout",
       "text": [
        "\n",
        "SQLite version: 3.7.13\n",
        "7.4 sec: Precision - 0.90, Recall - 0.85, F_Score - 0.87, max F_Score - 0.90"
       ]
      },
      {
       "output_type": "stream",
       "stream": "stdout",
       "text": [
        "\n",
        "SQLite version: 3.7.13\n",
        "advantage-"
       ]
      },
      {
       "output_type": "stream",
       "stream": "stdout",
       "text": [
        " -14.0  f1- 0.836801752464  f2- 0.898756660746\n",
        "7.7 sec: Precision - 0.91, Recall - 0.70, F_Score - 0.79, max F_Score - 0.84"
       ]
      },
      {
       "output_type": "stream",
       "stream": "stdout",
       "text": [
        "\n",
        "SQLite version: 3.7.13\n",
        "7.5 sec: Precision - 0.91, Recall - 0.80, F_Score - 0.85, max F_Score - 0.89"
       ]
      },
      {
       "output_type": "stream",
       "stream": "stdout",
       "text": [
        "\n",
        "SQLite version: 3.7.13\n",
        "advantage-"
       ]
      },
      {
       "output_type": "stream",
       "stream": "stdout",
       "text": [
        " -12.0  f1- 0.839931153184  f2- 0.889140271493\n",
        "7.5 sec: Precision - 0.90, Recall - 0.69, F_Score - 0.78, max F_Score - 0.82"
       ]
      },
      {
       "output_type": "stream",
       "stream": "stdout",
       "text": [
        "\n",
        "SQLite version: 3.7.13\n",
        "7.5 sec: Precision - 0.91, Recall - 0.80, F_Score - 0.85, max F_Score - 0.89"
       ]
      },
      {
       "output_type": "stream",
       "stream": "stdout",
       "text": [
        "\n",
        "SQLite version: 3.7.13\n",
        "advantage-"
       ]
      },
      {
       "output_type": "stream",
       "stream": "stdout",
       "text": [
        " -10.0  f1- 0.817469204927  f2- 0.888038277512\n",
        "7.7 sec: Precision - 0.90, Recall - 0.70, F_Score - 0.79, max F_Score - 0.81"
       ]
      },
      {
       "output_type": "stream",
       "stream": "stdout",
       "text": [
        "\n",
        "SQLite version: 3.7.13\n",
        "7.5 sec: Precision - 0.91, Recall - 0.79, F_Score - 0.85, max F_Score - 0.88"
       ]
      },
      {
       "output_type": "stream",
       "stream": "stdout",
       "text": [
        "\n",
        "SQLite version: 3.7.13\n",
        "advantage-"
       ]
      },
      {
       "output_type": "stream",
       "stream": "stdout",
       "text": [
        " -9.0  f1- 0.809482001756  f2- 0.88458781362\n",
        "7.6 sec: Precision - 0.90, Recall - 0.67, F_Score - 0.77, max F_Score - 0.79"
       ]
      },
      {
       "output_type": "stream",
       "stream": "stdout",
       "text": [
        "\n",
        "SQLite version: 3.7.13\n",
        "7.8 sec: Precision - 0.91, Recall - 0.76, F_Score - 0.83, max F_Score - 0.88"
       ]
      },
      {
       "output_type": "stream",
       "stream": "stdout",
       "text": [
        "\n",
        "SQLite version: 3.7.13\n",
        "advantage-"
       ]
      },
      {
       "output_type": "stream",
       "stream": "stdout",
       "text": [
        " -8.0  f1- 0.794957983193  f2- 0.877034358047\n",
        "7.7 sec: Precision - 0.91, Recall - 0.67, F_Score - 0.77, max F_Score - 0.82"
       ]
      },
      {
       "output_type": "stream",
       "stream": "stdout",
       "text": [
        "\n",
        "SQLite version: 3.7.13\n",
        "7.5 sec: Precision - 0.90, Recall - 0.76, F_Score - 0.83, max F_Score - 0.87"
       ]
      },
      {
       "output_type": "stream",
       "stream": "stdout",
       "text": [
        "\n",
        "SQLite version: 3.7.13\n",
        "advantage-"
       ]
      },
      {
       "output_type": "stream",
       "stream": "stdout",
       "text": [
        " -7.0  f1- 0.823770491803  f2- 0.874074074074\n",
        "7.7 sec: Precision - 0.90, Recall - 0.65, F_Score - 0.76, max F_Score - 0.80"
       ]
      },
      {
       "output_type": "stream",
       "stream": "stdout",
       "text": [
        "\n",
        "SQLite version: 3.7.13\n",
        "7.5 sec: Precision - 0.91, Recall - 0.74, F_Score - 0.81, max F_Score - 0.87"
       ]
      },
      {
       "output_type": "stream",
       "stream": "stdout",
       "text": [
        "\n",
        "SQLite version: 3.7.13\n",
        "advantage-"
       ]
      },
      {
       "output_type": "stream",
       "stream": "stdout",
       "text": [
        " -6.0  f1- 0.80206185567  f2- 0.866707242848\n",
        "7.8 sec: Precision - 0.89, Recall - 0.64, F_Score - 0.75, max F_Score - 0.79"
       ]
      },
      {
       "output_type": "stream",
       "stream": "stdout",
       "text": [
        "\n",
        "SQLite version: 3.7.13\n",
        "7.7 sec: Precision - 0.91, Recall - 0.74, F_Score - 0.82, max F_Score - 0.87"
       ]
      },
      {
       "output_type": "stream",
       "stream": "stdout",
       "text": [
        "\n",
        "SQLite version: 3.7.13\n",
        "advantage-"
       ]
      },
      {
       "output_type": "stream",
       "stream": "stdout",
       "text": [
        " -5.0  f1- 0.786666666667  f2- 0.87089381207\n",
        "7.7 sec: Precision - 0.88, Recall - 0.63, F_Score - 0.73, max F_Score - 0.78"
       ]
      },
      {
       "output_type": "stream",
       "stream": "stdout",
       "text": [
        "\n",
        "SQLite version: 3.7.13\n",
        "7.7 sec: Precision - 0.89, Recall - 0.73, F_Score - 0.80, max F_Score - 0.85"
       ]
      },
      {
       "output_type": "stream",
       "stream": "stdout",
       "text": [
        "\n",
        "SQLite version: 3.7.13\n",
        "advantage-"
       ]
      },
      {
       "output_type": "stream",
       "stream": "stdout",
       "text": [
        " -4.0  f1- 0.778720123362  f2- 0.852134146341\n",
        "7.8 sec: Precision - 0.87, Recall - 0.64, F_Score - 0.74, max F_Score - 0.79"
       ]
      },
      {
       "output_type": "stream",
       "stream": "stdout",
       "text": [
        "\n",
        "SQLite version: 3.7.13\n",
        "7.6 sec: Precision - 0.88, Recall - 0.72, F_Score - 0.79, max F_Score - 0.84"
       ]
      },
      {
       "output_type": "stream",
       "stream": "stdout",
       "text": [
        "\n",
        "SQLite version: 3.7.13\n",
        "advantage-"
       ]
      },
      {
       "output_type": "stream",
       "stream": "stdout",
       "text": [
        " -3.0  f1- 0.792313377679  f2- 0.840138408304\n",
        "7.7 sec: Precision - 0.87, Recall - 0.64, F_Score - 0.74, max F_Score - 0.77"
       ]
      },
      {
       "output_type": "stream",
       "stream": "stdout",
       "text": [
        "\n",
        "SQLite version: 3.7.13\n",
        "7.8 sec: Precision - 0.87, Recall - 0.73, F_Score - 0.79, max F_Score - 0.85"
       ]
      },
      {
       "output_type": "stream",
       "stream": "stdout",
       "text": [
        "\n",
        "SQLite version: 3.7.13\n",
        "advantage-"
       ]
      },
      {
       "output_type": "stream",
       "stream": "stdout",
       "text": [
        " -2.0  f1- 0.770428015564  f2- 0.848904267589\n",
        "7.8 sec: Precision - 0.86, Recall - 0.66, F_Score - 0.75, max F_Score - 0.77"
       ]
      },
      {
       "output_type": "stream",
       "stream": "stdout",
       "text": [
        "\n",
        "SQLite version: 3.7.13\n",
        "7.5 sec: Precision - 0.88, Recall - 0.72, F_Score - 0.79, max F_Score - 0.84"
       ]
      },
      {
       "output_type": "stream",
       "stream": "stdout",
       "text": [
        "\n",
        "SQLite version: 3.7.13\n",
        "advantage-"
       ]
      },
      {
       "output_type": "stream",
       "stream": "stdout",
       "text": [
        " -1.0  f1- 0.772997032641  f2- 0.840455840456\n",
        "7.3 sec: Precision - 0.86, Recall - 0.66, F_Score - 0.74, max F_Score - 0.77"
       ]
      },
      {
       "output_type": "stream",
       "stream": "stdout",
       "text": [
        "\n",
        "SQLite version: 3.7.13\n",
        "7.5 sec: Precision - 0.89, Recall - 0.72, F_Score - 0.80, max F_Score - 0.85"
       ]
      },
      {
       "output_type": "stream",
       "stream": "stdout",
       "text": [
        "\n",
        "SQLite version: 3.7.13\n",
        "advantage-"
       ]
      },
      {
       "output_type": "stream",
       "stream": "stdout",
       "text": [
        " -0.0  f1- 0.766414141414  f2- 0.852531997774\n"
       ]
      }
     ],
     "prompt_number": 62
    },
    {
     "cell_type": "code",
     "collapsed": false,
     "input": [
      "reload(mio)\n",
      "for advantage in range(10):\n",
      "    Forest2SqlClfPerc(eclf_pos,eclf_neg,float(advantage),db,fdf)\n",
      "for advantage in [10+x*2.0 for x in xrange(10)]:\n",
      "    Forest2SqlClfPerc(eclf_pos,eclf_neg,float(advantage),db,fdf)\n",
      "for advantage in [30+x*5.0 for x in xrange(15)]:\n",
      "    Forest2SqlClfPerc(eclf_pos,eclf_neg,float(advantage),db,fdf)"
     ],
     "language": "python",
     "metadata": {},
     "outputs": [
      {
       "output_type": "stream",
       "stream": "stdout",
       "text": [
        "7.6 sec: Precision - 0.86, Recall - 0.67, F_Score - 0.76, max F_Score - 0.80\n",
        "SQLite version: 3.7.13\n",
        "7.5 sec: Precision - 0.88, Recall - 0.72, F_Score - 0.79, max F_Score - 0.84"
       ]
      },
      {
       "output_type": "stream",
       "stream": "stdout",
       "text": [
        "\n",
        "SQLite version: 3.7.13\n",
        "advantage-"
       ]
      },
      {
       "output_type": "stream",
       "stream": "stdout",
       "text": [
        " 0.0  f1- 0.80063542494  f2- 0.839803171132\n",
        "7.7 sec: Precision - 0.79, Recall - 0.84, F_Score - 0.81, max F_Score - 0.83"
       ]
      },
      {
       "output_type": "stream",
       "stream": "stdout",
       "text": [
        "\n",
        "SQLite version: 3.7.13\n",
        "7.7 sec: Precision - 0.85, Recall - 0.89, F_Score - 0.87, max F_Score - 0.89"
       ]
      },
      {
       "output_type": "stream",
       "stream": "stdout",
       "text": [
        "\n",
        "SQLite version: 3.7.13\n",
        "advantage-"
       ]
      },
      {
       "output_type": "stream",
       "stream": "stdout",
       "text": [
        " 1.0  f1- 0.830142063002  f2- 0.888111888112\n",
        "7.8 sec: Precision - 0.80, Recall - 0.82, F_Score - 0.81, max F_Score - 0.83"
       ]
      },
      {
       "output_type": "stream",
       "stream": "stdout",
       "text": [
        "\n",
        "SQLite version: 3.7.13\n",
        "7.8 sec: Precision - 0.85, Recall - 0.89, F_Score - 0.87, max F_Score - 0.89"
       ]
      },
      {
       "output_type": "stream",
       "stream": "stdout",
       "text": [
        "\n",
        "SQLite version: 3.7.13\n",
        "advantage-"
       ]
      },
      {
       "output_type": "stream",
       "stream": "stdout",
       "text": [
        " 2.0  f1- 0.826900584795  f2- 0.892978208232\n",
        "7.9 sec: Precision - 0.80, Recall - 0.81, F_Score - 0.81, max F_Score - 0.82"
       ]
      },
      {
       "output_type": "stream",
       "stream": "stdout",
       "text": [
        "\n",
        "SQLite version: 3.7.13\n",
        "7.6 sec: Precision - 0.84, Recall - 0.88, F_Score - 0.86, max F_Score - 0.87"
       ]
      },
      {
       "output_type": "stream",
       "stream": "stdout",
       "text": [
        "\n",
        "SQLite version: 3.7.13\n",
        "advantage-"
       ]
      },
      {
       "output_type": "stream",
       "stream": "stdout",
       "text": [
        " 3.0  f1- 0.824468085106  f2- 0.872643678161\n",
        "7.5 sec: Precision - 0.80, Recall - 0.81, F_Score - 0.80, max F_Score - 0.82"
       ]
      },
      {
       "output_type": "stream",
       "stream": "stdout",
       "text": [
        "\n",
        "SQLite version: 3.7.13\n",
        "7.7 sec: Precision - 0.84, Recall - 0.87, F_Score - 0.86, max F_Score - 0.87"
       ]
      },
      {
       "output_type": "stream",
       "stream": "stdout",
       "text": [
        "\n",
        "SQLite version: 3.7.13\n",
        "advantage-"
       ]
      },
      {
       "output_type": "stream",
       "stream": "stdout",
       "text": [
        " 4.0  f1- 0.820970440602  f2- 0.87380699894\n",
        "7.5 sec: Precision - 0.79, Recall - 0.80, F_Score - 0.79, max F_Score - 0.84"
       ]
      },
      {
       "output_type": "stream",
       "stream": "stdout",
       "text": [
        "\n",
        "SQLite version: 3.7.13\n",
        "7.8 sec: Precision - 0.84, Recall - 0.86, F_Score - 0.85, max F_Score - 0.88"
       ]
      },
      {
       "output_type": "stream",
       "stream": "stdout",
       "text": [
        "\n",
        "SQLite version: 3.7.13\n",
        "advantage-"
       ]
      },
      {
       "output_type": "stream",
       "stream": "stdout",
       "text": [
        " 5.0  f1- 0.837150127226  f2- 0.882087305569\n",
        "7.8 sec: Precision - 0.78, Recall - 0.78, F_Score - 0.78, max F_Score - 0.81"
       ]
      },
      {
       "output_type": "stream",
       "stream": "stdout",
       "text": [
        "\n",
        "SQLite version: 3.7.13\n",
        "7.9 sec: Precision - 0.84, Recall - 0.85, F_Score - 0.84, max F_Score - 0.87"
       ]
      },
      {
       "output_type": "stream",
       "stream": "stdout",
       "text": [
        "\n",
        "SQLite version: 3.7.13\n",
        "advantage-"
       ]
      },
      {
       "output_type": "stream",
       "stream": "stdout",
       "text": [
        " 6.0  f1- 0.805793285056  f2- 0.87323943662\n",
        "7.7 sec: Precision - 0.79, Recall - 0.78, F_Score - 0.78, max F_Score - 0.80"
       ]
      },
      {
       "output_type": "stream",
       "stream": "stdout",
       "text": [
        "\n",
        "SQLite version: 3.7.13\n",
        "7.8 sec: Precision - 0.84, Recall - 0.84, F_Score - 0.84, max F_Score - 0.87"
       ]
      },
      {
       "output_type": "stream",
       "stream": "stdout",
       "text": [
        "\n",
        "SQLite version: 3.7.13\n",
        "advantage-"
       ]
      },
      {
       "output_type": "stream",
       "stream": "stdout",
       "text": [
        " 7.0  f1- 0.803801765105  f2- 0.872469635628\n",
        "7.7 sec: Precision - 0.78, Recall - 0.76, F_Score - 0.77, max F_Score - 0.80"
       ]
      },
      {
       "output_type": "stream",
       "stream": "stdout",
       "text": [
        "\n",
        "SQLite version: 3.7.13\n",
        "7.7 sec: Precision - 0.83, Recall - 0.83, F_Score - 0.83, max F_Score - 0.85"
       ]
      },
      {
       "output_type": "stream",
       "stream": "stdout",
       "text": [
        "\n",
        "SQLite version: 3.7.13\n",
        "advantage-"
       ]
      },
      {
       "output_type": "stream",
       "stream": "stdout",
       "text": [
        " 8.0  f1- 0.803162055336  f2- 0.84903640257\n",
        "7.7 sec: Precision - 0.78, Recall - 0.75, F_Score - 0.76, max F_Score - 0.79"
       ]
      },
      {
       "output_type": "stream",
       "stream": "stdout",
       "text": [
        "\n",
        "SQLite version: 3.7.13\n",
        "7.7 sec: Precision - 0.84, Recall - 0.82, F_Score - 0.83, max F_Score - 0.86"
       ]
      },
      {
       "output_type": "stream",
       "stream": "stdout",
       "text": [
        "\n",
        "SQLite version: 3.7.13\n",
        "advantage-"
       ]
      },
      {
       "output_type": "stream",
       "stream": "stdout",
       "text": [
        " 9.0  f1- 0.7910906298  f2- 0.857811585723\n",
        "7.5 sec: Precision - 0.77, Recall - 0.75, F_Score - 0.76, max F_Score - 0.80"
       ]
      },
      {
       "output_type": "stream",
       "stream": "stdout",
       "text": [
        "\n",
        "SQLite version: 3.7.13\n",
        "7.6 sec: Precision - 0.84, Recall - 0.83, F_Score - 0.83, max F_Score - 0.86"
       ]
      },
      {
       "output_type": "stream",
       "stream": "stdout",
       "text": [
        "\n",
        "SQLite version: 3.7.13\n",
        "advantage-"
       ]
      },
      {
       "output_type": "stream",
       "stream": "stdout",
       "text": [
        " 10.0  f1- 0.799733865602  f2- 0.861111111111\n",
        "7.8 sec: Precision - 0.78, Recall - 0.76, F_Score - 0.77, max F_Score - 0.80"
       ]
      },
      {
       "output_type": "stream",
       "stream": "stdout",
       "text": [
        "\n",
        "SQLite version: 3.7.13\n",
        "7.9 sec: Precision - 0.83, Recall - 0.82, F_Score - 0.82, max F_Score - 0.84"
       ]
      },
      {
       "output_type": "stream",
       "stream": "stdout",
       "text": [
        "\n",
        "SQLite version: 3.7.13\n",
        "advantage-"
       ]
      },
      {
       "output_type": "stream",
       "stream": "stdout",
       "text": [
        " 12.0  f1- 0.795020746888  f2- 0.839285714286\n",
        "7.8 sec: Precision - 0.77, Recall - 0.76, F_Score - 0.76, max F_Score - 0.80"
       ]
      },
      {
       "output_type": "stream",
       "stream": "stdout",
       "text": [
        "\n",
        "SQLite version: 3.7.13\n",
        "7.8 sec: Precision - 0.83, Recall - 0.82, F_Score - 0.83, max F_Score - 0.85"
       ]
      },
      {
       "output_type": "stream",
       "stream": "stdout",
       "text": [
        "\n",
        "SQLite version: 3.7.13\n",
        "advantage-"
       ]
      },
      {
       "output_type": "stream",
       "stream": "stdout",
       "text": [
        " 14.0  f1- 0.797397769517  f2- 0.848284960422\n",
        "7.8 sec: Precision - 0.76, Recall - 0.76, F_Score - 0.76, max F_Score - 0.79"
       ]
      },
      {
       "output_type": "stream",
       "stream": "stdout",
       "text": [
        "\n",
        "SQLite version: 3.7.13\n",
        "7.8 sec: Precision - 0.83, Recall - 0.81, F_Score - 0.82, max F_Score - 0.84"
       ]
      },
      {
       "output_type": "stream",
       "stream": "stdout",
       "text": [
        "\n",
        "SQLite version: 3.7.13\n",
        "advantage-"
       ]
      },
      {
       "output_type": "stream",
       "stream": "stdout",
       "text": [
        " 16.0  f1- 0.78763866878  f2- 0.843728100911\n",
        "7.6 sec: Precision - 0.75, Recall - 0.77, F_Score - 0.76, max F_Score - 0.79"
       ]
      },
      {
       "output_type": "stream",
       "stream": "stdout",
       "text": [
        "\n",
        "SQLite version: 3.7.13\n",
        "7.9 sec: Precision - 0.82, Recall - 0.81, F_Score - 0.82, max F_Score - 0.83"
       ]
      },
      {
       "output_type": "stream",
       "stream": "stdout",
       "text": [
        "\n",
        "SQLite version: 3.7.13\n",
        "advantage-"
       ]
      },
      {
       "output_type": "stream",
       "stream": "stdout",
       "text": [
        " 18.0  f1- 0.790072388831  f2- 0.832977967306\n",
        "7.8 sec: Precision - 0.75, Recall - 0.77, F_Score - 0.76, max F_Score - 0.80"
       ]
      },
      {
       "output_type": "stream",
       "stream": "stdout",
       "text": [
        "\n",
        "SQLite version: 3.7.13\n",
        "7.9 sec: Precision - 0.83, Recall - 0.81, F_Score - 0.82, max F_Score - 0.85"
       ]
      },
      {
       "output_type": "stream",
       "stream": "stdout",
       "text": [
        "\n",
        "SQLite version: 3.7.13\n",
        "advantage-"
       ]
      },
      {
       "output_type": "stream",
       "stream": "stdout",
       "text": [
        " 20.0  f1- 0.795107033639  f2- 0.847372810676\n",
        "7.8 sec: Precision - 0.75, Recall - 0.77, F_Score - 0.76, max F_Score - 0.79"
       ]
      },
      {
       "output_type": "stream",
       "stream": "stdout",
       "text": [
        "\n",
        "SQLite version: 3.7.13\n",
        "7.9 sec: Precision - 0.82, Recall - 0.81, F_Score - 0.82, max F_Score - 0.84"
       ]
      },
      {
       "output_type": "stream",
       "stream": "stdout",
       "text": [
        "\n",
        "SQLite version: 3.7.13\n",
        "advantage-"
       ]
      },
      {
       "output_type": "stream",
       "stream": "stdout",
       "text": [
        " 22.0  f1- 0.793103448276  f2- 0.835322195704\n",
        "7.7 sec: Precision - 0.75, Recall - 0.75, F_Score - 0.75, max F_Score - 0.77"
       ]
      },
      {
       "output_type": "stream",
       "stream": "stdout",
       "text": [
        "\n",
        "SQLite version: 3.7.13\n",
        "7.5 sec: Precision - 0.82, Recall - 0.81, F_Score - 0.81, max F_Score - 0.84"
       ]
      },
      {
       "output_type": "stream",
       "stream": "stdout",
       "text": [
        "\n",
        "SQLite version: 3.7.13\n",
        "advantage-"
       ]
      },
      {
       "output_type": "stream",
       "stream": "stdout",
       "text": [
        " 24.0  f1- 0.774972557629  f2- 0.841452612932\n",
        "7.3 sec: Precision - 0.76, Recall - 0.73, F_Score - 0.75, max F_Score - 0.78"
       ]
      },
      {
       "output_type": "stream",
       "stream": "stdout",
       "text": [
        "\n",
        "SQLite version: 3.7.13\n",
        "7.8 sec: Precision - 0.82, Recall - 0.80, F_Score - 0.81, max F_Score - 0.83"
       ]
      },
      {
       "output_type": "stream",
       "stream": "stdout",
       "text": [
        "\n",
        "SQLite version: 3.7.13\n",
        "advantage-"
       ]
      },
      {
       "output_type": "stream",
       "stream": "stdout",
       "text": [
        " 26.0  f1- 0.780126849894  f2- 0.832350463353\n",
        "7.9 sec: Precision - 0.74, Recall - 0.73, F_Score - 0.73, max F_Score - 0.76"
       ]
      },
      {
       "output_type": "stream",
       "stream": "stdout",
       "text": [
        "\n",
        "SQLite version: 3.7.13\n",
        "7.8 sec: Precision - 0.81, Recall - 0.80, F_Score - 0.80, max F_Score - 0.83"
       ]
      },
      {
       "output_type": "stream",
       "stream": "stdout",
       "text": [
        "\n",
        "SQLite version: 3.7.13\n",
        "advantage-"
       ]
      },
      {
       "output_type": "stream",
       "stream": "stdout",
       "text": [
        " 28.0  f1- 0.757921419518  f2- 0.826210826211\n",
        "7.9 sec: Precision - 0.74, Recall - 0.71, F_Score - 0.72, max F_Score - 0.76"
       ]
      },
      {
       "output_type": "stream",
       "stream": "stdout",
       "text": [
        "\n",
        "SQLite version: 3.7.13\n",
        "7.8 sec: Precision - 0.81, Recall - 0.80, F_Score - 0.80, max F_Score - 0.84"
       ]
      },
      {
       "output_type": "stream",
       "stream": "stdout",
       "text": [
        "\n",
        "SQLite version: 3.7.13\n",
        "advantage-"
       ]
      },
      {
       "output_type": "stream",
       "stream": "stdout",
       "text": [
        " 30.0  f1- 0.759493670886  f2- 0.836638338055\n",
        "7.9 sec: Precision - 0.73, Recall - 0.68, F_Score - 0.71, max F_Score - 0.74"
       ]
      },
      {
       "output_type": "stream",
       "stream": "stdout",
       "text": [
        "\n",
        "SQLite version: 3.7.13\n",
        "7.6 sec: Precision - 0.80, Recall - 0.78, F_Score - 0.79, max F_Score - 0.82"
       ]
      },
      {
       "output_type": "stream",
       "stream": "stdout",
       "text": [
        "\n",
        "SQLite version: 3.7.13\n",
        "advantage-"
       ]
      },
      {
       "output_type": "stream",
       "stream": "stdout",
       "text": [
        " 35.0  f1- 0.74375  f2- 0.821392532795\n",
        "8.0 sec: Precision - 0.72, Recall - 0.66, F_Score - 0.69, max F_Score - 0.72"
       ]
      },
      {
       "output_type": "stream",
       "stream": "stdout",
       "text": [
        "\n",
        "SQLite version: 3.7.13\n",
        "7.8 sec: Precision - 0.79, Recall - 0.76, F_Score - 0.77, max F_Score - 0.80"
       ]
      },
      {
       "output_type": "stream",
       "stream": "stdout",
       "text": [
        "\n",
        "SQLite version: 3.7.13\n",
        "advantage-"
       ]
      },
      {
       "output_type": "stream",
       "stream": "stdout",
       "text": [
        " 40.0  f1- 0.72  f2- 0.802005012531\n",
        "7.8 sec: Precision - 0.70, Recall - 0.65, F_Score - 0.68, max F_Score - 0.73"
       ]
      },
      {
       "output_type": "stream",
       "stream": "stdout",
       "text": [
        "\n",
        "SQLite version: 3.7.13\n",
        "7.7 sec: Precision - 0.79, Recall - 0.75, F_Score - 0.77, max F_Score - 0.80"
       ]
      },
      {
       "output_type": "stream",
       "stream": "stdout",
       "text": [
        "\n",
        "SQLite version: 3.7.13\n",
        "advantage-"
       ]
      },
      {
       "output_type": "stream",
       "stream": "stdout",
       "text": [
        " 45.0  f1- 0.727954971857  f2- 0.80058224163\n",
        "7.7 sec: Precision - 0.72, Recall - 0.65, F_Score - 0.69, max F_Score - 0.72"
       ]
      },
      {
       "output_type": "stream",
       "stream": "stdout",
       "text": [
        "\n",
        "SQLite version: 3.7.13\n",
        "7.6 sec: Precision - 0.79, Recall - 0.75, F_Score - 0.77, max F_Score - 0.80"
       ]
      },
      {
       "output_type": "stream",
       "stream": "stdout",
       "text": [
        "\n",
        "SQLite version: 3.7.13\n",
        "advantage-"
       ]
      },
      {
       "output_type": "stream",
       "stream": "stdout",
       "text": [
        " 50.0  f1- 0.722610722611  f2- 0.796486090776\n",
        "7.9 sec: Precision - 0.71, Recall - 0.63, F_Score - 0.67, max F_Score - 0.72"
       ]
      },
      {
       "output_type": "stream",
       "stream": "stdout",
       "text": [
        "\n",
        "SQLite version: 3.7.13\n",
        "7.8 sec: Precision - 0.78, Recall - 0.74, F_Score - 0.76, max F_Score - 0.80"
       ]
      },
      {
       "output_type": "stream",
       "stream": "stdout",
       "text": [
        "\n",
        "SQLite version: 3.7.13\n",
        "advantage-"
       ]
      },
      {
       "output_type": "stream",
       "stream": "stdout",
       "text": [
        " 55.0  f1- 0.723514211886  f2- 0.804911323329\n",
        "7.8 sec: Precision - 0.71, Recall - 0.62, F_Score - 0.66, max F_Score - 0.71"
       ]
      },
      {
       "output_type": "stream",
       "stream": "stdout",
       "text": [
        "\n",
        "SQLite version: 3.7.13\n",
        "7.7 sec: Precision - 0.76, Recall - 0.71, F_Score - 0.74, max F_Score - 0.77"
       ]
      },
      {
       "output_type": "stream",
       "stream": "stdout",
       "text": [
        "\n",
        "SQLite version: 3.7.13\n",
        "advantage-"
       ]
      },
      {
       "output_type": "stream",
       "stream": "stdout",
       "text": [
        " 60.0  f1- 0.709141274238  f2- 0.774774774775\n",
        "7.8 sec: Precision - 0.69, Recall - 0.60, F_Score - 0.64, max F_Score - 0.68"
       ]
      },
      {
       "output_type": "stream",
       "stream": "stdout",
       "text": [
        "\n",
        "SQLite version: 3.7.13\n",
        "7.7 sec: Precision - 0.76, Recall - 0.71, F_Score - 0.74, max F_Score - 0.77"
       ]
      },
      {
       "output_type": "stream",
       "stream": "stdout",
       "text": [
        "\n",
        "SQLite version: 3.7.13\n",
        "advantage-"
       ]
      },
      {
       "output_type": "stream",
       "stream": "stdout",
       "text": [
        " 65.0  f1- 0.681690140845  f2- 0.770318021201\n",
        "7.9 sec: Precision - 0.70, Recall - 0.59, F_Score - 0.64, max F_Score - 0.71"
       ]
      },
      {
       "output_type": "stream",
       "stream": "stdout",
       "text": [
        "\n",
        "SQLite version: 3.7.13\n",
        "7.8 sec: Precision - 0.75, Recall - 0.71, F_Score - 0.73, max F_Score - 0.77"
       ]
      },
      {
       "output_type": "stream",
       "stream": "stdout",
       "text": [
        "\n",
        "SQLite version: 3.7.13\n",
        "advantage-"
       ]
      },
      {
       "output_type": "stream",
       "stream": "stdout",
       "text": [
        " 70.0  f1- 0.709030100334  f2- 0.768595041322\n",
        "7.9 sec: Precision - 0.70, Recall - 0.58, F_Score - 0.64, max F_Score - 0.70"
       ]
      },
      {
       "output_type": "stream",
       "stream": "stdout",
       "text": [
        "\n",
        "SQLite version: 3.7.13\n",
        "7.9 sec: Precision - 0.76, Recall - 0.69, F_Score - 0.72, max F_Score - 0.77"
       ]
      },
      {
       "output_type": "stream",
       "stream": "stdout",
       "text": [
        "\n",
        "SQLite version: 3.7.13\n",
        "advantage-"
       ]
      },
      {
       "output_type": "stream",
       "stream": "stdout",
       "text": [
        " 75.0  f1- 0.699669966997  f2- 0.765072765073\n",
        "7.9 sec: Precision - 0.71, Recall - 0.55, F_Score - 0.62, max F_Score - 0.69"
       ]
      },
      {
       "output_type": "stream",
       "stream": "stdout",
       "text": [
        "\n",
        "SQLite version: 3.7.13\n",
        "7.9 sec: Precision - 0.75, Recall - 0.68, F_Score - 0.71, max F_Score - 0.76"
       ]
      },
      {
       "output_type": "stream",
       "stream": "stdout",
       "text": [
        "\n",
        "SQLite version: 3.7.13\n",
        "advantage-"
       ]
      },
      {
       "output_type": "stream",
       "stream": "stdout",
       "text": [
        " 80.0  f1- 0.692607003891  f2- 0.764845605701\n",
        "7.9 sec: Precision - 0.71, Recall - 0.56, F_Score - 0.63, max F_Score - 0.67"
       ]
      },
      {
       "output_type": "stream",
       "stream": "stdout",
       "text": [
        "\n",
        "SQLite version: 3.7.13\n",
        "7.8 sec: Precision - 0.75, Recall - 0.68, F_Score - 0.71, max F_Score - 0.77"
       ]
      },
      {
       "output_type": "stream",
       "stream": "stdout",
       "text": [
        "\n",
        "SQLite version: 3.7.13\n",
        "advantage-"
       ]
      },
      {
       "output_type": "stream",
       "stream": "stdout",
       "text": [
        " 85.0  f1- 0.666666666667  f2- 0.769230769231\n",
        "8.0 sec: Precision - 0.69, Recall - 0.53, F_Score - 0.60, max F_Score - 0.67"
       ]
      },
      {
       "output_type": "stream",
       "stream": "stdout",
       "text": [
        "\n",
        "SQLite version: 3.7.13\n",
        "7.8 sec: Precision - 0.74, Recall - 0.66, F_Score - 0.70, max F_Score - 0.75"
       ]
      },
      {
       "output_type": "stream",
       "stream": "stdout",
       "text": [
        "\n",
        "SQLite version: 3.7.13\n",
        "advantage-"
       ]
      },
      {
       "output_type": "stream",
       "stream": "stdout",
       "text": [
        " 90.0  f1- 0.666666666667  f2- 0.747126436782\n",
        "7.9 sec: Precision - 0.71, Recall - 0.50, F_Score - 0.58, max F_Score - 0.69"
       ]
      },
      {
       "output_type": "stream",
       "stream": "stdout",
       "text": [
        "\n",
        "SQLite version: 3.7.13\n",
        "7.8 sec: Precision - 0.75, Recall - 0.67, F_Score - 0.71, max F_Score - 0.75"
       ]
      },
      {
       "output_type": "stream",
       "stream": "stdout",
       "text": [
        "\n",
        "SQLite version: 3.7.13\n",
        "advantage-"
       ]
      },
      {
       "output_type": "stream",
       "stream": "stdout",
       "text": [
        " 95.0  f1- 0.69298245614  f2- 0.748691099476\n",
        "7.9 sec: Precision - 0.69, Recall - 0.48, F_Score - 0.56, max F_Score - 0.64"
       ]
      },
      {
       "output_type": "stream",
       "stream": "stdout",
       "text": [
        "\n",
        "SQLite version: 3.7.13\n",
        "7.9 sec: Precision - 0.74, Recall - 0.65, F_Score - 0.69, max F_Score - 0.74"
       ]
      },
      {
       "output_type": "stream",
       "stream": "stdout",
       "text": [
        "\n",
        "SQLite version: 3.7.13\n",
        "advantage-"
       ]
      },
      {
       "output_type": "stream",
       "stream": "stdout",
       "text": [
        " 100.0  f1- 0.639175257732  f2- 0.743169398907\n"
       ]
      }
     ],
     "prompt_number": 63
    },
    {
     "cell_type": "code",
     "collapsed": false,
     "input": [
      "reload(mio)\n",
      "mio.TestData2Sql(1, X_pos,ypln_pos,db)\n",
      "mio.TestData2Sql(-1, X_neg,ypln_neg,db)"
     ],
     "language": "python",
     "metadata": {},
     "outputs": [
      {
       "output_type": "stream",
       "stream": "stdout",
       "text": [
        "SQLite version: 3.7.13\n",
        "SQLite version: 3.7.13"
       ]
      },
      {
       "output_type": "stream",
       "stream": "stdout",
       "text": [
        "\n"
       ]
      }
     ],
     "prompt_number": 279
    },
    {
     "cell_type": "code",
     "collapsed": false,
     "input": [],
     "language": "python",
     "metadata": {},
     "outputs": []
    }
   ],
   "metadata": {}
  }
 ]
}